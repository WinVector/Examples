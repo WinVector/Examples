{
 "cells": [
  {
   "cell_type": "markdown",
   "id": "fc25fd62",
   "metadata": {},
   "source": [
    "In a recent storm our neighbor's cable connection partially unspooled and became a potential hazard as it then hung too low over the road. Our neighbor was able to promptly pull the cable back up by pulling cable off and re-spooling it on their end of the connection.\n",
    "\n",
    "This got me to thinking: for a cable strung between two points of equal height what shape should one pull the cable to, so as to minimize tension on the endpoints? Should the cable droop a lot or seem to be nearly flat?\n",
    "\n",
    "The idea is: assume we have two endpoints at the same height over an infinite chasm. The force/tension down on each endpoint is going to be one half the total weight of the cable. So we can increase downward force down by adding in more cable (making the whole system droopier) and decrease the downward force by pulling the cable until nearly horizontal (decreasing the total weight of the system). However the horizontal component of tension is going to be proportional to the \"run / rise\" of the cable angle at the endpoint (or `-1/slope`). This is because that is the force required to hold the flexible cable at the observed angle. If we did try to pull the cable horizontal, we would induce arbitrarily large horizontal forces. To limit tension we have to let the cable sag or droop trading off vertical and horizontal tensions\n",
    "\n",
    "The question is: what is the optimal shape? Does the optimal (lowest total tension at attachment points) configuration look droopy or not? This is a basic physics or engineering question.\n",
    "\n",
    "As a fun exercise, I would like to show how to try to solve such a problem using `sympy` in Python. Forgive me if I make a physics or engineering blunder, but this seems like something once can calculate with just a touch of calculus."
   ]
  },
  {
   "cell_type": "markdown",
   "id": "878ad5c6",
   "metadata": {},
   "source": [
    "Our goal is to work out at what tension does a hanging non-elastic cable of uniform density exhibit the least tension on its endpoints.\n",
    "\n",
    "First we take the standard fact that a free hanging non-elastic cable of uniform weight hangs in a shape called a [catenary](https://en.wikipedia.org/wiki/Catenary) arc. That is the height `y` is of the form `y(x) = a * cosh(x / a) - c` for some `a`, `c`.\n",
    "\n",
    "Let's define our problem as hanging a cable between the horizontal points `(x, y) = (-1, 0)` and `(x, y) = (1, 0)`. In this formulation we have `y(-1) = y(1) = 0`, so `y(x) = a * cosh(x / a) - a * cosh(1 / a)`.\n",
    "\n",
    "What we want to know is:\n",
    "\n",
    "  * For a given `a`, the total length of cable hanging. The weight is proportional to this quantity.\n",
    "  * For a given `a`, the angle cable is hanging at the attachment points. The direction gives the ratio of vertical tension `v` (equal to half the total weight of the cable at each endpoint) and the horizontal tension `h`. Knowing these two tensions gives us the total tension as `t = sqrt(h**2 + v**2)`.\n",
    "\n",
    "It is then a matter of finding an `a` that minimizes `t`.\n",
    "\n",
    "Let's work through this using sympy."
   ]
  },
  {
   "cell_type": "code",
   "execution_count": 1,
   "id": "25555cc9",
   "metadata": {
    "collapsed": false,
    "jupyter": {
     "outputs_hidden": false
    },
    "pycharm": {
     "name": "#%%\n"
    }
   },
   "outputs": [],
   "source": [
    "# import our packages\n",
    "from sympy import *\n",
    "from sympy.solvers import solve, nsolve\n",
    "import numpy\n",
    "import pandas\n",
    "import matplotlib.pyplot\n",
    "import seaborn"
   ]
  },
  {
   "cell_type": "code",
   "execution_count": 2,
   "id": "6635102b",
   "metadata": {
    "collapsed": false,
    "jupyter": {
     "outputs_hidden": false
    },
    "pycharm": {
     "name": "#%%\n"
    }
   },
   "outputs": [],
   "source": [
    "init_printing(use_unicode=True)"
   ]
  },
  {
   "cell_type": "code",
   "execution_count": 3,
   "id": "061c0f6d",
   "metadata": {
    "collapsed": false,
    "jupyter": {
     "outputs_hidden": false
    },
    "pycharm": {
     "name": "#%%\n"
    }
   },
   "outputs": [],
   "source": [
    "# define our free symbols\n",
    "a, x = symbols('a x')"
   ]
  },
  {
   "cell_type": "code",
   "execution_count": 4,
   "id": "01e05f44",
   "metadata": {
    "collapsed": false,
    "jupyter": {
     "outputs_hidden": false
    },
    "pycharm": {
     "name": "#%%\n"
    }
   },
   "outputs": [],
   "source": [
    "%%capture\n",
    "# print once to capture ugly printing system start up messages\n",
    "a"
   ]
  },
  {
   "cell_type": "markdown",
   "id": "d1ac468c",
   "metadata": {},
   "source": [
    "Now we define `y` as a function of `x`"
   ]
  },
  {
   "cell_type": "code",
   "execution_count": 5,
   "id": "e39e546a",
   "metadata": {
    "collapsed": false,
    "jupyter": {
     "outputs_hidden": false
    },
    "pycharm": {
     "name": "#%%\n"
    }
   },
   "outputs": [
    {
     "data": {
      "image/png": "[encoded data removed]",
      "text/latex": [
       "$\\displaystyle - a \\cosh{\\left(\\frac{1}{a} \\right)} + a \\cosh{\\left(\\frac{x}{a} \\right)}$"
      ],
      "text/plain": [
       "        ⎛1⎞         ⎛x⎞\n",
       "- a⋅cosh⎜─⎟ + a⋅cosh⎜─⎟\n",
       "        ⎝a⎠         ⎝a⎠"
      ]
     },
     "execution_count": 5,
     "metadata": {},
     "output_type": "execute_result"
    }
   ],
   "source": [
    "y = a * cosh(x / a) - a * cosh(1 / a)\n",
    "\n",
    "y"
   ]
  },
  {
   "cell_type": "markdown",
   "id": "5b12501b",
   "metadata": {},
   "source": [
    "We confirm `y` hits our endpoints."
   ]
  },
  {
   "cell_type": "code",
   "execution_count": 6,
   "id": "4bedfb97",
   "metadata": {
    "collapsed": false,
    "jupyter": {
     "outputs_hidden": false
    },
    "pycharm": {
     "name": "#%%\n"
    }
   },
   "outputs": [
    {
     "data": {
      "image/png": "[encoded data removed]",
      "text/latex": [
       "$\\displaystyle 0$"
      ],
      "text/plain": [
       "0"
      ]
     },
     "execution_count": 6,
     "metadata": {},
     "output_type": "execute_result"
    }
   ],
   "source": [
    "y.subs(x, -1)"
   ]
  },
  {
   "cell_type": "code",
   "execution_count": 7,
   "id": "ab4607ed",
   "metadata": {
    "collapsed": false,
    "jupyter": {
     "outputs_hidden": false
    },
    "pycharm": {
     "name": "#%%\n"
    }
   },
   "outputs": [
    {
     "data": {
      "image/png": "[encoded data removed]",
      "text/latex": [
       "$\\displaystyle 0$"
      ],
      "text/plain": [
       "0"
      ]
     },
     "execution_count": 7,
     "metadata": {},
     "output_type": "execute_result"
    }
   ],
   "source": [
    "y.subs(x, 1)"
   ]
  },
  {
   "cell_type": "markdown",
   "id": "cf7f4088-3fb0-464e-99af-32d138b0e75e",
   "metadata": {},
   "source": [
    "And also that the cable dips under the starting `0`-level."
   ]
  },
  {
   "cell_type": "code",
   "execution_count": 8,
   "id": "7dc9daf7-b08d-498d-90a7-993a677de06f",
   "metadata": {},
   "outputs": [
    {
     "data": {
      "image/png": "[encoded data removed]",
      "text/latex": [
       "$\\displaystyle - a \\cosh{\\left(\\frac{1}{a} \\right)} + a$"
      ],
      "text/plain": [
       "        ⎛1⎞    \n",
       "- a⋅cosh⎜─⎟ + a\n",
       "        ⎝a⎠    "
      ]
     },
     "execution_count": 8,
     "metadata": {},
     "output_type": "execute_result"
    }
   ],
   "source": [
    "y.subs(x, 0)"
   ]
  },
  {
   "cell_type": "markdown",
   "id": "8224c145-02ad-44d7-9b7c-280388f00406",
   "metadata": {},
   "source": [
    "For positive `a`, the above is going negative exactly when `cosh(1/a) > 1`. As `cosh(x) = (exp(x) + exp(-x)) / 2` this is indeed true for all positive `a`."
   ]
  },
  {
   "cell_type": "markdown",
   "id": "0749a72d",
   "metadata": {},
   "source": [
    "To get the arc length we need to integrate `sqrt((dx/dx)**2 + (dy/dx)**2)` from `x = -1, ... 1`."
   ]
  },
  {
   "cell_type": "code",
   "execution_count": 9,
   "id": "25d84f1b",
   "metadata": {
    "collapsed": false,
    "jupyter": {
     "outputs_hidden": false
    },
    "pycharm": {
     "name": "#%%\n"
    }
   },
   "outputs": [
    {
     "data": {
      "image/png": "[encoded data removed]",
      "text/latex": [
       "$\\displaystyle \\sinh{\\left(\\frac{x}{a} \\right)}$"
      ],
      "text/plain": [
       "    ⎛x⎞\n",
       "sinh⎜─⎟\n",
       "    ⎝a⎠"
      ]
     },
     "execution_count": 9,
     "metadata": {},
     "output_type": "execute_result"
    }
   ],
   "source": [
    "dydx = diff(y, x)\n",
    "\n",
    "dydx"
   ]
  },
  {
   "cell_type": "code",
   "execution_count": 10,
   "id": "4e91f2c1",
   "metadata": {
    "collapsed": false,
    "jupyter": {
     "outputs_hidden": false
    },
    "pycharm": {
     "name": "#%%\n"
    }
   },
   "outputs": [
    {
     "data": {
      "image/png": "[encoded data removed]",
      "text/latex": [
       "$\\displaystyle \\sqrt{\\sinh^{2}{\\left(\\frac{x}{a} \\right)} + 1}$"
      ],
      "text/plain": [
       "    ______________\n",
       "   ╱     2⎛x⎞     \n",
       "  ╱  sinh ⎜─⎟ + 1 \n",
       "╲╱        ⎝a⎠     "
      ]
     },
     "execution_count": 10,
     "metadata": {},
     "output_type": "execute_result"
    }
   ],
   "source": [
    "arc_term = sqrt(1 + dydx**2)\n",
    "\n",
    "arc_term"
   ]
  },
  {
   "cell_type": "markdown",
   "id": "ac180ad2",
   "metadata": {},
   "source": [
    "At first glance `sympy` won't solve this definite integral for us."
   ]
  },
  {
   "cell_type": "code",
   "execution_count": 11,
   "id": "93850d5e",
   "metadata": {
    "collapsed": false,
    "jupyter": {
     "outputs_hidden": false
    },
    "pycharm": {
     "name": "#%%\n"
    }
   },
   "outputs": [
    {
     "data": {
      "image/png": "[encoded data removed]",
      "text/latex": [
       "$\\displaystyle \\int\\limits_{-1}^{1} \\sqrt{\\sinh^{2}{\\left(\\frac{x}{a} \\right)} + 1}\\, dx$"
      ],
      "text/plain": [
       "1                       \n",
       "⌠                       \n",
       "⎮      ______________   \n",
       "⎮     ╱     2⎛x⎞        \n",
       "⎮    ╱  sinh ⎜─⎟ + 1  dx\n",
       "⎮  ╲╱        ⎝a⎠        \n",
       "⌡                       \n",
       "-1                      "
      ]
     },
     "execution_count": 11,
     "metadata": {},
     "output_type": "execute_result"
    }
   ],
   "source": [
    "integrate(arc_term, (x, -1, 1))"
   ]
  },
  {
   "cell_type": "markdown",
   "id": "1ec30f25",
   "metadata": {},
   "source": [
    "To solve this we use the standard hyperbolic identity: `cosh**2 - sinh**2 = 1` (for a video on this: https://youtu.be/mnBLG_D1nHg ). This simplifies to a new `arc_term2 = cosh(x / a)`."
   ]
  },
  {
   "cell_type": "code",
   "execution_count": 12,
   "id": "30d868c5",
   "metadata": {
    "collapsed": false,
    "jupyter": {
     "outputs_hidden": false
    },
    "pycharm": {
     "name": "#%%\n"
    }
   },
   "outputs": [
    {
     "data": {
      "image/png": "[encoded data removed]",
      "text/latex": [
       "$\\displaystyle \\cosh{\\left(\\frac{x}{a} \\right)}$"
      ],
      "text/plain": [
       "    ⎛x⎞\n",
       "cosh⎜─⎟\n",
       "    ⎝a⎠"
      ]
     },
     "execution_count": 12,
     "metadata": {},
     "output_type": "execute_result"
    }
   ],
   "source": [
    "arc_term2 = cosh(x / a)\n",
    "\n",
    "arc_term2"
   ]
  },
  {
   "cell_type": "markdown",
   "id": "a23e2b1d",
   "metadata": {},
   "source": [
    "We can confirm the squares of these two terms are in fact identical."
   ]
  },
  {
   "cell_type": "code",
   "execution_count": 13,
   "id": "11a729c0",
   "metadata": {
    "collapsed": false,
    "jupyter": {
     "outputs_hidden": false
    },
    "pycharm": {
     "name": "#%%\n"
    }
   },
   "outputs": [
    {
     "data": {
      "image/png": "[encoded data removed]",
      "text/latex": [
       "$\\displaystyle 0$"
      ],
      "text/plain": [
       "0"
      ]
     },
     "execution_count": 13,
     "metadata": {},
     "output_type": "execute_result"
    }
   ],
   "source": [
    "simplify(arc_term**2 - arc_term2**2)"
   ]
  },
  {
   "cell_type": "markdown",
   "id": "011fbe30",
   "metadata": {},
   "source": [
    "Now we go back to computing the arc length."
   ]
  },
  {
   "cell_type": "code",
   "execution_count": 14,
   "id": "e744546f",
   "metadata": {
    "collapsed": false,
    "jupyter": {
     "outputs_hidden": false
    },
    "pycharm": {
     "name": "#%%\n"
    }
   },
   "outputs": [
    {
     "data": {
      "image/png": "[encoded data removed]",
      "text/latex": [
       "$\\displaystyle 2 a \\sinh{\\left(\\frac{1}{a} \\right)}$"
      ],
      "text/plain": [
       "        ⎛1⎞\n",
       "2⋅a⋅sinh⎜─⎟\n",
       "        ⎝a⎠"
      ]
     },
     "execution_count": 14,
     "metadata": {},
     "output_type": "execute_result"
    }
   ],
   "source": [
    "arc_length = integrate(arc_term2, (x, -1, 1))\n",
    "\n",
    "arc_length"
   ]
  },
  {
   "cell_type": "markdown",
   "id": "fcd98255",
   "metadata": {},
   "source": [
    "We also need the fall rate or slope at the endpoints, that is for a small unit of change in `x`, what is the change in `y`. That is just `dydx` evaluated at `x = -1`."
   ]
  },
  {
   "cell_type": "code",
   "execution_count": 15,
   "id": "afba2b56",
   "metadata": {
    "collapsed": false,
    "jupyter": {
     "outputs_hidden": false
    },
    "pycharm": {
     "name": "#%%\n"
    }
   },
   "outputs": [
    {
     "data": {
      "image/png": "[encoded data removed]",
      "text/latex": [
       "$\\displaystyle - \\sinh{\\left(\\frac{1}{a} \\right)}$"
      ],
      "text/plain": [
       "     ⎛1⎞\n",
       "-sinh⎜─⎟\n",
       "     ⎝a⎠"
      ]
     },
     "execution_count": 15,
     "metadata": {},
     "output_type": "execute_result"
    }
   ],
   "source": [
    "fall_rate = dydx.subs(x, -1)\n",
    "\n",
    "fall_rate"
   ]
  },
  {
   "cell_type": "markdown",
   "id": "20d97d70-5c54-4d6d-87af-44f61e197455",
   "metadata": {},
   "source": [
    "Normalizing the vector `(1, fall_rate)` to be unit 2-norm gives us a vector representing \n",
    "the angle of the cable at the attachment point."
   ]
  },
  {
   "cell_type": "markdown",
   "id": "0718b54b",
   "metadata": {},
   "source": [
    "We normalize the change in `x` and change in `y` to be norm-1, so it represents an angle."
   ]
  },
  {
   "cell_type": "markdown",
   "id": "3955aa96-2183-405c-a49c-42feadb8af6b",
   "metadata": {},
   "source": [
    "We repeat the trick of replacing `sinh**2 + 1` with `cosh**2` to get:"
   ]
  },
  {
   "cell_type": "code",
   "execution_count": 16,
   "id": "6349d728",
   "metadata": {
    "collapsed": false,
    "jupyter": {
     "outputs_hidden": false
    },
    "pycharm": {
     "name": "#%%\n"
    }
   },
   "outputs": [
    {
     "data": {
      "image/png": "[encoded data removed]",
      "text/latex": [
       "$\\displaystyle \\left( \\frac{1}{\\sqrt{\\sinh^{2}{\\left(\\frac{1}{a} \\right)} + 1}}, \\  - \\frac{\\sinh{\\left(\\frac{1}{a} \\right)}}{\\sqrt{\\sinh^{2}{\\left(\\frac{1}{a} \\right)} + 1}}\\right)$"
      ],
      "text/plain": [
       "⎛                             ⎛1⎞      ⎞\n",
       "⎜                        -sinh⎜─⎟      ⎟\n",
       "⎜        1                    ⎝a⎠      ⎟\n",
       "⎜──────────────────, ──────────────────⎟\n",
       "⎜    ______________      ______________⎟\n",
       "⎜   ╱     2⎛1⎞          ╱     2⎛1⎞     ⎟\n",
       "⎜  ╱  sinh ⎜─⎟ + 1     ╱  sinh ⎜─⎟ + 1 ⎟\n",
       "⎝╲╱        ⎝a⎠       ╲╱        ⎝a⎠     ⎠"
      ]
     },
     "execution_count": 16,
     "metadata": {},
     "output_type": "execute_result"
    }
   ],
   "source": [
    "angle_vector = (1 / sqrt(1**2 + fall_rate**2), fall_rate / sqrt(1**2 + fall_rate**2))\n",
    "\n",
    "angle_vector"
   ]
  },
  {
   "cell_type": "markdown",
   "id": "9519e97d",
   "metadata": {},
   "source": [
    "Again, the `sinh**2 + 1` can be more neatly written as `cosh**2`."
   ]
  },
  {
   "cell_type": "markdown",
   "id": "e1c18016-f924-4564-81ef-59cb00bff06a",
   "metadata": {},
   "source": [
    "Now we know the vertical component of the tension must equal to half of the total weight of the system. We are assuming a constant weight per unit wire, so we can ignore scaling and assume the total weight of the system is `arc_length`. So we must have `(1/2) arc_length = - angle_vector[1] * total_tension`. Solving for `total_tension` gives us:"
   ]
  },
  {
   "cell_type": "code",
   "execution_count": 19,
   "id": "957d73b7-fb1a-470c-ae2e-1a15bf8916bb",
   "metadata": {},
   "outputs": [
    {
     "data": {
      "image/png": "[encoded data removed]",
      "text/latex": [
       "$\\displaystyle 1.0 a \\cosh{\\left(\\frac{1}{a} \\right)}$"
      ],
      "text/plain": [
       "          ⎛1⎞\n",
       "1.0⋅a⋅cosh⎜─⎟\n",
       "          ⎝a⎠"
      ]
     },
     "execution_count": 19,
     "metadata": {},
     "output_type": "execute_result"
    }
   ],
   "source": [
    "total_tension = - (1/2) * arc_length / angle_vector[1]\n",
    "\n",
    "total_tension"
   ]
  },
  {
   "cell_type": "code",
   "execution_count": null,
   "id": "36a895e8",
   "metadata": {
    "collapsed": false,
    "jupyter": {
     "outputs_hidden": false
    },
    "pycharm": {
     "name": "#%%\n"
    }
   },
   "outputs": [],
   "source": []
  },
  {
   "cell_type": "markdown",
   "id": "7d5e07c0",
   "metadata": {},
   "source": [
    "So, for a given `a` the total system weighs `arc_length` units. Thus we want an `a` minimizing the `total_tension`. Such an extreme is either going to happen at our endpoints (`a` zero or positive infinity) or at a place where the derivative is zero. Let's take a look at where the derivative is zero."
   ]
  },
  {
   "cell_type": "code",
   "execution_count": 20,
   "id": "52b67710",
   "metadata": {
    "collapsed": false,
    "jupyter": {
     "outputs_hidden": false
    },
    "pycharm": {
     "name": "#%%\n"
    }
   },
   "outputs": [
    {
     "data": {
      "image/png": "[encoded data removed]",
      "text/latex": [
       "$\\displaystyle 1.0 \\cosh{\\left(\\frac{1}{a} \\right)} - \\frac{1.0 \\sinh{\\left(\\frac{1}{a} \\right)}}{a}$"
      ],
      "text/plain": [
       "                  ⎛1⎞\n",
       "              sinh⎜─⎟\n",
       "        ⎛1⎞       ⎝a⎠\n",
       "1.0⋅cosh⎜─⎟ - ───────\n",
       "        ⎝a⎠      a   "
      ]
     },
     "execution_count": 20,
     "metadata": {},
     "output_type": "execute_result"
    }
   ],
   "source": [
    "deriv = diff(total_tension, a)\n",
    "\n",
    "deriv"
   ]
  },
  {
   "cell_type": "markdown",
   "id": "b55a455d",
   "metadata": {},
   "source": [
    "Now we solve for an `a` that takes this derivative to zero."
   ]
  },
  {
   "cell_type": "code",
   "execution_count": 21,
   "id": "64c51a04",
   "metadata": {
    "collapsed": false,
    "jupyter": {
     "outputs_hidden": false
    },
    "pycharm": {
     "name": "#%%\n"
    }
   },
   "outputs": [
    {
     "data": {
      "image/png": "[encoded data removed]",
      "text/latex": [
       "$\\displaystyle 0.833556559600965$"
      ],
      "text/plain": [
       "0.833556559600965"
      ]
     },
     "execution_count": 21,
     "metadata": {},
     "output_type": "execute_result"
    }
   ],
   "source": [
    "soln_a = nsolve((deriv, ), (a, ), (1.0, ))[0]\n",
    "\n",
    "soln_a"
   ]
  },
  {
   "cell_type": "markdown",
   "id": "c6aebf4c",
   "metadata": {},
   "source": [
    "And we then plug that `a` into our angle vector to get the vector representing the angle that minimizes tension at the endpoints."
   ]
  },
  {
   "cell_type": "code",
   "execution_count": 22,
   "id": "bc30729b",
   "metadata": {
    "collapsed": false,
    "jupyter": {
     "outputs_hidden": false
    },
    "pycharm": {
     "name": "#%%\n"
    }
   },
   "outputs": [
    {
     "data": {
      "image/png": "[encoded data removed]",
      "text/latex": [
       "$\\displaystyle \\left( 0.552434124530883, \\  -0.833556559600965\\right)$"
      ],
      "text/plain": [
       "(0.552434124530883, -0.833556559600965)"
      ]
     },
     "execution_count": 22,
     "metadata": {},
     "output_type": "execute_result"
    }
   ],
   "source": [
    "soln_vector = (angle_vector[0].subs(a, soln_a), angle_vector[1].subs(a, soln_a))\n",
    "\n",
    "soln_vector"
   ]
  },
  {
   "cell_type": "markdown",
   "id": "5f113216",
   "metadata": {},
   "source": [
    "This means the tension is minimized when the fall/run (or -slope) at the endpoint is about `0.833 / 0.552` (approximately `1.5` to `1`). Or visually, the cable should look fairly slack. The angle in degrees of the cable at the left attachment point is given by:"
   ]
  },
  {
   "cell_type": "code",
   "execution_count": 23,
   "id": "c1eb54fd",
   "metadata": {
    "collapsed": false,
    "jupyter": {
     "outputs_hidden": false
    },
    "pycharm": {
     "name": "#%%\n"
    }
   },
   "outputs": [
    {
     "data": {
      "image/png": "[encoded data removed]",
      "text/latex": [
       "$\\displaystyle -56.4658351274523$"
      ],
      "text/plain": [
       "-56.4658351274523"
      ]
     },
     "execution_count": 23,
     "metadata": {},
     "output_type": "execute_result"
    }
   ],
   "source": [
    "attachment_angle = 360 * atan2(soln_vector[1], soln_vector[0]) / (2 * N(pi))\n",
    "\n",
    "attachment_angle"
   ]
  },
  {
   "cell_type": "markdown",
   "id": "bc4c0320",
   "metadata": {},
   "source": [
    "So the least tension solution is about `-56` degrees (not `-45` degrees, and definitely not flat- where we would experience infinite horizontal tension).\n",
    "\n",
    "Let's take a look at the optimal solution."
   ]
  },
  {
   "cell_type": "code",
   "execution_count": 24,
   "id": "a4966d93",
   "metadata": {
    "collapsed": false,
    "jupyter": {
     "outputs_hidden": false
    },
    "pycharm": {
     "name": "#%%\n"
    }
   },
   "outputs": [
    {
     "data": {
      "image/png": "[encoded data removed]",
      "text/latex": [
       "$\\displaystyle 0.833556559600965 \\cosh{\\left(1.19967864025773 x \\right)} - 1.50887956153832$"
      ],
      "text/plain": [
       "0.833556559600965⋅cosh(1.19967864025773⋅x) - 1.50887956153832"
      ]
     },
     "execution_count": 24,
     "metadata": {},
     "output_type": "execute_result"
    }
   ],
   "source": [
    "opt_curve = y.subs(a, soln_a)\n",
    "\n",
    "opt_curve"
   ]
  },
  {
   "cell_type": "code",
   "execution_count": 25,
   "id": "2526d019-d7ee-4fb5-a7d5-a3da0ee752f9",
   "metadata": {},
   "outputs": [],
   "source": [
    "plot_frame = pandas.DataFrame({\n",
    "    'x': numpy.linspace(\n",
    "        start=-1, \n",
    "        stop=1, \n",
    "        endpoint=True, \n",
    "        num=1000),\n",
    "})"
   ]
  },
  {
   "cell_type": "code",
   "execution_count": 26,
   "id": "db5f3f66-8539-42bd-aa70-501df0af3077",
   "metadata": {},
   "outputs": [
    {
     "data": {
      "image/png": "[encoded data removed]",
      "text/latex": [
       "$\\displaystyle -0.675323001937355$"
      ],
      "text/plain": [
       "-0.6753230019373552"
      ]
     },
     "execution_count": 26,
     "metadata": {},
     "output_type": "execute_result"
    }
   ],
   "source": [
    "# lowest point\n",
    "lowest_point = float(opt_curve.subs(x, 0))\n",
    "\n",
    "lowest_point"
   ]
  },
  {
   "cell_type": "code",
   "execution_count": 27,
   "id": "18fc465a-e401-469c-b6f6-bfe38e951008",
   "metadata": {},
   "outputs": [],
   "source": [
    "plot_frame['y'] = [\n",
    "    float(opt_curve.subs(x, xv)) for xv in plot_frame['x']]"
   ]
  },
  {
   "cell_type": "code",
   "execution_count": 28,
   "id": "064f2623-95ca-45b6-9f09-2947c7665903",
   "metadata": {},
   "outputs": [
    {
     "data": {
      "image/png": "[encoded data removed]",
      "text/plain": [
       "<Figure size 432x288 with 1 Axes>"
      ]
     },
     "metadata": {
      "needs_background": "light"
     },
     "output_type": "display_data"
    }
   ],
   "source": [
    "ax = seaborn.lineplot(\n",
    "    data=plot_frame,\n",
    "    x='x',\n",
    "    y='y',\n",
    "    color='#e41a1c',\n",
    "    linewidth=2.0,\n",
    ")\n",
    "ax.set(ylim=(-1, 1))\n",
    "ax.set(xlim=(-1, 1))\n",
    "ax.set_box_aspect(1)\n",
    "seaborn.scatterplot(\n",
    "    x=[-1, 1],\n",
    "    y=[0, 0],\n",
    "    s=500.0,\n",
    "    color='#377eb8',\n",
    "    alpha=0.75,\n",
    ")\n",
    "seaborn.lineplot(\n",
    "    x=[-1, 1],\n",
    "    y=[0, 0],\n",
    "    color='darkgrey',\n",
    "    alpha=0.5,\n",
    ")\n",
    "seaborn.lineplot(\n",
    "    x=[-1, 1],\n",
    "    y=[lowest_point, lowest_point],\n",
    "    color='darkgrey',\n",
    "    alpha=0.5,\n",
    ")\n",
    "attachment_angle_string = '{0:.2g}'.format(abs(attachment_angle))\n",
    "matplotlib.pyplot.suptitle(\n",
    "    'Shape of lowest end-tension hanging cable')\n",
    "_ = matplotlib.pyplot.title(\n",
    "    f'(attachment angles: {attachment_angle_string} degrees off horizontal)')"
   ]
  },
  {
   "cell_type": "markdown",
   "id": "d3816ebd-5517-4793-b37e-16889e74a273",
   "metadata": {},
   "source": [
    "And that is what a minimum tension hanging cable path should look like. On our street, a truck would drive right into that. Fortunately our neighbor did not get distracted by the the math, and thought to pull the cable much tauter than that."
   ]
  },
  {
   "cell_type": "code",
   "execution_count": null,
   "id": "ef111df3-c6cf-455c-b409-5943f505960e",
   "metadata": {},
   "outputs": [],
   "source": []
  }
 ],
 "metadata": {
  "kernelspec": {
   "display_name": "Python 3 (ipykernel)",
   "language": "python",
   "name": "python3"
  },
  "language_info": {
   "codemirror_mode": {
    "name": "ipython",
    "version": 3
   },
   "file_extension": ".py",
   "mimetype": "text/x-python",
   "name": "python",
   "nbconvert_exporter": "python",
   "pygments_lexer": "ipython3",
   "version": "3.9.7"
  }
 },
 "nbformat": 4,
 "nbformat_minor": 5
}
