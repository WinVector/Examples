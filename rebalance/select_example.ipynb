{
 "cells": [
  {
   "cell_type": "markdown",
   "metadata": {},
   "source": [
    "Example of post selection issue."
   ]
  },
  {
   "cell_type": "code",
   "execution_count": 1,
   "metadata": {},
   "outputs": [],
   "source": [
    "# set up Python\n",
    "import logging\n",
    "\n",
    "import numpy as np\n",
    "import pandas as pd\n",
    "from sklearn.linear_model import LinearRegression, LogisticRegression\n",
    "from sklearn.ensemble import RandomForestClassifier\n",
    "from scipy.stats import spearmanr\n",
    "from cmdstanpy import CmdStanModel\n",
    "from wvu.util import plot_roc, threshold_plot\n",
    "from plotnine import *\n",
    "from modeling_fns import (\n",
    "    powerset,\n",
    ")\n",
    "\n",
    "# quiet down Stan\n",
    "logger = logging.getLogger(\"cmdstanpy\")\n",
    "logger.addHandler(logging.NullHandler())"
   ]
  },
  {
   "cell_type": "code",
   "execution_count": 2,
   "metadata": {},
   "outputs": [],
   "source": [
    "rng = np.random.default_rng(2024)"
   ]
  },
  {
   "cell_type": "code",
   "execution_count": 3,
   "metadata": {},
   "outputs": [
    {
     "data": {
      "text/html": [
       "<div>\n",
       "<style scoped>\n",
       "    .dataframe tbody tr th:only-of-type {\n",
       "        vertical-align: middle;\n",
       "    }\n",
       "\n",
       "    .dataframe tbody tr th {\n",
       "        vertical-align: top;\n",
       "    }\n",
       "\n",
       "    .dataframe thead th {\n",
       "        text-align: right;\n",
       "    }\n",
       "</style>\n",
       "<table border=\"1\" class=\"dataframe\">\n",
       "  <thead>\n",
       "    <tr style=\"text-align: right;\">\n",
       "      <th></th>\n",
       "      <th>x1</th>\n",
       "      <th>x2</th>\n",
       "      <th>y</th>\n",
       "      <th>presentation_group</th>\n",
       "      <th>row_id</th>\n",
       "      <th>sort_order</th>\n",
       "      <th>sampled_positive</th>\n",
       "    </tr>\n",
       "  </thead>\n",
       "  <tbody>\n",
       "    <tr>\n",
       "      <th>0</th>\n",
       "      <td>1.102886</td>\n",
       "      <td>0.183668</td>\n",
       "      <td>1</td>\n",
       "      <td>1</td>\n",
       "      <td>1</td>\n",
       "      <td>-0.393781</td>\n",
       "      <td>False</td>\n",
       "    </tr>\n",
       "    <tr>\n",
       "      <th>1</th>\n",
       "      <td>0.164192</td>\n",
       "      <td>1.074680</td>\n",
       "      <td>1</td>\n",
       "      <td>1</td>\n",
       "      <td>2</td>\n",
       "      <td>-0.708220</td>\n",
       "      <td>True</td>\n",
       "    </tr>\n",
       "    <tr>\n",
       "      <th>2</th>\n",
       "      <td>0.114672</td>\n",
       "      <td>0.991857</td>\n",
       "      <td>1</td>\n",
       "      <td>1</td>\n",
       "      <td>3</td>\n",
       "      <td>-0.708220</td>\n",
       "      <td>False</td>\n",
       "    </tr>\n",
       "    <tr>\n",
       "      <th>3</th>\n",
       "      <td>0.902682</td>\n",
       "      <td>-0.187041</td>\n",
       "      <td>0</td>\n",
       "      <td>1</td>\n",
       "      <td>4</td>\n",
       "      <td>-0.393781</td>\n",
       "      <td>False</td>\n",
       "    </tr>\n",
       "    <tr>\n",
       "      <th>4</th>\n",
       "      <td>-0.139280</td>\n",
       "      <td>-0.052501</td>\n",
       "      <td>0</td>\n",
       "      <td>1</td>\n",
       "      <td>5</td>\n",
       "      <td>-0.364389</td>\n",
       "      <td>False</td>\n",
       "    </tr>\n",
       "    <tr>\n",
       "      <th>5</th>\n",
       "      <td>0.006720</td>\n",
       "      <td>0.839135</td>\n",
       "      <td>1</td>\n",
       "      <td>2</td>\n",
       "      <td>6</td>\n",
       "      <td>-0.708220</td>\n",
       "      <td>True</td>\n",
       "    </tr>\n",
       "    <tr>\n",
       "      <th>6</th>\n",
       "      <td>1.086135</td>\n",
       "      <td>1.035235</td>\n",
       "      <td>0</td>\n",
       "      <td>2</td>\n",
       "      <td>7</td>\n",
       "      <td>-0.733347</td>\n",
       "      <td>False</td>\n",
       "    </tr>\n",
       "    <tr>\n",
       "      <th>7</th>\n",
       "      <td>0.050919</td>\n",
       "      <td>1.065042</td>\n",
       "      <td>1</td>\n",
       "      <td>2</td>\n",
       "      <td>8</td>\n",
       "      <td>-0.708220</td>\n",
       "      <td>False</td>\n",
       "    </tr>\n",
       "    <tr>\n",
       "      <th>8</th>\n",
       "      <td>0.181029</td>\n",
       "      <td>0.005573</td>\n",
       "      <td>0</td>\n",
       "      <td>2</td>\n",
       "      <td>9</td>\n",
       "      <td>-0.364389</td>\n",
       "      <td>False</td>\n",
       "    </tr>\n",
       "    <tr>\n",
       "      <th>9</th>\n",
       "      <td>0.075084</td>\n",
       "      <td>0.152053</td>\n",
       "      <td>0</td>\n",
       "      <td>2</td>\n",
       "      <td>10</td>\n",
       "      <td>-0.364389</td>\n",
       "      <td>False</td>\n",
       "    </tr>\n",
       "  </tbody>\n",
       "</table>\n",
       "</div>"
      ],
      "text/plain": [
       "         x1        x2  y  presentation_group  row_id  sort_order  \\\n",
       "0  1.102886  0.183668  1                   1       1   -0.393781   \n",
       "1  0.164192  1.074680  1                   1       2   -0.708220   \n",
       "2  0.114672  0.991857  1                   1       3   -0.708220   \n",
       "3  0.902682 -0.187041  0                   1       4   -0.393781   \n",
       "4 -0.139280 -0.052501  0                   1       5   -0.364389   \n",
       "5  0.006720  0.839135  1                   2       6   -0.708220   \n",
       "6  1.086135  1.035235  0                   2       7   -0.733347   \n",
       "7  0.050919  1.065042  1                   2       8   -0.708220   \n",
       "8  0.181029  0.005573  0                   2       9   -0.364389   \n",
       "9  0.075084  0.152053  0                   2      10   -0.364389   \n",
       "\n",
       "   sampled_positive  \n",
       "0             False  \n",
       "1              True  \n",
       "2             False  \n",
       "3             False  \n",
       "4             False  \n",
       "5              True  \n",
       "6             False  \n",
       "7             False  \n",
       "8             False  \n",
       "9             False  "
      ]
     },
     "execution_count": 3,
     "metadata": {},
     "output_type": "execute_result"
    }
   ],
   "source": [
    "d = pd.read_csv(\"d_large.csv\")\n",
    "for c in ['x1', 'x2']:\n",
    "    d[c] = d[c] + rng.normal(size=d.shape[0], scale=0.1)\n",
    "\n",
    "d.head(10)"
   ]
  },
  {
   "cell_type": "code",
   "execution_count": 4,
   "metadata": {},
   "outputs": [
    {
     "data": {
      "text/plain": [
       "(1000000, 7)"
      ]
     },
     "execution_count": 4,
     "metadata": {},
     "output_type": "execute_result"
    }
   ],
   "source": [
    "d.shape"
   ]
  },
  {
   "cell_type": "code",
   "execution_count": 5,
   "metadata": {},
   "outputs": [],
   "source": [
    "d_sampled = d.reset_index(drop=True, inplace=False)   # copy\n",
    "d_sampled.loc[d_sampled['sampled_positive'] == False, 'y'] = 0\n",
    "# d_sampled = d.loc[(d['sampled_positive'] == True) | (d['y'] == 0), :].reset_index(drop=True, inplace=False) "
   ]
  },
  {
   "cell_type": "code",
   "execution_count": null,
   "metadata": {},
   "outputs": [],
   "source": []
  },
  {
   "cell_type": "markdown",
   "metadata": {},
   "source": [
    "Simple model on all selections."
   ]
  },
  {
   "cell_type": "code",
   "execution_count": 6,
   "metadata": {},
   "outputs": [
    {
     "data": {
      "text/plain": [
       "(-0.5164215649414858, array([0.09336111, 1.3728617 ]))"
      ]
     },
     "execution_count": 6,
     "metadata": {},
     "output_type": "execute_result"
    }
   ],
   "source": [
    "model_all = LogisticRegression()\n",
    "model_all.fit(d.loc[:, ['x1', 'x2']], d['y'])\n",
    "d['logistic_all_predict'] = model_all.predict_proba(d.loc[:, ['x1', 'x2']])[:, 1]\n",
    "(model_all.intercept_[0], model_all.coef_[0])"
   ]
  },
  {
   "cell_type": "code",
   "execution_count": null,
   "metadata": {},
   "outputs": [],
   "source": []
  },
  {
   "cell_type": "code",
   "execution_count": 7,
   "metadata": {},
   "outputs": [
    {
     "data": {
      "text/plain": [
       "(-1.9764832273897193, array([-1.19022845,  1.99967027]))"
      ]
     },
     "execution_count": 7,
     "metadata": {},
     "output_type": "execute_result"
    }
   ],
   "source": [
    "model_sampled = LogisticRegression()\n",
    "model_sampled.fit(d_sampled.loc[:, ['x1', 'x2']], d_sampled['y'])\n",
    "d['logistic_sample_predict'] = model_sampled.predict_proba(d.loc[:, ['x1', 'x2']])[:, 1]\n",
    "(model_sampled.intercept_[0], model_sampled.coef_[0])"
   ]
  },
  {
   "cell_type": "code",
   "execution_count": 8,
   "metadata": {},
   "outputs": [
    {
     "data": {
      "text/html": [
       "<div>\n",
       "<style scoped>\n",
       "    .dataframe tbody tr th:only-of-type {\n",
       "        vertical-align: middle;\n",
       "    }\n",
       "\n",
       "    .dataframe tbody tr th {\n",
       "        vertical-align: top;\n",
       "    }\n",
       "\n",
       "    .dataframe thead th {\n",
       "        text-align: right;\n",
       "    }\n",
       "</style>\n",
       "<table border=\"1\" class=\"dataframe\">\n",
       "  <thead>\n",
       "    <tr style=\"text-align: right;\">\n",
       "      <th></th>\n",
       "      <th>x1</th>\n",
       "      <th>x2</th>\n",
       "      <th>y</th>\n",
       "      <th>presentation_group</th>\n",
       "      <th>row_id</th>\n",
       "      <th>sort_order</th>\n",
       "      <th>sampled_positive</th>\n",
       "      <th>logistic_all_predict</th>\n",
       "      <th>logistic_sample_predict</th>\n",
       "    </tr>\n",
       "  </thead>\n",
       "  <tbody>\n",
       "    <tr>\n",
       "      <th>0</th>\n",
       "      <td>1.102886</td>\n",
       "      <td>0.183668</td>\n",
       "      <td>1</td>\n",
       "      <td>1</td>\n",
       "      <td>1</td>\n",
       "      <td>-0.393781</td>\n",
       "      <td>False</td>\n",
       "      <td>0.459761</td>\n",
       "      <td>0.051082</td>\n",
       "    </tr>\n",
       "    <tr>\n",
       "      <th>1</th>\n",
       "      <td>0.164192</td>\n",
       "      <td>1.074680</td>\n",
       "      <td>1</td>\n",
       "      <td>1</td>\n",
       "      <td>2</td>\n",
       "      <td>-0.708220</td>\n",
       "      <td>True</td>\n",
       "      <td>0.725975</td>\n",
       "      <td>0.494274</td>\n",
       "    </tr>\n",
       "    <tr>\n",
       "      <th>2</th>\n",
       "      <td>0.114672</td>\n",
       "      <td>0.991857</td>\n",
       "      <td>1</td>\n",
       "      <td>1</td>\n",
       "      <td>3</td>\n",
       "      <td>-0.708220</td>\n",
       "      <td>False</td>\n",
       "      <td>0.701817</td>\n",
       "      <td>0.467650</td>\n",
       "    </tr>\n",
       "    <tr>\n",
       "      <th>3</th>\n",
       "      <td>0.902682</td>\n",
       "      <td>-0.187041</td>\n",
       "      <td>0</td>\n",
       "      <td>1</td>\n",
       "      <td>4</td>\n",
       "      <td>-0.393781</td>\n",
       "      <td>False</td>\n",
       "      <td>0.334272</td>\n",
       "      <td>0.031526</td>\n",
       "    </tr>\n",
       "    <tr>\n",
       "      <th>4</th>\n",
       "      <td>-0.139280</td>\n",
       "      <td>-0.052501</td>\n",
       "      <td>0</td>\n",
       "      <td>1</td>\n",
       "      <td>5</td>\n",
       "      <td>-0.364389</td>\n",
       "      <td>False</td>\n",
       "      <td>0.354000</td>\n",
       "      <td>0.128343</td>\n",
       "    </tr>\n",
       "  </tbody>\n",
       "</table>\n",
       "</div>"
      ],
      "text/plain": [
       "         x1        x2  y  presentation_group  row_id  sort_order  \\\n",
       "0  1.102886  0.183668  1                   1       1   -0.393781   \n",
       "1  0.164192  1.074680  1                   1       2   -0.708220   \n",
       "2  0.114672  0.991857  1                   1       3   -0.708220   \n",
       "3  0.902682 -0.187041  0                   1       4   -0.393781   \n",
       "4 -0.139280 -0.052501  0                   1       5   -0.364389   \n",
       "\n",
       "   sampled_positive  logistic_all_predict  logistic_sample_predict  \n",
       "0             False              0.459761                 0.051082  \n",
       "1              True              0.725975                 0.494274  \n",
       "2             False              0.701817                 0.467650  \n",
       "3             False              0.334272                 0.031526  \n",
       "4             False              0.354000                 0.128343  "
      ]
     },
     "execution_count": 8,
     "metadata": {},
     "output_type": "execute_result"
    }
   ],
   "source": [
    "d.head()"
   ]
  },
  {
   "cell_type": "code",
   "execution_count": 9,
   "metadata": {},
   "outputs": [
    {
     "data": {
      "text/plain": [
       "<Figure size 640x480 with 0 Axes>"
      ]
     },
     "metadata": {},
     "output_type": "display_data"
    },
    {
     "data": {
      "image/png": "[encoded data removed]",
      "text/plain": [
       "<Figure size 640x480 with 1 Axes>"
      ]
     },
     "metadata": {},
     "output_type": "display_data"
    },
    {
     "data": {
      "text/plain": [
       "0.6690079839011869"
      ]
     },
     "execution_count": 9,
     "metadata": {},
     "output_type": "execute_result"
    }
   ],
   "source": [
    "plot_roc(\n",
    "    prediction=d[\"logistic_all_predict\"],\n",
    "    istrue=d[\"y\"],\n",
    "    ideal_line_color=\"lightgrey\",\n",
    "    title=\"prediction from all selections\",\n",
    ")"
   ]
  },
  {
   "cell_type": "code",
   "execution_count": 10,
   "metadata": {},
   "outputs": [
    {
     "data": {
      "text/plain": [
       "<Figure size 640x480 with 0 Axes>"
      ]
     },
     "metadata": {},
     "output_type": "display_data"
    },
    {
     "data": {
      "image/png": "[encoded data removed]",
      "text/plain": [
       "<Figure size 640x480 with 1 Axes>"
      ]
     },
     "metadata": {},
     "output_type": "display_data"
    },
    {
     "data": {
      "text/plain": [
       "0.5998489035500676"
      ]
     },
     "execution_count": 10,
     "metadata": {},
     "output_type": "execute_result"
    }
   ],
   "source": [
    "plot_roc(\n",
    "    prediction=d[\"logistic_sample_predict\"],\n",
    "    istrue=d[\"y\"],\n",
    "    ideal_line_color=\"lightgrey\",\n",
    "    title=\"prediction from sampled selections\",\n",
    ")"
   ]
  },
  {
   "cell_type": "code",
   "execution_count": null,
   "metadata": {},
   "outputs": [],
   "source": []
  },
  {
   "cell_type": "code",
   "execution_count": null,
   "metadata": {},
   "outputs": [],
   "source": []
  },
  {
   "cell_type": "code",
   "execution_count": null,
   "metadata": {},
   "outputs": [],
   "source": []
  },
  {
   "cell_type": "code",
   "execution_count": null,
   "metadata": {},
   "outputs": [],
   "source": []
  },
  {
   "cell_type": "code",
   "execution_count": null,
   "metadata": {},
   "outputs": [],
   "source": []
  }
 ],
 "metadata": {
  "kernelspec": {
   "display_name": "prob_env",
   "language": "python",
   "name": "python3"
  },
  "language_info": {
   "codemirror_mode": {
    "name": "ipython",
    "version": 3
   },
   "file_extension": ".py",
   "mimetype": "text/x-python",
   "name": "python",
   "nbconvert_exporter": "python",
   "pygments_lexer": "ipython3",
   "version": "3.11.9"
  }
 },
 "nbformat": 4,
 "nbformat_minor": 2
}
