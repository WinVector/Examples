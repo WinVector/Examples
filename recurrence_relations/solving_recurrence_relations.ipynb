{
 "cells": [
  {
   "cell_type": "markdown",
   "metadata": {},
   "source": [
    "# Solving Recurrence Relations\n",
    "\n",
    "## Introduction\n",
    "\n",
    "A neat bit of \"engineering mathematics\" is solving [recurrence relations](https://en.wikipedia.org/wiki/Recurrence_relation). The solution method falls out of the notation itself, and harkens back to a time where formal sums were often used in place of vector subscript notation.\n",
    "\n",
    "Unfortunately the variety of such solutions is small enough to allow teaching by memorization. In this note I try to avoid memorization, and motivate the methodology. I feel this is facilitated by separating a number of often smeared together representations (formulas, sequences, vectors, linear checks, characteristic polynomial, and polynomial check families) into distinct realizations. We are also going to emphasize calculating and confirming claims in Python."
   ]
  },
  {
   "cell_type": "markdown",
   "metadata": {},
   "source": [
    "## The problem\n",
    "\n",
    "A simple form of the recurrence problem is to write down a general solution for a subscripted family of linear equations such as the following\n",
    "\n",
    "<code>\n",
    "F<sub>n+2</sub> = F<sub>n+1</sub> + F<sub>n</sub>\n",
    "</code>\n",
    "\n",
    "where <code>n</code> is a subscript varying over all positive integers.\n",
    "\n",
    "Such a relation or equation can arise in number of situations or applications:\n",
    "\n",
    "  * [Time series analysis](https://win-vector.com/2023/05/25/some-of-the-perils-of-time-series-forecasting/).\n",
    "  * Estimating run times of algorithms.\n",
    "  * Combinatorics.\n",
    "\n",
    "The above example is in fact [the Fibonacci sequence](https://en.wikipedia.org/wiki/Fibonacci_sequence).\n",
    "\n",
    "The question is: if we are given initial conditions <code>F<sub>1</sub> = 1</code> and <code>F<sub>2</sub> = 1</code>, what is <code>F<sub>n</sub></code> (for general non-negative integer <code>n</code>)?\n",
    "\n",
    "In this case the [Wikipedia solution](https://en.wikipedia.org/wiki/Fibonacci_sequence) is <code>F<sub>n</sub> = (r<sub>1</sub><sup>n</sup> - r<sub>2</sub><sup>n</sup>)/sqrt(5)</code> where:\n",
    "\n",
    "  * <code>r<sub>1</sub> = (1 + sqrt(5))/2</code>\n",
    "  * <code>r<sub>2</sub> = (1 - sqrt(5))/2</code>\n",
    "\n",
    "Natural questions include:\n",
    "\n",
    "  * Why is the solution in this form?\n",
    "  * How do you find <code>r<sub>1</sub></code> and <code>r<sub>2</sub></code>?\n",
    "\n",
    "We will set up some notation and then solve a few examples."
   ]
  },
  {
   "cell_type": "markdown",
   "metadata": {},
   "source": [
    "## The Solution\n",
    "\n",
    " \n"
   ]
  },
  {
   "cell_type": "markdown",
   "metadata": {},
   "source": [
    "### Vector space notation\n",
    "\n",
    "Let's formalize our notation a bit.\n",
    "\n",
    "First let's settle on working over the [vector space](https://en.wikipedia.org/wiki/Vector_space) of all infinite sequences of real numbers with non-negative subscripts. This is just saying we consider the infinite sequence <code>F = (F<sub>1</sub>, F<sub>2</sub>, F<sub>3</sub>, ...)</code> we are solving for as one of many possible sequences. We can use \"<code>R[Z+]</code>\" as the [group-ring](https://en.wikipedia.org/wiki/Group_ring) style naming of this vector space.  Now consider any such vector <code>v</code> that obeys the recurrence equations:\n",
    "\n",
    "<code>\n",
    "v<sub>n+2</sub> = v<sub>n+1</sub> + v<sub>n</sub> for n = 1, 2, ...\n",
    "</code>\n",
    "\n",
    "Let \"<code>S</code>\" denote the subset of <code>R[Z+]</code> that obey all of the above linear recurrence checks. We claim a few things about <code>S</code> (the set of solutions to our current example system):\n",
    "\n",
    "  * The all zeroes vector is in <code>S</code>. So <code>S</code> is non-empty.\n",
    "  * If <code>v</code> obeys all of the above constraints then so does <code>c v</code> for any constant c.\n",
    "  * If <code>u</code> and <code>v</code> obey all of the above constraints then so does <code>u + v</code>.\n",
    "  * By induction, all <code>v<sub>n</sub></code> are completely determined by the values <code>v<sub>1</sub></code> and <code>v<sub>2</sub></code>.\n",
    "\n",
    "The first three observations tell us <code>S</code> is a vector subspace of <code>R[Z+]</code>. The fourth observation tells us this vector subspace is 2 dimensional, so any solution can be written as the linear combination of two basis solutions.\n",
    "\n",
    "For notational convenience we will associate functions with vectors in <code>R[Z+]</code>. For a function <code>f()</code> let <code>[f(n) | n = 1, 2, ...]</code> denote the graph or vector <code>(f(1), f(2), f(3), ...)</code>. In particular we are interested in the vectors <code>[r<sub>1</sub><sup>n</sup> | n = 1, 2, ...] = (r<sub>1</sub>, r<sub>1</sub><sup>2</sup>, r<sub>1</sub><sup>3</sup>, ...)</code> and <code>[r<sub>2</sub><sup>n</sup> | n = 1, 2, ...] = (r<sub>2</sub>, r<sub>2</sub><sup>2</sup>, r<sub>2</sub><sup>3</sup>, ...)</code> (for the previously defined <code>r<sub>1</sub></code> and <code>r<sub>2</sub></code>). We claim <code>[r<sub>1</sub><sup>n</sup> | n = 1, 2, ...]</code> and <code>[r<sub>2</sub><sup>n</sup> | n = 1, 2, ...]</code> both obey the above linear check conditions.\n"
   ]
  },
  {
   "cell_type": "markdown",
   "metadata": {},
   "source": [
    "### Inspecting the claimed Fibonacci solution\n",
    "\n",
    "Let's confirm both <code>[r<sub>1</sub><sup>n</sup> | n = 1, 2, ...]</code> and <code>[r<sub>2</sub><sup>n</sup> | n = 1, 2, ...]</code> both obey the linear check conditions. In my opinion one doesn't truly learn the math without working at least a few concrete examples."
   ]
  },
  {
   "cell_type": "code",
   "execution_count": 1,
   "metadata": {},
   "outputs": [
    {
     "data": {
      "text/plain": [
       "array([  1.61803399,   2.61803399,   4.23606798,   6.85410197,\n",
       "        11.09016994,  17.94427191,  29.03444185,  46.97871376,\n",
       "        76.01315562, 122.99186938])"
      ]
     },
     "execution_count": 1,
     "metadata": {},
     "output_type": "execute_result"
    }
   ],
   "source": [
    "# define [r1**n | n = 1, 2, ...] = f_r_1\n",
    "import numpy as np\n",
    "\n",
    "r_1 = (1 + np.sqrt(5))/2\n",
    "\n",
    "f_r_1 = np.asarray([r_1**n for n in range(1, 11)])\n",
    "\n",
    "f_r_1"
   ]
  },
  {
   "cell_type": "code",
   "execution_count": 2,
   "metadata": {},
   "outputs": [],
   "source": [
    "# check f_r_1 obeys specified  Fibonacci relations\n",
    "assert np.all([\n",
    "    np.abs(f_r_1[n+2] - (f_r_1[n+1] + f_r_1[n])) < 1e-8\n",
    "    for n in range(2, len(f_r_1) - 2)\n",
    "])"
   ]
  },
  {
   "cell_type": "code",
   "execution_count": 3,
   "metadata": {},
   "outputs": [
    {
     "data": {
      "text/plain": [
       "array([-0.61803399,  0.38196601, -0.23606798,  0.14589803, -0.09016994,\n",
       "        0.05572809, -0.03444185,  0.02128624, -0.01315562,  0.00813062])"
      ]
     },
     "execution_count": 3,
     "metadata": {},
     "output_type": "execute_result"
    }
   ],
   "source": [
    "# define [r2**n | n = 1, 2, ...] = f_r_2\n",
    "\n",
    "r_2 = (1 - np.sqrt(5))/2\n",
    "\n",
    "f_r_2 = np.asarray([r_2**n for n in range(1, 11)])\n",
    "\n",
    "f_r_2"
   ]
  },
  {
   "cell_type": "code",
   "execution_count": 4,
   "metadata": {},
   "outputs": [],
   "source": [
    "# check f_r_2 obeys specified  Fibonacci relations\n",
    "assert np.all([\n",
    "    np.abs(f_r_2[n+2] - (f_r_2[n+1] + f_r_2[n])) < 1e-8\n",
    "    for n in range(2, len(f_r_2) - 2)\n",
    "])"
   ]
  },
  {
   "cell_type": "code",
   "execution_count": 5,
   "metadata": {},
   "outputs": [
    {
     "data": {
      "text/plain": [
       "[1, 1, 2, 3, 5, 8, 13, 21, 34, 55]"
      ]
     },
     "execution_count": 5,
     "metadata": {},
     "output_type": "execute_result"
    }
   ],
   "source": [
    "# generate a bit of the Fibonacci sequence using \n",
    "# the definitional recurrence F[n+2] = F[n+1] + F[n]\n",
    "f = [1, 1]\n",
    "for i in range(8):\n",
    "    n = len(f) - 2\n",
    "    f.append(f[n + 1] + f[n])\n",
    "\n",
    "f\n"
   ]
  },
  {
   "cell_type": "code",
   "execution_count": 6,
   "metadata": {},
   "outputs": [
    {
     "data": {
      "text/plain": [
       "array([ 1.,  1.,  2.,  3.,  5.,  8., 13., 21., 34., 55.])"
      ]
     },
     "execution_count": 6,
     "metadata": {},
     "output_type": "execute_result"
    }
   ],
   "source": [
    "# Wikipedia claimed solution\n",
    "prediction = (f_r_1 - f_r_2) / np.sqrt(5)\n",
    "\n",
    "prediction"
   ]
  },
  {
   "cell_type": "code",
   "execution_count": 7,
   "metadata": {},
   "outputs": [],
   "source": [
    "# confirm claimed combination matches Fibonacci sequence\n",
    "assert np.max(np.abs(\n",
    "        np.asarray(f) - prediction\n",
    "    )) < 1e-8"
   ]
  },
  {
   "cell_type": "code",
   "execution_count": 8,
   "metadata": {},
   "outputs": [
    {
     "data": {
      "text/plain": [
       "array([ 0.4472136, -0.4472136])"
      ]
     },
     "execution_count": 8,
     "metadata": {},
     "output_type": "execute_result"
    }
   ],
   "source": [
    "# we can also solve for the mixture coefficients by\n",
    "# treating our sequences as column vectors and asking\n",
    "# a solver how to write the vector f as a linear\n",
    "# combination of the vectors f_r_1 and f_r_2.\n",
    "#\n",
    "# As a linear system in the first 2 terms this looks like:\n",
    "#\n",
    "# f[0] = soln[0] * f_r_1[0]  +  soln[1] * f_r_1[0]\n",
    "# f[1] = soln[0] * f_r_1[1]  +  soln[1] * f_r_1[1]\n",
    "#\n",
    "# And such a linear system is translated into \n",
    "# matrix notation as follows:\n",
    "soln = np.linalg.solve(\n",
    "    np.asarray([\n",
    "        [f_r_1[0], f_r_2[0]],\n",
    "        [f_r_1[1], f_r_2[1]],\n",
    "    ]),\n",
    "    [\n",
    "        f[0],\n",
    "        f[1],\n",
    "    ]\n",
    ")\n",
    "\n",
    "soln\n"
   ]
  },
  {
   "cell_type": "code",
   "execution_count": 9,
   "metadata": {},
   "outputs": [
    {
     "data": {
      "text/plain": [
       "array([ 1.,  1.,  2.,  3.,  5.,  8., 13., 21., 34., 55.])"
      ]
     },
     "execution_count": 9,
     "metadata": {},
     "output_type": "execute_result"
    }
   ],
   "source": [
    "# our (identical) derived solution\n",
    "prediction2 = (\n",
    "    soln[0] * f_r_1 \n",
    "    + soln[1] * f_r_2\n",
    ")\n",
    "\n",
    "prediction2"
   ]
  },
  {
   "cell_type": "code",
   "execution_count": 10,
   "metadata": {},
   "outputs": [],
   "source": [
    "# confirm claimed combination matches Fibonacci sequence\n",
    "assert np.max(np.abs(\n",
    "        np.asarray(f) - prediction2\n",
    "    )) < 1e-8"
   ]
  },
  {
   "cell_type": "markdown",
   "metadata": {},
   "source": [
    "\n",
    "### The neat trick\n",
    "\n",
    "The core of the solution follows from a neat trick: replace the subscripts with superscripts. This is *very* powerful trick. Let's see that in action.\n",
    "\n",
    "We gamble and hope some of the solutions are of the following simple form: <code>[r<sup>n</sup> | n = 1, 2, ...] = (r, r<sup>2</sup>, r<sup>3</sup>, ...)</code>, where <code>r</code> is a to be determined (possibly [complex](https://en.wikipedia.org/wiki/Complex_number)) number. \n",
    "\n",
    "Our claim is: *if* the number <code>r</code> is a solution to the polynomial equation (in <code>x</code>)\n",
    "\n",
    "<code>\n",
    "x<sup>2</sup> = x + 1\n",
    "</code>\n",
    "\n",
    "*then* <code>v = [r<sup>n</sup> | n = 1, 2, ...]</code> satisfies\n",
    "\n",
    "<code>\n",
    "v<sub>n+2</sub> = v<sub>n+1</sub> + v<sub>n</sub> for n = 1, 2, ...\n",
    "</code>.\n",
    "\n",
    "The polynomial is called \"the characteristic polynomial\" of the linear recurrence checks.\n",
    "\n",
    "The \"trick\" to this is: if <code>x = r</code> is a root of, or satisfies, <code>x<sup>2</sup> = x + 1</code>, then it also satisfies <code>x<sup>n+2</sup> = x<sup>n+1</sup> + x<sup>n</sub></code> (which is equivalent to <code>x<sup>n</sup> x<sup>2</sup> = x<sup>n</sup> x + x<sup>n</sup> 1</code>) for *all* <code>n &ge; 0 </code>. So <code>r<sup>n+2</sup> = r<sup>n+1</sup> + r<sup>n</sub></code> for *all* <code>n &ge; 0 </code> which is exactly the claim <code>v = [r<sup>n</sup> | n = 1, 2, ...]</code> is a solution to all of the subscripted <code>v</code>-checks. It pays to think of the characteristic polynomial <code>p(x)</code> as shorthand for the family of \"check polynomials\" <code>x<sup>n</sup> p(x) for n = 0, 1, 2, ...</code>. However, for some problems we will need to appeal directly to the family of check polynomials.\n",
    "\n",
    "In our case, the roots, or solutions, to this polynomial equation are the roots <code>x<sup>2</sup> - x - 1 = 0</code>. By the [quadratic formula](https://en.wikipedia.org/wiki/Quadratic_formula):\n",
    "\n",
    "  * <code>r<sub>1</sub> = (1 + sqrt(5))/2</code>\n",
    "  * <code>r<sub>2</sub> = (1 - sqrt(5))/2</code>\n",
    "\n",
    "This gives us two linearly independent solutions to the recurrence check equations: <code>[r<sub>1</sub><sup>n</sup> | n = 1, 2, ...]</code> and <code>[r<sub>2</sub><sup>n</sup> | n = 1, 2, ...]</code>. These solutions are enough to form a basis for the solution space <code>S</code>, so we know <code>F</code> is some linear combination of <code>[r<sub>1</sub><sup>n</sup> | n = 1, 2, ...]</code> and <code>[r<sub>2</sub><sup>n</sup> | n = 1, 2, ...]</code>. And we have already showed how to find the linear combination by setting up linear equations to match the first two entries of the vector."
   ]
  },
  {
   "cell_type": "markdown",
   "metadata": {},
   "source": [
    "\n",
    "## A harder example\n",
    "\n",
    "Suppose we want to solve the recurrence:\n",
    "\n",
    "<code>\n",
    "W<sub>n+2</sub> = 6 W<sub>n+1</sub> - 9 W<sub>n</sub>  for n = 1, 2, ...\n",
    "</code>\n",
    "\n",
    "The above are the \"<code>W</code> checks\" we now want to satisfy. A solution to these is a specific vector of values we can substitute in for the <code>W</code>'s, such that none of the equations are false.\n",
    "\n",
    "We will try the earlier solution strategy. We are then interested in roots of the corresponding characteristic polynomial:\n",
    "\n",
    "<code>\n",
    "x<sup>2</sup> - 6 x + 9  = 0\n",
    "</code>\n",
    "\n",
    "The above polynomial factors into <code>(x - 3)<sup>2</sup></code>. So <code>r<sub>1</sub> = r<sub>2</sub> = 3</code>. So we know <code>[3<sup>n</sup> | n = 1, 2, ...]</code> is a solution to the <code>W</code> checks.\n",
    "\n",
    "The space of solutions is again 2 dimensional. So to parameterize over all the possible solutions, we need a second linear independent solution. The question then is: how do we find a second linear independent solution?"
   ]
  },
  {
   "cell_type": "markdown",
   "metadata": {},
   "source": [
    "\n",
    "### Dealing with repeated roots\n",
    "\n",
    "When our characteristic polynomial <code>p(x)</code> has repeated roots, the characteristic polynomial is not expressive enough to represent some solutions. However, *the corresponding family of check polynomials* <code>x<sup>n</sup> p(x) for n = 0, 1, ...</code> *are* rich enough to find the extra solutions. We will use that when a polynomial <code>p(x)</code> has a repeated root (that is: for some number <code>r</code>, the fact that <code>(x-r)<sup>2</sup></code> divides into <code>p(x)</code> with no remainder), then <code>p(x)</code> shares that root with <code>p'(x)</code> (where <code>p'(x)</code> is the derivative of <code>p(x)</code> with respect to <code>x</code>).\n",
    "\n",
    "Take the earlier \"<code>W</code> check\" polynomials <code>p(x) = x<sup>n+2</sup> - 6 x<sup>n+1</sup> + 9 x<sup>n</sup></code>. Define the polynomial <code>y(x) = x p'(x) = (n+2) x<sup>n+2</sup> - 6 (n+1) x<sup>n+1</sup> + 9 n x<sup>n</sup></code>. <code>y(x)</code> itself is (by inspection) the check polynomials corresponding to the following (new) linear recurrence checks:\n",
    "\n",
    "<code>\n",
    "(n+2) Y<sub>n+2</sub> = 6 (n+1) Y<sub>n+1</sub> - 9 (n) Y<sub>n</sub> for n = 1, 2, ...\n",
    "</code>\n",
    "\n",
    "As <code>y(3) = 0</code> (true because <code>3</code> is a double root of <code>p(x)</code>) we know <code>[3<sup>n</sup> | n = 1, 2, ...]</code> *is* a solution to the new <code>Y</code> linear recurrence checks. Substitute this valid <code>Y</code> solution <code>[3<sup>n</sup> | n = 1, 2, ...]</code> into the <code>Y</code> checks to derive the following family of (true or valid) equations.\n",
    "\n",
    "<code>\n",
    "((n+2) 3<sup>n+2</sup>) = 6 ((n+1) 3<sup>n+1</sup>) - 9 ((n) 3<sup>n</sup>)   for n = 1, 2, ...\n",
    "</code>\n",
    "\n",
    "Notice the above is saying <code>[n 3<sup>n</sup> | n = 1, 2, ...]</code> obeys the earlier <code>W</code> linear recurrence problem. We have our desired additional solution."
   ]
  },
  {
   "cell_type": "markdown",
   "metadata": {},
   "source": [
    "#### Confirming the last claim\n",
    "\n",
    "Frankly, this sort of argument doesn't fully sink in until one confirms some examples and calculations. The derivation is a bit of \"proof by change of notation\", which is *never* very satisfying.\n",
    "\n",
    "So: let's confirm some calculations claimed in the example to try to build some familiarity with the items discussed.\n"
   ]
  },
  {
   "cell_type": "code",
   "execution_count": 11,
   "metadata": {},
   "outputs": [
    {
     "data": {
      "text/plain": [
       "[0, 0, 0, 0, 0, 0, 0, 0, 0, 0]"
      ]
     },
     "execution_count": 11,
     "metadata": {},
     "output_type": "execute_result"
    }
   ],
   "source": [
    "# show down p(x) zeros out at x=3\n",
    "r = 3\n",
    "evals_p = [\n",
    "    r**(n+2) - 6 * r**(n+1) + 9 * r**n \n",
    "    for n in range(10)]\n",
    "\n",
    "evals_p\n",
    "\n"
   ]
  },
  {
   "cell_type": "code",
   "execution_count": 12,
   "metadata": {},
   "outputs": [],
   "source": [
    "assert np.all(np.abs(evals_p)) < 1e-8"
   ]
  },
  {
   "cell_type": "code",
   "execution_count": 13,
   "metadata": {},
   "outputs": [
    {
     "data": {
      "text/plain": [
       "[0.0, 0, 0, 0, 0, 0, 0, 0, 0, 0]"
      ]
     },
     "execution_count": 13,
     "metadata": {},
     "output_type": "execute_result"
    }
   ],
   "source": [
    "# show down y(x) = x p'(x) zeros out at x=3\n",
    "r = 3\n",
    "evals_y = [\n",
    "    r * ((n+2) * r**(n+1) - 6 * (n+1) * r**(n) + 9 * n * r**(n-1)) \n",
    "    for n in range(10)]\n",
    "\n",
    "evals_y"
   ]
  },
  {
   "cell_type": "code",
   "execution_count": 14,
   "metadata": {},
   "outputs": [],
   "source": [
    "assert np.all(np.abs(evals_y)) < 1e-8"
   ]
  },
  {
   "cell_type": "code",
   "execution_count": 15,
   "metadata": {},
   "outputs": [
    {
     "data": {
      "text/plain": [
       "array([    3,     9,    27,    81,   243,   729,  2187,  6561, 19683,\n",
       "       59049])"
      ]
     },
     "execution_count": 15,
     "metadata": {},
     "output_type": "execute_result"
    }
   ],
   "source": [
    "# write down the first p = [3**n | n = 1, 2, ...] solution\n",
    "p = np.asarray([\n",
    "    r**n for n in range(1, 11)\n",
    "    ])\n",
    "\n",
    "p"
   ]
  },
  {
   "cell_type": "code",
   "execution_count": 16,
   "metadata": {},
   "outputs": [],
   "source": [
    "# confirm W checks on p'\n",
    "assert np.all([\n",
    "    p[n+2] - 6 * p[n+1] + 9 * p[n] == 0 \n",
    "    for n in range(1, len(p) - 2)])"
   ]
  },
  {
   "cell_type": "code",
   "execution_count": 17,
   "metadata": {},
   "outputs": [],
   "source": [
    "# confirm Y checks on p\n",
    "# this works as W is the \"Y\" checks for p'\n",
    "assert np.all([\n",
    "    (n+2) * p[n+2] - 6 * (n+1) * p[n+1] + 9 * n * p[n] == 0 \n",
    "    for n in range(1, len(p) - 2)])"
   ]
  },
  {
   "cell_type": "markdown",
   "metadata": {},
   "source": [
    "### Back to the example\n",
    "\n",
    "As we now have the required number of linearly independent solutions (2 solutions: <code>[3<sup>n</sup> | n = 1, 2, ...]</code> and <code>[n 3<sup>n</sup> | n = 1, 2, ...]</code>), we can solve for any specified initial conditions (as demonstrated earlier).\n",
    "\n",
    "Believe it or not, we are done."
   ]
  },
  {
   "cell_type": "markdown",
   "metadata": {},
   "source": [
    "## In general\n",
    "\n",
    "The general solution strategy is as follows.\n",
    "\n",
    "For a general homogeneous linear recurrence of the form:\n",
    "\n",
    "<code>\n",
    "v<sub>n+k</sub> = c<sub>k-1</sub> v<sub>n+k-1</sub> + ... + c<sub>0</sub> v<sub>n</sub>\n",
    "</code>\n",
    "\n",
    "Move to the characteristic polynomial equation:\n",
    "\n",
    "<code>\n",
    "x<sup>k</sup> = c<sub>k-1</sub> x<sup>k-1</sup> + ... + c<sub>0</sub>\n",
    "</code>\n",
    "\n",
    "We can generate a basis for all solutions as <code>v =[ n<sup>k</sup> r<sup>n</sup> | n = 1, 2, ...]</code> where <code>r</code> is a root of the characteristic polynomial, and <code>k</code> is a non-negative integer smaller than the degree of multiplicity of the root <code>r</code>. Once we have enough linear independent solutions, we can write any other solution as a linear combination of what we have.\n",
    "\n",
    "We call all of the above the \"swap subscripts (general and powerful) to powers (specific and weak)\" strategy (though there are obviously a few more steps and details to the method).\n"
   ]
  },
  {
   "cell_type": "markdown",
   "metadata": {},
   "source": [
    "## Conclusion\n",
    "\n",
    "Our solution strategy was exchanging powerful subscripts (which can implement any integer keyed lookup table) with less powerful superscripts (that can only express powers). We can lift any solution found in the weaker world (power series) to the more general one (subscripted sequences). We don't always find enough power series solutions, and in that case we transform the problem to find more solutions to modified polynomials. The trick is to track the details of how the transforms operate on both our vector solutions and check polynomials.\n",
    "\n",
    "The above system is general, it can solve a lot of problems. We concentrated on calculating over vector values. Related methods include [the umbral calculus](https://en.wikipedia.org/wiki/Umbral_calculus), the study of [shift operators](https://en.wikipedia.org/wiki/Shift_operator), and the [Laplace transform](https://en.wikipedia.org/wiki/Laplace_transform)."
   ]
  }
 ],
 "metadata": {
  "kernelspec": {
   "display_name": "research_env",
   "language": "python",
   "name": "python3"
  },
  "language_info": {
   "codemirror_mode": {
    "name": "ipython",
    "version": 3
   },
   "file_extension": ".py",
   "mimetype": "text/x-python",
   "name": "python",
   "nbconvert_exporter": "python",
   "pygments_lexer": "ipython3",
   "version": "3.11.7"
  }
 },
 "nbformat": 4,
 "nbformat_minor": 2
}
