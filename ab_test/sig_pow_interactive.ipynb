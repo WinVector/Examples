{
 "cells": [
  {
   "cell_type": "markdown",
   "metadata": {},
   "source": [
    "Interactive version of the graph from [A/B Tests for Engineers](https://win-vector.com/2023/10/15/a-b-tests-for-engineers/).\n",
    "\n",
    "To see the interaction: download [directory](https://github.com/WinVector/Examples/tree/main/ab_test) and run this Jupyter notebook in JupyterLab or VSCode.\n",
    "\n",
    "[Jupyter Widgets documentation](https://ipywidgets.readthedocs.io/en/latest/index.html)"
   ]
  },
  {
   "cell_type": "code",
   "execution_count": null,
   "metadata": {},
   "outputs": [],
   "source": [
    "# import our modules\n",
    "import numpy as np\n",
    "import pandas as pd\n",
    "import matplotlib.pyplot as plt\n",
    "from IPython.display import display, clear_output\n",
    "from scipy.stats import norm\n",
    "import matplotlib.pyplot as plt\n",
    "from sig_pow_visual import composite_graphs_using_PIL, graph_factory\n",
    "import PIL\n",
    "import ipywidgets as widgets"
   ]
  },
  {
   "cell_type": "code",
   "execution_count": null,
   "metadata": {},
   "outputs": [],
   "source": [
    "# our specification of interest\n",
    "# derived from the above\n",
    "n = 557  # the experiment size\n",
    "r = 0.1  # the assumed large effect size (difference in conversion rates)\n",
    "t = 0.061576 # the correct threshold for specified power and significance\n"
   ]
  },
  {
   "cell_type": "code",
   "execution_count": null,
   "metadata": {},
   "outputs": [],
   "source": [
    "mk_graphs = graph_factory(\n",
    "    n=n,  # the experiment size\n",
    "    r=r,  # the assumed large effect size (difference in conversion rates)\n",
    ")"
   ]
  },
  {
   "cell_type": "code",
   "execution_count": null,
   "metadata": {},
   "outputs": [],
   "source": [
    "\n",
    "w = widgets.FloatSlider(\n",
    "    value=t,\n",
    "    min=0.0,\n",
    "    max=r,\n",
    "    step=0.001,\n",
    "    description='Threshold Value:',\n",
    "    disabled=False,\n",
    "    continuous_update=False,\n",
    "    orientation='horizontal',\n",
    "    readout=True,\n",
    "    readout_format='.4f'\n",
    ")\n",
    "\n",
    "display(w)\n",
    "\n",
    "button = widgets.Button(description = \"Plot it\")\n",
    "output = widgets.Output()\n",
    "\n",
    "display(button, output)\n",
    "\n",
    "# this works, need a clear command\n",
    "def on_button_clicked(b):\n",
    "    with output:\n",
    "        clear_output(wait=False)\n",
    "        print(f'Decision threshold = {w.value:.04f}')\n",
    "        graphs = mk_graphs(w.value)\n",
    "        # composite the images using PIL\n",
    "        img_c = composite_graphs_using_PIL(graphs)\n",
    "        img_c = img_c.resize((int(0.25 * img_c.size[0]), int(0.25 * img_c.size[1])))\n",
    "        display(img_c)\n",
    "on_button_clicked(t)\n",
    "button.on_click(on_button_clicked)"
   ]
  }
 ],
 "metadata": {
  "kernelspec": {
   "display_name": "data_algebra_dev_env",
   "language": "python",
   "name": "python3"
  },
  "language_info": {
   "codemirror_mode": {
    "name": "ipython",
    "version": 3
   },
   "file_extension": ".py",
   "mimetype": "text/x-python",
   "name": "python",
   "nbconvert_exporter": "python",
   "pygments_lexer": "ipython3",
   "version": "3.11.4"
  },
  "orig_nbformat": 4
 },
 "nbformat": 4,
 "nbformat_minor": 2
}
