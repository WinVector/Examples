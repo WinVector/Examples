{
 "cells": [
  {
   "cell_type": "markdown",
   "metadata": {},
   "source": [
    "Interactive version of the graph from [A/B Tests for Engineers](https://win-vector.com/2023/10/15/a-b-tests-for-engineers/).\n",
    "\n",
    "To see the interaction: download [directory](https://github.com/WinVector/Examples/tree/main/ab_test) and run this Jupyter notebook in JupyterLab or VSCode.\n",
    "\n",
    "[Jupyter Widgets documentation](https://ipywidgets.readthedocs.io/en/latest/index.html)"
   ]
  },
  {
   "cell_type": "code",
   "execution_count": null,
   "metadata": {},
   "outputs": [],
   "source": [
    "# import our modules\n",
    "import numpy as np\n",
    "import pandas as pd\n",
    "from IPython.display import display, clear_output\n",
    "from scipy.stats import norm\n",
    "import matplotlib.pyplot as plt\n",
    "from data_algebra.cdata import RecordSpecification\n",
    "from sig_pow_visual import binomial_diff_sig_pow_visual\n",
    "\n",
    "import ipywidgets as widgets"
   ]
  },
  {
   "cell_type": "code",
   "execution_count": null,
   "metadata": {},
   "outputs": [],
   "source": [
    "# our parameters of interest\n",
    "n = 557\n",
    "r = 0.1\n",
    "t = 0.061576 # the correct threshold\n",
    "power = 0.9\n",
    "significance = 0.02"
   ]
  },
  {
   "cell_type": "code",
   "execution_count": null,
   "metadata": {},
   "outputs": [],
   "source": [
    "thresh = t"
   ]
  },
  {
   "cell_type": "code",
   "execution_count": null,
   "metadata": {},
   "outputs": [],
   "source": [
    "def make_graph(thresh):\n",
    "    # convert to what were the function arguments\n",
    "    stdev = np.sqrt(0.5 / n)\n",
    "    effect_size = r\n",
    "    threshold = thresh\n",
    "    title='Area under the tails give you significance and (1-power)'\n",
    "    subtitle = 'Significance: control right tail; (1-Power): treatment left tail'\n",
    "    return  binomial_diff_sig_pow_visual(\n",
    "        stdev=stdev,\n",
    "        effect_size=effect_size,\n",
    "        threshold=threshold,\n",
    "        title=title,\n",
    "        subtitle=subtitle\n",
    "    )\n",
    "\n"
   ]
  },
  {
   "cell_type": "code",
   "execution_count": null,
   "metadata": {},
   "outputs": [],
   "source": [
    "\n",
    "w = widgets.FloatSlider(\n",
    "    value=t,\n",
    "    min=0.0,\n",
    "    max=r,\n",
    "    step=0.001,\n",
    "    description='Threshold Value:',\n",
    "    disabled=False,\n",
    "    continuous_update=False,\n",
    "    orientation='horizontal',\n",
    "    readout=True,\n",
    "    readout_format='.4f'\n",
    ")\n",
    "\n",
    "display(w)\n",
    "\n",
    "button = widgets.Button(description = \"Plot it\")\n",
    "output = widgets.Output()\n",
    "\n",
    "display(button, output)\n",
    "\n",
    "# this works, need a clear command\n",
    "def on_button_clicked(b):\n",
    "    with output:\n",
    "       clear_output(wait=False)\n",
    "       print(f'threshold = {w.value}')\n",
    "       print(make_graph(w.value))\n",
    "       plt.show()\n",
    "on_button_clicked(t)\n",
    "button.on_click(on_button_clicked)"
   ]
  }
 ],
 "metadata": {
  "kernelspec": {
   "display_name": "data_algebra_dev_env",
   "language": "python",
   "name": "python3"
  },
  "language_info": {
   "codemirror_mode": {
    "name": "ipython",
    "version": 3
   },
   "file_extension": ".py",
   "mimetype": "text/x-python",
   "name": "python",
   "nbconvert_exporter": "python",
   "pygments_lexer": "ipython3",
   "version": "3.11.4"
  },
  "orig_nbformat": 4
 },
 "nbformat": 4,
 "nbformat_minor": 2
}
