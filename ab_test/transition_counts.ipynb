{
 "cells": [
  {
   "cell_type": "markdown",
   "metadata": {},
   "source": [
    "# Conditioning on the Future\n",
    "\n",
    "In both [A Slightly Unfair Game](https://win-vector.com/2023/10/30/a-slightly-unfair-game/) and [The Drunkard's Walk In Detail](https://github.com/WinVector/Examples/blob/main/ab_test/drunkards_walk.ipynb) we showed a fair random walk that moved up or down with 50/50 probability. Some of these walks stopped when they were absorbed at zero, and some stopped when the were absorbed at a positive boundary.\n",
    "\n",
    "Here is an example of 20 such walks.\n",
    "\n",
    "<img src=\"https://i0.wp.com/win-vector.com/wp-content/uploads/2023/10/unnamed-chunk-4-1.gif\" />\n",
    "\n",
    "In [The Drunkard's Walk In Detail](https://github.com/WinVector/Examples/blob/main/ab_test/drunkards_walk.ipynb) we proved that the set of all walks that get absorbed at a specified boundary have two seemingly competing properties:\n",
    "\n",
    "  * Their transition behavior is radically changed by conditioning on the eventual outcome.\n",
    "  * The conditioned walks are still Markov chains on the same state.\n",
    "\n",
    "That is: rows 2 and 16 above (which get absorbed on the right boundary) *are* a posteriori moving with different transition probabilities than the other rows, *and* these transition probabilities depend only on the state-id (nothing more from the random process past, this is called the Markov property for this choice of state). Similarly all the chains eventually absorbed ast zero are moving with transition probabilities different than the original 50/50. Prior to being conditioned on where the row-process ended all games in the tournament share the same 50/50 transition odds. After conditioning (or selection) on eventual outcome: they remain Markov chains on the state, but have different transition probabilities.\n",
    "\n",
    "For those more comfortable with empirical confirmation than proofs, we take a look at these Markov chains again through simulation."
   ]
  },
  {
   "cell_type": "code",
   "execution_count": 1,
   "metadata": {},
   "outputs": [],
   "source": [
    "# import our packages\n",
    "from collections import namedtuple\n",
    "import numpy as np\n",
    "rng = np.random.default_rng(2023)"
   ]
  },
  {
   "cell_type": "code",
   "execution_count": 2,
   "metadata": {},
   "outputs": [],
   "source": [
    "# specify positive stop state\n",
    "k = 4\n"
   ]
  },
  {
   "cell_type": "code",
   "execution_count": 3,
   "metadata": {},
   "outputs": [],
   "source": [
    "# define simulation function\n",
    "WalkResult = namedtuple(\"WalkResult\", \"n_up n state\")\n",
    "\n",
    "def run_walk(start: int) -> WalkResult:\n",
    "    assert isinstance(start, int)\n",
    "    assert (start > 0) and (start <= k)\n",
    "    n = np.zeros(k+1)\n",
    "    n_up = np.zeros(k+1)\n",
    "    state = start\n",
    "    while (state > 0) and (state < k):\n",
    "        n[state] = n[state] + 1\n",
    "        move_up = rng.binomial(n=1, p=0.5, size=1)[0] >= 0.5\n",
    "        if move_up:\n",
    "            n_up[state] = n_up[state] + 1\n",
    "            state = state + 1\n",
    "        else:\n",
    "            state = state - 1\n",
    "    return WalkResult(\n",
    "        n_up=n_up,\n",
    "        n=n,\n",
    "        state=state,\n",
    "        )"
   ]
  },
  {
   "cell_type": "markdown",
   "metadata": {},
   "source": [
    "The above code is a simulation realization of the following Markov chain."
   ]
  },
  {
   "cell_type": "markdown",
   "metadata": {},
   "source": [
    "<img src=\"https://win-vector.com/wp-content/uploads/2023/11/chain50_50.png\">"
   ]
  },
  {
   "cell_type": "code",
   "execution_count": 4,
   "metadata": {},
   "outputs": [],
   "source": [
    "# define function running many simulations\n",
    "SimulationResult = namedtuple(\n",
    "    \"SimulationResult\", \n",
    "    \"n_stopped_positive n_up_given_stopped_positive n_given_stopped_positive\" \n",
    "    \" n_stopped_zero n_up_given_stopped_zero n_given_stopped_zero\")\n",
    "\n",
    "def run_many_simulations(\n",
    "        start: int,\n",
    "        *,\n",
    "        n_repetitions: int = 100000,\n",
    "):\n",
    "    n_stopped_positive = 0\n",
    "    n_up_given_stopped_positive = np.zeros(k+1)\n",
    "    n_given_stopped_positive = np.zeros(k+1)\n",
    "    n_stopped_zero = 0\n",
    "    n_up_given_stopped_zero = np.zeros(k+1)\n",
    "    n_given_stopped_zero = np.zeros(k+1)\n",
    "    for rep in range(n_repetitions):\n",
    "        wr = run_walk(start)\n",
    "        if wr.state > 0:\n",
    "            n_stopped_positive = n_stopped_positive + 1\n",
    "            n_up_given_stopped_positive = n_up_given_stopped_positive + wr.n_up\n",
    "            n_given_stopped_positive = n_given_stopped_positive + wr.n\n",
    "        else:\n",
    "            n_stopped_zero = n_stopped_zero + 1\n",
    "            n_up_given_stopped_zero = n_up_given_stopped_zero + wr.n_up\n",
    "            n_given_stopped_zero = n_given_stopped_zero + wr.n\n",
    "    return SimulationResult(\n",
    "        n_stopped_positive=n_stopped_positive, \n",
    "        n_up_given_stopped_positive=n_up_given_stopped_positive, \n",
    "        n_given_stopped_positive=n_given_stopped_positive, \n",
    "        n_stopped_zero=n_stopped_zero, \n",
    "        n_up_given_stopped_zero=n_up_given_stopped_zero, \n",
    "        n_given_stopped_zero=n_given_stopped_zero,\n",
    "        )"
   ]
  },
  {
   "cell_type": "code",
   "execution_count": 5,
   "metadata": {},
   "outputs": [],
   "source": [
    "s2 = run_many_simulations(start=2)"
   ]
  },
  {
   "cell_type": "code",
   "execution_count": 6,
   "metadata": {},
   "outputs": [
    {
     "data": {
      "text/plain": [
       "50001"
      ]
     },
     "execution_count": 6,
     "metadata": {},
     "output_type": "execute_result"
    }
   ],
   "source": [
    "s2.n_stopped_zero"
   ]
  },
  {
   "cell_type": "code",
   "execution_count": 7,
   "metadata": {},
   "outputs": [
    {
     "data": {
      "text/plain": [
       "49999"
      ]
     },
     "execution_count": 7,
     "metadata": {},
     "output_type": "execute_result"
    }
   ],
   "source": [
    "s2.n_stopped_positive"
   ]
  },
  {
   "cell_type": "code",
   "execution_count": 8,
   "metadata": {},
   "outputs": [],
   "source": [
    "assert np.abs(s2.n_stopped_zero - s2.n_stopped_positive) / (s2.n_stopped_zero + s2.n_stopped_positive) < 1e-2"
   ]
  },
  {
   "cell_type": "code",
   "execution_count": 9,
   "metadata": {},
   "outputs": [
    {
     "data": {
      "text/plain": [
       "array([       nan, 0.33477463, 0.25207718, 0.        ,        nan])"
      ]
     },
     "execution_count": 9,
     "metadata": {},
     "output_type": "execute_result"
    }
   ],
   "source": [
    "with np.errstate(invalid='ignore'):\n",
    "    p_up_given_stopped_zero_2 = s2.n_up_given_stopped_zero / s2.n_given_stopped_zero\n",
    "\n",
    "p_up_given_stopped_zero_2"
   ]
  },
  {
   "cell_type": "markdown",
   "metadata": {},
   "source": [
    "These up-transitions for the chains absorbed at zero are as predicted:\n",
    "\n",
    "<img src=\"https://win-vector.com/wp-content/uploads/2023/11/chain_0.png\">"
   ]
  },
  {
   "cell_type": "code",
   "execution_count": 10,
   "metadata": {},
   "outputs": [
    {
     "data": {
      "text/plain": [
       "[nan, 0.33333333333333337, 0.25, 0.0, nan]"
      ]
     },
     "execution_count": 10,
     "metadata": {},
     "output_type": "execute_result"
    }
   ],
   "source": [
    "def prob_up_right_k(i: int) -> float:\n",
    "    \"\"\" https://github.com/WinVector/Examples/blob/main/ab_test/drunkards_walk.ipynb \"\"\"\n",
    "    if (i<=0) or (i>=k):\n",
    "        return np.nan\n",
    "    return (i+1)/(2*i)\n",
    "\n",
    "theoretical = [1 - prob_up_right_k(k-i) for i in range(k+1)]\n",
    "\n",
    "theoretical"
   ]
  },
  {
   "cell_type": "code",
   "execution_count": 11,
   "metadata": {},
   "outputs": [],
   "source": [
    "assert ((s2.n_stopped_zero / (s2.n_stopped_zero + s2.n_stopped_positive)) - 0.5) < 1e-2"
   ]
  },
  {
   "cell_type": "markdown",
   "metadata": {},
   "source": [
    "Some care must be taken, in the above we are keeping only per-state records. Such record keeping can never detect any variation that depends on more than the last state. However, we already have proven the frequencies being estimated do only depend on the last state (see [The Drunkard's Walk In Detail](https://github.com/WinVector/Examples/blob/main/ab_test/drunkards_walk.ipynb)). So, in this case, the record keeping is correct. The simulation confirms the predicted transition probabilities, but does depend on the Markov property for correctness.\n",
    "\n",
    "We can simulate from a different start position, which does give us a look at different conditioning."
   ]
  },
  {
   "cell_type": "code",
   "execution_count": 12,
   "metadata": {},
   "outputs": [],
   "source": [
    "s1 = run_many_simulations(start=1)"
   ]
  },
  {
   "cell_type": "code",
   "execution_count": 13,
   "metadata": {},
   "outputs": [
    {
     "data": {
      "text/plain": [
       "75033"
      ]
     },
     "execution_count": 13,
     "metadata": {},
     "output_type": "execute_result"
    }
   ],
   "source": [
    "s1.n_stopped_zero"
   ]
  },
  {
   "cell_type": "code",
   "execution_count": 14,
   "metadata": {},
   "outputs": [
    {
     "data": {
      "text/plain": [
       "24967"
      ]
     },
     "execution_count": 14,
     "metadata": {},
     "output_type": "execute_result"
    }
   ],
   "source": [
    "s1.n_stopped_positive"
   ]
  },
  {
   "cell_type": "markdown",
   "metadata": {},
   "source": [
    "Notice now the absorbing probabilities are no longer nearly equal (due to the unfair start).\n"
   ]
  },
  {
   "cell_type": "code",
   "execution_count": 15,
   "metadata": {},
   "outputs": [],
   "source": [
    "assert ((s1.n_stopped_zero / (s1.n_stopped_zero + s1.n_stopped_positive)) - 0.75) < 1e-2"
   ]
  },
  {
   "cell_type": "markdown",
   "metadata": {},
   "source": [
    "\n",
    "However, the observed transition probabilities are the same as before."
   ]
  },
  {
   "cell_type": "code",
   "execution_count": 16,
   "metadata": {},
   "outputs": [
    {
     "data": {
      "text/plain": [
       "array([       nan, 0.33138778, 0.24759747, 0.        ,        nan])"
      ]
     },
     "execution_count": 16,
     "metadata": {},
     "output_type": "execute_result"
    }
   ],
   "source": [
    "with np.errstate(invalid='ignore'):\n",
    "    p_up_given_stopped_zero_1 = s1.n_up_given_stopped_zero / s1.n_given_stopped_zero\n",
    "\n",
    "p_up_given_stopped_zero_1"
   ]
  },
  {
   "cell_type": "code",
   "execution_count": 17,
   "metadata": {},
   "outputs": [],
   "source": [
    "assert np.nanmax(np.abs(p_up_given_stopped_zero_2 - p_up_given_stopped_zero_1)) < 1e-2"
   ]
  },
  {
   "cell_type": "markdown",
   "metadata": {},
   "source": [
    "And that is the absorbing Markov chain again, this time as an empirical example.\n",
    "\n",
    "Please checkout more of our series on Markov chains:\n",
    "\n",
    "  * [A Slightly Unfair Game](https://win-vector.com/2023/10/30/a-slightly-unfair-game/) (the original coin flipping game demo)\n",
    "  * [The Drunkard’s Walk In Detail](https://github.com/WinVector/Examples/blob/main/ab_test/drunkards_walk.ipynb) (proving the Markov property for outcome conditioned walks)\n",
    "  * [The Biased Drunkard’s Walk](https://win-vector.com/2023/12/04/the-biased-drunkards-walk/) (proving stopping time bounds)\n",
    "  * [Conditioning on the Future](https://github.com/WinVector/Examples/blob/main/ab_test/transition_counts.ipynb) (this note, demonstrating the condition transition probabilities)"
   ]
  }
 ],
 "metadata": {
  "kernelspec": {
   "display_name": "research_env",
   "language": "python",
   "name": "python3"
  },
  "language_info": {
   "codemirror_mode": {
    "name": "ipython",
    "version": 3
   },
   "file_extension": ".py",
   "mimetype": "text/x-python",
   "name": "python",
   "nbconvert_exporter": "python",
   "pygments_lexer": "ipython3",
   "version": "3.11.4"
  }
 },
 "nbformat": 4,
 "nbformat_minor": 2
}
