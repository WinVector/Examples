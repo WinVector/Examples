{
 "cells": [
  {
   "cell_type": "markdown",
   "id": "cell0",
   "metadata": {},
   "source": [
    "# The Drunkard's Walk Again\n",
    "\n",
    "## Introduction\n",
    "\n",
    "I would like to spend some time on a simple random walk on the non-negative integers `0 ... k` called \"the drunkard's walk\"  A *lot* of intuition can be had by studying the this system. This note is a quicker way to derive some of the observations found in [\"A Slightly Unfair Game\"](https://win-vector.com/2023/10/30/a-slightly-unfair-game/).\n"
   ]
  },
  {
   "cell_type": "markdown",
   "id": "cell1",
   "metadata": {},
   "source": [
    "## The drunkard's walk\n",
    "\n",
    "Pick an integer `k > 0`, the states of our random process are the integers `0` through `k`. The integers `0` and `k` are both \"stop conditions\" called \"stop zero\" and \"stop non-zero\". For an integer `i` strictly larger than `0` and strictly less than `k`, our random process pick the next integer to be either `i-1` or `i+1` with equal probability. This is called a \"random walk\" and is often known as \"the drunkard's walk\". Some variations have \"stay probabilities\", but we will not need these here.\n",
    "\n",
    "What isn't emphasized enough is: a lot can be quickly see for this walk, without using complicated tools or arguments. In particular the following can all be shown for this system.\n",
    "\n",
    "  1) The probability of a walk started in state-`i` \"stopping non-zero\" (first reaching `k`, with no prior visits to `0`) is `i/k`.\n",
    "  2) The expected time of a walk started in state-`i` to hit either of the stopping conditions (reaching `0` or `k` for the first time) is `i * (k - i)`.\n"
   ]
  },
  {
   "cell_type": "markdown",
   "id": "cell2",
   "metadata": {},
   "source": [
    "## Deriving the probability of \"stopping non-zero\"\n",
    "\n",
    "Let `prob_pos(k, i)` denote the probability that the drunkard's walk started at integer `i` (`0 <= i <= k`) stops at `k` before ever visiting `0`.\n",
    "\n",
    "For any `i` with `0 < i < k` we can expand `prob_pos(k, i)` by one walk step to get: `prob_pos(k, i) = (1/2) prob_pos(k, i-1) + (1/2) prob_pos(k, i+2)`. It is just a matter of algebra to check that `prob_pos(k, i) = i/k` obeys this recurrence, and has the desired values for `i = 0, k`.\n",
    "\n",
    "As a warm up we confirm the claim.\n"
   ]
  },
  {
   "cell_type": "code",
   "execution_count": 1,
   "id": "cell3",
   "metadata": {},
   "outputs": [
    {
     "name": "stdout",
     "output_type": "stream",
     "text": [
      "0\n"
     ]
    }
   ],
   "source": [
    "import sympy\n",
    "\n",
    "i, k = sympy.symbols(\"i k\")\n",
    "\n",
    "check = sympy.expand(\n",
    "    ((1/2) * (i-1)/k + (1/2) * (i+1)/k) \n",
    "    - i/k)\n",
    "assert check == 0\n",
    "\n",
    "print(check)\n"
   ]
  },
  {
   "cell_type": "markdown",
   "id": "cell4",
   "metadata": {},
   "source": [
    "## Deriving the \"expected time to stop\"\n",
    "\n",
    "Let `e_time(k, i)` denote the expected number of steps the drunkard's walk started at integer `i` (`0 <= i <= k`) takes to reach either of `0` or `k` for the first time.\n",
    "\n",
    "For any `i` with `0 < i < k` we can expand `e_time(k, i)` by one walk step to get: `e_time(k, i) = 1 + (1/2) e_time(k, i-1) + (1/2) e_time(k, i+2)`. It is again, a matter of  algebra to check that `e_time(k, i) = i * (k-i)` obeys this recurrence, and has the desired values for `i = 0, k`.\n",
    "\n",
    "Let's confirm this claim.\n"
   ]
  },
  {
   "cell_type": "code",
   "execution_count": 2,
   "id": "cell5",
   "metadata": {},
   "outputs": [
    {
     "name": "stdout",
     "output_type": "stream",
     "text": [
      "0\n"
     ]
    }
   ],
   "source": [
    "check = sympy.expand(\n",
    "    (1 + (1/2) * (i-1) * (k-(i-1)) + (1/2) * (i+1) * (k-(i+1)))\n",
    "    - i * (k-i))\n",
    "assert check == 0\n",
    "\n",
    "print(check)\n"
   ]
  },
  {
   "cell_type": "markdown",
   "id": "cell6",
   "metadata": {},
   "source": [
    "The above directly gives us the \"expected time to step distance `d` is around `d**2` steps\" observation without the usual appeal to linear of expectation applied to independent variances. Note: we the expected stopping time to hit `0` is going to often be very different than the time to hit `k` (and both roughly proportional to the square of how far the specified target is from the start position).\n"
   ]
  }
 ],
 "metadata": {
  "kernelspec": {
   "display_name": "research_env",
   "language": "python",
   "name": "python3"
  },
  "language_info": {
   "codemirror_mode": {
    "name": "ipython",
    "version": 3
   },
   "file_extension": ".py",
   "mimetype": "text/x-python",
   "name": "python",
   "nbconvert_exporter": "python",
   "pygments_lexer": "ipython3",
   "version": "3.11.3"
  }
 },
 "nbformat": 4,
 "nbformat_minor": 5
}
