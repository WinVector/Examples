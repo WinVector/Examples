{
 "cells": [
  {
   "cell_type": "markdown",
   "id": "cell0",
   "metadata": {},
   "source": [
    "# The Drunkard's Walk In Detail\n",
    "\n",
    "## Introduction\n",
    "\n",
    "I would like to spend some time on a simple random walk on the non-negative integers <code>0 ... k</code> called \"the drunkard's walk\"  A *lot* of intuition can be had by studying the this system. This note is a quicker way to derive some of the observations found in [\"A Slightly Unfair Game\"](https://win-vector.com/2023/10/30/a-slightly-unfair-game/).\n",
    "\n",
    "I have found this differs from many treatments of Markov chains in that we are analyzing an \"absorbing chain\" (instead of a \"regular\" or \"ergodic\" one, see Kemeny, Snell, *Finite Markov Chains*, 2nd Edition, 1976, Springer Verlag) and we are using bespoke recurrence arguments instead of the usual move to linear algebra.\n"
   ]
  },
  {
   "cell_type": "markdown",
   "id": "cell1",
   "metadata": {},
   "source": [
    "## The drunkard's walk\n",
    "\n",
    "Pick an integer <code>k &gt; 0</code>. Then the states of our random process are the integers <code>0</code> through <code>k</code>. The integers <code>0</code> and <code>k</code> are both \"stop conditions\" called \"stop zero\" and \"stop non-zero\". For an integer <code>i</code> strictly larger than <code>0</code> and strictly less than <code>k</code>, our random process is: pick the next integer to be either <code>i-1</code> or <code>i+1</code> with equal probability. We stop the process when <code>i</code> is either <code>0</code> or <code>k</code>. This is called a \"random walk\" and is often known as \"the drunkard's walk\". Some variations have \"stay probabilities\", but we will not need these here.\n",
    "\n",
    "What isn't emphasized enough is: a lot can be quickly seen for this walk, without using complicated tools or arguments. In particular we can quickly show the following.\n",
    "\n",
    "  1) The probability of a walk started in state-</code>i</code> \"stopping non-zero\" (first reaching <code>k</code>, with no prior visits to <code>0</code>) is <code>i/k</code>.\n",
    "  2) The expected time of a walk started in state-</code>i</code> to hit either of the stopping conditions (reaching <code>0</code> or <code>k</code> for the first time) is <code>i * (k - i)</code>.\n"
   ]
  },
  {
   "cell_type": "markdown",
   "id": "cell2",
   "metadata": {},
   "source": [
    "## Deriving the probability of \"stopping non-zero\"\n",
    "\n",
    "Let <code>prob_pos<sub>k</sub>(i)</code> denote the probability that the drunkard's walk started at integer <code>i</code> (</code>0 &le; i &le; k</code>) stops at <code>k</code> before ever visiting <code>0</code>.\n",
    "\n",
    "For any <code>i</code> with <code>0&lt;i&lt;k</code> we can expand <code>prob_pos<sub>k</sub>(i)</code> by one walk step to get: <code>prob_pos<sub>k</sub>(i) = (1/2) prob_pos<sub>k</sub>(i-1) + (1/2) prob_pos<sub>k</sub>(i+1)</code>. It is just a matter of algebra to check that <code>prob_pos<sub>k</sub>(i) = i/k</code> obeys this recurrence, and has the desired values for the boundary <code>i = 0, k</code>.\n",
    "\n",
    "As a warm up we confirm the claim.\n"
   ]
  },
  {
   "cell_type": "code",
   "execution_count": 1,
   "id": "cell3",
   "metadata": {},
   "outputs": [
    {
     "name": "stdout",
     "output_type": "stream",
     "text": [
      "0\n"
     ]
    }
   ],
   "source": [
    "import sympy\n",
    "\n",
    "i, k = sympy.symbols(\"i k\")\n",
    "\n",
    "check = sympy.expand(\n",
    "    ((1/2) * (i-1)/k + (1/2) * (i+1)/k) \n",
    "    - i/k)\n",
    "assert check == 0\n",
    "\n",
    "print(check)\n"
   ]
  },
  {
   "cell_type": "markdown",
   "id": "cell4",
   "metadata": {},
   "source": [
    "## Deriving the \"expected time to stop\"\n",
    "\n",
    "Let <code>e_time<sub>k</sub>(i)</code> denote the expected number of steps the drunkard's walk started at integer <code>i</code> (</code>0 &le; i &le; k</code>) takes to reach *either* of <code>0</code> or <code>k</code> for the first time. We are not yet specifying which one is first reached.\n",
    "\n",
    "For any <code>i</code> with <code>0 &lt; i &lt; k</code> we can expand <code>e_time<sub>k</sub>(i)</code> by one walk step to get: <code>e_time<sub>k</sub>(i) = 1 + (1/2) e_time<sub>k</sub>(i-1) + (1/2) e_time<sub>k</sub>(i+1)</code>. It is again, a matter of  algebra to check that <code>e_time<sub>k</sub>(i) = i * (k-i)</code> obeys this recurrence, and has the desired values on the boundary.\n",
    "\n",
    "Let's confirm this claim.\n"
   ]
  },
  {
   "cell_type": "code",
   "execution_count": 2,
   "id": "cell5",
   "metadata": {},
   "outputs": [
    {
     "name": "stdout",
     "output_type": "stream",
     "text": [
      "0\n"
     ]
    }
   ],
   "source": [
    "check = sympy.expand(\n",
    "    (1 + (1/2) * (i-1) * (k-(i-1)) + (1/2) * (i+1) * (k-(i+1)))\n",
    "    - i * (k-i))\n",
    "assert check == 0\n",
    "\n",
    "print(check)\n"
   ]
  },
  {
   "cell_type": "markdown",
   "id": "cell6",
   "metadata": {},
   "source": [
    "The above directly gives us the \"expected time to step distance <code>d</code> is around <code>d**2</code> steps\" observation without the usual appeal to linear of expectation applied to independent variances."
   ]
  }
 ],
 "metadata": {
  "kernelspec": {
   "display_name": "research_env",
   "language": "python",
   "name": "python3"
  },
  "language_info": {
   "codemirror_mode": {
    "name": "ipython",
    "version": 3
   },
   "file_extension": ".py",
   "mimetype": "text/x-python",
   "name": "python",
   "nbconvert_exporter": "python",
   "pygments_lexer": "ipython3",
   "version": "3.11.4"
  }
 },
 "nbformat": 4,
 "nbformat_minor": 5
}
