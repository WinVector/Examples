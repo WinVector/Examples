{
 "cells": [
  {
   "cell_type": "markdown",
   "id": "cell0",
   "metadata": {},
   "source": [
    "# The Biased Drunkard's Walk\n",
    "\n",
    "  * John Mount, [Win Vector LLC](https://win-vector.com)\n",
    "  * Nina Zumel, [Win Vector LLC](https://win-vector.com)\n",
    "  * December 4, 2023"
   ]
  },
  {
   "cell_type": "markdown",
   "id": "cell1",
   "metadata": {},
   "source": [
    "## Introduction\n",
    "\n",
    "This note is a deep dive into the biased drunkard's walk, and its application in what I will define as \"first to win <code>w</code> tournaments.\" This is anticipation of reexamining [Wald's Sequential Analysis](https://win-vector.com/2015/12/10/sequential-analysis/) (a variation of A/B testing with a correct early stopping procedure!).\n",
    "\n",
    "Our previous note ([\"The Drunkard's Walk In Detail\"](https://github.com/WinVector/Examples/blob/main/ab_test/drunkards_walk.ipynb)) demonstrated a lot of properties of the unbiased drunkards walk (the walk with equal probabilities of increasing or decreasing the recorded state). In this note we will concentrate on a biased drunkard's walk where the probability of decreasing our state is <code>p</code> and the probability of increasing state is <code>1-p</code>. We are again working with absorbing Marko chains, and not the usual regular, ergodic, or \"time reversible\" Markov chains. \n",
    "\n",
    "This note is part of our \"check a lot of things by running Python examples\" math series.\n"
   ]
  },
  {
   "cell_type": "markdown",
   "id": "cell2",
   "metadata": {},
   "source": [
    "## The drunkard's walk again\n",
    "\n",
    "As in [\"The Drunkard's Walk In Detail\"](https://github.com/WinVector/Examples/blob/main/ab_test/drunkards_walk.ipynb) we take the non-negative integers <code>0</code> through <code>k &gt; 0</code> as our states. States <code>0</code> and <code>k</code> are \"stopping\" or \"absorbing\" states. Once one of these states is hit the walk is stopped, or over. States <code>1, ..., k-1</code> are continuation states where with probability <code>p</code> we move from state <code>i</code> to state <code>i-1</code>, and otherwise we move from state <code>i</code> to state <code>i+1</code>.\n"
   ]
  },
  {
   "cell_type": "markdown",
   "id": "cell3",
   "metadata": {},
   "source": [
    "### Notation and Definitions\n",
    "\n",
    "Pick <code>k</code> a positive even integer, and set <code>n = k-1</code> and <code>w = (n+1)/2 = k/2</code>.\n",
    "\n",
    "We will try to be somewhat consistent with variable names:\n",
    "\n",
    "  * <code>k (= n+1)</code>, <code>n = k-1</code>, and <code>w = (n+1)/2 = k/2</code> are positive integers describing the size of the random walk region.\n",
    "    * The states <code>1, ..., n</code> are the \"continuation\" or \"non-stopping\" states.\n",
    "    * The states <code>0, k</code> are the \"stopping\" or \"boundary\" states.\n",
    "    * The state <code>w</code> is the middle or \"start state\".\n",
    "  * <code>i</code> is used for state labels.\n",
    "  * <code>j</code> is used for step number or number of steps, meaning \"time.\"\n",
    "  * <code>p</code> is used for probability; throughout we will assume <code>0 &lt; p &lt; 1</code>. By symmetry we will only need estimates and arguments for <code>p &ge; 1/2</code>.\n",
    "  * <code>&lambda;</code> is used for eigenvalues.\n",
    "  * <code>x</code> is used for eigenvectors.\n",
    "  * <code>v</code> is used for a vector whose values represent the probability of being in each modeled state.\n",
    "  * <code>e<sub>i</sub></code> is the probability vector with <code>i</code>-th position equal to <code>1</code>, and zeroes elsewhere.\n",
    "\n",
    "\n",
    "We will track the probability of being in any of the continuation states <code>1, ..., n</code> using a vector <code>v</code> in <code>R<sup>n</sup></code>. <code>v<sub>i</sub></code> is our modeled probability of the random process being in state <code>i</code>. As an example distribution vector, define <code>e<sub>i</sub></code> as the vector that has a <code>1</code> in the <code>i</code>-th position and zeroes everywhere else. We modeled \"stopped probability\" simply as missing mass. For us, probability vectors are non-negative and sum to no more than <code>1</code>. For a such a vector <code>v &ge; 0 </code>, the probability of already of having hit one of the halting states is <code>1 - |v|<sub>1</sub></code> (where <code>||<sub>1</sub></code> is the usual L1-norm).\n"
   ]
  },
  {
   "cell_type": "markdown",
   "id": "cell4",
   "metadata": {},
   "source": [
    "## First to win <code>w</code> Tournaments\n",
    "\n",
    "Consider recording the win/loss outcomes of a sequence of games between two players \"Z\" (zero) and \"P\" (positive). We decrement a count when \"Z\" wins, and increment otherwise. Further suppose \"Z\" has an (unknown) independent probability <code>p</code> of winning any individual game. We want to determine if <code>p &gt; 1/2</code> or not. We start our walk at state <code>i = w</code>, and stop the walk once the state reaches <code>0</code> or <code>k</code>. \n",
    "\n",
    "<img style=\"display:block; margin-left:auto; margin-right:auto;\" src=\"https://win-vector.com/wp-content/uploads/2023/12/unnamed-chunk-3-1.png\" alt=\"Unnamed chunk 3 1\" title=\"unnamed-chunk-3-1.png\" border=\"0\" width=\"672\" height=\"480\" />\n",
    "\n",
    "We call this arrangement a \"first to win <code>w</code> tournament\", as the distance to each boundary is <code>w</code> from the start. Our procedure is to say that we think <code>p &gt; 1/2</code> if the walk stops at <code>0</code>.\n",
    "\n",
    "The utility of a tournament is that for large <code>w</code>, running a tournament greatly increases our probability of correctly identifying the better player from observed outcomes.\n"
   ]
  },
  {
   "cell_type": "markdown",
   "id": "cell5",
   "metadata": {},
   "source": [
    "## Tournament odds as a function of <code>w</code>\n",
    "\n",
    "There is a standard trick argument to calculate the probability that a player of skill <code>p</code> wins a \"first to win <code>w</code> tournament.\"\n",
    "\n",
    "The argument depends on symmetry, so only works for <code>n</code> odd and <code>w = (n+1)/2 = k/2</code>.  Consider the set of <code>S<sub>P</sub></code> of all trajectories that first stop at <code>k</code> and the set <code>S<sub>Z</sub></code> of all trajectories that first stop at <code>0</code>. By symmetry these paths are in 1 to 1 correspondence by just reversing the moves.\n",
    "\n",
    "For a trajectory <code>t<sub>Z</sub> in S<sub>Z</sub></code> that ends on the <code>j</code>-th step we must have: the trajectory took <code>w</code> more \"down/left\" steps than \"up/right\" steps. So the relative probability of this trajectory is <code>p<sup>r+w</sup> (1-p)<sup>r</sup></code>, where <code>r</code> is the non-negative integer such that <code>j = 2 r + w</code>. Another way of saying is this is to observe that if `Z` won the tournament after `j` games, then `P` won `r` games, and `Z` won `r + w`. This trajectory has a matching trajectory <code>t<sub>P</sub> in S<sub>P</sub></code> defined by reversing all the moves. <code>t<sub>P</sub></code> has relative probability <code>p<sup>r</sup> (1-p)<sup>r+w</sup></code>. The ratio of these two quantities is <code>(p/(1-p))<sup>w</sup></code> independent of <code>r</code>. Since this ratio is constant for all matched pairs of stopped trajectories, the ratio <code>P[S<sub>Z</sub>] / P[S<sub>P</sub>]</code> is also <code>(p/(1-p))<sup>w</sup></code>.\n",
    "\n",
    "The above argument shows how a first to win <code>w</code> tournament greatly amplifies the observed probability of the more skilled player prevailing.\n"
   ]
  },
  {
   "cell_type": "markdown",
   "id": "cell6",
   "metadata": {},
   "source": [
    "## Expected Tournament Length\n",
    "\n",
    "We will use linear algebra (in particular eigenvectors and properties of Toeplitz matrices) to characterize the behavior of the drunkard's walk. In [our earlier note](https://github.com/WinVector/Examples/blob/main/ab_test/drunkards_walk.ipynb) we proved a good number of things about the drunkard's walk directly, without resorting to the linear algebra \"hammers\" often used in reasoning about Markov chains. In this note we bring out a *big* such hammer.\n",
    "\n",
    "<a href=\"https://www.worldhistory.org/image/17048/nasmyths-steam-hammer/\">\n",
    "<img src=\"https://win-vector.com/wp-content/uploads/2023/11/nasmyths-steam-hammer-17048.png\">\n",
    "<br>1871 oil painting of a steam hammer invented by James Nasmyth\n",
    "</a>\n"
   ]
  },
  {
   "cell_type": "markdown",
   "id": "cell7",
   "metadata": {},
   "source": [
    "## The Toeplitz matrix formulation\n",
    "\n",
    "In general our \"drunkard's walk\" can be represented by the <code>n</code> by <code>n</code> tri-diagonal Toeplitz matrix <code>T</code> such that:\n",
    "\n",
    "<ul>\n",
    "<li><code>T<sub>i,i-1</sub> = 1-p</code> (probability of a <code>i-1</code> to <code>i</code> transition)</li>\n",
    "<li><code>T<sub>i,i+1</sub> = p</code> (probability of a <code>i+1</code> to <code>i</code> transition)</li>\n",
    "<li><code>0</code> otherwise</li>\n",
    "</ul>\n",
    "\n",
    "Some details on the above notation:\n",
    "\n",
    "  * In this set-up the row of the matrix (which by convention is the first index) is the future state, and the column (which by convention is the second index) is the current state. So <code>T<sub>b,a</sub></code> represents the probability of seeing state <code>b</code> immediately after state <code>a</code> (called \"<code>a &rightarrow; b</code>\" transition).\n",
    "  * This implies <code>T v</code> is the vector of probabilities one step after <code>v</code>. This \"operator matrix on the left\" notation is consistent with linear algebra practice. Unfortunately Markov chain literature, uses a reverse convention; putting the operator on the right. Not checking which convention is being used is a great source of confusion and errors.\n",
    "  * In particular the column <code>T[?, i] = T e<sub>i</sub></code>. So we see the operator as operating on columns by evolving the modeled probability distribution forward one step.\n",
    "\n",
    "As an example, for <code>n = 5</code> we have:\n",
    "\n",
    "<pre>\n",
    "<code>\n",
    "       [  0 ,  p ,  0 ,  0 ,  0 ]\n",
    "       [ 1-p,  0 ,  p ,  0 ,  0 ]\n",
    "T(5) = [  0 , 1-p,  0 ,  p ,  0 ]\n",
    "       [  0 ,  0 , 1-p,  0 ,  p ]\n",
    "       [  0 ,  0 ,  0 , 1-p,  0 ]\n",
    "</code>\n",
    "</pre>\n",
    "\n",
    "\n",
    "The matrix describes how probabilities evolve forward. So facts about this matrix give us facts about the random walk. Our goal is to use this formulation to show when <code>p &ne; 1/2</code> this walk halts faster than what we would expect in the <code>p = 1/2</code> case. We will only argue the <code>p &ge; 1/2</code>, and note the <code>p &le; 1/2</code> case follows from reversing the roles of the two players. From now on: assume <code>1/2 &le; p &lt; 1</code>.\n"
   ]
  },
  {
   "cell_type": "markdown",
   "id": "cell8",
   "metadata": {},
   "source": [
    "### The Toeplitz eigenvalues and eigenvectors\n",
    "\n",
    "It is a standard fact that a Toeplitz matrix <code>T</code> has the eigenvalues:\n",
    "\n",
    "<pre>\n",
    "<code>\n",
    "   &lambda;<sub>h</sub> = 2 sqrt(p (1-p)) cos(h &pi; / k),  h = 1...n\n",
    "</code>\n",
    "</pre>\n",
    "\n",
    "\n",
    "<img style=\"display:block; margin-left:auto; margin-right:auto;\" src=\"https://win-vector.com/wp-content/uploads/2023/12/unnamed-chunk-4-1.png\" alt=\"Unnamed chunk 4 1\" title=\"unnamed-chunk-4-1.png\" border=\"0\" width=\"599\" height=\"428\" />\n"
   ]
  },
  {
   "cell_type": "markdown",
   "metadata": {},
   "source": [
    "The (not normalized) eigenvectors <code>x<sub>1</sub>, ..., x<sub>n</sub></code> are known to be:\n",
    "\n",
    "<pre>\n",
    "<code>\n",
    "   x<sub>h,j</sub> = ((1-p)/p)<sup>j/2</sup> sin(h j &pi; / k),  h = 1...n, j = 1...n\n",
    "</code>\n",
    "</pre>\n",
    "\n",
    "Good references for this include: [Silvia Noschese, Lionello Pasquini, and Lothar Reichel, \"Tridiagonal Toeplitz Matrices: Properties and Novel Applications\"](https://www.math.kent.edu/~reichel/publications/toep3.pdf), [Gene H. Golub, \"CME 302: NUMERICAL LINEAR ALGEBRA\"](http://www2.stat.duke.edu/~sayan/Lek-Heng/Golub_notes/notes14.pdf), and [stack exchange](https://math.stackexchange.com/questions/955168/how-to-find-the-eigenvalues-of-tridiagonal-toeplitz-matrix). We directly confirm the eigenvectors and eigenvalues in an appendix."
   ]
  },
  {
   "cell_type": "markdown",
   "id": "cell9",
   "metadata": {},
   "source": [
    "## Using the Toeplitz formulation\n"
   ]
  },
  {
   "cell_type": "markdown",
   "id": "cell10",
   "metadata": {},
   "source": [
    "### Sizing the eigenvalues\n",
    "\n",
    "An eigenvalue of largest absolute value of our Toeplitz matrix representing our (possibly unfair) drunkards walk is <code>&lambda;<sub>1</sub> = 2 sqrt(p (1-p)) cos(&pi; / k)</code>. \n",
    "\n",
    "We will use a couple of estimates (both gotten by Taylor series expansion):\n",
    "\n",
    "  * For large <code>n</code> we have <code>cos(&pi; / k) ~ 1 - &pi;<sup>2</sup> / (2 k<sup>2</sup>)</code>.\n",
    "  * For positive <code>&epsilon;</code> near zero: <code>(1 - &epsilon;) ~ e<sup>-&epsilon;</sup></code>.\n",
    "\n",
    "We show, for any eigenvalue <code>&lambda;</code> of <code>T</code>:\n",
    "\n",
    "<pre>\n",
    "<code>\n",
    "  |&lambda;|\n",
    "    &le; &lambda;<sub>1</sub>\n",
    "    = 2 sqrt(p (1-p)) cos(&pi; / k)\n",
    "    ~ 2 sqrt(p (1-p)) (1 - &pi;<sup>2</sup> / (2 k<sup>2</sup>))\n",
    "    ~ 2 sqrt(p (1-p)) e<sup>-&pi;<sup>2</sup> / (2 k<sup>2</sup>)</sup>\n",
    "</code>\n",
    "</pre>\n",
    "\n",
    "Thus we know (for large <code>n</code>):\n",
    "\n",
    "<pre>\n",
    "  For any <code>&lambda;</code> eigenvalue of <code>T</code>:\n",
    "    <code>|&lambda;|</code> can't be much bigger than <code>2 sqrt(p (1-p)) exp(- &pi;<sup>2</sup> / (2 k<sup>2</sup>))</code>\n",
    "</pre>\n",
    "\n",
    "We are excited about the case where <code>p &ne; 1/2</code> as then <code>2 sqrt(p (1-p))</code> is strictly below <code>1</code>.\n"
   ]
  },
  {
   "cell_type": "markdown",
   "id": "cell11",
   "metadata": {},
   "source": [
    "### Picking a start vector\n",
    "\n",
    "We are going to start our walk with the probability distribution vector:\n",
    "\n",
    "<pre>\n",
    "  <code>e<sub>mid</sub></code> defined as <code>e<sub>mid,i</sub> = 1 if i = w, 0 otherwise</code>\n",
    "</pre>\n",
    "\n",
    "In linear algebra it is easier to prove facts about eigenvectors than for general vectors. So instead of proving facts about the probability vector <code>e<sub>mid</sub></code>, we will prove facts about a general non-negative vector (not representing probabilities!) called <code>s</code>.  Define:\n",
    "\n",
    "<pre>\n",
    "  <code>s = c * x<sub>1</sub> </code>, where <code>c = (p/(1-p))<sup>w/2</sup></code>\n",
    "</pre>\n",
    "\n",
    "where <code>x<sub>1</sub></code> and <code>x<sub>n</sub></code> are the eigenvectors with eigenvalues of magnitude equal to <code>|&lambda;<sub>1</sub>|</code>.\n",
    "  \n",
    "We will confirm in an appendix that:\n",
    "\n",
    "  * <code>s &ge; 0</code>\n",
    "  * <code>s<sub>w</sub> &ge; 1</code>\n",
    "\n",
    "\n",
    "<img style=\"display:block; margin-left:auto; margin-right:auto;\" src=\"https://win-vector.com/wp-content/uploads/2023/12/unnamed-chunk-16-1.png\" alt=\"Unnamed chunk 16 1\" title=\"unnamed-chunk-16-1.png\" border=\"0\" width=\"672\" height=\"480\" />\n",
    "\n",
    "This is enough to show:\n",
    "\n",
    "  * <code>e<sub>mid</sub> &le; s</code>\n",
    "  * <code>T<sup>2 j</sup> e<sub>mid</sub> &le; T<sup>2 j</sup> s</code> for all non-negative integers <code>j</code> (follows from the fact none of <code>T</code>, <code>e<sub>mid</sub></code>, or <code>s</code> have negative entries).\n",
    "\n",
    "\n",
    "<img style=\"display:block; margin-left:auto; margin-right:auto;\" src=\"https://win-vector.com/wp-content/uploads/2023/12/unnamed-chunk-18-1.png\" alt=\"Unnamed chunk 18 1\" title=\"unnamed-chunk-18-1.png\" border=\"0\" width=\"672\" height=\"480\" />\n",
    "\n",
    "We will also use the fact that <code>&lambda;<sub>1</sub><sup>2 j</sup> = &lambda;<sub>n</sub><sup>2 j</sup></code>, and these are the two eigenvalues with largest absolute value.\n"
   ]
  },
  {
   "cell_type": "markdown",
   "id": "cell12",
   "metadata": {},
   "source": [
    "### Showing the action on <code>s</code>\n",
    "\n",
    "Let's look at the result of applying <code>T</code> to <code>s</code> as many as <code>2 j</code> times.\n",
    "\n",
    "<pre>\n",
    "<code>\n",
    "  T<sup>2 j</sup> s\n",
    "    = T<sup>2 j</sup> c x<sub>1</sub>\n",
    "    =  c T<sup>2 j</sup> x<sub>1</sub> \n",
    "    =  c &lambda;<sub>1</sub><sup>2 j</sup> x<sub>1</sub>\n",
    "    =  &lambda;<sub>1</sub><sup>2 j</sup> c x<sub>1</sub>\n",
    "    =  &lambda;<sub>1</sub><sup>2 j</sup> s\n",
    "</code>\n",
    "</pre>\n",
    "\n",
    "So <code>|T<sup>2 j</sup> s|<sub>1</sub> = &lambda;<sub>1</sub><sup>2 j</sup> |s|<sub>1</sub></code>. Or, <code>s</code> is proportional to an eigenvector of <code>T<sup>2</sup></code>.\n",
    "\n",
    "When <code>p &ge; 1/2</code> we have:\n",
    "\n",
    "  * By the triangle inequality: <code>|s|<sub>1</sub> &le; c * |x<sub>1</sub>|<sub>1</sub></code>.  For <code>p &ge; 1/2</code> we have <code>|x<sub>i</sub>|<sub>1</sub> &le; n</code>. So <code>|s|<sub>1</sub> &le; n c = n (p/(1-p))<sup>w/2</sup></code>.\n",
    "  * Substituting this into the earlier derivation, we have <code>|T<sup>2 j</sup> s|<sub>1</sub> &le; &lambda;<sub>1</sub><sup>2 j</sup> n (p/(1-p))<sup>w/2</sup></code>.\n",
    "  * <code>&lambda;<sub>1</sub><sup>2 j</sup> &le; (2 sqrt(p (1-p)))<sup>2 j</sup> = (4 p (1-p))<sup>j</sup></code> (and <code>(4 p (1-p)) &lt; 1</code>).\n",
    "\n",
    "Putting all of the above together gives us:\n",
    "\n",
    "<pre>\n",
    "<code>\n",
    "  |T<sup>2 j</sup> e<sub>mid</sub>|<sub>1</sub> &le; A * B * C\n",
    "</code>\n",
    "</pre>\n",
    "\n",
    "With:\n",
    "\n",
    "  * <code>A = n (p/(1-p))<sup>w/2</sup></code> is from the initial norm bound on <code>s</code>. It is a large quantity that we have to get rid of.\n",
    "  * <code>B = exp(- 2 j &pi;<sup>2</sup> / (2 k<sup>2</sup>))</code> is related to how fast the fair (<code>p = 1/2</code>) drunkard's walk moves to the halting states. We see the expected <code>O(1/n<sup>2</sup>)</code> decrease rate, showing how slow this sort of escape is.\n",
    "  * <code>C = (4 p (1-p))<sup>j</sup></code> is the exciting bit! When <code>p &ne; 1/2</code> we have <code>4 p (1-p)</code> is less than one and therefore the walk is escaping the non-stopping states exponentially fast in time <code>j</code>.\n",
    "\n",
    "While <code>|T<sup>2 j</sup> s|<sub>1</sub> &ge; 1</code> the above bounds tell us nothing of interest. \n",
    "\n",
    "However, once <code>|T<sup>2 j</sup> s|<sub>1</sub> &le; 1 - f</code> we know also <code>|T<sup>2 j</sup> e<sub>mid</sub>|<sub>1</sub> &le; 1 - f</code>, which means the tournament has a probability of at least <code>f</code> of being complete by time <code>2 j</code>.\n",
    "\n",
    "\n",
    "<img style=\"display:block; margin-left:auto; margin-right:auto;\" src=\"https://win-vector.com/wp-content/uploads/2023/12/unnamed-chunk-20-1.gif\" alt=\"Unnamed chunk 20 1\" title=\"unnamed-chunk-20-1.gif\" border=\"0\" width=\"672\" height=\"480\" />\n",
    "\n",
    "We now have what we want: when <code>p &ne; 1/2</code> the drunkard's walk can be expected to halt in time proportional to <code>n</code>, and not the much larger time proportional to <code>n<sup>2</sup></code> (as we saw in the <code>p = 1/2</code> case [here](https://github.com/WinVector/Examples/blob/main/ab_test/drunkards_walk.ipynb)).\n",
    "\n",
    "\n",
    "<img style=\"display:block; margin-left:auto; margin-right:auto;\" src=\"https://win-vector.com/wp-content/uploads/2023/12/unnamed-chunk-23-1.png\" alt=\"Unnamed chunk 23 1\" title=\"unnamed-chunk-23-1.png\" border=\"0\" width=\"672\" height=\"480\" />\n"
   ]
  },
  {
   "cell_type": "markdown",
   "id": "cell13",
   "metadata": {},
   "source": [
    "## Conclusion\n",
    "\n",
    "We were able to show when <code>p &ne; 1/2</code>:\n",
    "\n",
    "  * First to win <code>w</code> tournaments greatly amplify the reliability of measurements.\n",
    "  * The amount of non-stopped mass in the first to win <code>w</code> tournament is decreasing exponentially fast as a function of time (and not the much slower \"as a function of sqrt-time\")\n",
    "  * The initial bounding mass is not too large, so the decrease rate is enough to move it to small values quickly.\n",
    "\n",
    "Determining where the biased drunkard's walk stops and how long it takes to do so is the key component of [Wald's sequential analysis](https://win-vector.com/2015/12/10/walds-sequential-analysis-technique/). Wald's sequential analysis is a relative of A/B testing that is designed to allow controlled early stopping of experiments, while avoiding the errors introduced by improper early peeking.\n",
    "\n",
    "The benefit of moving to linear algebra arguments include: \n",
    "\n",
    "  * they are exactly the tool for solving linear recurrences\n",
    "  * we can move from probability vectors to general non-negative vectors (given more freedom in the analysis)\n",
    "  * they supply more detailed conjectures (that turn out to be easier to confirm).\n",
    "\n",
    "The argument style substituting in an upper bound we can prove more about is particularly satisfying.\n"
   ]
  },
  {
   "cell_type": "markdown",
   "id": "cell14",
   "metadata": {},
   "source": [
    "## Appendices\n"
   ]
  },
  {
   "cell_type": "markdown",
   "id": "cell15",
   "metadata": {},
   "source": [
    "### Appendix: Confirming the Eigenvectors and Eigenvalues of the tri-diagonal Toeplitz matrix\n",
    "\n",
    "In mathematics, one shouldn't derive everything. But one *has* to check most everything used (else often a mis-read, typo, or unexpected variation in reference notation can spoil the work). The idea is: we *are* going to have typos, misunderstandings, and mistakes, but we work to ensure they are not critical. Derivations and examples help ensure surviving errors are not critical.\n",
    "\n",
    "Let's confirm the claimed eigenvalues and eigenvectors. In the end we are still just checking linear recurrence relations. What the linear algebra formulation brings us the very detailed eigenvectors, which make confirming the eigenvalues and behavior easier.\n",
    "\n",
    "Note: in Python vectors are indexed from <code>0</code>, not <code>1</code> so Python indices will be one smaller than formal indices we discuss in the mathematical sections.\n"
   ]
  },
  {
   "cell_type": "code",
   "execution_count": 1,
   "id": "cell16",
   "metadata": {},
   "outputs": [],
   "source": [
    "import numpy as np\n",
    "import sympy\n"
   ]
  },
  {
   "cell_type": "code",
   "execution_count": 2,
   "id": "cell17",
   "metadata": {},
   "outputs": [],
   "source": [
    "p = sympy.symbols(\"p\", positive = True, real = True)\n",
    "a, h, j, w, n = sympy.symbols(\"a h j w n\", positive = True, real = True, integer=True)\n",
    "\n",
    "# eigenvalues: h numbered from 1 through n\n",
    "def l(h):\n",
    "    return (\n",
    "        sympy.Integer(2) * sympy.sqrt(p * (sympy.Integer(1) - p))\n",
    "        * sympy.cos(h * sympy.pi / (n + sympy.Integer(1)))\n",
    "    )\n",
    "\n",
    "\n",
    "# eigenvectors: h, j numbered from 1 through n\n",
    "def x(h, j):\n",
    "    return (\n",
    "        ((sympy.Integer(1) - p)/p)**(j / sympy.Integer(2))\n",
    "        * sympy.sin(h * j * sympy.pi / (n + sympy.Integer(1)))\n",
    "    )\n"
   ]
  },
  {
   "cell_type": "code",
   "execution_count": 3,
   "id": "cell18",
   "metadata": {},
   "outputs": [],
   "source": [
    "# define example\n",
    "p_example = 2/3\n",
    "n_example = 5\n"
   ]
  },
  {
   "cell_type": "code",
   "execution_count": 4,
   "id": "cell19",
   "metadata": {},
   "outputs": [],
   "source": [
    "# confirm meet conditions\n",
    "assert isinstance(p_example, float) and (p_example >= 1/2) and (p_example < 1)\n",
    "assert isinstance(n_example, int) and (n_example >= 2) and (n_example % 2 != 0)\n"
   ]
  },
  {
   "cell_type": "code",
   "execution_count": 5,
   "id": "cell20",
   "metadata": {},
   "outputs": [
    {
     "data": {
      "text/plain": [
       "[0.8164965809277261,\n",
       " 0.47140452079103173,\n",
       " 0.0,\n",
       " -0.47140452079103173,\n",
       " -0.8164965809277261]"
      ]
     },
     "execution_count": 5,
     "metadata": {},
     "output_type": "execute_result"
    }
   ],
   "source": [
    "# show eigenvalues\n",
    "eigen_values = [\n",
    "    float(l(h_i).subs({p: p_example, n: n_example}))\n",
    "    for h_i in range(1, n_example + 1)]\n",
    "assert len(list(eigen_values)) == len(set(eigen_values))\n",
    "\n",
    "eigen_values\n"
   ]
  },
  {
   "cell_type": "code",
   "execution_count": 6,
   "id": "cell21",
   "metadata": {},
   "outputs": [
    {
     "data": {
      "text/plain": [
       "array([[ 0.35355339,  0.61237244,  0.70710678,  0.61237244,  0.35355339],\n",
       "       [ 0.4330127 ,  0.4330127 ,  0.        , -0.4330127 , -0.4330127 ],\n",
       "       [ 0.35355339,  0.        , -0.35355339,  0.        ,  0.35355339],\n",
       "       [ 0.21650635, -0.21650635,  0.        ,  0.21650635, -0.21650635],\n",
       "       [ 0.08838835, -0.15309311,  0.1767767 , -0.15309311,  0.08838835]])"
      ]
     },
     "execution_count": 6,
     "metadata": {},
     "output_type": "execute_result"
    }
   ],
   "source": [
    "# show eigenvectors (as columns)\n",
    "eigen_vector_list = [\n",
    "    np.array([float(x(h_i, j_i).subs({p: p_example, n: n_example})) \n",
    "              for j_i in range(1, n_example + 1)])\n",
    "    for h_i in range(1, n_example + 1)\n",
    "    ]\n",
    "# note: not a symmetric matrix so eigenvectors not orthogonal\n",
    "# also note unit norm in this formulation\n",
    "eigen_vectors = np.transpose(np.array(eigen_vector_list))  # write as columns\n",
    "\n",
    "eigen_vectors\n"
   ]
  },
  {
   "cell_type": "markdown",
   "id": "cell22",
   "metadata": {},
   "source": [
    "We have to take care. The above eigenvectors are not norm-1, and they are not orthogonal as our matrix was not symmetric.\n"
   ]
  },
  {
   "cell_type": "code",
   "execution_count": 7,
   "id": "cell23",
   "metadata": {},
   "outputs": [
    {
     "data": {
      "text/plain": [
       "array([[0.4921875 , 0.3435997 , 0.140625  , 0.0623497 , 0.0234375 ],\n",
       "       [0.3435997 , 0.6328125 , 0.40594941, 0.1640625 , 0.0623497 ],\n",
       "       [0.140625  , 0.40594941, 0.65625   , 0.40594941, 0.140625  ],\n",
       "       [0.0623497 , 0.1640625 , 0.40594941, 0.6328125 , 0.3435997 ],\n",
       "       [0.0234375 , 0.0623497 , 0.140625  , 0.3435997 , 0.4921875 ]])"
      ]
     },
     "execution_count": 7,
     "metadata": {},
     "output_type": "execute_result"
    }
   ],
   "source": [
    "# show structure of eigenvectors\n",
    "np.matmul(np.transpose(eigen_vectors), eigen_vectors)\n"
   ]
  },
  {
   "cell_type": "markdown",
   "id": "cell24",
   "metadata": {},
   "source": [
    "We can confirm these are (up to proportionality) the eigenvectors corresponding to the claimed eigenvalues. The proof technique uses [trigonometric identities](https://en.wikipedia.org/wiki/List_of_trigonometric_identities#Angle_sum_and_difference_identities). The idea is: the proposed eigenvectors and eigenvalues have <code>sin()</code> and <code>cos()</code> terms laid out in a regular spacing spacing. Then, when we expand out the matrix operating on one of the proposed eigenvectors this produces relations such as <code>sin(a + b) = sin(a) cos(b) + cos(a) sin(b)</code> that cancel things out. This is one of those \"mechanically confirm an amazing guess\" situations, so let's move on to checking.\n",
    "\n",
    "Let's look first at the Toeplitz matrix for our specific numeric example.\n"
   ]
  },
  {
   "cell_type": "code",
   "execution_count": 8,
   "id": "cell25",
   "metadata": {},
   "outputs": [
    {
     "data": {
      "text/plain": [
       "array([[0.        , 0.66666667, 0.        , 0.        , 0.        ],\n",
       "       [0.33333333, 0.        , 0.66666667, 0.        , 0.        ],\n",
       "       [0.        , 0.33333333, 0.        , 0.66666667, 0.        ],\n",
       "       [0.        , 0.        , 0.33333333, 0.        , 0.66666667],\n",
       "       [0.        , 0.        , 0.        , 0.33333333, 0.        ]])"
      ]
     },
     "execution_count": 8,
     "metadata": {},
     "output_type": "execute_result"
    }
   ],
   "source": [
    "# example Toeplitz operator\n",
    "T_example = np.zeros((n_example, n_example), dtype=float)\n",
    "for i in range(n_example-1):\n",
    "    T_example[i, i+1] = p_example\n",
    "    T_example[i+1, i] = 1 - p_example\n",
    "\n",
    "T_example\n"
   ]
  },
  {
   "cell_type": "code",
   "execution_count": 9,
   "id": "cell26",
   "metadata": {},
   "outputs": [],
   "source": [
    "# confirm eigenvectors\n",
    "for i in range(0, n_example):\n",
    "    matrix_result = np.matmul(T_example, eigen_vectors[:, i])\n",
    "    scalar_result = eigen_values[i] * eigen_vectors[:, i]\n",
    "    assert np.max(np.abs(scalar_result - matrix_result)) < 1e-10\n"
   ]
  },
  {
   "cell_type": "markdown",
   "id": "cell27",
   "metadata": {},
   "source": [
    "Now let's look at the general case using algebra.\n",
    "\n",
    "In general we need to check the recurrences encoded in the matrix:\n",
    "\n",
    "  * <code>p * x(h, 2) = l(h) * x(h, 1)</code> (left boundary condition)\n",
    "  * <code>(1-p) * x(h, n-1) = l(h) * x(h, n)</code> (right boundary condition)\n",
    "  * <code>(1-p) * x(h, a-1) + p * x(h, a+1) = l(h) * x(h, a)</code> for <code>1 &lt; a &lt; n</code> (general interior condition).\n",
    "\n",
    "The left-hand sides are how the linear operator <code>T</code> evolves forward our claimed eigenvector <code>x(h,)</code>, and the right hand side is how the claimed eigenvalue <code>l(h)</code> evolves forward <code>x(h,)</code>. For correct eigenvectors and eigenvalues, the two ways of stepping forward are identical (by definition). We are confirming these equations hold for our *proposed* eigenvectors and eigenvalues.\n",
    "\n",
    "This is a bit of an algebra nightmare, but can be machine checked.\n"
   ]
  },
  {
   "cell_type": "markdown",
   "id": "cell28",
   "metadata": {},
   "source": [
    "#### Confirming <code>p * x(h, 2) = l(h) * x(h, 1)</code>.\n",
    "\n",
    "Let's take a look at <code>p * x(h, 2) - l(h) * x(h, 1)</code>.\n"
   ]
  },
  {
   "cell_type": "code",
   "execution_count": 10,
   "id": "cell29",
   "metadata": {},
   "outputs": [
    {
     "data": {
      "text/latex": [
       "$\\displaystyle - 2 \\cdot \\left(1 - p\\right) \\sin{\\left(\\frac{\\pi h}{n + 1} \\right)} \\cos{\\left(\\frac{\\pi h}{n + 1} \\right)} + \\left(1 - p\\right) \\sin{\\left(\\frac{2 \\pi h}{n + 1} \\right)}$"
      ],
      "text/plain": [
       "-2*(1 - p)*sin(pi*h/(n + 1))*cos(pi*h/(n + 1)) + (1 - p)*sin(2*pi*h/(n + 1))"
      ]
     },
     "execution_count": 10,
     "metadata": {},
     "output_type": "execute_result"
    }
   ],
   "source": [
    "expr = p * x(h, 2) - l(h) * x(h, 1)\n",
    "\n",
    "expr\n"
   ]
  },
  {
   "cell_type": "markdown",
   "id": "cell30",
   "metadata": {},
   "source": [
    "We can confirm this is uniformly zero.\n"
   ]
  },
  {
   "cell_type": "code",
   "execution_count": 11,
   "id": "cell31",
   "metadata": {},
   "outputs": [
    {
     "data": {
      "text/latex": [
       "$\\displaystyle 0$"
      ],
      "text/plain": [
       "0"
      ]
     },
     "execution_count": 11,
     "metadata": {},
     "output_type": "execute_result"
    }
   ],
   "source": [
    "expr = expr.simplify().radsimp()\n",
    "assert expr == 0\n",
    "\n",
    "expr\n"
   ]
  },
  {
   "cell_type": "markdown",
   "id": "cell32",
   "metadata": {},
   "source": [
    "#### Confirming <code>(1-p) * x(h, n-1) = l(h) * x(h, n)</code>. \n",
    "\n",
    "Let's look at <code>(1-p) * x(h, n-1) - l(h) * x(h, n)</code>.\n"
   ]
  },
  {
   "cell_type": "code",
   "execution_count": 12,
   "id": "cell33",
   "metadata": {},
   "outputs": [
    {
     "data": {
      "text/latex": [
       "$\\displaystyle - 2 \\sqrt{p} \\left(\\frac{1 - p}{p}\\right)^{\\frac{n}{2}} \\sqrt{1 - p} \\sin{\\left(\\frac{\\pi h n}{n + 1} \\right)} \\cos{\\left(\\frac{\\pi h}{n + 1} \\right)} + \\left(\\frac{1 - p}{p}\\right)^{\\frac{n}{2} - \\frac{1}{2}} \\cdot \\left(1 - p\\right) \\sin{\\left(\\frac{\\pi h \\left(n - 1\\right)}{n + 1} \\right)}$"
      ],
      "text/plain": [
       "-2*sqrt(p)*((1 - p)/p)**(n/2)*sqrt(1 - p)*sin(pi*h*n/(n + 1))*cos(pi*h/(n + 1)) + ((1 - p)/p)**(n/2 - 1/2)*(1 - p)*sin(pi*h*(n - 1)/(n + 1))"
      ]
     },
     "execution_count": 12,
     "metadata": {},
     "output_type": "execute_result"
    }
   ],
   "source": [
    "expr = (1-p) * x(h, n-1) - l(h) * x(h, n)\n",
    "\n",
    "expr\n"
   ]
  },
  {
   "cell_type": "markdown",
   "id": "cell34",
   "metadata": {},
   "source": [
    "This can be confirmed to be zero.\n"
   ]
  },
  {
   "cell_type": "code",
   "execution_count": 13,
   "id": "cell35",
   "metadata": {},
   "outputs": [
    {
     "data": {
      "text/latex": [
       "$\\displaystyle 0$"
      ],
      "text/plain": [
       "0"
      ]
     },
     "execution_count": 13,
     "metadata": {},
     "output_type": "execute_result"
    }
   ],
   "source": [
    "expr = expr.subs({n: 2*w - 1})\n",
    "expr = expr.simplify().radsimp()\n",
    "assert expr == 0\n",
    "\n",
    "expr\n"
   ]
  },
  {
   "cell_type": "markdown",
   "id": "cell36",
   "metadata": {},
   "source": [
    "#### Confirming <code>(1-p) * x(h, a-1) + p * x(h, a+1) = l(h) * x(h, a)</code>\n"
   ]
  },
  {
   "cell_type": "code",
   "execution_count": 14,
   "id": "cell37",
   "metadata": {},
   "outputs": [
    {
     "data": {
      "text/latex": [
       "$\\displaystyle - 2 \\sqrt{p} \\left(\\frac{1 - p}{p}\\right)^{\\frac{a}{2}} \\sqrt{1 - p} \\sin{\\left(\\frac{\\pi a h}{n + 1} \\right)} \\cos{\\left(\\frac{\\pi h}{n + 1} \\right)} + p \\left(\\frac{1 - p}{p}\\right)^{\\frac{a}{2} + \\frac{1}{2}} \\sin{\\left(\\frac{\\pi h \\left(a + 1\\right)}{n + 1} \\right)} + \\left(\\frac{1 - p}{p}\\right)^{\\frac{a}{2} - \\frac{1}{2}} \\cdot \\left(1 - p\\right) \\sin{\\left(\\frac{\\pi h \\left(a - 1\\right)}{n + 1} \\right)}$"
      ],
      "text/plain": [
       "-2*sqrt(p)*((1 - p)/p)**(a/2)*sqrt(1 - p)*sin(pi*a*h/(n + 1))*cos(pi*h/(n + 1)) + p*((1 - p)/p)**(a/2 + 1/2)*sin(pi*h*(a + 1)/(n + 1)) + ((1 - p)/p)**(a/2 - 1/2)*(1 - p)*sin(pi*h*(a - 1)/(n + 1))"
      ]
     },
     "execution_count": 14,
     "metadata": {},
     "output_type": "execute_result"
    }
   ],
   "source": [
    "expr = ((1-p) * x(h, a-1) + p * x(h, a+1)) - l(h) * x(h, a)\n",
    "\n",
    "expr\n"
   ]
  },
  {
   "cell_type": "code",
   "execution_count": 15,
   "id": "cell38",
   "metadata": {},
   "outputs": [
    {
     "data": {
      "text/latex": [
       "$\\displaystyle 0$"
      ],
      "text/plain": [
       "0"
      ]
     },
     "execution_count": 15,
     "metadata": {},
     "output_type": "execute_result"
    }
   ],
   "source": [
    "check = expr.simplify()\n",
    "\n",
    "assert check==0\n",
    "check\n"
   ]
  },
  {
   "cell_type": "markdown",
   "id": "cell39",
   "metadata": {},
   "source": [
    "And that confirms our last claim.\n",
    "\n",
    "We have delegated some ugly work to the sympy symbolic algebra system.\n"
   ]
  },
  {
   "cell_type": "markdown",
   "id": "cell40",
   "metadata": {},
   "source": [
    "### Appendix: Confirming the start properties\n"
   ]
  },
  {
   "cell_type": "markdown",
   "id": "cell41",
   "metadata": {},
   "source": [
    "For odd integer <code>n</code> define:\n",
    "\n",
    "<pre>\n",
    "  <code>s = c * x<sub>1</sub></code>, where <code>c = (p/(1-p))<sup>w/2</sup></code>\n",
    "</pre>\n",
    "\n",
    "We must show:\n",
    "\n",
    "  * <code>s &ge; 0</code>\n",
    "  * <code>s<sub>w</sub> &ge; 1</code>\n",
    "\n",
    "Recall: \n",
    "<pre>\n",
    "<code>\n",
    "   x<sub>1,j</sub> = ((1-p)/p)<sup>j/2</sup> sin(j &pi; / k),  j = 1...n\n",
    "</code>\n",
    "</pre>\n"
   ]
  },
  {
   "cell_type": "markdown",
   "id": "cell42",
   "metadata": {},
   "source": [
    "#### Confirming <code>s &ge; 0</code>\n",
    "\n",
    "This reduces to a matter of checking if <code>sin(j &pi; / k) &ge; 0</code> for <code>j = 1 ... n = k-1</code>, which is in fact true.\n",
    "\n"
   ]
  },
  {
   "cell_type": "markdown",
   "id": "cell43",
   "metadata": {},
   "source": [
    "#### Confirming <code>s<sub>w</sub> &ge; 1</code>\n",
    "\n",
    "This reduces to a matter of checking if <code>sin(w &pi; / k) &ge; 1</code>.  As <code>sin(w &pi; / k) = sin(pi/2) = 1</code>, this is confirmed.\n"
   ]
  }
 ],
 "metadata": {
  "kernelspec": {
   "display_name": "research_env",
   "language": "python",
   "name": "python3"
  },
  "language_info": {
   "codemirror_mode": {
    "name": "ipython",
    "version": 3
   },
   "file_extension": ".py",
   "mimetype": "text/x-python",
   "name": "python",
   "nbconvert_exporter": "python",
   "pygments_lexer": "ipython3",
   "version": "3.11.4"
  }
 },
 "nbformat": 4,
 "nbformat_minor": 5
}
