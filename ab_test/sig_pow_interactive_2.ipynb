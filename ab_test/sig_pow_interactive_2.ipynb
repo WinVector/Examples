{
 "cells": [
  {
   "cell_type": "markdown",
   "metadata": {},
   "source": [
    "Interactive version of the graph from [A/B Tests for Engineers](https://win-vector.com/2023/10/15/a-b-tests-for-engineers/).\n",
    "\n",
    "To see the interaction: download [directory](https://github.com/WinVector/Examples/tree/main/ab_test) and run this Jupyter notebook in JupyterLab or VSCode.\n",
    "\n",
    "[Jupyter Widgets documentation](https://ipywidgets.readthedocs.io/en/latest/index.html)"
   ]
  },
  {
   "cell_type": "code",
   "execution_count": null,
   "metadata": {},
   "outputs": [],
   "source": [
    "# import our modules\n",
    "import numpy as np\n",
    "import pandas as pd\n",
    "from IPython.display import display, clear_output\n",
    "from scipy.stats import norm\n",
    "import matplotlib.pyplot as plt\n",
    "from sig_pow_visual import binomial_diff_sig_pow_visual\n",
    "\n",
    "import ipywidgets as widgets"
   ]
  },
  {
   "cell_type": "code",
   "execution_count": null,
   "metadata": {},
   "outputs": [],
   "source": [
    "# our specification of interest\n",
    "power = 0.9  # desired true positive rate for the test\n",
    "significance = 0.02  # desired false positive rate for the test\n",
    "# derived from the above\n",
    "n = 557  # the experiment size\n",
    "r = 0.1  # the assumed large effect size (difference in conversion rates)\n",
    "t = 0.061576 # the correct threshold for specified power and significance\n"
   ]
  },
  {
   "cell_type": "code",
   "execution_count": null,
   "metadata": {},
   "outputs": [],
   "source": [
    "def make_graph(threshold):\n",
    "    # convert to what were the function arguments\n",
    "    threshold = float(threshold)\n",
    "    stdev = np.sqrt(0.5 / n)\n",
    "    effect_size = r\n",
    "    sig_area = norm.sf(x=threshold, loc=0, scale=stdev)  # .sf() = 1 - .cdf()\n",
    "    mpow_area = norm.sf(x=effect_size, loc=threshold, scale=stdev)\n",
    "    title='Shaded area under the tails give you significance and 1-power '\n",
    "    subtitle = f' H0: significance (false positive rate) = {sig_area:.3f} = right area\\n H1: 1-power (false negative rate) = {mpow_area:.3f} = left area'\n",
    "    return  binomial_diff_sig_pow_visual(\n",
    "        stdev=stdev,\n",
    "        effect_size=effect_size,\n",
    "        threshold=threshold,\n",
    "        title=title,\n",
    "        subtitle=subtitle\n",
    "    )\n",
    "\n"
   ]
  },
  {
   "cell_type": "code",
   "execution_count": null,
   "metadata": {},
   "outputs": [],
   "source": [
    "menu = widgets.Dropdown(\n",
    "    options = [0.0, 0.061576, 0.1],\n",
    "    value = 0.061576,\n",
    "    description='Decision threshold:',\n",
    "    disabled=False\n",
    ")\n",
    "\n",
    "output = widgets.Output()\n",
    "display(menu, output)\n",
    "\n",
    "def on_year_selected(change):\n",
    "    with output:\n",
    "        if(menu.value != ''):\n",
    "            clear_output(wait=True) \n",
    "            print(make_graph(menu.value))\n",
    "        else:\n",
    "            clear_output(wait=False)\n",
    "on_year_selected(menu.value)\n",
    "menu.observe(on_year_selected, names='value')"
   ]
  }
 ],
 "metadata": {
  "kernelspec": {
   "display_name": "data_algebra_dev_env",
   "language": "python",
   "name": "python3"
  },
  "language_info": {
   "codemirror_mode": {
    "name": "ipython",
    "version": 3
   },
   "file_extension": ".py",
   "mimetype": "text/x-python",
   "name": "python",
   "nbconvert_exporter": "python",
   "pygments_lexer": "ipython3",
   "version": "3.11.4"
  },
  "orig_nbformat": 4
 },
 "nbformat": 4,
 "nbformat_minor": 2
}
