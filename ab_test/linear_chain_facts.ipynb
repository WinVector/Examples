{
 "cells": [
  {
   "cell_type": "markdown",
   "metadata": {},
   "source": [
    "# Linear Markov Chain Facts\n",
    "\n",
    "I want to collect some \"great things to know about linear Markov chains.\"\n",
    "\n",
    "For this note we are working with a [Markov chain](https://en.wikipedia.org/wiki/Markov_chain) on states that are the integers `0` through `k` (`k > 0`). A Markov chain is an iterative random process with time tracked as an increasing integer `t`, and the next state of the chain depending only on the current (soon to be previous) state. For our linear Markov chain the only possible next states from state `i` are: `i` (called a \"self loop\" when present), `i+1` (called up or right), and `i-1` (called down or left). In no case does the chain progress below `0` or above `k`.\n",
    "\n",
    "There are two important variations of this Markov chain:\n",
    "\n",
    "  * The absorbing one, where the exit probabilities of states `0` and `k` are both zero. All other up/right probabilities are `p` and all other down/left probabilities are `1-p`.\n",
    "  * The stationary one, where all up/right probabilities are `p/2` and all down/left probabilities are `(1-p)/2` (the rest of the time taking self loops). \"Stationary\" in this case means the behavior of the chain is approaching a single limiting or stationary behavior (compared to the absorbing chains which have two different absorbing states)."
   ]
  },
  {
   "cell_type": "markdown",
   "metadata": {},
   "source": [
    "The absorbing chain is illustrated below.\n",
    "\n",
    "<img src=\"https://win-vector.com/wp-content/uploads/2023/12/p_walk.png\">\n",
    "\n",
    "The stationary chain is similar."
   ]
  },
  {
   "cell_type": "markdown",
   "metadata": {},
   "source": [
    "For this sort of Markov chain one can directly solve for most of the important behaviors. This is a bit under-taught, and good to keep as a reference.\n",
    "\n",
    "If `p = 1/2` then:\n",
    "\n",
    "  * On the absorbing chain the probability of stopping at state `k`, given one starts at state `i` is: `i/k`.\n",
    "  * On the absorbing chain the probability of stopping at state `0`, given one starts at state `i` is: `1 - i/k`.\n",
    "  * On the absorbing chain the expected time to first stop at either of state `0` or `k`, given one starts at state `i` is: `i * (k - i)`.\n",
    "  * On the stationary chain the steady-state probability of seeing the chain in state `i` is: `1/(k+1)`.\n",
    "\n",
    "If `0 < p < 1` and `p != 1/2`, set `z = p/(1-p)` (the odds) then:\n",
    "\n",
    "  * On the absorbing chain the probability of stopping at state `k`, given one starts at state `i` is: `(z**k - z**(k-i)) / (z**k - 1)`.\n",
    "  * On the absorbing chain the probability of stopping at state `0`, given one starts at state `i` is: `(z**(k-i) - 1) / (z**k - 1)`.\n",
    "  * On the absorbing chain the expected time to first stop at either of state `0` or `k`, given one starts at state `i` is: `((z+1)/(z-1)) * (k * (z**k - z**(k-i)) / (z**k - 1) - i)`.\n",
    "  * On the stationary chain the steady-state probability of seeing the chain in state `i` is: `z**i * (z - 1) / (z**(k+1) - 1)`.\n"
   ]
  },
  {
   "cell_type": "markdown",
   "metadata": {},
   "source": [
    "We also have an explicit bound on the probability of the absorbing chain running past a given time [here](https://github.com/WinVector/Examples/blob/main/ab_test/TheBiasedDrunkardsWalk.ipynb) (though one can get similar by arguing the run time shouldn't be too far from its expected value that often and attempting to apply a [concentration inequality](https://en.wikipedia.org/wiki/Concentration_inequality))."
   ]
  },
  {
   "cell_type": "markdown",
   "metadata": {},
   "source": [
    "Please check out more of our series on Markov chains:\n",
    "\n",
    "<ul>\n",
    "<li><a href=\"https://win-vector.com/2023/10/30/a-slightly-unfair-game/\">A Slightly Unfair Game</a> (the original coin flipping game demo)</li>\n",
    "<li><a href=\"https://github.com/WinVector/Examples/blob/main/ab_test/drunkards_walk.ipynb\">The Drunkard’s Walk In Detail</a> (proving the Markov property for outcome conditioned walks)</li>\n",
    "<li><a href=\"https://win-vector.com/2023/12/04/the-biased-drunkards-walk/\">The Biased Drunkard’s Walk</a> (proving stopping time bounds)</li>\n",
    "<li><a href=\"https://github.com/WinVector/Examples/blob/main/ab_test/transition_counts.ipynb\">Conditioning on the Future</a> demonstrating the condition transition probabilities</li>\n",
    "<li><a href=\"https://github.com/WinVector/Examples/blob/main/ab_test/linear_chain_facts.ipynb\">Linear Chain Facts</a> this note, quick derivations of probabilities and expected wait times.</li>\n",
    "</ul>\n"
   ]
  },
  {
   "cell_type": "markdown",
   "metadata": {},
   "source": [
    "## Appendices"
   ]
  },
  {
   "cell_type": "markdown",
   "metadata": {},
   "source": [
    "### Appendix: The Derivation Outline\n",
    "\n",
    "All of the above is derived by writing down solutions that obey various linear recurrences:\n",
    "\n",
    "  * For stop probability: `P[stop at k | state = i] = (1-p) P[stop at k | state = i-1] + p P[stop at k | state = i+1]`.\n",
    "  * For expected stop time: `E[stop time | state = i] = 1 + (1-p) E[stop time | state = i-1] + p E[stop time | state = i+1]`.\n",
    "  * For stationary distribution: `P[state = i] P[next state = i+1 | state = i] = P[state = i+1] P[next state = i | state = i+1]` (this is called \"[detailed balance](https://en.wikipedia.org/wiki/Detailed_balance)\").\n",
    "\n",
    "The first two solutions can be found by the well known theory of linear recurrences. In sketch form we do the following.\n",
    "\n",
    "We want to solve for `f()` in the linear recurrence `a f(n+2) + b f(n+1) + c f(n) = d`. \n",
    "\n",
    "  * The solution is: `f(n) = A (r1)**n + B (r2)**n + C(n)` where `r1`, `r2` are roots of the characteristic polynomial `a x**2 + b x + c = 0`.\n",
    "  * In our case we had `r1 = 1`, `r2 = (1-p)/p`. \n",
    "  * Then solve for `A`, `B`, `C()` are solved for by matching the equation to known values or boundary conditions (in our case `f(0)` and `f(k)`). \n",
    "  * `C()` is typically a low degree polynomial, and `0` when `d = 0`.\n",
    "\n",
    "Realizing the above is just a fairly long mechanical application of algebra.\n",
    "\n",
    "The stationary distribution is found by noticing the detailed balance conditions imply `P[state = i+1] / P[state = i] = p / (1-p)` and then enforcing the sum of all state probabilities must equal `1`.\n",
    "\n",
    "The detailed balance conditions are usually an additional assumption imposed to restrict to nice or time-reversible Markov chains. In the case of linear chains (where all edges are graph separating cuts): then the detailed balance condition follows from (already specified) conservation of probability (and is not in fact an additional assumption in this case). This is the usual mathematical attempt to cary a property from simpler systems to more complex ones.\n"
   ]
  },
  {
   "cell_type": "markdown",
   "metadata": {},
   "source": [
    "### Appendix: demonstrate the above claims in Python"
   ]
  },
  {
   "cell_type": "code",
   "execution_count": 1,
   "metadata": {},
   "outputs": [],
   "source": [
    "# import our packages\n",
    "import numpy as np\n",
    "# configure\n",
    "np.set_printoptions(linewidth=300)\n",
    "dtype = np.float64"
   ]
  },
  {
   "cell_type": "code",
   "execution_count": 2,
   "metadata": {},
   "outputs": [],
   "source": [
    "# set some example parameters\n",
    "k = 6\n",
    "p = 2/3\n"
   ]
  },
  {
   "cell_type": "code",
   "execution_count": 3,
   "metadata": {},
   "outputs": [],
   "source": [
    "# numeric check tolerance\n",
    "epsilon = 1e-8"
   ]
  },
  {
   "cell_type": "markdown",
   "metadata": {},
   "source": [
    "Note: in all matrices here `M[a][b]` is the probability of moving form `b` to `a`. This transpose notation allows us to write operators on the left (as is traditional in linear algebra)."
   ]
  },
  {
   "cell_type": "code",
   "execution_count": 4,
   "metadata": {},
   "outputs": [
    {
     "data": {
      "text/plain": [
       "array([[1.        , 0.33333333, 0.        , 0.        , 0.        , 0.        , 0.        ],\n",
       "       [0.        , 0.        , 0.33333333, 0.        , 0.        , 0.        , 0.        ],\n",
       "       [0.        , 0.66666667, 0.        , 0.33333333, 0.        , 0.        , 0.        ],\n",
       "       [0.        , 0.        , 0.66666667, 0.        , 0.33333333, 0.        , 0.        ],\n",
       "       [0.        , 0.        , 0.        , 0.66666667, 0.        , 0.33333333, 0.        ],\n",
       "       [0.        , 0.        , 0.        , 0.        , 0.66666667, 0.        , 0.        ],\n",
       "       [0.        , 0.        , 0.        , 0.        , 0.        , 0.66666667, 1.        ]])"
      ]
     },
     "execution_count": 4,
     "metadata": {},
     "output_type": "execute_result"
    }
   ],
   "source": [
    "# transition matrix for absorbing chain\n",
    "tm_stop = np.zeros(\n",
    "    shape=(k+1, k+1),\n",
    "    dtype=dtype)\n",
    "tm_stop[0, 0] = 1\n",
    "tm_stop[k, k] = 1\n",
    "for i in range(1, k):\n",
    "    tm_stop[i-1, i] = 1-p\n",
    "    tm_stop[i+1, i] = p\n",
    "ones_col = np.zeros(\n",
    "    shape=(1, k+1), \n",
    "    dtype=dtype) + 1\n",
    "assert np.min(tm_stop) >= 0\n",
    "assert np.max(np.abs(np.matmul(ones_col, tm_stop) - ones_col)) < epsilon\n",
    "\n",
    "tm_stop"
   ]
  },
  {
   "cell_type": "markdown",
   "metadata": {},
   "source": [
    "#### Confirming probability of stopping right/positive."
   ]
  },
  {
   "cell_type": "code",
   "execution_count": 5,
   "metadata": {},
   "outputs": [
    {
     "data": {
      "text/plain": [
       "array([[-1.63890066e-17],\n",
       "       [ 5.07936508e-01],\n",
       "       [ 7.61904762e-01],\n",
       "       [ 8.88888889e-01],\n",
       "       [ 9.52380952e-01],\n",
       "       [ 9.84126984e-01],\n",
       "       [ 1.00000000e+00]])"
      ]
     },
     "execution_count": 5,
     "metadata": {},
     "output_type": "execute_result"
    }
   ],
   "source": [
    "# solve for right-stop probabilities\n",
    "# could also use left eigenvalue solver, but as we know eigenvalue is 1 simple linear algebra will do\n",
    "tts = tm_stop.T\n",
    "c1_0 = np.zeros((1, k+1))\n",
    "c1_0[0][0] = 1\n",
    "c0_1 = np.zeros((1, k+1))\n",
    "c0_1[0][k] = 1\n",
    "a = np.concatenate([\n",
    "    tts - np.identity(k+1, dtype=dtype), \n",
    "    c1_0, \n",
    "    c0_1,\n",
    "    ])\n",
    "b = np.zeros((k+3, 1))\n",
    "b[k+2] = 1\n",
    "stop_soln = np.linalg.solve(\n",
    "    np.matmul(a.T, a),\n",
    "    np.matmul(a.T, b)\n",
    ")\n",
    "\n",
    "stop_soln"
   ]
  },
  {
   "cell_type": "code",
   "execution_count": 6,
   "metadata": {},
   "outputs": [],
   "source": [
    "# confirm expected properties of stop_soln\n",
    "assert np.abs(stop_soln[0] - 0) < epsilon\n",
    "assert np.abs(stop_soln[k] - 1) < epsilon\n",
    "assert np.min(stop_soln) > -epsilon\n",
    "assert (np.max(stop_soln) - 1) < epsilon\n",
    "assert np.max(np.abs(np.matmul(tts, stop_soln) - stop_soln)) < epsilon\n",
    "for i in range(1, k+1):\n",
    "    assert stop_soln[i-1] < stop_soln[i]"
   ]
  },
  {
   "cell_type": "code",
   "execution_count": 7,
   "metadata": {},
   "outputs": [],
   "source": [
    "def p_stop_positive_from_i(i:int, *, k:int, p:float) -> float:\n",
    "    \"\"\"\n",
    "    Compute the probability of stopping at k when starting at state i on the\n",
    "    \"probability up = p\" \n",
    "    Markov chain with states integers 0 through k (inclusive, k>0; states 0, k absorbing).\n",
    "    \"\"\"\n",
    "    assert isinstance(i, int)\n",
    "    assert isinstance(k, int)\n",
    "    assert k > 0\n",
    "    assert (i>=0) and (i<=k)\n",
    "    assert (p>0) and (p<1)\n",
    "    z = p/(1-p)\n",
    "    if p==1/2:\n",
    "        return i/k\n",
    "    return (z**k - z**(k-i)) / (z**k - 1)"
   ]
  },
  {
   "cell_type": "code",
   "execution_count": 8,
   "metadata": {},
   "outputs": [
    {
     "data": {
      "text/plain": [
       "array([[0.        ],\n",
       "       [0.50793651],\n",
       "       [0.76190476],\n",
       "       [0.88888889],\n",
       "       [0.95238095],\n",
       "       [0.98412698],\n",
       "       [1.        ]])"
      ]
     },
     "execution_count": 8,
     "metadata": {},
     "output_type": "execute_result"
    }
   ],
   "source": [
    "stop_i_res = np.array([p_stop_positive_from_i(i, k=k, p=p) for i in range(k+1)], dtype=dtype).reshape((k+1, 1))\n",
    "stop_i_res"
   ]
  },
  {
   "cell_type": "markdown",
   "metadata": {},
   "source": [
    "Show numeric solution matches theoretical solution."
   ]
  },
  {
   "cell_type": "code",
   "execution_count": 9,
   "metadata": {},
   "outputs": [
    {
     "data": {
      "text/plain": [
       "2.220446049250313e-15"
      ]
     },
     "execution_count": 9,
     "metadata": {},
     "output_type": "execute_result"
    }
   ],
   "source": [
    "max_diff_stop = np.max(np.abs(stop_soln - stop_i_res))\n",
    "\n",
    "max_diff_stop"
   ]
  },
  {
   "cell_type": "code",
   "execution_count": 10,
   "metadata": {},
   "outputs": [],
   "source": [
    "assert max_diff_stop < epsilon"
   ]
  },
  {
   "cell_type": "markdown",
   "metadata": {},
   "source": [
    "#### Confirming expected stop time"
   ]
  },
  {
   "cell_type": "code",
   "execution_count": 11,
   "metadata": {},
   "outputs": [],
   "source": [
    "def expected_stop_time_i(i:int, *, k:int, p: float) -> float:\n",
    "  \"\"\"\n",
    "  Compute the expected stop time starting state i on the\n",
    "  up with probability p \n",
    "  Markov chain with states integers 0 through k (inclusive, k>0; states 0, k absorbing).\n",
    "  \"\"\"\n",
    "  assert isinstance(i, int)\n",
    "  assert isinstance(k, int)\n",
    "  assert k > 0\n",
    "  assert (i>=0) and (i<=k)\n",
    "  assert (p>0) and (p<1)\n",
    "  z = p/(1-p)\n",
    "  if p==1/2:\n",
    "    return i * (k - i)\n",
    "  return ((z+1)/(z-1)) * (k * (z**k - z**(k-i)) / (z**k - 1) - i)"
   ]
  },
  {
   "cell_type": "code",
   "execution_count": 12,
   "metadata": {},
   "outputs": [
    {
     "data": {
      "text/plain": [
       "array([[0.00000000e+00],\n",
       "       [6.14285714e+00],\n",
       "       [7.71428571e+00],\n",
       "       [7.00000000e+00],\n",
       "       [5.14285714e+00],\n",
       "       [2.71428571e+00],\n",
       "       [2.66453526e-15]])"
      ]
     },
     "execution_count": 12,
     "metadata": {},
     "output_type": "execute_result"
    }
   ],
   "source": [
    "expected_times = np.array([expected_stop_time_i(i, k=k, p=p) for i in range(k+1)], dtype=dtype).reshape((k+1, 1))\n",
    "\n",
    "expected_times"
   ]
  },
  {
   "cell_type": "code",
   "execution_count": 13,
   "metadata": {},
   "outputs": [],
   "source": [
    "# check expected properties\n",
    "assert np.min(expected_times) > -epsilon\n",
    "assert np.abs(expected_times[0] - 0) < epsilon\n",
    "assert np.abs(expected_times[k] - 0) < epsilon\n",
    "check_times = np.zeros((k+1, 1), dtype=dtype)\n",
    "for i in range(1, k):\n",
    "    check_times[i][0] = (1-p)*expected_times[i-1][0] + p*expected_times[i+1][0] + 1"
   ]
  },
  {
   "cell_type": "markdown",
   "metadata": {},
   "source": [
    "Confirm the expected times obey the defining invariance."
   ]
  },
  {
   "cell_type": "code",
   "execution_count": 14,
   "metadata": {},
   "outputs": [
    {
     "data": {
      "text/plain": [
       "array([[0.        ],\n",
       "       [6.14285714],\n",
       "       [7.71428571],\n",
       "       [7.        ],\n",
       "       [5.14285714],\n",
       "       [2.71428571],\n",
       "       [0.        ]])"
      ]
     },
     "execution_count": 14,
     "metadata": {},
     "output_type": "execute_result"
    }
   ],
   "source": [
    "check_times"
   ]
  },
  {
   "cell_type": "code",
   "execution_count": 15,
   "metadata": {},
   "outputs": [
    {
     "data": {
      "text/plain": [
       "2.6645352591003765e-15"
      ]
     },
     "execution_count": 15,
     "metadata": {},
     "output_type": "execute_result"
    }
   ],
   "source": [
    "check_error = np.max(np.abs(check_times - expected_times))\n",
    "\n",
    "check_error"
   ]
  },
  {
   "cell_type": "code",
   "execution_count": 16,
   "metadata": {},
   "outputs": [],
   "source": [
    "assert check_error < epsilon"
   ]
  },
  {
   "cell_type": "markdown",
   "metadata": {},
   "source": [
    "#### Confirming stationary distribution"
   ]
  },
  {
   "cell_type": "code",
   "execution_count": 17,
   "metadata": {},
   "outputs": [
    {
     "data": {
      "text/plain": [
       "array([[0.66666667, 0.16666667, 0.        , 0.        , 0.        , 0.        , 0.        ],\n",
       "       [0.33333333, 0.5       , 0.16666667, 0.        , 0.        , 0.        , 0.        ],\n",
       "       [0.        , 0.33333333, 0.5       , 0.16666667, 0.        , 0.        , 0.        ],\n",
       "       [0.        , 0.        , 0.33333333, 0.5       , 0.16666667, 0.        , 0.        ],\n",
       "       [0.        , 0.        , 0.        , 0.33333333, 0.5       , 0.16666667, 0.        ],\n",
       "       [0.        , 0.        , 0.        , 0.        , 0.33333333, 0.5       , 0.16666667],\n",
       "       [0.        , 0.        , 0.        , 0.        , 0.        , 0.33333333, 0.83333333]])"
      ]
     },
     "execution_count": 17,
     "metadata": {},
     "output_type": "execute_result"
    }
   ],
   "source": [
    "# transition matrix for absorbing chain\n",
    "tm_stationary = np.identity(k+1, dtype=dtype) / 2\n",
    "for i in range(k+1):\n",
    "    if i > 0:\n",
    "        tm_stationary[i-1, i] = (1-p)/2\n",
    "    if i < k:\n",
    "        tm_stationary[i+1, i] = p/2\n",
    "tm_stationary[0, 0] = 1 - tm_stationary[1, 0]\n",
    "tm_stationary[k, k] = 1 - tm_stationary[k-1, k]\n",
    "assert np.min(tm_stationary) >= 0\n",
    "assert np.max(np.abs(np.matmul(ones_col, tm_stationary) - ones_col)) < epsilon\n",
    "\n",
    "tm_stationary"
   ]
  },
  {
   "cell_type": "code",
   "execution_count": 18,
   "metadata": {},
   "outputs": [
    {
     "data": {
      "text/plain": [
       "array([[0.00787402],\n",
       "       [0.01574803],\n",
       "       [0.03149606],\n",
       "       [0.06299213],\n",
       "       [0.12598425],\n",
       "       [0.2519685 ],\n",
       "       [0.50393701]])"
      ]
     },
     "execution_count": 18,
     "metadata": {},
     "output_type": "execute_result"
    }
   ],
   "source": [
    "# solve for stationary distribution\n",
    "# could also use right eigenvalue solver, but as we know eigenvalue is 1 simple linear algebra will do\n",
    "a_stationary = np.concatenate([\n",
    "    tm_stationary - np.identity(k+1, dtype=dtype), \n",
    "    np.zeros((1, k+1), dtype=dtype) + 1,\n",
    "    ])\n",
    "b_stationary = np.zeros((k+2, 1), dtype=dtype)\n",
    "b_stationary[k+1] = 1\n",
    "stationary_soln = np.linalg.solve(\n",
    "    np.matmul(a_stationary.T, a_stationary),\n",
    "    np.matmul(a_stationary.T, b_stationary))\n",
    "\n",
    "stationary_soln"
   ]
  },
  {
   "cell_type": "code",
   "execution_count": 19,
   "metadata": {},
   "outputs": [],
   "source": [
    "# confirm expected properties of stationary solution\n",
    "assert np.min(stationary_soln) > -epsilon\n",
    "assert np.abs(np.sum(stationary_soln) - 1) < epsilon\n",
    "assert np.max(np.abs(stationary_soln - np.matmul(tm_stationary, stationary_soln))) < epsilon"
   ]
  },
  {
   "cell_type": "code",
   "execution_count": 20,
   "metadata": {},
   "outputs": [],
   "source": [
    "def stationary_p_i(i:int, *, k:int, p: float) -> float:\n",
    "  \"\"\"\n",
    "  Compute the stationary probability of state i on the\n",
    "  \"hold probability = 1/2, probability up = p/2, down = (1-p)/2\" \n",
    "  Markov chain with states integers 0 through k (inclusive, k>0; states 0, k reflecting).\n",
    "  \"\"\"\n",
    "  assert isinstance(i, int)\n",
    "  assert isinstance(k, int)\n",
    "  assert k > 0\n",
    "  assert (i>=0) and (i<=k)\n",
    "  assert (p>0) and (p<1)\n",
    "  z = p/(1-p)\n",
    "  if p==1/2:\n",
    "    return 1/(k+1)\n",
    "  return z**i * (z - 1) / (z**(k+1) - 1)\n"
   ]
  },
  {
   "cell_type": "markdown",
   "metadata": {},
   "source": [
    "Confirm the theoretical solution matches the numeric solution."
   ]
  },
  {
   "cell_type": "code",
   "execution_count": 21,
   "metadata": {},
   "outputs": [
    {
     "data": {
      "text/plain": [
       "array([[0.00787402],\n",
       "       [0.01574803],\n",
       "       [0.03149606],\n",
       "       [0.06299213],\n",
       "       [0.12598425],\n",
       "       [0.2519685 ],\n",
       "       [0.50393701]])"
      ]
     },
     "execution_count": 21,
     "metadata": {},
     "output_type": "execute_result"
    }
   ],
   "source": [
    "stationary_i_res = np.array([stationary_p_i(i, k=k, p=p) for i in range(k+1)], dtype=dtype).reshape((k+1, 1))\n",
    "stationary_i_res"
   ]
  },
  {
   "cell_type": "code",
   "execution_count": 22,
   "metadata": {},
   "outputs": [
    {
     "data": {
      "text/plain": [
       "1.6542323066914832e-14"
      ]
     },
     "execution_count": 22,
     "metadata": {},
     "output_type": "execute_result"
    }
   ],
   "source": [
    "max_diff_stationary = np.max(np.abs(stationary_soln - stationary_i_res))\n",
    "\n",
    "max_diff_stationary"
   ]
  },
  {
   "cell_type": "code",
   "execution_count": 23,
   "metadata": {},
   "outputs": [],
   "source": [
    "assert max_diff_stationary < epsilon"
   ]
  },
  {
   "cell_type": "markdown",
   "metadata": {},
   "source": [
    "One can build confidence in the correctness of the formulas by trying more example `p`s and `k`s."
   ]
  }
 ],
 "metadata": {
  "kernelspec": {
   "display_name": "research_env",
   "language": "python",
   "name": "python3"
  },
  "language_info": {
   "codemirror_mode": {
    "name": "ipython",
    "version": 3
   },
   "file_extension": ".py",
   "mimetype": "text/x-python",
   "name": "python",
   "nbconvert_exporter": "python",
   "pygments_lexer": "ipython3",
   "version": "3.11.4"
  }
 },
 "nbformat": 4,
 "nbformat_minor": 2
}
