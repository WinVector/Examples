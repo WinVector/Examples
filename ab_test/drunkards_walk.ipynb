{
 "cells": [
  {
   "cell_type": "markdown",
   "id": "cell0",
   "metadata": {},
   "source": [
    "# The Drunkard's Walk In Detail\n",
    "\n",
    "## Introduction\n",
    "\n",
    "I would like to spend some time on a simple random walk on the non-negative integers <code>0 ... k</code> called \"the drunkard's walk\"  A good amount of probabilistic intuition can be had by studying the this system. This note is a quick way to derive some of the observations used in [\"A Slightly Unfair Game\"](https://win-vector.com/2023/10/30/a-slightly-unfair-game/) and to set up some of the machinery used in Wald's \"Sequential Analysis\" (a relative of A/B testing).\n",
    "\n",
    "This differs from many treatments of Markov chains in that we are analyzing an \"absorbing chain\" (instead of a \"regular\" or \"ergodic\" one, see Kemeny, Snell, *Finite Markov Chains*, 2nd Edition, 1976, Springer Verlag), and we are using bespoke recurrence arguments instead of the usual move to linear algebra. In fact I would like to prove a standard result that I think many will find unlikely or surprising: conditioning on where this Markov chain eventually will stop greatly changes the observed transition probabilities, yet does preserve the Markov property of independence from the past.\n"
   ]
  },
  {
   "cell_type": "markdown",
   "id": "cell1",
   "metadata": {},
   "source": [
    "## The drunkard's walk\n",
    "\n",
    "Pick an integer <code>k &gt; 0</code>. The states of our random process will be the integers <code>0</code> through <code>k</code>. The integers <code>0</code> and <code>k</code> are both \"stop conditions\" called \"stop zero\" and \"stop non-zero\". For an integer <code>i</code> strictly larger than <code>0</code> and strictly less than <code>k</code>, our random process is: pick the next integer to be either <code>i+1</code> (called moving up or moving right) or <code>i-1</code> (called moving down or moving left) with equal \"50/50\" probability. We stop the process when the state <code>i</code> is either <code>0</code> or <code>k</code>. This is called a \"random walk\" and is often known as \"the drunkard's walk\". Some variations have \"stay probabilities\" prior to stopping, but we will not need these here.\n",
    "\n",
    "An example of this system \"<code>P<sub>k</sub>[]</code> system\" for <code>k = 4</code> is given below.\n",
    "\n",
    "<img src=\"https://win-vector.com/wp-content/uploads/2023/11/chain50_50.png\">\n",
    "\n",
    "A lot can be directly seen for this walk. First we show the following.\n",
    "\n",
    "<ol>\n",
    "  <li>The drunkard's walk has the Markov property (and what that property is).</li>\n",
    "  <li>The probability of a walk started in state-<code>i</code> \"stopping non-zero\" (first reaching <code>k</code>, with no prior visits to <code>0</code>) is <code>i/k</code>.</li>\n",
    "  <li>The expected time of a walk started in state-<code>i</code> to hit either of the stopping conditions (reaching <code>0</code> or <code>k</code> for the first time) is <code>i * (k - i)</code>.</li>\n",
    "</ol>\n"
   ]
  },
  {
   "cell_type": "markdown",
   "id": "cell2",
   "metadata": {},
   "source": [
    "## The Markov property\n",
    "\n",
    "The drunkard's walk is a famous example of a Markov chain, or a sequential random process with the Markov property.\n",
    "\n",
    "The Markov property is when the relative probability of future states of a system depends *only* on the current state, and not on older details of history or how long a process has been running. The Markov property is *exactly* saying that we can make statements such as the \"the probability of moving from state <code>2</code> to state <code>3</code> is <code>1/2</code>\" *without* having to refer to the entire history of the random process prior to the state in question.\n"
   ]
  },
  {
   "cell_type": "markdown",
   "id": "cell3",
   "metadata": {},
   "source": [
    "## Deriving the probability of \"stopping non-zero\"\n",
    "\n",
    "Let <code>prob_pos<sub>k</sub>(i)</code> denote the probability that the drunkard's walk started at integer <code>i</code> (<code>0 &le; i &le; k</code>) stops at <code>k</code> before ever visiting <code>0</code>.\n",
    "\n",
    "For any <code>i</code> with <code>0 &lt; i &lt; k</code> we can expand <code>prob_pos<sub>k</sub>(i)</code> by one walk step to get: \n",
    "\n",
    "<pre>\n",
    "<code>\n",
    "   prob_pos<sub>k</sub>(i) = (1/2) prob_pos<sub>k</sub>(i-1) + (1/2) prob_pos<sub>k</sub>(i+1)\n",
    "</code>\n",
    "</pre>\n",
    "\n",
    "It is then a matter of algebra to check that <code>prob_pos<sub>k</sub>(i) = i/k</code> obeys this recurrence, and has the desired values for the boundary <code>i = 0, k</code>.\n",
    "\n",
    "As a warm up we algebraically confirm the claim.\n"
   ]
  },
  {
   "cell_type": "code",
   "execution_count": 1,
   "id": "cell4",
   "metadata": {},
   "outputs": [],
   "source": [
    "import sympy\n",
    "import numpy as np\n",
    "rng = np.random.default_rng(2023)\n"
   ]
  },
  {
   "cell_type": "code",
   "execution_count": 2,
   "id": "cell5",
   "metadata": {},
   "outputs": [
    {
     "name": "stdout",
     "output_type": "stream",
     "text": [
      "0\n"
     ]
    }
   ],
   "source": [
    "i, k = sympy.symbols(\"i k\")\n",
    "\n",
    "check = sympy.expand(\n",
    "    ((1/2) * (i-1)/k + (1/2) * (i+1)/k) \n",
    "    - i/k\n",
    ")\n",
    "\n",
    "assert check == 0\n",
    "print(check)\n"
   ]
  },
  {
   "cell_type": "markdown",
   "metadata": {},
   "source": [
    "## Deriving the probability of \"stopping zero\" for <code>p &ne; 1/2</code>\n",
    "\n",
    "Let <code>prob_zero<sub>p,k</sub>(i)</code> denote the probability that an unfair drunkard's walk started at integer <code>i</code> (<code>0 &le; i &le; k</code>) stops at <code>0</code> before ever visiting <code>k</code> when the probability of increase state is <code>p</code> and decrease state is <code>1-p</code>.\n",
    "\n",
    "For <code>k &gt; 1</code> can expand <code>prob_zero<sub>p,k</sub>(1)</code> by one walk step to get: \n",
    "\n",
    "<pre>\n",
    "<code>\n",
    "   prob_zero<sub>p,k</sub>(1) = \n",
    "     (1-p)   # visit zero in 1 step\n",
    "     + p prob_zero<sub>p,k-1</sub>(1) prob_zero<sub>p,k</sub>(1)   # move up, return, and try again\n",
    "</code>\n",
    "</pre>\n",
    "\n",
    "For <code>0 &lt; p &lt; 1</code> with <code>p &ne; 1/2</code> it is then a matter of algebra to check that  <code>prob_zero<sub>p,k</sub>(1) = ((p/(1-p))<sup>k-1</sup> – 1) / ((p/(1-p))<sup>k</sup> – 1)</code> obeys this recurrence and has boundary condition <code>prob_zero<sub>p,1</sub>(1) = 0</code>\n",
    "\n",
    "We confirm the claim."
   ]
  },
  {
   "cell_type": "code",
   "execution_count": 3,
   "metadata": {},
   "outputs": [
    {
     "name": "stdout",
     "output_type": "stream",
     "text": [
      "numerator: p*((p/(1 - p))**k - 1) - p*((p/(1 - p))**(k - 2) - 1) - (p/(1 - p))**k + (p/(1 - p))**(k - 1)\n",
      "denominator: (p/(1 - p))**k - 1\n"
     ]
    }
   ],
   "source": [
    "i, k, p = sympy.symbols(\"i k p\")\n",
    "\n",
    "def f(k):\n",
    "    return ((p/(1-p))**(k-1) - 1) / ((p/(1-p))**k - 1)\n",
    "\n",
    "num, den = sympy.fraction((f(k) - (\n",
    "    (1-p)\n",
    "    + p * f(k-1) * f(k)\n",
    ")).together())\n",
    "\n",
    "print(\"numerator: \" + str(num))\n",
    "print(\"denominator: \" + str(den))\n",
    "\n"
   ]
  },
  {
   "cell_type": "code",
   "execution_count": 4,
   "metadata": {},
   "outputs": [
    {
     "name": "stdout",
     "output_type": "stream",
     "text": [
      "0\n"
     ]
    }
   ],
   "source": [
    "# show numerator simplifies to zero (divide out common term)\n",
    "check = (num / (p/(1-p))**(k-1)).expand().simplify()\n",
    "\n",
    "assert check == 0\n",
    "print(check)"
   ]
  },
  {
   "cell_type": "code",
   "execution_count": 5,
   "metadata": {},
   "outputs": [],
   "source": [
    "# check boundary condition\n",
    "assert f(1) == 0"
   ]
  },
  {
   "cell_type": "markdown",
   "metadata": {},
   "source": [
    "Of special interest is the <code>p = 2/3</code> case, as it satisfies the limiting recurrence for <code>k = &#x221E;</code> with a \"hit zero\" probability of <code>1/2</code>\n",
    "\n",
    "<pre>\n",
    "<code>\n",
    "   prob_zero<sub>2/3,&#x221E;</sub>(1) = \n",
    "     (1 - 2/3)\n",
    "     + 2/3 prob_zero<sub>2/3,&#x221E;</sub>(1) prob_zero<sub>2/3,&#x221E;</sub>(1)\n",
    "</code>\n",
    "</pre>"
   ]
  },
  {
   "cell_type": "code",
   "execution_count": 6,
   "metadata": {},
   "outputs": [
    {
     "data": {
      "text/plain": [
       "[0.500000000000000, 1.00000000000000]"
      ]
     },
     "execution_count": 6,
     "metadata": {},
     "output_type": "execute_result"
    }
   ],
   "source": [
    "z = sympy.symbols('z')\n",
    "\n",
    "soln = sympy.solve(\n",
    "    z - ((1 - 2/3) + (2/3) * z * z),\n",
    "    z\n",
    ")\n",
    "\n",
    "assert np.sum([zi == 1/2 for zi in soln]) > 0\n",
    "soln"
   ]
  },
  {
   "cell_type": "markdown",
   "id": "cell6",
   "metadata": {},
   "source": [
    "## Deriving the \"expected time to stop\"\n",
    "\n",
    "Let <code>e_time<sub>k</sub>(i)</code> denote the expected number of steps the (fair) drunkard's walk started at integer <code>i</code> (<code>0 &le; i &le; k</code>) takes to reach *either* of <code>0</code> or <code>k</code> for the first time. We are not yet specifying *which one* is first reached.\n",
    "\n",
    "For any <code>i</code> with <code>0 &lt; i &lt; k</code> we can expand <code>e_time<sub>k</sub>(i)</code> by one walk step to get: <code>e_time<sub>k</sub>(i) = 1 + (1/2) e_time<sub>k</sub>(i-1) + (1/2) e_time<sub>k</sub>(i+1)</code>. It is again, a matter of  algebra to check that <code>e_time<sub>k</sub>(i) = i * (k-i)</code> obeys this recurrence, and has the desired values on the boundary.\n",
    "\n",
    "Let's confirm this claim.\n"
   ]
  },
  {
   "cell_type": "code",
   "execution_count": 7,
   "id": "cell7",
   "metadata": {},
   "outputs": [
    {
     "name": "stdout",
     "output_type": "stream",
     "text": [
      "0\n"
     ]
    }
   ],
   "source": [
    "i, k = sympy.symbols(\"i k\")\n",
    "\n",
    "check = sympy.expand(\n",
    "    (1 + (1/2) * (i-1) * (k-(i-1)) + (1/2) * (i+1) * (k-(i+1)))\n",
    "    - i * (k-i)\n",
    ")\n",
    "\n",
    "assert check == 0\n",
    "print(check)\n"
   ]
  },
  {
   "cell_type": "markdown",
   "id": "cell8",
   "metadata": {},
   "source": [
    "The above directly gives us the common \"expected time to move distance <code>d</code> is around <code>d**2</code> steps\" observation, without the usual appeal to linearity of expectation applied to independent variances.\n"
   ]
  },
  {
   "cell_type": "markdown",
   "id": "cell9",
   "metadata": {},
   "source": [
    "## Basic probability notation\n",
    "\n",
    "Define a legal or valid trajectory as a sequence of states <code>s = s<sub>0</sub></code>, <code>s<sub>1</sub></code>, ... . Where:\n",
    "\n",
    "  * All the <code>s<sub>j</sub></code> are integers in the range <code>0</code> through <code>k</code>.\n",
    "  * If <code>s<sub>j</sub></code> isn't <code>0</code> or <code>k</code>, then <code>|s<sub>j</sub> - s<sub>j+1</sub>| = 1</code> (the process has not yet stopped)\n",
    "  * If <code>s<sub>j</sub></code> is <code>0</code> or <code>k</code>, then <code>s<sub>j+1</sub> = s<sub>j</sub></code> (the chain has \"stopped\").\n",
    "\n",
    "Let <code>S<sub>k</sub>(i)</code> denote the set of all possible sequences <code>s</code> of integers obeying the above rules and where the first state <code>s<sub>1</sub> = i</code>.\n",
    "\n",
    "In an appendix we define the probability measure <code>P<sub>k,i</sub>[s]</code> on <code>S<sub>k</sub>(i)</code> that tells us the probability of observing a given sequence <code>s</code> starting from state <code>i</code>. We have the extra parameter (<code>i</code>) in our notation to avoid having to assume an initial starting distribution.\n",
    "\n",
    "Throughout this note we use <code>P[expression]</code> as shorthand for <code>sum<sub>s: expression(s)</sub> P[s]</code>. We also use <code>P[expression | condition]</code> as shorthand for <code>P[condition and expression] / P[condition]</code> (when <code>P[condition] &gt; 0</code>).\n"
   ]
  },
  {
   "cell_type": "markdown",
   "id": "cell10",
   "metadata": {},
   "source": [
    "## Conditioning on the outcome\n",
    "\n",
    "An interesting (and maybe even surprising) fact is: the following systems also have the Markov property and are therefore themselves Markov chains:\n",
    "\n",
    "  * <code>S<sub>&lArr;,k</sub>(i)</code> defined as all the <code>s</code> in <code>S<sub>k</sub>(i)</code> that \"eventually stopped at <code>0</code>\", with the probability measure <code>P<sub>&lArr;,k,i</sub>[]</code> induced by restricting to <code>S<sub>&lArr;,k</sub>(i)</code>.\n",
    "  * <code>S<sub>&rArr;,k</sub>(i)</code> defined as all the <code>s</code> in <code>S<sub>k</sub>(i)</code> that \"eventually stopped at <code>k</code>\", with the probability measure <code>P<sub>&rArr;,k,i</sub>[]</code> induced by restricting to <code>S<sub>&rArr;,k</sub>(i)</code>.\n",
    "\n",
    "We can in fact establish that <code>P<sub>&lArr;,k</sub>[]</code> (and similarly <code>P<sub>&rArr;,k</sub>[]</code>) has the Markov property. The argument is in an appendix.\n"
   ]
  },
  {
   "cell_type": "markdown",
   "id": "cell11",
   "metadata": {},
   "source": [
    "## Empirical conditional probabilities\n",
    "\n",
    "We can show that the observed transition probabilities for <code>P<sub>&rArr;,k</sub>[]</code> are very different than the <code>1/2</code>s seen for <code>P<sub>k</sub>[]</code>.\n",
    "\n",
    "Let's set up some code to estimate these transition probabilities from simulation.\n"
   ]
  },
  {
   "cell_type": "code",
   "execution_count": 8,
   "id": "cell12",
   "metadata": {},
   "outputs": [],
   "source": [
    "# our example k\n",
    "\n",
    "k = 4\n"
   ]
  },
  {
   "cell_type": "code",
   "execution_count": 9,
   "id": "cell13",
   "metadata": {},
   "outputs": [
    {
     "data": {
      "text/plain": [
       "{'probability of seeing 1 to 2': 1.0,\n",
       " 'probability of seeing 2 to 3': 0.7505207655904511,\n",
       " 'probability of seeing 3 to 4': 0.6665507149026005}"
      ]
     },
     "execution_count": 9,
     "metadata": {},
     "output_type": "execute_result"
    }
   ],
   "source": [
    "# observe the empirical transition probabilities for right absorbed systems\n",
    "observed = dict()\n",
    "for start_i in range(1, k):\n",
    "    downs = 0\n",
    "    ups = 0\n",
    "    for rep in range(1000000):\n",
    "        first_up = 0\n",
    "        first_down = 0\n",
    "        state_i = start_i\n",
    "        # run until we hit the stopping conditions\n",
    "        while (state_i > 0) and (state_i < k):\n",
    "            coin_flip = rng.binomial(n=1, p=0.5, size=1)[0]\n",
    "            if coin_flip > 0.5:\n",
    "                if (first_up + first_down) == 0:\n",
    "                    first_up = 1\n",
    "                state_i = state_i + 1\n",
    "            else:\n",
    "                if (first_up + first_down) == 0:\n",
    "                    first_down = 1\n",
    "                state_i = state_i - 1\n",
    "        # only count right-absorbed paths\n",
    "        if state_i == k:\n",
    "            downs = downs + first_down\n",
    "            ups = ups + first_up\n",
    "    observed[f\"probability of seeing {start_i} to {start_i+1}\"] = ups / (ups + downs) \n",
    "\n",
    "observed\n"
   ]
  },
  {
   "cell_type": "markdown",
   "id": "cell14",
   "metadata": {},
   "source": [
    "## The conditional transition probabilities\n",
    "\n",
    "It is a fact that the <code>P<sub>k,i</sub>[]</code> probability system is Markov on <code>S<sub>k</sub>(i)</code> (see appendix). Given this, we can write transition probabilities independent of history (for not yet stopped sequences, i.e. <code>i &ne; 0, k</code>):\n",
    "\n",
    "  * <code>prob_up<sub>k</sub>(i) = P<sub>k,i</sub>[s<sub>2</sub> = i+1 | s<sub>1</sub> = i] = 1/2</code>\n",
    "  * <code>prob_down<sub>k</sub>(i) = P<sub>k,i</sub>[s<sub>2</sub> = i-1 | s<sub>1</sub> = i] = 1/2</code> \n",
    "\n",
    "where <code>P<sub>k,i</sub>[]</code> is the probability measure from the <code>S<sub>k</sub>(i)</code> system.\n",
    "\n",
    "In an appendix we show the <code>P<sub>&lArr;,k</sub>[]</code> and <code>P<sub>&rArr;,k</sub>[]</code> probability measures are indeed Markov. This then allows us to define the following symbols for their transition probabilities (independent of earlier history):\n",
    "\n",
    "  * <code>prob_up<sub>&lArr;,k</sub>(i) = P<sub>&lArr;,k,i</sub>[s<sub>2</sub> = i+1 | s<sub>1</sub> = i]</code>\n",
    "  * <code>prob_down<sub>&lArr;,k</sub>(i) = P<sub>&lArr;,k,i</sub>[s<sub>2</sub> = i-1 | s<sub>1</sub> = i]</code> \n",
    "  * <code>prob_up<sub>&rArr;,k</sub>(i) = P<sub>&rArr;,k,i</sub>[s<sub>2</sub> = i+1 | s<sub>1</sub> = i]</code>\n",
    "  * <code>prob_down<sub>&rArr;,k</sub>(i) = P<sub>&rArr;,k,i</sub>[s<sub>2</sub> = i-1 | s<sub>1</sub> = i]</code>\n",
    "\n",
    "Where <code>P<sub>&lArr;,k,i</sub>[]</code> is the probability measure from the <code>S<sub>&lArr;,k</sub>(i)</code> system and <code>P<sub>&rArr;,k,i</sub>[]</code> is the probability measure from the <code>S<sub>&rArr;,k</sub>(i)</code> system.\n",
    "\n",
    "We can show for <code>0 &lt; i &lt; k</code>:\n",
    "\n",
    "  * <code>prob_up<sub>&rArr;,k</sub>(i) = (i+1)/(2*i)</code>\n",
    "  * <code>prob_down<sub>&rArr;,k</sub>(i) = 1 - prob_up<sub>&rArr;,k</sub>(i)</code>\n",
    "\n",
    "(and similar for <code>prob_up<sub>&lArr;,k</sub>(i)</code> and <code>prob_down<sub>&lArr;,k</sub>(i)</code>)\n"
   ]
  },
  {
   "cell_type": "markdown",
   "id": "cell15",
   "metadata": {},
   "source": [
    "The <code>P<sub>&rArr;,k</sub>[]</code> system for <code>k = 4</code> with the above transition probabilities is portrayed below.\n",
    "\n",
    "\n",
    "\n",
    "<img src=\"https://win-vector.com/wp-content/uploads/2023/11/chain_k.png\">\n"
   ]
  },
  {
   "cell_type": "markdown",
   "id": "cell16",
   "metadata": {},
   "source": [
    "This means the sequences that eventually stop at <code>k</code> actually *look* like they are attracted in that direction! An example of this are Dr. Zumel's animations in [A Slightly Unfair Game](https://win-vector.com/2023/10/30/a-slightly-unfair-game/).\n"
   ]
  },
  {
   "cell_type": "markdown",
   "id": "cell17",
   "metadata": {},
   "source": [
    "The <code>P<sub>&lArr;,k</sub>[]</code> system for <code>k = 4</code> is as follows.\n",
    "\n",
    "<img src=\"https://win-vector.com/wp-content/uploads/2023/11/chain_0.png\">\n"
   ]
  },
  {
   "cell_type": "markdown",
   "id": "cell18",
   "metadata": {},
   "source": [
    "The 50/50 system is a mixture of these two systems, *with the mixture proportions varying by state label*.\n"
   ]
  },
  {
   "cell_type": "markdown",
   "id": "cell19",
   "metadata": {},
   "source": [
    "## Comparing observation to theory\n",
    "\n",
    "Let's check our claimed theoretical transition probabilities in <code>S<sub>&rArr;,k</sub>(i)</code> are in fact close to our empirical estimates.\n"
   ]
  },
  {
   "cell_type": "code",
   "execution_count": 10,
   "id": "cell20",
   "metadata": {},
   "outputs": [],
   "source": [
    "# show the theoretical up transitions in absorbed systems\n",
    "prob_up_given_stop_k = lambda *, k, i: 0 if (i<=0) or (i>=k) else (i+1)/(2*i)\n",
    "prob_down_given_stop_k = lambda *, k, i: 0 if (i<=1) or (i>=k) else 1 - prob_up_given_stop_k(i)\n",
    "prob_up_given_stop_0 = lambda *, k, i: 0 if (i<=0) or (i>=k-1) else prob_down_given_stop_k(k-i)\n",
    "prob_down_given_stop_0 = lambda *, k, i: 0 if (i<=0) or (i>=k) else prob_up_given_stop_k(k-i)\n"
   ]
  },
  {
   "cell_type": "code",
   "execution_count": 11,
   "id": "cell21",
   "metadata": {},
   "outputs": [
    {
     "data": {
      "text/plain": [
       "{'probability of seeing 1 to 2': 1.0,\n",
       " 'probability of seeing 2 to 3': 0.75,\n",
       " 'probability of seeing 3 to 4': 0.6666666666666666}"
      ]
     },
     "execution_count": 11,
     "metadata": {},
     "output_type": "execute_result"
    }
   ],
   "source": [
    "theoretical = {f\"probability of seeing {i} to {i+1}\": prob_up_given_stop_k(k=k, i=i) for i in range(1, k)}\n",
    "\n",
    "theoretical\n"
   ]
  },
  {
   "cell_type": "code",
   "execution_count": 12,
   "id": "cell22",
   "metadata": {},
   "outputs": [],
   "source": [
    "# confirm measurement matches theory\n",
    "assert set(theoretical.keys()) == set(observed.keys())\n",
    "for key, v_theoretical in theoretical.items():\n",
    "    v_observed = observed[key]\n",
    "    assert np.abs(v_theoretical - v_observed) < 1e-3\n"
   ]
  },
  {
   "cell_type": "markdown",
   "id": "cell23",
   "metadata": {},
   "source": [
    "## Conclusion\n",
    "\n",
    "The point of this note is to get some familiarity with deep facts about a specific random walk, before delegating to the usual general analysis tools.\n",
    "\n",
    "We have derived quite a few results for the \"half up, half down\" bounded drunkard's walk that stops at <code>0</code> or <code>k</code> (<code>k &gt; 0</code>):\n",
    "\n",
    "  * The probability of stopping at <code>k</code> after starting at <code>i</code> is <code>prob_pos<sub>k</sub>(i) = i/k</code>.\n",
    "  * The expected number of steps to stop after starting at <code>i</code> is <code>e_time<sub>k</sub>(i) = i * (k-i)</code>. In particular for a start state <code>i ~ k/2</code> this is  <code>k/2 * (k - k/2) = k<sup>2</sup> / 4</code> expected run time.\n",
    "  * The random process of looking only at sequences that stop at <code>0</code> is in fact itself a Markov chain.\n",
    "  * The random process of looking only at sequences that stop at <code>k</code> is in fact itself a Markov chain.\n",
    "  * If we condition on the walk stopping at <code>k</code>, then the probability of \"stepping up\" from state <code>i</code> (observing a <code>i</code> to <code>i+1</code> transition on a sequence that has not yet stopped) is <code>prob_up<sub>&rArr;,k</sub>(i) = (i+1)/(2*i)</code>.\n",
    "\n",
    "The above is a bit more detail than one usually tolerates in analyzing a Markov chain. Showing that conditioning on *where* the Markov chain stops preserves the Markov property is of interest. Also deriving the expected quadratic run time directly is quite nice.\n",
    "\n",
    "Thank you to Dr. Nina Zumel for comments and for preparing the diagrams.\n"
   ]
  },
  {
   "cell_type": "markdown",
   "id": "cell24",
   "metadata": {},
   "source": [
    "## Appendices\n"
   ]
  },
  {
   "cell_type": "markdown",
   "id": "cell25",
   "metadata": {},
   "source": [
    "### Probability notation in detail\n",
    "\n",
    "Let's replace our informal probability measure with a strict measure on infinite sequences. Without a pre-defined probability space and measure, we are essentially making up probability statements as we go (instead of being able to derive them from a fixed base).\n",
    "\n",
    "A run trajectory is a sequence of states <code>s = s<sub>0</sub></code>, <code>s<sub>1</sub></code>, ... . Where:\n",
    "\n",
    "  * All the <code>s<sub>j</sub></code> are integers in the range <code>0</code> through <code>k</code>.\n",
    "  * If <code>s<sub>j</sub></code> isn't <code>0</code> or <code>k</code>, then <code>|s<sub>j</sub> - s<sub>j+1</sub>| = 1</code> (the process has not stopped)\n",
    "  * If <code>s<sub>j</sub></code> is <code>0</code> or <code>k</code>, then <code>s<sub>j+1</sub> = s<sub>j</sub></code> (the chain has \"stopped\").\n",
    "\n",
    "Let <code>S<sub>k</sub>(i)</code> denote the set of all possible sequences <code>s</code> of integers obeying the above rules where the first state <code>s<sub>1</sub> = i</code>. Define <code>n_transition(s)</code> as the number of <code>j &gt; 1</code> such that <code>v<sub>j-1</sub> &ne; v<sub>j</sub></code>.\n",
    "\n",
    "Define the probability measure <code>P<sub>k,i</sub>[]</code> of <code>s</code> in <code>S<sub>k</sub>(i)</code> assigning:\n",
    "\n",
    "  * <code>P<sub>k,i</sub>[s] = &perp;</code> if <code>s</code> not in <code>S<sub>k</sub>(i)</code> (invalid trajectories, *not* part of the probability space, \"<code>&perp;</code>\" called \"bottom\" and representing an invalid state).\n",
    "  * <code>P<sub>k,i</sub>[s] = 1</code>, if <code>s<sub>1</sub> = 0, k</code>. Call such <code>s</code> \"stopped.\"\n",
    "  * <code>P<sub>k,i</sub>[s] = 0</code>, when <code>n_transition(s)</code> is not finite. Call such <code>s</code> \"never stopped.\"\n",
    "  * <code>P<sub>k,i</sub>[s] = 1/2<sup>n_transition(s)</code>, when <code>n_transition(s)</code> is finite. Call such <code>s</code> \"stopped\" or \"eventually.\"\n",
    "\n",
    "We have the extra parameter (<code>i</code>) in our notation to avoid having to assume an initial starting distribution.\n",
    "\n",
    "On can check that the <code>P<sub>k,i</sub>[s] &ge; 0</code> for all <code>s</code> in <code>S<sub>k</sub>(i)</code> and <code>sum<sub>s in S<sub>k</sub>(i)</sub> P<sub>k,i</sub>[s] = 1</code>. This meets the definition of a probability measure, so we can apply known probability theorems such as Bayes' law. The never stopped sequences have probability measure zero (so can be ignored in probability arguments; this is amusing, as this subset is the uncountable subset of the sequences).\n",
    "\n",
    "The above random process <code>P[]</code> has \"the Markov property\" on <code>S<sub>k</sub>()</code>: history becomes irrelevant. That is we claim:\n",
    "\n",
    "<pre>\n",
    "<code>\n",
    "   P<sub>k,v<sub>1</sub></sub>[s<sub>j+1</sub> = v | s<sub>1</sub>=v<sub>1</sub>, ..., s<sub>j</sub>=v<sub>j</sub>] = P<sub>k,v<sub>j</sub></sub>[s<sub>j+1</sub> = v | s<sub>j</sub>=v<sub>j</sub>]\n",
    "</code>\n",
    "</pre>\n",
    "\n",
    "*when* <code>s<sub>1</sub>=v<sub>1</sub>, ..., s<sub>j</sub>=v<sub>j</sub>, s<sub>j+1</sub> = v</code> is a valid prefix of an <code>s</code> in <code>S<sub>k</sub>(v<sub>1</sub>)</code>.\n",
    "\n",
    "Throughout this note we use <code>P[expression]</code> as shorthand for <code>sum<sub>s: expression(s)</sub> P[s]</code>. We also use <code>P[expression | condition]</code> as shorthand for <code>P[condition and expression] / P[condition]</code> (when <code>P[condition] &gt; 0</code>). For example <code>P<sub>k,i</sub>[s<sub>j+1</sub> = v | s<sub>j</sub>=v<sub>j</sub>]</code> denotes <code>(sum<sub>s in S<sub>k</sub>(i): (s<sub>j</sub>=v<sub>j</sub>) and (s<sub>j+1</sub> = v)</sub> P<sub>k,i</sub>[s]) / (sum<sub>s in S<sub>k</sub>(i): s<sub>j</sub>=v<sub>j</sub></sub> P<sub>k,i</sub>[s])</code>.\n",
    "\n",
    "We often use the Markov property in analysis as follows: we can always pretend we are at the first move in a sequence! For <code>0 &lt; i &lt; k</code> we have <code>P<sub>k,i</sub>[s<sub>j+1</sub> = v<sub>2</sub> | s<sub>j</sub> = v<sub>1</sub>] = P<sub>k,v<sub>1</sub></sub>[s<sub>2</sub> = v<sub>2</sub> | s<sub>1</sub> = v<sub>1</sub>]</code> (for <code>s</code> in <code>S<sub>k</sub>(i)</code>).\n"
   ]
  },
  {
   "cell_type": "markdown",
   "id": "cell26",
   "metadata": {},
   "source": [
    "### Appendix: <code>P<sub>k</sub>[]</code> has the Markov property\n",
    "\n",
    "We sketch a rough outline of an argument why <code>P<sub>k</sub>[]</code> over <code>S<sub>k</sub>()</code> have the Markov property. This is an ugly proof of standard fact.\n",
    "\n",
    "The Markov property itself is statements of the form:\n",
    "\n",
    "<pre>\n",
    "<code>\n",
    "   P[s<sub>j+1</sub>=v | s<sub>j</sub>=v<sub>j</sub>, s<sub>j-1</sub>=v<sub>j-1</sub>] = P[s<sub>j+1</sub>=v | s<sub>j</sub>=v<sub>j</sub>]\n",
    "</code>\n",
    "</pre>\n",
    "\n",
    "(when <code>P[s<sub>j+1</sub>=v | s<sub>j</sub>=v<sub>j</sub>, s<sub>j-1</sub>=v<sub>j-1</sub>]</code> is non-zero). I.e.: earlier history becomes irrelevant in conditional probabilities.\n",
    "\n",
    "Call <code>(s<sub>1</sub>, ..., s<sub>j</sub>)</code> \"<code>A(s)</code>\" and <code>(s<sub>j</sub>, ...)</code> \"<code>B(s)</code>\". We have <code>n_transition(s) = n_transition(A(s)) + n_transition(B(s))</code>. So we can factor <code>P[]</code> as:\n",
    "\n",
    "<pre>\n",
    "<code>\n",
    "  P<sub>k,i</sub>[f(A(s)) g(B(s))] = P<sub>k,s<sub>1</sub></sub>[f(A(s))] P<sub>k,s<sub>j</sub></sub>[f(B(s))]\n",
    "</code>\n",
    "</pre>\n",
    "\n",
    "(for <code>s</code> in <code>S<sub>k</sub>(i)</code>).\n",
    "\n",
    "The above follows from the usual factoring of sums of the form <code>sum<sub>a in A, b in B</sub> f(a) g(b)</code> as <code>(sum<sub>a in A</sub> f(a))(sum<sub>b in B</sub> g(b))</code>.\n"
   ]
  },
  {
   "cell_type": "markdown",
   "id": "cell27",
   "metadata": {},
   "source": [
    "### Appendix: the derived measures\n",
    "\n",
    "We define derived probability measures (for each <code>i</code>):\n",
    "\n",
    "  * <code>S<sub>&lArr;,k</sub>(i)</code> defined as all the <code>s</code> in <code>S<sub>k</sub>(i)</code> that \"eventually stopped at <code>0</code>\".\n",
    "  * <code>P<sub>&lArr;,k,i</sub>[]</code> as: <code>P<sub>&lArr;,k,i</sub>[s] = &perp; if s not in S<sub>&lArr;,k</sub>(i) else P<sub>k,i</sub>[s] / (sum<sub>z in S<sub>&lArr;,k</sub>(i)</sub> P<sub>k,i</sub>[z])</code>.\n",
    "  * <code>S<sub>&rArr;,k</sub>(i)</code> defined as all the <code>s</code> in <code>S<sub>k</sub>(i)</code> that \"eventually stopped at <code>k</code>\".\n",
    "  * <code>P<sub>&rArr;,k,i</sub>[]</code> as: <code>P<sub>&rArr;,k,i</sub>[s] = &perp; if s not in S<sub>&rArr;,k</sub>(i) else P<sub>k,i</sub>[s] / (sum<sub>z in S<sub>&rArr;,k</sub>(i)</sub> P<sub>k,i</sub>[z])</code>.\n"
   ]
  },
  {
   "cell_type": "markdown",
   "id": "cell28",
   "metadata": {},
   "source": [
    "### Appendix: <code>P<sub>&lArr;,k</sub>[]</code> and <code>P<sub>&rArr;,k</sub>[]</code> have the Markov property\n",
    "\n",
    "Here we establish the Markov property for our conditioned measures and compute the new transition probabilities. This uses standard probability facts (such as Bayes' law) and the Markov property of <code>P<sub>k</sub>[]</code> (a standard fact, also established in an earlier appendix).\n",
    "\n",
    "We will assume <code>k &gt; 1</code> and <code>0 &lt; v<sub>j</sub> &lt; k</code> for <code>j = 1...u</code> to avoid trivial corner cases. To check if <code>P<sub>&rArr;,k,v<sub>1</sub></sub>[v<sub>u+1</sub> = 1+v<sub>u</sub> | s<sub>1</sub>=v<sub>1</sub>, ..., s<sub>u</sub>=v<sub>u</sub>]</code> is Markov we need to show it equals <code>f(v<sub>u</sub>)</code> for some function <code>f()</code> independent of all state except <code>v<sub>u</sub></code> and <code>v<sub>u+1</sub></code>.\n",
    "\n",
    "We have:\n",
    "\n",
    "<pre>\n",
    "<code>\n",
    "P<sub>&rArr;,k,v<sub>1</sub></sub>[v<sub>u+1</sub> = 1+v<sub>u</sub> | s<sub>1</sub>=v<sub>1</sub>, ..., s<sub>u</sub>=v<sub>u</sub>]\n",
    "  = P<sub>k,v<sub>1</sub></sub>[v<sub>u+1</sub> = 1+v<sub>u</sub> | s<sub>1</sub>=v<sub>1</sub>, ..., s<sub>u</sub>=v<sub>u</sub>, s stops at k]\n",
    "  = P<sub>k,v<sub>1</sub></sub>[s stops at k | s<sub>1</sub>=v<sub>1</sub>, ..., s<sub>u</sub>=v<sub>u</sub>, v<sub>u+1</sub> = 1+v<sub>u</sub>] \n",
    "    * P<sub>k,v<sub>1</sub></sub>[v<sub>u+1</sub> = 1+v<sub>u</sub> | s<sub>1</sub>=v<sub>1</sub>, ..., s<sub>u</sub>=v<sub>u</sub>]\n",
    "    / P<sub>k,v<sub>1</sub></sub>[stops at k | s<sub>1</sub>=v<sub>1</sub>, ..., s<sub>u</sub>=v<sub>u</sub>]\n",
    "  = P<sub>1+v<sub>u</sub></sub>[s stops at k | s<sub>1</sub> = 1+v<sub>u</sub>] \n",
    "    * P<sub>k,v<sub>u</sub></sub>[v<sub>u+1</sub> = 1+v<sub>u</sub> | s<sub>1</sub>=v<sub>u</sub>]\n",
    "    / P<sub>k,v<sub>u</sub></sub>[stops at k | s<sub>1</sub>=v<sub>u</sub>]\n",
    "</code>\n",
    "</pre>\n",
    "\n",
    "At this point we have established the transition probabilities are Markov with respect to the state, as we now have terms involving only the most recent state.\n",
    "\n",
    "In the above:\n",
    "\n",
    "  * The first line is definitional.\n",
    "  * The second line is an application of Bayes' Law <code>P[A|B] = P[B|A] P[A] / P[B]</code>, with <code>A = \"v<sub>u+1</sub> = 1+v<sub>u</sub>\"</code> and <code>B = \"s stops at k\"</code>.\n",
    "  * The third line is the known Markov property of <code>P[]</code>.\n",
    "\n",
    "To calculate the probability we can substitute in our known values for these probabilities.\n",
    "\n",
    "<pre>\n",
    "<code>\n",
    "P<sub>1+v<sub>u</sub></sub>[s stops at k | s<sub>1</sub> = 1+v<sub>u</sub>] \n",
    "    * P<sub>k,v<sub>u</sub></sub>[v<sub>u+1</sub> = 1+v<sub>u</sub> | s<sub>1</sub>=v<sub>u</sub>]\n",
    "    / P<sub>k,v<sub>u</sub></sub>[stops at k | s<sub>1</sub>=v<sub>u</sub>]\n",
    "  = ((1+v<sub>u</sub>)/k)\n",
    "    * (1/2)\n",
    "    / (v<sub>u</sub>/k)\n",
    "  = (v<sub>u</sub>+1)/(2*v<sub>u</sub>)\n",
    "</code>\n",
    "</pre>\n",
    "\n",
    "In the above:\n",
    "\n",
    "  * The second line is substituting in our previously calculated probabilities of \"stopping non-zero\", and the 1/2 transition probability under <code>P[]</code>.\n",
    "  * The last step is algebra.\n",
    "\n",
    "The Markov property justifies the earlier \"history free\" notation for <code>prob_up<sub>?</sub></code> and <code>prob_down<sub>?</sub></code>.\n",
    "\n",
    "For <code>0 &lt; i &lt; k</code> we can write the transition probability (independent of older history) as:\n",
    "\n",
    "  * <code>prob_up<sub>&rArr;,k</sub>(i) = (i+1)/(2*i)</code>\n",
    "  * <code>prob_down<sub>&rArr;,k</sub>(i) = 1 - prob_up<sub>&rArr;,k</sub>(i)</code>\n",
    "\n",
    "A similar argument establishes that <code>P<sub>&lArr;,k</sub>[]</code> is Markov on <code>S<sub>&lArr;,k</sub>()</code>. And we can get <code>prob_up<sub>&lArr;,k</sub></code> and <code>prob_down<sub>&lArr;,k</sub></code> by replacing <code>i</code> with <code>k-i</code> and also swapping the roles of up and down.\n",
    "\n",
    "As a side note: the above work leads me wonder if \"backward chain arguments\" are perhaps being generalizations of Bayes' law. In particular I am anxious to re-read the brilliant \"[coupling from the past](https://en.wikipedia.org/wiki/Coupling_from_the_past)\" arguments in Propp, James Gary; Wilson, David Bruce, \"Exact sampling with coupled Markov chains and applications to statistical mechanics\", (1996), Proceedings of the Seventh International Conference on Random Structures and Algorithms (Atlanta, GA, 1995), pp. 223–252 [MR1611693](https://mathscinet.ams.org/mathscinet/relay-station?mr=1611693).\n",
    "\n",
    "I believe the above appeal to Bayes' Law is what is required as for absorbing Markov chains arguments, as we don't have a non-trivial stationary distribution to attempt easer \"detail balance\" arguments to constrain transition probabilities.\n"
   ]
  }
 ],
 "metadata": {
  "kernelspec": {
   "display_name": "research_env",
   "language": "python",
   "name": "python3"
  },
  "language_info": {
   "codemirror_mode": {
    "name": "ipython",
    "version": 3
   },
   "file_extension": ".py",
   "mimetype": "text/x-python",
   "name": "python",
   "nbconvert_exporter": "python",
   "pygments_lexer": "ipython3",
   "version": "3.11.4"
  }
 },
 "nbformat": 4,
 "nbformat_minor": 5
}
