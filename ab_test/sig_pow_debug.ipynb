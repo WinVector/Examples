{
 "cells": [
  {
   "cell_type": "markdown",
   "metadata": {},
   "source": [
    "Interactive version of the graph from [A/B Tests for Engineers](https://win-vector.com/2023/10/15/a-b-tests-for-engineers/).\n",
    "\n",
    "To see the interaction: download [directory](https://github.com/WinVector/Examples/tree/main/ab_test) and run this Jupyter notebook in JupyterLab or VSCode.\n",
    "\n",
    "[Jupyter Widgets documentation](https://ipywidgets.readthedocs.io/en/latest/index.html)"
   ]
  },
  {
   "cell_type": "code",
   "execution_count": 1,
   "metadata": {},
   "outputs": [],
   "source": [
    "# import our modules\n",
    "import numpy as np\n",
    "import pandas as pd\n",
    "from IPython.display import display, clear_output\n",
    "import matplotlib.pyplot as plt\n",
    "from sig_pow_visual import composite_graphs_using_PIL, graph_factory\n",
    "from data_algebra import RecordSpecification\n",
    "import PIL\n",
    "from PIL import Image, ImageDraw, ImageFont\n",
    "\n",
    "import ipywidgets as widgets"
   ]
  },
  {
   "cell_type": "code",
   "execution_count": 2,
   "metadata": {},
   "outputs": [],
   "source": [
    "# our specification of interest\n",
    "# derived from the above\n",
    "n = 557  # the experiment size\n",
    "r = 0.1  # the assumed large effect size (difference in conversion rates)\n",
    "t = 0.061576 # the correct threshold for specified power and significance\n"
   ]
  },
  {
   "cell_type": "code",
   "execution_count": 3,
   "metadata": {},
   "outputs": [],
   "source": [
    "mk_graphs = graph_factory(\n",
    "    n=n,  # the experiment size\n",
    "    r=r,  # the assumed large effect size (difference in conversion rates)\n",
    ")"
   ]
  },
  {
   "cell_type": "code",
   "execution_count": 4,
   "metadata": {},
   "outputs": [],
   "source": [
    "# sig_area, mpow_area are calculated in make_graphs\n",
    "\n",
    "def sig_pow_text_monochrome(sig_area, mpow_area, img_size=(480, 180), fontsize=24):\n",
    "    img_t = PIL.Image.new(\"RGB\", img_size, \"white\")\n",
    "    draw = ImageDraw.Draw(img_t)\n",
    "\n",
    "    fnt = ImageFont.truetype(\"Verdana.ttf\", fontsize)\n",
    "\n",
    "    textlabels = \"False Positive Rate:\\nFalse Negative Rate:\"\n",
    "    textvalues = f\"{sig_area:.3f}\\n{mpow_area:.3f}\"\n",
    "\n",
    "    value_xoffset = fnt.getlength(\"False Negative Rate:\") + 5\n",
    "\n",
    "    draw.multiline_text((0,0), textlabels, font=fnt, fill=(0,0,0), align='right')\n",
    "    draw.multiline_text((value_xoffset, 0), textvalues, font=fnt, fill=(0,0,0), align='left')\n",
    "    return img_t\n",
    "\n",
    "\n",
    "def sig_pow_text_color(sig_area, mpow_area, img_size=(480, 180), fontsize=24):\n",
    "    # these are the colors in binomial_diff_sig_pow_visual\n",
    "    # converted to (R, G, B)\n",
    "    assumed_no_effect_color = (241, 163, 64) # '#f1a340',\n",
    "    assumed_large_effect_color = (153, 142, 195) # '#998ec3'\n",
    "\n",
    "    img_t = PIL.Image.new(\"RGB\", img_size, \"white\")\n",
    "    draw = ImageDraw.Draw(img_t)\n",
    "\n",
    "    fnt = ImageFont.truetype(\"Verdana.ttf\", 24)\n",
    "\n",
    "    textlabels = \"False Positive Rate:\\nFalse Negative Rate:\"\n",
    "    significance = f\"{sig_area:.3f}\"\n",
    "    mpow = f\"{mpow_area:.3f}\"\n",
    "\n",
    "    value_xoffset = fnt.getlength(\"False Negative Rate:\") + 5\n",
    "    bb = fnt.getbbox(significance) \n",
    "    # (left, top, right, bottom)\n",
    "    # multiline_text by default puts 4 pixel spacing between lines\n",
    "\n",
    "    draw.multiline_text((0,0), textlabels, font=fnt, fill=(0,0,0), align='right')\n",
    "    draw.text((value_xoffset, 0), significance, font=fnt, fill=assumed_no_effect_color)\n",
    "    draw.text((value_xoffset, bb[3]+4), mpow, font=fnt, fill=assumed_large_effect_color)\n",
    "    return img_t"
   ]
  },
  {
   "cell_type": "code",
   "execution_count": 5,
   "metadata": {},
   "outputs": [
    {
     "data": {
      "image/png": "[encoded data removed]",
      "text/plain": [
       "<PIL.Image.Image image mode=RGB size=480x180>"
      ]
     },
     "metadata": {},
     "output_type": "display_data"
    },
    {
     "data": {
      "image/png": "[encoded data removed]",
      "text/plain": [
       "<PIL.Image.Image image mode=RGB size=480x180>"
      ]
     },
     "metadata": {},
     "output_type": "display_data"
    }
   ],
   "source": [
    "# just to test non-round numbers\n",
    "sig = 0.345\n",
    "mpow = 0.123\n",
    "\n",
    "display(sig_pow_text_monochrome(sig, mpow))\n",
    "\n",
    "display(sig_pow_text_color(sig, mpow))\n",
    "\n"
   ]
  }
 ],
 "metadata": {
  "kernelspec": {
   "display_name": "data_algebra_dev_env",
   "language": "python",
   "name": "python3"
  },
  "language_info": {
   "codemirror_mode": {
    "name": "ipython",
    "version": 3
   },
   "file_extension": ".py",
   "mimetype": "text/x-python",
   "name": "python",
   "nbconvert_exporter": "python",
   "pygments_lexer": "ipython3",
   "version": "3.11.4"
  },
  "orig_nbformat": 4
 },
 "nbformat": 4,
 "nbformat_minor": 2
}
