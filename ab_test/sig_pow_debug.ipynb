{
 "cells": [
  {
   "cell_type": "markdown",
   "metadata": {},
   "source": [
    "Interactive version of the graph from [A/B Tests for Engineers](https://win-vector.com/2023/10/15/a-b-tests-for-engineers/).\n",
    "\n",
    "To see the interaction: download [directory](https://github.com/WinVector/Examples/tree/main/ab_test) and run this Jupyter notebook in JupyterLab or VSCode.\n",
    "\n",
    "[Jupyter Widgets documentation](https://ipywidgets.readthedocs.io/en/latest/index.html)"
   ]
  },
  {
   "cell_type": "code",
   "execution_count": null,
   "metadata": {},
   "outputs": [],
   "source": [
    "# import our modules\n",
    "import numpy as np\n",
    "import pandas as pd\n",
    "from IPython.display import display, clear_output\n",
    "import matplotlib.pyplot as plt\n",
    "from sig_pow_visual import composite_graphs_using_PIL, graph_factory\n",
    "from data_algebra import RecordSpecification\n",
    "import PIL\n",
    "from PIL import Image, ImageDraw, ImageFont\n",
    "\n",
    "import ipywidgets as widgets"
   ]
  },
  {
   "cell_type": "code",
   "execution_count": null,
   "metadata": {},
   "outputs": [],
   "source": [
    "# our specification of interest\n",
    "# derived from the above\n",
    "n = 557  # the experiment size\n",
    "r = 0.1  # the assumed large effect size (difference in conversion rates)\n",
    "t = 0.061576 # the correct threshold for specified power and significance\n"
   ]
  },
  {
   "cell_type": "code",
   "execution_count": null,
   "metadata": {},
   "outputs": [],
   "source": [
    "mk_graphs = graph_factory(\n",
    "    n=n,  # the experiment size\n",
    "    r=r,  # the assumed large effect size (difference in conversion rates)\n",
    ")"
   ]
  },
  {
   "cell_type": "code",
   "execution_count": null,
   "metadata": {},
   "outputs": [],
   "source": [
    "graphs = mk_graphs(t)\n",
    "# composite the images using PIL\n",
    "img_c = composite_graphs_using_PIL(graphs)\n",
    "img_c = img_c.resize((int(0.25 * img_c.size[0]), int(0.25 * img_c.size[1])))\n",
    "display(img_c)"
   ]
  },
  {
   "cell_type": "code",
   "execution_count": null,
   "metadata": {},
   "outputs": [],
   "source": [
    "graphs = mk_graphs(None)\n",
    "# composite the images using PIL\n",
    "img_c = composite_graphs_using_PIL(graphs)\n",
    "img_c = img_c.resize((int(0.25 * img_c.size[0]), int(0.25 * img_c.size[1])))\n",
    "display(img_c)"
   ]
  }
 ],
 "metadata": {
  "kernelspec": {
   "display_name": "data_algebra_dev_env",
   "language": "python",
   "name": "python3"
  },
  "language_info": {
   "codemirror_mode": {
    "name": "ipython",
    "version": 3
   },
   "file_extension": ".py",
   "mimetype": "text/x-python",
   "name": "python",
   "nbconvert_exporter": "python",
   "pygments_lexer": "ipython3",
   "version": "3.11.4"
  },
  "orig_nbformat": 4
 },
 "nbformat": 4,
 "nbformat_minor": 2
}
