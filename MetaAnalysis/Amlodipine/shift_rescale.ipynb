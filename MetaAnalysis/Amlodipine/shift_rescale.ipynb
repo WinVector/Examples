{
 "cells": [
  {
   "cell_type": "markdown",
   "metadata": {},
   "source": [
    "Shift re-scale calculation."
   ]
  },
  {
   "cell_type": "markdown",
   "metadata": {},
   "source": [
    "Solve for $u, v$ in:\n",
    "\n",
    "$$\n",
    "\\begin{align*}\n",
    "\\frac{1}{n} \\sum_{i = 1}^{n} (u y_{i} + v) &= a \\\\\n",
    "\\frac{1}{n - 1} \\sum_{i = 1}^{n} (u y_{i} + v - a)^{2} &= b \\\\\n",
    "\\end{align*}\n",
    "$$\n"
   ]
  },
  {
   "cell_type": "markdown",
   "metadata": {},
   "source": [
    "\n",
    "\n",
    "$$\n",
    "\\begin{align*}\n",
    "u \\sum_{i = 1}^{n} (y_{i})+ n v &= n a \\\\\n",
    "u^{2} \\sum_{i = 1}^{n} (y_{i}^{2}) + 2 u (v - a) \\sum_{i = 1}^{n} (y_{i}) + n (v - a)^{2} &= (n - 1) b \\\\\n",
    "\\end{align*}\n",
    "$$"
   ]
  },
  {
   "cell_type": "code",
   "execution_count": 1,
   "metadata": {},
   "outputs": [],
   "source": [
    "import numpy as np\n",
    "from sympy import solve, symbols"
   ]
  },
  {
   "cell_type": "code",
   "execution_count": 2,
   "metadata": {},
   "outputs": [],
   "source": [
    "n, a, b, u, v, sumy, sumy2 = symbols(\n",
    "    'n, a, b, u, v, \\sum_{i=1}^{n}{y}, \\sum_{i=1}^{n}{y^{2}}')\n",
    "eqns = [\n",
    " u * sumy + n * v - n * a,\n",
    " u**2 * sumy2 + 2 * u * (v - a) * sumy + n * (v - a)**2 - (n - 1) * b,\n",
    "]"
   ]
  },
  {
   "cell_type": "code",
   "execution_count": 3,
   "metadata": {},
   "outputs": [
    {
     "data": {
      "text/latex": [
       "$\\displaystyle \\sum_{i=1}^{n}{y} u - a n + n v$"
      ],
      "text/plain": [
       "\\sum_{i=1}^{n}{y}*u - a*n + n*v"
      ]
     },
     "execution_count": 3,
     "metadata": {},
     "output_type": "execute_result"
    }
   ],
   "source": [
    "eqns[0]"
   ]
  },
  {
   "cell_type": "code",
   "execution_count": 4,
   "metadata": {},
   "outputs": [
    {
     "data": {
      "text/latex": [
       "$\\displaystyle \\sum_{i=1}^{n}{y^{2}} u^{2} + 2 \\sum_{i=1}^{n}{y} u \\left(- a + v\\right) - b \\left(n - 1\\right) + n \\left(- a + v\\right)^{2}$"
      ],
      "text/plain": [
       "\\sum_{i=1}^{n}{y^{2}}*u**2 + 2*\\sum_{i=1}^{n}{y}*u*(-a + v) - b*(n - 1) + n*(-a + v)**2"
      ]
     },
     "execution_count": 4,
     "metadata": {},
     "output_type": "execute_result"
    }
   ],
   "source": [
    "eqns[1]"
   ]
  },
  {
   "cell_type": "code",
   "execution_count": 5,
   "metadata": {},
   "outputs": [],
   "source": [
    "soln = solve(eqns, [u, v])\n"
   ]
  },
  {
   "cell_type": "code",
   "execution_count": 6,
   "metadata": {},
   "outputs": [
    {
     "data": {
      "text/plain": [
       "2"
      ]
     },
     "execution_count": 6,
     "metadata": {},
     "output_type": "execute_result"
    }
   ],
   "source": [
    "len(soln)"
   ]
  },
  {
   "cell_type": "code",
   "execution_count": 7,
   "metadata": {},
   "outputs": [
    {
     "data": {
      "text/latex": [
       "$\\displaystyle - \\frac{\\sqrt{b n \\left(n - 1\\right) \\left(\\sum_{i=1}^{n}{y^{2}} n - \\left(\\sum_{i=1}^{n}{y}\\right)^{2}\\right)}}{\\sum_{i=1}^{n}{y^{2}} n - \\left(\\sum_{i=1}^{n}{y}\\right)^{2}}$"
      ],
      "text/plain": [
       "-sqrt(b*n*(n - 1)*(\\sum_{i=1}^{n}{y^{2}}*n - \\sum_{i=1}^{n}{y}**2))/(\\sum_{i=1}^{n}{y^{2}}*n - \\sum_{i=1}^{n}{y}**2)"
      ]
     },
     "execution_count": 7,
     "metadata": {},
     "output_type": "execute_result"
    }
   ],
   "source": [
    "soln[0][0]"
   ]
  },
  {
   "cell_type": "code",
   "execution_count": 8,
   "metadata": {},
   "outputs": [
    {
     "data": {
      "text/latex": [
       "$\\displaystyle \\frac{\\sum_{i=1}^{n}{y} \\sqrt{b n \\left(n - 1\\right) \\left(\\sum_{i=1}^{n}{y^{2}} n - \\left(\\sum_{i=1}^{n}{y}\\right)^{2}\\right)}}{n \\left(\\sum_{i=1}^{n}{y^{2}} n - \\left(\\sum_{i=1}^{n}{y}\\right)^{2}\\right)} + a$"
      ],
      "text/plain": [
       "\\sum_{i=1}^{n}{y}*sqrt(b*n*(n - 1)*(\\sum_{i=1}^{n}{y^{2}}*n - \\sum_{i=1}^{n}{y}**2))/(n*(\\sum_{i=1}^{n}{y^{2}}*n - \\sum_{i=1}^{n}{y}**2)) + a"
      ]
     },
     "execution_count": 8,
     "metadata": {},
     "output_type": "execute_result"
    }
   ],
   "source": [
    "soln[0][1]"
   ]
  },
  {
   "cell_type": "code",
   "execution_count": 9,
   "metadata": {},
   "outputs": [
    {
     "data": {
      "text/latex": [
       "$\\displaystyle \\frac{\\sqrt{b n \\left(n - 1\\right) \\left(\\sum_{i=1}^{n}{y^{2}} n - \\left(\\sum_{i=1}^{n}{y}\\right)^{2}\\right)}}{\\sum_{i=1}^{n}{y^{2}} n - \\left(\\sum_{i=1}^{n}{y}\\right)^{2}}$"
      ],
      "text/plain": [
       "sqrt(b*n*(n - 1)*(\\sum_{i=1}^{n}{y^{2}}*n - \\sum_{i=1}^{n}{y}**2))/(\\sum_{i=1}^{n}{y^{2}}*n - \\sum_{i=1}^{n}{y}**2)"
      ]
     },
     "execution_count": 9,
     "metadata": {},
     "output_type": "execute_result"
    }
   ],
   "source": [
    "soln[1][0]"
   ]
  },
  {
   "cell_type": "code",
   "execution_count": 10,
   "metadata": {},
   "outputs": [
    {
     "data": {
      "text/latex": [
       "$\\displaystyle - \\frac{\\sum_{i=1}^{n}{y} \\sqrt{b n \\left(n - 1\\right) \\left(\\sum_{i=1}^{n}{y^{2}} n - \\left(\\sum_{i=1}^{n}{y}\\right)^{2}\\right)}}{n \\left(\\sum_{i=1}^{n}{y^{2}} n - \\left(\\sum_{i=1}^{n}{y}\\right)^{2}\\right)} + a$"
      ],
      "text/plain": [
       "-\\sum_{i=1}^{n}{y}*sqrt(b*n*(n - 1)*(\\sum_{i=1}^{n}{y^{2}}*n - \\sum_{i=1}^{n}{y}**2))/(n*(\\sum_{i=1}^{n}{y^{2}}*n - \\sum_{i=1}^{n}{y}**2)) + a"
      ]
     },
     "execution_count": 10,
     "metadata": {},
     "output_type": "execute_result"
    }
   ],
   "source": [
    "soln[1][1]"
   ]
  },
  {
   "cell_type": "code",
   "execution_count": 11,
   "metadata": {},
   "outputs": [
    {
     "data": {
      "text/plain": [
       "1"
      ]
     },
     "execution_count": 11,
     "metadata": {},
     "output_type": "execute_result"
    }
   ],
   "source": [
    "ab_soln = solve(eqns, [a, b])\n",
    "\n",
    "len(ab_soln)"
   ]
  },
  {
   "cell_type": "code",
   "execution_count": 12,
   "metadata": {},
   "outputs": [
    {
     "data": {
      "text/latex": [
       "$\\displaystyle \\frac{\\sum_{i=1}^{n}{y} u + n v}{n}$"
      ],
      "text/plain": [
       "(\\sum_{i=1}^{n}{y}*u + n*v)/n"
      ]
     },
     "execution_count": 12,
     "metadata": {},
     "output_type": "execute_result"
    }
   ],
   "source": [
    "ab_soln[0][0]"
   ]
  },
  {
   "cell_type": "code",
   "execution_count": 13,
   "metadata": {},
   "outputs": [
    {
     "data": {
      "text/latex": [
       "$\\displaystyle \\frac{u^{2} \\left(\\sum_{i=1}^{n}{y^{2}} n - \\left(\\sum_{i=1}^{n}{y}\\right)^{2}\\right)}{n \\left(n - 1\\right)}$"
      ],
      "text/plain": [
       "u**2*(\\sum_{i=1}^{n}{y^{2}}*n - \\sum_{i=1}^{n}{y}**2)/(n*(n - 1))"
      ]
     },
     "execution_count": 13,
     "metadata": {},
     "output_type": "execute_result"
    }
   ],
   "source": [
    "ab_soln[0][1]"
   ]
  },
  {
   "cell_type": "code",
   "execution_count": null,
   "metadata": {},
   "outputs": [],
   "source": []
  },
  {
   "cell_type": "markdown",
   "metadata": {},
   "source": [
    "Want `u` positive, so second solution is the one."
   ]
  },
  {
   "cell_type": "code",
   "execution_count": 14,
   "metadata": {},
   "outputs": [],
   "source": [
    "def scale_shift(y, *, a, b):\n",
    "    assert b > 0\n",
    "    y = np.array(y, dtype=float)\n",
    "    n = len(y)\n",
    "    sumy = np.sum(y)\n",
    "    sumy2 = np.sum(y * y)\n",
    "    diff = n * sumy2 - sumy * sumy\n",
    "    assert diff > 0\n",
    "    disc = np.sqrt(b * n * (n - 1) * diff)\n",
    "    u = disc / diff\n",
    "    v = a - sumy * disc / (n * diff)\n",
    "    return u, v\n",
    "    "
   ]
  },
  {
   "cell_type": "code",
   "execution_count": 15,
   "metadata": {},
   "outputs": [],
   "source": [
    "y = np.array([1, 1, 2, 2, 3, 3, 3], dtype=float)\n"
   ]
  },
  {
   "cell_type": "code",
   "execution_count": 16,
   "metadata": {},
   "outputs": [
    {
     "data": {
      "text/plain": [
       "2.142857142857143"
      ]
     },
     "execution_count": 16,
     "metadata": {},
     "output_type": "execute_result"
    }
   ],
   "source": [
    "np.mean(y)"
   ]
  },
  {
   "cell_type": "code",
   "execution_count": 17,
   "metadata": {},
   "outputs": [
    {
     "data": {
      "text/plain": [
       "0.8095238095238094"
      ]
     },
     "execution_count": 17,
     "metadata": {},
     "output_type": "execute_result"
    }
   ],
   "source": [
    "np.var(y, ddof=1)"
   ]
  },
  {
   "cell_type": "code",
   "execution_count": 18,
   "metadata": {},
   "outputs": [
    {
     "data": {
      "text/plain": [
       "0.8095238095238094"
      ]
     },
     "execution_count": 18,
     "metadata": {},
     "output_type": "execute_result"
    }
   ],
   "source": [
    "np.sum((y - np.mean(y))**2) / (len(y) - 1)"
   ]
  },
  {
   "cell_type": "code",
   "execution_count": 19,
   "metadata": {},
   "outputs": [],
   "source": [
    "a = 2\n",
    "b = 0.5"
   ]
  },
  {
   "cell_type": "code",
   "execution_count": 20,
   "metadata": {},
   "outputs": [
    {
     "data": {
      "text/plain": [
       "(1.0, 0.0)"
      ]
     },
     "execution_count": 20,
     "metadata": {},
     "output_type": "execute_result"
    }
   ],
   "source": [
    "scale_shift(y, a=np.mean(y), b=np.var(y, ddof=1))"
   ]
  },
  {
   "cell_type": "code",
   "execution_count": 21,
   "metadata": {},
   "outputs": [
    {
     "data": {
      "text/plain": [
       "(0.7859052479933757, 0.3159173257284804)"
      ]
     },
     "execution_count": 21,
     "metadata": {},
     "output_type": "execute_result"
    }
   ],
   "source": [
    "u, v = scale_shift(y, a=a, b=b)\n",
    "\n",
    "(u, v)"
   ]
  },
  {
   "cell_type": "code",
   "execution_count": 22,
   "metadata": {},
   "outputs": [
    {
     "data": {
      "text/plain": [
       "array([1.10182257, 1.10182257, 1.88772782, 1.88772782, 2.67363307,\n",
       "       2.67363307, 2.67363307])"
      ]
     },
     "execution_count": 22,
     "metadata": {},
     "output_type": "execute_result"
    }
   ],
   "source": [
    "ys = u * y + v\n",
    "\n",
    "ys"
   ]
  },
  {
   "cell_type": "code",
   "execution_count": 23,
   "metadata": {},
   "outputs": [
    {
     "data": {
      "text/plain": [
       "1.9999999999999998"
      ]
     },
     "execution_count": 23,
     "metadata": {},
     "output_type": "execute_result"
    }
   ],
   "source": [
    "np.mean(ys)"
   ]
  },
  {
   "cell_type": "code",
   "execution_count": 24,
   "metadata": {},
   "outputs": [
    {
     "data": {
      "text/plain": [
       "0.49999999999999983"
      ]
     },
     "execution_count": 24,
     "metadata": {},
     "output_type": "execute_result"
    }
   ],
   "source": [
    "np.var(ys, ddof=1)"
   ]
  },
  {
   "cell_type": "code",
   "execution_count": null,
   "metadata": {},
   "outputs": [],
   "source": []
  }
 ],
 "metadata": {
  "kernelspec": {
   "display_name": "prob_env",
   "language": "python",
   "name": "python3"
  },
  "language_info": {
   "codemirror_mode": {
    "name": "ipython",
    "version": 3
   },
   "file_extension": ".py",
   "mimetype": "text/x-python",
   "name": "python",
   "nbconvert_exporter": "python",
   "pygments_lexer": "ipython3",
   "version": "3.11.9"
  }
 },
 "nbformat": 4,
 "nbformat_minor": 2
}
