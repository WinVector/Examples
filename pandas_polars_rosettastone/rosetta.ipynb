{
 "cells": [
  {
   "attachments": {},
   "cell_type": "markdown",
   "metadata": {},
   "source": [
    "# Pandas/Polars Rosetta Stone\n",
    "\n",
    "In [our book](https://win-vector.com/practical-data-science-with-r/), we shared a \"Rosetta stone\" of common data operations in R, using base R, `data.table` and `dplyr`.\n",
    "Here, we are sharing a similar Rosetta stone for Python, between `pandas` and `polars`.\n",
    "\n",
    "We'll work mostly on the [Penguins dataset](https://allisonhorst.github.io/palmerpenguins/) ([Pypi link](https://pypi.org/project/palmerpenguins/)),\n",
    "with a few small toy frames towards the end.\n",
    "\n",
    "* [Handy polars reference](https://pola-rs.github.io/polars-book/user-guide/introduction.html).\n",
    "* [Polars API reference](https://pola-rs.github.io/polars/py-polars/html/reference/index.html)\n",
    "\n"
   ]
  },
  {
   "cell_type": "code",
   "execution_count": 1,
   "metadata": {},
   "outputs": [],
   "source": [
    "import numpy as np\n",
    "import pandas as pd\n",
    "import polars as pl\n",
    "\n",
    "from palmerpenguins import load_penguins"
   ]
  },
  {
   "cell_type": "code",
   "execution_count": 2,
   "metadata": {},
   "outputs": [
    {
     "name": "stdout",
     "output_type": "stream",
     "text": [
      "pandas version 1.4.4\n",
      "polars version 0.17.0\n"
     ]
    }
   ],
   "source": [
    "print(f'pandas version {pd.__version__}')\n",
    "print(f'polars version {pl.__version__}')"
   ]
  },
  {
   "attachments": {},
   "cell_type": "markdown",
   "metadata": {},
   "source": [
    "## Load the data\n",
    "\n",
    "Penguins dataset\n",
    "\n",
    "### pandas"
   ]
  },
  {
   "cell_type": "code",
   "execution_count": 3,
   "metadata": {},
   "outputs": [
    {
     "data": {
      "text/html": [
       "<div>\n",
       "<style scoped>\n",
       "    .dataframe tbody tr th:only-of-type {\n",
       "        vertical-align: middle;\n",
       "    }\n",
       "\n",
       "    .dataframe tbody tr th {\n",
       "        vertical-align: top;\n",
       "    }\n",
       "\n",
       "    .dataframe thead th {\n",
       "        text-align: right;\n",
       "    }\n",
       "</style>\n",
       "<table border=\"1\" class=\"dataframe\">\n",
       "  <thead>\n",
       "    <tr style=\"text-align: right;\">\n",
       "      <th></th>\n",
       "      <th>species</th>\n",
       "      <th>island</th>\n",
       "      <th>bill_length_mm</th>\n",
       "      <th>bill_depth_mm</th>\n",
       "      <th>flipper_length_mm</th>\n",
       "      <th>body_mass_g</th>\n",
       "      <th>sex</th>\n",
       "      <th>year</th>\n",
       "    </tr>\n",
       "  </thead>\n",
       "  <tbody>\n",
       "    <tr>\n",
       "      <th>0</th>\n",
       "      <td>Adelie</td>\n",
       "      <td>Torgersen</td>\n",
       "      <td>39.1</td>\n",
       "      <td>18.7</td>\n",
       "      <td>181.0</td>\n",
       "      <td>3750.0</td>\n",
       "      <td>male</td>\n",
       "      <td>2007</td>\n",
       "    </tr>\n",
       "    <tr>\n",
       "      <th>1</th>\n",
       "      <td>Adelie</td>\n",
       "      <td>Torgersen</td>\n",
       "      <td>39.5</td>\n",
       "      <td>17.4</td>\n",
       "      <td>186.0</td>\n",
       "      <td>3800.0</td>\n",
       "      <td>female</td>\n",
       "      <td>2007</td>\n",
       "    </tr>\n",
       "    <tr>\n",
       "      <th>2</th>\n",
       "      <td>Adelie</td>\n",
       "      <td>Torgersen</td>\n",
       "      <td>40.3</td>\n",
       "      <td>18.0</td>\n",
       "      <td>195.0</td>\n",
       "      <td>3250.0</td>\n",
       "      <td>female</td>\n",
       "      <td>2007</td>\n",
       "    </tr>\n",
       "    <tr>\n",
       "      <th>3</th>\n",
       "      <td>Adelie</td>\n",
       "      <td>Torgersen</td>\n",
       "      <td>NaN</td>\n",
       "      <td>NaN</td>\n",
       "      <td>NaN</td>\n",
       "      <td>NaN</td>\n",
       "      <td>NaN</td>\n",
       "      <td>2007</td>\n",
       "    </tr>\n",
       "    <tr>\n",
       "      <th>4</th>\n",
       "      <td>Adelie</td>\n",
       "      <td>Torgersen</td>\n",
       "      <td>36.7</td>\n",
       "      <td>19.3</td>\n",
       "      <td>193.0</td>\n",
       "      <td>3450.0</td>\n",
       "      <td>female</td>\n",
       "      <td>2007</td>\n",
       "    </tr>\n",
       "    <tr>\n",
       "      <th>...</th>\n",
       "      <td>...</td>\n",
       "      <td>...</td>\n",
       "      <td>...</td>\n",
       "      <td>...</td>\n",
       "      <td>...</td>\n",
       "      <td>...</td>\n",
       "      <td>...</td>\n",
       "      <td>...</td>\n",
       "    </tr>\n",
       "    <tr>\n",
       "      <th>339</th>\n",
       "      <td>Chinstrap</td>\n",
       "      <td>Dream</td>\n",
       "      <td>55.8</td>\n",
       "      <td>19.8</td>\n",
       "      <td>207.0</td>\n",
       "      <td>4000.0</td>\n",
       "      <td>male</td>\n",
       "      <td>2009</td>\n",
       "    </tr>\n",
       "    <tr>\n",
       "      <th>340</th>\n",
       "      <td>Chinstrap</td>\n",
       "      <td>Dream</td>\n",
       "      <td>43.5</td>\n",
       "      <td>18.1</td>\n",
       "      <td>202.0</td>\n",
       "      <td>3400.0</td>\n",
       "      <td>female</td>\n",
       "      <td>2009</td>\n",
       "    </tr>\n",
       "    <tr>\n",
       "      <th>341</th>\n",
       "      <td>Chinstrap</td>\n",
       "      <td>Dream</td>\n",
       "      <td>49.6</td>\n",
       "      <td>18.2</td>\n",
       "      <td>193.0</td>\n",
       "      <td>3775.0</td>\n",
       "      <td>male</td>\n",
       "      <td>2009</td>\n",
       "    </tr>\n",
       "    <tr>\n",
       "      <th>342</th>\n",
       "      <td>Chinstrap</td>\n",
       "      <td>Dream</td>\n",
       "      <td>50.8</td>\n",
       "      <td>19.0</td>\n",
       "      <td>210.0</td>\n",
       "      <td>4100.0</td>\n",
       "      <td>male</td>\n",
       "      <td>2009</td>\n",
       "    </tr>\n",
       "    <tr>\n",
       "      <th>343</th>\n",
       "      <td>Chinstrap</td>\n",
       "      <td>Dream</td>\n",
       "      <td>50.2</td>\n",
       "      <td>18.7</td>\n",
       "      <td>198.0</td>\n",
       "      <td>3775.0</td>\n",
       "      <td>female</td>\n",
       "      <td>2009</td>\n",
       "    </tr>\n",
       "  </tbody>\n",
       "</table>\n",
       "<p>344 rows × 8 columns</p>\n",
       "</div>"
      ],
      "text/plain": [
       "       species     island  bill_length_mm  bill_depth_mm  flipper_length_mm  \\\n",
       "0       Adelie  Torgersen            39.1           18.7              181.0   \n",
       "1       Adelie  Torgersen            39.5           17.4              186.0   \n",
       "2       Adelie  Torgersen            40.3           18.0              195.0   \n",
       "3       Adelie  Torgersen             NaN            NaN                NaN   \n",
       "4       Adelie  Torgersen            36.7           19.3              193.0   \n",
       "..         ...        ...             ...            ...                ...   \n",
       "339  Chinstrap      Dream            55.8           19.8              207.0   \n",
       "340  Chinstrap      Dream            43.5           18.1              202.0   \n",
       "341  Chinstrap      Dream            49.6           18.2              193.0   \n",
       "342  Chinstrap      Dream            50.8           19.0              210.0   \n",
       "343  Chinstrap      Dream            50.2           18.7              198.0   \n",
       "\n",
       "     body_mass_g     sex  year  \n",
       "0         3750.0    male  2007  \n",
       "1         3800.0  female  2007  \n",
       "2         3250.0  female  2007  \n",
       "3            NaN     NaN  2007  \n",
       "4         3450.0  female  2007  \n",
       "..           ...     ...   ...  \n",
       "339       4000.0    male  2009  \n",
       "340       3400.0  female  2009  \n",
       "341       3775.0    male  2009  \n",
       "342       4100.0    male  2009  \n",
       "343       3775.0  female  2009  \n",
       "\n",
       "[344 rows x 8 columns]"
      ]
     },
     "execution_count": 3,
     "metadata": {},
     "output_type": "execute_result"
    }
   ],
   "source": [
    "peng_pd = load_penguins()\n",
    "peng_pd"
   ]
  },
  {
   "attachments": {},
   "cell_type": "markdown",
   "metadata": {},
   "source": [
    "### polars"
   ]
  },
  {
   "cell_type": "code",
   "execution_count": 4,
   "metadata": {},
   "outputs": [
    {
     "data": {
      "text/html": [
       "<div><style>\n",
       ".dataframe > thead > tr > th,\n",
       ".dataframe > tbody > tr > td {\n",
       "  text-align: right;\n",
       "}\n",
       "</style>\n",
       "<small>shape: (344, 8)</small><table border=\"1\" class=\"dataframe\"><thead><tr><th>species</th><th>island</th><th>bill_length_mm</th><th>bill_depth_mm</th><th>flipper_length_mm</th><th>body_mass_g</th><th>sex</th><th>year</th></tr><tr><td>str</td><td>str</td><td>f64</td><td>f64</td><td>f64</td><td>f64</td><td>str</td><td>i64</td></tr></thead><tbody><tr><td>&quot;Adelie&quot;</td><td>&quot;Torgersen&quot;</td><td>39.1</td><td>18.7</td><td>181.0</td><td>3750.0</td><td>&quot;male&quot;</td><td>2007</td></tr><tr><td>&quot;Adelie&quot;</td><td>&quot;Torgersen&quot;</td><td>39.5</td><td>17.4</td><td>186.0</td><td>3800.0</td><td>&quot;female&quot;</td><td>2007</td></tr><tr><td>&quot;Adelie&quot;</td><td>&quot;Torgersen&quot;</td><td>40.3</td><td>18.0</td><td>195.0</td><td>3250.0</td><td>&quot;female&quot;</td><td>2007</td></tr><tr><td>&quot;Adelie&quot;</td><td>&quot;Torgersen&quot;</td><td>null</td><td>null</td><td>null</td><td>null</td><td>null</td><td>2007</td></tr><tr><td>&quot;Adelie&quot;</td><td>&quot;Torgersen&quot;</td><td>36.7</td><td>19.3</td><td>193.0</td><td>3450.0</td><td>&quot;female&quot;</td><td>2007</td></tr><tr><td>&quot;Adelie&quot;</td><td>&quot;Torgersen&quot;</td><td>39.3</td><td>20.6</td><td>190.0</td><td>3650.0</td><td>&quot;male&quot;</td><td>2007</td></tr><tr><td>&quot;Adelie&quot;</td><td>&quot;Torgersen&quot;</td><td>38.9</td><td>17.8</td><td>181.0</td><td>3625.0</td><td>&quot;female&quot;</td><td>2007</td></tr><tr><td>&quot;Adelie&quot;</td><td>&quot;Torgersen&quot;</td><td>39.2</td><td>19.6</td><td>195.0</td><td>4675.0</td><td>&quot;male&quot;</td><td>2007</td></tr><tr><td>&quot;Adelie&quot;</td><td>&quot;Torgersen&quot;</td><td>34.1</td><td>18.1</td><td>193.0</td><td>3475.0</td><td>null</td><td>2007</td></tr><tr><td>&quot;Adelie&quot;</td><td>&quot;Torgersen&quot;</td><td>42.0</td><td>20.2</td><td>190.0</td><td>4250.0</td><td>null</td><td>2007</td></tr><tr><td>&quot;Adelie&quot;</td><td>&quot;Torgersen&quot;</td><td>37.8</td><td>17.1</td><td>186.0</td><td>3300.0</td><td>null</td><td>2007</td></tr><tr><td>&quot;Adelie&quot;</td><td>&quot;Torgersen&quot;</td><td>37.8</td><td>17.3</td><td>180.0</td><td>3700.0</td><td>null</td><td>2007</td></tr><tr><td>&hellip;</td><td>&hellip;</td><td>&hellip;</td><td>&hellip;</td><td>&hellip;</td><td>&hellip;</td><td>&hellip;</td><td>&hellip;</td></tr><tr><td>&quot;Chinstrap&quot;</td><td>&quot;Dream&quot;</td><td>45.2</td><td>16.6</td><td>191.0</td><td>3250.0</td><td>&quot;female&quot;</td><td>2009</td></tr><tr><td>&quot;Chinstrap&quot;</td><td>&quot;Dream&quot;</td><td>49.3</td><td>19.9</td><td>203.0</td><td>4050.0</td><td>&quot;male&quot;</td><td>2009</td></tr><tr><td>&quot;Chinstrap&quot;</td><td>&quot;Dream&quot;</td><td>50.2</td><td>18.8</td><td>202.0</td><td>3800.0</td><td>&quot;male&quot;</td><td>2009</td></tr><tr><td>&quot;Chinstrap&quot;</td><td>&quot;Dream&quot;</td><td>45.6</td><td>19.4</td><td>194.0</td><td>3525.0</td><td>&quot;female&quot;</td><td>2009</td></tr><tr><td>&quot;Chinstrap&quot;</td><td>&quot;Dream&quot;</td><td>51.9</td><td>19.5</td><td>206.0</td><td>3950.0</td><td>&quot;male&quot;</td><td>2009</td></tr><tr><td>&quot;Chinstrap&quot;</td><td>&quot;Dream&quot;</td><td>46.8</td><td>16.5</td><td>189.0</td><td>3650.0</td><td>&quot;female&quot;</td><td>2009</td></tr><tr><td>&quot;Chinstrap&quot;</td><td>&quot;Dream&quot;</td><td>45.7</td><td>17.0</td><td>195.0</td><td>3650.0</td><td>&quot;female&quot;</td><td>2009</td></tr><tr><td>&quot;Chinstrap&quot;</td><td>&quot;Dream&quot;</td><td>55.8</td><td>19.8</td><td>207.0</td><td>4000.0</td><td>&quot;male&quot;</td><td>2009</td></tr><tr><td>&quot;Chinstrap&quot;</td><td>&quot;Dream&quot;</td><td>43.5</td><td>18.1</td><td>202.0</td><td>3400.0</td><td>&quot;female&quot;</td><td>2009</td></tr><tr><td>&quot;Chinstrap&quot;</td><td>&quot;Dream&quot;</td><td>49.6</td><td>18.2</td><td>193.0</td><td>3775.0</td><td>&quot;male&quot;</td><td>2009</td></tr><tr><td>&quot;Chinstrap&quot;</td><td>&quot;Dream&quot;</td><td>50.8</td><td>19.0</td><td>210.0</td><td>4100.0</td><td>&quot;male&quot;</td><td>2009</td></tr><tr><td>&quot;Chinstrap&quot;</td><td>&quot;Dream&quot;</td><td>50.2</td><td>18.7</td><td>198.0</td><td>3775.0</td><td>&quot;female&quot;</td><td>2009</td></tr></tbody></table></div>"
      ],
      "text/plain": [
       "shape: (344, 8)\n",
       "┌───────────┬───────────┬──────────────┬──────────────┬──────────────┬─────────────┬────────┬──────┐\n",
       "│ species   ┆ island    ┆ bill_length_ ┆ bill_depth_m ┆ flipper_leng ┆ body_mass_g ┆ sex    ┆ year │\n",
       "│ ---       ┆ ---       ┆ mm           ┆ m            ┆ th_mm        ┆ ---         ┆ ---    ┆ ---  │\n",
       "│ str       ┆ str       ┆ ---          ┆ ---          ┆ ---          ┆ f64         ┆ str    ┆ i64  │\n",
       "│           ┆           ┆ f64          ┆ f64          ┆ f64          ┆             ┆        ┆      │\n",
       "╞═══════════╪═══════════╪══════════════╪══════════════╪══════════════╪═════════════╪════════╪══════╡\n",
       "│ Adelie    ┆ Torgersen ┆ 39.1         ┆ 18.7         ┆ 181.0        ┆ 3750.0      ┆ male   ┆ 2007 │\n",
       "│ Adelie    ┆ Torgersen ┆ 39.5         ┆ 17.4         ┆ 186.0        ┆ 3800.0      ┆ female ┆ 2007 │\n",
       "│ Adelie    ┆ Torgersen ┆ 40.3         ┆ 18.0         ┆ 195.0        ┆ 3250.0      ┆ female ┆ 2007 │\n",
       "│ Adelie    ┆ Torgersen ┆ null         ┆ null         ┆ null         ┆ null        ┆ null   ┆ 2007 │\n",
       "│ …         ┆ …         ┆ …            ┆ …            ┆ …            ┆ …           ┆ …      ┆ …    │\n",
       "│ Chinstrap ┆ Dream     ┆ 43.5         ┆ 18.1         ┆ 202.0        ┆ 3400.0      ┆ female ┆ 2009 │\n",
       "│ Chinstrap ┆ Dream     ┆ 49.6         ┆ 18.2         ┆ 193.0        ┆ 3775.0      ┆ male   ┆ 2009 │\n",
       "│ Chinstrap ┆ Dream     ┆ 50.8         ┆ 19.0         ┆ 210.0        ┆ 4100.0      ┆ male   ┆ 2009 │\n",
       "│ Chinstrap ┆ Dream     ┆ 50.2         ┆ 18.7         ┆ 198.0        ┆ 3775.0      ┆ female ┆ 2009 │\n",
       "└───────────┴───────────┴──────────────┴──────────────┴──────────────┴─────────────┴────────┴──────┘"
      ]
     },
     "execution_count": 4,
     "metadata": {},
     "output_type": "execute_result"
    }
   ],
   "source": [
    "peng_pl = pl.from_pandas(peng_pd)\n",
    "peng_pl"
   ]
  },
  {
   "attachments": {},
   "cell_type": "markdown",
   "metadata": {},
   "source": [
    "## Inspect the data frame \n",
    "\n",
    "### pandas"
   ]
  },
  {
   "cell_type": "code",
   "execution_count": 5,
   "metadata": {},
   "outputs": [
    {
     "name": "stdout",
     "output_type": "stream",
     "text": [
      "(344, 8)\n",
      "Index(['species', 'island', 'bill_length_mm', 'bill_depth_mm',\n",
      "       'flipper_length_mm', 'body_mass_g', 'sex', 'year'],\n",
      "      dtype='object')\n"
     ]
    },
    {
     "data": {
      "text/html": [
       "<div>\n",
       "<style scoped>\n",
       "    .dataframe tbody tr th:only-of-type {\n",
       "        vertical-align: middle;\n",
       "    }\n",
       "\n",
       "    .dataframe tbody tr th {\n",
       "        vertical-align: top;\n",
       "    }\n",
       "\n",
       "    .dataframe thead th {\n",
       "        text-align: right;\n",
       "    }\n",
       "</style>\n",
       "<table border=\"1\" class=\"dataframe\">\n",
       "  <thead>\n",
       "    <tr style=\"text-align: right;\">\n",
       "      <th></th>\n",
       "      <th>bill_length_mm</th>\n",
       "      <th>bill_depth_mm</th>\n",
       "      <th>flipper_length_mm</th>\n",
       "      <th>body_mass_g</th>\n",
       "      <th>year</th>\n",
       "    </tr>\n",
       "  </thead>\n",
       "  <tbody>\n",
       "    <tr>\n",
       "      <th>count</th>\n",
       "      <td>342.000000</td>\n",
       "      <td>342.000000</td>\n",
       "      <td>342.000000</td>\n",
       "      <td>342.000000</td>\n",
       "      <td>344.000000</td>\n",
       "    </tr>\n",
       "    <tr>\n",
       "      <th>mean</th>\n",
       "      <td>43.921930</td>\n",
       "      <td>17.151170</td>\n",
       "      <td>200.915205</td>\n",
       "      <td>4201.754386</td>\n",
       "      <td>2008.029070</td>\n",
       "    </tr>\n",
       "    <tr>\n",
       "      <th>std</th>\n",
       "      <td>5.459584</td>\n",
       "      <td>1.974793</td>\n",
       "      <td>14.061714</td>\n",
       "      <td>801.954536</td>\n",
       "      <td>0.818356</td>\n",
       "    </tr>\n",
       "    <tr>\n",
       "      <th>min</th>\n",
       "      <td>32.100000</td>\n",
       "      <td>13.100000</td>\n",
       "      <td>172.000000</td>\n",
       "      <td>2700.000000</td>\n",
       "      <td>2007.000000</td>\n",
       "    </tr>\n",
       "    <tr>\n",
       "      <th>25%</th>\n",
       "      <td>39.225000</td>\n",
       "      <td>15.600000</td>\n",
       "      <td>190.000000</td>\n",
       "      <td>3550.000000</td>\n",
       "      <td>2007.000000</td>\n",
       "    </tr>\n",
       "    <tr>\n",
       "      <th>50%</th>\n",
       "      <td>44.450000</td>\n",
       "      <td>17.300000</td>\n",
       "      <td>197.000000</td>\n",
       "      <td>4050.000000</td>\n",
       "      <td>2008.000000</td>\n",
       "    </tr>\n",
       "    <tr>\n",
       "      <th>75%</th>\n",
       "      <td>48.500000</td>\n",
       "      <td>18.700000</td>\n",
       "      <td>213.000000</td>\n",
       "      <td>4750.000000</td>\n",
       "      <td>2009.000000</td>\n",
       "    </tr>\n",
       "    <tr>\n",
       "      <th>max</th>\n",
       "      <td>59.600000</td>\n",
       "      <td>21.500000</td>\n",
       "      <td>231.000000</td>\n",
       "      <td>6300.000000</td>\n",
       "      <td>2009.000000</td>\n",
       "    </tr>\n",
       "  </tbody>\n",
       "</table>\n",
       "</div>"
      ],
      "text/plain": [
       "       bill_length_mm  bill_depth_mm  flipper_length_mm  body_mass_g  \\\n",
       "count      342.000000     342.000000         342.000000   342.000000   \n",
       "mean        43.921930      17.151170         200.915205  4201.754386   \n",
       "std          5.459584       1.974793          14.061714   801.954536   \n",
       "min         32.100000      13.100000         172.000000  2700.000000   \n",
       "25%         39.225000      15.600000         190.000000  3550.000000   \n",
       "50%         44.450000      17.300000         197.000000  4050.000000   \n",
       "75%         48.500000      18.700000         213.000000  4750.000000   \n",
       "max         59.600000      21.500000         231.000000  6300.000000   \n",
       "\n",
       "              year  \n",
       "count   344.000000  \n",
       "mean   2008.029070  \n",
       "std       0.818356  \n",
       "min    2007.000000  \n",
       "25%    2007.000000  \n",
       "50%    2008.000000  \n",
       "75%    2009.000000  \n",
       "max    2009.000000  "
      ]
     },
     "execution_count": 5,
     "metadata": {},
     "output_type": "execute_result"
    }
   ],
   "source": [
    "print(peng_pd.shape)\n",
    "print (peng_pd.columns)\n",
    "peng_pd.describe()"
   ]
  },
  {
   "attachments": {},
   "cell_type": "markdown",
   "metadata": {},
   "source": [
    "### polars"
   ]
  },
  {
   "cell_type": "code",
   "execution_count": 6,
   "metadata": {},
   "outputs": [
    {
     "name": "stdout",
     "output_type": "stream",
     "text": [
      "(344, 8)\n",
      "['species', 'island', 'bill_length_mm', 'bill_depth_mm', 'flipper_length_mm', 'body_mass_g', 'sex', 'year']\n"
     ]
    },
    {
     "data": {
      "text/html": [
       "<div><style>\n",
       ".dataframe > thead > tr > th,\n",
       ".dataframe > tbody > tr > td {\n",
       "  text-align: right;\n",
       "}\n",
       "</style>\n",
       "<small>shape: (7, 9)</small><table border=\"1\" class=\"dataframe\"><thead><tr><th>describe</th><th>species</th><th>island</th><th>bill_length_mm</th><th>bill_depth_mm</th><th>flipper_length_mm</th><th>body_mass_g</th><th>sex</th><th>year</th></tr><tr><td>str</td><td>str</td><td>str</td><td>f64</td><td>f64</td><td>f64</td><td>f64</td><td>str</td><td>f64</td></tr></thead><tbody><tr><td>&quot;count&quot;</td><td>&quot;344&quot;</td><td>&quot;344&quot;</td><td>344.0</td><td>344.0</td><td>344.0</td><td>344.0</td><td>&quot;344&quot;</td><td>344.0</td></tr><tr><td>&quot;null_count&quot;</td><td>&quot;0&quot;</td><td>&quot;0&quot;</td><td>2.0</td><td>2.0</td><td>2.0</td><td>2.0</td><td>&quot;11&quot;</td><td>0.0</td></tr><tr><td>&quot;mean&quot;</td><td>null</td><td>null</td><td>43.92193</td><td>17.15117</td><td>200.915205</td><td>4201.754386</td><td>null</td><td>2008.02907</td></tr><tr><td>&quot;std&quot;</td><td>null</td><td>null</td><td>5.459584</td><td>1.974793</td><td>14.061714</td><td>801.954536</td><td>null</td><td>0.818356</td></tr><tr><td>&quot;min&quot;</td><td>&quot;Adelie&quot;</td><td>&quot;Biscoe&quot;</td><td>32.1</td><td>13.1</td><td>172.0</td><td>2700.0</td><td>&quot;female&quot;</td><td>2007.0</td></tr><tr><td>&quot;max&quot;</td><td>&quot;Gentoo&quot;</td><td>&quot;Torgersen&quot;</td><td>59.6</td><td>21.5</td><td>231.0</td><td>6300.0</td><td>&quot;male&quot;</td><td>2009.0</td></tr><tr><td>&quot;median&quot;</td><td>null</td><td>null</td><td>44.45</td><td>17.3</td><td>197.0</td><td>4050.0</td><td>null</td><td>2008.0</td></tr></tbody></table></div>"
      ],
      "text/plain": [
       "shape: (7, 9)\n",
       "┌────────────┬─────────┬───────────┬────────────┬───┬────────────┬───────────┬────────┬────────────┐\n",
       "│ describe   ┆ species ┆ island    ┆ bill_lengt ┆ … ┆ flipper_le ┆ body_mass ┆ sex    ┆ year       │\n",
       "│ ---        ┆ ---     ┆ ---       ┆ h_mm       ┆   ┆ ngth_mm    ┆ _g        ┆ ---    ┆ ---        │\n",
       "│ str        ┆ str     ┆ str       ┆ ---        ┆   ┆ ---        ┆ ---       ┆ str    ┆ f64        │\n",
       "│            ┆         ┆           ┆ f64        ┆   ┆ f64        ┆ f64       ┆        ┆            │\n",
       "╞════════════╪═════════╪═══════════╪════════════╪═══╪════════════╪═══════════╪════════╪════════════╡\n",
       "│ count      ┆ 344     ┆ 344       ┆ 344.0      ┆ … ┆ 344.0      ┆ 344.0     ┆ 344    ┆ 344.0      │\n",
       "│ null_count ┆ 0       ┆ 0         ┆ 2.0        ┆ … ┆ 2.0        ┆ 2.0       ┆ 11     ┆ 0.0        │\n",
       "│ mean       ┆ null    ┆ null      ┆ 43.92193   ┆ … ┆ 200.915205 ┆ 4201.7543 ┆ null   ┆ 2008.02907 │\n",
       "│            ┆         ┆           ┆            ┆   ┆            ┆ 86        ┆        ┆            │\n",
       "│ std        ┆ null    ┆ null      ┆ 5.459584   ┆ … ┆ 14.061714  ┆ 801.95453 ┆ null   ┆ 0.818356   │\n",
       "│            ┆         ┆           ┆            ┆   ┆            ┆ 6         ┆        ┆            │\n",
       "│ min        ┆ Adelie  ┆ Biscoe    ┆ 32.1       ┆ … ┆ 172.0      ┆ 2700.0    ┆ female ┆ 2007.0     │\n",
       "│ max        ┆ Gentoo  ┆ Torgersen ┆ 59.6       ┆ … ┆ 231.0      ┆ 6300.0    ┆ male   ┆ 2009.0     │\n",
       "│ median     ┆ null    ┆ null      ┆ 44.45      ┆ … ┆ 197.0      ┆ 4050.0    ┆ null   ┆ 2008.0     │\n",
       "└────────────┴─────────┴───────────┴────────────┴───┴────────────┴───────────┴────────┴────────────┘"
      ]
     },
     "execution_count": 6,
     "metadata": {},
     "output_type": "execute_result"
    }
   ],
   "source": [
    "print(peng_pl.shape)\n",
    "print(peng_pl.columns)\n",
    "peng_pl.describe()"
   ]
  },
  {
   "attachments": {},
   "cell_type": "markdown",
   "metadata": {},
   "source": [
    "## Select a column "
   ]
  },
  {
   "attachments": {},
   "cell_type": "markdown",
   "metadata": {},
   "source": [
    "### pandas\n",
    "\n",
    "Selecting a column returns a `pandas.Series`"
   ]
  },
  {
   "cell_type": "code",
   "execution_count": 7,
   "metadata": {},
   "outputs": [
    {
     "data": {
      "text/plain": [
       "0         Adelie\n",
       "1         Adelie\n",
       "2         Adelie\n",
       "3         Adelie\n",
       "4         Adelie\n",
       "         ...    \n",
       "339    Chinstrap\n",
       "340    Chinstrap\n",
       "341    Chinstrap\n",
       "342    Chinstrap\n",
       "343    Chinstrap\n",
       "Name: species, Length: 344, dtype: object"
      ]
     },
     "execution_count": 7,
     "metadata": {},
     "output_type": "execute_result"
    }
   ],
   "source": [
    "# select a series\n",
    "peng_pd['species']"
   ]
  },
  {
   "attachments": {},
   "cell_type": "markdown",
   "metadata": {},
   "source": [
    "### polars\n",
    "\n",
    "You can select with indexing, but expressions are the preferred way, because this allows lazy evaluation."
   ]
  },
  {
   "cell_type": "code",
   "execution_count": 8,
   "metadata": {},
   "outputs": [
    {
     "data": {
      "text/html": [
       "<div><style>\n",
       ".dataframe > thead > tr > th,\n",
       ".dataframe > tbody > tr > td {\n",
       "  text-align: right;\n",
       "}\n",
       "</style>\n",
       "<small>shape: (344, 1)</small><table border=\"1\" class=\"dataframe\"><thead><tr><th>species</th></tr><tr><td>str</td></tr></thead><tbody><tr><td>&quot;Adelie&quot;</td></tr><tr><td>&quot;Adelie&quot;</td></tr><tr><td>&quot;Adelie&quot;</td></tr><tr><td>&quot;Adelie&quot;</td></tr><tr><td>&quot;Adelie&quot;</td></tr><tr><td>&quot;Adelie&quot;</td></tr><tr><td>&quot;Adelie&quot;</td></tr><tr><td>&quot;Adelie&quot;</td></tr><tr><td>&quot;Adelie&quot;</td></tr><tr><td>&quot;Adelie&quot;</td></tr><tr><td>&quot;Adelie&quot;</td></tr><tr><td>&quot;Adelie&quot;</td></tr><tr><td>&hellip;</td></tr><tr><td>&quot;Chinstrap&quot;</td></tr><tr><td>&quot;Chinstrap&quot;</td></tr><tr><td>&quot;Chinstrap&quot;</td></tr><tr><td>&quot;Chinstrap&quot;</td></tr><tr><td>&quot;Chinstrap&quot;</td></tr><tr><td>&quot;Chinstrap&quot;</td></tr><tr><td>&quot;Chinstrap&quot;</td></tr><tr><td>&quot;Chinstrap&quot;</td></tr><tr><td>&quot;Chinstrap&quot;</td></tr><tr><td>&quot;Chinstrap&quot;</td></tr><tr><td>&quot;Chinstrap&quot;</td></tr><tr><td>&quot;Chinstrap&quot;</td></tr></tbody></table></div>"
      ],
      "text/plain": [
       "shape: (344, 1)\n",
       "┌───────────┐\n",
       "│ species   │\n",
       "│ ---       │\n",
       "│ str       │\n",
       "╞═══════════╡\n",
       "│ Adelie    │\n",
       "│ Adelie    │\n",
       "│ Adelie    │\n",
       "│ Adelie    │\n",
       "│ …         │\n",
       "│ Chinstrap │\n",
       "│ Chinstrap │\n",
       "│ Chinstrap │\n",
       "│ Chinstrap │\n",
       "└───────────┘"
      ]
     },
     "execution_count": 8,
     "metadata": {},
     "output_type": "execute_result"
    }
   ],
   "source": [
    "peng_pl.select('species')"
   ]
  },
  {
   "attachments": {},
   "cell_type": "markdown",
   "metadata": {},
   "source": [
    "## Select a subset \n",
    "\n",
    "That is, rows and columns.\n",
    "\n",
    "### pandas"
   ]
  },
  {
   "cell_type": "code",
   "execution_count": 9,
   "metadata": {},
   "outputs": [
    {
     "data": {
      "text/html": [
       "<div>\n",
       "<style scoped>\n",
       "    .dataframe tbody tr th:only-of-type {\n",
       "        vertical-align: middle;\n",
       "    }\n",
       "\n",
       "    .dataframe tbody tr th {\n",
       "        vertical-align: top;\n",
       "    }\n",
       "\n",
       "    .dataframe thead th {\n",
       "        text-align: right;\n",
       "    }\n",
       "</style>\n",
       "<table border=\"1\" class=\"dataframe\">\n",
       "  <thead>\n",
       "    <tr style=\"text-align: right;\">\n",
       "      <th></th>\n",
       "      <th>species</th>\n",
       "      <th>island</th>\n",
       "      <th>body_mass_g</th>\n",
       "    </tr>\n",
       "  </thead>\n",
       "  <tbody>\n",
       "    <tr>\n",
       "      <th>0</th>\n",
       "      <td>Chinstrap</td>\n",
       "      <td>Dream</td>\n",
       "      <td>3500.0</td>\n",
       "    </tr>\n",
       "    <tr>\n",
       "      <th>1</th>\n",
       "      <td>Chinstrap</td>\n",
       "      <td>Dream</td>\n",
       "      <td>3900.0</td>\n",
       "    </tr>\n",
       "    <tr>\n",
       "      <th>2</th>\n",
       "      <td>Chinstrap</td>\n",
       "      <td>Dream</td>\n",
       "      <td>3650.0</td>\n",
       "    </tr>\n",
       "    <tr>\n",
       "      <th>3</th>\n",
       "      <td>Chinstrap</td>\n",
       "      <td>Dream</td>\n",
       "      <td>3525.0</td>\n",
       "    </tr>\n",
       "    <tr>\n",
       "      <th>4</th>\n",
       "      <td>Chinstrap</td>\n",
       "      <td>Dream</td>\n",
       "      <td>3725.0</td>\n",
       "    </tr>\n",
       "    <tr>\n",
       "      <th>...</th>\n",
       "      <td>...</td>\n",
       "      <td>...</td>\n",
       "      <td>...</td>\n",
       "    </tr>\n",
       "    <tr>\n",
       "      <th>63</th>\n",
       "      <td>Chinstrap</td>\n",
       "      <td>Dream</td>\n",
       "      <td>4000.0</td>\n",
       "    </tr>\n",
       "    <tr>\n",
       "      <th>64</th>\n",
       "      <td>Chinstrap</td>\n",
       "      <td>Dream</td>\n",
       "      <td>3400.0</td>\n",
       "    </tr>\n",
       "    <tr>\n",
       "      <th>65</th>\n",
       "      <td>Chinstrap</td>\n",
       "      <td>Dream</td>\n",
       "      <td>3775.0</td>\n",
       "    </tr>\n",
       "    <tr>\n",
       "      <th>66</th>\n",
       "      <td>Chinstrap</td>\n",
       "      <td>Dream</td>\n",
       "      <td>4100.0</td>\n",
       "    </tr>\n",
       "    <tr>\n",
       "      <th>67</th>\n",
       "      <td>Chinstrap</td>\n",
       "      <td>Dream</td>\n",
       "      <td>3775.0</td>\n",
       "    </tr>\n",
       "  </tbody>\n",
       "</table>\n",
       "<p>68 rows × 3 columns</p>\n",
       "</div>"
      ],
      "text/plain": [
       "      species island  body_mass_g\n",
       "0   Chinstrap  Dream       3500.0\n",
       "1   Chinstrap  Dream       3900.0\n",
       "2   Chinstrap  Dream       3650.0\n",
       "3   Chinstrap  Dream       3525.0\n",
       "4   Chinstrap  Dream       3725.0\n",
       "..        ...    ...          ...\n",
       "63  Chinstrap  Dream       4000.0\n",
       "64  Chinstrap  Dream       3400.0\n",
       "65  Chinstrap  Dream       3775.0\n",
       "66  Chinstrap  Dream       4100.0\n",
       "67  Chinstrap  Dream       3775.0\n",
       "\n",
       "[68 rows x 3 columns]"
      ]
     },
     "execution_count": 9,
     "metadata": {},
     "output_type": "execute_result"
    }
   ],
   "source": [
    "# select a subset\n",
    "peng_pd.loc[peng_pd['species']=='Chinstrap', ['species', 'island','body_mass_g']].reset_index(drop=True, inplace=False)"
   ]
  },
  {
   "attachments": {},
   "cell_type": "markdown",
   "metadata": {},
   "source": [
    "### polars"
   ]
  },
  {
   "cell_type": "code",
   "execution_count": 10,
   "metadata": {},
   "outputs": [
    {
     "data": {
      "text/html": [
       "<div><style>\n",
       ".dataframe > thead > tr > th,\n",
       ".dataframe > tbody > tr > td {\n",
       "  text-align: right;\n",
       "}\n",
       "</style>\n",
       "<small>shape: (68, 3)</small><table border=\"1\" class=\"dataframe\"><thead><tr><th>species</th><th>island</th><th>body_mass_g</th></tr><tr><td>str</td><td>str</td><td>f64</td></tr></thead><tbody><tr><td>&quot;Chinstrap&quot;</td><td>&quot;Dream&quot;</td><td>3500.0</td></tr><tr><td>&quot;Chinstrap&quot;</td><td>&quot;Dream&quot;</td><td>3900.0</td></tr><tr><td>&quot;Chinstrap&quot;</td><td>&quot;Dream&quot;</td><td>3650.0</td></tr><tr><td>&quot;Chinstrap&quot;</td><td>&quot;Dream&quot;</td><td>3525.0</td></tr><tr><td>&quot;Chinstrap&quot;</td><td>&quot;Dream&quot;</td><td>3725.0</td></tr><tr><td>&quot;Chinstrap&quot;</td><td>&quot;Dream&quot;</td><td>3950.0</td></tr><tr><td>&quot;Chinstrap&quot;</td><td>&quot;Dream&quot;</td><td>3250.0</td></tr><tr><td>&quot;Chinstrap&quot;</td><td>&quot;Dream&quot;</td><td>3750.0</td></tr><tr><td>&quot;Chinstrap&quot;</td><td>&quot;Dream&quot;</td><td>4150.0</td></tr><tr><td>&quot;Chinstrap&quot;</td><td>&quot;Dream&quot;</td><td>3700.0</td></tr><tr><td>&quot;Chinstrap&quot;</td><td>&quot;Dream&quot;</td><td>3800.0</td></tr><tr><td>&quot;Chinstrap&quot;</td><td>&quot;Dream&quot;</td><td>3775.0</td></tr><tr><td>&hellip;</td><td>&hellip;</td><td>&hellip;</td></tr><tr><td>&quot;Chinstrap&quot;</td><td>&quot;Dream&quot;</td><td>3250.0</td></tr><tr><td>&quot;Chinstrap&quot;</td><td>&quot;Dream&quot;</td><td>4050.0</td></tr><tr><td>&quot;Chinstrap&quot;</td><td>&quot;Dream&quot;</td><td>3800.0</td></tr><tr><td>&quot;Chinstrap&quot;</td><td>&quot;Dream&quot;</td><td>3525.0</td></tr><tr><td>&quot;Chinstrap&quot;</td><td>&quot;Dream&quot;</td><td>3950.0</td></tr><tr><td>&quot;Chinstrap&quot;</td><td>&quot;Dream&quot;</td><td>3650.0</td></tr><tr><td>&quot;Chinstrap&quot;</td><td>&quot;Dream&quot;</td><td>3650.0</td></tr><tr><td>&quot;Chinstrap&quot;</td><td>&quot;Dream&quot;</td><td>4000.0</td></tr><tr><td>&quot;Chinstrap&quot;</td><td>&quot;Dream&quot;</td><td>3400.0</td></tr><tr><td>&quot;Chinstrap&quot;</td><td>&quot;Dream&quot;</td><td>3775.0</td></tr><tr><td>&quot;Chinstrap&quot;</td><td>&quot;Dream&quot;</td><td>4100.0</td></tr><tr><td>&quot;Chinstrap&quot;</td><td>&quot;Dream&quot;</td><td>3775.0</td></tr></tbody></table></div>"
      ],
      "text/plain": [
       "shape: (68, 3)\n",
       "┌───────────┬────────┬─────────────┐\n",
       "│ species   ┆ island ┆ body_mass_g │\n",
       "│ ---       ┆ ---    ┆ ---         │\n",
       "│ str       ┆ str    ┆ f64         │\n",
       "╞═══════════╪════════╪═════════════╡\n",
       "│ Chinstrap ┆ Dream  ┆ 3500.0      │\n",
       "│ Chinstrap ┆ Dream  ┆ 3900.0      │\n",
       "│ Chinstrap ┆ Dream  ┆ 3650.0      │\n",
       "│ Chinstrap ┆ Dream  ┆ 3525.0      │\n",
       "│ …         ┆ …      ┆ …           │\n",
       "│ Chinstrap ┆ Dream  ┆ 3400.0      │\n",
       "│ Chinstrap ┆ Dream  ┆ 3775.0      │\n",
       "│ Chinstrap ┆ Dream  ┆ 4100.0      │\n",
       "│ Chinstrap ┆ Dream  ┆ 3775.0      │\n",
       "└───────────┴────────┴─────────────┘"
      ]
     },
     "execution_count": 10,
     "metadata": {},
     "output_type": "execute_result"
    }
   ],
   "source": [
    "peng_pl.filter(pl.col('species')=='Chinstrap').select(['species', 'island','body_mass_g'])"
   ]
  },
  {
   "attachments": {},
   "cell_type": "markdown",
   "metadata": {},
   "source": [
    "## Columns as functions of other columns \n",
    "\n",
    "Multiply two columns together and put the result back in the frame.\n",
    "\n",
    "### pandas"
   ]
  },
  {
   "cell_type": "code",
   "execution_count": 11,
   "metadata": {},
   "outputs": [
    {
     "data": {
      "text/html": [
       "<div>\n",
       "<style scoped>\n",
       "    .dataframe tbody tr th:only-of-type {\n",
       "        vertical-align: middle;\n",
       "    }\n",
       "\n",
       "    .dataframe tbody tr th {\n",
       "        vertical-align: top;\n",
       "    }\n",
       "\n",
       "    .dataframe thead th {\n",
       "        text-align: right;\n",
       "    }\n",
       "</style>\n",
       "<table border=\"1\" class=\"dataframe\">\n",
       "  <thead>\n",
       "    <tr style=\"text-align: right;\">\n",
       "      <th></th>\n",
       "      <th>species</th>\n",
       "      <th>island</th>\n",
       "      <th>bill_length_mm</th>\n",
       "      <th>bill_depth_mm</th>\n",
       "      <th>flipper_length_mm</th>\n",
       "      <th>body_mass_g</th>\n",
       "      <th>sex</th>\n",
       "      <th>year</th>\n",
       "      <th>bill_volume</th>\n",
       "    </tr>\n",
       "  </thead>\n",
       "  <tbody>\n",
       "    <tr>\n",
       "      <th>0</th>\n",
       "      <td>Adelie</td>\n",
       "      <td>Torgersen</td>\n",
       "      <td>39.1</td>\n",
       "      <td>18.7</td>\n",
       "      <td>181.0</td>\n",
       "      <td>3750.0</td>\n",
       "      <td>male</td>\n",
       "      <td>2007</td>\n",
       "      <td>731.17</td>\n",
       "    </tr>\n",
       "    <tr>\n",
       "      <th>1</th>\n",
       "      <td>Adelie</td>\n",
       "      <td>Torgersen</td>\n",
       "      <td>39.5</td>\n",
       "      <td>17.4</td>\n",
       "      <td>186.0</td>\n",
       "      <td>3800.0</td>\n",
       "      <td>female</td>\n",
       "      <td>2007</td>\n",
       "      <td>687.30</td>\n",
       "    </tr>\n",
       "    <tr>\n",
       "      <th>2</th>\n",
       "      <td>Adelie</td>\n",
       "      <td>Torgersen</td>\n",
       "      <td>40.3</td>\n",
       "      <td>18.0</td>\n",
       "      <td>195.0</td>\n",
       "      <td>3250.0</td>\n",
       "      <td>female</td>\n",
       "      <td>2007</td>\n",
       "      <td>725.40</td>\n",
       "    </tr>\n",
       "    <tr>\n",
       "      <th>3</th>\n",
       "      <td>Adelie</td>\n",
       "      <td>Torgersen</td>\n",
       "      <td>NaN</td>\n",
       "      <td>NaN</td>\n",
       "      <td>NaN</td>\n",
       "      <td>NaN</td>\n",
       "      <td>NaN</td>\n",
       "      <td>2007</td>\n",
       "      <td>NaN</td>\n",
       "    </tr>\n",
       "    <tr>\n",
       "      <th>4</th>\n",
       "      <td>Adelie</td>\n",
       "      <td>Torgersen</td>\n",
       "      <td>36.7</td>\n",
       "      <td>19.3</td>\n",
       "      <td>193.0</td>\n",
       "      <td>3450.0</td>\n",
       "      <td>female</td>\n",
       "      <td>2007</td>\n",
       "      <td>708.31</td>\n",
       "    </tr>\n",
       "    <tr>\n",
       "      <th>...</th>\n",
       "      <td>...</td>\n",
       "      <td>...</td>\n",
       "      <td>...</td>\n",
       "      <td>...</td>\n",
       "      <td>...</td>\n",
       "      <td>...</td>\n",
       "      <td>...</td>\n",
       "      <td>...</td>\n",
       "      <td>...</td>\n",
       "    </tr>\n",
       "    <tr>\n",
       "      <th>339</th>\n",
       "      <td>Chinstrap</td>\n",
       "      <td>Dream</td>\n",
       "      <td>55.8</td>\n",
       "      <td>19.8</td>\n",
       "      <td>207.0</td>\n",
       "      <td>4000.0</td>\n",
       "      <td>male</td>\n",
       "      <td>2009</td>\n",
       "      <td>1104.84</td>\n",
       "    </tr>\n",
       "    <tr>\n",
       "      <th>340</th>\n",
       "      <td>Chinstrap</td>\n",
       "      <td>Dream</td>\n",
       "      <td>43.5</td>\n",
       "      <td>18.1</td>\n",
       "      <td>202.0</td>\n",
       "      <td>3400.0</td>\n",
       "      <td>female</td>\n",
       "      <td>2009</td>\n",
       "      <td>787.35</td>\n",
       "    </tr>\n",
       "    <tr>\n",
       "      <th>341</th>\n",
       "      <td>Chinstrap</td>\n",
       "      <td>Dream</td>\n",
       "      <td>49.6</td>\n",
       "      <td>18.2</td>\n",
       "      <td>193.0</td>\n",
       "      <td>3775.0</td>\n",
       "      <td>male</td>\n",
       "      <td>2009</td>\n",
       "      <td>902.72</td>\n",
       "    </tr>\n",
       "    <tr>\n",
       "      <th>342</th>\n",
       "      <td>Chinstrap</td>\n",
       "      <td>Dream</td>\n",
       "      <td>50.8</td>\n",
       "      <td>19.0</td>\n",
       "      <td>210.0</td>\n",
       "      <td>4100.0</td>\n",
       "      <td>male</td>\n",
       "      <td>2009</td>\n",
       "      <td>965.20</td>\n",
       "    </tr>\n",
       "    <tr>\n",
       "      <th>343</th>\n",
       "      <td>Chinstrap</td>\n",
       "      <td>Dream</td>\n",
       "      <td>50.2</td>\n",
       "      <td>18.7</td>\n",
       "      <td>198.0</td>\n",
       "      <td>3775.0</td>\n",
       "      <td>female</td>\n",
       "      <td>2009</td>\n",
       "      <td>938.74</td>\n",
       "    </tr>\n",
       "  </tbody>\n",
       "</table>\n",
       "<p>344 rows × 9 columns</p>\n",
       "</div>"
      ],
      "text/plain": [
       "       species     island  bill_length_mm  bill_depth_mm  flipper_length_mm  \\\n",
       "0       Adelie  Torgersen            39.1           18.7              181.0   \n",
       "1       Adelie  Torgersen            39.5           17.4              186.0   \n",
       "2       Adelie  Torgersen            40.3           18.0              195.0   \n",
       "3       Adelie  Torgersen             NaN            NaN                NaN   \n",
       "4       Adelie  Torgersen            36.7           19.3              193.0   \n",
       "..         ...        ...             ...            ...                ...   \n",
       "339  Chinstrap      Dream            55.8           19.8              207.0   \n",
       "340  Chinstrap      Dream            43.5           18.1              202.0   \n",
       "341  Chinstrap      Dream            49.6           18.2              193.0   \n",
       "342  Chinstrap      Dream            50.8           19.0              210.0   \n",
       "343  Chinstrap      Dream            50.2           18.7              198.0   \n",
       "\n",
       "     body_mass_g     sex  year  bill_volume  \n",
       "0         3750.0    male  2007       731.17  \n",
       "1         3800.0  female  2007       687.30  \n",
       "2         3250.0  female  2007       725.40  \n",
       "3            NaN     NaN  2007          NaN  \n",
       "4         3450.0  female  2007       708.31  \n",
       "..           ...     ...   ...          ...  \n",
       "339       4000.0    male  2009      1104.84  \n",
       "340       3400.0  female  2009       787.35  \n",
       "341       3775.0    male  2009       902.72  \n",
       "342       4100.0    male  2009       965.20  \n",
       "343       3775.0  female  2009       938.74  \n",
       "\n",
       "[344 rows x 9 columns]"
      ]
     },
     "execution_count": 11,
     "metadata": {},
     "output_type": "execute_result"
    }
   ],
   "source": [
    "\n",
    "peng_pd['bill_volume'] = peng_pd['bill_length_mm']*peng_pd['bill_depth_mm']\n",
    "peng_pd"
   ]
  },
  {
   "attachments": {},
   "cell_type": "markdown",
   "metadata": {},
   "source": [
    "### polars"
   ]
  },
  {
   "cell_type": "code",
   "execution_count": 12,
   "metadata": {},
   "outputs": [
    {
     "data": {
      "text/html": [
       "<div><style>\n",
       ".dataframe > thead > tr > th,\n",
       ".dataframe > tbody > tr > td {\n",
       "  text-align: right;\n",
       "}\n",
       "</style>\n",
       "<small>shape: (344, 9)</small><table border=\"1\" class=\"dataframe\"><thead><tr><th>species</th><th>island</th><th>bill_length_mm</th><th>bill_depth_mm</th><th>flipper_length_mm</th><th>body_mass_g</th><th>sex</th><th>year</th><th>biil_volume</th></tr><tr><td>str</td><td>str</td><td>f64</td><td>f64</td><td>f64</td><td>f64</td><td>str</td><td>i64</td><td>f64</td></tr></thead><tbody><tr><td>&quot;Adelie&quot;</td><td>&quot;Torgersen&quot;</td><td>39.1</td><td>18.7</td><td>181.0</td><td>3750.0</td><td>&quot;male&quot;</td><td>2007</td><td>731.17</td></tr><tr><td>&quot;Adelie&quot;</td><td>&quot;Torgersen&quot;</td><td>39.5</td><td>17.4</td><td>186.0</td><td>3800.0</td><td>&quot;female&quot;</td><td>2007</td><td>687.3</td></tr><tr><td>&quot;Adelie&quot;</td><td>&quot;Torgersen&quot;</td><td>40.3</td><td>18.0</td><td>195.0</td><td>3250.0</td><td>&quot;female&quot;</td><td>2007</td><td>725.4</td></tr><tr><td>&quot;Adelie&quot;</td><td>&quot;Torgersen&quot;</td><td>null</td><td>null</td><td>null</td><td>null</td><td>null</td><td>2007</td><td>null</td></tr><tr><td>&quot;Adelie&quot;</td><td>&quot;Torgersen&quot;</td><td>36.7</td><td>19.3</td><td>193.0</td><td>3450.0</td><td>&quot;female&quot;</td><td>2007</td><td>708.31</td></tr><tr><td>&quot;Adelie&quot;</td><td>&quot;Torgersen&quot;</td><td>39.3</td><td>20.6</td><td>190.0</td><td>3650.0</td><td>&quot;male&quot;</td><td>2007</td><td>809.58</td></tr><tr><td>&quot;Adelie&quot;</td><td>&quot;Torgersen&quot;</td><td>38.9</td><td>17.8</td><td>181.0</td><td>3625.0</td><td>&quot;female&quot;</td><td>2007</td><td>692.42</td></tr><tr><td>&quot;Adelie&quot;</td><td>&quot;Torgersen&quot;</td><td>39.2</td><td>19.6</td><td>195.0</td><td>4675.0</td><td>&quot;male&quot;</td><td>2007</td><td>768.32</td></tr><tr><td>&quot;Adelie&quot;</td><td>&quot;Torgersen&quot;</td><td>34.1</td><td>18.1</td><td>193.0</td><td>3475.0</td><td>null</td><td>2007</td><td>617.21</td></tr><tr><td>&quot;Adelie&quot;</td><td>&quot;Torgersen&quot;</td><td>42.0</td><td>20.2</td><td>190.0</td><td>4250.0</td><td>null</td><td>2007</td><td>848.4</td></tr><tr><td>&quot;Adelie&quot;</td><td>&quot;Torgersen&quot;</td><td>37.8</td><td>17.1</td><td>186.0</td><td>3300.0</td><td>null</td><td>2007</td><td>646.38</td></tr><tr><td>&quot;Adelie&quot;</td><td>&quot;Torgersen&quot;</td><td>37.8</td><td>17.3</td><td>180.0</td><td>3700.0</td><td>null</td><td>2007</td><td>653.94</td></tr><tr><td>&hellip;</td><td>&hellip;</td><td>&hellip;</td><td>&hellip;</td><td>&hellip;</td><td>&hellip;</td><td>&hellip;</td><td>&hellip;</td><td>&hellip;</td></tr><tr><td>&quot;Chinstrap&quot;</td><td>&quot;Dream&quot;</td><td>45.2</td><td>16.6</td><td>191.0</td><td>3250.0</td><td>&quot;female&quot;</td><td>2009</td><td>750.32</td></tr><tr><td>&quot;Chinstrap&quot;</td><td>&quot;Dream&quot;</td><td>49.3</td><td>19.9</td><td>203.0</td><td>4050.0</td><td>&quot;male&quot;</td><td>2009</td><td>981.07</td></tr><tr><td>&quot;Chinstrap&quot;</td><td>&quot;Dream&quot;</td><td>50.2</td><td>18.8</td><td>202.0</td><td>3800.0</td><td>&quot;male&quot;</td><td>2009</td><td>943.76</td></tr><tr><td>&quot;Chinstrap&quot;</td><td>&quot;Dream&quot;</td><td>45.6</td><td>19.4</td><td>194.0</td><td>3525.0</td><td>&quot;female&quot;</td><td>2009</td><td>884.64</td></tr><tr><td>&quot;Chinstrap&quot;</td><td>&quot;Dream&quot;</td><td>51.9</td><td>19.5</td><td>206.0</td><td>3950.0</td><td>&quot;male&quot;</td><td>2009</td><td>1012.05</td></tr><tr><td>&quot;Chinstrap&quot;</td><td>&quot;Dream&quot;</td><td>46.8</td><td>16.5</td><td>189.0</td><td>3650.0</td><td>&quot;female&quot;</td><td>2009</td><td>772.2</td></tr><tr><td>&quot;Chinstrap&quot;</td><td>&quot;Dream&quot;</td><td>45.7</td><td>17.0</td><td>195.0</td><td>3650.0</td><td>&quot;female&quot;</td><td>2009</td><td>776.9</td></tr><tr><td>&quot;Chinstrap&quot;</td><td>&quot;Dream&quot;</td><td>55.8</td><td>19.8</td><td>207.0</td><td>4000.0</td><td>&quot;male&quot;</td><td>2009</td><td>1104.84</td></tr><tr><td>&quot;Chinstrap&quot;</td><td>&quot;Dream&quot;</td><td>43.5</td><td>18.1</td><td>202.0</td><td>3400.0</td><td>&quot;female&quot;</td><td>2009</td><td>787.35</td></tr><tr><td>&quot;Chinstrap&quot;</td><td>&quot;Dream&quot;</td><td>49.6</td><td>18.2</td><td>193.0</td><td>3775.0</td><td>&quot;male&quot;</td><td>2009</td><td>902.72</td></tr><tr><td>&quot;Chinstrap&quot;</td><td>&quot;Dream&quot;</td><td>50.8</td><td>19.0</td><td>210.0</td><td>4100.0</td><td>&quot;male&quot;</td><td>2009</td><td>965.2</td></tr><tr><td>&quot;Chinstrap&quot;</td><td>&quot;Dream&quot;</td><td>50.2</td><td>18.7</td><td>198.0</td><td>3775.0</td><td>&quot;female&quot;</td><td>2009</td><td>938.74</td></tr></tbody></table></div>"
      ],
      "text/plain": [
       "shape: (344, 9)\n",
       "┌───────────┬───────────┬────────────┬────────────┬───┬──────────────┬────────┬──────┬─────────────┐\n",
       "│ species   ┆ island    ┆ bill_lengt ┆ bill_depth ┆ … ┆ body_mass_g  ┆ sex    ┆ year ┆ biil_volume │\n",
       "│ ---       ┆ ---       ┆ h_mm       ┆ _mm        ┆   ┆ ---          ┆ ---    ┆ ---  ┆ ---         │\n",
       "│ str       ┆ str       ┆ ---        ┆ ---        ┆   ┆ f64          ┆ str    ┆ i64  ┆ f64         │\n",
       "│           ┆           ┆ f64        ┆ f64        ┆   ┆              ┆        ┆      ┆             │\n",
       "╞═══════════╪═══════════╪════════════╪════════════╪═══╪══════════════╪════════╪══════╪═════════════╡\n",
       "│ Adelie    ┆ Torgersen ┆ 39.1       ┆ 18.7       ┆ … ┆ 3750.0       ┆ male   ┆ 2007 ┆ 731.17      │\n",
       "│ Adelie    ┆ Torgersen ┆ 39.5       ┆ 17.4       ┆ … ┆ 3800.0       ┆ female ┆ 2007 ┆ 687.3       │\n",
       "│ Adelie    ┆ Torgersen ┆ 40.3       ┆ 18.0       ┆ … ┆ 3250.0       ┆ female ┆ 2007 ┆ 725.4       │\n",
       "│ Adelie    ┆ Torgersen ┆ null       ┆ null       ┆ … ┆ null         ┆ null   ┆ 2007 ┆ null        │\n",
       "│ …         ┆ …         ┆ …          ┆ …          ┆ … ┆ …            ┆ …      ┆ …    ┆ …           │\n",
       "│ Chinstrap ┆ Dream     ┆ 43.5       ┆ 18.1       ┆ … ┆ 3400.0       ┆ female ┆ 2009 ┆ 787.35      │\n",
       "│ Chinstrap ┆ Dream     ┆ 49.6       ┆ 18.2       ┆ … ┆ 3775.0       ┆ male   ┆ 2009 ┆ 902.72      │\n",
       "│ Chinstrap ┆ Dream     ┆ 50.8       ┆ 19.0       ┆ … ┆ 4100.0       ┆ male   ┆ 2009 ┆ 965.2       │\n",
       "│ Chinstrap ┆ Dream     ┆ 50.2       ┆ 18.7       ┆ … ┆ 3775.0       ┆ female ┆ 2009 ┆ 938.74      │\n",
       "└───────────┴───────────┴────────────┴────────────┴───┴──────────────┴────────┴──────┴─────────────┘"
      ]
     },
     "execution_count": 12,
     "metadata": {},
     "output_type": "execute_result"
    }
   ],
   "source": [
    "peng_pl = peng_pl.with_columns([\n",
    "    (pl.col('bill_length_mm') * pl.col('bill_depth_mm')).alias('biil_volume')\n",
    "])\n",
    "\n",
    "peng_pl"
   ]
  },
  {
   "attachments": {},
   "cell_type": "markdown",
   "metadata": {},
   "source": [
    "## Add a literal (constant) column \n",
    "\n",
    "### pandas"
   ]
  },
  {
   "cell_type": "code",
   "execution_count": 13,
   "metadata": {},
   "outputs": [
    {
     "data": {
      "text/html": [
       "<div>\n",
       "<style scoped>\n",
       "    .dataframe tbody tr th:only-of-type {\n",
       "        vertical-align: middle;\n",
       "    }\n",
       "\n",
       "    .dataframe tbody tr th {\n",
       "        vertical-align: top;\n",
       "    }\n",
       "\n",
       "    .dataframe thead th {\n",
       "        text-align: right;\n",
       "    }\n",
       "</style>\n",
       "<table border=\"1\" class=\"dataframe\">\n",
       "  <thead>\n",
       "    <tr style=\"text-align: right;\">\n",
       "      <th></th>\n",
       "      <th>species</th>\n",
       "      <th>island</th>\n",
       "      <th>bill_length_mm</th>\n",
       "      <th>bill_depth_mm</th>\n",
       "      <th>flipper_length_mm</th>\n",
       "      <th>body_mass_g</th>\n",
       "      <th>sex</th>\n",
       "      <th>year</th>\n",
       "      <th>bill_volume</th>\n",
       "      <th>str_constant</th>\n",
       "    </tr>\n",
       "  </thead>\n",
       "  <tbody>\n",
       "    <tr>\n",
       "      <th>0</th>\n",
       "      <td>Adelie</td>\n",
       "      <td>Torgersen</td>\n",
       "      <td>39.1</td>\n",
       "      <td>18.7</td>\n",
       "      <td>181.0</td>\n",
       "      <td>3750.0</td>\n",
       "      <td>male</td>\n",
       "      <td>2007</td>\n",
       "      <td>731.17</td>\n",
       "      <td>howdy</td>\n",
       "    </tr>\n",
       "    <tr>\n",
       "      <th>1</th>\n",
       "      <td>Adelie</td>\n",
       "      <td>Torgersen</td>\n",
       "      <td>39.5</td>\n",
       "      <td>17.4</td>\n",
       "      <td>186.0</td>\n",
       "      <td>3800.0</td>\n",
       "      <td>female</td>\n",
       "      <td>2007</td>\n",
       "      <td>687.30</td>\n",
       "      <td>howdy</td>\n",
       "    </tr>\n",
       "    <tr>\n",
       "      <th>2</th>\n",
       "      <td>Adelie</td>\n",
       "      <td>Torgersen</td>\n",
       "      <td>40.3</td>\n",
       "      <td>18.0</td>\n",
       "      <td>195.0</td>\n",
       "      <td>3250.0</td>\n",
       "      <td>female</td>\n",
       "      <td>2007</td>\n",
       "      <td>725.40</td>\n",
       "      <td>howdy</td>\n",
       "    </tr>\n",
       "    <tr>\n",
       "      <th>3</th>\n",
       "      <td>Adelie</td>\n",
       "      <td>Torgersen</td>\n",
       "      <td>NaN</td>\n",
       "      <td>NaN</td>\n",
       "      <td>NaN</td>\n",
       "      <td>NaN</td>\n",
       "      <td>NaN</td>\n",
       "      <td>2007</td>\n",
       "      <td>NaN</td>\n",
       "      <td>howdy</td>\n",
       "    </tr>\n",
       "    <tr>\n",
       "      <th>4</th>\n",
       "      <td>Adelie</td>\n",
       "      <td>Torgersen</td>\n",
       "      <td>36.7</td>\n",
       "      <td>19.3</td>\n",
       "      <td>193.0</td>\n",
       "      <td>3450.0</td>\n",
       "      <td>female</td>\n",
       "      <td>2007</td>\n",
       "      <td>708.31</td>\n",
       "      <td>howdy</td>\n",
       "    </tr>\n",
       "    <tr>\n",
       "      <th>...</th>\n",
       "      <td>...</td>\n",
       "      <td>...</td>\n",
       "      <td>...</td>\n",
       "      <td>...</td>\n",
       "      <td>...</td>\n",
       "      <td>...</td>\n",
       "      <td>...</td>\n",
       "      <td>...</td>\n",
       "      <td>...</td>\n",
       "      <td>...</td>\n",
       "    </tr>\n",
       "    <tr>\n",
       "      <th>339</th>\n",
       "      <td>Chinstrap</td>\n",
       "      <td>Dream</td>\n",
       "      <td>55.8</td>\n",
       "      <td>19.8</td>\n",
       "      <td>207.0</td>\n",
       "      <td>4000.0</td>\n",
       "      <td>male</td>\n",
       "      <td>2009</td>\n",
       "      <td>1104.84</td>\n",
       "      <td>howdy</td>\n",
       "    </tr>\n",
       "    <tr>\n",
       "      <th>340</th>\n",
       "      <td>Chinstrap</td>\n",
       "      <td>Dream</td>\n",
       "      <td>43.5</td>\n",
       "      <td>18.1</td>\n",
       "      <td>202.0</td>\n",
       "      <td>3400.0</td>\n",
       "      <td>female</td>\n",
       "      <td>2009</td>\n",
       "      <td>787.35</td>\n",
       "      <td>howdy</td>\n",
       "    </tr>\n",
       "    <tr>\n",
       "      <th>341</th>\n",
       "      <td>Chinstrap</td>\n",
       "      <td>Dream</td>\n",
       "      <td>49.6</td>\n",
       "      <td>18.2</td>\n",
       "      <td>193.0</td>\n",
       "      <td>3775.0</td>\n",
       "      <td>male</td>\n",
       "      <td>2009</td>\n",
       "      <td>902.72</td>\n",
       "      <td>howdy</td>\n",
       "    </tr>\n",
       "    <tr>\n",
       "      <th>342</th>\n",
       "      <td>Chinstrap</td>\n",
       "      <td>Dream</td>\n",
       "      <td>50.8</td>\n",
       "      <td>19.0</td>\n",
       "      <td>210.0</td>\n",
       "      <td>4100.0</td>\n",
       "      <td>male</td>\n",
       "      <td>2009</td>\n",
       "      <td>965.20</td>\n",
       "      <td>howdy</td>\n",
       "    </tr>\n",
       "    <tr>\n",
       "      <th>343</th>\n",
       "      <td>Chinstrap</td>\n",
       "      <td>Dream</td>\n",
       "      <td>50.2</td>\n",
       "      <td>18.7</td>\n",
       "      <td>198.0</td>\n",
       "      <td>3775.0</td>\n",
       "      <td>female</td>\n",
       "      <td>2009</td>\n",
       "      <td>938.74</td>\n",
       "      <td>howdy</td>\n",
       "    </tr>\n",
       "  </tbody>\n",
       "</table>\n",
       "<p>344 rows × 10 columns</p>\n",
       "</div>"
      ],
      "text/plain": [
       "       species     island  bill_length_mm  bill_depth_mm  flipper_length_mm  \\\n",
       "0       Adelie  Torgersen            39.1           18.7              181.0   \n",
       "1       Adelie  Torgersen            39.5           17.4              186.0   \n",
       "2       Adelie  Torgersen            40.3           18.0              195.0   \n",
       "3       Adelie  Torgersen             NaN            NaN                NaN   \n",
       "4       Adelie  Torgersen            36.7           19.3              193.0   \n",
       "..         ...        ...             ...            ...                ...   \n",
       "339  Chinstrap      Dream            55.8           19.8              207.0   \n",
       "340  Chinstrap      Dream            43.5           18.1              202.0   \n",
       "341  Chinstrap      Dream            49.6           18.2              193.0   \n",
       "342  Chinstrap      Dream            50.8           19.0              210.0   \n",
       "343  Chinstrap      Dream            50.2           18.7              198.0   \n",
       "\n",
       "     body_mass_g     sex  year  bill_volume str_constant  \n",
       "0         3750.0    male  2007       731.17        howdy  \n",
       "1         3800.0  female  2007       687.30        howdy  \n",
       "2         3250.0  female  2007       725.40        howdy  \n",
       "3            NaN     NaN  2007          NaN        howdy  \n",
       "4         3450.0  female  2007       708.31        howdy  \n",
       "..           ...     ...   ...          ...          ...  \n",
       "339       4000.0    male  2009      1104.84        howdy  \n",
       "340       3400.0  female  2009       787.35        howdy  \n",
       "341       3775.0    male  2009       902.72        howdy  \n",
       "342       4100.0    male  2009       965.20        howdy  \n",
       "343       3775.0  female  2009       938.74        howdy  \n",
       "\n",
       "[344 rows x 10 columns]"
      ]
     },
     "execution_count": 13,
     "metadata": {},
     "output_type": "execute_result"
    }
   ],
   "source": [
    "peng_pd['str_constant'] = \"howdy\"\n",
    "peng_pd"
   ]
  },
  {
   "attachments": {},
   "cell_type": "markdown",
   "metadata": {},
   "source": [
    "### polars"
   ]
  },
  {
   "cell_type": "code",
   "execution_count": 14,
   "metadata": {},
   "outputs": [
    {
     "data": {
      "text/html": [
       "<div><style>\n",
       ".dataframe > thead > tr > th,\n",
       ".dataframe > tbody > tr > td {\n",
       "  text-align: right;\n",
       "}\n",
       "</style>\n",
       "<small>shape: (344, 10)</small><table border=\"1\" class=\"dataframe\"><thead><tr><th>species</th><th>island</th><th>bill_length_mm</th><th>bill_depth_mm</th><th>flipper_length_mm</th><th>body_mass_g</th><th>sex</th><th>year</th><th>biil_volume</th><th>str_constant</th></tr><tr><td>str</td><td>str</td><td>f64</td><td>f64</td><td>f64</td><td>f64</td><td>str</td><td>i64</td><td>f64</td><td>str</td></tr></thead><tbody><tr><td>&quot;Adelie&quot;</td><td>&quot;Torgersen&quot;</td><td>39.1</td><td>18.7</td><td>181.0</td><td>3750.0</td><td>&quot;male&quot;</td><td>2007</td><td>731.17</td><td>&quot;howdy&quot;</td></tr><tr><td>&quot;Adelie&quot;</td><td>&quot;Torgersen&quot;</td><td>39.5</td><td>17.4</td><td>186.0</td><td>3800.0</td><td>&quot;female&quot;</td><td>2007</td><td>687.3</td><td>&quot;howdy&quot;</td></tr><tr><td>&quot;Adelie&quot;</td><td>&quot;Torgersen&quot;</td><td>40.3</td><td>18.0</td><td>195.0</td><td>3250.0</td><td>&quot;female&quot;</td><td>2007</td><td>725.4</td><td>&quot;howdy&quot;</td></tr><tr><td>&quot;Adelie&quot;</td><td>&quot;Torgersen&quot;</td><td>null</td><td>null</td><td>null</td><td>null</td><td>null</td><td>2007</td><td>null</td><td>&quot;howdy&quot;</td></tr><tr><td>&quot;Adelie&quot;</td><td>&quot;Torgersen&quot;</td><td>36.7</td><td>19.3</td><td>193.0</td><td>3450.0</td><td>&quot;female&quot;</td><td>2007</td><td>708.31</td><td>&quot;howdy&quot;</td></tr><tr><td>&quot;Adelie&quot;</td><td>&quot;Torgersen&quot;</td><td>39.3</td><td>20.6</td><td>190.0</td><td>3650.0</td><td>&quot;male&quot;</td><td>2007</td><td>809.58</td><td>&quot;howdy&quot;</td></tr><tr><td>&quot;Adelie&quot;</td><td>&quot;Torgersen&quot;</td><td>38.9</td><td>17.8</td><td>181.0</td><td>3625.0</td><td>&quot;female&quot;</td><td>2007</td><td>692.42</td><td>&quot;howdy&quot;</td></tr><tr><td>&quot;Adelie&quot;</td><td>&quot;Torgersen&quot;</td><td>39.2</td><td>19.6</td><td>195.0</td><td>4675.0</td><td>&quot;male&quot;</td><td>2007</td><td>768.32</td><td>&quot;howdy&quot;</td></tr><tr><td>&quot;Adelie&quot;</td><td>&quot;Torgersen&quot;</td><td>34.1</td><td>18.1</td><td>193.0</td><td>3475.0</td><td>null</td><td>2007</td><td>617.21</td><td>&quot;howdy&quot;</td></tr><tr><td>&quot;Adelie&quot;</td><td>&quot;Torgersen&quot;</td><td>42.0</td><td>20.2</td><td>190.0</td><td>4250.0</td><td>null</td><td>2007</td><td>848.4</td><td>&quot;howdy&quot;</td></tr><tr><td>&quot;Adelie&quot;</td><td>&quot;Torgersen&quot;</td><td>37.8</td><td>17.1</td><td>186.0</td><td>3300.0</td><td>null</td><td>2007</td><td>646.38</td><td>&quot;howdy&quot;</td></tr><tr><td>&quot;Adelie&quot;</td><td>&quot;Torgersen&quot;</td><td>37.8</td><td>17.3</td><td>180.0</td><td>3700.0</td><td>null</td><td>2007</td><td>653.94</td><td>&quot;howdy&quot;</td></tr><tr><td>&hellip;</td><td>&hellip;</td><td>&hellip;</td><td>&hellip;</td><td>&hellip;</td><td>&hellip;</td><td>&hellip;</td><td>&hellip;</td><td>&hellip;</td><td>&hellip;</td></tr><tr><td>&quot;Chinstrap&quot;</td><td>&quot;Dream&quot;</td><td>45.2</td><td>16.6</td><td>191.0</td><td>3250.0</td><td>&quot;female&quot;</td><td>2009</td><td>750.32</td><td>&quot;howdy&quot;</td></tr><tr><td>&quot;Chinstrap&quot;</td><td>&quot;Dream&quot;</td><td>49.3</td><td>19.9</td><td>203.0</td><td>4050.0</td><td>&quot;male&quot;</td><td>2009</td><td>981.07</td><td>&quot;howdy&quot;</td></tr><tr><td>&quot;Chinstrap&quot;</td><td>&quot;Dream&quot;</td><td>50.2</td><td>18.8</td><td>202.0</td><td>3800.0</td><td>&quot;male&quot;</td><td>2009</td><td>943.76</td><td>&quot;howdy&quot;</td></tr><tr><td>&quot;Chinstrap&quot;</td><td>&quot;Dream&quot;</td><td>45.6</td><td>19.4</td><td>194.0</td><td>3525.0</td><td>&quot;female&quot;</td><td>2009</td><td>884.64</td><td>&quot;howdy&quot;</td></tr><tr><td>&quot;Chinstrap&quot;</td><td>&quot;Dream&quot;</td><td>51.9</td><td>19.5</td><td>206.0</td><td>3950.0</td><td>&quot;male&quot;</td><td>2009</td><td>1012.05</td><td>&quot;howdy&quot;</td></tr><tr><td>&quot;Chinstrap&quot;</td><td>&quot;Dream&quot;</td><td>46.8</td><td>16.5</td><td>189.0</td><td>3650.0</td><td>&quot;female&quot;</td><td>2009</td><td>772.2</td><td>&quot;howdy&quot;</td></tr><tr><td>&quot;Chinstrap&quot;</td><td>&quot;Dream&quot;</td><td>45.7</td><td>17.0</td><td>195.0</td><td>3650.0</td><td>&quot;female&quot;</td><td>2009</td><td>776.9</td><td>&quot;howdy&quot;</td></tr><tr><td>&quot;Chinstrap&quot;</td><td>&quot;Dream&quot;</td><td>55.8</td><td>19.8</td><td>207.0</td><td>4000.0</td><td>&quot;male&quot;</td><td>2009</td><td>1104.84</td><td>&quot;howdy&quot;</td></tr><tr><td>&quot;Chinstrap&quot;</td><td>&quot;Dream&quot;</td><td>43.5</td><td>18.1</td><td>202.0</td><td>3400.0</td><td>&quot;female&quot;</td><td>2009</td><td>787.35</td><td>&quot;howdy&quot;</td></tr><tr><td>&quot;Chinstrap&quot;</td><td>&quot;Dream&quot;</td><td>49.6</td><td>18.2</td><td>193.0</td><td>3775.0</td><td>&quot;male&quot;</td><td>2009</td><td>902.72</td><td>&quot;howdy&quot;</td></tr><tr><td>&quot;Chinstrap&quot;</td><td>&quot;Dream&quot;</td><td>50.8</td><td>19.0</td><td>210.0</td><td>4100.0</td><td>&quot;male&quot;</td><td>2009</td><td>965.2</td><td>&quot;howdy&quot;</td></tr><tr><td>&quot;Chinstrap&quot;</td><td>&quot;Dream&quot;</td><td>50.2</td><td>18.7</td><td>198.0</td><td>3775.0</td><td>&quot;female&quot;</td><td>2009</td><td>938.74</td><td>&quot;howdy&quot;</td></tr></tbody></table></div>"
      ],
      "text/plain": [
       "shape: (344, 10)\n",
       "┌───────────┬───────────┬────────────┬────────────┬───┬────────┬──────┬───────────────┬────────────┐\n",
       "│ species   ┆ island    ┆ bill_lengt ┆ bill_depth ┆ … ┆ sex    ┆ year ┆ biil_volume   ┆ str_consta │\n",
       "│ ---       ┆ ---       ┆ h_mm       ┆ _mm        ┆   ┆ ---    ┆ ---  ┆ ---           ┆ nt         │\n",
       "│ str       ┆ str       ┆ ---        ┆ ---        ┆   ┆ str    ┆ i64  ┆ f64           ┆ ---        │\n",
       "│           ┆           ┆ f64        ┆ f64        ┆   ┆        ┆      ┆               ┆ str        │\n",
       "╞═══════════╪═══════════╪════════════╪════════════╪═══╪════════╪══════╪═══════════════╪════════════╡\n",
       "│ Adelie    ┆ Torgersen ┆ 39.1       ┆ 18.7       ┆ … ┆ male   ┆ 2007 ┆ 731.17        ┆ howdy      │\n",
       "│ Adelie    ┆ Torgersen ┆ 39.5       ┆ 17.4       ┆ … ┆ female ┆ 2007 ┆ 687.3         ┆ howdy      │\n",
       "│ Adelie    ┆ Torgersen ┆ 40.3       ┆ 18.0       ┆ … ┆ female ┆ 2007 ┆ 725.4         ┆ howdy      │\n",
       "│ Adelie    ┆ Torgersen ┆ null       ┆ null       ┆ … ┆ null   ┆ 2007 ┆ null          ┆ howdy      │\n",
       "│ …         ┆ …         ┆ …          ┆ …          ┆ … ┆ …      ┆ …    ┆ …             ┆ …          │\n",
       "│ Chinstrap ┆ Dream     ┆ 43.5       ┆ 18.1       ┆ … ┆ female ┆ 2009 ┆ 787.35        ┆ howdy      │\n",
       "│ Chinstrap ┆ Dream     ┆ 49.6       ┆ 18.2       ┆ … ┆ male   ┆ 2009 ┆ 902.72        ┆ howdy      │\n",
       "│ Chinstrap ┆ Dream     ┆ 50.8       ┆ 19.0       ┆ … ┆ male   ┆ 2009 ┆ 965.2         ┆ howdy      │\n",
       "│ Chinstrap ┆ Dream     ┆ 50.2       ┆ 18.7       ┆ … ┆ female ┆ 2009 ┆ 938.74        ┆ howdy      │\n",
       "└───────────┴───────────┴────────────┴────────────┴───┴────────┴──────┴───────────────┴────────────┘"
      ]
     },
     "execution_count": 14,
     "metadata": {},
     "output_type": "execute_result"
    }
   ],
   "source": [
    "peng_pl = peng_pl.with_columns([\n",
    "    pl.lit(\"howdy\").alias('str_constant')\n",
    "])\n",
    "\n",
    "peng_pl"
   ]
  },
  {
   "attachments": {},
   "cell_type": "markdown",
   "metadata": {},
   "source": [
    "## Add a new non-constant column \n"
   ]
  },
  {
   "cell_type": "code",
   "execution_count": 15,
   "metadata": {},
   "outputs": [],
   "source": [
    "rng = np.random.default_rng()\n",
    "rvec = rng.uniform(size=peng_pl.shape[0])"
   ]
  },
  {
   "attachments": {},
   "cell_type": "markdown",
   "metadata": {},
   "source": [
    "### pandas"
   ]
  },
  {
   "cell_type": "code",
   "execution_count": 16,
   "metadata": {},
   "outputs": [
    {
     "data": {
      "text/html": [
       "<div>\n",
       "<style scoped>\n",
       "    .dataframe tbody tr th:only-of-type {\n",
       "        vertical-align: middle;\n",
       "    }\n",
       "\n",
       "    .dataframe tbody tr th {\n",
       "        vertical-align: top;\n",
       "    }\n",
       "\n",
       "    .dataframe thead th {\n",
       "        text-align: right;\n",
       "    }\n",
       "</style>\n",
       "<table border=\"1\" class=\"dataframe\">\n",
       "  <thead>\n",
       "    <tr style=\"text-align: right;\">\n",
       "      <th></th>\n",
       "      <th>species</th>\n",
       "      <th>island</th>\n",
       "      <th>bill_length_mm</th>\n",
       "      <th>bill_depth_mm</th>\n",
       "      <th>flipper_length_mm</th>\n",
       "      <th>body_mass_g</th>\n",
       "      <th>sex</th>\n",
       "      <th>year</th>\n",
       "      <th>bill_volume</th>\n",
       "      <th>str_constant</th>\n",
       "      <th>rvec</th>\n",
       "    </tr>\n",
       "  </thead>\n",
       "  <tbody>\n",
       "    <tr>\n",
       "      <th>0</th>\n",
       "      <td>Adelie</td>\n",
       "      <td>Torgersen</td>\n",
       "      <td>39.1</td>\n",
       "      <td>18.7</td>\n",
       "      <td>181.0</td>\n",
       "      <td>3750.0</td>\n",
       "      <td>male</td>\n",
       "      <td>2007</td>\n",
       "      <td>731.17</td>\n",
       "      <td>howdy</td>\n",
       "      <td>0.424959</td>\n",
       "    </tr>\n",
       "    <tr>\n",
       "      <th>1</th>\n",
       "      <td>Adelie</td>\n",
       "      <td>Torgersen</td>\n",
       "      <td>39.5</td>\n",
       "      <td>17.4</td>\n",
       "      <td>186.0</td>\n",
       "      <td>3800.0</td>\n",
       "      <td>female</td>\n",
       "      <td>2007</td>\n",
       "      <td>687.30</td>\n",
       "      <td>howdy</td>\n",
       "      <td>0.656069</td>\n",
       "    </tr>\n",
       "    <tr>\n",
       "      <th>2</th>\n",
       "      <td>Adelie</td>\n",
       "      <td>Torgersen</td>\n",
       "      <td>40.3</td>\n",
       "      <td>18.0</td>\n",
       "      <td>195.0</td>\n",
       "      <td>3250.0</td>\n",
       "      <td>female</td>\n",
       "      <td>2007</td>\n",
       "      <td>725.40</td>\n",
       "      <td>howdy</td>\n",
       "      <td>0.036082</td>\n",
       "    </tr>\n",
       "    <tr>\n",
       "      <th>3</th>\n",
       "      <td>Adelie</td>\n",
       "      <td>Torgersen</td>\n",
       "      <td>NaN</td>\n",
       "      <td>NaN</td>\n",
       "      <td>NaN</td>\n",
       "      <td>NaN</td>\n",
       "      <td>NaN</td>\n",
       "      <td>2007</td>\n",
       "      <td>NaN</td>\n",
       "      <td>howdy</td>\n",
       "      <td>0.532295</td>\n",
       "    </tr>\n",
       "    <tr>\n",
       "      <th>4</th>\n",
       "      <td>Adelie</td>\n",
       "      <td>Torgersen</td>\n",
       "      <td>36.7</td>\n",
       "      <td>19.3</td>\n",
       "      <td>193.0</td>\n",
       "      <td>3450.0</td>\n",
       "      <td>female</td>\n",
       "      <td>2007</td>\n",
       "      <td>708.31</td>\n",
       "      <td>howdy</td>\n",
       "      <td>0.920768</td>\n",
       "    </tr>\n",
       "    <tr>\n",
       "      <th>...</th>\n",
       "      <td>...</td>\n",
       "      <td>...</td>\n",
       "      <td>...</td>\n",
       "      <td>...</td>\n",
       "      <td>...</td>\n",
       "      <td>...</td>\n",
       "      <td>...</td>\n",
       "      <td>...</td>\n",
       "      <td>...</td>\n",
       "      <td>...</td>\n",
       "      <td>...</td>\n",
       "    </tr>\n",
       "    <tr>\n",
       "      <th>339</th>\n",
       "      <td>Chinstrap</td>\n",
       "      <td>Dream</td>\n",
       "      <td>55.8</td>\n",
       "      <td>19.8</td>\n",
       "      <td>207.0</td>\n",
       "      <td>4000.0</td>\n",
       "      <td>male</td>\n",
       "      <td>2009</td>\n",
       "      <td>1104.84</td>\n",
       "      <td>howdy</td>\n",
       "      <td>0.971667</td>\n",
       "    </tr>\n",
       "    <tr>\n",
       "      <th>340</th>\n",
       "      <td>Chinstrap</td>\n",
       "      <td>Dream</td>\n",
       "      <td>43.5</td>\n",
       "      <td>18.1</td>\n",
       "      <td>202.0</td>\n",
       "      <td>3400.0</td>\n",
       "      <td>female</td>\n",
       "      <td>2009</td>\n",
       "      <td>787.35</td>\n",
       "      <td>howdy</td>\n",
       "      <td>0.930767</td>\n",
       "    </tr>\n",
       "    <tr>\n",
       "      <th>341</th>\n",
       "      <td>Chinstrap</td>\n",
       "      <td>Dream</td>\n",
       "      <td>49.6</td>\n",
       "      <td>18.2</td>\n",
       "      <td>193.0</td>\n",
       "      <td>3775.0</td>\n",
       "      <td>male</td>\n",
       "      <td>2009</td>\n",
       "      <td>902.72</td>\n",
       "      <td>howdy</td>\n",
       "      <td>0.133252</td>\n",
       "    </tr>\n",
       "    <tr>\n",
       "      <th>342</th>\n",
       "      <td>Chinstrap</td>\n",
       "      <td>Dream</td>\n",
       "      <td>50.8</td>\n",
       "      <td>19.0</td>\n",
       "      <td>210.0</td>\n",
       "      <td>4100.0</td>\n",
       "      <td>male</td>\n",
       "      <td>2009</td>\n",
       "      <td>965.20</td>\n",
       "      <td>howdy</td>\n",
       "      <td>0.900878</td>\n",
       "    </tr>\n",
       "    <tr>\n",
       "      <th>343</th>\n",
       "      <td>Chinstrap</td>\n",
       "      <td>Dream</td>\n",
       "      <td>50.2</td>\n",
       "      <td>18.7</td>\n",
       "      <td>198.0</td>\n",
       "      <td>3775.0</td>\n",
       "      <td>female</td>\n",
       "      <td>2009</td>\n",
       "      <td>938.74</td>\n",
       "      <td>howdy</td>\n",
       "      <td>0.417860</td>\n",
       "    </tr>\n",
       "  </tbody>\n",
       "</table>\n",
       "<p>344 rows × 11 columns</p>\n",
       "</div>"
      ],
      "text/plain": [
       "       species     island  bill_length_mm  bill_depth_mm  flipper_length_mm  \\\n",
       "0       Adelie  Torgersen            39.1           18.7              181.0   \n",
       "1       Adelie  Torgersen            39.5           17.4              186.0   \n",
       "2       Adelie  Torgersen            40.3           18.0              195.0   \n",
       "3       Adelie  Torgersen             NaN            NaN                NaN   \n",
       "4       Adelie  Torgersen            36.7           19.3              193.0   \n",
       "..         ...        ...             ...            ...                ...   \n",
       "339  Chinstrap      Dream            55.8           19.8              207.0   \n",
       "340  Chinstrap      Dream            43.5           18.1              202.0   \n",
       "341  Chinstrap      Dream            49.6           18.2              193.0   \n",
       "342  Chinstrap      Dream            50.8           19.0              210.0   \n",
       "343  Chinstrap      Dream            50.2           18.7              198.0   \n",
       "\n",
       "     body_mass_g     sex  year  bill_volume str_constant      rvec  \n",
       "0         3750.0    male  2007       731.17        howdy  0.424959  \n",
       "1         3800.0  female  2007       687.30        howdy  0.656069  \n",
       "2         3250.0  female  2007       725.40        howdy  0.036082  \n",
       "3            NaN     NaN  2007          NaN        howdy  0.532295  \n",
       "4         3450.0  female  2007       708.31        howdy  0.920768  \n",
       "..           ...     ...   ...          ...          ...       ...  \n",
       "339       4000.0    male  2009      1104.84        howdy  0.971667  \n",
       "340       3400.0  female  2009       787.35        howdy  0.930767  \n",
       "341       3775.0    male  2009       902.72        howdy  0.133252  \n",
       "342       4100.0    male  2009       965.20        howdy  0.900878  \n",
       "343       3775.0  female  2009       938.74        howdy  0.417860  \n",
       "\n",
       "[344 rows x 11 columns]"
      ]
     },
     "execution_count": 16,
     "metadata": {},
     "output_type": "execute_result"
    }
   ],
   "source": [
    "peng_pd['rvec'] = rvec\n",
    "peng_pd"
   ]
  },
  {
   "attachments": {},
   "cell_type": "markdown",
   "metadata": {},
   "source": [
    "### polars"
   ]
  },
  {
   "cell_type": "code",
   "execution_count": 17,
   "metadata": {},
   "outputs": [
    {
     "data": {
      "text/html": [
       "<div><style>\n",
       ".dataframe > thead > tr > th,\n",
       ".dataframe > tbody > tr > td {\n",
       "  text-align: right;\n",
       "}\n",
       "</style>\n",
       "<small>shape: (344, 11)</small><table border=\"1\" class=\"dataframe\"><thead><tr><th>species</th><th>island</th><th>bill_length_mm</th><th>bill_depth_mm</th><th>flipper_length_mm</th><th>body_mass_g</th><th>sex</th><th>year</th><th>biil_volume</th><th>str_constant</th><th>rvec</th></tr><tr><td>str</td><td>str</td><td>f64</td><td>f64</td><td>f64</td><td>f64</td><td>str</td><td>i64</td><td>f64</td><td>str</td><td>f64</td></tr></thead><tbody><tr><td>&quot;Adelie&quot;</td><td>&quot;Torgersen&quot;</td><td>39.1</td><td>18.7</td><td>181.0</td><td>3750.0</td><td>&quot;male&quot;</td><td>2007</td><td>731.17</td><td>&quot;howdy&quot;</td><td>0.424959</td></tr><tr><td>&quot;Adelie&quot;</td><td>&quot;Torgersen&quot;</td><td>39.5</td><td>17.4</td><td>186.0</td><td>3800.0</td><td>&quot;female&quot;</td><td>2007</td><td>687.3</td><td>&quot;howdy&quot;</td><td>0.656069</td></tr><tr><td>&quot;Adelie&quot;</td><td>&quot;Torgersen&quot;</td><td>40.3</td><td>18.0</td><td>195.0</td><td>3250.0</td><td>&quot;female&quot;</td><td>2007</td><td>725.4</td><td>&quot;howdy&quot;</td><td>0.036082</td></tr><tr><td>&quot;Adelie&quot;</td><td>&quot;Torgersen&quot;</td><td>null</td><td>null</td><td>null</td><td>null</td><td>null</td><td>2007</td><td>null</td><td>&quot;howdy&quot;</td><td>0.532295</td></tr><tr><td>&quot;Adelie&quot;</td><td>&quot;Torgersen&quot;</td><td>36.7</td><td>19.3</td><td>193.0</td><td>3450.0</td><td>&quot;female&quot;</td><td>2007</td><td>708.31</td><td>&quot;howdy&quot;</td><td>0.920768</td></tr><tr><td>&quot;Adelie&quot;</td><td>&quot;Torgersen&quot;</td><td>39.3</td><td>20.6</td><td>190.0</td><td>3650.0</td><td>&quot;male&quot;</td><td>2007</td><td>809.58</td><td>&quot;howdy&quot;</td><td>0.073303</td></tr><tr><td>&quot;Adelie&quot;</td><td>&quot;Torgersen&quot;</td><td>38.9</td><td>17.8</td><td>181.0</td><td>3625.0</td><td>&quot;female&quot;</td><td>2007</td><td>692.42</td><td>&quot;howdy&quot;</td><td>0.894764</td></tr><tr><td>&quot;Adelie&quot;</td><td>&quot;Torgersen&quot;</td><td>39.2</td><td>19.6</td><td>195.0</td><td>4675.0</td><td>&quot;male&quot;</td><td>2007</td><td>768.32</td><td>&quot;howdy&quot;</td><td>0.942589</td></tr><tr><td>&quot;Adelie&quot;</td><td>&quot;Torgersen&quot;</td><td>34.1</td><td>18.1</td><td>193.0</td><td>3475.0</td><td>null</td><td>2007</td><td>617.21</td><td>&quot;howdy&quot;</td><td>0.728838</td></tr><tr><td>&quot;Adelie&quot;</td><td>&quot;Torgersen&quot;</td><td>42.0</td><td>20.2</td><td>190.0</td><td>4250.0</td><td>null</td><td>2007</td><td>848.4</td><td>&quot;howdy&quot;</td><td>0.077678</td></tr><tr><td>&quot;Adelie&quot;</td><td>&quot;Torgersen&quot;</td><td>37.8</td><td>17.1</td><td>186.0</td><td>3300.0</td><td>null</td><td>2007</td><td>646.38</td><td>&quot;howdy&quot;</td><td>0.799924</td></tr><tr><td>&quot;Adelie&quot;</td><td>&quot;Torgersen&quot;</td><td>37.8</td><td>17.3</td><td>180.0</td><td>3700.0</td><td>null</td><td>2007</td><td>653.94</td><td>&quot;howdy&quot;</td><td>0.405183</td></tr><tr><td>&hellip;</td><td>&hellip;</td><td>&hellip;</td><td>&hellip;</td><td>&hellip;</td><td>&hellip;</td><td>&hellip;</td><td>&hellip;</td><td>&hellip;</td><td>&hellip;</td><td>&hellip;</td></tr><tr><td>&quot;Chinstrap&quot;</td><td>&quot;Dream&quot;</td><td>45.2</td><td>16.6</td><td>191.0</td><td>3250.0</td><td>&quot;female&quot;</td><td>2009</td><td>750.32</td><td>&quot;howdy&quot;</td><td>0.906356</td></tr><tr><td>&quot;Chinstrap&quot;</td><td>&quot;Dream&quot;</td><td>49.3</td><td>19.9</td><td>203.0</td><td>4050.0</td><td>&quot;male&quot;</td><td>2009</td><td>981.07</td><td>&quot;howdy&quot;</td><td>0.488951</td></tr><tr><td>&quot;Chinstrap&quot;</td><td>&quot;Dream&quot;</td><td>50.2</td><td>18.8</td><td>202.0</td><td>3800.0</td><td>&quot;male&quot;</td><td>2009</td><td>943.76</td><td>&quot;howdy&quot;</td><td>0.667375</td></tr><tr><td>&quot;Chinstrap&quot;</td><td>&quot;Dream&quot;</td><td>45.6</td><td>19.4</td><td>194.0</td><td>3525.0</td><td>&quot;female&quot;</td><td>2009</td><td>884.64</td><td>&quot;howdy&quot;</td><td>0.600446</td></tr><tr><td>&quot;Chinstrap&quot;</td><td>&quot;Dream&quot;</td><td>51.9</td><td>19.5</td><td>206.0</td><td>3950.0</td><td>&quot;male&quot;</td><td>2009</td><td>1012.05</td><td>&quot;howdy&quot;</td><td>0.081629</td></tr><tr><td>&quot;Chinstrap&quot;</td><td>&quot;Dream&quot;</td><td>46.8</td><td>16.5</td><td>189.0</td><td>3650.0</td><td>&quot;female&quot;</td><td>2009</td><td>772.2</td><td>&quot;howdy&quot;</td><td>0.521774</td></tr><tr><td>&quot;Chinstrap&quot;</td><td>&quot;Dream&quot;</td><td>45.7</td><td>17.0</td><td>195.0</td><td>3650.0</td><td>&quot;female&quot;</td><td>2009</td><td>776.9</td><td>&quot;howdy&quot;</td><td>0.773581</td></tr><tr><td>&quot;Chinstrap&quot;</td><td>&quot;Dream&quot;</td><td>55.8</td><td>19.8</td><td>207.0</td><td>4000.0</td><td>&quot;male&quot;</td><td>2009</td><td>1104.84</td><td>&quot;howdy&quot;</td><td>0.971667</td></tr><tr><td>&quot;Chinstrap&quot;</td><td>&quot;Dream&quot;</td><td>43.5</td><td>18.1</td><td>202.0</td><td>3400.0</td><td>&quot;female&quot;</td><td>2009</td><td>787.35</td><td>&quot;howdy&quot;</td><td>0.930767</td></tr><tr><td>&quot;Chinstrap&quot;</td><td>&quot;Dream&quot;</td><td>49.6</td><td>18.2</td><td>193.0</td><td>3775.0</td><td>&quot;male&quot;</td><td>2009</td><td>902.72</td><td>&quot;howdy&quot;</td><td>0.133252</td></tr><tr><td>&quot;Chinstrap&quot;</td><td>&quot;Dream&quot;</td><td>50.8</td><td>19.0</td><td>210.0</td><td>4100.0</td><td>&quot;male&quot;</td><td>2009</td><td>965.2</td><td>&quot;howdy&quot;</td><td>0.900878</td></tr><tr><td>&quot;Chinstrap&quot;</td><td>&quot;Dream&quot;</td><td>50.2</td><td>18.7</td><td>198.0</td><td>3775.0</td><td>&quot;female&quot;</td><td>2009</td><td>938.74</td><td>&quot;howdy&quot;</td><td>0.41786</td></tr></tbody></table></div>"
      ],
      "text/plain": [
       "shape: (344, 11)\n",
       "┌───────────┬───────────┬────────────┬────────────┬───┬──────┬───────────┬──────────────┬──────────┐\n",
       "│ species   ┆ island    ┆ bill_lengt ┆ bill_depth ┆ … ┆ year ┆ biil_volu ┆ str_constant ┆ rvec     │\n",
       "│ ---       ┆ ---       ┆ h_mm       ┆ _mm        ┆   ┆ ---  ┆ me        ┆ ---          ┆ ---      │\n",
       "│ str       ┆ str       ┆ ---        ┆ ---        ┆   ┆ i64  ┆ ---       ┆ str          ┆ f64      │\n",
       "│           ┆           ┆ f64        ┆ f64        ┆   ┆      ┆ f64       ┆              ┆          │\n",
       "╞═══════════╪═══════════╪════════════╪════════════╪═══╪══════╪═══════════╪══════════════╪══════════╡\n",
       "│ Adelie    ┆ Torgersen ┆ 39.1       ┆ 18.7       ┆ … ┆ 2007 ┆ 731.17    ┆ howdy        ┆ 0.424959 │\n",
       "│ Adelie    ┆ Torgersen ┆ 39.5       ┆ 17.4       ┆ … ┆ 2007 ┆ 687.3     ┆ howdy        ┆ 0.656069 │\n",
       "│ Adelie    ┆ Torgersen ┆ 40.3       ┆ 18.0       ┆ … ┆ 2007 ┆ 725.4     ┆ howdy        ┆ 0.036082 │\n",
       "│ Adelie    ┆ Torgersen ┆ null       ┆ null       ┆ … ┆ 2007 ┆ null      ┆ howdy        ┆ 0.532295 │\n",
       "│ …         ┆ …         ┆ …          ┆ …          ┆ … ┆ …    ┆ …         ┆ …            ┆ …        │\n",
       "│ Chinstrap ┆ Dream     ┆ 43.5       ┆ 18.1       ┆ … ┆ 2009 ┆ 787.35    ┆ howdy        ┆ 0.930767 │\n",
       "│ Chinstrap ┆ Dream     ┆ 49.6       ┆ 18.2       ┆ … ┆ 2009 ┆ 902.72    ┆ howdy        ┆ 0.133252 │\n",
       "│ Chinstrap ┆ Dream     ┆ 50.8       ┆ 19.0       ┆ … ┆ 2009 ┆ 965.2     ┆ howdy        ┆ 0.900878 │\n",
       "│ Chinstrap ┆ Dream     ┆ 50.2       ┆ 18.7       ┆ … ┆ 2009 ┆ 938.74    ┆ howdy        ┆ 0.41786  │\n",
       "└───────────┴───────────┴────────────┴────────────┴───┴──────┴───────────┴──────────────┴──────────┘"
      ]
     },
     "execution_count": 17,
     "metadata": {},
     "output_type": "execute_result"
    }
   ],
   "source": [
    "# https://stackoverflow.com/questions/72245243/polars-how-to-add-a-column-with-numerical\n",
    "\n",
    "peng_pl = peng_pl.with_columns([\n",
    "    pl.Series(name='rvec', values=rvec)\n",
    "])\n",
    "peng_pl"
   ]
  },
  {
   "attachments": {},
   "cell_type": "markdown",
   "metadata": {},
   "source": [
    "## Aggregate by group \n",
    "\n",
    "### pandas"
   ]
  },
  {
   "cell_type": "code",
   "execution_count": 18,
   "metadata": {},
   "outputs": [
    {
     "data": {
      "text/html": [
       "<div>\n",
       "<style scoped>\n",
       "    .dataframe tbody tr th:only-of-type {\n",
       "        vertical-align: middle;\n",
       "    }\n",
       "\n",
       "    .dataframe tbody tr th {\n",
       "        vertical-align: top;\n",
       "    }\n",
       "\n",
       "    .dataframe thead th {\n",
       "        text-align: right;\n",
       "    }\n",
       "</style>\n",
       "<table border=\"1\" class=\"dataframe\">\n",
       "  <thead>\n",
       "    <tr style=\"text-align: right;\">\n",
       "      <th></th>\n",
       "      <th>species</th>\n",
       "      <th>body_mass_g</th>\n",
       "    </tr>\n",
       "  </thead>\n",
       "  <tbody>\n",
       "    <tr>\n",
       "      <th>0</th>\n",
       "      <td>Adelie</td>\n",
       "      <td>3700.662252</td>\n",
       "    </tr>\n",
       "    <tr>\n",
       "      <th>1</th>\n",
       "      <td>Chinstrap</td>\n",
       "      <td>3733.088235</td>\n",
       "    </tr>\n",
       "    <tr>\n",
       "      <th>2</th>\n",
       "      <td>Gentoo</td>\n",
       "      <td>5076.016260</td>\n",
       "    </tr>\n",
       "  </tbody>\n",
       "</table>\n",
       "</div>"
      ],
      "text/plain": [
       "     species  body_mass_g\n",
       "0     Adelie  3700.662252\n",
       "1  Chinstrap  3733.088235\n",
       "2     Gentoo  5076.016260"
      ]
     },
     "execution_count": 18,
     "metadata": {},
     "output_type": "execute_result"
    }
   ],
   "source": [
    "massf_pd = (\n",
    "    peng_pd.groupby('species')[['body_mass_g']]\n",
    "           .mean()\n",
    "           .reset_index(drop=False, inplace=False)\n",
    ")\n",
    "massf_pd"
   ]
  },
  {
   "attachments": {},
   "cell_type": "markdown",
   "metadata": {},
   "source": [
    "### polars"
   ]
  },
  {
   "cell_type": "code",
   "execution_count": 19,
   "metadata": {},
   "outputs": [
    {
     "data": {
      "text/html": [
       "<div><style>\n",
       ".dataframe > thead > tr > th,\n",
       ".dataframe > tbody > tr > td {\n",
       "  text-align: right;\n",
       "}\n",
       "</style>\n",
       "<small>shape: (3, 2)</small><table border=\"1\" class=\"dataframe\"><thead><tr><th>species</th><th>body_mass_g</th></tr><tr><td>str</td><td>f64</td></tr></thead><tbody><tr><td>&quot;Gentoo&quot;</td><td>5076.01626</td></tr><tr><td>&quot;Chinstrap&quot;</td><td>3733.088235</td></tr><tr><td>&quot;Adelie&quot;</td><td>3700.662252</td></tr></tbody></table></div>"
      ],
      "text/plain": [
       "shape: (3, 2)\n",
       "┌───────────┬─────────────┐\n",
       "│ species   ┆ body_mass_g │\n",
       "│ ---       ┆ ---         │\n",
       "│ str       ┆ f64         │\n",
       "╞═══════════╪═════════════╡\n",
       "│ Gentoo    ┆ 5076.01626  │\n",
       "│ Chinstrap ┆ 3733.088235 │\n",
       "│ Adelie    ┆ 3700.662252 │\n",
       "└───────────┴─────────────┘"
      ]
     },
     "execution_count": 19,
     "metadata": {},
     "output_type": "execute_result"
    }
   ],
   "source": [
    "massf_pl = (\n",
    "    peng_pl.groupby('species')\n",
    "           .agg([\n",
    "                 pl.col('body_mass_g').mean()\n",
    "            ])\n",
    ")\n",
    "\n",
    "massf_pl"
   ]
  },
  {
   "attachments": {},
   "cell_type": "markdown",
   "metadata": {},
   "source": [
    "## Aggregate by group, order by columns \n",
    "\n",
    "Mean body mass by species and sex, order by species and sex.\n",
    "\n",
    "### pandas"
   ]
  },
  {
   "cell_type": "code",
   "execution_count": 20,
   "metadata": {},
   "outputs": [
    {
     "data": {
      "text/html": [
       "<div>\n",
       "<style scoped>\n",
       "    .dataframe tbody tr th:only-of-type {\n",
       "        vertical-align: middle;\n",
       "    }\n",
       "\n",
       "    .dataframe tbody tr th {\n",
       "        vertical-align: top;\n",
       "    }\n",
       "\n",
       "    .dataframe thead th {\n",
       "        text-align: right;\n",
       "    }\n",
       "</style>\n",
       "<table border=\"1\" class=\"dataframe\">\n",
       "  <thead>\n",
       "    <tr style=\"text-align: right;\">\n",
       "      <th></th>\n",
       "      <th>species</th>\n",
       "      <th>sex</th>\n",
       "      <th>body_mass_g</th>\n",
       "    </tr>\n",
       "  </thead>\n",
       "  <tbody>\n",
       "    <tr>\n",
       "      <th>0</th>\n",
       "      <td>Adelie</td>\n",
       "      <td>female</td>\n",
       "      <td>3368.835616</td>\n",
       "    </tr>\n",
       "    <tr>\n",
       "      <th>1</th>\n",
       "      <td>Adelie</td>\n",
       "      <td>male</td>\n",
       "      <td>4043.493151</td>\n",
       "    </tr>\n",
       "    <tr>\n",
       "      <th>2</th>\n",
       "      <td>Chinstrap</td>\n",
       "      <td>female</td>\n",
       "      <td>3527.205882</td>\n",
       "    </tr>\n",
       "    <tr>\n",
       "      <th>3</th>\n",
       "      <td>Chinstrap</td>\n",
       "      <td>male</td>\n",
       "      <td>3938.970588</td>\n",
       "    </tr>\n",
       "    <tr>\n",
       "      <th>4</th>\n",
       "      <td>Gentoo</td>\n",
       "      <td>female</td>\n",
       "      <td>4679.741379</td>\n",
       "    </tr>\n",
       "    <tr>\n",
       "      <th>5</th>\n",
       "      <td>Gentoo</td>\n",
       "      <td>male</td>\n",
       "      <td>5484.836066</td>\n",
       "    </tr>\n",
       "  </tbody>\n",
       "</table>\n",
       "</div>"
      ],
      "text/plain": [
       "     species     sex  body_mass_g\n",
       "0     Adelie  female  3368.835616\n",
       "1     Adelie    male  4043.493151\n",
       "2  Chinstrap  female  3527.205882\n",
       "3  Chinstrap    male  3938.970588\n",
       "4     Gentoo  female  4679.741379\n",
       "5     Gentoo    male  5484.836066"
      ]
     },
     "execution_count": 20,
     "metadata": {},
     "output_type": "execute_result"
    }
   ],
   "source": [
    "massf2_pd = ( \n",
    "    peng_pd.groupby(['species', 'sex'])[['body_mass_g']]\n",
    "                   .mean()\n",
    "                   .sort_values(by=['species', 'sex'])\n",
    "                   .reset_index(drop=False, inplace=False)\n",
    ")\n",
    "massf2_pd"
   ]
  },
  {
   "attachments": {},
   "cell_type": "markdown",
   "metadata": {},
   "source": [
    "### polars\n",
    "\n",
    "Notice that polars also aggregates the rows with missing sex, which pandas quietly dropped."
   ]
  },
  {
   "cell_type": "code",
   "execution_count": 21,
   "metadata": {},
   "outputs": [
    {
     "data": {
      "text/html": [
       "<div><style>\n",
       ".dataframe > thead > tr > th,\n",
       ".dataframe > tbody > tr > td {\n",
       "  text-align: right;\n",
       "}\n",
       "</style>\n",
       "<small>shape: (8, 3)</small><table border=\"1\" class=\"dataframe\"><thead><tr><th>species</th><th>sex</th><th>body_mass_g</th></tr><tr><td>str</td><td>str</td><td>f64</td></tr></thead><tbody><tr><td>&quot;Chinstrap&quot;</td><td>&quot;male&quot;</td><td>3938.970588</td></tr><tr><td>&quot;Adelie&quot;</td><td>null</td><td>3540.0</td></tr><tr><td>&quot;Chinstrap&quot;</td><td>&quot;female&quot;</td><td>3527.205882</td></tr><tr><td>&quot;Gentoo&quot;</td><td>&quot;male&quot;</td><td>5484.836066</td></tr><tr><td>&quot;Adelie&quot;</td><td>&quot;female&quot;</td><td>3368.835616</td></tr><tr><td>&quot;Adelie&quot;</td><td>&quot;male&quot;</td><td>4043.493151</td></tr><tr><td>&quot;Gentoo&quot;</td><td>null</td><td>4587.5</td></tr><tr><td>&quot;Gentoo&quot;</td><td>&quot;female&quot;</td><td>4679.741379</td></tr></tbody></table></div>"
      ],
      "text/plain": [
       "shape: (8, 3)\n",
       "┌───────────┬────────┬─────────────┐\n",
       "│ species   ┆ sex    ┆ body_mass_g │\n",
       "│ ---       ┆ ---    ┆ ---         │\n",
       "│ str       ┆ str    ┆ f64         │\n",
       "╞═══════════╪════════╪═════════════╡\n",
       "│ Chinstrap ┆ male   ┆ 3938.970588 │\n",
       "│ Adelie    ┆ null   ┆ 3540.0      │\n",
       "│ Chinstrap ┆ female ┆ 3527.205882 │\n",
       "│ Gentoo    ┆ male   ┆ 5484.836066 │\n",
       "│ Adelie    ┆ female ┆ 3368.835616 │\n",
       "│ Adelie    ┆ male   ┆ 4043.493151 │\n",
       "│ Gentoo    ┆ null   ┆ 4587.5      │\n",
       "│ Gentoo    ┆ female ┆ 4679.741379 │\n",
       "└───────────┴────────┴─────────────┘"
      ]
     },
     "execution_count": 21,
     "metadata": {},
     "output_type": "execute_result"
    }
   ],
   "source": [
    "massf2_pl = (\n",
    "    peng_pl.groupby(['species', 'sex'])\n",
    "        .agg([\n",
    "                 pl.col('body_mass_g').mean()\n",
    "            ])\n",
    ")\n",
    "\n",
    "massf2_pl"
   ]
  },
  {
   "attachments": {},
   "cell_type": "markdown",
   "metadata": {},
   "source": [
    "Let's drop the nulls and put it in a better order.\n",
    "[Reference for missing data handling](https://towardsdatascience.com/data-cleansing-in-polars-f9314ea04a8e)"
   ]
  },
  {
   "cell_type": "code",
   "execution_count": 22,
   "metadata": {},
   "outputs": [
    {
     "data": {
      "text/html": [
       "<div><style>\n",
       ".dataframe > thead > tr > th,\n",
       ".dataframe > tbody > tr > td {\n",
       "  text-align: right;\n",
       "}\n",
       "</style>\n",
       "<small>shape: (6, 3)</small><table border=\"1\" class=\"dataframe\"><thead><tr><th>species</th><th>sex</th><th>body_mass_g</th></tr><tr><td>str</td><td>str</td><td>f64</td></tr></thead><tbody><tr><td>&quot;Adelie&quot;</td><td>&quot;female&quot;</td><td>3368.835616</td></tr><tr><td>&quot;Adelie&quot;</td><td>&quot;male&quot;</td><td>4043.493151</td></tr><tr><td>&quot;Chinstrap&quot;</td><td>&quot;female&quot;</td><td>3527.205882</td></tr><tr><td>&quot;Chinstrap&quot;</td><td>&quot;male&quot;</td><td>3938.970588</td></tr><tr><td>&quot;Gentoo&quot;</td><td>&quot;female&quot;</td><td>4679.741379</td></tr><tr><td>&quot;Gentoo&quot;</td><td>&quot;male&quot;</td><td>5484.836066</td></tr></tbody></table></div>"
      ],
      "text/plain": [
       "shape: (6, 3)\n",
       "┌───────────┬────────┬─────────────┐\n",
       "│ species   ┆ sex    ┆ body_mass_g │\n",
       "│ ---       ┆ ---    ┆ ---         │\n",
       "│ str       ┆ str    ┆ f64         │\n",
       "╞═══════════╪════════╪═════════════╡\n",
       "│ Adelie    ┆ female ┆ 3368.835616 │\n",
       "│ Adelie    ┆ male   ┆ 4043.493151 │\n",
       "│ Chinstrap ┆ female ┆ 3527.205882 │\n",
       "│ Chinstrap ┆ male   ┆ 3938.970588 │\n",
       "│ Gentoo    ┆ female ┆ 4679.741379 │\n",
       "│ Gentoo    ┆ male   ┆ 5484.836066 │\n",
       "└───────────┴────────┴─────────────┘"
      ]
     },
     "execution_count": 22,
     "metadata": {},
     "output_type": "execute_result"
    }
   ],
   "source": [
    "\n",
    "massf2_pl = (\n",
    "    peng_pl.groupby(['species', 'sex'])\n",
    "        .agg([\n",
    "                 pl.col('body_mass_g').mean()\n",
    "            ])\n",
    "        .drop_nulls()\n",
    "        .sort(by=['species', 'sex'])\n",
    ")\n",
    "\n",
    "massf2_pl"
   ]
  },
  {
   "attachments": {},
   "cell_type": "markdown",
   "metadata": {},
   "source": [
    "## Melts and Casts (AKA pivot and unpivot)\n",
    "\n",
    "### pandas\n",
    "\n",
    "**Cast**: going from \"long\" to \"wide\" (which is kinda the backwards direction, but the data is already long)."
   ]
  },
  {
   "cell_type": "code",
   "execution_count": 23,
   "metadata": {},
   "outputs": [
    {
     "data": {
      "text/html": [
       "<div>\n",
       "<style scoped>\n",
       "    .dataframe tbody tr th:only-of-type {\n",
       "        vertical-align: middle;\n",
       "    }\n",
       "\n",
       "    .dataframe tbody tr th {\n",
       "        vertical-align: top;\n",
       "    }\n",
       "\n",
       "    .dataframe thead th {\n",
       "        text-align: right;\n",
       "    }\n",
       "</style>\n",
       "<table border=\"1\" class=\"dataframe\">\n",
       "  <thead>\n",
       "    <tr style=\"text-align: right;\">\n",
       "      <th></th>\n",
       "      <th>species</th>\n",
       "      <th>female</th>\n",
       "      <th>male</th>\n",
       "    </tr>\n",
       "  </thead>\n",
       "  <tbody>\n",
       "    <tr>\n",
       "      <th>0</th>\n",
       "      <td>Adelie</td>\n",
       "      <td>3368.835616</td>\n",
       "      <td>4043.493151</td>\n",
       "    </tr>\n",
       "    <tr>\n",
       "      <th>1</th>\n",
       "      <td>Chinstrap</td>\n",
       "      <td>3527.205882</td>\n",
       "      <td>3938.970588</td>\n",
       "    </tr>\n",
       "    <tr>\n",
       "      <th>2</th>\n",
       "      <td>Gentoo</td>\n",
       "      <td>4679.741379</td>\n",
       "      <td>5484.836066</td>\n",
       "    </tr>\n",
       "  </tbody>\n",
       "</table>\n",
       "</div>"
      ],
      "text/plain": [
       "     species       female         male\n",
       "0     Adelie  3368.835616  4043.493151\n",
       "1  Chinstrap  3527.205882  3938.970588\n",
       "2     Gentoo  4679.741379  5484.836066"
      ]
     },
     "execution_count": 23,
     "metadata": {},
     "output_type": "execute_result"
    }
   ],
   "source": [
    "wide_bm = massf2_pd.pivot(index='species', columns='sex', values='body_mass_g').reset_index(drop=False, inplace=False)\n",
    "wide_bm.columns = wide_bm.columns.values # to get rid of the nesting on column index\n",
    "wide_bm"
   ]
  },
  {
   "attachments": {},
   "cell_type": "markdown",
   "metadata": {},
   "source": [
    "**Melt: Wide to long.**"
   ]
  },
  {
   "cell_type": "code",
   "execution_count": 24,
   "metadata": {},
   "outputs": [
    {
     "data": {
      "text/html": [
       "<div>\n",
       "<style scoped>\n",
       "    .dataframe tbody tr th:only-of-type {\n",
       "        vertical-align: middle;\n",
       "    }\n",
       "\n",
       "    .dataframe tbody tr th {\n",
       "        vertical-align: top;\n",
       "    }\n",
       "\n",
       "    .dataframe thead th {\n",
       "        text-align: right;\n",
       "    }\n",
       "</style>\n",
       "<table border=\"1\" class=\"dataframe\">\n",
       "  <thead>\n",
       "    <tr style=\"text-align: right;\">\n",
       "      <th></th>\n",
       "      <th>species</th>\n",
       "      <th>sex</th>\n",
       "      <th>body_mass</th>\n",
       "    </tr>\n",
       "  </thead>\n",
       "  <tbody>\n",
       "    <tr>\n",
       "      <th>0</th>\n",
       "      <td>Adelie</td>\n",
       "      <td>female</td>\n",
       "      <td>3368.835616</td>\n",
       "    </tr>\n",
       "    <tr>\n",
       "      <th>1</th>\n",
       "      <td>Chinstrap</td>\n",
       "      <td>female</td>\n",
       "      <td>3527.205882</td>\n",
       "    </tr>\n",
       "    <tr>\n",
       "      <th>2</th>\n",
       "      <td>Gentoo</td>\n",
       "      <td>female</td>\n",
       "      <td>4679.741379</td>\n",
       "    </tr>\n",
       "    <tr>\n",
       "      <th>3</th>\n",
       "      <td>Adelie</td>\n",
       "      <td>male</td>\n",
       "      <td>4043.493151</td>\n",
       "    </tr>\n",
       "    <tr>\n",
       "      <th>4</th>\n",
       "      <td>Chinstrap</td>\n",
       "      <td>male</td>\n",
       "      <td>3938.970588</td>\n",
       "    </tr>\n",
       "    <tr>\n",
       "      <th>5</th>\n",
       "      <td>Gentoo</td>\n",
       "      <td>male</td>\n",
       "      <td>5484.836066</td>\n",
       "    </tr>\n",
       "  </tbody>\n",
       "</table>\n",
       "</div>"
      ],
      "text/plain": [
       "     species     sex    body_mass\n",
       "0     Adelie  female  3368.835616\n",
       "1  Chinstrap  female  3527.205882\n",
       "2     Gentoo  female  4679.741379\n",
       "3     Adelie    male  4043.493151\n",
       "4  Chinstrap    male  3938.970588\n",
       "5     Gentoo    male  5484.836066"
      ]
     },
     "execution_count": 24,
     "metadata": {},
     "output_type": "execute_result"
    }
   ],
   "source": [
    "longf = wide_bm.melt(id_vars=['species'], \n",
    "                     value_vars=['female', 'male'],\n",
    "                     var_name='sex', \n",
    "                     value_name='body_mass')\n",
    "longf"
   ]
  },
  {
   "attachments": {},
   "cell_type": "markdown",
   "metadata": {},
   "source": [
    "### polars\n",
    "\n",
    "**Cast**"
   ]
  },
  {
   "cell_type": "code",
   "execution_count": 25,
   "metadata": {},
   "outputs": [
    {
     "data": {
      "text/html": [
       "<div><style>\n",
       ".dataframe > thead > tr > th,\n",
       ".dataframe > tbody > tr > td {\n",
       "  text-align: right;\n",
       "}\n",
       "</style>\n",
       "<small>shape: (3, 3)</small><table border=\"1\" class=\"dataframe\"><thead><tr><th>species</th><th>female</th><th>male</th></tr><tr><td>str</td><td>f64</td><td>f64</td></tr></thead><tbody><tr><td>&quot;Adelie&quot;</td><td>3368.835616</td><td>4043.493151</td></tr><tr><td>&quot;Chinstrap&quot;</td><td>3527.205882</td><td>3938.970588</td></tr><tr><td>&quot;Gentoo&quot;</td><td>4679.741379</td><td>5484.836066</td></tr></tbody></table></div>"
      ],
      "text/plain": [
       "shape: (3, 3)\n",
       "┌───────────┬─────────────┬─────────────┐\n",
       "│ species   ┆ female      ┆ male        │\n",
       "│ ---       ┆ ---         ┆ ---         │\n",
       "│ str       ┆ f64         ┆ f64         │\n",
       "╞═══════════╪═════════════╪═════════════╡\n",
       "│ Adelie    ┆ 3368.835616 ┆ 4043.493151 │\n",
       "│ Chinstrap ┆ 3527.205882 ┆ 3938.970588 │\n",
       "│ Gentoo    ┆ 4679.741379 ┆ 5484.836066 │\n",
       "└───────────┴─────────────┴─────────────┘"
      ]
     },
     "execution_count": 25,
     "metadata": {},
     "output_type": "execute_result"
    }
   ],
   "source": [
    "wide_bm = massf2_pl.pivot(index='species', columns='sex', values='body_mass_g')\n",
    "wide_bm"
   ]
  },
  {
   "attachments": {},
   "cell_type": "markdown",
   "metadata": {},
   "source": [
    "**Melt**"
   ]
  },
  {
   "cell_type": "code",
   "execution_count": 26,
   "metadata": {},
   "outputs": [
    {
     "data": {
      "text/html": [
       "<div><style>\n",
       ".dataframe > thead > tr > th,\n",
       ".dataframe > tbody > tr > td {\n",
       "  text-align: right;\n",
       "}\n",
       "</style>\n",
       "<small>shape: (6, 3)</small><table border=\"1\" class=\"dataframe\"><thead><tr><th>species</th><th>sex</th><th>body_mass</th></tr><tr><td>str</td><td>str</td><td>f64</td></tr></thead><tbody><tr><td>&quot;Adelie&quot;</td><td>&quot;female&quot;</td><td>3368.835616</td></tr><tr><td>&quot;Chinstrap&quot;</td><td>&quot;female&quot;</td><td>3527.205882</td></tr><tr><td>&quot;Gentoo&quot;</td><td>&quot;female&quot;</td><td>4679.741379</td></tr><tr><td>&quot;Adelie&quot;</td><td>&quot;male&quot;</td><td>4043.493151</td></tr><tr><td>&quot;Chinstrap&quot;</td><td>&quot;male&quot;</td><td>3938.970588</td></tr><tr><td>&quot;Gentoo&quot;</td><td>&quot;male&quot;</td><td>5484.836066</td></tr></tbody></table></div>"
      ],
      "text/plain": [
       "shape: (6, 3)\n",
       "┌───────────┬────────┬─────────────┐\n",
       "│ species   ┆ sex    ┆ body_mass   │\n",
       "│ ---       ┆ ---    ┆ ---         │\n",
       "│ str       ┆ str    ┆ f64         │\n",
       "╞═══════════╪════════╪═════════════╡\n",
       "│ Adelie    ┆ female ┆ 3368.835616 │\n",
       "│ Chinstrap ┆ female ┆ 3527.205882 │\n",
       "│ Gentoo    ┆ female ┆ 4679.741379 │\n",
       "│ Adelie    ┆ male   ┆ 4043.493151 │\n",
       "│ Chinstrap ┆ male   ┆ 3938.970588 │\n",
       "│ Gentoo    ┆ male   ┆ 5484.836066 │\n",
       "└───────────┴────────┴─────────────┘"
      ]
     },
     "execution_count": 26,
     "metadata": {},
     "output_type": "execute_result"
    }
   ],
   "source": [
    "longf = wide_bm.melt(id_vars=['species'], \n",
    "                     value_vars=['female', 'male'],\n",
    "                     variable_name='sex', \n",
    "                     value_name='body_mass')\n",
    "longf"
   ]
  },
  {
   "attachments": {},
   "cell_type": "markdown",
   "metadata": {},
   "source": [
    "## Frame concatenation: `rbind`\n",
    "\n",
    "E.g. concatenate frames vertically."
   ]
  },
  {
   "cell_type": "code",
   "execution_count": 27,
   "metadata": {},
   "outputs": [],
   "source": [
    "apd = pd.DataFrame({\n",
    "    'name': ['Aya', 'Bob', 'Carlos'],\n",
    "    'age': [39, 22, 56]\n",
    "})\n",
    "\n",
    "apl = pl.from_pandas(apd)\n",
    "\n",
    "# handy that the notation is the same\n",
    "bpl = pl.DataFrame({\n",
    "    'name': ['Dev', 'Elsa', 'Fumi'],\n",
    "    'age' : [15, 28, 43]\n",
    "})\n",
    "\n",
    "bpd = bpl.to_pandas()\n",
    "\n",
    "\n",
    "cpd = pd.DataFrame({\n",
    "    'state': ['CA', 'NV', 'NY'],\n",
    "    'city': ['San Francisco', 'Las Vegas', 'New York City']\n",
    "})\n",
    "\n",
    "cpl = pl.from_pandas(cpd)"
   ]
  },
  {
   "attachments": {},
   "cell_type": "markdown",
   "metadata": {},
   "source": [
    "### pandas"
   ]
  },
  {
   "cell_type": "code",
   "execution_count": 28,
   "metadata": {},
   "outputs": [
    {
     "data": {
      "text/html": [
       "<div>\n",
       "<style scoped>\n",
       "    .dataframe tbody tr th:only-of-type {\n",
       "        vertical-align: middle;\n",
       "    }\n",
       "\n",
       "    .dataframe tbody tr th {\n",
       "        vertical-align: top;\n",
       "    }\n",
       "\n",
       "    .dataframe thead th {\n",
       "        text-align: right;\n",
       "    }\n",
       "</style>\n",
       "<table border=\"1\" class=\"dataframe\">\n",
       "  <thead>\n",
       "    <tr style=\"text-align: right;\">\n",
       "      <th></th>\n",
       "      <th>name</th>\n",
       "      <th>age</th>\n",
       "    </tr>\n",
       "  </thead>\n",
       "  <tbody>\n",
       "    <tr>\n",
       "      <th>0</th>\n",
       "      <td>Aya</td>\n",
       "      <td>39</td>\n",
       "    </tr>\n",
       "    <tr>\n",
       "      <th>1</th>\n",
       "      <td>Bob</td>\n",
       "      <td>22</td>\n",
       "    </tr>\n",
       "    <tr>\n",
       "      <th>2</th>\n",
       "      <td>Carlos</td>\n",
       "      <td>56</td>\n",
       "    </tr>\n",
       "    <tr>\n",
       "      <th>3</th>\n",
       "      <td>Dev</td>\n",
       "      <td>15</td>\n",
       "    </tr>\n",
       "    <tr>\n",
       "      <th>4</th>\n",
       "      <td>Elsa</td>\n",
       "      <td>28</td>\n",
       "    </tr>\n",
       "    <tr>\n",
       "      <th>5</th>\n",
       "      <td>Fumi</td>\n",
       "      <td>43</td>\n",
       "    </tr>\n",
       "  </tbody>\n",
       "</table>\n",
       "</div>"
      ],
      "text/plain": [
       "     name  age\n",
       "0     Aya   39\n",
       "1     Bob   22\n",
       "2  Carlos   56\n",
       "3     Dev   15\n",
       "4    Elsa   28\n",
       "5    Fumi   43"
      ]
     },
     "execution_count": 28,
     "metadata": {},
     "output_type": "execute_result"
    }
   ],
   "source": [
    "pd.concat([apd, bpd], ignore_index=True)"
   ]
  },
  {
   "attachments": {},
   "cell_type": "markdown",
   "metadata": {},
   "source": [
    "### polars"
   ]
  },
  {
   "cell_type": "code",
   "execution_count": 29,
   "metadata": {},
   "outputs": [
    {
     "data": {
      "text/html": [
       "<div><style>\n",
       ".dataframe > thead > tr > th,\n",
       ".dataframe > tbody > tr > td {\n",
       "  text-align: right;\n",
       "}\n",
       "</style>\n",
       "<small>shape: (6, 2)</small><table border=\"1\" class=\"dataframe\"><thead><tr><th>name</th><th>age</th></tr><tr><td>str</td><td>i64</td></tr></thead><tbody><tr><td>&quot;Aya&quot;</td><td>39</td></tr><tr><td>&quot;Bob&quot;</td><td>22</td></tr><tr><td>&quot;Carlos&quot;</td><td>56</td></tr><tr><td>&quot;Dev&quot;</td><td>15</td></tr><tr><td>&quot;Elsa&quot;</td><td>28</td></tr><tr><td>&quot;Fumi&quot;</td><td>43</td></tr></tbody></table></div>"
      ],
      "text/plain": [
       "shape: (6, 2)\n",
       "┌────────┬─────┐\n",
       "│ name   ┆ age │\n",
       "│ ---    ┆ --- │\n",
       "│ str    ┆ i64 │\n",
       "╞════════╪═════╡\n",
       "│ Aya    ┆ 39  │\n",
       "│ Bob    ┆ 22  │\n",
       "│ Carlos ┆ 56  │\n",
       "│ Dev    ┆ 15  │\n",
       "│ Elsa   ┆ 28  │\n",
       "│ Fumi   ┆ 43  │\n",
       "└────────┴─────┘"
      ]
     },
     "execution_count": 29,
     "metadata": {},
     "output_type": "execute_result"
    }
   ],
   "source": [
    "pl.concat([apl, bpl])"
   ]
  },
  {
   "attachments": {},
   "cell_type": "markdown",
   "metadata": {},
   "source": [
    "## Frame concatenation: `cbind` \n",
    "\n",
    "E.g. concatenate frames horizontally\n",
    "\n",
    "### pandas"
   ]
  },
  {
   "cell_type": "code",
   "execution_count": 30,
   "metadata": {},
   "outputs": [
    {
     "data": {
      "text/html": [
       "<div>\n",
       "<style scoped>\n",
       "    .dataframe tbody tr th:only-of-type {\n",
       "        vertical-align: middle;\n",
       "    }\n",
       "\n",
       "    .dataframe tbody tr th {\n",
       "        vertical-align: top;\n",
       "    }\n",
       "\n",
       "    .dataframe thead th {\n",
       "        text-align: right;\n",
       "    }\n",
       "</style>\n",
       "<table border=\"1\" class=\"dataframe\">\n",
       "  <thead>\n",
       "    <tr style=\"text-align: right;\">\n",
       "      <th></th>\n",
       "      <th>name</th>\n",
       "      <th>age</th>\n",
       "      <th>state</th>\n",
       "      <th>city</th>\n",
       "    </tr>\n",
       "  </thead>\n",
       "  <tbody>\n",
       "    <tr>\n",
       "      <th>0</th>\n",
       "      <td>Aya</td>\n",
       "      <td>39</td>\n",
       "      <td>CA</td>\n",
       "      <td>San Francisco</td>\n",
       "    </tr>\n",
       "    <tr>\n",
       "      <th>1</th>\n",
       "      <td>Bob</td>\n",
       "      <td>22</td>\n",
       "      <td>NV</td>\n",
       "      <td>Las Vegas</td>\n",
       "    </tr>\n",
       "    <tr>\n",
       "      <th>2</th>\n",
       "      <td>Carlos</td>\n",
       "      <td>56</td>\n",
       "      <td>NY</td>\n",
       "      <td>New York City</td>\n",
       "    </tr>\n",
       "  </tbody>\n",
       "</table>\n",
       "</div>"
      ],
      "text/plain": [
       "     name  age state           city\n",
       "0     Aya   39    CA  San Francisco\n",
       "1     Bob   22    NV      Las Vegas\n",
       "2  Carlos   56    NY  New York City"
      ]
     },
     "execution_count": 30,
     "metadata": {},
     "output_type": "execute_result"
    }
   ],
   "source": [
    "pd.concat([apd, cpd], axis=1)"
   ]
  },
  {
   "attachments": {},
   "cell_type": "markdown",
   "metadata": {},
   "source": [
    "### polars"
   ]
  },
  {
   "cell_type": "code",
   "execution_count": 31,
   "metadata": {},
   "outputs": [
    {
     "data": {
      "text/html": [
       "<div><style>\n",
       ".dataframe > thead > tr > th,\n",
       ".dataframe > tbody > tr > td {\n",
       "  text-align: right;\n",
       "}\n",
       "</style>\n",
       "<small>shape: (3, 4)</small><table border=\"1\" class=\"dataframe\"><thead><tr><th>name</th><th>age</th><th>state</th><th>city</th></tr><tr><td>str</td><td>i64</td><td>str</td><td>str</td></tr></thead><tbody><tr><td>&quot;Aya&quot;</td><td>39</td><td>&quot;CA&quot;</td><td>&quot;San Francisco&quot;</td></tr><tr><td>&quot;Bob&quot;</td><td>22</td><td>&quot;NV&quot;</td><td>&quot;Las Vegas&quot;</td></tr><tr><td>&quot;Carlos&quot;</td><td>56</td><td>&quot;NY&quot;</td><td>&quot;New York City&quot;</td></tr></tbody></table></div>"
      ],
      "text/plain": [
       "shape: (3, 4)\n",
       "┌────────┬─────┬───────┬───────────────┐\n",
       "│ name   ┆ age ┆ state ┆ city          │\n",
       "│ ---    ┆ --- ┆ ---   ┆ ---           │\n",
       "│ str    ┆ i64 ┆ str   ┆ str           │\n",
       "╞════════╪═════╪═══════╪═══════════════╡\n",
       "│ Aya    ┆ 39  ┆ CA    ┆ San Francisco │\n",
       "│ Bob    ┆ 22  ┆ NV    ┆ Las Vegas     │\n",
       "│ Carlos ┆ 56  ┆ NY    ┆ New York City │\n",
       "└────────┴─────┴───────┴───────────────┘"
      ]
     },
     "execution_count": 31,
     "metadata": {},
     "output_type": "execute_result"
    }
   ],
   "source": [
    "pl.concat([apl, cpl], how='horizontal')"
   ]
  },
  {
   "attachments": {},
   "cell_type": "markdown",
   "metadata": {},
   "source": [
    "## Join"
   ]
  },
  {
   "cell_type": "code",
   "execution_count": 32,
   "metadata": {},
   "outputs": [
    {
     "data": {
      "text/html": [
       "<div><style>\n",
       ".dataframe > thead > tr > th,\n",
       ".dataframe > tbody > tr > td {\n",
       "  text-align: right;\n",
       "}\n",
       "</style>\n",
       "<small>shape: (3, 3)</small><table border=\"1\" class=\"dataframe\"><thead><tr><th>state</th><th>city</th><th>name</th></tr><tr><td>str</td><td>str</td><td>str</td></tr></thead><tbody><tr><td>&quot;CA&quot;</td><td>&quot;San Francisco&quot;</td><td>&quot;Bob&quot;</td></tr><tr><td>&quot;NV&quot;</td><td>&quot;Las Vegas&quot;</td><td>&quot;Carlos&quot;</td></tr><tr><td>&quot;NY&quot;</td><td>&quot;New York City&quot;</td><td>&quot;Aya&quot;</td></tr></tbody></table></div>"
      ],
      "text/plain": [
       "shape: (3, 3)\n",
       "┌───────┬───────────────┬────────┐\n",
       "│ state ┆ city          ┆ name   │\n",
       "│ ---   ┆ ---           ┆ ---    │\n",
       "│ str   ┆ str           ┆ str    │\n",
       "╞═══════╪═══════════════╪════════╡\n",
       "│ CA    ┆ San Francisco ┆ Bob    │\n",
       "│ NV    ┆ Las Vegas     ┆ Carlos │\n",
       "│ NY    ┆ New York City ┆ Aya    │\n",
       "└───────┴───────────────┴────────┘"
      ]
     },
     "execution_count": 32,
     "metadata": {},
     "output_type": "execute_result"
    }
   ],
   "source": [
    "cpd['name'] = ['Bob', 'Carlos', 'Aya']\n",
    "cpl = pl.from_pandas(cpd)\n",
    "cpl"
   ]
  },
  {
   "attachments": {},
   "cell_type": "markdown",
   "metadata": {},
   "source": [
    "### pandas"
   ]
  },
  {
   "cell_type": "code",
   "execution_count": 33,
   "metadata": {},
   "outputs": [
    {
     "data": {
      "text/html": [
       "<div>\n",
       "<style scoped>\n",
       "    .dataframe tbody tr th:only-of-type {\n",
       "        vertical-align: middle;\n",
       "    }\n",
       "\n",
       "    .dataframe tbody tr th {\n",
       "        vertical-align: top;\n",
       "    }\n",
       "\n",
       "    .dataframe thead th {\n",
       "        text-align: right;\n",
       "    }\n",
       "</style>\n",
       "<table border=\"1\" class=\"dataframe\">\n",
       "  <thead>\n",
       "    <tr style=\"text-align: right;\">\n",
       "      <th></th>\n",
       "      <th>name</th>\n",
       "      <th>age</th>\n",
       "      <th>state</th>\n",
       "      <th>city</th>\n",
       "    </tr>\n",
       "  </thead>\n",
       "  <tbody>\n",
       "    <tr>\n",
       "      <th>0</th>\n",
       "      <td>Aya</td>\n",
       "      <td>39</td>\n",
       "      <td>NY</td>\n",
       "      <td>New York City</td>\n",
       "    </tr>\n",
       "    <tr>\n",
       "      <th>1</th>\n",
       "      <td>Bob</td>\n",
       "      <td>22</td>\n",
       "      <td>CA</td>\n",
       "      <td>San Francisco</td>\n",
       "    </tr>\n",
       "    <tr>\n",
       "      <th>2</th>\n",
       "      <td>Carlos</td>\n",
       "      <td>56</td>\n",
       "      <td>NV</td>\n",
       "      <td>Las Vegas</td>\n",
       "    </tr>\n",
       "  </tbody>\n",
       "</table>\n",
       "</div>"
      ],
      "text/plain": [
       "     name  age state           city\n",
       "0     Aya   39    NY  New York City\n",
       "1     Bob   22    CA  San Francisco\n",
       "2  Carlos   56    NV      Las Vegas"
      ]
     },
     "execution_count": 33,
     "metadata": {},
     "output_type": "execute_result"
    }
   ],
   "source": [
    "apd.merge(\n",
    "    cpd, \n",
    "    on = ['name'],\n",
    "    how = 'left'\n",
    ")"
   ]
  },
  {
   "attachments": {},
   "cell_type": "markdown",
   "metadata": {},
   "source": [
    "### polars"
   ]
  },
  {
   "cell_type": "code",
   "execution_count": 34,
   "metadata": {},
   "outputs": [
    {
     "data": {
      "text/html": [
       "<div><style>\n",
       ".dataframe > thead > tr > th,\n",
       ".dataframe > tbody > tr > td {\n",
       "  text-align: right;\n",
       "}\n",
       "</style>\n",
       "<small>shape: (3, 4)</small><table border=\"1\" class=\"dataframe\"><thead><tr><th>name</th><th>age</th><th>state</th><th>city</th></tr><tr><td>str</td><td>i64</td><td>str</td><td>str</td></tr></thead><tbody><tr><td>&quot;Aya&quot;</td><td>39</td><td>&quot;NY&quot;</td><td>&quot;New York City&quot;</td></tr><tr><td>&quot;Bob&quot;</td><td>22</td><td>&quot;CA&quot;</td><td>&quot;San Francisco&quot;</td></tr><tr><td>&quot;Carlos&quot;</td><td>56</td><td>&quot;NV&quot;</td><td>&quot;Las Vegas&quot;</td></tr></tbody></table></div>"
      ],
      "text/plain": [
       "shape: (3, 4)\n",
       "┌────────┬─────┬───────┬───────────────┐\n",
       "│ name   ┆ age ┆ state ┆ city          │\n",
       "│ ---    ┆ --- ┆ ---   ┆ ---           │\n",
       "│ str    ┆ i64 ┆ str   ┆ str           │\n",
       "╞════════╪═════╪═══════╪═══════════════╡\n",
       "│ Aya    ┆ 39  ┆ NY    ┆ New York City │\n",
       "│ Bob    ┆ 22  ┆ CA    ┆ San Francisco │\n",
       "│ Carlos ┆ 56  ┆ NV    ┆ Las Vegas     │\n",
       "└────────┴─────┴───────┴───────────────┘"
      ]
     },
     "execution_count": 34,
     "metadata": {},
     "output_type": "execute_result"
    }
   ],
   "source": [
    "apl.join(\n",
    "    cpl,\n",
    "    on = ['name'],\n",
    "    how = 'left'\n",
    ")"
   ]
  },
  {
   "attachments": {},
   "cell_type": "markdown",
   "metadata": {},
   "source": [
    "## Rename \n",
    "\n",
    "### pandas"
   ]
  },
  {
   "cell_type": "code",
   "execution_count": 35,
   "metadata": {},
   "outputs": [
    {
     "data": {
      "text/html": [
       "<div>\n",
       "<style scoped>\n",
       "    .dataframe tbody tr th:only-of-type {\n",
       "        vertical-align: middle;\n",
       "    }\n",
       "\n",
       "    .dataframe tbody tr th {\n",
       "        vertical-align: top;\n",
       "    }\n",
       "\n",
       "    .dataframe thead th {\n",
       "        text-align: right;\n",
       "    }\n",
       "</style>\n",
       "<table border=\"1\" class=\"dataframe\">\n",
       "  <thead>\n",
       "    <tr style=\"text-align: right;\">\n",
       "      <th></th>\n",
       "      <th>name</th>\n",
       "      <th>age</th>\n",
       "    </tr>\n",
       "  </thead>\n",
       "  <tbody>\n",
       "    <tr>\n",
       "      <th>0</th>\n",
       "      <td>Dev</td>\n",
       "      <td>15</td>\n",
       "    </tr>\n",
       "    <tr>\n",
       "      <th>1</th>\n",
       "      <td>Elsa</td>\n",
       "      <td>28</td>\n",
       "    </tr>\n",
       "    <tr>\n",
       "      <th>2</th>\n",
       "      <td>Fumi</td>\n",
       "      <td>43</td>\n",
       "    </tr>\n",
       "  </tbody>\n",
       "</table>\n",
       "</div>"
      ],
      "text/plain": [
       "   name  age\n",
       "0   Dev   15\n",
       "1  Elsa   28\n",
       "2  Fumi   43"
      ]
     },
     "execution_count": 35,
     "metadata": {},
     "output_type": "execute_result"
    }
   ],
   "source": [
    "bpd"
   ]
  },
  {
   "cell_type": "code",
   "execution_count": 36,
   "metadata": {},
   "outputs": [
    {
     "data": {
      "text/html": [
       "<div>\n",
       "<style scoped>\n",
       "    .dataframe tbody tr th:only-of-type {\n",
       "        vertical-align: middle;\n",
       "    }\n",
       "\n",
       "    .dataframe tbody tr th {\n",
       "        vertical-align: top;\n",
       "    }\n",
       "\n",
       "    .dataframe thead th {\n",
       "        text-align: right;\n",
       "    }\n",
       "</style>\n",
       "<table border=\"1\" class=\"dataframe\">\n",
       "  <thead>\n",
       "    <tr style=\"text-align: right;\">\n",
       "      <th></th>\n",
       "      <th>nombre</th>\n",
       "      <th>age</th>\n",
       "    </tr>\n",
       "  </thead>\n",
       "  <tbody>\n",
       "    <tr>\n",
       "      <th>0</th>\n",
       "      <td>Dev</td>\n",
       "      <td>15</td>\n",
       "    </tr>\n",
       "    <tr>\n",
       "      <th>1</th>\n",
       "      <td>Elsa</td>\n",
       "      <td>28</td>\n",
       "    </tr>\n",
       "    <tr>\n",
       "      <th>2</th>\n",
       "      <td>Fumi</td>\n",
       "      <td>43</td>\n",
       "    </tr>\n",
       "  </tbody>\n",
       "</table>\n",
       "</div>"
      ],
      "text/plain": [
       "  nombre  age\n",
       "0    Dev   15\n",
       "1   Elsa   28\n",
       "2   Fumi   43"
      ]
     },
     "execution_count": 36,
     "metadata": {},
     "output_type": "execute_result"
    }
   ],
   "source": [
    "bpd.rename(columns={'name': 'nombre'})"
   ]
  },
  {
   "attachments": {},
   "cell_type": "markdown",
   "metadata": {},
   "source": [
    "### polars"
   ]
  },
  {
   "cell_type": "code",
   "execution_count": 37,
   "metadata": {},
   "outputs": [
    {
     "data": {
      "text/html": [
       "<div><style>\n",
       ".dataframe > thead > tr > th,\n",
       ".dataframe > tbody > tr > td {\n",
       "  text-align: right;\n",
       "}\n",
       "</style>\n",
       "<small>shape: (3, 2)</small><table border=\"1\" class=\"dataframe\"><thead><tr><th>name</th><th>age</th></tr><tr><td>str</td><td>i64</td></tr></thead><tbody><tr><td>&quot;Dev&quot;</td><td>15</td></tr><tr><td>&quot;Elsa&quot;</td><td>28</td></tr><tr><td>&quot;Fumi&quot;</td><td>43</td></tr></tbody></table></div>"
      ],
      "text/plain": [
       "shape: (3, 2)\n",
       "┌──────┬─────┐\n",
       "│ name ┆ age │\n",
       "│ ---  ┆ --- │\n",
       "│ str  ┆ i64 │\n",
       "╞══════╪═════╡\n",
       "│ Dev  ┆ 15  │\n",
       "│ Elsa ┆ 28  │\n",
       "│ Fumi ┆ 43  │\n",
       "└──────┴─────┘"
      ]
     },
     "execution_count": 37,
     "metadata": {},
     "output_type": "execute_result"
    }
   ],
   "source": [
    "bpl"
   ]
  },
  {
   "cell_type": "code",
   "execution_count": 38,
   "metadata": {},
   "outputs": [
    {
     "data": {
      "text/html": [
       "<div><style>\n",
       ".dataframe > thead > tr > th,\n",
       ".dataframe > tbody > tr > td {\n",
       "  text-align: right;\n",
       "}\n",
       "</style>\n",
       "<small>shape: (3, 2)</small><table border=\"1\" class=\"dataframe\"><thead><tr><th>nombre</th><th>age</th></tr><tr><td>str</td><td>i64</td></tr></thead><tbody><tr><td>&quot;Dev&quot;</td><td>15</td></tr><tr><td>&quot;Elsa&quot;</td><td>28</td></tr><tr><td>&quot;Fumi&quot;</td><td>43</td></tr></tbody></table></div>"
      ],
      "text/plain": [
       "shape: (3, 2)\n",
       "┌────────┬─────┐\n",
       "│ nombre ┆ age │\n",
       "│ ---    ┆ --- │\n",
       "│ str    ┆ i64 │\n",
       "╞════════╪═════╡\n",
       "│ Dev    ┆ 15  │\n",
       "│ Elsa   ┆ 28  │\n",
       "│ Fumi   ┆ 43  │\n",
       "└────────┴─────┘"
      ]
     },
     "execution_count": 38,
     "metadata": {},
     "output_type": "execute_result"
    }
   ],
   "source": [
    "bpl.rename({'name': 'nombre'})"
   ]
  },
  {
   "attachments": {},
   "cell_type": "markdown",
   "metadata": {},
   "source": [
    "## if-else \n",
    "\n",
    "### pandas"
   ]
  },
  {
   "cell_type": "code",
   "execution_count": 39,
   "metadata": {},
   "outputs": [
    {
     "data": {
      "text/html": [
       "<div>\n",
       "<style scoped>\n",
       "    .dataframe tbody tr th:only-of-type {\n",
       "        vertical-align: middle;\n",
       "    }\n",
       "\n",
       "    .dataframe tbody tr th {\n",
       "        vertical-align: top;\n",
       "    }\n",
       "\n",
       "    .dataframe thead th {\n",
       "        text-align: right;\n",
       "    }\n",
       "</style>\n",
       "<table border=\"1\" class=\"dataframe\">\n",
       "  <thead>\n",
       "    <tr style=\"text-align: right;\">\n",
       "      <th></th>\n",
       "      <th>name</th>\n",
       "      <th>age</th>\n",
       "    </tr>\n",
       "  </thead>\n",
       "  <tbody>\n",
       "    <tr>\n",
       "      <th>0</th>\n",
       "      <td>Aya</td>\n",
       "      <td>39</td>\n",
       "    </tr>\n",
       "    <tr>\n",
       "      <th>1</th>\n",
       "      <td>Bob</td>\n",
       "      <td>22</td>\n",
       "    </tr>\n",
       "    <tr>\n",
       "      <th>2</th>\n",
       "      <td>Carlos</td>\n",
       "      <td>56</td>\n",
       "    </tr>\n",
       "  </tbody>\n",
       "</table>\n",
       "</div>"
      ],
      "text/plain": [
       "     name  age\n",
       "0     Aya   39\n",
       "1     Bob   22\n",
       "2  Carlos   56"
      ]
     },
     "execution_count": 39,
     "metadata": {},
     "output_type": "execute_result"
    }
   ],
   "source": [
    "apd"
   ]
  },
  {
   "cell_type": "code",
   "execution_count": 40,
   "metadata": {},
   "outputs": [
    {
     "data": {
      "text/html": [
       "<div>\n",
       "<style scoped>\n",
       "    .dataframe tbody tr th:only-of-type {\n",
       "        vertical-align: middle;\n",
       "    }\n",
       "\n",
       "    .dataframe tbody tr th {\n",
       "        vertical-align: top;\n",
       "    }\n",
       "\n",
       "    .dataframe thead th {\n",
       "        text-align: right;\n",
       "    }\n",
       "</style>\n",
       "<table border=\"1\" class=\"dataframe\">\n",
       "  <thead>\n",
       "    <tr style=\"text-align: right;\">\n",
       "      <th></th>\n",
       "      <th>name</th>\n",
       "      <th>age</th>\n",
       "      <th>over_30</th>\n",
       "    </tr>\n",
       "  </thead>\n",
       "  <tbody>\n",
       "    <tr>\n",
       "      <th>0</th>\n",
       "      <td>Aya</td>\n",
       "      <td>39</td>\n",
       "      <td>yes</td>\n",
       "    </tr>\n",
       "    <tr>\n",
       "      <th>1</th>\n",
       "      <td>Bob</td>\n",
       "      <td>22</td>\n",
       "      <td>no</td>\n",
       "    </tr>\n",
       "    <tr>\n",
       "      <th>2</th>\n",
       "      <td>Carlos</td>\n",
       "      <td>56</td>\n",
       "      <td>yes</td>\n",
       "    </tr>\n",
       "  </tbody>\n",
       "</table>\n",
       "</div>"
      ],
      "text/plain": [
       "     name  age over_30\n",
       "0     Aya   39     yes\n",
       "1     Bob   22      no\n",
       "2  Carlos   56     yes"
      ]
     },
     "execution_count": 40,
     "metadata": {},
     "output_type": "execute_result"
    }
   ],
   "source": [
    "apd['over_30'] = np.where(apd['age'] > 30, 'yes', 'no')\n",
    "apd"
   ]
  },
  {
   "attachments": {},
   "cell_type": "markdown",
   "metadata": {},
   "source": [
    "### polars"
   ]
  },
  {
   "cell_type": "code",
   "execution_count": 41,
   "metadata": {},
   "outputs": [
    {
     "data": {
      "text/html": [
       "<div><style>\n",
       ".dataframe > thead > tr > th,\n",
       ".dataframe > tbody > tr > td {\n",
       "  text-align: right;\n",
       "}\n",
       "</style>\n",
       "<small>shape: (3, 2)</small><table border=\"1\" class=\"dataframe\"><thead><tr><th>name</th><th>age</th></tr><tr><td>str</td><td>i64</td></tr></thead><tbody><tr><td>&quot;Aya&quot;</td><td>39</td></tr><tr><td>&quot;Bob&quot;</td><td>22</td></tr><tr><td>&quot;Carlos&quot;</td><td>56</td></tr></tbody></table></div>"
      ],
      "text/plain": [
       "shape: (3, 2)\n",
       "┌────────┬─────┐\n",
       "│ name   ┆ age │\n",
       "│ ---    ┆ --- │\n",
       "│ str    ┆ i64 │\n",
       "╞════════╪═════╡\n",
       "│ Aya    ┆ 39  │\n",
       "│ Bob    ┆ 22  │\n",
       "│ Carlos ┆ 56  │\n",
       "└────────┴─────┘"
      ]
     },
     "execution_count": 41,
     "metadata": {},
     "output_type": "execute_result"
    }
   ],
   "source": [
    "apl"
   ]
  },
  {
   "cell_type": "code",
   "execution_count": 42,
   "metadata": {},
   "outputs": [
    {
     "data": {
      "text/html": [
       "<div><style>\n",
       ".dataframe > thead > tr > th,\n",
       ".dataframe > tbody > tr > td {\n",
       "  text-align: right;\n",
       "}\n",
       "</style>\n",
       "<small>shape: (3, 3)</small><table border=\"1\" class=\"dataframe\"><thead><tr><th>name</th><th>age</th><th>over_30</th></tr><tr><td>str</td><td>i64</td><td>str</td></tr></thead><tbody><tr><td>&quot;Aya&quot;</td><td>39</td><td>&quot;yes&quot;</td></tr><tr><td>&quot;Bob&quot;</td><td>22</td><td>&quot;no&quot;</td></tr><tr><td>&quot;Carlos&quot;</td><td>56</td><td>&quot;yes&quot;</td></tr></tbody></table></div>"
      ],
      "text/plain": [
       "shape: (3, 3)\n",
       "┌────────┬─────┬─────────┐\n",
       "│ name   ┆ age ┆ over_30 │\n",
       "│ ---    ┆ --- ┆ ---     │\n",
       "│ str    ┆ i64 ┆ str     │\n",
       "╞════════╪═════╪═════════╡\n",
       "│ Aya    ┆ 39  ┆ yes     │\n",
       "│ Bob    ┆ 22  ┆ no      │\n",
       "│ Carlos ┆ 56  ┆ yes     │\n",
       "└────────┴─────┴─────────┘"
      ]
     },
     "execution_count": 42,
     "metadata": {},
     "output_type": "execute_result"
    }
   ],
   "source": [
    "apl.with_columns([\n",
    "    pl.when(pl.col('age') > 30).then('yes').otherwise('no').alias('over_30')\n",
    "])"
   ]
  },
  {
   "attachments": {},
   "cell_type": "markdown",
   "metadata": {},
   "source": [
    "Both will accept column arguments. "
   ]
  },
  {
   "cell_type": "code",
   "execution_count": 43,
   "metadata": {},
   "outputs": [
    {
     "data": {
      "text/html": [
       "<div>\n",
       "<style scoped>\n",
       "    .dataframe tbody tr th:only-of-type {\n",
       "        vertical-align: middle;\n",
       "    }\n",
       "\n",
       "    .dataframe tbody tr th {\n",
       "        vertical-align: top;\n",
       "    }\n",
       "\n",
       "    .dataframe thead th {\n",
       "        text-align: right;\n",
       "    }\n",
       "</style>\n",
       "<table border=\"1\" class=\"dataframe\">\n",
       "  <thead>\n",
       "    <tr style=\"text-align: right;\">\n",
       "      <th></th>\n",
       "      <th>name</th>\n",
       "      <th>age</th>\n",
       "      <th>over_30</th>\n",
       "    </tr>\n",
       "  </thead>\n",
       "  <tbody>\n",
       "    <tr>\n",
       "      <th>0</th>\n",
       "      <td>Aya</td>\n",
       "      <td>39</td>\n",
       "      <td>yes</td>\n",
       "    </tr>\n",
       "    <tr>\n",
       "      <th>1</th>\n",
       "      <td>Bob</td>\n",
       "      <td>22</td>\n",
       "      <td>Bob</td>\n",
       "    </tr>\n",
       "    <tr>\n",
       "      <th>2</th>\n",
       "      <td>Carlos</td>\n",
       "      <td>56</td>\n",
       "      <td>yes</td>\n",
       "    </tr>\n",
       "  </tbody>\n",
       "</table>\n",
       "</div>"
      ],
      "text/plain": [
       "     name  age over_30\n",
       "0     Aya   39     yes\n",
       "1     Bob   22     Bob\n",
       "2  Carlos   56     yes"
      ]
     },
     "execution_count": 43,
     "metadata": {},
     "output_type": "execute_result"
    }
   ],
   "source": [
    "apd['over_30'] = np.where(apd['age'] > 30, 'yes', apd['name'])\n",
    "apd"
   ]
  },
  {
   "cell_type": "code",
   "execution_count": 44,
   "metadata": {},
   "outputs": [
    {
     "data": {
      "text/html": [
       "<div><style>\n",
       ".dataframe > thead > tr > th,\n",
       ".dataframe > tbody > tr > td {\n",
       "  text-align: right;\n",
       "}\n",
       "</style>\n",
       "<small>shape: (3, 3)</small><table border=\"1\" class=\"dataframe\"><thead><tr><th>name</th><th>age</th><th>over_30</th></tr><tr><td>str</td><td>i64</td><td>str</td></tr></thead><tbody><tr><td>&quot;Aya&quot;</td><td>39</td><td>&quot;yes&quot;</td></tr><tr><td>&quot;Bob&quot;</td><td>22</td><td>&quot;Bob&quot;</td></tr><tr><td>&quot;Carlos&quot;</td><td>56</td><td>&quot;yes&quot;</td></tr></tbody></table></div>"
      ],
      "text/plain": [
       "shape: (3, 3)\n",
       "┌────────┬─────┬─────────┐\n",
       "│ name   ┆ age ┆ over_30 │\n",
       "│ ---    ┆ --- ┆ ---     │\n",
       "│ str    ┆ i64 ┆ str     │\n",
       "╞════════╪═════╪═════════╡\n",
       "│ Aya    ┆ 39  ┆ yes     │\n",
       "│ Bob    ┆ 22  ┆ Bob     │\n",
       "│ Carlos ┆ 56  ┆ yes     │\n",
       "└────────┴─────┴─────────┘"
      ]
     },
     "execution_count": 44,
     "metadata": {},
     "output_type": "execute_result"
    }
   ],
   "source": [
    "apl.with_columns([\n",
    "    pl.when(pl.col('age') > 30).then('yes').otherwise(pl.col('name')).alias('over_30')\n",
    "])"
   ]
  },
  {
   "attachments": {},
   "cell_type": "markdown",
   "metadata": {},
   "source": [
    "# Conclusion\n",
    "\n",
    "That's it! From these you can start to build up just about any useful data wrangling operation. We will try to add more, as the need arises."
   ]
  }
 ],
 "metadata": {
  "kernelspec": {
   "display_name": "a_taste_of_data_science",
   "language": "python",
   "name": "python3"
  },
  "language_info": {
   "codemirror_mode": {
    "name": "ipython",
    "version": 3
   },
   "file_extension": ".py",
   "mimetype": "text/x-python",
   "name": "python",
   "nbconvert_exporter": "python",
   "pygments_lexer": "ipython3",
   "version": "3.9.13"
  },
  "orig_nbformat": 4
 },
 "nbformat": 4,
 "nbformat_minor": 2
}
