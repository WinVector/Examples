{
 "cells": [
  {
   "cell_type": "markdown",
   "metadata": {},
   "source": [
    "Writing a simple ARIMA (actually AR(2)) as a recurrence relation."
   ]
  },
  {
   "cell_type": "code",
   "execution_count": 1,
   "metadata": {},
   "outputs": [],
   "source": [
    "from IPython.display import display, Math, Latex\n",
    "import sympy as sp"
   ]
  },
  {
   "cell_type": "code",
   "execution_count": 2,
   "metadata": {},
   "outputs": [],
   "source": [
    "m, ytm1, ytm2 = sp.symbols(\"m y_{t-1} y_{t-2}\")\n"
   ]
  },
  {
   "cell_type": "code",
   "execution_count": 3,
   "metadata": {},
   "outputs": [
    {
     "data": {
      "text/latex": [
       "$\\displaystyle m y_{t-1} - y_{t-2}$"
      ],
      "text/plain": [
       "m*y_{t-1} - y_{t-2}"
      ]
     },
     "execution_count": 3,
     "metadata": {},
     "output_type": "execute_result"
    }
   ],
   "source": [
    "eqn = m * ytm1 - ytm2\n",
    "\n",
    "eqn"
   ]
  },
  {
   "cell_type": "code",
   "execution_count": 4,
   "metadata": {},
   "outputs": [],
   "source": [
    "vtm1, vtm2 = sp.symbols(\"v_{t-1} v_{t-2}\")"
   ]
  },
  {
   "cell_type": "code",
   "execution_count": 5,
   "metadata": {},
   "outputs": [],
   "source": [
    "def step(y_tm1, y_tm2):\n",
    "    # apply \n",
    "    y_t = eqn.subs({ytm1: y_tm1, ytm2: y_tm2}).expand()\n",
    "    # factor\n",
    "    t1 = y_t.subs({vtm1: 1, vtm2: 0})\n",
    "    t2 = y_t.subs({vtm1: 0, vtm2: 1})\n",
    "    poly = t1 * vtm1 + t2 * vtm2\n",
    "    assert (y_t - poly).expand() == 0\n",
    "    # display form\n",
    "    latex_str = f'({sp.latex(t1)}) {sp.latex(vtm1)} - ({sp.latex(-t2)}) {sp.latex(vtm2)}'  # force term order\n",
    "    # shift\n",
    "    return poly, y_tm1, latex_str\n"
   ]
  },
  {
   "cell_type": "code",
   "execution_count": 6,
   "metadata": {},
   "outputs": [
    {
     "data": {
      "text/plain": [
       "(v_{t-1}, v_{t-2})"
      ]
     },
     "execution_count": 6,
     "metadata": {},
     "output_type": "execute_result"
    }
   ],
   "source": [
    "# plug in in intial values\n",
    "y_tm1, y_tm2 = vtm1, vtm2\n",
    "\n",
    "(y_tm1, y_tm2)"
   ]
  },
  {
   "cell_type": "code",
   "execution_count": 7,
   "metadata": {},
   "outputs": [
    {
     "data": {
      "text/latex": [
       "$\\displaystyle v_{t-1}$"
      ],
      "text/plain": [
       "v_{t-1}"
      ]
     },
     "metadata": {},
     "output_type": "display_data"
    },
    {
     "name": "stdout",
     "output_type": "stream",
     "text": [
      "0\n",
      "(m) v_{t-1} - (1) v_{t-2}\n"
     ]
    },
    {
     "data": {
      "text/latex": [
       "$\\displaystyle (m) v_{t-1} - (1) v_{t-2}$"
      ],
      "text/plain": [
       "<IPython.core.display.Math object>"
      ]
     },
     "metadata": {},
     "output_type": "display_data"
    },
    {
     "name": "stdout",
     "output_type": "stream",
     "text": [
      "1\n",
      "(m^{2} - 1) v_{t-1} - (m) v_{t-2}\n"
     ]
    },
    {
     "data": {
      "text/latex": [
       "$\\displaystyle (m^{2} - 1) v_{t-1} - (m) v_{t-2}$"
      ],
      "text/plain": [
       "<IPython.core.display.Math object>"
      ]
     },
     "metadata": {},
     "output_type": "display_data"
    },
    {
     "name": "stdout",
     "output_type": "stream",
     "text": [
      "2\n",
      "(m^{3} - 2 m) v_{t-1} - (m^{2} - 1) v_{t-2}\n"
     ]
    },
    {
     "data": {
      "text/latex": [
       "$\\displaystyle (m^{3} - 2 m) v_{t-1} - (m^{2} - 1) v_{t-2}$"
      ],
      "text/plain": [
       "<IPython.core.display.Math object>"
      ]
     },
     "metadata": {},
     "output_type": "display_data"
    },
    {
     "name": "stdout",
     "output_type": "stream",
     "text": [
      "3\n",
      "(m^{4} - 3 m^{2} + 1) v_{t-1} - (m^{3} - 2 m) v_{t-2}\n"
     ]
    },
    {
     "data": {
      "text/latex": [
       "$\\displaystyle (m^{4} - 3 m^{2} + 1) v_{t-1} - (m^{3} - 2 m) v_{t-2}$"
      ],
      "text/plain": [
       "<IPython.core.display.Math object>"
      ]
     },
     "metadata": {},
     "output_type": "display_data"
    },
    {
     "name": "stdout",
     "output_type": "stream",
     "text": [
      "4\n",
      "(m^{5} - 4 m^{3} + 3 m) v_{t-1} - (m^{4} - 3 m^{2} + 1) v_{t-2}\n"
     ]
    },
    {
     "data": {
      "text/latex": [
       "$\\displaystyle (m^{5} - 4 m^{3} + 3 m) v_{t-1} - (m^{4} - 3 m^{2} + 1) v_{t-2}$"
      ],
      "text/plain": [
       "<IPython.core.display.Math object>"
      ]
     },
     "metadata": {},
     "output_type": "display_data"
    },
    {
     "name": "stdout",
     "output_type": "stream",
     "text": [
      "5\n",
      "(m^{6} - 5 m^{4} + 6 m^{2} - 1) v_{t-1} - (m^{5} - 4 m^{3} + 3 m) v_{t-2}\n"
     ]
    },
    {
     "data": {
      "text/latex": [
       "$\\displaystyle (m^{6} - 5 m^{4} + 6 m^{2} - 1) v_{t-1} - (m^{5} - 4 m^{3} + 3 m) v_{t-2}$"
      ],
      "text/plain": [
       "<IPython.core.display.Math object>"
      ]
     },
     "metadata": {},
     "output_type": "display_data"
    },
    {
     "name": "stdout",
     "output_type": "stream",
     "text": [
      "6\n",
      "(m^{7} - 6 m^{5} + 10 m^{3} - 4 m) v_{t-1} - (m^{6} - 5 m^{4} + 6 m^{2} - 1) v_{t-2}\n"
     ]
    },
    {
     "data": {
      "text/latex": [
       "$\\displaystyle (m^{7} - 6 m^{5} + 10 m^{3} - 4 m) v_{t-1} - (m^{6} - 5 m^{4} + 6 m^{2} - 1) v_{t-2}$"
      ],
      "text/plain": [
       "<IPython.core.display.Math object>"
      ]
     },
     "metadata": {},
     "output_type": "display_data"
    },
    {
     "name": "stdout",
     "output_type": "stream",
     "text": [
      "7\n",
      "(m^{8} - 7 m^{6} + 15 m^{4} - 10 m^{2} + 1) v_{t-1} - (m^{7} - 6 m^{5} + 10 m^{3} - 4 m) v_{t-2}\n"
     ]
    },
    {
     "data": {
      "text/latex": [
       "$\\displaystyle (m^{8} - 7 m^{6} + 15 m^{4} - 10 m^{2} + 1) v_{t-1} - (m^{7} - 6 m^{5} + 10 m^{3} - 4 m) v_{t-2}$"
      ],
      "text/plain": [
       "<IPython.core.display.Math object>"
      ]
     },
     "metadata": {},
     "output_type": "display_data"
    },
    {
     "name": "stdout",
     "output_type": "stream",
     "text": [
      "8\n",
      "(m^{9} - 8 m^{7} + 21 m^{5} - 20 m^{3} + 5 m) v_{t-1} - (m^{8} - 7 m^{6} + 15 m^{4} - 10 m^{2} + 1) v_{t-2}\n"
     ]
    },
    {
     "data": {
      "text/latex": [
       "$\\displaystyle (m^{9} - 8 m^{7} + 21 m^{5} - 20 m^{3} + 5 m) v_{t-1} - (m^{8} - 7 m^{6} + 15 m^{4} - 10 m^{2} + 1) v_{t-2}$"
      ],
      "text/plain": [
       "<IPython.core.display.Math object>"
      ]
     },
     "metadata": {},
     "output_type": "display_data"
    },
    {
     "name": "stdout",
     "output_type": "stream",
     "text": [
      "9\n",
      "(m^{10} - 9 m^{8} + 28 m^{6} - 35 m^{4} + 15 m^{2} - 1) v_{t-1} - (m^{9} - 8 m^{7} + 21 m^{5} - 20 m^{3} + 5 m) v_{t-2}\n"
     ]
    },
    {
     "data": {
      "text/latex": [
       "$\\displaystyle (m^{10} - 9 m^{8} + 28 m^{6} - 35 m^{4} + 15 m^{2} - 1) v_{t-1} - (m^{9} - 8 m^{7} + 21 m^{5} - 20 m^{3} + 5 m) v_{t-2}$"
      ],
      "text/plain": [
       "<IPython.core.display.Math object>"
      ]
     },
     "metadata": {},
     "output_type": "display_data"
    }
   ],
   "source": [
    "display(y_tm1)\n",
    "for sv in range(10):\n",
    "    y_tm1, y_tm2, latex_str = step(y_tm1, y_tm2)\n",
    "    print(sv)\n",
    "    print(latex_str)\n",
    "    display(Math(latex_str))\n"
   ]
  },
  {
   "cell_type": "code",
   "execution_count": 8,
   "metadata": {},
   "outputs": [],
   "source": [
    "p = 1\n",
    "pm1 = 0"
   ]
  },
  {
   "cell_type": "code",
   "execution_count": 9,
   "metadata": {},
   "outputs": [
    {
     "data": {
      "text/plain": [
       "1"
      ]
     },
     "metadata": {},
     "output_type": "display_data"
    },
    {
     "data": {
      "text/latex": [
       "$\\displaystyle m$"
      ],
      "text/plain": [
       "m"
      ]
     },
     "metadata": {},
     "output_type": "display_data"
    },
    {
     "data": {
      "text/latex": [
       "$\\displaystyle m^{2} - 1$"
      ],
      "text/plain": [
       "m**2 - 1"
      ]
     },
     "metadata": {},
     "output_type": "display_data"
    },
    {
     "data": {
      "text/latex": [
       "$\\displaystyle m^{3} - 2 m$"
      ],
      "text/plain": [
       "m**3 - 2*m"
      ]
     },
     "metadata": {},
     "output_type": "display_data"
    },
    {
     "data": {
      "text/latex": [
       "$\\displaystyle m^{4} - 3 m^{2} + 1$"
      ],
      "text/plain": [
       "m**4 - 3*m**2 + 1"
      ]
     },
     "metadata": {},
     "output_type": "display_data"
    },
    {
     "data": {
      "text/latex": [
       "$\\displaystyle m^{5} - 4 m^{3} + 3 m$"
      ],
      "text/plain": [
       "m**5 - 4*m**3 + 3*m"
      ]
     },
     "metadata": {},
     "output_type": "display_data"
    },
    {
     "data": {
      "text/latex": [
       "$\\displaystyle m^{6} - 5 m^{4} + 6 m^{2} - 1$"
      ],
      "text/plain": [
       "m**6 - 5*m**4 + 6*m**2 - 1"
      ]
     },
     "metadata": {},
     "output_type": "display_data"
    },
    {
     "data": {
      "text/latex": [
       "$\\displaystyle m^{7} - 6 m^{5} + 10 m^{3} - 4 m$"
      ],
      "text/plain": [
       "m**7 - 6*m**5 + 10*m**3 - 4*m"
      ]
     },
     "metadata": {},
     "output_type": "display_data"
    },
    {
     "data": {
      "text/latex": [
       "$\\displaystyle m^{8} - 7 m^{6} + 15 m^{4} - 10 m^{2} + 1$"
      ],
      "text/plain": [
       "m**8 - 7*m**6 + 15*m**4 - 10*m**2 + 1"
      ]
     },
     "metadata": {},
     "output_type": "display_data"
    },
    {
     "data": {
      "text/latex": [
       "$\\displaystyle m^{9} - 8 m^{7} + 21 m^{5} - 20 m^{3} + 5 m$"
      ],
      "text/plain": [
       "m**9 - 8*m**7 + 21*m**5 - 20*m**3 + 5*m"
      ]
     },
     "metadata": {},
     "output_type": "display_data"
    },
    {
     "data": {
      "text/latex": [
       "$\\displaystyle m^{10} - 9 m^{8} + 28 m^{6} - 35 m^{4} + 15 m^{2} - 1$"
      ],
      "text/plain": [
       "m**10 - 9*m**8 + 28*m**6 - 35*m**4 + 15*m**2 - 1"
      ]
     },
     "metadata": {},
     "output_type": "display_data"
    }
   ],
   "source": [
    "display(p)\n",
    "for sv in range(10):\n",
    "    p, pm1 = (m * p - pm1).expand(), p\n",
    "    display(p)"
   ]
  },
  {
   "cell_type": "code",
   "execution_count": 10,
   "metadata": {},
   "outputs": [],
   "source": [
    "# To solve.\n",
    "# Look at recurrence:\n",
    "#  r[2] = m * r[1] - r[0]\n",
    "# look for solutions of the form r[k] = r**k\n",
    "# (this is the characteristic function method, trying weaker powers in place of subscripts)\n",
    "#  r**2 - m * r + 1 = 0\n",
    "# solve, yielding:\n",
    "#  r = m +- sqrt(m**2 - 4)/2 \n",
    "# The claim is: these are the two r[k] = r**k solutions and all\n",
    "# Pick a linear combination of these two solutions meeting initial conditions.\n",
    "def poly(i: int):\n",
    "    d = sp.sqrt(m*m - 4)\n",
    "    return ((1/d) * ( ((m + d)/2)**i - ((m - d)/2)**i )).expand()"
   ]
  },
  {
   "cell_type": "code",
   "execution_count": 11,
   "metadata": {},
   "outputs": [
    {
     "data": {
      "text/latex": [
       "$\\displaystyle \\frac{- \\left(\\frac{m}{2} - \\frac{\\sqrt{m^{2} - 4}}{2}\\right)^{s} + \\left(\\frac{m}{2} + \\frac{\\sqrt{m^{2} - 4}}{2}\\right)^{s}}{\\sqrt{m^{2} - 4}}$"
      ],
      "text/plain": [
       "(-(m/2 - sqrt(m**2 - 4)/2)**s + (m/2 + sqrt(m**2 - 4)/2)**s)/sqrt(m**2 - 4)"
      ]
     },
     "execution_count": 11,
     "metadata": {},
     "output_type": "execute_result"
    }
   ],
   "source": [
    "s = sp.Symbol('s')\n",
    "poly_expr = ((1/sp.sqrt(m*m - 4)) * ( ((m + sp.sqrt(m*m - 4))/2)**s - ((m - sp.sqrt(m*m - 4))/2)**s ))\n",
    "\n",
    "poly_expr"
   ]
  },
  {
   "cell_type": "code",
   "execution_count": 12,
   "metadata": {},
   "outputs": [
    {
     "data": {
      "text/latex": [
       "$\\displaystyle 0$"
      ],
      "text/plain": [
       "0"
      ]
     },
     "metadata": {},
     "output_type": "display_data"
    }
   ],
   "source": [
    "display(poly_expr.subs({s: 0}).expand())"
   ]
  },
  {
   "cell_type": "code",
   "execution_count": 13,
   "metadata": {},
   "outputs": [
    {
     "data": {
      "text/latex": [
       "$\\displaystyle 1$"
      ],
      "text/plain": [
       "1"
      ]
     },
     "metadata": {},
     "output_type": "display_data"
    },
    {
     "data": {
      "text/latex": [
       "$\\displaystyle m$"
      ],
      "text/plain": [
       "m"
      ]
     },
     "metadata": {},
     "output_type": "display_data"
    },
    {
     "data": {
      "text/latex": [
       "$\\displaystyle m^{2} - 1$"
      ],
      "text/plain": [
       "m**2 - 1"
      ]
     },
     "metadata": {},
     "output_type": "display_data"
    },
    {
     "data": {
      "text/latex": [
       "$\\displaystyle m^{3} - 2 m$"
      ],
      "text/plain": [
       "m**3 - 2*m"
      ]
     },
     "metadata": {},
     "output_type": "display_data"
    },
    {
     "data": {
      "text/latex": [
       "$\\displaystyle m^{4} - 3 m^{2} + 1$"
      ],
      "text/plain": [
       "m**4 - 3*m**2 + 1"
      ]
     },
     "metadata": {},
     "output_type": "display_data"
    },
    {
     "data": {
      "text/latex": [
       "$\\displaystyle m^{5} - 4 m^{3} + 3 m$"
      ],
      "text/plain": [
       "m**5 - 4*m**3 + 3*m"
      ]
     },
     "metadata": {},
     "output_type": "display_data"
    },
    {
     "data": {
      "text/latex": [
       "$\\displaystyle m^{6} - 5 m^{4} + 6 m^{2} - 1$"
      ],
      "text/plain": [
       "m**6 - 5*m**4 + 6*m**2 - 1"
      ]
     },
     "metadata": {},
     "output_type": "display_data"
    },
    {
     "data": {
      "text/latex": [
       "$\\displaystyle m^{7} - 6 m^{5} + 10 m^{3} - 4 m$"
      ],
      "text/plain": [
       "m**7 - 6*m**5 + 10*m**3 - 4*m"
      ]
     },
     "metadata": {},
     "output_type": "display_data"
    },
    {
     "data": {
      "text/latex": [
       "$\\displaystyle m^{8} - 7 m^{6} + 15 m^{4} - 10 m^{2} + 1$"
      ],
      "text/plain": [
       "m**8 - 7*m**6 + 15*m**4 - 10*m**2 + 1"
      ]
     },
     "metadata": {},
     "output_type": "display_data"
    },
    {
     "data": {
      "text/latex": [
       "$\\displaystyle m^{9} - 8 m^{7} + 21 m^{5} - 20 m^{3} + 5 m$"
      ],
      "text/plain": [
       "m**9 - 8*m**7 + 21*m**5 - 20*m**3 + 5*m"
      ]
     },
     "metadata": {},
     "output_type": "display_data"
    },
    {
     "data": {
      "text/latex": [
       "$\\displaystyle m^{10} - 9 m^{8} + 28 m^{6} - 35 m^{4} + 15 m^{2} - 1$"
      ],
      "text/plain": [
       "m**10 - 9*m**8 + 28*m**6 - 35*m**4 + 15*m**2 - 1"
      ]
     },
     "metadata": {},
     "output_type": "display_data"
    }
   ],
   "source": [
    "for sv in range(1, 12):\n",
    "    display(poly_expr.subs({s: sv}).expand())"
   ]
  },
  {
   "cell_type": "code",
   "execution_count": null,
   "metadata": {},
   "outputs": [],
   "source": []
  },
  {
   "cell_type": "code",
   "execution_count": null,
   "metadata": {},
   "outputs": [],
   "source": []
  }
 ],
 "metadata": {
  "kernelspec": {
   "display_name": "prob_env",
   "language": "python",
   "name": "python3"
  },
  "language_info": {
   "codemirror_mode": {
    "name": "ipython",
    "version": 3
   },
   "file_extension": ".py",
   "mimetype": "text/x-python",
   "name": "python",
   "nbconvert_exporter": "python",
   "pygments_lexer": "ipython3",
   "version": "3.11.9"
  }
 },
 "nbformat": 4,
 "nbformat_minor": 2
}
