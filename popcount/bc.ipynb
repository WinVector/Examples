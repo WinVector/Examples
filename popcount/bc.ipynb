{
 "cells": [
  {
   "attachments": {},
   "cell_type": "markdown",
   "metadata": {},
   "source": [
    "<h1>It isn't just the AIs hallucinating</h1>\n",
    "\n",
    "`GPT-*` and the like are indeed amazing game-changing tools. However, they are not *currently* quite as magic as advertised.\n",
    "\n",
    "As a minor example, consider the `popcount()` code example from [https://www.pcmag.com/news/samsung-software-engineers-busted-for-pasting-proprietary-code-into-chatgpt](https://www.pcmag.com/news/samsung-software-engineers-busted-for-pasting-proprietary-code-into-chatgpt).\n",
    "\n",
    "When asked to correct the following code ChatGPT claims the fix is cleaning up some non-ascii characters *and* claims the code computes the number of bits set in the binary representation of the integer `n` (call this ideal quantity `popcount(n)`).\n",
    "\n",
    "<img src=\"Screenshot 2023-05-02 at 8.22.26 AM.png\">"
   ]
  },
  {
   "attachments": {},
   "cell_type": "markdown",
   "metadata": {},
   "source": [
    "Superficially this looks like some clever \"popcount()\" trick that \"could get one hired based on Google's coding puzzles.\" One feels dumb for not knowing the apparently clever trick in the code.\n",
    "\n",
    "However, believing that depends on not thinking about the code in terms of invariants. For the above code to work we would need to have the invariant that `count + popcount(n)` is a constant as we move through the loop. This would require the invariant that `n ^ (n - 1)` has one fewer bit set in the base-2 representation than `n` (as `count` increases by this much).\n",
    "\n",
    "None of that is the case.\n",
    "\n",
    "Consider working the example `n = 1`."
   ]
  },
  {
   "cell_type": "code",
   "execution_count": 1,
   "metadata": {},
   "outputs": [
    {
     "data": {
      "text/plain": [
       "1"
      ]
     },
     "execution_count": 1,
     "metadata": {},
     "output_type": "execute_result"
    }
   ],
   "source": [
    "n = 1\n",
    "n ^ (n - 1)"
   ]
  },
  {
   "attachments": {},
   "cell_type": "markdown",
   "metadata": {},
   "source": [
    "The code returns `1`, meaning the function will cycle- never returning any value. \n",
    "\n",
    "It appears some fraction of the magic of ChatGPT answers depends on not caring enough to read the answers carefully. The AIs work well in a world where nobody cares about the work. This is part of why they will in fact dominate writing tasks: nobody reads carefully.\n",
    "\n",
    "It isn't just the AI's that are \"hallucinating.\" Some of what they do is to form a **text-mirror** where the scorer is impressed by the training data and image of their own actions."
   ]
  },
  {
   "attachments": {},
   "cell_type": "markdown",
   "metadata": {},
   "source": [
    "For those wondering, the usual trick is `n &= (n - 1)` (and, not xor). This works as it maps `2^k` to zero, which knocks the lowest `1` off the binary representation of `n`. "
   ]
  }
 ],
 "metadata": {
  "kernelspec": {
   "display_name": "base",
   "language": "python",
   "name": "python3"
  },
  "language_info": {
   "codemirror_mode": {
    "name": "ipython",
    "version": 3
   },
   "file_extension": ".py",
   "mimetype": "text/x-python",
   "name": "python",
   "nbconvert_exporter": "python",
   "pygments_lexer": "ipython3",
   "version": "3.11.3"
  },
  "orig_nbformat": 4
 },
 "nbformat": 4,
 "nbformat_minor": 2
}
