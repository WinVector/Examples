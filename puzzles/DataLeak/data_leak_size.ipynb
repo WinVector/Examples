{
 "cells": [
  {
   "cell_type": "markdown",
   "id": "1e8448de",
   "metadata": {},
   "source": [
    "Some follow-up notes for [Don’t Let a Data Leak Sink Your Project](https://win-vector.com/2025/05/05/dont-let-a-data-leak-sink-your-project/).\n",
    "\n",
    "Consider the amount of information leaking from a leader board in the style of <a href=\"https://arxiv.org/abs/1707.01825\">Jacob Whitehill, \"Climbing the Kaggle Leaderboard by Exploiting the Log-Loss Oracle\", arXiv:1707.01825, 6 Jul 2017</a>.\n",
    "\n",
    "Define:\n",
    "\n",
    "  * `m`: the number of labels we expose in our query.\n",
    "  * `c`: the number of categories per label.\n",
    "  * `k`: the number of decimal digits of resolution we see.\n",
    "\n",
    "Let's overly simplify this to we expect the returned score to be in the range `[0, 1]` and we can only tell values apart that differ by at least `10**(-k)`. Then there are `10**k + 1` such values. Let's say this is about `10**k`.\n",
    "\n",
    "To expose `m` labels we need `c**m` values.\n",
    "\n",
    "So we need `c**m <= 10**k`. Thus `m <= k * log(10) / log(c)`. \n",
    "\n",
    "Let's see this bound for `k = 6`, `c = 3`."
   ]
  },
  {
   "cell_type": "code",
   "execution_count": 1,
   "id": "7ce4810a",
   "metadata": {},
   "outputs": [
    {
     "data": {
      "text/plain": [
       "12.575419645736307"
      ]
     },
     "execution_count": 1,
     "metadata": {},
     "output_type": "execute_result"
    }
   ],
   "source": [
    "import numpy as np\n",
    "\n",
    "k = 6\n",
    "c = 3\n",
    "\n",
    "# m-bound\n",
    "k * np.log(10) / np.log(c)"
   ]
  },
  {
   "cell_type": "markdown",
   "id": "dc0f1f0e",
   "metadata": {},
   "source": [
    "So this *very* simple estimate leads us to expect we can expose about 12 labels per query. However, Whitehill's scheme exposed about 6 labels per query.\n",
    "\n",
    "I am going to argue, this it is plausible that 6 is in fact possibly the right number.\n",
    "\n",
    "Part of the over-simplification above we assuming we could design a sum to distribute values nearly uniformly over an interval. Experience with randomized algorithms in fact tells us *if* our weights are in a limited range then we expect a [concentration effect](https://en.wikipedia.org/wiki/Concentration_inequality), where most of the sums are near each other.\n",
    "\n",
    "I don't want to fully model this, but we can approximate this effect using a \"[birthday paradox](https://en.wikipedia.org/wiki/Birthday_problem)\" style argument.\n",
    "\n",
    "We want to encode `c**m` sums as distinct values. This means every pair of values must encode distinctly. Let's use our rounding-level `10**(-k)` as an estimate of the probability of any two values colliding. Now there are `(c**m choose 2)` pairs. So for a randomized construction to have a good chance of finding a good encoding we would want `(c**m choose 2) 10**(-k) < 1`. There is no reason to insist on a simple randomized construction, but it is a useful heuristic to say things become plausible where such constructions work. Solve `(c**m choose 2) 10**(-k) < 1` for `m` by passing to the approximation `c**m c**m / 2 < 10**k` which gives us `m < (log(2) + k log(10)) / (2 log(c))`.\n",
    "\n",
    "Plugging in our same numbers gives us."
   ]
  },
  {
   "cell_type": "code",
   "execution_count": 2,
   "id": "5ee157f6",
   "metadata": {},
   "outputs": [
    {
     "data": {
      "text/plain": [
       "6.6031746996538825"
      ]
     },
     "execution_count": 2,
     "metadata": {},
     "output_type": "execute_result"
    }
   ],
   "source": [
    "# heuristic m bound\n",
    "(np.log(2) + k * np.log(10)) / (2 * np.log(c))"
   ]
  },
  {
   "cell_type": "markdown",
   "id": "b87b7bdc",
   "metadata": {},
   "source": [
    "That is: it is reasonable to expect there is a query plan that exposes 6 hold-out labels per query. This is only a crude heuristic argument and estimate, but is happens to match Whitehill's experience of being able to design a 6 label strategy for this case."
   ]
  }
 ],
 "metadata": {
  "kernelspec": {
   "display_name": "prob_env",
   "language": "python",
   "name": "python3"
  },
  "language_info": {
   "codemirror_mode": {
    "name": "ipython",
    "version": 3
   },
   "file_extension": ".py",
   "mimetype": "text/x-python",
   "name": "python",
   "nbconvert_exporter": "python",
   "pygments_lexer": "ipython3",
   "version": "3.11.9"
  }
 },
 "nbformat": 4,
 "nbformat_minor": 5
}
