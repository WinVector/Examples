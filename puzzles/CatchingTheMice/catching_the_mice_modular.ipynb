{
 "cells": [
  {
   "cell_type": "markdown",
   "metadata": {},
   "source": [
    "# Solution Revenge: Catching the Mice\n",
    "\n",
    "  * John Mount\n",
    "  * Nina Zumel\n",
    "  * https://www.win-vector.com\n",
    "  * October 11, 2024\n",
    "\n",
    "## Introduction\n",
    "\n",
    "We are back, after being beaten by Dudeney's puzzle solving ability (not by the puzzle!). Let's build a more compact pencil and paper method to enumerate essentially all solutions - no holds barred!\n",
    "\n",
    "The puzzle is as follows.\n",
    "\n",
    "<center>\n",
    "<img src=\"mouse_puzzle.png\">\n",
    "</center>\n",
    "\n",
    "And our (legit!) translation of it into equations and legit \"could be done by hand' solution is [here](chatching_the_mice_sieve.ipynb). We strongly suggest reading that first."
   ]
  },
  {
   "cell_type": "markdown",
   "metadata": {},
   "source": [
    "## Solving the problem with modular equations\n",
    "\n",
    "Let `advance` be the number of steps forward the cat takes at each step. We count motion from the first mouse after where we start. We are starting at mouse `0`.\n",
    "\n",
    "\n",
    "To eat the white mouse on the third move, we must not eat it in the first two moves and we must eat the mouse in position 0 at the end of the 3rd move. In our previous note we said this was captured exactly by the following simultaneous nested equations.\n",
    "\n",
    "  * `(advance % 13) != 0`\n",
    "  * `((advance % 13) + advance) % 12 != 0`\n",
    "  * `(((advance % 13) + advance) % 12 + advance) % 11 = 0`.\n",
    "\n",
    "With some effort (for details, please see appendices) this implies the following non-nested equations must hold:\n",
    "\n",
    "  * `(advance % 13) != 0`\n",
    "  * `(advance % 13) + (advance % 12) != 12`\n",
    "  * `(advance % 13) + (advance % 12) + (advance % 11) = 11 or 23`.\n",
    "\n",
    "Note: The de-nesting lemma given in an appendix gives us `(advance % 13) + (advance % 12) + (advance % 11) = 0, 11, 12, or 23`. `0` is eliminated *a priori*, as it would imply `(advance % 13) == 0`, which violates the first check equation. `12` is eliminated through a domain specific argument in an appendix.\n",
    "\n",
    "There are standard methods known in 1908 that can move through groups of solutions to the second non-nested set of equations.\n",
    "\n",
    "In this note we will call the first two non-nested equations \"the basic checks\" and concentrate on the third check `(advance % 13) + (advance % 12) + (advance % 11)`.\n"
   ]
  },
  {
   "cell_type": "markdown",
   "metadata": {},
   "source": [
    "## Notation relating integers to vectors"
   ]
  },
  {
   "cell_type": "code",
   "execution_count": 1,
   "metadata": {},
   "outputs": [],
   "source": [
    "# imports\n",
    "import functools\n",
    "import textwrap\n",
    "import inspect\n",
    "import numpy as np\n",
    "import sympy as sp\n",
    "from sympy.ntheory.modular import crt\n",
    "from IPython.display import Code, display\n",
    "from catching_the_mice_fns import (\n",
    "    check_mice_equations,\n",
    "    check_soln,\n",
    "    find_candidates_11_12_13,\n",
    "    run_cat_process,\n",
    "    WHITE_MOUSE,\n",
    ")"
   ]
  },
  {
   "cell_type": "code",
   "execution_count": 2,
   "metadata": {},
   "outputs": [
    {
     "data": {
      "text/latex": [
       "$\\displaystyle 1716$"
      ],
      "text/plain": [
       "1716"
      ]
     },
     "execution_count": 2,
     "metadata": {},
     "output_type": "execute_result"
    }
   ],
   "source": [
    "# write down our moduli\n",
    "moduli = (11, 12, 13)\n",
    "# for number theory reasons we consider only solutions with different remainders by\n",
    "# the shared_modulus as truly different solutions\n",
    "shared_modulus = functools.reduce(sp.lcm, moduli)\n",
    "assert shared_modulus == 1716  # 11 * 12 * 13\n",
    "\n",
    "shared_modulus"
   ]
  },
  {
   "cell_type": "markdown",
   "metadata": {},
   "source": [
    "For a non-negative integer `x < 1716` we consider `x` to be in one to one correspondence with the integer vector `(x%11, x%12, x%13)`. The reason this is a one to one correspondence, and how to reverse it (move from `(a, b, c)` to a matching `x`) is the content of the [Chinese Remainder Theorem](https://crypto.stanford.edu/pbc/notes/numbertheory/crt.html) or CRT. This method would surely have been known to Dudeney.\n",
    "\n",
    "Throughout this note we will move from integers to vectors and vectors to integers. We will also exploit that the CRT implied mapping preserves additive structure: ie. `x ~ (a, b, c)` and `y ~ (d, e, f)` means\n",
    "```\n",
    "(x + y) % 1716 ~ ((a + d) % 11, (b + e) % 12, (c + f)%13).\n",
    "```"
   ]
  },
  {
   "cell_type": "markdown",
   "metadata": {},
   "source": [
    "### Moving from solution to solution \n",
    "\n",
    "#### 12 is a magic number!\n",
    "\n",
    "We show in the appendix that if `advance` is a valid solution then `advance + 12` is also a valid solution---*if* it doesn't violate the first two check equations. That is to say, when we shift by `12` we don't have to check the third equation (though we must ensure we have not violated any of the first two). The intuition is: `(12 - 1) % 11 = 0`, `(12 - 0) % 12 = 0`, and `(12 + 1) % 13 = 0`. Or in vector form `12 ~ (1, 0, -1)`. Adding `12` to a solution represents moving mass from the length `13` congruence and adding it to the length `11` congruence, preserving the net precession."
   ]
  },
  {
   "cell_type": "markdown",
   "metadata": {},
   "source": [
    "#### Finding another solution to solution move\n",
    "\n",
    "We want a non-negative integer `z` that represents a vector move of `(-1, 1, 0)`. The CRT can find `z`. We will call a function, but Dudeney would have computed this using pencil and paper."
   ]
  },
  {
   "cell_type": "code",
   "execution_count": 3,
   "metadata": {},
   "outputs": [
    {
     "data": {
      "text/plain": [
       "637"
      ]
     },
     "execution_count": 3,
     "metadata": {},
     "output_type": "execute_result"
    }
   ],
   "source": [
    "# write down our desired pattern: ((z + 1) % 11 == 0, (z - 1) % 12 == 0, z % 13 = 0\n",
    "# This is a little confusing but (for the first term) you can think of it as:\n",
    "# \"if (z + 1) behaves like 0, then z behaves like -1\"\n",
    "# hence the equation we are solving is \"-1 = z % 11\"\n",
    "pattern = (-1, 1, 0)\n",
    "# ask the CRT to build v_11, v_12, and v_23\n",
    "delta_m1_p1_0 = int(crt(moduli, pattern)[0])\n",
    "assert delta_m1_p1_0 == 637  # the value we saw last time we calculated this\n",
    "\n",
    "delta_m1_p1_0"
   ]
  },
  {
   "cell_type": "markdown",
   "metadata": {},
   "source": [
    "Note that even though we are applying the CRT by calling a `sympy` function, the algorithm is quite [straightforward (if perhaps a little tedious) to execute by hand](https://youtu.be/ru7mWZJlRQg?si=pkHK-1wb9C1nl-Qa), as Dudeney would have done. Now let's confirm that this solution gives us the pattern we want."
   ]
  },
  {
   "cell_type": "code",
   "execution_count": 4,
   "metadata": {},
   "outputs": [
    {
     "data": {
      "text/plain": [
       "(0, 0, 0)"
      ]
     },
     "execution_count": 4,
     "metadata": {},
     "output_type": "execute_result"
    }
   ],
   "source": [
    "# confirm pattern\n",
    "residuals_from_pattern = (\n",
    "    (delta_m1_p1_0 + 1) % 11,\n",
    "    (delta_m1_p1_0 - 1) % 12,\n",
    "    delta_m1_p1_0 % 13,\n",
    ")\n",
    "assert residuals_from_pattern == (0, 0, 0)\n",
    "\n",
    "residuals_from_pattern"
   ]
  },
  {
   "cell_type": "markdown",
   "metadata": {},
   "source": [
    "We prepare a table of known solution to solution moves as follows. "
   ]
  },
  {
   "cell_type": "code",
   "execution_count": 5,
   "metadata": {},
   "outputs": [
    {
     "data": {
      "text/plain": [
       "{(1, 0, -1): 12, (-1, 1, 0): 637, (0, 1, -1): 649}"
      ]
     },
     "execution_count": 5,
     "metadata": {},
     "output_type": "execute_result"
    }
   ],
   "source": [
    "# encode what we need about moving from solution to solution\n",
    "d_vectors = {\n",
    "    (1, 0, -1): 12,\n",
    "    (-1, 1, 0): delta_m1_p1_0,\n",
    "}\n",
    "# add the two together to get a third solution-to-solution move\n",
    "d_vectors[(0, 1, -1)] = (d_vectors[(1, 0, -1)] + d_vectors[(-1, 1, 0)]) % shared_modulus\n",
    "\n",
    "d_vectors"
   ]
  },
  {
   "cell_type": "markdown",
   "metadata": {},
   "source": [
    "We claim:\n",
    "\n",
    "**If** `x ~ (a, b, c)` is a puzzle solution and `delta` is from our `d_vectors` table such that `delta ~ (d, e, f)`:\n",
    "\n",
    "  **Then** `(x + delta) % 1716 ~ ((a + d) % 11, (b + e) % 12, (c + f) % 13)` is also a puzzle solution (unless a boundary check fails).\n",
    "\n",
    "**Because** `(x + delta) % 11 + (x + delta) % 12 + (x + delta) % 13 = a + b + c`\n"
   ]
  },
  {
   "cell_type": "markdown",
   "metadata": {},
   "source": [
    "We now, subject to confirmation in the appendix, have systematic ways to move from solution to solution."
   ]
  },
  {
   "cell_type": "markdown",
   "metadata": {},
   "source": [
    "### Putting solutions together quickly\n",
    "\n",
    "It is easy to enumerate all `advance > 0` such that `(advance % 13) + (advance % 12) + (advance % 11)` equal to a given sum. We will use this enumeration to in turn find all solutions to the nested version of the catching the mice problem `((advance % 13) + advance % 12) + advance) % 11` in a pencil and paper friendly manner."
   ]
  },
  {
   "cell_type": "markdown",
   "metadata": {},
   "source": [
    "We must arrange the order that we enumerate solutions to respect the first two \"easy checks\":\n",
    "\n",
    "  * `(advance + d) % 13 != 0`\n",
    "  * `((advance + d) % 13 + advance + d) % 12 != 0`\n",
    "\n",
    "When we ensure this we get the complicated 3rd check for free. Some notes on this are in the appendix. With the assurances from these checks, we can enumerate all solutions."
   ]
  },
  {
   "cell_type": "markdown",
   "metadata": {},
   "source": [
    "### Finding all the solutions\n",
    "\n",
    "Let's find all the solutions.\n",
    "\n"
   ]
  },
  {
   "cell_type": "markdown",
   "metadata": {},
   "source": [
    "#### The `x%13 + x%12 + x%11 = 11` case \n",
    "For the cases where `x%13 + x%12 + x%11 = 11` we run through solution vectors, of the form `(x%11, x%12, x%13)`\n",
    "\n",
    "  * We start with a solution `x` of vector form `(0, 0, 11)`. `x = 1584` can be found by the CRT.\n",
    "  * Run through solutions corresponding to vectors: `(0, 0, 11)`, `(0, 1, 10)`, ..., `(0, 10, 1)` by examining `(x + a * 649) % 1716` (`649` being the value from the `d_vectors` table that moves mass from third vector position to the second vector position).\n",
    "  * For each such solution `y = (x + a * 649) % 1716` we look at more solutions of the form `(y + b * 12) % 1716` for more solutions. Note: this moves mass into the first position of our vectors.\n",
    "\n",
    "A pencil and paper solver could quickly write out the following ledger of results. In fact the procedure is easier to execute than to describe."
   ]
  },
  {
   "cell_type": "code",
   "execution_count": 6,
   "metadata": {},
   "outputs": [
    {
     "name": "stdout",
     "output_type": "stream",
     "text": [
      "solutions to ((x%13 + x)%12 + x)%11 = 0 such that (x%13) + (x%12) + (x%11) = 11\n",
      "vector notation: (soln % 11, soln % 12, soln % 13)\n",
      "start: (0, 0, 11) -> \u001b[1m1584\u001b[0m\n",
      "  more solution(s) (by +12 rule): \u001b[1m1596\u001b[0m, \u001b[1m1608\u001b[0m, \u001b[1m1620\u001b[0m, \u001b[1m1632\u001b[0m, \u001b[1m1644\u001b[0m, \u001b[1m1656\u001b[0m, \u001b[1m1668\u001b[0m, \u001b[1m1680\u001b[0m, \u001b[1m1692\u001b[0m, \u001b[1m1704\u001b[0m\n",
      "step: (0, 1, 10) -> 1584 + 649 = 2233 =(-1*1716)= \u001b[1m517\u001b[0m\n",
      "  more solution(s) (by +12 rule): \u001b[1m529\u001b[0m, \u001b[1m541\u001b[0m, \u001b[1m553\u001b[0m, \u001b[1m565\u001b[0m, \u001b[1m577\u001b[0m, \u001b[1m589\u001b[0m, \u001b[1m601\u001b[0m, \u001b[1m613\u001b[0m, \u001b[1m625\u001b[0m\n",
      "step: (0, 2, 9) -> 517 + 649 = \u001b[1m1166\u001b[0m\n",
      "  more solution(s) (by +12 rule): \u001b[1m1178\u001b[0m, \u001b[1m1190\u001b[0m, \u001b[1m1202\u001b[0m, \u001b[1m1214\u001b[0m, \u001b[1m1226\u001b[0m, \u001b[1m1238\u001b[0m, \u001b[1m1250\u001b[0m, \u001b[1m1262\u001b[0m\n",
      "step: (0, 3, 8) -> 1166 + 649 = 1815 =(-1*1716)= \u001b[1m99\u001b[0m\n",
      "  more solution(s) (by +12 rule): \u001b[1m111\u001b[0m, \u001b[1m123\u001b[0m, \u001b[1m135\u001b[0m, \u001b[1m147\u001b[0m, \u001b[1m159\u001b[0m, \u001b[1m171\u001b[0m, \u001b[1m183\u001b[0m\n",
      "step: (0, 4, 7) -> 99 + 649 = \u001b[1m748\u001b[0m\n",
      "  more solution(s) (by +12 rule): \u001b[1m760\u001b[0m, \u001b[1m772\u001b[0m, \u001b[1m784\u001b[0m, \u001b[1m796\u001b[0m, \u001b[1m808\u001b[0m, \u001b[1m820\u001b[0m\n",
      "step: (0, 5, 6) -> 748 + 649 = \u001b[1m1397\u001b[0m\n",
      "  more solution(s) (by +12 rule): \u001b[1m1409\u001b[0m, \u001b[1m1421\u001b[0m, \u001b[1m1433\u001b[0m, \u001b[1m1445\u001b[0m, \u001b[1m1457\u001b[0m\n",
      "step: (0, 6, 5) -> 1397 + 649 = 2046 =(-1*1716)= \u001b[1m330\u001b[0m\n",
      "  more solution(s) (by +12 rule): \u001b[1m342\u001b[0m, \u001b[1m354\u001b[0m, \u001b[1m366\u001b[0m, \u001b[1m378\u001b[0m\n",
      "step: (0, 7, 4) -> 330 + 649 = \u001b[1m979\u001b[0m\n",
      "  more solution(s) (by +12 rule): \u001b[1m991\u001b[0m, \u001b[1m1003\u001b[0m, \u001b[1m1015\u001b[0m\n",
      "step: (0, 8, 3) -> 979 + 649 = \u001b[1m1628\u001b[0m\n",
      "  more solution(s) (by +12 rule): \u001b[1m1640\u001b[0m, \u001b[1m1652\u001b[0m\n",
      "step: (0, 9, 2) -> 1628 + 649 = 2277 =(-1*1716)= \u001b[1m561\u001b[0m\n",
      "  more solution(s) (by +12 rule): \u001b[1m573\u001b[0m\n",
      "step: (0, 10, 1) -> 561 + 649 = \u001b[1m1210\u001b[0m\n"
     ]
    }
   ],
   "source": [
    "solns_11 = find_candidates_11_12_13(11, d_vectors=d_vectors)"
   ]
  },
  {
   "cell_type": "markdown",
   "metadata": {},
   "source": [
    "#### The `x%13 + x%12 + x%11 = 23` case \n",
    "\n",
    "We finish by running inspection process for the case when `x%13 + x%12 + x%11 = 23`, finding the remaining solutions. Again we imagine doing this by hand."
   ]
  },
  {
   "cell_type": "code",
   "execution_count": 7,
   "metadata": {},
   "outputs": [
    {
     "name": "stdout",
     "output_type": "stream",
     "text": [
      "solutions to ((x%13 + x)%12 + x)%11 = 0 such that (x%13) + (x%12) + (x%11) = 23\n",
      "vector notation: (soln % 11, soln % 12, soln % 13)\n",
      "start: (10, 1, 12) -> \u001b[1m1429\u001b[0m\n",
      "step: (9, 2, 12) -> 1429 + 637 = 2066 =(-1*1716)= \u001b[1m350\u001b[0m\n",
      "  more solution(s) (by +12 rule): \u001b[1m362\u001b[0m\n",
      "step: (8, 3, 12) -> 350 + 637 = \u001b[1m987\u001b[0m\n",
      "  more solution(s) (by +12 rule): \u001b[1m999\u001b[0m, \u001b[1m1011\u001b[0m\n",
      "step: (7, 4, 12) -> 987 + 637 = \u001b[1m1624\u001b[0m\n",
      "  more solution(s) (by +12 rule): \u001b[1m1636\u001b[0m, \u001b[1m1648\u001b[0m, \u001b[1m1660\u001b[0m\n",
      "step: (6, 5, 12) -> 1624 + 637 = 2261 =(-1*1716)= \u001b[1m545\u001b[0m\n",
      "  more solution(s) (by +12 rule): \u001b[1m557\u001b[0m, \u001b[1m569\u001b[0m, \u001b[1m581\u001b[0m, \u001b[1m593\u001b[0m\n",
      "step: (5, 6, 12) -> 545 + 637 = \u001b[1m1182\u001b[0m\n",
      "  more solution(s) (by +12 rule): \u001b[1m1194\u001b[0m, \u001b[1m1206\u001b[0m, \u001b[1m1218\u001b[0m, \u001b[1m1230\u001b[0m, \u001b[1m1242\u001b[0m\n",
      "step: (4, 7, 12) -> 1182 + 637 = 1819 =(-1*1716)= \u001b[1m103\u001b[0m\n",
      "  more solution(s) (by +12 rule): \u001b[1m115\u001b[0m, \u001b[1m127\u001b[0m, \u001b[1m139\u001b[0m, \u001b[1m151\u001b[0m, \u001b[1m163\u001b[0m, \u001b[1m175\u001b[0m\n",
      "step: (3, 8, 12) -> 103 + 637 = \u001b[1m740\u001b[0m\n",
      "  more solution(s) (by +12 rule): \u001b[1m752\u001b[0m, \u001b[1m764\u001b[0m, \u001b[1m776\u001b[0m, \u001b[1m788\u001b[0m, \u001b[1m800\u001b[0m, \u001b[1m812\u001b[0m, \u001b[1m824\u001b[0m\n",
      "step: (2, 9, 12) -> 740 + 637 = \u001b[1m1377\u001b[0m\n",
      "  more solution(s) (by +12 rule): \u001b[1m1389\u001b[0m, \u001b[1m1401\u001b[0m, \u001b[1m1413\u001b[0m, \u001b[1m1425\u001b[0m, \u001b[1m1437\u001b[0m, \u001b[1m1449\u001b[0m, \u001b[1m1461\u001b[0m, \u001b[1m1473\u001b[0m\n",
      "step: (1, 10, 12) -> 1377 + 637 = 2014 =(-1*1716)= \u001b[1m298\u001b[0m\n",
      "  more solution(s) (by +12 rule): \u001b[1m310\u001b[0m, \u001b[1m322\u001b[0m, \u001b[1m334\u001b[0m, \u001b[1m346\u001b[0m, \u001b[1m358\u001b[0m, \u001b[1m370\u001b[0m, \u001b[1m382\u001b[0m, \u001b[1m394\u001b[0m, \u001b[1m406\u001b[0m\n",
      "step: (0, 11, 12) -> 298 + 637 = \u001b[1m935\u001b[0m\n",
      "  more solution(s) (by +12 rule): \u001b[1m947\u001b[0m, \u001b[1m959\u001b[0m, \u001b[1m971\u001b[0m, \u001b[1m983\u001b[0m, \u001b[1m995\u001b[0m, \u001b[1m1007\u001b[0m, \u001b[1m1019\u001b[0m, \u001b[1m1031\u001b[0m, \u001b[1m1043\u001b[0m, \u001b[1m1055\u001b[0m\n"
     ]
    }
   ],
   "source": [
    "solns_23 = find_candidates_11_12_13(23, d_vectors=d_vectors)"
   ]
  },
  {
   "cell_type": "markdown",
   "metadata": {},
   "source": [
    "#### The solutions\n",
    "\n",
    "The returned solutions are the following integers, which can be mined from the ledger."
   ]
  },
  {
   "cell_type": "code",
   "execution_count": 8,
   "metadata": {},
   "outputs": [
    {
     "name": "stdout",
     "output_type": "stream",
     "text": [
      "[1584, 1596, 1608, 1620, 1632, 1644, 1656, 1668, 1680, 1692, 1704,\n",
      "517, 529, 541, 553, 565, 577, 589, 601, 613, 625, 1166, 1178, 1190,\n",
      "1202, 1214, 1226, 1238, 1250, 1262, 99, 111, 123, 135, 147, 159, 171,\n",
      "183, 748, 760, 772, 784, 796, 808, 820, 1397, 1409, 1421, 1433, 1445,\n",
      "1457, 330, 342, 354, 366, 378, 979, 991, 1003, 1015, 1628, 1640, 1652,\n",
      "561, 573, 1210, 1429, 350, 362, 987, 999, 1011, 1624, 1636, 1648,\n",
      "1660, 545, 557, 569, 581, 593, 1182, 1194, 1206, 1218, 1230, 1242,\n",
      "103, 115, 127, 139, 151, 163, 175, 740, 752, 764, 776, 788, 800, 812,\n",
      "824, 1377, 1389, 1401, 1413, 1425, 1437, 1449, 1461, 1473, 298, 310,\n",
      "322, 334, 346, 358, 370, 382, 394, 406, 935, 947, 959, 971, 983, 995,\n",
      "1007, 1019, 1031, 1043, 1055]\n"
     ]
    }
   ],
   "source": [
    "all_solutions = solns_11 + solns_23\n",
    "assert len(all_solutions) == len(set(all_solutions))\n",
    "\n",
    "print(\"\\n\".join(textwrap.wrap(str(all_solutions))))"
   ]
  },
  {
   "cell_type": "markdown",
   "metadata": {},
   "source": [
    "Notice we are not sorting the solutions- as that isn't a pleasant pencil and paper step. We can get away with not sorting, as we won't have duplicate solutions we need to eliminate."
   ]
  },
  {
   "cell_type": "markdown",
   "metadata": {},
   "source": [
    "## The official solution\n",
    "\n",
    "Let's get back to the official solution that made us wonder if Dudeney used a sieve method (as we speculated in our first solution), or did something a bit flashier.\n",
    "\n",
    "<img src=\"mouse_answer.png\">\n",
    "\n",
    "We can confirm all claims in the solution writeup.\n",
    "\n",
    "First the values `100 - 1` and `1000 - 1` (remember we are numbering one less than Dudeney) are indeed solutions that we found."
   ]
  },
  {
   "cell_type": "code",
   "execution_count": 9,
   "metadata": {},
   "outputs": [],
   "source": [
    "assert 99 in all_solutions\n",
    "assert 999 in all_solutions"
   ]
  },
  {
   "cell_type": "markdown",
   "metadata": {},
   "source": [
    "And, `100 - 1` is indeed the smallest solution."
   ]
  },
  {
   "cell_type": "code",
   "execution_count": 10,
   "metadata": {},
   "outputs": [],
   "source": [
    "assert 99 == np.min(all_solutions)"
   ]
  },
  {
   "cell_type": "markdown",
   "metadata": {},
   "source": [
    "We confirm there are exactly 72 more solutions in the interior of the claimed interval."
   ]
  },
  {
   "cell_type": "code",
   "execution_count": 11,
   "metadata": {},
   "outputs": [
    {
     "data": {
      "text/plain": [
       "72"
      ]
     },
     "execution_count": 11,
     "metadata": {},
     "output_type": "execute_result"
    }
   ],
   "source": [
    "n_interior = len([si for si in all_solutions if (si > 99) and (si < 999)])\n",
    "assert n_interior == 72\n",
    "\n",
    "n_interior"
   ]
  },
  {
   "cell_type": "markdown",
   "metadata": {},
   "source": [
    "There, we didn't have to sieve through 1000 candidates to confirm Dudeney's result. We can also be overly clever."
   ]
  },
  {
   "cell_type": "markdown",
   "metadata": {},
   "source": [
    "## Comments\n",
    "\n",
    "Puzzle solving is problem solving. With the right puzzles you are able to try methods on essential difficulties, while putting off dealing with many inessential difficulties. A good puzzle can be a rehearsal for future good work.\n",
    "\n",
    "This problem has more mathematical structure than we expect in magazine puzzles. We believe one big trick is realizing solutions may be a number much larger than 13. \n",
    "\n",
    "The \"archeology\" of how could this have been solved at the time really appealed to us. To us the problem stank of number theory. Our first guess was some sort of [sieve method](https://en.wikipedia.org/wiki/Sieve_of_Eratosthenes) crossing out non-solutions. This works and can quickly find the smallest solution. However, it seemed unlikely someone would run the Sieve up through 1000 to get the further claims in the answer. After seeing the claim of counting solutions (which is typically hard) we settled on methodologies that step through solutions, or even better step over groups of solutions.\n",
    "\n",
    "Nina worked through a technique of re-writing the nested equations as case based simultaneous equations. This felt similar to the solutions to [100 Bushels of Corn](https://ninazumel.com/blog/2024-09-26-100bushels/). It feels like the current writeup may be a shorter approach, as it uses the conditions on neighboring solutions to specify cases. John originally found the solution shift `12` from the CRT, and only later noticed that it is \"an obvious thing to consider.\"\n",
    "\n",
    "There is a risk that CRT was not quite the right tool, leading to larger than desired writeup. However, CRT seems so close to the problem.\n",
    "\n",
    "A modern reader might also try a dynamic programming table to break down the problem."
   ]
  },
  {
   "cell_type": "markdown",
   "metadata": {},
   "source": [
    "## More in this mathematical puzzles series\n",
    "\n",
    "This puzzle turned out to be a bit harder than we anticipated. More friendly puzzles in this series include:\n",
    "\n",
    "  * [100 Bushels of Corn](https://ninazumel.com/blog/2024-09-26-100bushels/)\n",
    "  * [Solving 100 Bushels Using Matrix Factorization](https://win-vector.com/2024/09/29/solving-100-bushels-using-matrix-factorization/)\n",
    "  * [Bachet’s Four Weights Problem](https://ninazumel.com/blog/2024-09-29-four-weights/)\n",
    "  * [The Perplexed Banker](https://ninazumel.com/blog/2024-10-03-perplexed-banker/)\n",
    "  * [Dudeney’s Remainder Problem](https://win-vector.com/2024/10/06/dudeneys-remainder-problem/)\n",
    "  * [Coin Puzzles](https://ninazumel.com/blog/2024-10-08-coin-puzzles/)\n",
    "  * [The Wine Thief Problem](https://ninazumel.com/blog/2024-10-10-wine-thief/)"
   ]
  },
  {
   "cell_type": "markdown",
   "metadata": {},
   "source": [
    "## Appendices"
   ]
  },
  {
   "cell_type": "markdown",
   "metadata": {},
   "source": [
    "### Brute force \n",
    "\n",
    "As we *do* have a computer handy, we might as well confirm all of our calculations by brute force. This is the solution strategy engineers would pursue- run the actual procedure for many different proposed d_vectors (perhaps using markers or tokens). It is also an excellent method, as it requires little code, few tools, few assumptions, and is easy to check. It just wouldn't be available in 1908 for a non-valuable problem."
   ]
  },
  {
   "cell_type": "code",
   "execution_count": 12,
   "metadata": {},
   "outputs": [],
   "source": [
    "# brute force check all solutions and non-solutions\n",
    "for advance in all_solutions:\n",
    "    assert check_soln(run_cat_process(start=0, advance=advance, k=3))\n",
    "for advance in set(range(shared_modulus + 1)) - set(all_solutions):\n",
    "    assert not check_soln(run_cat_process(start=0, advance=advance, k=3))\n",
    "for advance in range(0, shared_modulus + 2):\n",
    "    is_soln = check_soln(run_cat_process(start=0, advance=advance, k=3))\n",
    "    check_1 = check_mice_equations(advance)\n",
    "    assert is_soln == check_1"
   ]
  },
  {
   "cell_type": "markdown",
   "metadata": {},
   "source": [
    "### Code\n",
    "\n",
    "The Python functions used are [here](catching_the_mice_fns.py)."
   ]
  },
  {
   "cell_type": "markdown",
   "metadata": {},
   "source": [
    "## Confirming the check equations"
   ]
  },
  {
   "cell_type": "markdown",
   "metadata": {},
   "source": [
    "### The de-nesting lemma\n",
    "\n",
    "\n",
    "Lemma 1: De-Nesting Lemma\n",
    "\n",
    "<pre>\n",
    "  Take integer <code>a > 1</code> and non-negative integers <code>c</code>, <code>x</code>, <code>y</code> with <code>c &lt; a</code>.\n",
    "  \n",
    "  Define:\n",
    "\n",
    "    <code>N = (x % (a + 1) + y) % a</code>\n",
    "    <code>S = (x % (a + 1)) + (y % a)</code>\n",
    "\n",
    "\n",
    "  Then <code>N = c</code> <em>if and only if</em> <code>S = c or c + a</code>.\n",
    "</pre>\n",
    "\n",
    "Proof:\n",
    "\n",
    "<pre>\n",
    "  Consider <code>S - N</code>. Proving the following three claims implies the result.\n",
    "  To do this we need to perform some simplifications the are only true inside a \"modulo a\" context\n",
    "  and some different simplifications that are true outside that context.\n",
    "\n",
    "  1) Show <code>S - N &ge; 0</code>:\n",
    "       <code>S - N\n",
    "          = (x % (a + 1)) + (y % a) - (x % (a + 1) + y) % a\n",
    "          &ge; ((x % (a + 1)) + (y % a)) % a - (x % (a + 1) + y) % a\n",
    "          = (x % (a + 1) + y) % a - (x % (a + 1) + y) % a\n",
    "          = 0</code>\n",
    "  2) Show <code>S - N &le; a</code>:\n",
    "       <code>S - N\n",
    "          = (x % (a + 1)) + (y % a) - (x % (a + 1) + y) % a\n",
    "          &le; (x % (a + 1)) + (y % a) - (x % (a + 1)) % a - (y % a)\n",
    "          = (x % (a + 1)) - (x % (a + 1)) % a\n",
    "          = 0 or a</code>   (Note: we have not <em>yet</em> established <code>S - N = 0 or a</code> due to the <code>&le;</code> step.)\n",
    "  3) Show <code>(S - N) % a = 0</code>:\n",
    "       <code>(S - N) % a\n",
    "          = ((x % (a + 1)) + (y % a) - (x % (a + 1) + y) % a) % a\n",
    "          = ((x % (a + 1)) + (y % a) - x % (a + 1) - (y % a)) % a\n",
    "          = 0 % a\n",
    "          = 0</code>\n",
    "\n",
    "  QED\n",
    "</pre>"
   ]
  },
  {
   "cell_type": "markdown",
   "metadata": {},
   "source": [
    "### Applying the de-nesting lemma\n",
    "\n",
    "We want to relate `(((d % 13) + d) % 12 + d) % 11` to `(d % 13) + (d % 12) + (d % 11)`.\n",
    "\n",
    "Write:\n",
    "\n",
    "  * `N = ((d % 13) + d) % 12` by the de-nesting lemma we know that `(d % 13) + (d % 12) = N or N + 12`.\n",
    "  * `M = ((N % 12) + d) % 11` by the de-nesting lemma we know that `(N % 12) + (d % 11) = M or M + 11`.\n",
    "  * Then:\n",
    "    * `(((d % 13) + d) % 12 + d) % 11`\n",
    "    * `  = ((N % 12) + d) % 11`\n",
    "    * `  = (N % 12) + (d % 11) - (0 or 11)`\n",
    "    * `  = N + (d % 11) - (0 or 11)`\n",
    "    * `  = ((d % 13) + d) % 12 + (d % 11) - 0 or 11`\n",
    "    * `  = (d % 13) + (d % 12) - (0 or 12) + (d % 11) - (0 or 11)`\n",
    "    * `  = (d % 13) + (d % 12) + (d % 11) - (0, 11, 12, or 23)`\n",
    "\n",
    "This give us the desired `(((d % 13) + d) % 12 + d) % 11 = 0` implies `(d % 13) + (d % 12) + (d % 11) = 0, 11, 12, or 23`.\n",
    "\n",
    "If `(d % 13) + (d % 12) + (d % 11) = 0` then `(d % 13) = 0` (as all the terms in the sum are non-negative). `(d % 13) = 0` is prohibited in our application, allowing us to ignore that case.\n",
    "\n",
    "There also are no solutions to the mice problem with `(d % 13) + (d % 12) + (d % 11) = 12`. And the example `d = 1453` demostrates this."
   ]
  },
  {
   "cell_type": "markdown",
   "metadata": {},
   "source": [
    "#### The `1453` counter example\n",
    "\n",
    "`d = 1453` shows that the `(d % 13) + (d % 12) + (d % 11) = 12` candidates include non-solutions. We show this by a failing example here. We show there are in fact no solutions with `(d % 13) + (d % 12) + (d % 11) = 12` in a later appendix."
   ]
  },
  {
   "cell_type": "code",
   "execution_count": 13,
   "metadata": {},
   "outputs": [
    {
     "data": {
      "text/plain": [
       "(10, 11, 12)"
      ]
     },
     "execution_count": 13,
     "metadata": {},
     "output_type": "execute_result"
    }
   ],
   "source": [
    "# linearized checks\n",
    "lc_1453 = (\n",
    "    (1453 % 13),  # not zero, as we want\n",
    "    (1453 % 13) + (1453 % 12),  # not zero, as we want\n",
    "    (1453 % 13) + (1453 % 12) + (1453 % 11),  # 12, which turns out to not imply 0 on the nested checks\n",
    ")\n",
    "assert lc_1453[0] != 0\n",
    "assert lc_1453[1] != 0\n",
    "assert lc_1453[2] == 12\n",
    "\n",
    "lc_1453"
   ]
  },
  {
   "cell_type": "code",
   "execution_count": 14,
   "metadata": {},
   "outputs": [
    {
     "data": {
      "text/plain": [
       "('black mouse 10', 'black mouse 12', 'black mouse 1')"
      ]
     },
     "execution_count": 14,
     "metadata": {},
     "output_type": "execute_result"
    }
   ],
   "source": [
    "# confirm non-solution\n",
    "traj_1453 = run_cat_process(start=0, advance=1453, k=3)\n",
    "assert not check_mice_equations(1453)\n",
    "\n",
    "traj_1453"
   ]
  },
  {
   "cell_type": "markdown",
   "metadata": {},
   "source": [
    "### Confirming the shift claims\n",
    "\n",
    "For all shift claims we going to assume both `d` and `d + shift` obey all the basic check conditions (prior to the 3rd check condition):\n",
    "\n",
    "  * `d > 0`\n",
    "  * `(d % 13) != 0`\n",
    "  * `((d % 13) + d) % 12 != 0`\n",
    "  *  `(d + shift) > 0`\n",
    "  * `((d + shift) % 13) != 0`\n",
    "  * `(((d + shift) % 13) + (d + shift)) % 12 != 0`\n",
    "\n",
    "And that `d` is a valid solution:\n",
    "\n",
    "  * `(((d % 13) + d) % 12 + d) = 0`\n",
    "\n",
    "In all cases we wil show all of the above can be combined to show:\n",
    "\n",
    " * `((((d + shift) % 13) + (d + shift)) % 12 + (d + shift)) = 0`\n",
    "\n",
    "I.e.: `d + shift` is also a valid solution. We can assume `shift >= 0` and `shift` isn't too large, as a negative shift can be re-mapped to `shift % 1716`.\n",
    " "
   ]
  },
  {
   "cell_type": "markdown",
   "metadata": {},
   "source": [
    "#### Confirming the shift by `12` claim\n",
    "\n",
    "Given the above assumptions we will show `d + 12` is a valid solution.\n",
    "\n",
    "<pre>\n",
    "<code>(((d + 12)%13 + (d + 12))%12 + (d + 12))%11</code>\n",
    "<code>  = (((d - 1)%13 + d)%12 + d + 1)%11</code>\n",
    "<code>  = ((d%13 - 1 + d)%12 + d + 1)%11</code> (valid because by check conditions <code>d > 0</code> and <code>d % 13 > 0</code>)\n",
    "<code>  = ((d%13 + d)%12 - 1 + d + 1)%11</code> (valid because by check condition <code>((d % 13) + d) % 12 > 0</code>)\n",
    "<code>  = ((d%13 + d)%12 + d)%11</code>\n",
    "<code>  = 0</code> (as `d` already meets all our check conditions)\n",
    "</pre>\n",
    "\n",
    "Note: as we have all the basic checks for `d` and `d + 12` in our assumptions. We can reverse this argument and show `d + 12` a solution implies `d` is a solution (when the basic checks hold)."
   ]
  },
  {
   "cell_type": "markdown",
   "metadata": {},
   "source": [
    "#### Confirming the shift by `637` claim\n",
    "\n",
    "Given the above assumptions we will show `d + 637` is a valid solution.\n",
    "\n",
    "<pre>\n",
    "<code>(((d + 637)%13 + (d + 637))%12 + (d + 637))%11</code>\n",
    "<code>  = ((d%13 + d + 1)%12 + d - 1)%11</code>\n",
    "<code>  = ((d%13 + d)%12 + 1 + d - 1)%11</code> (requires <code>(d%13 + d)%12 != 11</code>, implied by our conditions).\n",
    "<code>  = ((d%13 + d)%12 + d)%11</code>\n",
    "<code>  = 0</code> (as <code>d</code> already meets all our check conditions)\n",
    "</pre>\n",
    "\n",
    "Note: as we have all the basic checks for `d` and `d + 12` in our assumptions. We can reverse this argument and show `d + 637` a solution implies `d` is a solution (when the basic checks hold)."
   ]
  },
  {
   "cell_type": "markdown",
   "metadata": {},
   "source": [
    "#### Confirming the shift by `649` claim\n",
    "\n",
    "This is as transitive implication of the previous two claims, as we can write `649 = 12 + 637`. This is using the fact that we have the same linear structure in solution integers and solution vectors."
   ]
  },
  {
   "cell_type": "markdown",
   "metadata": {},
   "source": [
    "### Eliminating the `x%13 + x%12 + x%11 = 12` case \n",
    "\n",
    "When `x%13 + x%12 + x%11 = 12`, there are no solutions. \n",
    "\n",
    "We can establish this quickly.\n",
    "\n",
    "Consider all `x` such that `x` is a solution to the catching mice problem with `x%13 + x%12 + x%11 = 12`. First we show `x%11 < 10` for any such solution. By our other conditions, the only possible only solutions with `x%11 >= 10` have `(x%11, x%12, x%13) = (10, 0, 2) or (10, 1, 1)`. It turns out neither of these is a valid solution as we show here.\n"
   ]
  },
  {
   "cell_type": "code",
   "execution_count": 15,
   "metadata": {},
   "outputs": [
    {
     "data": {
      "text/plain": [
       "('black mouse 2', 'black mouse 3', 'black mouse 1')"
      ]
     },
     "execution_count": 15,
     "metadata": {},
     "output_type": "execute_result"
    }
   ],
   "source": [
    "traj_912 = run_cat_process(start=0, advance=int(crt(moduli, (10, 0, 2))[0]), k=3)\n",
    "assert not check_soln(traj_912)\n",
    "\n",
    "traj_912"
   ]
  },
  {
   "cell_type": "code",
   "execution_count": 16,
   "metadata": {},
   "outputs": [
    {
     "data": {
      "text/plain": [
       "('black mouse 1', 'black mouse 3', 'black mouse 2')"
      ]
     },
     "execution_count": 16,
     "metadata": {},
     "output_type": "execute_result"
    }
   ],
   "source": [
    "traj_1561 = run_cat_process(start=0, advance=int(crt(moduli, (10, 1, 1))[0]), k=3)\n",
    "assert not check_soln(traj_1561)\n",
    "\n",
    "traj_1561"
   ]
  },
  {
   "cell_type": "markdown",
   "metadata": {},
   "source": [
    "Suppose `x` is a solution with `x%13 + x%12 + x%11 = 12` and `x%11` maximal. This would imply that at least one of `x -> (x + 12) % 1716` or `x -> (x - 637) % 1716` is a valid solution to valid solution move stealing mass from one of `x%12` or `x%13` and adding it to `x%11`. As `x%11 <= 9` we know that we have room to add more mass to `x%11`. We also know either `x%12 > 0` or `x%13 > 1`, so at least one of them has mass to spare without violating any of the basic check equations. However applying either move increases `x%11`, contradicting the supposed maximality. Therefore there are no solutions with `x%13 + x%12 + x%11 = 12`.\n"
   ]
  }
 ],
 "metadata": {
  "kernelspec": {
   "display_name": "prob_env",
   "language": "python",
   "name": "python3"
  },
  "language_info": {
   "codemirror_mode": {
    "name": "ipython",
    "version": 3
   },
   "file_extension": ".py",
   "mimetype": "text/x-python",
   "name": "python",
   "nbconvert_exporter": "python",
   "pygments_lexer": "ipython3",
   "version": "3.11.9"
  }
 },
 "nbformat": 4,
 "nbformat_minor": 2
}
