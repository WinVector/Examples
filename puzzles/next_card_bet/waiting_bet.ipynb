{
 "cells": [
  {
   "cell_type": "markdown",
   "metadata": {},
   "source": [
    "Don't bet until pure calculation.\n",
    "\n",
    "To show the return is as expected we need the lemma that: $\\sum_{s = 1}^{k} {2 k - s - 1 \\choose k - 1} 2^{s}  = 2^{2 k - 1}$.  This can be proven, but it isn't short without assuming a lot of identities (and the LLMs make up short false proofs).  Likely Newton's strong forms of the Binomial theorem are among the quicker non-specialist paths."
   ]
  },
  {
   "cell_type": "code",
   "execution_count": 1,
   "metadata": {},
   "outputs": [],
   "source": [
    "import numpy as np\n",
    "from scipy.special import comb"
   ]
  },
  {
   "cell_type": "markdown",
   "metadata": {},
   "source": [
    "Empirically confirm $\\sum_{s = 1}^{k} {2 k - s - 1 \\choose k - 1} 2^{s}  = 2^{2 k - 1}$."
   ]
  },
  {
   "cell_type": "code",
   "execution_count": 2,
   "metadata": {},
   "outputs": [],
   "source": [
    "def comb_sum(k: int):\n",
    "    return np.sum([comb(2 * k - s - 1, k - 1, exact=True) * 2**s for s in range(1, k + 1)])"
   ]
  },
  {
   "cell_type": "code",
   "execution_count": 3,
   "metadata": {},
   "outputs": [],
   "source": [
    "def fn_form(k: int):\n",
    "    return 2**(2 * k - 1)"
   ]
  },
  {
   "cell_type": "code",
   "execution_count": 4,
   "metadata": {},
   "outputs": [
    {
     "name": "stdout",
     "output_type": "stream",
     "text": [
      "(1, 2, 2)\n",
      "(2, 8, 8)\n",
      "(3, 32, 32)\n",
      "(4, 128, 128)\n",
      "(5, 512, 512)\n",
      "(6, 2048, 2048)\n",
      "(7, 8192, 8192)\n",
      "(8, 32768, 32768)\n",
      "(9, 131072, 131072)\n",
      "(10, 524288, 524288)\n"
     ]
    }
   ],
   "source": [
    "for k in range(1, 11):\n",
    "    cs_k = comb_sum(k)\n",
    "    fn_k = fn_form(k)\n",
    "    assert cs_k == fn_k\n",
    "    print((k, cs_k, fn_k))"
   ]
  },
  {
   "cell_type": "code",
   "execution_count": null,
   "metadata": {},
   "outputs": [],
   "source": []
  }
 ],
 "metadata": {
  "kernelspec": {
   "display_name": "prob_env",
   "language": "python",
   "name": "python3"
  },
  "language_info": {
   "codemirror_mode": {
    "name": "ipython",
    "version": 3
   },
   "file_extension": ".py",
   "mimetype": "text/x-python",
   "name": "python",
   "nbconvert_exporter": "python",
   "pygments_lexer": "ipython3",
   "version": "3.11.9"
  }
 },
 "nbformat": 4,
 "nbformat_minor": 2
}
