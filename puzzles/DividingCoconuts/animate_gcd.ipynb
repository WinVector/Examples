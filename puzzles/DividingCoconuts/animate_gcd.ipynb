{
 "cells": [
  {
   "cell_type": "code",
   "execution_count": 1,
   "metadata": {},
   "outputs": [],
   "source": [
    "import os\n",
    "import pandas as pd\n",
    "import dataframe_image as dfi\n",
    "from PIL import Image, ImageDraw, ImageFont\n",
    "import gcd_table_sequential\n",
    "import gcd_table"
   ]
  },
  {
   "cell_type": "code",
   "execution_count": 2,
   "metadata": {},
   "outputs": [
    {
     "data": {
      "text/plain": [
       "'build row 0: start (a >= b)'"
      ]
     },
     "metadata": {},
     "output_type": "display_data"
    },
    {
     "data": {
      "text/html": [
       "<style type=\"text/css\">\n",
       "#T_ee9a9_row0_col0, #T_ee9a9_row0_col1, #T_ee9a9_row0_col2, #T_ee9a9_row0_col3 {\n",
       "  background-color: yellow;\n",
       "  font-weight: bold;\n",
       "}\n",
       "</style>\n",
       "<table id=\"T_ee9a9\">\n",
       "  <thead>\n",
       "    <tr>\n",
       "      <th class=\"blank level0\" >&nbsp;</th>\n",
       "      <th id=\"T_ee9a9_level0_col0\" class=\"col_heading level0 col0\" >a</th>\n",
       "      <th id=\"T_ee9a9_level0_col1\" class=\"col_heading level0 col1\" >b</th>\n",
       "      <th id=\"T_ee9a9_level0_col2\" class=\"col_heading level0 col2\" >a%b</th>\n",
       "      <th id=\"T_ee9a9_level0_col3\" class=\"col_heading level0 col3\" >a//b</th>\n",
       "      <th id=\"T_ee9a9_level0_col4\" class=\"col_heading level0 col4\" >GCD(a, b)</th>\n",
       "    </tr>\n",
       "  </thead>\n",
       "  <tbody>\n",
       "    <tr>\n",
       "      <th id=\"T_ee9a9_level0_row0\" class=\"row_heading level0 row0\" >0</th>\n",
       "      <td id=\"T_ee9a9_row0_col0\" class=\"data row0 col0\" >15625</td>\n",
       "      <td id=\"T_ee9a9_row0_col1\" class=\"data row0 col1\" >2</td>\n",
       "      <td id=\"T_ee9a9_row0_col2\" class=\"data row0 col2\" >1</td>\n",
       "      <td id=\"T_ee9a9_row0_col3\" class=\"data row0 col3\" >7812</td>\n",
       "      <td id=\"T_ee9a9_row0_col4\" class=\"data row0 col4\" ></td>\n",
       "    </tr>\n",
       "    <tr>\n",
       "      <th id=\"T_ee9a9_level0_row1\" class=\"row_heading level0 row1\" >1</th>\n",
       "      <td id=\"T_ee9a9_row1_col0\" class=\"data row1 col0\" ></td>\n",
       "      <td id=\"T_ee9a9_row1_col1\" class=\"data row1 col1\" ></td>\n",
       "      <td id=\"T_ee9a9_row1_col2\" class=\"data row1 col2\" ></td>\n",
       "      <td id=\"T_ee9a9_row1_col3\" class=\"data row1 col3\" ></td>\n",
       "      <td id=\"T_ee9a9_row1_col4\" class=\"data row1 col4\" ></td>\n",
       "    </tr>\n",
       "    <tr>\n",
       "      <th id=\"T_ee9a9_level0_row2\" class=\"row_heading level0 row2\" >2</th>\n",
       "      <td id=\"T_ee9a9_row2_col0\" class=\"data row2 col0\" ></td>\n",
       "      <td id=\"T_ee9a9_row2_col1\" class=\"data row2 col1\" ></td>\n",
       "      <td id=\"T_ee9a9_row2_col2\" class=\"data row2 col2\" ></td>\n",
       "      <td id=\"T_ee9a9_row2_col3\" class=\"data row2 col3\" ></td>\n",
       "      <td id=\"T_ee9a9_row2_col4\" class=\"data row2 col4\" ></td>\n",
       "    </tr>\n",
       "  </tbody>\n",
       "</table>\n"
      ],
      "text/plain": [
       "<pandas.io.formats.style.Styler at 0x14d8c6610>"
      ]
     },
     "metadata": {},
     "output_type": "display_data"
    },
    {
     "data": {
      "text/plain": [
       "'build row 1: a[1]=b[0], b[1]=(a%b)[0]'"
      ]
     },
     "metadata": {},
     "output_type": "display_data"
    },
    {
     "data": {
      "text/html": [
       "<style type=\"text/css\">\n",
       "#T_0e205_row0_col1, #T_0e205_row0_col2 {\n",
       "  background-color: lightgreen;\n",
       "}\n",
       "#T_0e205_row1_col0, #T_0e205_row1_col1, #T_0e205_row1_col2, #T_0e205_row1_col3 {\n",
       "  background-color: yellow;\n",
       "  font-weight: bold;\n",
       "}\n",
       "</style>\n",
       "<table id=\"T_0e205\">\n",
       "  <thead>\n",
       "    <tr>\n",
       "      <th class=\"blank level0\" >&nbsp;</th>\n",
       "      <th id=\"T_0e205_level0_col0\" class=\"col_heading level0 col0\" >a</th>\n",
       "      <th id=\"T_0e205_level0_col1\" class=\"col_heading level0 col1\" >b</th>\n",
       "      <th id=\"T_0e205_level0_col2\" class=\"col_heading level0 col2\" >a%b</th>\n",
       "      <th id=\"T_0e205_level0_col3\" class=\"col_heading level0 col3\" >a//b</th>\n",
       "      <th id=\"T_0e205_level0_col4\" class=\"col_heading level0 col4\" >GCD(a, b)</th>\n",
       "    </tr>\n",
       "  </thead>\n",
       "  <tbody>\n",
       "    <tr>\n",
       "      <th id=\"T_0e205_level0_row0\" class=\"row_heading level0 row0\" >0</th>\n",
       "      <td id=\"T_0e205_row0_col0\" class=\"data row0 col0\" >15625</td>\n",
       "      <td id=\"T_0e205_row0_col1\" class=\"data row0 col1\" >2</td>\n",
       "      <td id=\"T_0e205_row0_col2\" class=\"data row0 col2\" >1</td>\n",
       "      <td id=\"T_0e205_row0_col3\" class=\"data row0 col3\" >7812</td>\n",
       "      <td id=\"T_0e205_row0_col4\" class=\"data row0 col4\" ></td>\n",
       "    </tr>\n",
       "    <tr>\n",
       "      <th id=\"T_0e205_level0_row1\" class=\"row_heading level0 row1\" >1</th>\n",
       "      <td id=\"T_0e205_row1_col0\" class=\"data row1 col0\" >2</td>\n",
       "      <td id=\"T_0e205_row1_col1\" class=\"data row1 col1\" >1</td>\n",
       "      <td id=\"T_0e205_row1_col2\" class=\"data row1 col2\" >0</td>\n",
       "      <td id=\"T_0e205_row1_col3\" class=\"data row1 col3\" >2</td>\n",
       "      <td id=\"T_0e205_row1_col4\" class=\"data row1 col4\" ></td>\n",
       "    </tr>\n",
       "    <tr>\n",
       "      <th id=\"T_0e205_level0_row2\" class=\"row_heading level0 row2\" >2</th>\n",
       "      <td id=\"T_0e205_row2_col0\" class=\"data row2 col0\" ></td>\n",
       "      <td id=\"T_0e205_row2_col1\" class=\"data row2 col1\" ></td>\n",
       "      <td id=\"T_0e205_row2_col2\" class=\"data row2 col2\" ></td>\n",
       "      <td id=\"T_0e205_row2_col3\" class=\"data row2 col3\" ></td>\n",
       "      <td id=\"T_0e205_row2_col4\" class=\"data row2 col4\" ></td>\n",
       "    </tr>\n",
       "  </tbody>\n",
       "</table>\n"
      ],
      "text/plain": [
       "<pandas.io.formats.style.Styler at 0x14d50e1d0>"
      ]
     },
     "metadata": {},
     "output_type": "display_data"
    },
    {
     "data": {
      "text/plain": [
       "'finish with row 2: a[2]=b[1], b[2]=(a%b)[1], GCD= a[2]'"
      ]
     },
     "metadata": {},
     "output_type": "display_data"
    },
    {
     "data": {
      "text/html": [
       "<style type=\"text/css\">\n",
       "#T_57d6d_row0_col4, #T_57d6d_row1_col4, #T_57d6d_row2_col0, #T_57d6d_row2_col1, #T_57d6d_row2_col2, #T_57d6d_row2_col3, #T_57d6d_row2_col4 {\n",
       "  background-color: yellow;\n",
       "  font-weight: bold;\n",
       "}\n",
       "#T_57d6d_row1_col1, #T_57d6d_row1_col2 {\n",
       "  background-color: lightgreen;\n",
       "}\n",
       "</style>\n",
       "<table id=\"T_57d6d\">\n",
       "  <thead>\n",
       "    <tr>\n",
       "      <th class=\"blank level0\" >&nbsp;</th>\n",
       "      <th id=\"T_57d6d_level0_col0\" class=\"col_heading level0 col0\" >a</th>\n",
       "      <th id=\"T_57d6d_level0_col1\" class=\"col_heading level0 col1\" >b</th>\n",
       "      <th id=\"T_57d6d_level0_col2\" class=\"col_heading level0 col2\" >a%b</th>\n",
       "      <th id=\"T_57d6d_level0_col3\" class=\"col_heading level0 col3\" >a//b</th>\n",
       "      <th id=\"T_57d6d_level0_col4\" class=\"col_heading level0 col4\" >GCD(a, b)</th>\n",
       "    </tr>\n",
       "  </thead>\n",
       "  <tbody>\n",
       "    <tr>\n",
       "      <th id=\"T_57d6d_level0_row0\" class=\"row_heading level0 row0\" >0</th>\n",
       "      <td id=\"T_57d6d_row0_col0\" class=\"data row0 col0\" >15625</td>\n",
       "      <td id=\"T_57d6d_row0_col1\" class=\"data row0 col1\" >2</td>\n",
       "      <td id=\"T_57d6d_row0_col2\" class=\"data row0 col2\" >1</td>\n",
       "      <td id=\"T_57d6d_row0_col3\" class=\"data row0 col3\" >7812</td>\n",
       "      <td id=\"T_57d6d_row0_col4\" class=\"data row0 col4\" >1</td>\n",
       "    </tr>\n",
       "    <tr>\n",
       "      <th id=\"T_57d6d_level0_row1\" class=\"row_heading level0 row1\" >1</th>\n",
       "      <td id=\"T_57d6d_row1_col0\" class=\"data row1 col0\" >2</td>\n",
       "      <td id=\"T_57d6d_row1_col1\" class=\"data row1 col1\" >1</td>\n",
       "      <td id=\"T_57d6d_row1_col2\" class=\"data row1 col2\" >0</td>\n",
       "      <td id=\"T_57d6d_row1_col3\" class=\"data row1 col3\" >2</td>\n",
       "      <td id=\"T_57d6d_row1_col4\" class=\"data row1 col4\" >1</td>\n",
       "    </tr>\n",
       "    <tr>\n",
       "      <th id=\"T_57d6d_level0_row2\" class=\"row_heading level0 row2\" >2</th>\n",
       "      <td id=\"T_57d6d_row2_col0\" class=\"data row2 col0\" >1</td>\n",
       "      <td id=\"T_57d6d_row2_col1\" class=\"data row2 col1\" >0</td>\n",
       "      <td id=\"T_57d6d_row2_col2\" class=\"data row2 col2\" >N/A</td>\n",
       "      <td id=\"T_57d6d_row2_col3\" class=\"data row2 col3\" >N/A</td>\n",
       "      <td id=\"T_57d6d_row2_col4\" class=\"data row2 col4\" >1</td>\n",
       "    </tr>\n",
       "  </tbody>\n",
       "</table>\n"
      ],
      "text/plain": [
       "<pandas.io.formats.style.Styler at 0x14d9fa210>"
      ]
     },
     "metadata": {},
     "output_type": "display_data"
    },
    {
     "data": {
      "text/plain": [
       "'back fill row 2: u[2]=1, v[2]=0'"
      ]
     },
     "metadata": {},
     "output_type": "display_data"
    },
    {
     "data": {
      "text/html": [
       "<style type=\"text/css\">\n",
       "#T_433b6_row2_col5, #T_433b6_row2_col6 {\n",
       "  background-color: yellow;\n",
       "  font-weight: bold;\n",
       "}\n",
       "</style>\n",
       "<table id=\"T_433b6\">\n",
       "  <thead>\n",
       "    <tr>\n",
       "      <th class=\"blank level0\" >&nbsp;</th>\n",
       "      <th id=\"T_433b6_level0_col0\" class=\"col_heading level0 col0\" >a</th>\n",
       "      <th id=\"T_433b6_level0_col1\" class=\"col_heading level0 col1\" >b</th>\n",
       "      <th id=\"T_433b6_level0_col2\" class=\"col_heading level0 col2\" >a%b</th>\n",
       "      <th id=\"T_433b6_level0_col3\" class=\"col_heading level0 col3\" >a//b</th>\n",
       "      <th id=\"T_433b6_level0_col4\" class=\"col_heading level0 col4\" >GCD(a, b)</th>\n",
       "      <th id=\"T_433b6_level0_col5\" class=\"col_heading level0 col5\" >u</th>\n",
       "      <th id=\"T_433b6_level0_col6\" class=\"col_heading level0 col6\" >v</th>\n",
       "    </tr>\n",
       "  </thead>\n",
       "  <tbody>\n",
       "    <tr>\n",
       "      <th id=\"T_433b6_level0_row0\" class=\"row_heading level0 row0\" >0</th>\n",
       "      <td id=\"T_433b6_row0_col0\" class=\"data row0 col0\" >15625</td>\n",
       "      <td id=\"T_433b6_row0_col1\" class=\"data row0 col1\" >2</td>\n",
       "      <td id=\"T_433b6_row0_col2\" class=\"data row0 col2\" >1</td>\n",
       "      <td id=\"T_433b6_row0_col3\" class=\"data row0 col3\" >7812</td>\n",
       "      <td id=\"T_433b6_row0_col4\" class=\"data row0 col4\" >1</td>\n",
       "      <td id=\"T_433b6_row0_col5\" class=\"data row0 col5\" ></td>\n",
       "      <td id=\"T_433b6_row0_col6\" class=\"data row0 col6\" ></td>\n",
       "    </tr>\n",
       "    <tr>\n",
       "      <th id=\"T_433b6_level0_row1\" class=\"row_heading level0 row1\" >1</th>\n",
       "      <td id=\"T_433b6_row1_col0\" class=\"data row1 col0\" >2</td>\n",
       "      <td id=\"T_433b6_row1_col1\" class=\"data row1 col1\" >1</td>\n",
       "      <td id=\"T_433b6_row1_col2\" class=\"data row1 col2\" >0</td>\n",
       "      <td id=\"T_433b6_row1_col3\" class=\"data row1 col3\" >2</td>\n",
       "      <td id=\"T_433b6_row1_col4\" class=\"data row1 col4\" >1</td>\n",
       "      <td id=\"T_433b6_row1_col5\" class=\"data row1 col5\" ></td>\n",
       "      <td id=\"T_433b6_row1_col6\" class=\"data row1 col6\" ></td>\n",
       "    </tr>\n",
       "    <tr>\n",
       "      <th id=\"T_433b6_level0_row2\" class=\"row_heading level0 row2\" >2</th>\n",
       "      <td id=\"T_433b6_row2_col0\" class=\"data row2 col0\" >1</td>\n",
       "      <td id=\"T_433b6_row2_col1\" class=\"data row2 col1\" >0</td>\n",
       "      <td id=\"T_433b6_row2_col2\" class=\"data row2 col2\" >N/A</td>\n",
       "      <td id=\"T_433b6_row2_col3\" class=\"data row2 col3\" >N/A</td>\n",
       "      <td id=\"T_433b6_row2_col4\" class=\"data row2 col4\" >1</td>\n",
       "      <td id=\"T_433b6_row2_col5\" class=\"data row2 col5\" >1</td>\n",
       "      <td id=\"T_433b6_row2_col6\" class=\"data row2 col6\" >0</td>\n",
       "    </tr>\n",
       "  </tbody>\n",
       "</table>\n"
      ],
      "text/plain": [
       "<pandas.io.formats.style.Styler at 0x14d736e90>"
      ]
     },
     "metadata": {},
     "output_type": "display_data"
    },
    {
     "data": {
      "text/plain": [
       "'back fill row 1: u[1]=v[2], v[1] = u[2] - (a//b)[1] * v[2]'"
      ]
     },
     "metadata": {},
     "output_type": "display_data"
    },
    {
     "data": {
      "text/html": [
       "<style type=\"text/css\">\n",
       "#T_51cfc_row1_col3, #T_51cfc_row2_col5, #T_51cfc_row2_col6 {\n",
       "  background-color: lightgreen;\n",
       "}\n",
       "#T_51cfc_row1_col5, #T_51cfc_row1_col6 {\n",
       "  background-color: yellow;\n",
       "  font-weight: bold;\n",
       "}\n",
       "</style>\n",
       "<table id=\"T_51cfc\">\n",
       "  <thead>\n",
       "    <tr>\n",
       "      <th class=\"blank level0\" >&nbsp;</th>\n",
       "      <th id=\"T_51cfc_level0_col0\" class=\"col_heading level0 col0\" >a</th>\n",
       "      <th id=\"T_51cfc_level0_col1\" class=\"col_heading level0 col1\" >b</th>\n",
       "      <th id=\"T_51cfc_level0_col2\" class=\"col_heading level0 col2\" >a%b</th>\n",
       "      <th id=\"T_51cfc_level0_col3\" class=\"col_heading level0 col3\" >a//b</th>\n",
       "      <th id=\"T_51cfc_level0_col4\" class=\"col_heading level0 col4\" >GCD(a, b)</th>\n",
       "      <th id=\"T_51cfc_level0_col5\" class=\"col_heading level0 col5\" >u</th>\n",
       "      <th id=\"T_51cfc_level0_col6\" class=\"col_heading level0 col6\" >v</th>\n",
       "    </tr>\n",
       "  </thead>\n",
       "  <tbody>\n",
       "    <tr>\n",
       "      <th id=\"T_51cfc_level0_row0\" class=\"row_heading level0 row0\" >0</th>\n",
       "      <td id=\"T_51cfc_row0_col0\" class=\"data row0 col0\" >15625</td>\n",
       "      <td id=\"T_51cfc_row0_col1\" class=\"data row0 col1\" >2</td>\n",
       "      <td id=\"T_51cfc_row0_col2\" class=\"data row0 col2\" >1</td>\n",
       "      <td id=\"T_51cfc_row0_col3\" class=\"data row0 col3\" >7812</td>\n",
       "      <td id=\"T_51cfc_row0_col4\" class=\"data row0 col4\" >1</td>\n",
       "      <td id=\"T_51cfc_row0_col5\" class=\"data row0 col5\" ></td>\n",
       "      <td id=\"T_51cfc_row0_col6\" class=\"data row0 col6\" ></td>\n",
       "    </tr>\n",
       "    <tr>\n",
       "      <th id=\"T_51cfc_level0_row1\" class=\"row_heading level0 row1\" >1</th>\n",
       "      <td id=\"T_51cfc_row1_col0\" class=\"data row1 col0\" >2</td>\n",
       "      <td id=\"T_51cfc_row1_col1\" class=\"data row1 col1\" >1</td>\n",
       "      <td id=\"T_51cfc_row1_col2\" class=\"data row1 col2\" >0</td>\n",
       "      <td id=\"T_51cfc_row1_col3\" class=\"data row1 col3\" >2</td>\n",
       "      <td id=\"T_51cfc_row1_col4\" class=\"data row1 col4\" >1</td>\n",
       "      <td id=\"T_51cfc_row1_col5\" class=\"data row1 col5\" >0</td>\n",
       "      <td id=\"T_51cfc_row1_col6\" class=\"data row1 col6\" >1</td>\n",
       "    </tr>\n",
       "    <tr>\n",
       "      <th id=\"T_51cfc_level0_row2\" class=\"row_heading level0 row2\" >2</th>\n",
       "      <td id=\"T_51cfc_row2_col0\" class=\"data row2 col0\" >1</td>\n",
       "      <td id=\"T_51cfc_row2_col1\" class=\"data row2 col1\" >0</td>\n",
       "      <td id=\"T_51cfc_row2_col2\" class=\"data row2 col2\" >N/A</td>\n",
       "      <td id=\"T_51cfc_row2_col3\" class=\"data row2 col3\" >N/A</td>\n",
       "      <td id=\"T_51cfc_row2_col4\" class=\"data row2 col4\" >1</td>\n",
       "      <td id=\"T_51cfc_row2_col5\" class=\"data row2 col5\" >1</td>\n",
       "      <td id=\"T_51cfc_row2_col6\" class=\"data row2 col6\" >0</td>\n",
       "    </tr>\n",
       "  </tbody>\n",
       "</table>\n"
      ],
      "text/plain": [
       "<pandas.io.formats.style.Styler at 0x14da05750>"
      ]
     },
     "metadata": {},
     "output_type": "display_data"
    },
    {
     "data": {
      "text/plain": [
       "'back fill row 0: u[0]=v[1], v[0] = u[1] - (a//b)[0] * v[1]'"
      ]
     },
     "metadata": {},
     "output_type": "display_data"
    },
    {
     "data": {
      "text/html": [
       "<style type=\"text/css\">\n",
       "#T_7c41c_row0_col3, #T_7c41c_row1_col5, #T_7c41c_row1_col6 {\n",
       "  background-color: lightgreen;\n",
       "}\n",
       "#T_7c41c_row0_col5, #T_7c41c_row0_col6 {\n",
       "  background-color: yellow;\n",
       "  font-weight: bold;\n",
       "}\n",
       "</style>\n",
       "<table id=\"T_7c41c\">\n",
       "  <thead>\n",
       "    <tr>\n",
       "      <th class=\"blank level0\" >&nbsp;</th>\n",
       "      <th id=\"T_7c41c_level0_col0\" class=\"col_heading level0 col0\" >a</th>\n",
       "      <th id=\"T_7c41c_level0_col1\" class=\"col_heading level0 col1\" >b</th>\n",
       "      <th id=\"T_7c41c_level0_col2\" class=\"col_heading level0 col2\" >a%b</th>\n",
       "      <th id=\"T_7c41c_level0_col3\" class=\"col_heading level0 col3\" >a//b</th>\n",
       "      <th id=\"T_7c41c_level0_col4\" class=\"col_heading level0 col4\" >GCD(a, b)</th>\n",
       "      <th id=\"T_7c41c_level0_col5\" class=\"col_heading level0 col5\" >u</th>\n",
       "      <th id=\"T_7c41c_level0_col6\" class=\"col_heading level0 col6\" >v</th>\n",
       "    </tr>\n",
       "  </thead>\n",
       "  <tbody>\n",
       "    <tr>\n",
       "      <th id=\"T_7c41c_level0_row0\" class=\"row_heading level0 row0\" >0</th>\n",
       "      <td id=\"T_7c41c_row0_col0\" class=\"data row0 col0\" >15625</td>\n",
       "      <td id=\"T_7c41c_row0_col1\" class=\"data row0 col1\" >2</td>\n",
       "      <td id=\"T_7c41c_row0_col2\" class=\"data row0 col2\" >1</td>\n",
       "      <td id=\"T_7c41c_row0_col3\" class=\"data row0 col3\" >7812</td>\n",
       "      <td id=\"T_7c41c_row0_col4\" class=\"data row0 col4\" >1</td>\n",
       "      <td id=\"T_7c41c_row0_col5\" class=\"data row0 col5\" >1</td>\n",
       "      <td id=\"T_7c41c_row0_col6\" class=\"data row0 col6\" >-7812</td>\n",
       "    </tr>\n",
       "    <tr>\n",
       "      <th id=\"T_7c41c_level0_row1\" class=\"row_heading level0 row1\" >1</th>\n",
       "      <td id=\"T_7c41c_row1_col0\" class=\"data row1 col0\" >2</td>\n",
       "      <td id=\"T_7c41c_row1_col1\" class=\"data row1 col1\" >1</td>\n",
       "      <td id=\"T_7c41c_row1_col2\" class=\"data row1 col2\" >0</td>\n",
       "      <td id=\"T_7c41c_row1_col3\" class=\"data row1 col3\" >2</td>\n",
       "      <td id=\"T_7c41c_row1_col4\" class=\"data row1 col4\" >1</td>\n",
       "      <td id=\"T_7c41c_row1_col5\" class=\"data row1 col5\" >0</td>\n",
       "      <td id=\"T_7c41c_row1_col6\" class=\"data row1 col6\" >1</td>\n",
       "    </tr>\n",
       "    <tr>\n",
       "      <th id=\"T_7c41c_level0_row2\" class=\"row_heading level0 row2\" >2</th>\n",
       "      <td id=\"T_7c41c_row2_col0\" class=\"data row2 col0\" >1</td>\n",
       "      <td id=\"T_7c41c_row2_col1\" class=\"data row2 col1\" >0</td>\n",
       "      <td id=\"T_7c41c_row2_col2\" class=\"data row2 col2\" >N/A</td>\n",
       "      <td id=\"T_7c41c_row2_col3\" class=\"data row2 col3\" >N/A</td>\n",
       "      <td id=\"T_7c41c_row2_col4\" class=\"data row2 col4\" >1</td>\n",
       "      <td id=\"T_7c41c_row2_col5\" class=\"data row2 col5\" >1</td>\n",
       "      <td id=\"T_7c41c_row2_col6\" class=\"data row2 col6\" >0</td>\n",
       "    </tr>\n",
       "  </tbody>\n",
       "</table>\n"
      ],
      "text/plain": [
       "<pandas.io.formats.style.Styler at 0x14da069d0>"
      ]
     },
     "metadata": {},
     "output_type": "display_data"
    }
   ],
   "source": [
    "# # example from:\n",
    "# #  https://win-vector.com/2024/10/06/dudeneys-remainder-problem/\n",
    "# soln = gcd_table_sequential.build_gcd_table_filled(\n",
    "#     508811 - 480608, \n",
    "#     723217 - 480608,\n",
    "#     verbose=True)\n",
    "\n",
    "# example from:\n",
    "#  https://win-vector.com/2024/11/01/the-monkey-and-the-coconuts-an-introduction-to-the-extended-euclidean-algorithm/\n",
    "soln = gcd_table.build_gcd_table_filled(\n",
    "    15625, \n",
    "    2,\n",
    "    verbose=True)"
   ]
  },
  {
   "cell_type": "code",
   "execution_count": 3,
   "metadata": {},
   "outputs": [],
   "source": [
    "\n",
    "tables = list(soln.attrs['captured_tables'])  # new list, so we can append without side effects"
   ]
  },
  {
   "cell_type": "code",
   "execution_count": 4,
   "metadata": {},
   "outputs": [],
   "source": [
    "# convert tables to images\n",
    "for i, t in enumerate(tables):\n",
    "    file_name = f'dataframe_{i:04d}.png'\n",
    "    # convert to PNG\n",
    "    dfi.export(t, file_name, dpi=600)\n"
   ]
  },
  {
   "cell_type": "code",
   "execution_count": 5,
   "metadata": {},
   "outputs": [],
   "source": [
    "# add annotation notes\n",
    "font = ImageFont.load_default(size=50)\n",
    "text_position = (50, 10)  # x, y coordinates for the text\n",
    "text_color = (0, 0, 0)\n",
    "for i, t in enumerate(tables):\n",
    "    file_name = f'dataframe_{i:04d}.png'\n",
    "    file_name_out = f'dataframe_annotated_{i:04d}.png'\n",
    "    note = t.data.attrs['note']\n",
    "    # add in text or copy image  \n",
    "    image = Image.open(file_name)\n",
    "    draw = ImageDraw.Draw(image)\n",
    "    if note is not None:\n",
    "        draw.text(text_position, note, fill=text_color, font=font)\n",
    "    image.save(file_name_out)"
   ]
  },
  {
   "cell_type": "markdown",
   "metadata": {},
   "source": [
    "Then convert at the command line with:\n",
    "\n",
    "```\n",
    "ffmpeg -framerate 0.5 -i dataframe_annotated_%04d.png -c:v libx264 -r 30 -pix_fmt yuv420p MonkeyCoco.mp4\n",
    "```\n"
   ]
  },
  {
   "cell_type": "code",
   "execution_count": 6,
   "metadata": {},
   "outputs": [
    {
     "name": "stdout",
     "output_type": "stream",
     "text": [
      "ffmpeg version 5.1.2 Copyright (c) 2000-2022 the FFmpeg developers\n",
      "  built with Apple clang version 14.0.0 (clang-1400.0.29.202)\n",
      "  configuration: --prefix=/usr/local/Cellar/ffmpeg/5.1.2_6 --enable-shared --enable-pthreads --enable-version3 --cc=clang --host-cflags= --host-ldflags= --enable-ffplay --enable-gnutls --enable-gpl --enable-libaom --enable-libaribb24 --enable-libbluray --enable-libdav1d --enable-libmp3lame --enable-libopus --enable-librav1e --enable-librist --enable-librubberband --enable-libsnappy --enable-libsrt --enable-libsvtav1 --enable-libtesseract --enable-libtheora --enable-libvidstab --enable-libvmaf --enable-libvorbis --enable-libvpx --enable-libwebp --enable-libx264 --enable-libx265 --enable-libxml2 --enable-libxvid --enable-lzma --enable-libfontconfig --enable-libfreetype --enable-frei0r --enable-libass --enable-libopencore-amrnb --enable-libopencore-amrwb --enable-libopenjpeg --enable-libspeex --enable-libsoxr --enable-libzmq --enable-libzimg --disable-libjack --disable-indev=jack --enable-videotoolbox\n",
      "  libavutil      57. 28.100 / 57. 28.100\n",
      "  libavcodec     59. 37.100 / 59. 37.100\n",
      "  libavformat    59. 27.100 / 59. 27.100\n",
      "  libavdevice    59.  7.100 / 59.  7.100\n",
      "  libavfilter     8. 44.100 /  8. 44.100\n",
      "  libswscale      6.  7.100 /  6.  7.100\n",
      "  libswresample   4.  7.100 /  4.  7.100\n",
      "  libpostproc    56.  6.100 / 56.  6.100\n",
      "Input #0, image2, from 'dataframe_annotated_%04d.png':\n",
      "  Duration: 00:00:12.00, start: 0.000000, bitrate: N/A\n",
      "  Stream #0:0: Video: png, rgb24(pc), 1602x762, 0.50 fps, 0.50 tbr, 0.50 tbn\n",
      "Stream mapping:\n",
      "  Stream #0:0 -> #0:0 (png (native) -> h264 (libx264))\n",
      "Press [q] to stop, [?] for help\n",
      "\u001b[1;36m[libx264 @ 0x7fb708807bc0] \u001b[0musing cpu capabilities: MMX2 SSE2Fast SSSE3 SSE4.2 AVX FMA3 BMI2 AVX2\n",
      "\u001b[1;36m[libx264 @ 0x7fb708807bc0] \u001b[0mprofile High, level 3.2, 4:2:0, 8-bit\n",
      "\u001b[1;36m[libx264 @ 0x7fb708807bc0] \u001b[0m264 - core 164 r3095 baee400 - H.264/MPEG-4 AVC codec - Copyleft 2003-2022 - http://www.videolan.org/x264.html - options: cabac=1 ref=3 deblock=1:0:0 analyse=0x3:0x113 me=hex subme=7 psy=1 psy_rd=1.00:0.00 mixed_ref=1 me_range=16 chroma_me=1 trellis=1 8x8dct=1 cqm=0 deadzone=21,11 fast_pskip=1 chroma_qp_offset=-2 threads=9 lookahead_threads=1 sliced_threads=0 nr=0 decimate=1 interlaced=0 bluray_compat=0 constrained_intra=0 bframes=3 b_pyramid=2 b_adapt=1 b_bias=0 direct=1 weightb=1 open_gop=0 weightp=2 keyint=250 keyint_min=25 scenecut=40 intra_refresh=0 rc_lookahead=40 rc=crf mbtree=1 crf=23.0 qcomp=0.60 qpmin=0 qpmax=69 qpstep=4 ip_ratio=1.40 aq=1:1.00\n",
      "Output #0, mp4, to 'MonkeyCoco.mp4':\n",
      "  Metadata:\n",
      "    encoder         : Lavf59.27.100\n",
      "  Stream #0:0: Video: h264 (avc1 / 0x31637661), yuv420p(tv, progressive), 1602x762, q=2-31, 30 fps, 15360 tbn\n",
      "    Metadata:\n",
      "      encoder         : Lavc59.37.100 libx264\n",
      "    Side data:\n",
      "      cpb: bitrate max/min/avg: 0/0/0 buffer size: 0 vbv_delay: N/A\n",
      "frame=  360 fps=340 q=-1.0 Lsize=     143kB time=00:00:11.90 bitrate=  98.2kbits/s dup=354 drop=0 speed=11.2x    \n",
      "video:138kB audio:0kB subtitle:0kB other streams:0kB global headers:0kB muxing overhead: 3.667882%\n",
      "\u001b[1;36m[libx264 @ 0x7fb708807bc0] \u001b[0mframe I:2     Avg QP:18.17  size: 24357\n",
      "\u001b[1;36m[libx264 @ 0x7fb708807bc0] \u001b[0mframe P:90    Avg QP:18.18  size:   770\n",
      "\u001b[1;36m[libx264 @ 0x7fb708807bc0] \u001b[0mframe B:268   Avg QP:25.23  size:    83\n",
      "\u001b[1;36m[libx264 @ 0x7fb708807bc0] \u001b[0mconsecutive B-frames:  0.6%  0.0%  1.7% 97.8%\n",
      "\u001b[1;36m[libx264 @ 0x7fb708807bc0] \u001b[0mmb I  I16..4: 30.0% 58.3% 11.7%\n",
      "\u001b[1;36m[libx264 @ 0x7fb708807bc0] \u001b[0mmb P  I16..4:  0.3%  1.0%  0.2%  P16..4:  0.2%  0.1%  0.1%  0.0%  0.0%    skip:98.2%\n",
      "\u001b[1;36m[libx264 @ 0x7fb708807bc0] \u001b[0mmb B  I16..4:  0.0%  0.1%  0.0%  B16..8:  0.5%  0.0%  0.0%  direct: 0.0%  skip:99.3%  L0:63.1% L1:36.9% BI: 0.0%\n",
      "\u001b[1;36m[libx264 @ 0x7fb708807bc0] \u001b[0m8x8 transform intra:63.5% inter:14.6%\n",
      "\u001b[1;36m[libx264 @ 0x7fb708807bc0] \u001b[0mcoded y,uvDC,uvAC intra: 7.2% 3.3% 3.0% inter: 0.0% 0.0% 0.0%\n",
      "\u001b[1;36m[libx264 @ 0x7fb708807bc0] \u001b[0mi16 v,h,dc,p: 64% 35%  1%  0%\n",
      "\u001b[1;36m[libx264 @ 0x7fb708807bc0] \u001b[0mi8 v,h,dc,ddl,ddr,vr,hd,vl,hu: 45%  9% 45%  0%  0%  0%  0%  0%  0%\n",
      "\u001b[1;36m[libx264 @ 0x7fb708807bc0] \u001b[0mi4 v,h,dc,ddl,ddr,vr,hd,vl,hu: 42% 19% 18%  4%  2%  4%  2%  6%  2%\n",
      "\u001b[1;36m[libx264 @ 0x7fb708807bc0] \u001b[0mi8c dc,h,v,p: 87%  7%  6%  0%\n",
      "\u001b[1;36m[libx264 @ 0x7fb708807bc0] \u001b[0mWeighted P-Frames: Y:0.0% UV:0.0%\n",
      "\u001b[1;36m[libx264 @ 0x7fb708807bc0] \u001b[0mref P L0: 78.3%  7.2% 13.2%  1.3%\n",
      "\u001b[1;36m[libx264 @ 0x7fb708807bc0] \u001b[0mref B L0: 71.5% 28.2%  0.4%\n",
      "\u001b[1;36m[libx264 @ 0x7fb708807bc0] \u001b[0mref B L1: 93.8%  6.2%\n",
      "\u001b[1;36m[libx264 @ 0x7fb708807bc0] \u001b[0mkb/s:93.49\n"
     ]
    }
   ],
   "source": [
    "!ffmpeg -framerate 0.5 -i dataframe_annotated_%04d.png -c:v libx264 -r 30 -pix_fmt yuv420p MonkeyCoco.mp4"
   ]
  },
  {
   "cell_type": "code",
   "execution_count": 7,
   "metadata": {},
   "outputs": [],
   "source": [
    "# clean up\n",
    "for i, t in enumerate(tables):\n",
    "    file_name = f'dataframe_{i:04d}.png'\n",
    "    file_name_out = f'dataframe_annotated_{i:04d}.png'\n",
    "    os.remove(file_name)\n",
    "    os.remove(file_name_out)"
   ]
  }
 ],
 "metadata": {
  "kernelspec": {
   "display_name": "prob_env",
   "language": "python",
   "name": "python3"
  },
  "language_info": {
   "codemirror_mode": {
    "name": "ipython",
    "version": 3
   },
   "file_extension": ".py",
   "mimetype": "text/x-python",
   "name": "python",
   "nbconvert_exporter": "python",
   "pygments_lexer": "ipython3",
   "version": "3.11.9"
  }
 },
 "nbformat": 4,
 "nbformat_minor": 2
}
