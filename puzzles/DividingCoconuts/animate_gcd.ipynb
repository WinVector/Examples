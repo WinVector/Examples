{
 "cells": [
  {
   "cell_type": "code",
   "execution_count": 1,
   "metadata": {},
   "outputs": [],
   "source": [
    "\n",
    "import os\n",
    "import pandas as pd\n",
    "import gcd_table_sequential\n",
    "import gcd_table\n",
    "from convert_table_to_image import convert_styled_table_to_image"
   ]
  },
  {
   "cell_type": "code",
   "execution_count": 2,
   "metadata": {},
   "outputs": [
    {
     "data": {
      "text/html": [
       "<div>\n",
       "<style scoped>\n",
       "    .dataframe tbody tr th:only-of-type {\n",
       "        vertical-align: middle;\n",
       "    }\n",
       "\n",
       "    .dataframe tbody tr th {\n",
       "        vertical-align: top;\n",
       "    }\n",
       "\n",
       "    .dataframe thead th {\n",
       "        text-align: right;\n",
       "    }\n",
       "</style>\n",
       "<table border=\"1\" class=\"dataframe\">\n",
       "  <thead>\n",
       "    <tr style=\"text-align: right;\">\n",
       "      <th></th>\n",
       "      <th>a</th>\n",
       "      <th>b</th>\n",
       "      <th>a%b</th>\n",
       "      <th>a//b</th>\n",
       "      <th>GCD(a, b)</th>\n",
       "      <th>u</th>\n",
       "      <th>v</th>\n",
       "    </tr>\n",
       "  </thead>\n",
       "  <tbody>\n",
       "    <tr>\n",
       "      <th>0</th>\n",
       "      <td>15625</td>\n",
       "      <td>2</td>\n",
       "      <td>1</td>\n",
       "      <td>7812</td>\n",
       "      <td>1</td>\n",
       "      <td>1</td>\n",
       "      <td>-7812</td>\n",
       "    </tr>\n",
       "    <tr>\n",
       "      <th>1</th>\n",
       "      <td>2</td>\n",
       "      <td>1</td>\n",
       "      <td>0</td>\n",
       "      <td>2</td>\n",
       "      <td>1</td>\n",
       "      <td>0</td>\n",
       "      <td>1</td>\n",
       "    </tr>\n",
       "    <tr>\n",
       "      <th>2</th>\n",
       "      <td>1</td>\n",
       "      <td>0</td>\n",
       "      <td>N/A</td>\n",
       "      <td>N/A</td>\n",
       "      <td>1</td>\n",
       "      <td>1</td>\n",
       "      <td>0</td>\n",
       "    </tr>\n",
       "  </tbody>\n",
       "</table>\n",
       "</div>"
      ],
      "text/plain": [
       "       a  b  a%b  a//b  GCD(a, b)  u      v\n",
       "0  15625  2    1  7812          1  1  -7812\n",
       "1      2  1    0     2          1  0      1\n",
       "2      1  0  N/A   N/A          1  1      0"
      ]
     },
     "execution_count": 2,
     "metadata": {},
     "output_type": "execute_result"
    }
   ],
   "source": [
    "# # example from:\n",
    "# #  https://win-vector.com/2024/10/06/dudeneys-remainder-problem/\n",
    "# soln = gcd_table_sequential.build_gcd_table_filled(\n",
    "#     508811 - 480608, \n",
    "#     723217 - 480608,\n",
    "#     verbose=True)\n",
    "\n",
    "# example from:\n",
    "#  https://win-vector.com/2024/11/01/the-monkey-and-the-coconuts-an-introduction-to-the-extended-euclidean-algorithm/\n",
    "soln = gcd_table.build_gcd_table_filled(\n",
    "    15625, \n",
    "    2,\n",
    "    verbose=True)\n",
    "\n",
    "soln"
   ]
  },
  {
   "cell_type": "code",
   "execution_count": 3,
   "metadata": {},
   "outputs": [],
   "source": [
    "\n",
    "tables = list(soln.attrs['captured_tables'])  # new list, so we can append without side effects\n",
    "\n"
   ]
  },
  {
   "cell_type": "code",
   "execution_count": 4,
   "metadata": {},
   "outputs": [],
   "source": [
    "# convert tables to images\n",
    "for i, t in enumerate(tables):\n",
    "    file_path = f'dataframe_{i:04d}.png'\n",
    "    convert_styled_table_to_image(t, file_path)\n",
    "\n"
   ]
  },
  {
   "cell_type": "markdown",
   "metadata": {},
   "source": [
    "Then convert at the command line with:\n",
    "\n",
    "```\n",
    "ffmpeg -framerate 0.5 -i dataframe_%04d.png -c:v libx264 -r 30 -pix_fmt yuv420p MonkeyCoco.mp4\n",
    "```\n"
   ]
  },
  {
   "cell_type": "code",
   "execution_count": 5,
   "metadata": {},
   "outputs": [
    {
     "name": "stdout",
     "output_type": "stream",
     "text": [
      "ffmpeg version 5.1.2 Copyright (c) 2000-2022 the FFmpeg developers\n",
      "  built with Apple clang version 14.0.0 (clang-1400.0.29.202)\n",
      "  configuration: --prefix=/usr/local/Cellar/ffmpeg/5.1.2_6 --enable-shared --enable-pthreads --enable-version3 --cc=clang --host-cflags= --host-ldflags= --enable-ffplay --enable-gnutls --enable-gpl --enable-libaom --enable-libaribb24 --enable-libbluray --enable-libdav1d --enable-libmp3lame --enable-libopus --enable-librav1e --enable-librist --enable-librubberband --enable-libsnappy --enable-libsrt --enable-libsvtav1 --enable-libtesseract --enable-libtheora --enable-libvidstab --enable-libvmaf --enable-libvorbis --enable-libvpx --enable-libwebp --enable-libx264 --enable-libx265 --enable-libxml2 --enable-libxvid --enable-lzma --enable-libfontconfig --enable-libfreetype --enable-frei0r --enable-libass --enable-libopencore-amrnb --enable-libopencore-amrwb --enable-libopenjpeg --enable-libspeex --enable-libsoxr --enable-libzmq --enable-libzimg --disable-libjack --disable-indev=jack --enable-videotoolbox\n",
      "  libavutil      57. 28.100 / 57. 28.100\n",
      "  libavcodec     59. 37.100 / 59. 37.100\n",
      "  libavformat    59. 27.100 / 59. 27.100\n",
      "  libavdevice    59.  7.100 / 59.  7.100\n",
      "  libavfilter     8. 44.100 /  8. 44.100\n",
      "  libswscale      6.  7.100 /  6.  7.100\n",
      "  libswresample   4.  7.100 /  4.  7.100\n",
      "  libpostproc    56.  6.100 / 56.  6.100\n",
      "Input #0, image2, from 'dataframe_%04d.png':\n",
      "  Duration: 00:00:12.00, start: 0.000000, bitrate: N/A\n",
      "  Stream #0:0: Video: png, rgb24(pc), 3562x762, 0.50 fps, 0.50 tbr, 0.50 tbn\n",
      "Stream mapping:\n",
      "  Stream #0:0 -> #0:0 (png (native) -> h264 (libx264))\n",
      "Press [q] to stop, [?] for help\n",
      "\u001b[1;36m[libx264 @ 0x7fd7017300c0] \u001b[0musing cpu capabilities: MMX2 SSE2Fast SSSE3 SSE4.2 AVX FMA3 BMI2 AVX2\n",
      "\u001b[1;36m[libx264 @ 0x7fd7017300c0] \u001b[0mprofile High, level 5.0, 4:2:0, 8-bit\n",
      "\u001b[1;36m[libx264 @ 0x7fd7017300c0] \u001b[0m264 - core 164 r3095 baee400 - H.264/MPEG-4 AVC codec - Copyleft 2003-2022 - http://www.videolan.org/x264.html - options: cabac=1 ref=3 deblock=1:0:0 analyse=0x3:0x113 me=hex subme=7 psy=1 psy_rd=1.00:0.00 mixed_ref=1 me_range=16 chroma_me=1 trellis=1 8x8dct=1 cqm=0 deadzone=21,11 fast_pskip=1 chroma_qp_offset=-2 threads=9 lookahead_threads=1 sliced_threads=0 nr=0 decimate=1 interlaced=0 bluray_compat=0 constrained_intra=0 bframes=3 b_pyramid=2 b_adapt=1 b_bias=0 direct=1 weightb=1 open_gop=0 weightp=2 keyint=250 keyint_min=25 scenecut=40 intra_refresh=0 rc_lookahead=40 rc=crf mbtree=1 crf=23.0 qcomp=0.60 qpmin=0 qpmax=69 qpstep=4 ip_ratio=1.40 aq=1:1.00\n",
      "Output #0, mp4, to 'MonkeyCoco.mp4':\n",
      "  Metadata:\n",
      "    encoder         : Lavf59.27.100\n",
      "  Stream #0:0: Video: h264 (avc1 / 0x31637661), yuv420p(tv, progressive), 3562x762, q=2-31, 30 fps, 15360 tbn\n",
      "    Metadata:\n",
      "      encoder         : Lavc59.37.100 libx264\n",
      "    Side data:\n",
      "      cpb: bitrate max/min/avg: 0/0/0 buffer size: 0 vbv_delay: N/A\n",
      "frame=  360 fps=154 q=-1.0 Lsize=     137kB time=00:00:11.90 bitrate=  94.5kbits/s dup=354 drop=0 speed=5.08x    \n",
      "video:132kB audio:0kB subtitle:0kB other streams:0kB global headers:0kB muxing overhead: 3.816704%\n",
      "\u001b[1;36m[libx264 @ 0x7fd7017300c0] \u001b[0mframe I:2     Avg QP:17.07  size: 23742\n",
      "\u001b[1;36m[libx264 @ 0x7fd7017300c0] \u001b[0mframe P:90    Avg QP:17.83  size:   639\n",
      "\u001b[1;36m[libx264 @ 0x7fd7017300c0] \u001b[0mframe B:268   Avg QP:26.09  size:   111\n",
      "\u001b[1;36m[libx264 @ 0x7fd7017300c0] \u001b[0mconsecutive B-frames:  0.6%  0.0%  1.7% 97.8%\n",
      "\u001b[1;36m[libx264 @ 0x7fd7017300c0] \u001b[0mmb I  I16..4: 34.0% 61.1%  4.9%\n",
      "\u001b[1;36m[libx264 @ 0x7fd7017300c0] \u001b[0mmb P  I16..4:  0.8%  0.7%  0.1%  P16..4:  0.1%  0.0%  0.0%  0.0%  0.0%    skip:98.3%\n",
      "\u001b[1;36m[libx264 @ 0x7fd7017300c0] \u001b[0mmb B  I16..4:  0.0%  0.0%  0.0%  B16..8:  0.2%  0.0%  0.0%  direct: 0.0%  skip:99.7%  L0:66.1% L1:33.9% BI: 0.0%\n",
      "\u001b[1;36m[libx264 @ 0x7fd7017300c0] \u001b[0m8x8 transform intra:55.2% inter:10.7%\n",
      "\u001b[1;36m[libx264 @ 0x7fd7017300c0] \u001b[0mcoded y,uvDC,uvAC intra: 3.0% 1.6% 1.4% inter: 0.0% 0.0% 0.0%\n",
      "\u001b[1;36m[libx264 @ 0x7fd7017300c0] \u001b[0mi16 v,h,dc,p: 75% 25%  0%  0%\n",
      "\u001b[1;36m[libx264 @ 0x7fd7017300c0] \u001b[0mi8 v,h,dc,ddl,ddr,vr,hd,vl,hu: 62%  9% 29%  0%  0%  0%  0%  0%  0%\n",
      "\u001b[1;36m[libx264 @ 0x7fd7017300c0] \u001b[0mi4 v,h,dc,ddl,ddr,vr,hd,vl,hu: 44% 18% 18%  4%  2%  4%  2%  6%  2%\n",
      "\u001b[1;36m[libx264 @ 0x7fd7017300c0] \u001b[0mi8c dc,h,v,p: 89%  8%  3%  0%\n",
      "\u001b[1;36m[libx264 @ 0x7fd7017300c0] \u001b[0mWeighted P-Frames: Y:0.0% UV:0.0%\n",
      "\u001b[1;36m[libx264 @ 0x7fd7017300c0] \u001b[0mref P L0: 80.1%  7.4% 11.3%  1.2%\n",
      "\u001b[1;36m[libx264 @ 0x7fd7017300c0] \u001b[0mref B L0: 74.6% 25.0%  0.5%\n",
      "\u001b[1;36m[libx264 @ 0x7fd7017300c0] \u001b[0mref B L1: 94.1%  5.9%\n",
      "\u001b[1;36m[libx264 @ 0x7fd7017300c0] \u001b[0mkb/s:89.83\n"
     ]
    }
   ],
   "source": [
    "!ffmpeg -framerate 0.5 -i dataframe_%04d.png -c:v libx264 -r 30 -pix_fmt yuv420p MonkeyCoco.mp4"
   ]
  },
  {
   "cell_type": "code",
   "execution_count": 6,
   "metadata": {},
   "outputs": [],
   "source": [
    "# clean up\n",
    "for i, t in enumerate(tables):\n",
    "    file_path = f'dataframe_{i:04d}.png'\n",
    "    os.remove(file_path)"
   ]
  }
 ],
 "metadata": {
  "kernelspec": {
   "display_name": "prob_env",
   "language": "python",
   "name": "python3"
  },
  "language_info": {
   "codemirror_mode": {
    "name": "ipython",
    "version": 3
   },
   "file_extension": ".py",
   "mimetype": "text/x-python",
   "name": "python",
   "nbconvert_exporter": "python",
   "pygments_lexer": "ipython3",
   "version": "3.11.9"
  }
 },
 "nbformat": 4,
 "nbformat_minor": 2
}
