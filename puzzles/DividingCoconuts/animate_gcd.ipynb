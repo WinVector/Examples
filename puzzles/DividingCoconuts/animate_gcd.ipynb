{
 "cells": [
  {
   "cell_type": "code",
   "execution_count": null,
   "metadata": {},
   "outputs": [],
   "source": [
    "import pandas as pd\n",
    "import dataframe_image as dfi\n",
    "from PIL import Image, ImageDraw, ImageFont\n",
    "from gcd_table import build_gcd_table_filled, captured_tables"
   ]
  },
  {
   "cell_type": "code",
   "execution_count": null,
   "metadata": {},
   "outputs": [],
   "source": [
    "# example from:\n",
    "#  https://win-vector.com/2024/10/06/dudeneys-remainder-problem/\n",
    "soln = build_gcd_table_filled(\n",
    "    508811 - 480608, \n",
    "    723217 - 480608,\n",
    "    verbose=True)"
   ]
  },
  {
   "cell_type": "code",
   "execution_count": null,
   "metadata": {},
   "outputs": [],
   "source": [
    "\n",
    "tables = [t for t in captured_tables]  # copy\n",
    "captured_tables.clear()"
   ]
  },
  {
   "cell_type": "code",
   "execution_count": null,
   "metadata": {},
   "outputs": [],
   "source": [
    "soln['u * a + v * b'] = soln['u'] * soln['a'] + soln['v'] * soln['b']\n",
    "soln.attrs['note'] = \"Show Bezout's identity.\"\n",
    "\n",
    "def highlight_col(x):\n",
    "    return ['background-color: yellow; font-weight: bold' if col_name == 'u * a + v * b' else '' for col_name in x.index]\n",
    "\n",
    "\n",
    "tables.append(soln.style.apply(highlight_col, axis=1))"
   ]
  },
  {
   "cell_type": "code",
   "execution_count": null,
   "metadata": {},
   "outputs": [],
   "source": [
    "for i, t in enumerate(tables):\n",
    "    file_name = f'dataframe_{i:04d}.png'\n",
    "    # convert to PNG\n",
    "    dfi.export(t, file_name, dpi=600)\n"
   ]
  },
  {
   "cell_type": "code",
   "execution_count": null,
   "metadata": {},
   "outputs": [],
   "source": [
    "# add annotation notes\n",
    "font = ImageFont.load_default(size=50)\n",
    "text_position = (50, 10)  # x, y coordinates for the text\n",
    "text_color = (0, 0, 0)\n",
    "for i, t in enumerate(tables):\n",
    "    file_name = f'dataframe_{i:04d}.png'\n",
    "    file_name_out = f'dataframe_annotated_{i:04d}.png'\n",
    "    note = t.data.attrs['note']\n",
    "    # add in text or copy image  \n",
    "    image = Image.open(file_name)\n",
    "    draw = ImageDraw.Draw(image)\n",
    "    if note is not None:\n",
    "        draw.text(text_position, note, fill=text_color, font=font)\n",
    "    image.save(file_name_out)"
   ]
  },
  {
   "cell_type": "markdown",
   "metadata": {},
   "source": [
    "Then convert at the command line with:\n",
    "\n",
    "```\n",
    "ffmpeg -framerate 0.5 -i dataframe_annotated_%04d.png -c:v libx264 -r 30 -pix_fmt yuv420p RemainderProblem.mp4\n",
    "```\n"
   ]
  },
  {
   "cell_type": "code",
   "execution_count": null,
   "metadata": {},
   "outputs": [],
   "source": [
    "!ffmpeg -framerate 0.5 -i dataframe_annotated_%04d.png -c:v libx264 -r 30 -pix_fmt yuv420p RemainderProblem.mp4"
   ]
  }
 ],
 "metadata": {
  "kernelspec": {
   "display_name": "prob_env",
   "language": "python",
   "name": "python3"
  },
  "language_info": {
   "codemirror_mode": {
    "name": "ipython",
    "version": 3
   },
   "file_extension": ".py",
   "mimetype": "text/x-python",
   "name": "python",
   "nbconvert_exporter": "python",
   "pygments_lexer": "ipython3",
   "version": "3.11.9"
  }
 },
 "nbformat": 4,
 "nbformat_minor": 2
}
