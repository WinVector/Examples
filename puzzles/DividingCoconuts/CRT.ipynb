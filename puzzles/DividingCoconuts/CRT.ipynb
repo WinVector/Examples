{
 "cells": [
  {
   "cell_type": "markdown",
   "metadata": {},
   "source": [
    "In our article on [Dudeney’s Catching The Mice Puzzle](https://win-vector.com/2024/10/11/dudeneys-catching-the-mice-puzzle/) we claimed a mathematician such as Dudeney could use the [Chinese Remainder Theorem (CRT)](https://en.wikipedia.org/wiki/Chinese_remainder_theorem) to solve for some of the magic integers needed to build solutions.\n",
    "\n",
    "Let's show that at a \"pencil and paper level\" here."
   ]
  },
  {
   "cell_type": "code",
   "execution_count": 1,
   "metadata": {},
   "outputs": [],
   "source": [
    "import pandas as pd\n",
    "from IPython.display import display, Markdown\n",
    "from gcd_table import build_gcd_table_filled"
   ]
  },
  {
   "cell_type": "markdown",
   "metadata": {},
   "source": [
    "Everything follows if we find integers <code>n<sub>a, b, c</sub></code> such that:\n",
    "\n",
    "  * <code>n<sub>a, b, c</sub> &Congruent; a mod 11</code>\n",
    "  * <code>n<sub>a, b, c</sub> &Congruent; b mod 12</code>\n",
    "  * <code>n<sub>a, b, c</sub> &Congruent; a mod 13 </code>\n",
    "\n",
    "for arbitrary <code>a, b, c</code>.\n",
    "\n",
    "<code>(a, b, c)</code> values used in the note included:\n",
    "\n",
    "  * `(1, 0, -1)`\n",
    "  * `(-1, 1, 0)`\n",
    "  * `(0, 0, 11)`\n",
    "  * `(10, 1, 12)`\n",
    "  * `(10, 0, 2)`\n",
    "  * `(10, 1, 1)`"
   ]
  },
  {
   "cell_type": "markdown",
   "metadata": {},
   "source": [
    "Let's solve for the following basis for all such patterns:\n",
    "\n",
    "  * `(1, 0, 0)`\n",
    "  * `(0, 1, 0)`\n",
    "  * `(0, 0, 1)`\n",
    "\n",
    "As one can work out how to build up other solutions from these working modulo `11 * 12 * 13 = 1716`"
   ]
  },
  {
   "cell_type": "markdown",
   "metadata": {},
   "source": [
    "The idea is as follows. If: <code>u * a + v * b = 1</code>, for integers <code>a, b, u, v</code> then:\n",
    "\n",
    "  * <code>u * a</code> is congruent to <code>0</code> modulo <code>a</code> and congruent to <code>1</code> modulo <code>b</code>.\n",
    "\n",
    "Let's apply this."
   ]
  },
  {
   "cell_type": "code",
   "execution_count": 2,
   "metadata": {},
   "outputs": [
    {
     "data": {
      "text/plain": [
       "1716"
      ]
     },
     "execution_count": 2,
     "metadata": {},
     "output_type": "execute_result"
    }
   ],
   "source": [
    "common_modulus = 11 * 12 * 13  # this is the least common multiple of 11, 12, 13\n",
    "\n",
    "common_modulus"
   ]
  },
  {
   "cell_type": "code",
   "execution_count": 3,
   "metadata": {},
   "outputs": [
    {
     "data": {
      "text/html": [
       "<div>\n",
       "<style scoped>\n",
       "    .dataframe tbody tr th:only-of-type {\n",
       "        vertical-align: middle;\n",
       "    }\n",
       "\n",
       "    .dataframe tbody tr th {\n",
       "        vertical-align: top;\n",
       "    }\n",
       "\n",
       "    .dataframe thead th {\n",
       "        text-align: right;\n",
       "    }\n",
       "</style>\n",
       "<table border=\"1\" class=\"dataframe\">\n",
       "  <thead>\n",
       "    <tr style=\"text-align: right;\">\n",
       "      <th></th>\n",
       "      <th>a</th>\n",
       "      <th>b</th>\n",
       "      <th>a%b</th>\n",
       "      <th>a//b</th>\n",
       "      <th>GCD(a, b)</th>\n",
       "      <th>u</th>\n",
       "      <th>v</th>\n",
       "    </tr>\n",
       "  </thead>\n",
       "  <tbody>\n",
       "    <tr>\n",
       "      <th>0</th>\n",
       "      <td>156</td>\n",
       "      <td>11</td>\n",
       "      <td>2</td>\n",
       "      <td>14</td>\n",
       "      <td>1</td>\n",
       "      <td>-5</td>\n",
       "      <td>71</td>\n",
       "    </tr>\n",
       "    <tr>\n",
       "      <th>1</th>\n",
       "      <td>11</td>\n",
       "      <td>2</td>\n",
       "      <td>1</td>\n",
       "      <td>5</td>\n",
       "      <td>1</td>\n",
       "      <td>1</td>\n",
       "      <td>-5</td>\n",
       "    </tr>\n",
       "    <tr>\n",
       "      <th>2</th>\n",
       "      <td>2</td>\n",
       "      <td>1</td>\n",
       "      <td>0</td>\n",
       "      <td>2</td>\n",
       "      <td>1</td>\n",
       "      <td>0</td>\n",
       "      <td>1</td>\n",
       "    </tr>\n",
       "    <tr>\n",
       "      <th>3</th>\n",
       "      <td>1</td>\n",
       "      <td>0</td>\n",
       "      <td>N/A</td>\n",
       "      <td>N/A</td>\n",
       "      <td>1</td>\n",
       "      <td>1</td>\n",
       "      <td>0</td>\n",
       "    </tr>\n",
       "  </tbody>\n",
       "</table>\n",
       "</div>"
      ],
      "text/plain": [
       "     a   b  a%b a//b  GCD(a, b)   u   v\n",
       "0  156  11    2   14          1  -5  71\n",
       "1   11   2    1    5          1   1  -5\n",
       "2    2   1    0    2          1   0   1\n",
       "3    1   0  N/A  N/A          1   1   0"
      ]
     },
     "execution_count": 3,
     "metadata": {},
     "output_type": "execute_result"
    }
   ],
   "source": [
    "# solve for (1, 0 ,0)\n",
    "tbl_1_0_0 = build_gcd_table_filled(12 * 13, 11)\n",
    "\n",
    "tbl_1_0_0"
   ]
  },
  {
   "cell_type": "markdown",
   "metadata": {},
   "source": [
    "In our [Monkey and Coconuts](Monkey_and_Coconuts.ipynb) article we show how to fill in such tables by hand."
   ]
  },
  {
   "cell_type": "code",
   "execution_count": 4,
   "metadata": {},
   "outputs": [
    {
     "data": {
      "text/plain": [
       "936"
      ]
     },
     "execution_count": 4,
     "metadata": {},
     "output_type": "execute_result"
    }
   ],
   "source": [
    "# pull out solution\n",
    "n_1_0_0 = (tbl_1_0_0.loc[0, 'u'] * tbl_1_0_0.loc[0, 'a']) % common_modulus\n",
    "\n",
    "n_1_0_0"
   ]
  },
  {
   "cell_type": "code",
   "execution_count": 5,
   "metadata": {},
   "outputs": [
    {
     "data": {
      "text/plain": [
       "(1, 0, 0)"
      ]
     },
     "execution_count": 5,
     "metadata": {},
     "output_type": "execute_result"
    }
   ],
   "source": [
    "# confirm solution\n",
    "assert (n_1_0_0 % 11, n_1_0_0 % 12, n_1_0_0 % 13) == (1, 0, 0)\n",
    "\n",
    "(n_1_0_0 % 11, n_1_0_0 % 12, n_1_0_0 % 13)"
   ]
  },
  {
   "cell_type": "code",
   "execution_count": 6,
   "metadata": {},
   "outputs": [
    {
     "data": {
      "text/html": [
       "<div>\n",
       "<style scoped>\n",
       "    .dataframe tbody tr th:only-of-type {\n",
       "        vertical-align: middle;\n",
       "    }\n",
       "\n",
       "    .dataframe tbody tr th {\n",
       "        vertical-align: top;\n",
       "    }\n",
       "\n",
       "    .dataframe thead th {\n",
       "        text-align: right;\n",
       "    }\n",
       "</style>\n",
       "<table border=\"1\" class=\"dataframe\">\n",
       "  <thead>\n",
       "    <tr style=\"text-align: right;\">\n",
       "      <th></th>\n",
       "      <th>a</th>\n",
       "      <th>b</th>\n",
       "      <th>a%b</th>\n",
       "      <th>a//b</th>\n",
       "      <th>GCD(a, b)</th>\n",
       "      <th>u</th>\n",
       "      <th>v</th>\n",
       "    </tr>\n",
       "  </thead>\n",
       "  <tbody>\n",
       "    <tr>\n",
       "      <th>0</th>\n",
       "      <td>143</td>\n",
       "      <td>12</td>\n",
       "      <td>11</td>\n",
       "      <td>11</td>\n",
       "      <td>1</td>\n",
       "      <td>-1</td>\n",
       "      <td>12</td>\n",
       "    </tr>\n",
       "    <tr>\n",
       "      <th>1</th>\n",
       "      <td>12</td>\n",
       "      <td>11</td>\n",
       "      <td>1</td>\n",
       "      <td>1</td>\n",
       "      <td>1</td>\n",
       "      <td>1</td>\n",
       "      <td>-1</td>\n",
       "    </tr>\n",
       "    <tr>\n",
       "      <th>2</th>\n",
       "      <td>11</td>\n",
       "      <td>1</td>\n",
       "      <td>0</td>\n",
       "      <td>11</td>\n",
       "      <td>1</td>\n",
       "      <td>0</td>\n",
       "      <td>1</td>\n",
       "    </tr>\n",
       "    <tr>\n",
       "      <th>3</th>\n",
       "      <td>1</td>\n",
       "      <td>0</td>\n",
       "      <td>N/A</td>\n",
       "      <td>N/A</td>\n",
       "      <td>1</td>\n",
       "      <td>1</td>\n",
       "      <td>0</td>\n",
       "    </tr>\n",
       "  </tbody>\n",
       "</table>\n",
       "</div>"
      ],
      "text/plain": [
       "     a   b  a%b a//b  GCD(a, b)   u   v\n",
       "0  143  12   11   11          1  -1  12\n",
       "1   12  11    1    1          1   1  -1\n",
       "2   11   1    0   11          1   0   1\n",
       "3    1   0  N/A  N/A          1   1   0"
      ]
     },
     "execution_count": 6,
     "metadata": {},
     "output_type": "execute_result"
    }
   ],
   "source": [
    "# solve for (0, 1 ,0)\n",
    "tbl_0_1_0 = build_gcd_table_filled(11 * 13, 12)\n",
    "\n",
    "tbl_0_1_0"
   ]
  },
  {
   "cell_type": "code",
   "execution_count": 7,
   "metadata": {},
   "outputs": [
    {
     "data": {
      "text/plain": [
       "1573"
      ]
     },
     "execution_count": 7,
     "metadata": {},
     "output_type": "execute_result"
    }
   ],
   "source": [
    "# pull out solution\n",
    "n_0_1_0 = (tbl_0_1_0.loc[0, 'u'] * tbl_0_1_0.loc[0, 'a']) % common_modulus\n",
    "\n",
    "n_0_1_0"
   ]
  },
  {
   "cell_type": "code",
   "execution_count": 8,
   "metadata": {},
   "outputs": [
    {
     "data": {
      "text/plain": [
       "(0, 1, 0)"
      ]
     },
     "execution_count": 8,
     "metadata": {},
     "output_type": "execute_result"
    }
   ],
   "source": [
    "# confirm solution\n",
    "assert (n_0_1_0 % 11, n_0_1_0 % 12, n_0_1_0 % 13) == (0, 1, 0)\n",
    "\n",
    "(n_0_1_0 % 11, n_0_1_0 % 12, n_0_1_0 % 13)"
   ]
  },
  {
   "cell_type": "code",
   "execution_count": 9,
   "metadata": {},
   "outputs": [
    {
     "data": {
      "text/html": [
       "<div>\n",
       "<style scoped>\n",
       "    .dataframe tbody tr th:only-of-type {\n",
       "        vertical-align: middle;\n",
       "    }\n",
       "\n",
       "    .dataframe tbody tr th {\n",
       "        vertical-align: top;\n",
       "    }\n",
       "\n",
       "    .dataframe thead th {\n",
       "        text-align: right;\n",
       "    }\n",
       "</style>\n",
       "<table border=\"1\" class=\"dataframe\">\n",
       "  <thead>\n",
       "    <tr style=\"text-align: right;\">\n",
       "      <th></th>\n",
       "      <th>a</th>\n",
       "      <th>b</th>\n",
       "      <th>a%b</th>\n",
       "      <th>a//b</th>\n",
       "      <th>GCD(a, b)</th>\n",
       "      <th>u</th>\n",
       "      <th>v</th>\n",
       "    </tr>\n",
       "  </thead>\n",
       "  <tbody>\n",
       "    <tr>\n",
       "      <th>0</th>\n",
       "      <td>132</td>\n",
       "      <td>13</td>\n",
       "      <td>2</td>\n",
       "      <td>10</td>\n",
       "      <td>1</td>\n",
       "      <td>-6</td>\n",
       "      <td>61</td>\n",
       "    </tr>\n",
       "    <tr>\n",
       "      <th>1</th>\n",
       "      <td>13</td>\n",
       "      <td>2</td>\n",
       "      <td>1</td>\n",
       "      <td>6</td>\n",
       "      <td>1</td>\n",
       "      <td>1</td>\n",
       "      <td>-6</td>\n",
       "    </tr>\n",
       "    <tr>\n",
       "      <th>2</th>\n",
       "      <td>2</td>\n",
       "      <td>1</td>\n",
       "      <td>0</td>\n",
       "      <td>2</td>\n",
       "      <td>1</td>\n",
       "      <td>0</td>\n",
       "      <td>1</td>\n",
       "    </tr>\n",
       "    <tr>\n",
       "      <th>3</th>\n",
       "      <td>1</td>\n",
       "      <td>0</td>\n",
       "      <td>N/A</td>\n",
       "      <td>N/A</td>\n",
       "      <td>1</td>\n",
       "      <td>1</td>\n",
       "      <td>0</td>\n",
       "    </tr>\n",
       "  </tbody>\n",
       "</table>\n",
       "</div>"
      ],
      "text/plain": [
       "     a   b  a%b a//b  GCD(a, b)   u   v\n",
       "0  132  13    2   10          1  -6  61\n",
       "1   13   2    1    6          1   1  -6\n",
       "2    2   1    0    2          1   0   1\n",
       "3    1   0  N/A  N/A          1   1   0"
      ]
     },
     "execution_count": 9,
     "metadata": {},
     "output_type": "execute_result"
    }
   ],
   "source": [
    "# solve for (0, 0, 1)\n",
    "tbl_0_0_1 = build_gcd_table_filled(11 * 12, 13)\n",
    "\n",
    "tbl_0_0_1"
   ]
  },
  {
   "cell_type": "code",
   "execution_count": 10,
   "metadata": {},
   "outputs": [
    {
     "data": {
      "text/plain": [
       "924"
      ]
     },
     "execution_count": 10,
     "metadata": {},
     "output_type": "execute_result"
    }
   ],
   "source": [
    "# pull out solution\n",
    "n_0_0_1 = (tbl_0_0_1.loc[0, 'u'] * tbl_0_0_1.loc[0, 'a']) % common_modulus\n",
    "\n",
    "n_0_0_1"
   ]
  },
  {
   "cell_type": "code",
   "execution_count": 11,
   "metadata": {},
   "outputs": [
    {
     "data": {
      "text/plain": [
       "(0, 0, 1)"
      ]
     },
     "execution_count": 11,
     "metadata": {},
     "output_type": "execute_result"
    }
   ],
   "source": [
    "# confirm solution\n",
    "assert (n_0_0_1 % 11, n_0_0_1 % 12, n_0_0_1 % 13) == (0, 0, 1)\n",
    "\n",
    "(n_0_0_1 % 11, n_0_0_1 % 12, n_0_0_1 % 13)"
   ]
  },
  {
   "cell_type": "markdown",
   "metadata": {},
   "source": [
    "Now that we have these basic solutions we can build all the others by just adding stuff up to match the subscripts. The fact the integers modulo the common modulus and the vectors modulo their coordinate moduli have the same additive structure is part of the content of the CRT.\n",
    "\n",
    "Let's confirm this."
   ]
  },
  {
   "cell_type": "code",
   "execution_count": 12,
   "metadata": {},
   "outputs": [
    {
     "name": "stdout",
     "output_type": "stream",
     "text": [
      "pattern: (1, 0, -1) -> solution: 12\n",
      "pattern: (-1, 1, 0) -> solution: 637\n",
      "pattern: (0, 0, 11) -> solution: 1584\n",
      "pattern: (10, 1, 12) -> solution: 1429\n",
      "pattern: (10, 0, 2) -> solution: 912\n",
      "pattern: (10, 1, 1) -> solution: 1561\n",
      "pattern: (1, 0, 0) -> solution: 936\n",
      "pattern: (0, 1, 0) -> solution: 1573\n",
      "pattern: (0, 0, 1) -> solution: 924\n"
     ]
    }
   ],
   "source": [
    "patterns_to_check = [\n",
    "    (1, 0, -1),\n",
    "    (-1, 1, 0),\n",
    "    (0, 0, 11),\n",
    "    (10, 1, 12),\n",
    "    (10, 0, 2),\n",
    "    (10, 1, 1),\n",
    "    (1, 0, 0),\n",
    "    (0, 1, 0),\n",
    "    (0, 0, 1),\n",
    "]\n",
    "\n",
    "for p in patterns_to_check:\n",
    "    soln = (p[0] * n_1_0_0 + p[1] * n_0_1_0 + p[2] * n_0_0_1) % common_modulus\n",
    "    print(f\"pattern: {p} -> solution: {soln}\")\n",
    "    assert (soln % 11, soln % 12, soln % 13) == (p[0] % 11, p[1] % 12, p[2] % 13)"
   ]
  },
  {
   "cell_type": "code",
   "execution_count": null,
   "metadata": {},
   "outputs": [],
   "source": []
  }
 ],
 "metadata": {
  "kernelspec": {
   "display_name": "prob_env",
   "language": "python",
   "name": "python3"
  },
  "language_info": {
   "codemirror_mode": {
    "name": "ipython",
    "version": 3
   },
   "file_extension": ".py",
   "mimetype": "text/x-python",
   "name": "python",
   "nbconvert_exporter": "python",
   "pygments_lexer": "ipython3",
   "version": "3.11.9"
  }
 },
 "nbformat": 4,
 "nbformat_minor": 2
}
