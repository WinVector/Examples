{
 "cells": [
  {
   "cell_type": "markdown",
   "metadata": {},
   "source": [
    "### Dudeney’s Remainder Problem\n",
    "\n",
    "We previously shared another gcd problem: [Dudeney’s Remainder Problem](https://win-vector.com/2024/10/06/dudeneys-remainder-problem/).\n",
    "\n",
    "The above method shows how to calculate a solution to that problem on paper. We can get the answer (79) by filling in a single 8 row table (which we illustrate here by displaying multiple tables). Notice how each row is produced by computing a remainder, and then the first two columns of the next row are just the second two columns of the previous row copied down."
   ]
  },
  {
   "cell_type": "code",
   "execution_count": 1,
   "metadata": {},
   "outputs": [],
   "source": [
    "import numpy as np\n",
    "from gcd_table_sequential import build_gcd_table, build_gcd_table_filled"
   ]
  },
  {
   "cell_type": "code",
   "execution_count": 2,
   "metadata": {},
   "outputs": [],
   "source": [
    "# example from:\n",
    "#  https://win-vector.com/2024/10/06/dudeneys-remainder-problem/\n",
    "x = 480608\n",
    "y = 508811\n",
    "z = 723217"
   ]
  },
  {
   "cell_type": "code",
   "execution_count": 3,
   "metadata": {},
   "outputs": [
    {
     "data": {
      "text/plain": [
       "242609"
      ]
     },
     "execution_count": 3,
     "metadata": {},
     "output_type": "execute_result"
    }
   ],
   "source": [
    "a = z - x\n",
    "\n",
    "a"
   ]
  },
  {
   "cell_type": "code",
   "execution_count": 4,
   "metadata": {},
   "outputs": [
    {
     "data": {
      "text/plain": [
       "28203"
      ]
     },
     "execution_count": 4,
     "metadata": {},
     "output_type": "execute_result"
    }
   ],
   "source": [
    "b = y - x\n",
    "\n",
    "b"
   ]
  },
  {
   "cell_type": "markdown",
   "metadata": {},
   "source": [
    "To find the greatest common divisor of `a, b` one would build a GCD table as follows. The greatest common divisor is the last non-zero value of `r` (found in the penultimate row)."
   ]
  },
  {
   "cell_type": "code",
   "execution_count": 5,
   "metadata": {},
   "outputs": [
    {
     "data": {
      "text/plain": [
       "'Initial table'"
      ]
     },
     "metadata": {},
     "output_type": "display_data"
    },
    {
     "data": {
      "text/html": [
       "<style type=\"text/css\">\n",
       "#T_ee986_row0_col0, #T_ee986_row1_col0 {\n",
       "  background-color: yellow;\n",
       "  font-weight: bold;\n",
       "}\n",
       "</style>\n",
       "<table id=\"T_ee986\">\n",
       "  <thead>\n",
       "    <tr>\n",
       "      <th class=\"blank level0\" >&nbsp;</th>\n",
       "      <th id=\"T_ee986_level0_col0\" class=\"col_heading level0 col0\" >r</th>\n",
       "    </tr>\n",
       "  </thead>\n",
       "  <tbody>\n",
       "    <tr>\n",
       "      <th id=\"T_ee986_level0_row0\" class=\"row_heading level0 row0\" >0</th>\n",
       "      <td id=\"T_ee986_row0_col0\" class=\"data row0 col0\" >242609</td>\n",
       "    </tr>\n",
       "    <tr>\n",
       "      <th id=\"T_ee986_level0_row1\" class=\"row_heading level0 row1\" >1</th>\n",
       "      <td id=\"T_ee986_row1_col0\" class=\"data row1 col0\" >28203</td>\n",
       "    </tr>\n",
       "    <tr>\n",
       "      <th id=\"T_ee986_level0_row2\" class=\"row_heading level0 row2\" >2</th>\n",
       "      <td id=\"T_ee986_row2_col0\" class=\"data row2 col0\" ></td>\n",
       "    </tr>\n",
       "    <tr>\n",
       "      <th id=\"T_ee986_level0_row3\" class=\"row_heading level0 row3\" >3</th>\n",
       "      <td id=\"T_ee986_row3_col0\" class=\"data row3 col0\" ></td>\n",
       "    </tr>\n",
       "    <tr>\n",
       "      <th id=\"T_ee986_level0_row4\" class=\"row_heading level0 row4\" >4</th>\n",
       "      <td id=\"T_ee986_row4_col0\" class=\"data row4 col0\" ></td>\n",
       "    </tr>\n",
       "    <tr>\n",
       "      <th id=\"T_ee986_level0_row5\" class=\"row_heading level0 row5\" >5</th>\n",
       "      <td id=\"T_ee986_row5_col0\" class=\"data row5 col0\" ></td>\n",
       "    </tr>\n",
       "    <tr>\n",
       "      <th id=\"T_ee986_level0_row6\" class=\"row_heading level0 row6\" >6</th>\n",
       "      <td id=\"T_ee986_row6_col0\" class=\"data row6 col0\" ></td>\n",
       "    </tr>\n",
       "    <tr>\n",
       "      <th id=\"T_ee986_level0_row7\" class=\"row_heading level0 row7\" >7</th>\n",
       "      <td id=\"T_ee986_row7_col0\" class=\"data row7 col0\" ></td>\n",
       "    </tr>\n",
       "    <tr>\n",
       "      <th id=\"T_ee986_level0_row8\" class=\"row_heading level0 row8\" >8</th>\n",
       "      <td id=\"T_ee986_row8_col0\" class=\"data row8 col0\" ></td>\n",
       "    </tr>\n",
       "  </tbody>\n",
       "</table>\n"
      ],
      "text/plain": [
       "<pandas.io.formats.style.Styler at 0x146b820d0>"
      ]
     },
     "metadata": {},
     "output_type": "display_data"
    },
    {
     "data": {
      "text/plain": [
       "'build row 2: r[2] = r[0] % r[1], q[2] = r[0] // r[1]'"
      ]
     },
     "metadata": {},
     "output_type": "display_data"
    },
    {
     "data": {
      "text/html": [
       "<style type=\"text/css\">\n",
       "#T_d62d0_row0_col0, #T_d62d0_row1_col0 {\n",
       "  background-color: lightgreen;\n",
       "}\n",
       "#T_d62d0_row2_col0 {\n",
       "  background-color: yellow;\n",
       "  font-weight: bold;\n",
       "}\n",
       "</style>\n",
       "<table id=\"T_d62d0\">\n",
       "  <thead>\n",
       "    <tr>\n",
       "      <th class=\"blank level0\" >&nbsp;</th>\n",
       "      <th id=\"T_d62d0_level0_col0\" class=\"col_heading level0 col0\" >r</th>\n",
       "    </tr>\n",
       "  </thead>\n",
       "  <tbody>\n",
       "    <tr>\n",
       "      <th id=\"T_d62d0_level0_row0\" class=\"row_heading level0 row0\" >0</th>\n",
       "      <td id=\"T_d62d0_row0_col0\" class=\"data row0 col0\" >242609</td>\n",
       "    </tr>\n",
       "    <tr>\n",
       "      <th id=\"T_d62d0_level0_row1\" class=\"row_heading level0 row1\" >1</th>\n",
       "      <td id=\"T_d62d0_row1_col0\" class=\"data row1 col0\" >28203</td>\n",
       "    </tr>\n",
       "    <tr>\n",
       "      <th id=\"T_d62d0_level0_row2\" class=\"row_heading level0 row2\" >2</th>\n",
       "      <td id=\"T_d62d0_row2_col0\" class=\"data row2 col0\" >16985</td>\n",
       "    </tr>\n",
       "    <tr>\n",
       "      <th id=\"T_d62d0_level0_row3\" class=\"row_heading level0 row3\" >3</th>\n",
       "      <td id=\"T_d62d0_row3_col0\" class=\"data row3 col0\" ></td>\n",
       "    </tr>\n",
       "    <tr>\n",
       "      <th id=\"T_d62d0_level0_row4\" class=\"row_heading level0 row4\" >4</th>\n",
       "      <td id=\"T_d62d0_row4_col0\" class=\"data row4 col0\" ></td>\n",
       "    </tr>\n",
       "    <tr>\n",
       "      <th id=\"T_d62d0_level0_row5\" class=\"row_heading level0 row5\" >5</th>\n",
       "      <td id=\"T_d62d0_row5_col0\" class=\"data row5 col0\" ></td>\n",
       "    </tr>\n",
       "    <tr>\n",
       "      <th id=\"T_d62d0_level0_row6\" class=\"row_heading level0 row6\" >6</th>\n",
       "      <td id=\"T_d62d0_row6_col0\" class=\"data row6 col0\" ></td>\n",
       "    </tr>\n",
       "    <tr>\n",
       "      <th id=\"T_d62d0_level0_row7\" class=\"row_heading level0 row7\" >7</th>\n",
       "      <td id=\"T_d62d0_row7_col0\" class=\"data row7 col0\" ></td>\n",
       "    </tr>\n",
       "    <tr>\n",
       "      <th id=\"T_d62d0_level0_row8\" class=\"row_heading level0 row8\" >8</th>\n",
       "      <td id=\"T_d62d0_row8_col0\" class=\"data row8 col0\" ></td>\n",
       "    </tr>\n",
       "  </tbody>\n",
       "</table>\n"
      ],
      "text/plain": [
       "<pandas.io.formats.style.Styler at 0x147a6c4d0>"
      ]
     },
     "metadata": {},
     "output_type": "display_data"
    },
    {
     "data": {
      "text/plain": [
       "'build row 3: r[3] = r[1] % r[2], q[3] = r[1] // r[2]'"
      ]
     },
     "metadata": {},
     "output_type": "display_data"
    },
    {
     "data": {
      "text/html": [
       "<style type=\"text/css\">\n",
       "#T_9c9d0_row1_col0, #T_9c9d0_row2_col0 {\n",
       "  background-color: lightgreen;\n",
       "}\n",
       "#T_9c9d0_row3_col0 {\n",
       "  background-color: yellow;\n",
       "  font-weight: bold;\n",
       "}\n",
       "</style>\n",
       "<table id=\"T_9c9d0\">\n",
       "  <thead>\n",
       "    <tr>\n",
       "      <th class=\"blank level0\" >&nbsp;</th>\n",
       "      <th id=\"T_9c9d0_level0_col0\" class=\"col_heading level0 col0\" >r</th>\n",
       "    </tr>\n",
       "  </thead>\n",
       "  <tbody>\n",
       "    <tr>\n",
       "      <th id=\"T_9c9d0_level0_row0\" class=\"row_heading level0 row0\" >0</th>\n",
       "      <td id=\"T_9c9d0_row0_col0\" class=\"data row0 col0\" >242609</td>\n",
       "    </tr>\n",
       "    <tr>\n",
       "      <th id=\"T_9c9d0_level0_row1\" class=\"row_heading level0 row1\" >1</th>\n",
       "      <td id=\"T_9c9d0_row1_col0\" class=\"data row1 col0\" >28203</td>\n",
       "    </tr>\n",
       "    <tr>\n",
       "      <th id=\"T_9c9d0_level0_row2\" class=\"row_heading level0 row2\" >2</th>\n",
       "      <td id=\"T_9c9d0_row2_col0\" class=\"data row2 col0\" >16985</td>\n",
       "    </tr>\n",
       "    <tr>\n",
       "      <th id=\"T_9c9d0_level0_row3\" class=\"row_heading level0 row3\" >3</th>\n",
       "      <td id=\"T_9c9d0_row3_col0\" class=\"data row3 col0\" >11218</td>\n",
       "    </tr>\n",
       "    <tr>\n",
       "      <th id=\"T_9c9d0_level0_row4\" class=\"row_heading level0 row4\" >4</th>\n",
       "      <td id=\"T_9c9d0_row4_col0\" class=\"data row4 col0\" ></td>\n",
       "    </tr>\n",
       "    <tr>\n",
       "      <th id=\"T_9c9d0_level0_row5\" class=\"row_heading level0 row5\" >5</th>\n",
       "      <td id=\"T_9c9d0_row5_col0\" class=\"data row5 col0\" ></td>\n",
       "    </tr>\n",
       "    <tr>\n",
       "      <th id=\"T_9c9d0_level0_row6\" class=\"row_heading level0 row6\" >6</th>\n",
       "      <td id=\"T_9c9d0_row6_col0\" class=\"data row6 col0\" ></td>\n",
       "    </tr>\n",
       "    <tr>\n",
       "      <th id=\"T_9c9d0_level0_row7\" class=\"row_heading level0 row7\" >7</th>\n",
       "      <td id=\"T_9c9d0_row7_col0\" class=\"data row7 col0\" ></td>\n",
       "    </tr>\n",
       "    <tr>\n",
       "      <th id=\"T_9c9d0_level0_row8\" class=\"row_heading level0 row8\" >8</th>\n",
       "      <td id=\"T_9c9d0_row8_col0\" class=\"data row8 col0\" ></td>\n",
       "    </tr>\n",
       "  </tbody>\n",
       "</table>\n"
      ],
      "text/plain": [
       "<pandas.io.formats.style.Styler at 0x147fed7d0>"
      ]
     },
     "metadata": {},
     "output_type": "display_data"
    },
    {
     "data": {
      "text/plain": [
       "'build row 4: r[4] = r[2] % r[3], q[4] = r[2] // r[3]'"
      ]
     },
     "metadata": {},
     "output_type": "display_data"
    },
    {
     "data": {
      "text/html": [
       "<style type=\"text/css\">\n",
       "#T_2ec34_row2_col0, #T_2ec34_row3_col0 {\n",
       "  background-color: lightgreen;\n",
       "}\n",
       "#T_2ec34_row4_col0 {\n",
       "  background-color: yellow;\n",
       "  font-weight: bold;\n",
       "}\n",
       "</style>\n",
       "<table id=\"T_2ec34\">\n",
       "  <thead>\n",
       "    <tr>\n",
       "      <th class=\"blank level0\" >&nbsp;</th>\n",
       "      <th id=\"T_2ec34_level0_col0\" class=\"col_heading level0 col0\" >r</th>\n",
       "    </tr>\n",
       "  </thead>\n",
       "  <tbody>\n",
       "    <tr>\n",
       "      <th id=\"T_2ec34_level0_row0\" class=\"row_heading level0 row0\" >0</th>\n",
       "      <td id=\"T_2ec34_row0_col0\" class=\"data row0 col0\" >242609</td>\n",
       "    </tr>\n",
       "    <tr>\n",
       "      <th id=\"T_2ec34_level0_row1\" class=\"row_heading level0 row1\" >1</th>\n",
       "      <td id=\"T_2ec34_row1_col0\" class=\"data row1 col0\" >28203</td>\n",
       "    </tr>\n",
       "    <tr>\n",
       "      <th id=\"T_2ec34_level0_row2\" class=\"row_heading level0 row2\" >2</th>\n",
       "      <td id=\"T_2ec34_row2_col0\" class=\"data row2 col0\" >16985</td>\n",
       "    </tr>\n",
       "    <tr>\n",
       "      <th id=\"T_2ec34_level0_row3\" class=\"row_heading level0 row3\" >3</th>\n",
       "      <td id=\"T_2ec34_row3_col0\" class=\"data row3 col0\" >11218</td>\n",
       "    </tr>\n",
       "    <tr>\n",
       "      <th id=\"T_2ec34_level0_row4\" class=\"row_heading level0 row4\" >4</th>\n",
       "      <td id=\"T_2ec34_row4_col0\" class=\"data row4 col0\" >5767</td>\n",
       "    </tr>\n",
       "    <tr>\n",
       "      <th id=\"T_2ec34_level0_row5\" class=\"row_heading level0 row5\" >5</th>\n",
       "      <td id=\"T_2ec34_row5_col0\" class=\"data row5 col0\" ></td>\n",
       "    </tr>\n",
       "    <tr>\n",
       "      <th id=\"T_2ec34_level0_row6\" class=\"row_heading level0 row6\" >6</th>\n",
       "      <td id=\"T_2ec34_row6_col0\" class=\"data row6 col0\" ></td>\n",
       "    </tr>\n",
       "    <tr>\n",
       "      <th id=\"T_2ec34_level0_row7\" class=\"row_heading level0 row7\" >7</th>\n",
       "      <td id=\"T_2ec34_row7_col0\" class=\"data row7 col0\" ></td>\n",
       "    </tr>\n",
       "    <tr>\n",
       "      <th id=\"T_2ec34_level0_row8\" class=\"row_heading level0 row8\" >8</th>\n",
       "      <td id=\"T_2ec34_row8_col0\" class=\"data row8 col0\" ></td>\n",
       "    </tr>\n",
       "  </tbody>\n",
       "</table>\n"
      ],
      "text/plain": [
       "<pandas.io.formats.style.Styler at 0x1483aff50>"
      ]
     },
     "metadata": {},
     "output_type": "display_data"
    },
    {
     "data": {
      "text/plain": [
       "'build row 5: r[5] = r[3] % r[4], q[5] = r[3] // r[4]'"
      ]
     },
     "metadata": {},
     "output_type": "display_data"
    },
    {
     "data": {
      "text/html": [
       "<style type=\"text/css\">\n",
       "#T_4ad7b_row3_col0, #T_4ad7b_row4_col0 {\n",
       "  background-color: lightgreen;\n",
       "}\n",
       "#T_4ad7b_row5_col0 {\n",
       "  background-color: yellow;\n",
       "  font-weight: bold;\n",
       "}\n",
       "</style>\n",
       "<table id=\"T_4ad7b\">\n",
       "  <thead>\n",
       "    <tr>\n",
       "      <th class=\"blank level0\" >&nbsp;</th>\n",
       "      <th id=\"T_4ad7b_level0_col0\" class=\"col_heading level0 col0\" >r</th>\n",
       "    </tr>\n",
       "  </thead>\n",
       "  <tbody>\n",
       "    <tr>\n",
       "      <th id=\"T_4ad7b_level0_row0\" class=\"row_heading level0 row0\" >0</th>\n",
       "      <td id=\"T_4ad7b_row0_col0\" class=\"data row0 col0\" >242609</td>\n",
       "    </tr>\n",
       "    <tr>\n",
       "      <th id=\"T_4ad7b_level0_row1\" class=\"row_heading level0 row1\" >1</th>\n",
       "      <td id=\"T_4ad7b_row1_col0\" class=\"data row1 col0\" >28203</td>\n",
       "    </tr>\n",
       "    <tr>\n",
       "      <th id=\"T_4ad7b_level0_row2\" class=\"row_heading level0 row2\" >2</th>\n",
       "      <td id=\"T_4ad7b_row2_col0\" class=\"data row2 col0\" >16985</td>\n",
       "    </tr>\n",
       "    <tr>\n",
       "      <th id=\"T_4ad7b_level0_row3\" class=\"row_heading level0 row3\" >3</th>\n",
       "      <td id=\"T_4ad7b_row3_col0\" class=\"data row3 col0\" >11218</td>\n",
       "    </tr>\n",
       "    <tr>\n",
       "      <th id=\"T_4ad7b_level0_row4\" class=\"row_heading level0 row4\" >4</th>\n",
       "      <td id=\"T_4ad7b_row4_col0\" class=\"data row4 col0\" >5767</td>\n",
       "    </tr>\n",
       "    <tr>\n",
       "      <th id=\"T_4ad7b_level0_row5\" class=\"row_heading level0 row5\" >5</th>\n",
       "      <td id=\"T_4ad7b_row5_col0\" class=\"data row5 col0\" >5451</td>\n",
       "    </tr>\n",
       "    <tr>\n",
       "      <th id=\"T_4ad7b_level0_row6\" class=\"row_heading level0 row6\" >6</th>\n",
       "      <td id=\"T_4ad7b_row6_col0\" class=\"data row6 col0\" ></td>\n",
       "    </tr>\n",
       "    <tr>\n",
       "      <th id=\"T_4ad7b_level0_row7\" class=\"row_heading level0 row7\" >7</th>\n",
       "      <td id=\"T_4ad7b_row7_col0\" class=\"data row7 col0\" ></td>\n",
       "    </tr>\n",
       "    <tr>\n",
       "      <th id=\"T_4ad7b_level0_row8\" class=\"row_heading level0 row8\" >8</th>\n",
       "      <td id=\"T_4ad7b_row8_col0\" class=\"data row8 col0\" ></td>\n",
       "    </tr>\n",
       "  </tbody>\n",
       "</table>\n"
      ],
      "text/plain": [
       "<pandas.io.formats.style.Styler at 0x1482c8950>"
      ]
     },
     "metadata": {},
     "output_type": "display_data"
    },
    {
     "data": {
      "text/plain": [
       "'build row 6: r[6] = r[4] % r[5], q[6] = r[4] // r[5]'"
      ]
     },
     "metadata": {},
     "output_type": "display_data"
    },
    {
     "data": {
      "text/html": [
       "<style type=\"text/css\">\n",
       "#T_bd28e_row4_col0, #T_bd28e_row5_col0 {\n",
       "  background-color: lightgreen;\n",
       "}\n",
       "#T_bd28e_row6_col0 {\n",
       "  background-color: yellow;\n",
       "  font-weight: bold;\n",
       "}\n",
       "</style>\n",
       "<table id=\"T_bd28e\">\n",
       "  <thead>\n",
       "    <tr>\n",
       "      <th class=\"blank level0\" >&nbsp;</th>\n",
       "      <th id=\"T_bd28e_level0_col0\" class=\"col_heading level0 col0\" >r</th>\n",
       "    </tr>\n",
       "  </thead>\n",
       "  <tbody>\n",
       "    <tr>\n",
       "      <th id=\"T_bd28e_level0_row0\" class=\"row_heading level0 row0\" >0</th>\n",
       "      <td id=\"T_bd28e_row0_col0\" class=\"data row0 col0\" >242609</td>\n",
       "    </tr>\n",
       "    <tr>\n",
       "      <th id=\"T_bd28e_level0_row1\" class=\"row_heading level0 row1\" >1</th>\n",
       "      <td id=\"T_bd28e_row1_col0\" class=\"data row1 col0\" >28203</td>\n",
       "    </tr>\n",
       "    <tr>\n",
       "      <th id=\"T_bd28e_level0_row2\" class=\"row_heading level0 row2\" >2</th>\n",
       "      <td id=\"T_bd28e_row2_col0\" class=\"data row2 col0\" >16985</td>\n",
       "    </tr>\n",
       "    <tr>\n",
       "      <th id=\"T_bd28e_level0_row3\" class=\"row_heading level0 row3\" >3</th>\n",
       "      <td id=\"T_bd28e_row3_col0\" class=\"data row3 col0\" >11218</td>\n",
       "    </tr>\n",
       "    <tr>\n",
       "      <th id=\"T_bd28e_level0_row4\" class=\"row_heading level0 row4\" >4</th>\n",
       "      <td id=\"T_bd28e_row4_col0\" class=\"data row4 col0\" >5767</td>\n",
       "    </tr>\n",
       "    <tr>\n",
       "      <th id=\"T_bd28e_level0_row5\" class=\"row_heading level0 row5\" >5</th>\n",
       "      <td id=\"T_bd28e_row5_col0\" class=\"data row5 col0\" >5451</td>\n",
       "    </tr>\n",
       "    <tr>\n",
       "      <th id=\"T_bd28e_level0_row6\" class=\"row_heading level0 row6\" >6</th>\n",
       "      <td id=\"T_bd28e_row6_col0\" class=\"data row6 col0\" >316</td>\n",
       "    </tr>\n",
       "    <tr>\n",
       "      <th id=\"T_bd28e_level0_row7\" class=\"row_heading level0 row7\" >7</th>\n",
       "      <td id=\"T_bd28e_row7_col0\" class=\"data row7 col0\" ></td>\n",
       "    </tr>\n",
       "    <tr>\n",
       "      <th id=\"T_bd28e_level0_row8\" class=\"row_heading level0 row8\" >8</th>\n",
       "      <td id=\"T_bd28e_row8_col0\" class=\"data row8 col0\" ></td>\n",
       "    </tr>\n",
       "  </tbody>\n",
       "</table>\n"
      ],
      "text/plain": [
       "<pandas.io.formats.style.Styler at 0x1483de7d0>"
      ]
     },
     "metadata": {},
     "output_type": "display_data"
    },
    {
     "data": {
      "text/plain": [
       "'build row 7: r[7] = r[5] % r[6], q[7] = r[5] // r[6]'"
      ]
     },
     "metadata": {},
     "output_type": "display_data"
    },
    {
     "data": {
      "text/html": [
       "<style type=\"text/css\">\n",
       "#T_b793a_row5_col0, #T_b793a_row6_col0 {\n",
       "  background-color: lightgreen;\n",
       "}\n",
       "#T_b793a_row7_col0 {\n",
       "  background-color: yellow;\n",
       "  font-weight: bold;\n",
       "}\n",
       "</style>\n",
       "<table id=\"T_b793a\">\n",
       "  <thead>\n",
       "    <tr>\n",
       "      <th class=\"blank level0\" >&nbsp;</th>\n",
       "      <th id=\"T_b793a_level0_col0\" class=\"col_heading level0 col0\" >r</th>\n",
       "    </tr>\n",
       "  </thead>\n",
       "  <tbody>\n",
       "    <tr>\n",
       "      <th id=\"T_b793a_level0_row0\" class=\"row_heading level0 row0\" >0</th>\n",
       "      <td id=\"T_b793a_row0_col0\" class=\"data row0 col0\" >242609</td>\n",
       "    </tr>\n",
       "    <tr>\n",
       "      <th id=\"T_b793a_level0_row1\" class=\"row_heading level0 row1\" >1</th>\n",
       "      <td id=\"T_b793a_row1_col0\" class=\"data row1 col0\" >28203</td>\n",
       "    </tr>\n",
       "    <tr>\n",
       "      <th id=\"T_b793a_level0_row2\" class=\"row_heading level0 row2\" >2</th>\n",
       "      <td id=\"T_b793a_row2_col0\" class=\"data row2 col0\" >16985</td>\n",
       "    </tr>\n",
       "    <tr>\n",
       "      <th id=\"T_b793a_level0_row3\" class=\"row_heading level0 row3\" >3</th>\n",
       "      <td id=\"T_b793a_row3_col0\" class=\"data row3 col0\" >11218</td>\n",
       "    </tr>\n",
       "    <tr>\n",
       "      <th id=\"T_b793a_level0_row4\" class=\"row_heading level0 row4\" >4</th>\n",
       "      <td id=\"T_b793a_row4_col0\" class=\"data row4 col0\" >5767</td>\n",
       "    </tr>\n",
       "    <tr>\n",
       "      <th id=\"T_b793a_level0_row5\" class=\"row_heading level0 row5\" >5</th>\n",
       "      <td id=\"T_b793a_row5_col0\" class=\"data row5 col0\" >5451</td>\n",
       "    </tr>\n",
       "    <tr>\n",
       "      <th id=\"T_b793a_level0_row6\" class=\"row_heading level0 row6\" >6</th>\n",
       "      <td id=\"T_b793a_row6_col0\" class=\"data row6 col0\" >316</td>\n",
       "    </tr>\n",
       "    <tr>\n",
       "      <th id=\"T_b793a_level0_row7\" class=\"row_heading level0 row7\" >7</th>\n",
       "      <td id=\"T_b793a_row7_col0\" class=\"data row7 col0\" >79</td>\n",
       "    </tr>\n",
       "    <tr>\n",
       "      <th id=\"T_b793a_level0_row8\" class=\"row_heading level0 row8\" >8</th>\n",
       "      <td id=\"T_b793a_row8_col0\" class=\"data row8 col0\" ></td>\n",
       "    </tr>\n",
       "  </tbody>\n",
       "</table>\n"
      ],
      "text/plain": [
       "<pandas.io.formats.style.Styler at 0x1483df2d0>"
      ]
     },
     "metadata": {},
     "output_type": "display_data"
    },
    {
     "data": {
      "text/plain": [
       "'build row 8: r[8] = r[6] % r[7], q[8] = r[6] // r[7]'"
      ]
     },
     "metadata": {},
     "output_type": "display_data"
    },
    {
     "data": {
      "text/html": [
       "<style type=\"text/css\">\n",
       "#T_b6be8_row6_col0, #T_b6be8_row7_col0 {\n",
       "  background-color: lightgreen;\n",
       "}\n",
       "#T_b6be8_row8_col0 {\n",
       "  background-color: yellow;\n",
       "  font-weight: bold;\n",
       "}\n",
       "</style>\n",
       "<table id=\"T_b6be8\">\n",
       "  <thead>\n",
       "    <tr>\n",
       "      <th class=\"blank level0\" >&nbsp;</th>\n",
       "      <th id=\"T_b6be8_level0_col0\" class=\"col_heading level0 col0\" >r</th>\n",
       "    </tr>\n",
       "  </thead>\n",
       "  <tbody>\n",
       "    <tr>\n",
       "      <th id=\"T_b6be8_level0_row0\" class=\"row_heading level0 row0\" >0</th>\n",
       "      <td id=\"T_b6be8_row0_col0\" class=\"data row0 col0\" >242609</td>\n",
       "    </tr>\n",
       "    <tr>\n",
       "      <th id=\"T_b6be8_level0_row1\" class=\"row_heading level0 row1\" >1</th>\n",
       "      <td id=\"T_b6be8_row1_col0\" class=\"data row1 col0\" >28203</td>\n",
       "    </tr>\n",
       "    <tr>\n",
       "      <th id=\"T_b6be8_level0_row2\" class=\"row_heading level0 row2\" >2</th>\n",
       "      <td id=\"T_b6be8_row2_col0\" class=\"data row2 col0\" >16985</td>\n",
       "    </tr>\n",
       "    <tr>\n",
       "      <th id=\"T_b6be8_level0_row3\" class=\"row_heading level0 row3\" >3</th>\n",
       "      <td id=\"T_b6be8_row3_col0\" class=\"data row3 col0\" >11218</td>\n",
       "    </tr>\n",
       "    <tr>\n",
       "      <th id=\"T_b6be8_level0_row4\" class=\"row_heading level0 row4\" >4</th>\n",
       "      <td id=\"T_b6be8_row4_col0\" class=\"data row4 col0\" >5767</td>\n",
       "    </tr>\n",
       "    <tr>\n",
       "      <th id=\"T_b6be8_level0_row5\" class=\"row_heading level0 row5\" >5</th>\n",
       "      <td id=\"T_b6be8_row5_col0\" class=\"data row5 col0\" >5451</td>\n",
       "    </tr>\n",
       "    <tr>\n",
       "      <th id=\"T_b6be8_level0_row6\" class=\"row_heading level0 row6\" >6</th>\n",
       "      <td id=\"T_b6be8_row6_col0\" class=\"data row6 col0\" >316</td>\n",
       "    </tr>\n",
       "    <tr>\n",
       "      <th id=\"T_b6be8_level0_row7\" class=\"row_heading level0 row7\" >7</th>\n",
       "      <td id=\"T_b6be8_row7_col0\" class=\"data row7 col0\" >79</td>\n",
       "    </tr>\n",
       "    <tr>\n",
       "      <th id=\"T_b6be8_level0_row8\" class=\"row_heading level0 row8\" >8</th>\n",
       "      <td id=\"T_b6be8_row8_col0\" class=\"data row8 col0\" >0</td>\n",
       "    </tr>\n",
       "  </tbody>\n",
       "</table>\n"
      ],
      "text/plain": [
       "<pandas.io.formats.style.Styler at 0x1483d2450>"
      ]
     },
     "metadata": {},
     "output_type": "display_data"
    }
   ],
   "source": [
    "soln_1 = build_gcd_table(a, b, record_q=False, verbose=True)"
   ]
  },
  {
   "cell_type": "markdown",
   "metadata": {},
   "source": [
    "And we have our greatest common divisor."
   ]
  },
  {
   "cell_type": "code",
   "execution_count": 6,
   "metadata": {},
   "outputs": [
    {
     "data": {
      "text/plain": [
       "79"
      ]
     },
     "execution_count": 6,
     "metadata": {},
     "output_type": "execute_result"
    }
   ],
   "source": [
    "soln_1.attrs['gcd']"
   ]
  },
  {
   "cell_type": "markdown",
   "metadata": {},
   "source": [
    "We can also find what integer combination of `a, b` is equal to the greatest common divisor. This is called the extended euclidean algorithm, and has a bit more bookkeeping. This wasn't needed for the original puzzle solution, but it is fun to see all the steps in action."
   ]
  },
  {
   "cell_type": "code",
   "execution_count": 7,
   "metadata": {},
   "outputs": [
    {
     "data": {
      "text/plain": [
       "'Initial table'"
      ]
     },
     "metadata": {},
     "output_type": "display_data"
    },
    {
     "data": {
      "text/html": [
       "<style type=\"text/css\">\n",
       "#T_ec123_row0_col0, #T_ec123_row1_col0 {\n",
       "  background-color: yellow;\n",
       "  font-weight: bold;\n",
       "}\n",
       "</style>\n",
       "<table id=\"T_ec123\">\n",
       "  <thead>\n",
       "    <tr>\n",
       "      <th class=\"blank level0\" >&nbsp;</th>\n",
       "      <th id=\"T_ec123_level0_col0\" class=\"col_heading level0 col0\" >r</th>\n",
       "      <th id=\"T_ec123_level0_col1\" class=\"col_heading level0 col1\" >q</th>\n",
       "    </tr>\n",
       "  </thead>\n",
       "  <tbody>\n",
       "    <tr>\n",
       "      <th id=\"T_ec123_level0_row0\" class=\"row_heading level0 row0\" >0</th>\n",
       "      <td id=\"T_ec123_row0_col0\" class=\"data row0 col0\" >242609</td>\n",
       "      <td id=\"T_ec123_row0_col1\" class=\"data row0 col1\" ></td>\n",
       "    </tr>\n",
       "    <tr>\n",
       "      <th id=\"T_ec123_level0_row1\" class=\"row_heading level0 row1\" >1</th>\n",
       "      <td id=\"T_ec123_row1_col0\" class=\"data row1 col0\" >28203</td>\n",
       "      <td id=\"T_ec123_row1_col1\" class=\"data row1 col1\" ></td>\n",
       "    </tr>\n",
       "    <tr>\n",
       "      <th id=\"T_ec123_level0_row2\" class=\"row_heading level0 row2\" >2</th>\n",
       "      <td id=\"T_ec123_row2_col0\" class=\"data row2 col0\" ></td>\n",
       "      <td id=\"T_ec123_row2_col1\" class=\"data row2 col1\" ></td>\n",
       "    </tr>\n",
       "    <tr>\n",
       "      <th id=\"T_ec123_level0_row3\" class=\"row_heading level0 row3\" >3</th>\n",
       "      <td id=\"T_ec123_row3_col0\" class=\"data row3 col0\" ></td>\n",
       "      <td id=\"T_ec123_row3_col1\" class=\"data row3 col1\" ></td>\n",
       "    </tr>\n",
       "    <tr>\n",
       "      <th id=\"T_ec123_level0_row4\" class=\"row_heading level0 row4\" >4</th>\n",
       "      <td id=\"T_ec123_row4_col0\" class=\"data row4 col0\" ></td>\n",
       "      <td id=\"T_ec123_row4_col1\" class=\"data row4 col1\" ></td>\n",
       "    </tr>\n",
       "    <tr>\n",
       "      <th id=\"T_ec123_level0_row5\" class=\"row_heading level0 row5\" >5</th>\n",
       "      <td id=\"T_ec123_row5_col0\" class=\"data row5 col0\" ></td>\n",
       "      <td id=\"T_ec123_row5_col1\" class=\"data row5 col1\" ></td>\n",
       "    </tr>\n",
       "    <tr>\n",
       "      <th id=\"T_ec123_level0_row6\" class=\"row_heading level0 row6\" >6</th>\n",
       "      <td id=\"T_ec123_row6_col0\" class=\"data row6 col0\" ></td>\n",
       "      <td id=\"T_ec123_row6_col1\" class=\"data row6 col1\" ></td>\n",
       "    </tr>\n",
       "    <tr>\n",
       "      <th id=\"T_ec123_level0_row7\" class=\"row_heading level0 row7\" >7</th>\n",
       "      <td id=\"T_ec123_row7_col0\" class=\"data row7 col0\" ></td>\n",
       "      <td id=\"T_ec123_row7_col1\" class=\"data row7 col1\" ></td>\n",
       "    </tr>\n",
       "    <tr>\n",
       "      <th id=\"T_ec123_level0_row8\" class=\"row_heading level0 row8\" >8</th>\n",
       "      <td id=\"T_ec123_row8_col0\" class=\"data row8 col0\" ></td>\n",
       "      <td id=\"T_ec123_row8_col1\" class=\"data row8 col1\" ></td>\n",
       "    </tr>\n",
       "  </tbody>\n",
       "</table>\n"
      ],
      "text/plain": [
       "<pandas.io.formats.style.Styler at 0x1483b52d0>"
      ]
     },
     "metadata": {},
     "output_type": "display_data"
    },
    {
     "data": {
      "text/plain": [
       "'build row 2: r[2] = r[0] % r[1], q[2] = r[0] // r[1]'"
      ]
     },
     "metadata": {},
     "output_type": "display_data"
    },
    {
     "data": {
      "text/html": [
       "<style type=\"text/css\">\n",
       "#T_483f8_row0_col0, #T_483f8_row1_col0 {\n",
       "  background-color: lightgreen;\n",
       "}\n",
       "#T_483f8_row2_col0, #T_483f8_row2_col1 {\n",
       "  background-color: yellow;\n",
       "  font-weight: bold;\n",
       "}\n",
       "</style>\n",
       "<table id=\"T_483f8\">\n",
       "  <thead>\n",
       "    <tr>\n",
       "      <th class=\"blank level0\" >&nbsp;</th>\n",
       "      <th id=\"T_483f8_level0_col0\" class=\"col_heading level0 col0\" >r</th>\n",
       "      <th id=\"T_483f8_level0_col1\" class=\"col_heading level0 col1\" >q</th>\n",
       "    </tr>\n",
       "  </thead>\n",
       "  <tbody>\n",
       "    <tr>\n",
       "      <th id=\"T_483f8_level0_row0\" class=\"row_heading level0 row0\" >0</th>\n",
       "      <td id=\"T_483f8_row0_col0\" class=\"data row0 col0\" >242609</td>\n",
       "      <td id=\"T_483f8_row0_col1\" class=\"data row0 col1\" ></td>\n",
       "    </tr>\n",
       "    <tr>\n",
       "      <th id=\"T_483f8_level0_row1\" class=\"row_heading level0 row1\" >1</th>\n",
       "      <td id=\"T_483f8_row1_col0\" class=\"data row1 col0\" >28203</td>\n",
       "      <td id=\"T_483f8_row1_col1\" class=\"data row1 col1\" ></td>\n",
       "    </tr>\n",
       "    <tr>\n",
       "      <th id=\"T_483f8_level0_row2\" class=\"row_heading level0 row2\" >2</th>\n",
       "      <td id=\"T_483f8_row2_col0\" class=\"data row2 col0\" >16985</td>\n",
       "      <td id=\"T_483f8_row2_col1\" class=\"data row2 col1\" >8</td>\n",
       "    </tr>\n",
       "    <tr>\n",
       "      <th id=\"T_483f8_level0_row3\" class=\"row_heading level0 row3\" >3</th>\n",
       "      <td id=\"T_483f8_row3_col0\" class=\"data row3 col0\" ></td>\n",
       "      <td id=\"T_483f8_row3_col1\" class=\"data row3 col1\" ></td>\n",
       "    </tr>\n",
       "    <tr>\n",
       "      <th id=\"T_483f8_level0_row4\" class=\"row_heading level0 row4\" >4</th>\n",
       "      <td id=\"T_483f8_row4_col0\" class=\"data row4 col0\" ></td>\n",
       "      <td id=\"T_483f8_row4_col1\" class=\"data row4 col1\" ></td>\n",
       "    </tr>\n",
       "    <tr>\n",
       "      <th id=\"T_483f8_level0_row5\" class=\"row_heading level0 row5\" >5</th>\n",
       "      <td id=\"T_483f8_row5_col0\" class=\"data row5 col0\" ></td>\n",
       "      <td id=\"T_483f8_row5_col1\" class=\"data row5 col1\" ></td>\n",
       "    </tr>\n",
       "    <tr>\n",
       "      <th id=\"T_483f8_level0_row6\" class=\"row_heading level0 row6\" >6</th>\n",
       "      <td id=\"T_483f8_row6_col0\" class=\"data row6 col0\" ></td>\n",
       "      <td id=\"T_483f8_row6_col1\" class=\"data row6 col1\" ></td>\n",
       "    </tr>\n",
       "    <tr>\n",
       "      <th id=\"T_483f8_level0_row7\" class=\"row_heading level0 row7\" >7</th>\n",
       "      <td id=\"T_483f8_row7_col0\" class=\"data row7 col0\" ></td>\n",
       "      <td id=\"T_483f8_row7_col1\" class=\"data row7 col1\" ></td>\n",
       "    </tr>\n",
       "    <tr>\n",
       "      <th id=\"T_483f8_level0_row8\" class=\"row_heading level0 row8\" >8</th>\n",
       "      <td id=\"T_483f8_row8_col0\" class=\"data row8 col0\" ></td>\n",
       "      <td id=\"T_483f8_row8_col1\" class=\"data row8 col1\" ></td>\n",
       "    </tr>\n",
       "  </tbody>\n",
       "</table>\n"
      ],
      "text/plain": [
       "<pandas.io.formats.style.Styler at 0x1082c8550>"
      ]
     },
     "metadata": {},
     "output_type": "display_data"
    },
    {
     "data": {
      "text/plain": [
       "'build row 3: r[3] = r[1] % r[2], q[3] = r[1] // r[2]'"
      ]
     },
     "metadata": {},
     "output_type": "display_data"
    },
    {
     "data": {
      "text/html": [
       "<style type=\"text/css\">\n",
       "#T_7c3e0_row1_col0, #T_7c3e0_row2_col0 {\n",
       "  background-color: lightgreen;\n",
       "}\n",
       "#T_7c3e0_row3_col0, #T_7c3e0_row3_col1 {\n",
       "  background-color: yellow;\n",
       "  font-weight: bold;\n",
       "}\n",
       "</style>\n",
       "<table id=\"T_7c3e0\">\n",
       "  <thead>\n",
       "    <tr>\n",
       "      <th class=\"blank level0\" >&nbsp;</th>\n",
       "      <th id=\"T_7c3e0_level0_col0\" class=\"col_heading level0 col0\" >r</th>\n",
       "      <th id=\"T_7c3e0_level0_col1\" class=\"col_heading level0 col1\" >q</th>\n",
       "    </tr>\n",
       "  </thead>\n",
       "  <tbody>\n",
       "    <tr>\n",
       "      <th id=\"T_7c3e0_level0_row0\" class=\"row_heading level0 row0\" >0</th>\n",
       "      <td id=\"T_7c3e0_row0_col0\" class=\"data row0 col0\" >242609</td>\n",
       "      <td id=\"T_7c3e0_row0_col1\" class=\"data row0 col1\" ></td>\n",
       "    </tr>\n",
       "    <tr>\n",
       "      <th id=\"T_7c3e0_level0_row1\" class=\"row_heading level0 row1\" >1</th>\n",
       "      <td id=\"T_7c3e0_row1_col0\" class=\"data row1 col0\" >28203</td>\n",
       "      <td id=\"T_7c3e0_row1_col1\" class=\"data row1 col1\" ></td>\n",
       "    </tr>\n",
       "    <tr>\n",
       "      <th id=\"T_7c3e0_level0_row2\" class=\"row_heading level0 row2\" >2</th>\n",
       "      <td id=\"T_7c3e0_row2_col0\" class=\"data row2 col0\" >16985</td>\n",
       "      <td id=\"T_7c3e0_row2_col1\" class=\"data row2 col1\" >8</td>\n",
       "    </tr>\n",
       "    <tr>\n",
       "      <th id=\"T_7c3e0_level0_row3\" class=\"row_heading level0 row3\" >3</th>\n",
       "      <td id=\"T_7c3e0_row3_col0\" class=\"data row3 col0\" >11218</td>\n",
       "      <td id=\"T_7c3e0_row3_col1\" class=\"data row3 col1\" >1</td>\n",
       "    </tr>\n",
       "    <tr>\n",
       "      <th id=\"T_7c3e0_level0_row4\" class=\"row_heading level0 row4\" >4</th>\n",
       "      <td id=\"T_7c3e0_row4_col0\" class=\"data row4 col0\" ></td>\n",
       "      <td id=\"T_7c3e0_row4_col1\" class=\"data row4 col1\" ></td>\n",
       "    </tr>\n",
       "    <tr>\n",
       "      <th id=\"T_7c3e0_level0_row5\" class=\"row_heading level0 row5\" >5</th>\n",
       "      <td id=\"T_7c3e0_row5_col0\" class=\"data row5 col0\" ></td>\n",
       "      <td id=\"T_7c3e0_row5_col1\" class=\"data row5 col1\" ></td>\n",
       "    </tr>\n",
       "    <tr>\n",
       "      <th id=\"T_7c3e0_level0_row6\" class=\"row_heading level0 row6\" >6</th>\n",
       "      <td id=\"T_7c3e0_row6_col0\" class=\"data row6 col0\" ></td>\n",
       "      <td id=\"T_7c3e0_row6_col1\" class=\"data row6 col1\" ></td>\n",
       "    </tr>\n",
       "    <tr>\n",
       "      <th id=\"T_7c3e0_level0_row7\" class=\"row_heading level0 row7\" >7</th>\n",
       "      <td id=\"T_7c3e0_row7_col0\" class=\"data row7 col0\" ></td>\n",
       "      <td id=\"T_7c3e0_row7_col1\" class=\"data row7 col1\" ></td>\n",
       "    </tr>\n",
       "    <tr>\n",
       "      <th id=\"T_7c3e0_level0_row8\" class=\"row_heading level0 row8\" >8</th>\n",
       "      <td id=\"T_7c3e0_row8_col0\" class=\"data row8 col0\" ></td>\n",
       "      <td id=\"T_7c3e0_row8_col1\" class=\"data row8 col1\" ></td>\n",
       "    </tr>\n",
       "  </tbody>\n",
       "</table>\n"
      ],
      "text/plain": [
       "<pandas.io.formats.style.Styler at 0x1480e0c90>"
      ]
     },
     "metadata": {},
     "output_type": "display_data"
    },
    {
     "data": {
      "text/plain": [
       "'build row 4: r[4] = r[2] % r[3], q[4] = r[2] // r[3]'"
      ]
     },
     "metadata": {},
     "output_type": "display_data"
    },
    {
     "data": {
      "text/html": [
       "<style type=\"text/css\">\n",
       "#T_4ba1a_row2_col0, #T_4ba1a_row3_col0 {\n",
       "  background-color: lightgreen;\n",
       "}\n",
       "#T_4ba1a_row4_col0, #T_4ba1a_row4_col1 {\n",
       "  background-color: yellow;\n",
       "  font-weight: bold;\n",
       "}\n",
       "</style>\n",
       "<table id=\"T_4ba1a\">\n",
       "  <thead>\n",
       "    <tr>\n",
       "      <th class=\"blank level0\" >&nbsp;</th>\n",
       "      <th id=\"T_4ba1a_level0_col0\" class=\"col_heading level0 col0\" >r</th>\n",
       "      <th id=\"T_4ba1a_level0_col1\" class=\"col_heading level0 col1\" >q</th>\n",
       "    </tr>\n",
       "  </thead>\n",
       "  <tbody>\n",
       "    <tr>\n",
       "      <th id=\"T_4ba1a_level0_row0\" class=\"row_heading level0 row0\" >0</th>\n",
       "      <td id=\"T_4ba1a_row0_col0\" class=\"data row0 col0\" >242609</td>\n",
       "      <td id=\"T_4ba1a_row0_col1\" class=\"data row0 col1\" ></td>\n",
       "    </tr>\n",
       "    <tr>\n",
       "      <th id=\"T_4ba1a_level0_row1\" class=\"row_heading level0 row1\" >1</th>\n",
       "      <td id=\"T_4ba1a_row1_col0\" class=\"data row1 col0\" >28203</td>\n",
       "      <td id=\"T_4ba1a_row1_col1\" class=\"data row1 col1\" ></td>\n",
       "    </tr>\n",
       "    <tr>\n",
       "      <th id=\"T_4ba1a_level0_row2\" class=\"row_heading level0 row2\" >2</th>\n",
       "      <td id=\"T_4ba1a_row2_col0\" class=\"data row2 col0\" >16985</td>\n",
       "      <td id=\"T_4ba1a_row2_col1\" class=\"data row2 col1\" >8</td>\n",
       "    </tr>\n",
       "    <tr>\n",
       "      <th id=\"T_4ba1a_level0_row3\" class=\"row_heading level0 row3\" >3</th>\n",
       "      <td id=\"T_4ba1a_row3_col0\" class=\"data row3 col0\" >11218</td>\n",
       "      <td id=\"T_4ba1a_row3_col1\" class=\"data row3 col1\" >1</td>\n",
       "    </tr>\n",
       "    <tr>\n",
       "      <th id=\"T_4ba1a_level0_row4\" class=\"row_heading level0 row4\" >4</th>\n",
       "      <td id=\"T_4ba1a_row4_col0\" class=\"data row4 col0\" >5767</td>\n",
       "      <td id=\"T_4ba1a_row4_col1\" class=\"data row4 col1\" >1</td>\n",
       "    </tr>\n",
       "    <tr>\n",
       "      <th id=\"T_4ba1a_level0_row5\" class=\"row_heading level0 row5\" >5</th>\n",
       "      <td id=\"T_4ba1a_row5_col0\" class=\"data row5 col0\" ></td>\n",
       "      <td id=\"T_4ba1a_row5_col1\" class=\"data row5 col1\" ></td>\n",
       "    </tr>\n",
       "    <tr>\n",
       "      <th id=\"T_4ba1a_level0_row6\" class=\"row_heading level0 row6\" >6</th>\n",
       "      <td id=\"T_4ba1a_row6_col0\" class=\"data row6 col0\" ></td>\n",
       "      <td id=\"T_4ba1a_row6_col1\" class=\"data row6 col1\" ></td>\n",
       "    </tr>\n",
       "    <tr>\n",
       "      <th id=\"T_4ba1a_level0_row7\" class=\"row_heading level0 row7\" >7</th>\n",
       "      <td id=\"T_4ba1a_row7_col0\" class=\"data row7 col0\" ></td>\n",
       "      <td id=\"T_4ba1a_row7_col1\" class=\"data row7 col1\" ></td>\n",
       "    </tr>\n",
       "    <tr>\n",
       "      <th id=\"T_4ba1a_level0_row8\" class=\"row_heading level0 row8\" >8</th>\n",
       "      <td id=\"T_4ba1a_row8_col0\" class=\"data row8 col0\" ></td>\n",
       "      <td id=\"T_4ba1a_row8_col1\" class=\"data row8 col1\" ></td>\n",
       "    </tr>\n",
       "  </tbody>\n",
       "</table>\n"
      ],
      "text/plain": [
       "<pandas.io.formats.style.Styler at 0x147da79d0>"
      ]
     },
     "metadata": {},
     "output_type": "display_data"
    },
    {
     "data": {
      "text/plain": [
       "'build row 5: r[5] = r[3] % r[4], q[5] = r[3] // r[4]'"
      ]
     },
     "metadata": {},
     "output_type": "display_data"
    },
    {
     "data": {
      "text/html": [
       "<style type=\"text/css\">\n",
       "#T_9f7f3_row3_col0, #T_9f7f3_row4_col0 {\n",
       "  background-color: lightgreen;\n",
       "}\n",
       "#T_9f7f3_row5_col0, #T_9f7f3_row5_col1 {\n",
       "  background-color: yellow;\n",
       "  font-weight: bold;\n",
       "}\n",
       "</style>\n",
       "<table id=\"T_9f7f3\">\n",
       "  <thead>\n",
       "    <tr>\n",
       "      <th class=\"blank level0\" >&nbsp;</th>\n",
       "      <th id=\"T_9f7f3_level0_col0\" class=\"col_heading level0 col0\" >r</th>\n",
       "      <th id=\"T_9f7f3_level0_col1\" class=\"col_heading level0 col1\" >q</th>\n",
       "    </tr>\n",
       "  </thead>\n",
       "  <tbody>\n",
       "    <tr>\n",
       "      <th id=\"T_9f7f3_level0_row0\" class=\"row_heading level0 row0\" >0</th>\n",
       "      <td id=\"T_9f7f3_row0_col0\" class=\"data row0 col0\" >242609</td>\n",
       "      <td id=\"T_9f7f3_row0_col1\" class=\"data row0 col1\" ></td>\n",
       "    </tr>\n",
       "    <tr>\n",
       "      <th id=\"T_9f7f3_level0_row1\" class=\"row_heading level0 row1\" >1</th>\n",
       "      <td id=\"T_9f7f3_row1_col0\" class=\"data row1 col0\" >28203</td>\n",
       "      <td id=\"T_9f7f3_row1_col1\" class=\"data row1 col1\" ></td>\n",
       "    </tr>\n",
       "    <tr>\n",
       "      <th id=\"T_9f7f3_level0_row2\" class=\"row_heading level0 row2\" >2</th>\n",
       "      <td id=\"T_9f7f3_row2_col0\" class=\"data row2 col0\" >16985</td>\n",
       "      <td id=\"T_9f7f3_row2_col1\" class=\"data row2 col1\" >8</td>\n",
       "    </tr>\n",
       "    <tr>\n",
       "      <th id=\"T_9f7f3_level0_row3\" class=\"row_heading level0 row3\" >3</th>\n",
       "      <td id=\"T_9f7f3_row3_col0\" class=\"data row3 col0\" >11218</td>\n",
       "      <td id=\"T_9f7f3_row3_col1\" class=\"data row3 col1\" >1</td>\n",
       "    </tr>\n",
       "    <tr>\n",
       "      <th id=\"T_9f7f3_level0_row4\" class=\"row_heading level0 row4\" >4</th>\n",
       "      <td id=\"T_9f7f3_row4_col0\" class=\"data row4 col0\" >5767</td>\n",
       "      <td id=\"T_9f7f3_row4_col1\" class=\"data row4 col1\" >1</td>\n",
       "    </tr>\n",
       "    <tr>\n",
       "      <th id=\"T_9f7f3_level0_row5\" class=\"row_heading level0 row5\" >5</th>\n",
       "      <td id=\"T_9f7f3_row5_col0\" class=\"data row5 col0\" >5451</td>\n",
       "      <td id=\"T_9f7f3_row5_col1\" class=\"data row5 col1\" >1</td>\n",
       "    </tr>\n",
       "    <tr>\n",
       "      <th id=\"T_9f7f3_level0_row6\" class=\"row_heading level0 row6\" >6</th>\n",
       "      <td id=\"T_9f7f3_row6_col0\" class=\"data row6 col0\" ></td>\n",
       "      <td id=\"T_9f7f3_row6_col1\" class=\"data row6 col1\" ></td>\n",
       "    </tr>\n",
       "    <tr>\n",
       "      <th id=\"T_9f7f3_level0_row7\" class=\"row_heading level0 row7\" >7</th>\n",
       "      <td id=\"T_9f7f3_row7_col0\" class=\"data row7 col0\" ></td>\n",
       "      <td id=\"T_9f7f3_row7_col1\" class=\"data row7 col1\" ></td>\n",
       "    </tr>\n",
       "    <tr>\n",
       "      <th id=\"T_9f7f3_level0_row8\" class=\"row_heading level0 row8\" >8</th>\n",
       "      <td id=\"T_9f7f3_row8_col0\" class=\"data row8 col0\" ></td>\n",
       "      <td id=\"T_9f7f3_row8_col1\" class=\"data row8 col1\" ></td>\n",
       "    </tr>\n",
       "  </tbody>\n",
       "</table>\n"
      ],
      "text/plain": [
       "<pandas.io.formats.style.Styler at 0x14817b250>"
      ]
     },
     "metadata": {},
     "output_type": "display_data"
    },
    {
     "data": {
      "text/plain": [
       "'build row 6: r[6] = r[4] % r[5], q[6] = r[4] // r[5]'"
      ]
     },
     "metadata": {},
     "output_type": "display_data"
    },
    {
     "data": {
      "text/html": [
       "<style type=\"text/css\">\n",
       "#T_f8360_row4_col0, #T_f8360_row5_col0 {\n",
       "  background-color: lightgreen;\n",
       "}\n",
       "#T_f8360_row6_col0, #T_f8360_row6_col1 {\n",
       "  background-color: yellow;\n",
       "  font-weight: bold;\n",
       "}\n",
       "</style>\n",
       "<table id=\"T_f8360\">\n",
       "  <thead>\n",
       "    <tr>\n",
       "      <th class=\"blank level0\" >&nbsp;</th>\n",
       "      <th id=\"T_f8360_level0_col0\" class=\"col_heading level0 col0\" >r</th>\n",
       "      <th id=\"T_f8360_level0_col1\" class=\"col_heading level0 col1\" >q</th>\n",
       "    </tr>\n",
       "  </thead>\n",
       "  <tbody>\n",
       "    <tr>\n",
       "      <th id=\"T_f8360_level0_row0\" class=\"row_heading level0 row0\" >0</th>\n",
       "      <td id=\"T_f8360_row0_col0\" class=\"data row0 col0\" >242609</td>\n",
       "      <td id=\"T_f8360_row0_col1\" class=\"data row0 col1\" ></td>\n",
       "    </tr>\n",
       "    <tr>\n",
       "      <th id=\"T_f8360_level0_row1\" class=\"row_heading level0 row1\" >1</th>\n",
       "      <td id=\"T_f8360_row1_col0\" class=\"data row1 col0\" >28203</td>\n",
       "      <td id=\"T_f8360_row1_col1\" class=\"data row1 col1\" ></td>\n",
       "    </tr>\n",
       "    <tr>\n",
       "      <th id=\"T_f8360_level0_row2\" class=\"row_heading level0 row2\" >2</th>\n",
       "      <td id=\"T_f8360_row2_col0\" class=\"data row2 col0\" >16985</td>\n",
       "      <td id=\"T_f8360_row2_col1\" class=\"data row2 col1\" >8</td>\n",
       "    </tr>\n",
       "    <tr>\n",
       "      <th id=\"T_f8360_level0_row3\" class=\"row_heading level0 row3\" >3</th>\n",
       "      <td id=\"T_f8360_row3_col0\" class=\"data row3 col0\" >11218</td>\n",
       "      <td id=\"T_f8360_row3_col1\" class=\"data row3 col1\" >1</td>\n",
       "    </tr>\n",
       "    <tr>\n",
       "      <th id=\"T_f8360_level0_row4\" class=\"row_heading level0 row4\" >4</th>\n",
       "      <td id=\"T_f8360_row4_col0\" class=\"data row4 col0\" >5767</td>\n",
       "      <td id=\"T_f8360_row4_col1\" class=\"data row4 col1\" >1</td>\n",
       "    </tr>\n",
       "    <tr>\n",
       "      <th id=\"T_f8360_level0_row5\" class=\"row_heading level0 row5\" >5</th>\n",
       "      <td id=\"T_f8360_row5_col0\" class=\"data row5 col0\" >5451</td>\n",
       "      <td id=\"T_f8360_row5_col1\" class=\"data row5 col1\" >1</td>\n",
       "    </tr>\n",
       "    <tr>\n",
       "      <th id=\"T_f8360_level0_row6\" class=\"row_heading level0 row6\" >6</th>\n",
       "      <td id=\"T_f8360_row6_col0\" class=\"data row6 col0\" >316</td>\n",
       "      <td id=\"T_f8360_row6_col1\" class=\"data row6 col1\" >1</td>\n",
       "    </tr>\n",
       "    <tr>\n",
       "      <th id=\"T_f8360_level0_row7\" class=\"row_heading level0 row7\" >7</th>\n",
       "      <td id=\"T_f8360_row7_col0\" class=\"data row7 col0\" ></td>\n",
       "      <td id=\"T_f8360_row7_col1\" class=\"data row7 col1\" ></td>\n",
       "    </tr>\n",
       "    <tr>\n",
       "      <th id=\"T_f8360_level0_row8\" class=\"row_heading level0 row8\" >8</th>\n",
       "      <td id=\"T_f8360_row8_col0\" class=\"data row8 col0\" ></td>\n",
       "      <td id=\"T_f8360_row8_col1\" class=\"data row8 col1\" ></td>\n",
       "    </tr>\n",
       "  </tbody>\n",
       "</table>\n"
      ],
      "text/plain": [
       "<pandas.io.formats.style.Styler at 0x1479bd350>"
      ]
     },
     "metadata": {},
     "output_type": "display_data"
    },
    {
     "data": {
      "text/plain": [
       "'build row 7: r[7] = r[5] % r[6], q[7] = r[5] // r[6]'"
      ]
     },
     "metadata": {},
     "output_type": "display_data"
    },
    {
     "data": {
      "text/html": [
       "<style type=\"text/css\">\n",
       "#T_9dede_row5_col0, #T_9dede_row6_col0 {\n",
       "  background-color: lightgreen;\n",
       "}\n",
       "#T_9dede_row7_col0, #T_9dede_row7_col1 {\n",
       "  background-color: yellow;\n",
       "  font-weight: bold;\n",
       "}\n",
       "</style>\n",
       "<table id=\"T_9dede\">\n",
       "  <thead>\n",
       "    <tr>\n",
       "      <th class=\"blank level0\" >&nbsp;</th>\n",
       "      <th id=\"T_9dede_level0_col0\" class=\"col_heading level0 col0\" >r</th>\n",
       "      <th id=\"T_9dede_level0_col1\" class=\"col_heading level0 col1\" >q</th>\n",
       "    </tr>\n",
       "  </thead>\n",
       "  <tbody>\n",
       "    <tr>\n",
       "      <th id=\"T_9dede_level0_row0\" class=\"row_heading level0 row0\" >0</th>\n",
       "      <td id=\"T_9dede_row0_col0\" class=\"data row0 col0\" >242609</td>\n",
       "      <td id=\"T_9dede_row0_col1\" class=\"data row0 col1\" ></td>\n",
       "    </tr>\n",
       "    <tr>\n",
       "      <th id=\"T_9dede_level0_row1\" class=\"row_heading level0 row1\" >1</th>\n",
       "      <td id=\"T_9dede_row1_col0\" class=\"data row1 col0\" >28203</td>\n",
       "      <td id=\"T_9dede_row1_col1\" class=\"data row1 col1\" ></td>\n",
       "    </tr>\n",
       "    <tr>\n",
       "      <th id=\"T_9dede_level0_row2\" class=\"row_heading level0 row2\" >2</th>\n",
       "      <td id=\"T_9dede_row2_col0\" class=\"data row2 col0\" >16985</td>\n",
       "      <td id=\"T_9dede_row2_col1\" class=\"data row2 col1\" >8</td>\n",
       "    </tr>\n",
       "    <tr>\n",
       "      <th id=\"T_9dede_level0_row3\" class=\"row_heading level0 row3\" >3</th>\n",
       "      <td id=\"T_9dede_row3_col0\" class=\"data row3 col0\" >11218</td>\n",
       "      <td id=\"T_9dede_row3_col1\" class=\"data row3 col1\" >1</td>\n",
       "    </tr>\n",
       "    <tr>\n",
       "      <th id=\"T_9dede_level0_row4\" class=\"row_heading level0 row4\" >4</th>\n",
       "      <td id=\"T_9dede_row4_col0\" class=\"data row4 col0\" >5767</td>\n",
       "      <td id=\"T_9dede_row4_col1\" class=\"data row4 col1\" >1</td>\n",
       "    </tr>\n",
       "    <tr>\n",
       "      <th id=\"T_9dede_level0_row5\" class=\"row_heading level0 row5\" >5</th>\n",
       "      <td id=\"T_9dede_row5_col0\" class=\"data row5 col0\" >5451</td>\n",
       "      <td id=\"T_9dede_row5_col1\" class=\"data row5 col1\" >1</td>\n",
       "    </tr>\n",
       "    <tr>\n",
       "      <th id=\"T_9dede_level0_row6\" class=\"row_heading level0 row6\" >6</th>\n",
       "      <td id=\"T_9dede_row6_col0\" class=\"data row6 col0\" >316</td>\n",
       "      <td id=\"T_9dede_row6_col1\" class=\"data row6 col1\" >1</td>\n",
       "    </tr>\n",
       "    <tr>\n",
       "      <th id=\"T_9dede_level0_row7\" class=\"row_heading level0 row7\" >7</th>\n",
       "      <td id=\"T_9dede_row7_col0\" class=\"data row7 col0\" >79</td>\n",
       "      <td id=\"T_9dede_row7_col1\" class=\"data row7 col1\" >17</td>\n",
       "    </tr>\n",
       "    <tr>\n",
       "      <th id=\"T_9dede_level0_row8\" class=\"row_heading level0 row8\" >8</th>\n",
       "      <td id=\"T_9dede_row8_col0\" class=\"data row8 col0\" ></td>\n",
       "      <td id=\"T_9dede_row8_col1\" class=\"data row8 col1\" ></td>\n",
       "    </tr>\n",
       "  </tbody>\n",
       "</table>\n"
      ],
      "text/plain": [
       "<pandas.io.formats.style.Styler at 0x1483df250>"
      ]
     },
     "metadata": {},
     "output_type": "display_data"
    },
    {
     "data": {
      "text/plain": [
       "'build row 8: r[8] = r[6] % r[7], q[8] = r[6] // r[7]'"
      ]
     },
     "metadata": {},
     "output_type": "display_data"
    },
    {
     "data": {
      "text/html": [
       "<style type=\"text/css\">\n",
       "#T_fda5c_row6_col0, #T_fda5c_row7_col0 {\n",
       "  background-color: lightgreen;\n",
       "}\n",
       "#T_fda5c_row8_col0, #T_fda5c_row8_col1 {\n",
       "  background-color: yellow;\n",
       "  font-weight: bold;\n",
       "}\n",
       "</style>\n",
       "<table id=\"T_fda5c\">\n",
       "  <thead>\n",
       "    <tr>\n",
       "      <th class=\"blank level0\" >&nbsp;</th>\n",
       "      <th id=\"T_fda5c_level0_col0\" class=\"col_heading level0 col0\" >r</th>\n",
       "      <th id=\"T_fda5c_level0_col1\" class=\"col_heading level0 col1\" >q</th>\n",
       "    </tr>\n",
       "  </thead>\n",
       "  <tbody>\n",
       "    <tr>\n",
       "      <th id=\"T_fda5c_level0_row0\" class=\"row_heading level0 row0\" >0</th>\n",
       "      <td id=\"T_fda5c_row0_col0\" class=\"data row0 col0\" >242609</td>\n",
       "      <td id=\"T_fda5c_row0_col1\" class=\"data row0 col1\" ></td>\n",
       "    </tr>\n",
       "    <tr>\n",
       "      <th id=\"T_fda5c_level0_row1\" class=\"row_heading level0 row1\" >1</th>\n",
       "      <td id=\"T_fda5c_row1_col0\" class=\"data row1 col0\" >28203</td>\n",
       "      <td id=\"T_fda5c_row1_col1\" class=\"data row1 col1\" ></td>\n",
       "    </tr>\n",
       "    <tr>\n",
       "      <th id=\"T_fda5c_level0_row2\" class=\"row_heading level0 row2\" >2</th>\n",
       "      <td id=\"T_fda5c_row2_col0\" class=\"data row2 col0\" >16985</td>\n",
       "      <td id=\"T_fda5c_row2_col1\" class=\"data row2 col1\" >8</td>\n",
       "    </tr>\n",
       "    <tr>\n",
       "      <th id=\"T_fda5c_level0_row3\" class=\"row_heading level0 row3\" >3</th>\n",
       "      <td id=\"T_fda5c_row3_col0\" class=\"data row3 col0\" >11218</td>\n",
       "      <td id=\"T_fda5c_row3_col1\" class=\"data row3 col1\" >1</td>\n",
       "    </tr>\n",
       "    <tr>\n",
       "      <th id=\"T_fda5c_level0_row4\" class=\"row_heading level0 row4\" >4</th>\n",
       "      <td id=\"T_fda5c_row4_col0\" class=\"data row4 col0\" >5767</td>\n",
       "      <td id=\"T_fda5c_row4_col1\" class=\"data row4 col1\" >1</td>\n",
       "    </tr>\n",
       "    <tr>\n",
       "      <th id=\"T_fda5c_level0_row5\" class=\"row_heading level0 row5\" >5</th>\n",
       "      <td id=\"T_fda5c_row5_col0\" class=\"data row5 col0\" >5451</td>\n",
       "      <td id=\"T_fda5c_row5_col1\" class=\"data row5 col1\" >1</td>\n",
       "    </tr>\n",
       "    <tr>\n",
       "      <th id=\"T_fda5c_level0_row6\" class=\"row_heading level0 row6\" >6</th>\n",
       "      <td id=\"T_fda5c_row6_col0\" class=\"data row6 col0\" >316</td>\n",
       "      <td id=\"T_fda5c_row6_col1\" class=\"data row6 col1\" >1</td>\n",
       "    </tr>\n",
       "    <tr>\n",
       "      <th id=\"T_fda5c_level0_row7\" class=\"row_heading level0 row7\" >7</th>\n",
       "      <td id=\"T_fda5c_row7_col0\" class=\"data row7 col0\" >79</td>\n",
       "      <td id=\"T_fda5c_row7_col1\" class=\"data row7 col1\" >17</td>\n",
       "    </tr>\n",
       "    <tr>\n",
       "      <th id=\"T_fda5c_level0_row8\" class=\"row_heading level0 row8\" >8</th>\n",
       "      <td id=\"T_fda5c_row8_col0\" class=\"data row8 col0\" >0</td>\n",
       "      <td id=\"T_fda5c_row8_col1\" class=\"data row8 col1\" >4</td>\n",
       "    </tr>\n",
       "  </tbody>\n",
       "</table>\n"
      ],
      "text/plain": [
       "<pandas.io.formats.style.Styler at 0x1483fed50>"
      ]
     },
     "metadata": {},
     "output_type": "display_data"
    },
    {
     "data": {
      "text/plain": [
       "'fill row 8: u[8]=1, v[8]=0'"
      ]
     },
     "metadata": {},
     "output_type": "display_data"
    },
    {
     "data": {
      "text/html": [
       "<style type=\"text/css\">\n",
       "#T_c46ba_row8_col2, #T_c46ba_row8_col3 {\n",
       "  background-color: yellow;\n",
       "  font-weight: bold;\n",
       "}\n",
       "</style>\n",
       "<table id=\"T_c46ba\">\n",
       "  <thead>\n",
       "    <tr>\n",
       "      <th class=\"blank level0\" >&nbsp;</th>\n",
       "      <th id=\"T_c46ba_level0_col0\" class=\"col_heading level0 col0\" >r</th>\n",
       "      <th id=\"T_c46ba_level0_col1\" class=\"col_heading level0 col1\" >q</th>\n",
       "      <th id=\"T_c46ba_level0_col2\" class=\"col_heading level0 col2\" >u</th>\n",
       "      <th id=\"T_c46ba_level0_col3\" class=\"col_heading level0 col3\" >v</th>\n",
       "    </tr>\n",
       "  </thead>\n",
       "  <tbody>\n",
       "    <tr>\n",
       "      <th id=\"T_c46ba_level0_row0\" class=\"row_heading level0 row0\" >0</th>\n",
       "      <td id=\"T_c46ba_row0_col0\" class=\"data row0 col0\" >242609</td>\n",
       "      <td id=\"T_c46ba_row0_col1\" class=\"data row0 col1\" ></td>\n",
       "      <td id=\"T_c46ba_row0_col2\" class=\"data row0 col2\" ></td>\n",
       "      <td id=\"T_c46ba_row0_col3\" class=\"data row0 col3\" ></td>\n",
       "    </tr>\n",
       "    <tr>\n",
       "      <th id=\"T_c46ba_level0_row1\" class=\"row_heading level0 row1\" >1</th>\n",
       "      <td id=\"T_c46ba_row1_col0\" class=\"data row1 col0\" >28203</td>\n",
       "      <td id=\"T_c46ba_row1_col1\" class=\"data row1 col1\" ></td>\n",
       "      <td id=\"T_c46ba_row1_col2\" class=\"data row1 col2\" ></td>\n",
       "      <td id=\"T_c46ba_row1_col3\" class=\"data row1 col3\" ></td>\n",
       "    </tr>\n",
       "    <tr>\n",
       "      <th id=\"T_c46ba_level0_row2\" class=\"row_heading level0 row2\" >2</th>\n",
       "      <td id=\"T_c46ba_row2_col0\" class=\"data row2 col0\" >16985</td>\n",
       "      <td id=\"T_c46ba_row2_col1\" class=\"data row2 col1\" >8</td>\n",
       "      <td id=\"T_c46ba_row2_col2\" class=\"data row2 col2\" ></td>\n",
       "      <td id=\"T_c46ba_row2_col3\" class=\"data row2 col3\" ></td>\n",
       "    </tr>\n",
       "    <tr>\n",
       "      <th id=\"T_c46ba_level0_row3\" class=\"row_heading level0 row3\" >3</th>\n",
       "      <td id=\"T_c46ba_row3_col0\" class=\"data row3 col0\" >11218</td>\n",
       "      <td id=\"T_c46ba_row3_col1\" class=\"data row3 col1\" >1</td>\n",
       "      <td id=\"T_c46ba_row3_col2\" class=\"data row3 col2\" ></td>\n",
       "      <td id=\"T_c46ba_row3_col3\" class=\"data row3 col3\" ></td>\n",
       "    </tr>\n",
       "    <tr>\n",
       "      <th id=\"T_c46ba_level0_row4\" class=\"row_heading level0 row4\" >4</th>\n",
       "      <td id=\"T_c46ba_row4_col0\" class=\"data row4 col0\" >5767</td>\n",
       "      <td id=\"T_c46ba_row4_col1\" class=\"data row4 col1\" >1</td>\n",
       "      <td id=\"T_c46ba_row4_col2\" class=\"data row4 col2\" ></td>\n",
       "      <td id=\"T_c46ba_row4_col3\" class=\"data row4 col3\" ></td>\n",
       "    </tr>\n",
       "    <tr>\n",
       "      <th id=\"T_c46ba_level0_row5\" class=\"row_heading level0 row5\" >5</th>\n",
       "      <td id=\"T_c46ba_row5_col0\" class=\"data row5 col0\" >5451</td>\n",
       "      <td id=\"T_c46ba_row5_col1\" class=\"data row5 col1\" >1</td>\n",
       "      <td id=\"T_c46ba_row5_col2\" class=\"data row5 col2\" ></td>\n",
       "      <td id=\"T_c46ba_row5_col3\" class=\"data row5 col3\" ></td>\n",
       "    </tr>\n",
       "    <tr>\n",
       "      <th id=\"T_c46ba_level0_row6\" class=\"row_heading level0 row6\" >6</th>\n",
       "      <td id=\"T_c46ba_row6_col0\" class=\"data row6 col0\" >316</td>\n",
       "      <td id=\"T_c46ba_row6_col1\" class=\"data row6 col1\" >1</td>\n",
       "      <td id=\"T_c46ba_row6_col2\" class=\"data row6 col2\" ></td>\n",
       "      <td id=\"T_c46ba_row6_col3\" class=\"data row6 col3\" ></td>\n",
       "    </tr>\n",
       "    <tr>\n",
       "      <th id=\"T_c46ba_level0_row7\" class=\"row_heading level0 row7\" >7</th>\n",
       "      <td id=\"T_c46ba_row7_col0\" class=\"data row7 col0\" >79</td>\n",
       "      <td id=\"T_c46ba_row7_col1\" class=\"data row7 col1\" >17</td>\n",
       "      <td id=\"T_c46ba_row7_col2\" class=\"data row7 col2\" ></td>\n",
       "      <td id=\"T_c46ba_row7_col3\" class=\"data row7 col3\" ></td>\n",
       "    </tr>\n",
       "    <tr>\n",
       "      <th id=\"T_c46ba_level0_row8\" class=\"row_heading level0 row8\" >8</th>\n",
       "      <td id=\"T_c46ba_row8_col0\" class=\"data row8 col0\" >0</td>\n",
       "      <td id=\"T_c46ba_row8_col1\" class=\"data row8 col1\" >4</td>\n",
       "      <td id=\"T_c46ba_row8_col2\" class=\"data row8 col2\" >1</td>\n",
       "      <td id=\"T_c46ba_row8_col3\" class=\"data row8 col3\" >0</td>\n",
       "    </tr>\n",
       "  </tbody>\n",
       "</table>\n"
      ],
      "text/plain": [
       "<pandas.io.formats.style.Styler at 0x148383610>"
      ]
     },
     "metadata": {},
     "output_type": "display_data"
    },
    {
     "data": {
      "text/plain": [
       "'back fill row 7: u[7]=v[8], v[7] = u[8] - q[8] * v[8]'"
      ]
     },
     "metadata": {},
     "output_type": "display_data"
    },
    {
     "data": {
      "text/html": [
       "<style type=\"text/css\">\n",
       "#T_27f00_row7_col2, #T_27f00_row7_col3 {\n",
       "  background-color: yellow;\n",
       "  font-weight: bold;\n",
       "}\n",
       "#T_27f00_row8_col1, #T_27f00_row8_col2, #T_27f00_row8_col3 {\n",
       "  background-color: lightgreen;\n",
       "}\n",
       "</style>\n",
       "<table id=\"T_27f00\">\n",
       "  <thead>\n",
       "    <tr>\n",
       "      <th class=\"blank level0\" >&nbsp;</th>\n",
       "      <th id=\"T_27f00_level0_col0\" class=\"col_heading level0 col0\" >r</th>\n",
       "      <th id=\"T_27f00_level0_col1\" class=\"col_heading level0 col1\" >q</th>\n",
       "      <th id=\"T_27f00_level0_col2\" class=\"col_heading level0 col2\" >u</th>\n",
       "      <th id=\"T_27f00_level0_col3\" class=\"col_heading level0 col3\" >v</th>\n",
       "    </tr>\n",
       "  </thead>\n",
       "  <tbody>\n",
       "    <tr>\n",
       "      <th id=\"T_27f00_level0_row0\" class=\"row_heading level0 row0\" >0</th>\n",
       "      <td id=\"T_27f00_row0_col0\" class=\"data row0 col0\" >242609</td>\n",
       "      <td id=\"T_27f00_row0_col1\" class=\"data row0 col1\" ></td>\n",
       "      <td id=\"T_27f00_row0_col2\" class=\"data row0 col2\" ></td>\n",
       "      <td id=\"T_27f00_row0_col3\" class=\"data row0 col3\" ></td>\n",
       "    </tr>\n",
       "    <tr>\n",
       "      <th id=\"T_27f00_level0_row1\" class=\"row_heading level0 row1\" >1</th>\n",
       "      <td id=\"T_27f00_row1_col0\" class=\"data row1 col0\" >28203</td>\n",
       "      <td id=\"T_27f00_row1_col1\" class=\"data row1 col1\" ></td>\n",
       "      <td id=\"T_27f00_row1_col2\" class=\"data row1 col2\" ></td>\n",
       "      <td id=\"T_27f00_row1_col3\" class=\"data row1 col3\" ></td>\n",
       "    </tr>\n",
       "    <tr>\n",
       "      <th id=\"T_27f00_level0_row2\" class=\"row_heading level0 row2\" >2</th>\n",
       "      <td id=\"T_27f00_row2_col0\" class=\"data row2 col0\" >16985</td>\n",
       "      <td id=\"T_27f00_row2_col1\" class=\"data row2 col1\" >8</td>\n",
       "      <td id=\"T_27f00_row2_col2\" class=\"data row2 col2\" ></td>\n",
       "      <td id=\"T_27f00_row2_col3\" class=\"data row2 col3\" ></td>\n",
       "    </tr>\n",
       "    <tr>\n",
       "      <th id=\"T_27f00_level0_row3\" class=\"row_heading level0 row3\" >3</th>\n",
       "      <td id=\"T_27f00_row3_col0\" class=\"data row3 col0\" >11218</td>\n",
       "      <td id=\"T_27f00_row3_col1\" class=\"data row3 col1\" >1</td>\n",
       "      <td id=\"T_27f00_row3_col2\" class=\"data row3 col2\" ></td>\n",
       "      <td id=\"T_27f00_row3_col3\" class=\"data row3 col3\" ></td>\n",
       "    </tr>\n",
       "    <tr>\n",
       "      <th id=\"T_27f00_level0_row4\" class=\"row_heading level0 row4\" >4</th>\n",
       "      <td id=\"T_27f00_row4_col0\" class=\"data row4 col0\" >5767</td>\n",
       "      <td id=\"T_27f00_row4_col1\" class=\"data row4 col1\" >1</td>\n",
       "      <td id=\"T_27f00_row4_col2\" class=\"data row4 col2\" ></td>\n",
       "      <td id=\"T_27f00_row4_col3\" class=\"data row4 col3\" ></td>\n",
       "    </tr>\n",
       "    <tr>\n",
       "      <th id=\"T_27f00_level0_row5\" class=\"row_heading level0 row5\" >5</th>\n",
       "      <td id=\"T_27f00_row5_col0\" class=\"data row5 col0\" >5451</td>\n",
       "      <td id=\"T_27f00_row5_col1\" class=\"data row5 col1\" >1</td>\n",
       "      <td id=\"T_27f00_row5_col2\" class=\"data row5 col2\" ></td>\n",
       "      <td id=\"T_27f00_row5_col3\" class=\"data row5 col3\" ></td>\n",
       "    </tr>\n",
       "    <tr>\n",
       "      <th id=\"T_27f00_level0_row6\" class=\"row_heading level0 row6\" >6</th>\n",
       "      <td id=\"T_27f00_row6_col0\" class=\"data row6 col0\" >316</td>\n",
       "      <td id=\"T_27f00_row6_col1\" class=\"data row6 col1\" >1</td>\n",
       "      <td id=\"T_27f00_row6_col2\" class=\"data row6 col2\" ></td>\n",
       "      <td id=\"T_27f00_row6_col3\" class=\"data row6 col3\" ></td>\n",
       "    </tr>\n",
       "    <tr>\n",
       "      <th id=\"T_27f00_level0_row7\" class=\"row_heading level0 row7\" >7</th>\n",
       "      <td id=\"T_27f00_row7_col0\" class=\"data row7 col0\" >79</td>\n",
       "      <td id=\"T_27f00_row7_col1\" class=\"data row7 col1\" >17</td>\n",
       "      <td id=\"T_27f00_row7_col2\" class=\"data row7 col2\" >0</td>\n",
       "      <td id=\"T_27f00_row7_col3\" class=\"data row7 col3\" >1</td>\n",
       "    </tr>\n",
       "    <tr>\n",
       "      <th id=\"T_27f00_level0_row8\" class=\"row_heading level0 row8\" >8</th>\n",
       "      <td id=\"T_27f00_row8_col0\" class=\"data row8 col0\" >0</td>\n",
       "      <td id=\"T_27f00_row8_col1\" class=\"data row8 col1\" >4</td>\n",
       "      <td id=\"T_27f00_row8_col2\" class=\"data row8 col2\" >1</td>\n",
       "      <td id=\"T_27f00_row8_col3\" class=\"data row8 col3\" >0</td>\n",
       "    </tr>\n",
       "  </tbody>\n",
       "</table>\n"
      ],
      "text/plain": [
       "<pandas.io.formats.style.Styler at 0x1483d3990>"
      ]
     },
     "metadata": {},
     "output_type": "display_data"
    },
    {
     "data": {
      "text/plain": [
       "'back fill row 6: u[6]=v[7], v[6] = u[7] - q[7] * v[7]'"
      ]
     },
     "metadata": {},
     "output_type": "display_data"
    },
    {
     "data": {
      "text/html": [
       "<style type=\"text/css\">\n",
       "#T_8b4a7_row6_col2, #T_8b4a7_row6_col3 {\n",
       "  background-color: yellow;\n",
       "  font-weight: bold;\n",
       "}\n",
       "#T_8b4a7_row7_col1, #T_8b4a7_row7_col2, #T_8b4a7_row7_col3 {\n",
       "  background-color: lightgreen;\n",
       "}\n",
       "</style>\n",
       "<table id=\"T_8b4a7\">\n",
       "  <thead>\n",
       "    <tr>\n",
       "      <th class=\"blank level0\" >&nbsp;</th>\n",
       "      <th id=\"T_8b4a7_level0_col0\" class=\"col_heading level0 col0\" >r</th>\n",
       "      <th id=\"T_8b4a7_level0_col1\" class=\"col_heading level0 col1\" >q</th>\n",
       "      <th id=\"T_8b4a7_level0_col2\" class=\"col_heading level0 col2\" >u</th>\n",
       "      <th id=\"T_8b4a7_level0_col3\" class=\"col_heading level0 col3\" >v</th>\n",
       "    </tr>\n",
       "  </thead>\n",
       "  <tbody>\n",
       "    <tr>\n",
       "      <th id=\"T_8b4a7_level0_row0\" class=\"row_heading level0 row0\" >0</th>\n",
       "      <td id=\"T_8b4a7_row0_col0\" class=\"data row0 col0\" >242609</td>\n",
       "      <td id=\"T_8b4a7_row0_col1\" class=\"data row0 col1\" ></td>\n",
       "      <td id=\"T_8b4a7_row0_col2\" class=\"data row0 col2\" ></td>\n",
       "      <td id=\"T_8b4a7_row0_col3\" class=\"data row0 col3\" ></td>\n",
       "    </tr>\n",
       "    <tr>\n",
       "      <th id=\"T_8b4a7_level0_row1\" class=\"row_heading level0 row1\" >1</th>\n",
       "      <td id=\"T_8b4a7_row1_col0\" class=\"data row1 col0\" >28203</td>\n",
       "      <td id=\"T_8b4a7_row1_col1\" class=\"data row1 col1\" ></td>\n",
       "      <td id=\"T_8b4a7_row1_col2\" class=\"data row1 col2\" ></td>\n",
       "      <td id=\"T_8b4a7_row1_col3\" class=\"data row1 col3\" ></td>\n",
       "    </tr>\n",
       "    <tr>\n",
       "      <th id=\"T_8b4a7_level0_row2\" class=\"row_heading level0 row2\" >2</th>\n",
       "      <td id=\"T_8b4a7_row2_col0\" class=\"data row2 col0\" >16985</td>\n",
       "      <td id=\"T_8b4a7_row2_col1\" class=\"data row2 col1\" >8</td>\n",
       "      <td id=\"T_8b4a7_row2_col2\" class=\"data row2 col2\" ></td>\n",
       "      <td id=\"T_8b4a7_row2_col3\" class=\"data row2 col3\" ></td>\n",
       "    </tr>\n",
       "    <tr>\n",
       "      <th id=\"T_8b4a7_level0_row3\" class=\"row_heading level0 row3\" >3</th>\n",
       "      <td id=\"T_8b4a7_row3_col0\" class=\"data row3 col0\" >11218</td>\n",
       "      <td id=\"T_8b4a7_row3_col1\" class=\"data row3 col1\" >1</td>\n",
       "      <td id=\"T_8b4a7_row3_col2\" class=\"data row3 col2\" ></td>\n",
       "      <td id=\"T_8b4a7_row3_col3\" class=\"data row3 col3\" ></td>\n",
       "    </tr>\n",
       "    <tr>\n",
       "      <th id=\"T_8b4a7_level0_row4\" class=\"row_heading level0 row4\" >4</th>\n",
       "      <td id=\"T_8b4a7_row4_col0\" class=\"data row4 col0\" >5767</td>\n",
       "      <td id=\"T_8b4a7_row4_col1\" class=\"data row4 col1\" >1</td>\n",
       "      <td id=\"T_8b4a7_row4_col2\" class=\"data row4 col2\" ></td>\n",
       "      <td id=\"T_8b4a7_row4_col3\" class=\"data row4 col3\" ></td>\n",
       "    </tr>\n",
       "    <tr>\n",
       "      <th id=\"T_8b4a7_level0_row5\" class=\"row_heading level0 row5\" >5</th>\n",
       "      <td id=\"T_8b4a7_row5_col0\" class=\"data row5 col0\" >5451</td>\n",
       "      <td id=\"T_8b4a7_row5_col1\" class=\"data row5 col1\" >1</td>\n",
       "      <td id=\"T_8b4a7_row5_col2\" class=\"data row5 col2\" ></td>\n",
       "      <td id=\"T_8b4a7_row5_col3\" class=\"data row5 col3\" ></td>\n",
       "    </tr>\n",
       "    <tr>\n",
       "      <th id=\"T_8b4a7_level0_row6\" class=\"row_heading level0 row6\" >6</th>\n",
       "      <td id=\"T_8b4a7_row6_col0\" class=\"data row6 col0\" >316</td>\n",
       "      <td id=\"T_8b4a7_row6_col1\" class=\"data row6 col1\" >1</td>\n",
       "      <td id=\"T_8b4a7_row6_col2\" class=\"data row6 col2\" >1</td>\n",
       "      <td id=\"T_8b4a7_row6_col3\" class=\"data row6 col3\" >-17</td>\n",
       "    </tr>\n",
       "    <tr>\n",
       "      <th id=\"T_8b4a7_level0_row7\" class=\"row_heading level0 row7\" >7</th>\n",
       "      <td id=\"T_8b4a7_row7_col0\" class=\"data row7 col0\" >79</td>\n",
       "      <td id=\"T_8b4a7_row7_col1\" class=\"data row7 col1\" >17</td>\n",
       "      <td id=\"T_8b4a7_row7_col2\" class=\"data row7 col2\" >0</td>\n",
       "      <td id=\"T_8b4a7_row7_col3\" class=\"data row7 col3\" >1</td>\n",
       "    </tr>\n",
       "    <tr>\n",
       "      <th id=\"T_8b4a7_level0_row8\" class=\"row_heading level0 row8\" >8</th>\n",
       "      <td id=\"T_8b4a7_row8_col0\" class=\"data row8 col0\" >0</td>\n",
       "      <td id=\"T_8b4a7_row8_col1\" class=\"data row8 col1\" >4</td>\n",
       "      <td id=\"T_8b4a7_row8_col2\" class=\"data row8 col2\" >1</td>\n",
       "      <td id=\"T_8b4a7_row8_col3\" class=\"data row8 col3\" >0</td>\n",
       "    </tr>\n",
       "  </tbody>\n",
       "</table>\n"
      ],
      "text/plain": [
       "<pandas.io.formats.style.Styler at 0x148451f10>"
      ]
     },
     "metadata": {},
     "output_type": "display_data"
    },
    {
     "data": {
      "text/plain": [
       "'back fill row 5: u[5]=v[6], v[5] = u[6] - q[6] * v[6]'"
      ]
     },
     "metadata": {},
     "output_type": "display_data"
    },
    {
     "data": {
      "text/html": [
       "<style type=\"text/css\">\n",
       "#T_86ba6_row5_col2, #T_86ba6_row5_col3 {\n",
       "  background-color: yellow;\n",
       "  font-weight: bold;\n",
       "}\n",
       "#T_86ba6_row6_col1, #T_86ba6_row6_col2, #T_86ba6_row6_col3 {\n",
       "  background-color: lightgreen;\n",
       "}\n",
       "</style>\n",
       "<table id=\"T_86ba6\">\n",
       "  <thead>\n",
       "    <tr>\n",
       "      <th class=\"blank level0\" >&nbsp;</th>\n",
       "      <th id=\"T_86ba6_level0_col0\" class=\"col_heading level0 col0\" >r</th>\n",
       "      <th id=\"T_86ba6_level0_col1\" class=\"col_heading level0 col1\" >q</th>\n",
       "      <th id=\"T_86ba6_level0_col2\" class=\"col_heading level0 col2\" >u</th>\n",
       "      <th id=\"T_86ba6_level0_col3\" class=\"col_heading level0 col3\" >v</th>\n",
       "    </tr>\n",
       "  </thead>\n",
       "  <tbody>\n",
       "    <tr>\n",
       "      <th id=\"T_86ba6_level0_row0\" class=\"row_heading level0 row0\" >0</th>\n",
       "      <td id=\"T_86ba6_row0_col0\" class=\"data row0 col0\" >242609</td>\n",
       "      <td id=\"T_86ba6_row0_col1\" class=\"data row0 col1\" ></td>\n",
       "      <td id=\"T_86ba6_row0_col2\" class=\"data row0 col2\" ></td>\n",
       "      <td id=\"T_86ba6_row0_col3\" class=\"data row0 col3\" ></td>\n",
       "    </tr>\n",
       "    <tr>\n",
       "      <th id=\"T_86ba6_level0_row1\" class=\"row_heading level0 row1\" >1</th>\n",
       "      <td id=\"T_86ba6_row1_col0\" class=\"data row1 col0\" >28203</td>\n",
       "      <td id=\"T_86ba6_row1_col1\" class=\"data row1 col1\" ></td>\n",
       "      <td id=\"T_86ba6_row1_col2\" class=\"data row1 col2\" ></td>\n",
       "      <td id=\"T_86ba6_row1_col3\" class=\"data row1 col3\" ></td>\n",
       "    </tr>\n",
       "    <tr>\n",
       "      <th id=\"T_86ba6_level0_row2\" class=\"row_heading level0 row2\" >2</th>\n",
       "      <td id=\"T_86ba6_row2_col0\" class=\"data row2 col0\" >16985</td>\n",
       "      <td id=\"T_86ba6_row2_col1\" class=\"data row2 col1\" >8</td>\n",
       "      <td id=\"T_86ba6_row2_col2\" class=\"data row2 col2\" ></td>\n",
       "      <td id=\"T_86ba6_row2_col3\" class=\"data row2 col3\" ></td>\n",
       "    </tr>\n",
       "    <tr>\n",
       "      <th id=\"T_86ba6_level0_row3\" class=\"row_heading level0 row3\" >3</th>\n",
       "      <td id=\"T_86ba6_row3_col0\" class=\"data row3 col0\" >11218</td>\n",
       "      <td id=\"T_86ba6_row3_col1\" class=\"data row3 col1\" >1</td>\n",
       "      <td id=\"T_86ba6_row3_col2\" class=\"data row3 col2\" ></td>\n",
       "      <td id=\"T_86ba6_row3_col3\" class=\"data row3 col3\" ></td>\n",
       "    </tr>\n",
       "    <tr>\n",
       "      <th id=\"T_86ba6_level0_row4\" class=\"row_heading level0 row4\" >4</th>\n",
       "      <td id=\"T_86ba6_row4_col0\" class=\"data row4 col0\" >5767</td>\n",
       "      <td id=\"T_86ba6_row4_col1\" class=\"data row4 col1\" >1</td>\n",
       "      <td id=\"T_86ba6_row4_col2\" class=\"data row4 col2\" ></td>\n",
       "      <td id=\"T_86ba6_row4_col3\" class=\"data row4 col3\" ></td>\n",
       "    </tr>\n",
       "    <tr>\n",
       "      <th id=\"T_86ba6_level0_row5\" class=\"row_heading level0 row5\" >5</th>\n",
       "      <td id=\"T_86ba6_row5_col0\" class=\"data row5 col0\" >5451</td>\n",
       "      <td id=\"T_86ba6_row5_col1\" class=\"data row5 col1\" >1</td>\n",
       "      <td id=\"T_86ba6_row5_col2\" class=\"data row5 col2\" >-17</td>\n",
       "      <td id=\"T_86ba6_row5_col3\" class=\"data row5 col3\" >18</td>\n",
       "    </tr>\n",
       "    <tr>\n",
       "      <th id=\"T_86ba6_level0_row6\" class=\"row_heading level0 row6\" >6</th>\n",
       "      <td id=\"T_86ba6_row6_col0\" class=\"data row6 col0\" >316</td>\n",
       "      <td id=\"T_86ba6_row6_col1\" class=\"data row6 col1\" >1</td>\n",
       "      <td id=\"T_86ba6_row6_col2\" class=\"data row6 col2\" >1</td>\n",
       "      <td id=\"T_86ba6_row6_col3\" class=\"data row6 col3\" >-17</td>\n",
       "    </tr>\n",
       "    <tr>\n",
       "      <th id=\"T_86ba6_level0_row7\" class=\"row_heading level0 row7\" >7</th>\n",
       "      <td id=\"T_86ba6_row7_col0\" class=\"data row7 col0\" >79</td>\n",
       "      <td id=\"T_86ba6_row7_col1\" class=\"data row7 col1\" >17</td>\n",
       "      <td id=\"T_86ba6_row7_col2\" class=\"data row7 col2\" >0</td>\n",
       "      <td id=\"T_86ba6_row7_col3\" class=\"data row7 col3\" >1</td>\n",
       "    </tr>\n",
       "    <tr>\n",
       "      <th id=\"T_86ba6_level0_row8\" class=\"row_heading level0 row8\" >8</th>\n",
       "      <td id=\"T_86ba6_row8_col0\" class=\"data row8 col0\" >0</td>\n",
       "      <td id=\"T_86ba6_row8_col1\" class=\"data row8 col1\" >4</td>\n",
       "      <td id=\"T_86ba6_row8_col2\" class=\"data row8 col2\" >1</td>\n",
       "      <td id=\"T_86ba6_row8_col3\" class=\"data row8 col3\" >0</td>\n",
       "    </tr>\n",
       "  </tbody>\n",
       "</table>\n"
      ],
      "text/plain": [
       "<pandas.io.formats.style.Styler at 0x148468610>"
      ]
     },
     "metadata": {},
     "output_type": "display_data"
    },
    {
     "data": {
      "text/plain": [
       "'back fill row 4: u[4]=v[5], v[4] = u[5] - q[5] * v[5]'"
      ]
     },
     "metadata": {},
     "output_type": "display_data"
    },
    {
     "data": {
      "text/html": [
       "<style type=\"text/css\">\n",
       "#T_67933_row4_col2, #T_67933_row4_col3 {\n",
       "  background-color: yellow;\n",
       "  font-weight: bold;\n",
       "}\n",
       "#T_67933_row5_col1, #T_67933_row5_col2, #T_67933_row5_col3 {\n",
       "  background-color: lightgreen;\n",
       "}\n",
       "</style>\n",
       "<table id=\"T_67933\">\n",
       "  <thead>\n",
       "    <tr>\n",
       "      <th class=\"blank level0\" >&nbsp;</th>\n",
       "      <th id=\"T_67933_level0_col0\" class=\"col_heading level0 col0\" >r</th>\n",
       "      <th id=\"T_67933_level0_col1\" class=\"col_heading level0 col1\" >q</th>\n",
       "      <th id=\"T_67933_level0_col2\" class=\"col_heading level0 col2\" >u</th>\n",
       "      <th id=\"T_67933_level0_col3\" class=\"col_heading level0 col3\" >v</th>\n",
       "    </tr>\n",
       "  </thead>\n",
       "  <tbody>\n",
       "    <tr>\n",
       "      <th id=\"T_67933_level0_row0\" class=\"row_heading level0 row0\" >0</th>\n",
       "      <td id=\"T_67933_row0_col0\" class=\"data row0 col0\" >242609</td>\n",
       "      <td id=\"T_67933_row0_col1\" class=\"data row0 col1\" ></td>\n",
       "      <td id=\"T_67933_row0_col2\" class=\"data row0 col2\" ></td>\n",
       "      <td id=\"T_67933_row0_col3\" class=\"data row0 col3\" ></td>\n",
       "    </tr>\n",
       "    <tr>\n",
       "      <th id=\"T_67933_level0_row1\" class=\"row_heading level0 row1\" >1</th>\n",
       "      <td id=\"T_67933_row1_col0\" class=\"data row1 col0\" >28203</td>\n",
       "      <td id=\"T_67933_row1_col1\" class=\"data row1 col1\" ></td>\n",
       "      <td id=\"T_67933_row1_col2\" class=\"data row1 col2\" ></td>\n",
       "      <td id=\"T_67933_row1_col3\" class=\"data row1 col3\" ></td>\n",
       "    </tr>\n",
       "    <tr>\n",
       "      <th id=\"T_67933_level0_row2\" class=\"row_heading level0 row2\" >2</th>\n",
       "      <td id=\"T_67933_row2_col0\" class=\"data row2 col0\" >16985</td>\n",
       "      <td id=\"T_67933_row2_col1\" class=\"data row2 col1\" >8</td>\n",
       "      <td id=\"T_67933_row2_col2\" class=\"data row2 col2\" ></td>\n",
       "      <td id=\"T_67933_row2_col3\" class=\"data row2 col3\" ></td>\n",
       "    </tr>\n",
       "    <tr>\n",
       "      <th id=\"T_67933_level0_row3\" class=\"row_heading level0 row3\" >3</th>\n",
       "      <td id=\"T_67933_row3_col0\" class=\"data row3 col0\" >11218</td>\n",
       "      <td id=\"T_67933_row3_col1\" class=\"data row3 col1\" >1</td>\n",
       "      <td id=\"T_67933_row3_col2\" class=\"data row3 col2\" ></td>\n",
       "      <td id=\"T_67933_row3_col3\" class=\"data row3 col3\" ></td>\n",
       "    </tr>\n",
       "    <tr>\n",
       "      <th id=\"T_67933_level0_row4\" class=\"row_heading level0 row4\" >4</th>\n",
       "      <td id=\"T_67933_row4_col0\" class=\"data row4 col0\" >5767</td>\n",
       "      <td id=\"T_67933_row4_col1\" class=\"data row4 col1\" >1</td>\n",
       "      <td id=\"T_67933_row4_col2\" class=\"data row4 col2\" >18</td>\n",
       "      <td id=\"T_67933_row4_col3\" class=\"data row4 col3\" >-35</td>\n",
       "    </tr>\n",
       "    <tr>\n",
       "      <th id=\"T_67933_level0_row5\" class=\"row_heading level0 row5\" >5</th>\n",
       "      <td id=\"T_67933_row5_col0\" class=\"data row5 col0\" >5451</td>\n",
       "      <td id=\"T_67933_row5_col1\" class=\"data row5 col1\" >1</td>\n",
       "      <td id=\"T_67933_row5_col2\" class=\"data row5 col2\" >-17</td>\n",
       "      <td id=\"T_67933_row5_col3\" class=\"data row5 col3\" >18</td>\n",
       "    </tr>\n",
       "    <tr>\n",
       "      <th id=\"T_67933_level0_row6\" class=\"row_heading level0 row6\" >6</th>\n",
       "      <td id=\"T_67933_row6_col0\" class=\"data row6 col0\" >316</td>\n",
       "      <td id=\"T_67933_row6_col1\" class=\"data row6 col1\" >1</td>\n",
       "      <td id=\"T_67933_row6_col2\" class=\"data row6 col2\" >1</td>\n",
       "      <td id=\"T_67933_row6_col3\" class=\"data row6 col3\" >-17</td>\n",
       "    </tr>\n",
       "    <tr>\n",
       "      <th id=\"T_67933_level0_row7\" class=\"row_heading level0 row7\" >7</th>\n",
       "      <td id=\"T_67933_row7_col0\" class=\"data row7 col0\" >79</td>\n",
       "      <td id=\"T_67933_row7_col1\" class=\"data row7 col1\" >17</td>\n",
       "      <td id=\"T_67933_row7_col2\" class=\"data row7 col2\" >0</td>\n",
       "      <td id=\"T_67933_row7_col3\" class=\"data row7 col3\" >1</td>\n",
       "    </tr>\n",
       "    <tr>\n",
       "      <th id=\"T_67933_level0_row8\" class=\"row_heading level0 row8\" >8</th>\n",
       "      <td id=\"T_67933_row8_col0\" class=\"data row8 col0\" >0</td>\n",
       "      <td id=\"T_67933_row8_col1\" class=\"data row8 col1\" >4</td>\n",
       "      <td id=\"T_67933_row8_col2\" class=\"data row8 col2\" >1</td>\n",
       "      <td id=\"T_67933_row8_col3\" class=\"data row8 col3\" >0</td>\n",
       "    </tr>\n",
       "  </tbody>\n",
       "</table>\n"
      ],
      "text/plain": [
       "<pandas.io.formats.style.Styler at 0x1082cad90>"
      ]
     },
     "metadata": {},
     "output_type": "display_data"
    },
    {
     "data": {
      "text/plain": [
       "'back fill row 3: u[3]=v[4], v[3] = u[4] - q[4] * v[4]'"
      ]
     },
     "metadata": {},
     "output_type": "display_data"
    },
    {
     "data": {
      "text/html": [
       "<style type=\"text/css\">\n",
       "#T_a2e36_row3_col2, #T_a2e36_row3_col3 {\n",
       "  background-color: yellow;\n",
       "  font-weight: bold;\n",
       "}\n",
       "#T_a2e36_row4_col1, #T_a2e36_row4_col2, #T_a2e36_row4_col3 {\n",
       "  background-color: lightgreen;\n",
       "}\n",
       "</style>\n",
       "<table id=\"T_a2e36\">\n",
       "  <thead>\n",
       "    <tr>\n",
       "      <th class=\"blank level0\" >&nbsp;</th>\n",
       "      <th id=\"T_a2e36_level0_col0\" class=\"col_heading level0 col0\" >r</th>\n",
       "      <th id=\"T_a2e36_level0_col1\" class=\"col_heading level0 col1\" >q</th>\n",
       "      <th id=\"T_a2e36_level0_col2\" class=\"col_heading level0 col2\" >u</th>\n",
       "      <th id=\"T_a2e36_level0_col3\" class=\"col_heading level0 col3\" >v</th>\n",
       "    </tr>\n",
       "  </thead>\n",
       "  <tbody>\n",
       "    <tr>\n",
       "      <th id=\"T_a2e36_level0_row0\" class=\"row_heading level0 row0\" >0</th>\n",
       "      <td id=\"T_a2e36_row0_col0\" class=\"data row0 col0\" >242609</td>\n",
       "      <td id=\"T_a2e36_row0_col1\" class=\"data row0 col1\" ></td>\n",
       "      <td id=\"T_a2e36_row0_col2\" class=\"data row0 col2\" ></td>\n",
       "      <td id=\"T_a2e36_row0_col3\" class=\"data row0 col3\" ></td>\n",
       "    </tr>\n",
       "    <tr>\n",
       "      <th id=\"T_a2e36_level0_row1\" class=\"row_heading level0 row1\" >1</th>\n",
       "      <td id=\"T_a2e36_row1_col0\" class=\"data row1 col0\" >28203</td>\n",
       "      <td id=\"T_a2e36_row1_col1\" class=\"data row1 col1\" ></td>\n",
       "      <td id=\"T_a2e36_row1_col2\" class=\"data row1 col2\" ></td>\n",
       "      <td id=\"T_a2e36_row1_col3\" class=\"data row1 col3\" ></td>\n",
       "    </tr>\n",
       "    <tr>\n",
       "      <th id=\"T_a2e36_level0_row2\" class=\"row_heading level0 row2\" >2</th>\n",
       "      <td id=\"T_a2e36_row2_col0\" class=\"data row2 col0\" >16985</td>\n",
       "      <td id=\"T_a2e36_row2_col1\" class=\"data row2 col1\" >8</td>\n",
       "      <td id=\"T_a2e36_row2_col2\" class=\"data row2 col2\" ></td>\n",
       "      <td id=\"T_a2e36_row2_col3\" class=\"data row2 col3\" ></td>\n",
       "    </tr>\n",
       "    <tr>\n",
       "      <th id=\"T_a2e36_level0_row3\" class=\"row_heading level0 row3\" >3</th>\n",
       "      <td id=\"T_a2e36_row3_col0\" class=\"data row3 col0\" >11218</td>\n",
       "      <td id=\"T_a2e36_row3_col1\" class=\"data row3 col1\" >1</td>\n",
       "      <td id=\"T_a2e36_row3_col2\" class=\"data row3 col2\" >-35</td>\n",
       "      <td id=\"T_a2e36_row3_col3\" class=\"data row3 col3\" >53</td>\n",
       "    </tr>\n",
       "    <tr>\n",
       "      <th id=\"T_a2e36_level0_row4\" class=\"row_heading level0 row4\" >4</th>\n",
       "      <td id=\"T_a2e36_row4_col0\" class=\"data row4 col0\" >5767</td>\n",
       "      <td id=\"T_a2e36_row4_col1\" class=\"data row4 col1\" >1</td>\n",
       "      <td id=\"T_a2e36_row4_col2\" class=\"data row4 col2\" >18</td>\n",
       "      <td id=\"T_a2e36_row4_col3\" class=\"data row4 col3\" >-35</td>\n",
       "    </tr>\n",
       "    <tr>\n",
       "      <th id=\"T_a2e36_level0_row5\" class=\"row_heading level0 row5\" >5</th>\n",
       "      <td id=\"T_a2e36_row5_col0\" class=\"data row5 col0\" >5451</td>\n",
       "      <td id=\"T_a2e36_row5_col1\" class=\"data row5 col1\" >1</td>\n",
       "      <td id=\"T_a2e36_row5_col2\" class=\"data row5 col2\" >-17</td>\n",
       "      <td id=\"T_a2e36_row5_col3\" class=\"data row5 col3\" >18</td>\n",
       "    </tr>\n",
       "    <tr>\n",
       "      <th id=\"T_a2e36_level0_row6\" class=\"row_heading level0 row6\" >6</th>\n",
       "      <td id=\"T_a2e36_row6_col0\" class=\"data row6 col0\" >316</td>\n",
       "      <td id=\"T_a2e36_row6_col1\" class=\"data row6 col1\" >1</td>\n",
       "      <td id=\"T_a2e36_row6_col2\" class=\"data row6 col2\" >1</td>\n",
       "      <td id=\"T_a2e36_row6_col3\" class=\"data row6 col3\" >-17</td>\n",
       "    </tr>\n",
       "    <tr>\n",
       "      <th id=\"T_a2e36_level0_row7\" class=\"row_heading level0 row7\" >7</th>\n",
       "      <td id=\"T_a2e36_row7_col0\" class=\"data row7 col0\" >79</td>\n",
       "      <td id=\"T_a2e36_row7_col1\" class=\"data row7 col1\" >17</td>\n",
       "      <td id=\"T_a2e36_row7_col2\" class=\"data row7 col2\" >0</td>\n",
       "      <td id=\"T_a2e36_row7_col3\" class=\"data row7 col3\" >1</td>\n",
       "    </tr>\n",
       "    <tr>\n",
       "      <th id=\"T_a2e36_level0_row8\" class=\"row_heading level0 row8\" >8</th>\n",
       "      <td id=\"T_a2e36_row8_col0\" class=\"data row8 col0\" >0</td>\n",
       "      <td id=\"T_a2e36_row8_col1\" class=\"data row8 col1\" >4</td>\n",
       "      <td id=\"T_a2e36_row8_col2\" class=\"data row8 col2\" >1</td>\n",
       "      <td id=\"T_a2e36_row8_col3\" class=\"data row8 col3\" >0</td>\n",
       "    </tr>\n",
       "  </tbody>\n",
       "</table>\n"
      ],
      "text/plain": [
       "<pandas.io.formats.style.Styler at 0x148472290>"
      ]
     },
     "metadata": {},
     "output_type": "display_data"
    },
    {
     "data": {
      "text/plain": [
       "'back fill row 2: u[2]=v[3], v[2] = u[3] - q[3] * v[3]'"
      ]
     },
     "metadata": {},
     "output_type": "display_data"
    },
    {
     "data": {
      "text/html": [
       "<style type=\"text/css\">\n",
       "#T_fa7de_row2_col2, #T_fa7de_row2_col3 {\n",
       "  background-color: yellow;\n",
       "  font-weight: bold;\n",
       "}\n",
       "#T_fa7de_row3_col1, #T_fa7de_row3_col2, #T_fa7de_row3_col3 {\n",
       "  background-color: lightgreen;\n",
       "}\n",
       "</style>\n",
       "<table id=\"T_fa7de\">\n",
       "  <thead>\n",
       "    <tr>\n",
       "      <th class=\"blank level0\" >&nbsp;</th>\n",
       "      <th id=\"T_fa7de_level0_col0\" class=\"col_heading level0 col0\" >r</th>\n",
       "      <th id=\"T_fa7de_level0_col1\" class=\"col_heading level0 col1\" >q</th>\n",
       "      <th id=\"T_fa7de_level0_col2\" class=\"col_heading level0 col2\" >u</th>\n",
       "      <th id=\"T_fa7de_level0_col3\" class=\"col_heading level0 col3\" >v</th>\n",
       "    </tr>\n",
       "  </thead>\n",
       "  <tbody>\n",
       "    <tr>\n",
       "      <th id=\"T_fa7de_level0_row0\" class=\"row_heading level0 row0\" >0</th>\n",
       "      <td id=\"T_fa7de_row0_col0\" class=\"data row0 col0\" >242609</td>\n",
       "      <td id=\"T_fa7de_row0_col1\" class=\"data row0 col1\" ></td>\n",
       "      <td id=\"T_fa7de_row0_col2\" class=\"data row0 col2\" ></td>\n",
       "      <td id=\"T_fa7de_row0_col3\" class=\"data row0 col3\" ></td>\n",
       "    </tr>\n",
       "    <tr>\n",
       "      <th id=\"T_fa7de_level0_row1\" class=\"row_heading level0 row1\" >1</th>\n",
       "      <td id=\"T_fa7de_row1_col0\" class=\"data row1 col0\" >28203</td>\n",
       "      <td id=\"T_fa7de_row1_col1\" class=\"data row1 col1\" ></td>\n",
       "      <td id=\"T_fa7de_row1_col2\" class=\"data row1 col2\" ></td>\n",
       "      <td id=\"T_fa7de_row1_col3\" class=\"data row1 col3\" ></td>\n",
       "    </tr>\n",
       "    <tr>\n",
       "      <th id=\"T_fa7de_level0_row2\" class=\"row_heading level0 row2\" >2</th>\n",
       "      <td id=\"T_fa7de_row2_col0\" class=\"data row2 col0\" >16985</td>\n",
       "      <td id=\"T_fa7de_row2_col1\" class=\"data row2 col1\" >8</td>\n",
       "      <td id=\"T_fa7de_row2_col2\" class=\"data row2 col2\" >53</td>\n",
       "      <td id=\"T_fa7de_row2_col3\" class=\"data row2 col3\" >-88</td>\n",
       "    </tr>\n",
       "    <tr>\n",
       "      <th id=\"T_fa7de_level0_row3\" class=\"row_heading level0 row3\" >3</th>\n",
       "      <td id=\"T_fa7de_row3_col0\" class=\"data row3 col0\" >11218</td>\n",
       "      <td id=\"T_fa7de_row3_col1\" class=\"data row3 col1\" >1</td>\n",
       "      <td id=\"T_fa7de_row3_col2\" class=\"data row3 col2\" >-35</td>\n",
       "      <td id=\"T_fa7de_row3_col3\" class=\"data row3 col3\" >53</td>\n",
       "    </tr>\n",
       "    <tr>\n",
       "      <th id=\"T_fa7de_level0_row4\" class=\"row_heading level0 row4\" >4</th>\n",
       "      <td id=\"T_fa7de_row4_col0\" class=\"data row4 col0\" >5767</td>\n",
       "      <td id=\"T_fa7de_row4_col1\" class=\"data row4 col1\" >1</td>\n",
       "      <td id=\"T_fa7de_row4_col2\" class=\"data row4 col2\" >18</td>\n",
       "      <td id=\"T_fa7de_row4_col3\" class=\"data row4 col3\" >-35</td>\n",
       "    </tr>\n",
       "    <tr>\n",
       "      <th id=\"T_fa7de_level0_row5\" class=\"row_heading level0 row5\" >5</th>\n",
       "      <td id=\"T_fa7de_row5_col0\" class=\"data row5 col0\" >5451</td>\n",
       "      <td id=\"T_fa7de_row5_col1\" class=\"data row5 col1\" >1</td>\n",
       "      <td id=\"T_fa7de_row5_col2\" class=\"data row5 col2\" >-17</td>\n",
       "      <td id=\"T_fa7de_row5_col3\" class=\"data row5 col3\" >18</td>\n",
       "    </tr>\n",
       "    <tr>\n",
       "      <th id=\"T_fa7de_level0_row6\" class=\"row_heading level0 row6\" >6</th>\n",
       "      <td id=\"T_fa7de_row6_col0\" class=\"data row6 col0\" >316</td>\n",
       "      <td id=\"T_fa7de_row6_col1\" class=\"data row6 col1\" >1</td>\n",
       "      <td id=\"T_fa7de_row6_col2\" class=\"data row6 col2\" >1</td>\n",
       "      <td id=\"T_fa7de_row6_col3\" class=\"data row6 col3\" >-17</td>\n",
       "    </tr>\n",
       "    <tr>\n",
       "      <th id=\"T_fa7de_level0_row7\" class=\"row_heading level0 row7\" >7</th>\n",
       "      <td id=\"T_fa7de_row7_col0\" class=\"data row7 col0\" >79</td>\n",
       "      <td id=\"T_fa7de_row7_col1\" class=\"data row7 col1\" >17</td>\n",
       "      <td id=\"T_fa7de_row7_col2\" class=\"data row7 col2\" >0</td>\n",
       "      <td id=\"T_fa7de_row7_col3\" class=\"data row7 col3\" >1</td>\n",
       "    </tr>\n",
       "    <tr>\n",
       "      <th id=\"T_fa7de_level0_row8\" class=\"row_heading level0 row8\" >8</th>\n",
       "      <td id=\"T_fa7de_row8_col0\" class=\"data row8 col0\" >0</td>\n",
       "      <td id=\"T_fa7de_row8_col1\" class=\"data row8 col1\" >4</td>\n",
       "      <td id=\"T_fa7de_row8_col2\" class=\"data row8 col2\" >1</td>\n",
       "      <td id=\"T_fa7de_row8_col3\" class=\"data row8 col3\" >0</td>\n",
       "    </tr>\n",
       "  </tbody>\n",
       "</table>\n"
      ],
      "text/plain": [
       "<pandas.io.formats.style.Styler at 0x14846ea50>"
      ]
     },
     "metadata": {},
     "output_type": "display_data"
    },
    {
     "data": {
      "text/plain": [
       "'back fill row 1: u[1]=v[2], v[1] = u[2] - q[2] * v[2]'"
      ]
     },
     "metadata": {},
     "output_type": "display_data"
    },
    {
     "data": {
      "text/html": [
       "<style type=\"text/css\">\n",
       "#T_aea84_row1_col2, #T_aea84_row1_col3 {\n",
       "  background-color: yellow;\n",
       "  font-weight: bold;\n",
       "}\n",
       "#T_aea84_row2_col1, #T_aea84_row2_col2, #T_aea84_row2_col3 {\n",
       "  background-color: lightgreen;\n",
       "}\n",
       "</style>\n",
       "<table id=\"T_aea84\">\n",
       "  <thead>\n",
       "    <tr>\n",
       "      <th class=\"blank level0\" >&nbsp;</th>\n",
       "      <th id=\"T_aea84_level0_col0\" class=\"col_heading level0 col0\" >r</th>\n",
       "      <th id=\"T_aea84_level0_col1\" class=\"col_heading level0 col1\" >q</th>\n",
       "      <th id=\"T_aea84_level0_col2\" class=\"col_heading level0 col2\" >u</th>\n",
       "      <th id=\"T_aea84_level0_col3\" class=\"col_heading level0 col3\" >v</th>\n",
       "    </tr>\n",
       "  </thead>\n",
       "  <tbody>\n",
       "    <tr>\n",
       "      <th id=\"T_aea84_level0_row0\" class=\"row_heading level0 row0\" >0</th>\n",
       "      <td id=\"T_aea84_row0_col0\" class=\"data row0 col0\" >242609</td>\n",
       "      <td id=\"T_aea84_row0_col1\" class=\"data row0 col1\" ></td>\n",
       "      <td id=\"T_aea84_row0_col2\" class=\"data row0 col2\" ></td>\n",
       "      <td id=\"T_aea84_row0_col3\" class=\"data row0 col3\" ></td>\n",
       "    </tr>\n",
       "    <tr>\n",
       "      <th id=\"T_aea84_level0_row1\" class=\"row_heading level0 row1\" >1</th>\n",
       "      <td id=\"T_aea84_row1_col0\" class=\"data row1 col0\" >28203</td>\n",
       "      <td id=\"T_aea84_row1_col1\" class=\"data row1 col1\" ></td>\n",
       "      <td id=\"T_aea84_row1_col2\" class=\"data row1 col2\" >-88</td>\n",
       "      <td id=\"T_aea84_row1_col3\" class=\"data row1 col3\" >757</td>\n",
       "    </tr>\n",
       "    <tr>\n",
       "      <th id=\"T_aea84_level0_row2\" class=\"row_heading level0 row2\" >2</th>\n",
       "      <td id=\"T_aea84_row2_col0\" class=\"data row2 col0\" >16985</td>\n",
       "      <td id=\"T_aea84_row2_col1\" class=\"data row2 col1\" >8</td>\n",
       "      <td id=\"T_aea84_row2_col2\" class=\"data row2 col2\" >53</td>\n",
       "      <td id=\"T_aea84_row2_col3\" class=\"data row2 col3\" >-88</td>\n",
       "    </tr>\n",
       "    <tr>\n",
       "      <th id=\"T_aea84_level0_row3\" class=\"row_heading level0 row3\" >3</th>\n",
       "      <td id=\"T_aea84_row3_col0\" class=\"data row3 col0\" >11218</td>\n",
       "      <td id=\"T_aea84_row3_col1\" class=\"data row3 col1\" >1</td>\n",
       "      <td id=\"T_aea84_row3_col2\" class=\"data row3 col2\" >-35</td>\n",
       "      <td id=\"T_aea84_row3_col3\" class=\"data row3 col3\" >53</td>\n",
       "    </tr>\n",
       "    <tr>\n",
       "      <th id=\"T_aea84_level0_row4\" class=\"row_heading level0 row4\" >4</th>\n",
       "      <td id=\"T_aea84_row4_col0\" class=\"data row4 col0\" >5767</td>\n",
       "      <td id=\"T_aea84_row4_col1\" class=\"data row4 col1\" >1</td>\n",
       "      <td id=\"T_aea84_row4_col2\" class=\"data row4 col2\" >18</td>\n",
       "      <td id=\"T_aea84_row4_col3\" class=\"data row4 col3\" >-35</td>\n",
       "    </tr>\n",
       "    <tr>\n",
       "      <th id=\"T_aea84_level0_row5\" class=\"row_heading level0 row5\" >5</th>\n",
       "      <td id=\"T_aea84_row5_col0\" class=\"data row5 col0\" >5451</td>\n",
       "      <td id=\"T_aea84_row5_col1\" class=\"data row5 col1\" >1</td>\n",
       "      <td id=\"T_aea84_row5_col2\" class=\"data row5 col2\" >-17</td>\n",
       "      <td id=\"T_aea84_row5_col3\" class=\"data row5 col3\" >18</td>\n",
       "    </tr>\n",
       "    <tr>\n",
       "      <th id=\"T_aea84_level0_row6\" class=\"row_heading level0 row6\" >6</th>\n",
       "      <td id=\"T_aea84_row6_col0\" class=\"data row6 col0\" >316</td>\n",
       "      <td id=\"T_aea84_row6_col1\" class=\"data row6 col1\" >1</td>\n",
       "      <td id=\"T_aea84_row6_col2\" class=\"data row6 col2\" >1</td>\n",
       "      <td id=\"T_aea84_row6_col3\" class=\"data row6 col3\" >-17</td>\n",
       "    </tr>\n",
       "    <tr>\n",
       "      <th id=\"T_aea84_level0_row7\" class=\"row_heading level0 row7\" >7</th>\n",
       "      <td id=\"T_aea84_row7_col0\" class=\"data row7 col0\" >79</td>\n",
       "      <td id=\"T_aea84_row7_col1\" class=\"data row7 col1\" >17</td>\n",
       "      <td id=\"T_aea84_row7_col2\" class=\"data row7 col2\" >0</td>\n",
       "      <td id=\"T_aea84_row7_col3\" class=\"data row7 col3\" >1</td>\n",
       "    </tr>\n",
       "    <tr>\n",
       "      <th id=\"T_aea84_level0_row8\" class=\"row_heading level0 row8\" >8</th>\n",
       "      <td id=\"T_aea84_row8_col0\" class=\"data row8 col0\" >0</td>\n",
       "      <td id=\"T_aea84_row8_col1\" class=\"data row8 col1\" >4</td>\n",
       "      <td id=\"T_aea84_row8_col2\" class=\"data row8 col2\" >1</td>\n",
       "      <td id=\"T_aea84_row8_col3\" class=\"data row8 col3\" >0</td>\n",
       "    </tr>\n",
       "  </tbody>\n",
       "</table>\n"
      ],
      "text/plain": [
       "<pandas.io.formats.style.Styler at 0x148460990>"
      ]
     },
     "metadata": {},
     "output_type": "display_data"
    }
   ],
   "source": [
    "\n",
    "soln = build_gcd_table_filled(a, b, verbose=True)\n"
   ]
  },
  {
   "cell_type": "markdown",
   "metadata": {},
   "source": [
    "The greatest common divisor is `soln.loc[soln.shape[0] - 2, 'r']`."
   ]
  },
  {
   "cell_type": "code",
   "execution_count": 8,
   "metadata": {},
   "outputs": [
    {
     "data": {
      "text/plain": [
       "79"
      ]
     },
     "execution_count": 8,
     "metadata": {},
     "output_type": "execute_result"
    }
   ],
   "source": [
    "gcd = soln.loc[soln.shape[0] - 2, 'r']\n",
    "\n",
    "gcd"
   ]
  },
  {
   "cell_type": "markdown",
   "metadata": {},
   "source": [
    "Bezout's identity states that `soln.loc[i + 1, 'u'] * soln.loc[i, 'r'] + soln.loc[i + 1, 'v'] * soln.loc[i + 1, 'r'] = gcd` for `i = 0 ... soln.shape[0]-1`. We can confirm this."
   ]
  },
  {
   "cell_type": "code",
   "execution_count": 9,
   "metadata": {},
   "outputs": [
    {
     "data": {
      "text/plain": [
       "[79, 79, 79, 79, 79, 79, 79, 79]"
      ]
     },
     "execution_count": 9,
     "metadata": {},
     "output_type": "execute_result"
    }
   ],
   "source": [
    "lin_relns = [\n",
    "    soln.loc[i + 1, 'u'] * soln.loc[i, 'r'] + soln.loc[i + 1, 'v'] * soln.loc[i + 1, 'r'] \n",
    "    for i in range(soln.shape[0] - 1)]\n",
    "\n",
    "lin_relns"
   ]
  },
  {
   "cell_type": "code",
   "execution_count": 10,
   "metadata": {},
   "outputs": [],
   "source": [
    "assert np.all(lin_relns == gcd)\n",
    "\n"
   ]
  },
  {
   "cell_type": "markdown",
   "metadata": {},
   "source": [
    "In particular, for `u = soln.loc[1, 'u']` and `v = soln.loc[1, 'v']` we have `gcd = u * a + v * b` for our original `a, b`."
   ]
  },
  {
   "cell_type": "code",
   "execution_count": 11,
   "metadata": {},
   "outputs": [
    {
     "data": {
      "text/plain": [
       "-88"
      ]
     },
     "execution_count": 11,
     "metadata": {},
     "output_type": "execute_result"
    }
   ],
   "source": [
    "u = soln.loc[1, 'u']\n",
    "\n",
    "u"
   ]
  },
  {
   "cell_type": "code",
   "execution_count": 12,
   "metadata": {},
   "outputs": [
    {
     "data": {
      "text/plain": [
       "757"
      ]
     },
     "execution_count": 12,
     "metadata": {},
     "output_type": "execute_result"
    }
   ],
   "source": [
    "v = soln.loc[1, 'v']\n",
    "\n",
    "v"
   ]
  },
  {
   "cell_type": "code",
   "execution_count": 13,
   "metadata": {},
   "outputs": [],
   "source": [
    "assert u * a + v * b == gcd"
   ]
  },
  {
   "cell_type": "markdown",
   "metadata": {},
   "source": [
    "\n",
    "\n",
    "An animation of these steps (without sound or commentary) is available [here](https://youtu.be/PaWybiMHUGg)."
   ]
  }
 ],
 "metadata": {
  "kernelspec": {
   "display_name": "prob_env",
   "language": "python",
   "name": "python3"
  },
  "language_info": {
   "codemirror_mode": {
    "name": "ipython",
    "version": 3
   },
   "file_extension": ".py",
   "mimetype": "text/x-python",
   "name": "python",
   "nbconvert_exporter": "python",
   "pygments_lexer": "ipython3",
   "version": "3.11.9"
  }
 },
 "nbformat": 4,
 "nbformat_minor": 2
}
