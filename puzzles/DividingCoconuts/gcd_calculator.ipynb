{
 "cells": [
  {
   "cell_type": "markdown",
   "metadata": {},
   "source": [
    "Interactive GCD calculator."
   ]
  },
  {
   "cell_type": "markdown",
   "metadata": {},
   "source": [
    "This is a an example of the use of the extended Euclidean algorithm.\n",
    "\n",
    "The result is integers `u`, `v`, `GCD(a, b)` such that `u * a + v * b = GCD(a, b)`,\n",
    "and `GCD(a, b)` is the greatest common divisor of `a` and `b`.\n",
    "\n",
    "The method calculates `GCD(a, b)` by building table forward row by row, using \n",
    "the reduction `GCD(a, b) = GCD(b, a % b)` when `b >= 1, a >= b`. Then `GCD(a, b)`, `u`, and `v`\n",
    "and are back-filled from the last row (where these values are known).\n",
    "\n",
    "To use: enter integers for `a` and `b`, and then press \"Update Table\".\n",
    "\n",
    "A description of the methodology can be found \n",
    "[here](https://github.com/WinVector/Examples/blob/main/puzzles/DividingCoconuts/Monkey_and_Coconuts.ipynb).\n"
   ]
  },
  {
   "cell_type": "code",
   "execution_count": null,
   "metadata": {},
   "outputs": [],
   "source": [
    "# import modules and functions\n",
    "import numpy as np\n",
    "import pandas as pd\n",
    "import ipywidgets as widgets\n",
    "from gcd_table import build_gcd_table, build_gcd_table_filled"
   ]
  },
  {
   "cell_type": "code",
   "execution_count": null,
   "metadata": {},
   "outputs": [],
   "source": [
    "a = widgets.IntText(\n",
    "    value=2024,\n",
    "    description='a',\n",
    ")\n",
    "b = widgets.IntText(\n",
    "    value=2023,\n",
    "    description='b',\n",
    ")\n",
    "def f(a, b):\n",
    "    display(f'solve for gcd({a}, {b})')\n",
    "    df = build_gcd_table_filled(a, b, verbose=True)\n",
    "    a_back, b_back = df.loc[0, 'a'], df.loc[0, 'b']\n",
    "    u, v = df.loc[0, 'u'], df.loc[0, 'v']\n",
    "    if (a != a_back) or (b != b_back):\n",
    "        u, v = v, u  # undo swap\n",
    "    gcd = df.loc[0, 'GCD(a, b)']\n",
    "    assert u * a + v * b == gcd\n",
    "    display(f'answer: ({u}) * {a} + ({v}) * {b} = {gcd}')\n",
    "\n",
    "out = widgets.interactive_output(f, {'a': a, 'b': b})\n",
    "\n",
    "widgets.VBox([widgets.VBox([a, b]), out])"
   ]
  },
  {
   "cell_type": "markdown",
   "metadata": {},
   "source": [
    "We can also work the example from [Dudeney’s Remainder Problem](https://win-vector.com/2024/10/06/dudeneys-remainder-problem/) in detail. We can get the answer (79) by filling in a single 8 row table (which we illustrate here by displaying multiple tables). Notice how each row is produced by computing a remainder, and then the first two columns of the next row are just the second two columns of the previous row copied down."
   ]
  },
  {
   "cell_type": "code",
   "execution_count": null,
   "metadata": {},
   "outputs": [],
   "source": [
    "# example from:\n",
    "#  https://win-vector.com/2024/10/06/dudeneys-remainder-problem/\n",
    "_ = build_gcd_table(\n",
    "    508811 - 480608,\n",
    "    723217 - 480608,\n",
    "    add_quotients=False,\n",
    "    verbose=True)\n"
   ]
  }
 ],
 "metadata": {
  "kernelspec": {
   "display_name": "prob_env",
   "language": "python",
   "name": "python3"
  },
  "language_info": {
   "codemirror_mode": {
    "name": "ipython",
    "version": 3
   },
   "file_extension": ".py",
   "mimetype": "text/x-python",
   "name": "python",
   "nbconvert_exporter": "python",
   "pygments_lexer": "ipython3",
   "version": "3.11.9"
  }
 },
 "nbformat": 4,
 "nbformat_minor": 2
}
