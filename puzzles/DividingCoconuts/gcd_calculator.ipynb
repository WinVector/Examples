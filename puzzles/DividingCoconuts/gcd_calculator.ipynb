{
 "cells": [
  {
   "cell_type": "markdown",
   "metadata": {},
   "source": [
    "Interactive GCD calculator."
   ]
  },
  {
   "cell_type": "markdown",
   "metadata": {},
   "source": [
    "This is a an example of the use of the extended Euclidean algorithm.\n",
    "\n",
    "The result is integers `u`, `v`, `GCD(a, b)` such that `u * a + v * b = GCD(a, b)`,\n",
    "and `GCD(a, b)` is the greatest common divisor of `a` and `b`.\n",
    "\n",
    "The method calculates `GCD(a, b)` by building table forward row by row, using \n",
    "the reduction `GCD(a, b) = GCD(b, a % b)` when `b >= 1, a >= b`. Then `GCD(a, b)`, `u`, and `v`\n",
    "and are back-filled from the last row (where these values are known).\n",
    "\n",
    "To use: enter integers for `a` and `b`, and then press \"Update Table\".\n",
    "\n",
    "A description of the methodology can be found \n",
    "[here](https://github.com/WinVector/Examples/blob/main/puzzles/DividingCoconuts/Monkey_and_Coconuts.ipynb).\n"
   ]
  },
  {
   "cell_type": "code",
   "execution_count": null,
   "metadata": {},
   "outputs": [],
   "source": [
    "import numpy as np\n",
    "import pandas as pd\n",
    "import ipywidgets as widgets\n",
    "from gcd_table import build_gcd_table_filled"
   ]
  },
  {
   "cell_type": "code",
   "execution_count": null,
   "metadata": {},
   "outputs": [],
   "source": [
    "a = widgets.IntText(\n",
    "    value=2024,\n",
    "    description='a',\n",
    ")\n",
    "b = widgets.IntText(\n",
    "    value=2023,\n",
    "    description='b',\n",
    ")\n",
    "def f(a, b):\n",
    "    df = build_gcd_table_filled(a, b)\n",
    "    display(df)\n",
    "\n",
    "out = widgets.interactive_output(f, {'a': a, 'b': b})\n",
    "\n",
    "widgets.VBox([widgets.VBox([a, b]), out])"
   ]
  }
 ],
 "metadata": {
  "kernelspec": {
   "display_name": "prob_env",
   "language": "python",
   "name": "python3"
  },
  "language_info": {
   "codemirror_mode": {
    "name": "ipython",
    "version": 3
   },
   "file_extension": ".py",
   "mimetype": "text/x-python",
   "name": "python",
   "nbconvert_exporter": "python",
   "pygments_lexer": "ipython3",
   "version": "3.11.9"
  }
 },
 "nbformat": 4,
 "nbformat_minor": 2
}
