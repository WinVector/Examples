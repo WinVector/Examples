{
 "cells": [
  {
   "cell_type": "code",
   "execution_count": 3,
   "metadata": {},
   "outputs": [],
   "source": [
    "import pandas as pd\n",
    "import IPython.display\n"
   ]
  },
  {
   "cell_type": "code",
   "execution_count": 7,
   "metadata": {},
   "outputs": [
    {
     "data": {
      "text/html": [
       "<style type=\"text/css\">\n",
       "#T_65ab8_row0_col0, #T_65ab8_row0_col1 {\n",
       "  min-width: 100px;\n",
       "  background-color: yellow;\n",
       "  font-weight: bold;\n",
       "}\n",
       "#T_65ab8_row1_col0, #T_65ab8_row1_col1 {\n",
       "  min-width: 100px;\n",
       "}\n",
       "</style>\n",
       "<table id=\"T_65ab8\">\n",
       "  <thead>\n",
       "    <tr>\n",
       "      <th class=\"blank level0\" >&nbsp;</th>\n",
       "      <th id=\"T_65ab8_level0_col0\" class=\"col_heading level0 col0\" >x</th>\n",
       "      <th id=\"T_65ab8_level0_col1\" class=\"col_heading level0 col1\" >y</th>\n",
       "    </tr>\n",
       "  </thead>\n",
       "  <tbody>\n",
       "    <tr>\n",
       "      <th id=\"T_65ab8_level0_row0\" class=\"row_heading level0 row0\" >0</th>\n",
       "      <td id=\"T_65ab8_row0_col0\" class=\"data row0 col0\" >1</td>\n",
       "      <td id=\"T_65ab8_row0_col1\" class=\"data row0 col1\" >3</td>\n",
       "    </tr>\n",
       "    <tr>\n",
       "      <th id=\"T_65ab8_level0_row1\" class=\"row_heading level0 row1\" >1</th>\n",
       "      <td id=\"T_65ab8_row1_col0\" class=\"data row1 col0\" >2</td>\n",
       "      <td id=\"T_65ab8_row1_col1\" class=\"data row1 col1\" >4</td>\n",
       "    </tr>\n",
       "  </tbody>\n",
       "</table>\n"
      ],
      "text/plain": [
       "<IPython.core.display.HTML object>"
      ]
     },
     "metadata": {},
     "output_type": "display_data"
    }
   ],
   "source": [
    "d = pd.DataFrame({\n",
    "    'x': [1, 2],\n",
    "    'y': [3, 4],\n",
    "})\n",
    "\n",
    "def highlight_rowval(x):\n",
    "    return ['background-color: yellow; font-weight: bold' if cell % 2 == 1 else '' for cell in x]\n",
    "\n",
    "styled_table = (\n",
    "    d.style\n",
    "        .set_properties(**{'min-width': '100px'})\n",
    "        .apply(highlight_rowval, axis=1)\n",
    "        .format(na_rep='')   \n",
    "    )\n",
    "\n",
    "display(IPython.display.HTML(styled_table.to_html()))"
   ]
  }
 ],
 "metadata": {
  "kernelspec": {
   "display_name": "prob_env",
   "language": "python",
   "name": "python3"
  },
  "language_info": {
   "codemirror_mode": {
    "name": "ipython",
    "version": 3
   },
   "file_extension": ".py",
   "mimetype": "text/x-python",
   "name": "python",
   "nbconvert_exporter": "python",
   "pygments_lexer": "ipython3",
   "version": "3.11.9"
  }
 },
 "nbformat": 4,
 "nbformat_minor": 2
}
