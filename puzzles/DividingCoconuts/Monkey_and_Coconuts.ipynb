{
 "cells": [
  {
   "cell_type": "markdown",
   "metadata": {},
   "source": [
    "# The Monkey and the Coconuts: An Introduction to the Extended Euclidean Algorithm\n",
    "\n",
    "## Introduction\n",
    "\n",
    "Here is a nifty puzzle from Martin Gardner, *The Colossal Book of Mathematics*, Norton; First Edition (January 1, 2001), Chapter 1, pp. 3-9.\n",
    "\n",
    "> In the October 9, 1926, issue of *The Saturday Evening Post* appeared a short story by Ben Ames Williams entitled \"Coconuts.\" The story concerned a building contractor who was anxious to prevent a competitor from getting an important contract. A shrewd employee of the contractor, knowing the competitor's passion for recreational mathematics, presented him with a problem so exasperating that while he was preoccupied with solving it he forgot to enter his bid before the deadline.\n",
    "> Hers is the problem exactly as the clerk in William's story phrased it:\n",
    ">\n",
    "> <img src=\"coconuts.png\" height=500>\n",
    ">\n",
    "> Williams neglected to include the answer in his story. It is said that the offices of *The Saturday Evening Post* were showered with some 2,000 letters during the first week after the issue appeared. George Horace Lorimer, then editior-in-chief, sent Williams the following history wire: \n",
    ">\n",
    "> > FOR THE LOVE OF MIKE, HOW MANY COCONUTS? HELL POPPING AROUND HERE.\n",
    "> \n",
    "> For 20 years Williams continued to receive letters requesting the answer or proposing new solutions.\n"
   ]
  },
  {
   "cell_type": "markdown",
   "metadata": {},
   "source": [
    "Notice this puzzle is very much like some earlier Diophantine equation puzzles:\n",
    "\n",
    "  * [100 Bushels of Corn](https://ninazumel.com/blog/2024-09-26-100bushels/)\n",
    "  * [The Wine Thief Problem](https://ninazumel.com/blog/2024-10-10-wine-thief/)\n",
    "  * [Dudeney’s Remainder Problem](https://win-vector.com/2024/10/06/dudeneys-remainder-problem/)\n",
    "  * [Dudeney’s Catching The Mice Puzzle](https://win-vector.com/2024/10/11/dudeneys-catching-the-mice-puzzle/)\n",
    "\n",
    "The telling even includes the now traditional \"publishers and solvers suffering\" detail!\n",
    "\n",
    "This style of over-story gets itself later attached to the famous \"12 coins problem.\" From [Richard K. Guy and Richard J. Nowakowski \"Coin-Weighing Problems\", The American Mathematical Monthly, Feb., 1995, Vol. 102, No. 2 (Feb., 1995), pp. 164-167](https://www.jstor.org/stable/2975353).\n",
    "\n",
    "> The problem was popular on both sides of the Atlantic during World War II ...; it was even suggested that it should be dropped over Germany in an attempt to sabotage their war effort ... .\n",
    "\n",
    "For some fun approaches to the 12 coins problem please see:\n",
    "\n",
    "  * [The Twelve Coins Puzzle](https://ninazumel.com/blog/2024-10-17-twelve-coins/)\n",
    "  * [Dyson’s Algorithm for the Twelve Coins Problem](https://ninazumel.com/blog/2024-10-23-dysons-algorithm/)"
   ]
  },
  {
   "cell_type": "markdown",
   "metadata": {},
   "source": [
    "## What Makes for a Great Puzzle\n",
    "\n",
    "In my mind one thing that makes for a great puzzle is: you feel (rightly or wrongly) you used or invented a systematic technique to solve it. The Monkey and the Coconuts is great as it is solvable by at least two powerful systematic techniques:\n",
    "\n",
    "  * Brute force search\n",
    "  * Diophantine equations\n",
    "\n",
    "The puzzle is also solvable by careful accounting of algorithm state, but we don't dig into that solution family.\n",
    "\n",
    "This is part of our informal series trying to build a back and forth puzzles to algorithms and algorithms to puzzles theory."
   ]
  },
  {
   "cell_type": "markdown",
   "metadata": {},
   "source": [
    "## Solving by Inspection or Brute Force\n",
    "\n",
    "A good current way to solve The Monkey and the Coconuts Problem [Wikipedia ref](https://en.wikipedia.org/wiki/The_monkey_and_the_coconuts) is: define an inspector that determines if we have a correct solution and just search for a correct solution. This looks like the following.\n",
    "\n"
   ]
  },
  {
   "cell_type": "code",
   "execution_count": 1,
   "metadata": {},
   "outputs": [],
   "source": [
    "def run_solution(x: int, *, verbose: bool = False) -> bool:\n",
    "    if verbose:\n",
    "        print(f'start with {x} coconuts')\n",
    "    for step in range(0, 5):\n",
    "        if (x-1) % 5 != 0:  # coconuts must be divisible by 5 after Monkey gets one\n",
    "            return False\n",
    "        take = (x - 1) // 5\n",
    "        x = (x - 1) - take\n",
    "        if verbose:\n",
    "            print(f\"man {step} takes {take} coconuts for self, 1 for monkey, leaving {x}\")\n",
    "    if x % 5 != 0: # remaining coconuts must be divisible by 5\n",
    "        return False\n",
    "    if verbose:\n",
    "        print(f\"next day: each share is {x // 5} with no more for the monkey\")\n",
    "    return True"
   ]
  },
  {
   "cell_type": "markdown",
   "metadata": {},
   "source": [
    "Now we can find a solution."
   ]
  },
  {
   "cell_type": "code",
   "execution_count": 2,
   "metadata": {},
   "outputs": [
    {
     "data": {
      "text/plain": [
       "3121"
      ]
     },
     "execution_count": 2,
     "metadata": {},
     "output_type": "execute_result"
    }
   ],
   "source": [
    "soln_williams_search = 0\n",
    "while not run_solution(soln_williams_search, verbose=False):\n",
    "    soln_williams_search += 1\n",
    "\n",
    "soln_williams_search"
   ]
  },
  {
   "cell_type": "code",
   "execution_count": 3,
   "metadata": {},
   "outputs": [
    {
     "name": "stdout",
     "output_type": "stream",
     "text": [
      "start with 3121 coconuts\n",
      "man 0 takes 624 coconuts for self, 1 for monkey, leaving 2496\n",
      "man 1 takes 499 coconuts for self, 1 for monkey, leaving 1996\n",
      "man 2 takes 399 coconuts for self, 1 for monkey, leaving 1596\n",
      "man 3 takes 319 coconuts for self, 1 for monkey, leaving 1276\n",
      "man 4 takes 255 coconuts for self, 1 for monkey, leaving 1020\n",
      "next day: each share is 204 with no more for the monkey\n"
     ]
    }
   ],
   "source": [
    "assert run_solution(soln_williams_search, verbose=True) == True"
   ]
  },
  {
   "cell_type": "markdown",
   "metadata": {},
   "source": [
    "Our claim is now: `3121` coconuts is a solution (and a smallest non-negative solution). It seems to be common for these puzzles to have solutions that are way out of \"reasonable range\", as with `3121` coconuts around we don't expect so much pilfering and hording would be required."
   ]
  },
  {
   "cell_type": "markdown",
   "metadata": {},
   "source": [
    "This sort of solution style may seem trivial, but that is in fact the great power of the method. We build a predicate <code>is_valid_solution(n)</code> which tells if a proposal is a valid solution or not. The we compute <code>is_valid_solution<sup>-1</sup>(True)</code> by search.\n",
    "\n",
    "This is why in the 1950s through 1980s search was marketed as an AI product. The first \"AI\" to beat a world chess champion, \"[Deep Blue](https://en.wikipedia.org/wiki/Deep_Blue_(chess_computer))\", was just a high-speed search tool. This is also the crux of the \"[P versus NP problem](https://en.wikipedia.org/wiki/P_versus_NP_problem)\": if one has a predicate (function that returns True or False) that is easy to compute, is it also easy to find an input that returns the value \"True\"?\n",
    "\n",
    "With computers it is trivial to implement many functions, could it be the case many of them could also be systematically inverted? We honestly do not know."
   ]
  },
  {
   "cell_type": "markdown",
   "metadata": {},
   "source": [
    "## Non Brute Force Methods"
   ]
  },
  {
   "cell_type": "markdown",
   "metadata": {},
   "source": [
    "Let's try to use some math to solve this in a more \"pencil and paper\" style. We use `sympy` to capture simultaneous equations describing how many coconuts are in the pile at each stage of the game. "
   ]
  },
  {
   "cell_type": "code",
   "execution_count": 4,
   "metadata": {},
   "outputs": [],
   "source": [
    "import inspect\n",
    "import numpy as np\n",
    "import pandas as pd\n",
    "import sympy as sp\n",
    "from IPython.display import display, Markdown\n",
    "from gcd_table import build_gcd_table, back_fill_gcd_table"
   ]
  },
  {
   "cell_type": "markdown",
   "metadata": {},
   "source": [
    "We start with `n` coconuts and proceed to piles of size `a` through `f` as the thefts happen and the final division is made."
   ]
  },
  {
   "cell_type": "code",
   "execution_count": 5,
   "metadata": {},
   "outputs": [],
   "source": [
    "n, a, b, c, d, e, f = sp.symbols('n, a, b, c, d, e, f')"
   ]
  },
  {
   "cell_type": "markdown",
   "metadata": {},
   "source": [
    "The telling of the story is that the following equations hold for non-negative integer values of all of our variables. In `sympy` a formula of the form `n - (5 * a + 1)` is shorthand for `n - (5 * a + 1) == 0`. So we capture our required equations as the following expressions."
   ]
  },
  {
   "cell_type": "code",
   "execution_count": 6,
   "metadata": {},
   "outputs": [
    {
     "data": {
      "text/plain": [
       "[-5*a + n - 1,\n",
       " 4*a - 5*b - 1,\n",
       " 4*b - 5*c - 1,\n",
       " 4*c - 5*d - 1,\n",
       " 4*d - 5*e - 1,\n",
       " 4*e - 5*f]"
      ]
     },
     "execution_count": 6,
     "metadata": {},
     "output_type": "execute_result"
    }
   ],
   "source": [
    "eqns_williams = [\n",
    "        n - (5 * a + 1),\n",
    "    4 * a - (5 * b + 1),\n",
    "    4 * b - (5 * c + 1),\n",
    "    4 * c - (5 * d + 1),\n",
    "    4 * d - (5 * e + 1),\n",
    "    4 * e - (5 * f),\n",
    "]\n",
    "\n",
    "eqns_williams"
   ]
  },
  {
   "cell_type": "markdown",
   "metadata": {},
   "source": [
    " If we guess non-negative integers `a, b, c, d , e, f, n` such that all lof these expressions are zero, we have a solution. Of course that is wasteful- all of the other values are determined if we guess `n`.\n",
    "\n",
    "Let's eliminate all variables except `n`, the original number of coconuts. \n",
    "\n"
   ]
  },
  {
   "cell_type": "code",
   "execution_count": 7,
   "metadata": {},
   "outputs": [
    {
     "data": {
      "text/plain": [
       "{a: (n - 1)/5,\n",
       " b: (4*n - 9)/25,\n",
       " c: (16*n - 61)/125,\n",
       " d: (64*n - 369)/625,\n",
       " e: (256*n - 2101)/3125,\n",
       " f: 4*(256*n - 2101)/15625}"
      ]
     },
     "execution_count": 7,
     "metadata": {},
     "output_type": "execute_result"
    }
   ],
   "source": [
    "solns_williams = sp.solve(\n",
    "    eqns_williams, \n",
    "    [a, b, c, d, e, f]\n",
    ")\n",
    "solns_williams = {\n",
    "    k: v.together() for k, v in solns_williams.items()}\n",
    "\n",
    "solns_williams"
   ]
  },
  {
   "cell_type": "markdown",
   "metadata": {},
   "source": [
    "A valid solution must have all of these expressions simultaneously be non-negative integers. This means the numerators must be evenly divisible by the denominators. \n",
    "\n",
    "To use this in the solution we will work [\"modulo\"](https://en.wikipedia.org/wiki/Modular_arithmetic) the denominators. Working \"modulo k\" means we work over equivalence classes where the integers `a` and `a+k` are considered the same (though we will often use the unique representative integer in the half open interval [0, k) as a preferred or canonical example). We will exploit that addition and multiplication \"modulo k\" often looks looks a lot like regular *rational* arithmetic. That is, we have the commutative law and often *multiplicative* inverses (which is not true in general for the original integers). We will also use that when working \"modulo k\" we can often insert yet another \"remainder by k\" without changing the actual answer."
   ]
  },
  {
   "cell_type": "markdown",
   "metadata": {},
   "source": [
    " As a first try let's try to see if we can satisfy the last expression (`f`) and see if the other follow. The `f` expression is as follows.\n",
    "\n"
   ]
  },
  {
   "cell_type": "code",
   "execution_count": 8,
   "metadata": {},
   "outputs": [
    {
     "data": {
      "text/latex": [
       "$\\displaystyle \\frac{4 \\cdot \\left(256 n - 2101\\right)}{15625}$"
      ],
      "text/plain": [
       "4*(256*n - 2101)/15625"
      ]
     },
     "execution_count": 8,
     "metadata": {},
     "output_type": "execute_result"
    }
   ],
   "source": [
    "solns_williams[f]"
   ]
  },
  {
   "cell_type": "markdown",
   "metadata": {},
   "source": [
    "For solutions, the above expression must be a non-negative integer. This implies `15625` divides evenly into `256 n - 2101`.\n",
    "\n",
    "This implies that <code>256 * n &Congruent; 2101 mod 15625</code>. This relation will be true for any solution to the original problem.\n",
    "\n",
    "It turns out finding the smallest non-negative solution to this in fact solves the whole original problem.\n",
    "\n",
    "But how do we solve even this new relation? Suppose there was an integer <code>inv_256</code> such that <code>inv_256 &Congruent; 256<sup>-1</sup> mod 15625</code>. Then we would have <code>n &Congruent; inv_256 * 2101 mod 15625</code> is our solution <code>n</code>.\n",
    "\n",
    "Suppose for a moment <code>inv_256</code> exists and we know its value. Let's confirm that finishes the problem solution. "
   ]
  },
  {
   "cell_type": "code",
   "execution_count": 9,
   "metadata": {},
   "outputs": [
    {
     "data": {
      "text/plain": [
       "12146"
      ]
     },
     "execution_count": 9,
     "metadata": {},
     "output_type": "execute_result"
    }
   ],
   "source": [
    "# magic guess at multiplicative inverse of 256 mod 15625\n",
    "inv_256 = 12146\n",
    "\n",
    "inv_256"
   ]
  },
  {
   "cell_type": "code",
   "execution_count": 10,
   "metadata": {},
   "outputs": [
    {
     "data": {
      "text/plain": [
       "1"
      ]
     },
     "execution_count": 10,
     "metadata": {},
     "output_type": "execute_result"
    }
   ],
   "source": [
    "# confirm it works\n",
    "assert (256 * inv_256) % 15625 == 1\n",
    "assert (inv_256 * 256) % 15625 == 1\n",
    "\n",
    "(256 * inv_256) % 15625"
   ]
  },
  {
   "cell_type": "code",
   "execution_count": 11,
   "metadata": {},
   "outputs": [
    {
     "data": {
      "text/plain": [
       "3121"
      ]
     },
     "execution_count": 11,
     "metadata": {},
     "output_type": "execute_result"
    }
   ],
   "source": [
    "# use it to solve the puzzle\n",
    "soln_williams_math = (inv_256 * 2101) % 15625\n",
    "assert soln_williams_math == soln_williams_search\n",
    "\n",
    "soln_williams_math "
   ]
  },
  {
   "cell_type": "markdown",
   "metadata": {},
   "source": [
    "Of course, we still need to show how we found `inv_256 = 12146`."
   ]
  },
  {
   "cell_type": "markdown",
   "metadata": {},
   "source": [
    "## Where we found `inv_256`\n",
    "\n",
    "The question remains: where did we find this magic `inv_256`?\n",
    "\n",
    "We can set this up as the equation in two integer unknowns (`u`, `inv_256`):\n",
    "\n",
    "`u * 15625 + inv_256 * 256 = 1`.\n",
    "\n",
    "The above equation is a way of saying <code>inv_256 * 256 &Congruent; mod 15625</code>. And we can solve this simultaneous equation using the so-called \"[extended Euclidean algorithm](https://en.wikipedia.org/wiki/Extended_Euclidean_algorithm)\". This is where the trick of the puzzle lies. The basic [Euclidean algorithm](https://en.wikipedia.org/wiki/Euclidean_algorithm) may have been part of standard mathematical education in the early 20th century. However the *extended Euclidean algorithm* was possibly a specialist topic, and not taught.\n",
    "\n",
    "To make the calculations shorter we will solve:\n",
    "\n",
    "`u * 15625 + inv_2 * 2 = 1`\n",
    "\n",
    "and then use \n",
    "\n",
    "`inv_256 = (inv_2**8 % 15625)`."
   ]
  },
  {
   "cell_type": "markdown",
   "metadata": {},
   "source": [
    "\n",
    "The extended Euclidean algorithm can be realized as the following table calculation. The basic Euclidean algorithm is a tool to find the [greatest common divisor](https://en.wikipedia.org/wiki/Greatest_common_divisor) (GCD) of two non-negative integers. It does this by using the reduction `GCD(a, b) = GCD(b, a % b)` when `a >= b > 0`. Using this idea we build a table of equivalent smaller and smaller GCD problems as follows."
   ]
  },
  {
   "cell_type": "code",
   "execution_count": 12,
   "metadata": {},
   "outputs": [
    {
     "data": {
      "text/markdown": [
       "```python\n",
       "def build_gcd_table(a: int, b: int, \n",
       "    *, \n",
       "    add_quotients: bool = True,\n",
       "    verbose: bool = False) -> pd.DataFrame:\n",
       "    \"\"\"\n",
       "    :param a: positive int\n",
       "    :param b: non-negative int with b < a\n",
       "    :return: extended GCD work table (not backfilled, see back_fill_gcd_table())\n",
       "    Note: may swap a, b to establish entry invariant.\n",
       "    \"\"\"\n",
       "    global captured_tables\n",
       "    a, b = int(np.abs(a)), int(np.abs(b))\n",
       "    if b > a:\n",
       "        a, b = b, a\n",
       "    assert (a >= b) and (b >= 0)\n",
       "    row_count_hint = None\n",
       "    if verbose:\n",
       "        row_count_hint = build_gcd_table(a, b, verbose=False).shape[0]\n",
       "        captured_tables.clear()\n",
       "    result = []\n",
       "    while (b > 0) and (a > b):\n",
       "        q = a // b  # quotient\n",
       "        r = a - b * q  # remainder\n",
       "        row = pd.DataFrame({\"a\": [a], \"b\": [b], \"a%b\": [r]})\n",
       "        if add_quotients:\n",
       "            row[\"a//b\"] = q\n",
       "        result.append(row)\n",
       "        _display_intermediate_forward_table(result, do_display=verbose, row_count_hint=row_count_hint)\n",
       "        # prepare for next step using gcd(a, b) = gcd(b, r)\n",
       "        a, b = b, r\n",
       "    row = pd.DataFrame({\"a\": [a], \"b\": [b], \"a%b\": [\"N/A\"]})\n",
       "    if add_quotients:\n",
       "        row[\"a//b\"] = \"N/A\"\n",
       "    result.append(row)\n",
       "    gcd_table = pd.concat(result, ignore_index=True)\n",
       "    gcd_table[\"GCD(a, b)\"] = a\n",
       "    _display_final_forward_table(gcd_table, do_display=verbose)\n",
       "    return gcd_table\n",
       "\n",
       "```"
      ],
      "text/plain": [
       "<IPython.core.display.Markdown object>"
      ]
     },
     "metadata": {},
     "output_type": "display_data"
    }
   ],
   "source": [
    "display(Markdown(f\"```python\\n{inspect.getsource(build_gcd_table)}\\n```\"))"
   ]
  },
  {
   "cell_type": "markdown",
   "metadata": {},
   "source": [
    "This first part is just the standard basic Euclidean algorithm with verbose table bookkeeping. In particular we don't normally store the quotient, but we are saving it for later use. Let's see the calculation in action. We iteratively build up our table as follows (a person would be extending a single table, not writing out multiple tables). Think of each row as being keyed by the first two columns, and notice these columns are formed by copy the second and third column from the previous row."
   ]
  },
  {
   "cell_type": "code",
   "execution_count": 13,
   "metadata": {},
   "outputs": [
    {
     "data": {
      "text/plain": [
       "'build row 0'"
      ]
     },
     "metadata": {},
     "output_type": "display_data"
    },
    {
     "data": {
      "text/html": [
       "<style type=\"text/css\">\n",
       "#T_bc16b_row0_col0, #T_bc16b_row0_col1, #T_bc16b_row0_col2, #T_bc16b_row0_col3 {\n",
       "  background-color: yellow;\n",
       "  font-weight: bold;\n",
       "}\n",
       "</style>\n",
       "<table id=\"T_bc16b\">\n",
       "  <thead>\n",
       "    <tr>\n",
       "      <th class=\"blank level0\" >&nbsp;</th>\n",
       "      <th id=\"T_bc16b_level0_col0\" class=\"col_heading level0 col0\" >a</th>\n",
       "      <th id=\"T_bc16b_level0_col1\" class=\"col_heading level0 col1\" >b</th>\n",
       "      <th id=\"T_bc16b_level0_col2\" class=\"col_heading level0 col2\" >a%b</th>\n",
       "      <th id=\"T_bc16b_level0_col3\" class=\"col_heading level0 col3\" >a//b</th>\n",
       "    </tr>\n",
       "  </thead>\n",
       "  <tbody>\n",
       "    <tr>\n",
       "      <th id=\"T_bc16b_level0_row0\" class=\"row_heading level0 row0\" >0</th>\n",
       "      <td id=\"T_bc16b_row0_col0\" class=\"data row0 col0\" >15625</td>\n",
       "      <td id=\"T_bc16b_row0_col1\" class=\"data row0 col1\" >2</td>\n",
       "      <td id=\"T_bc16b_row0_col2\" class=\"data row0 col2\" >1</td>\n",
       "      <td id=\"T_bc16b_row0_col3\" class=\"data row0 col3\" >7812</td>\n",
       "    </tr>\n",
       "    <tr>\n",
       "      <th id=\"T_bc16b_level0_row1\" class=\"row_heading level0 row1\" >1</th>\n",
       "      <td id=\"T_bc16b_row1_col0\" class=\"data row1 col0\" ></td>\n",
       "      <td id=\"T_bc16b_row1_col1\" class=\"data row1 col1\" ></td>\n",
       "      <td id=\"T_bc16b_row1_col2\" class=\"data row1 col2\" ></td>\n",
       "      <td id=\"T_bc16b_row1_col3\" class=\"data row1 col3\" ></td>\n",
       "    </tr>\n",
       "    <tr>\n",
       "      <th id=\"T_bc16b_level0_row2\" class=\"row_heading level0 row2\" >2</th>\n",
       "      <td id=\"T_bc16b_row2_col0\" class=\"data row2 col0\" ></td>\n",
       "      <td id=\"T_bc16b_row2_col1\" class=\"data row2 col1\" ></td>\n",
       "      <td id=\"T_bc16b_row2_col2\" class=\"data row2 col2\" ></td>\n",
       "      <td id=\"T_bc16b_row2_col3\" class=\"data row2 col3\" ></td>\n",
       "    </tr>\n",
       "  </tbody>\n",
       "</table>\n"
      ],
      "text/plain": [
       "<pandas.io.formats.style.Styler at 0x14a8443d0>"
      ]
     },
     "metadata": {},
     "output_type": "display_data"
    },
    {
     "data": {
      "text/plain": [
       "'build row 1'"
      ]
     },
     "metadata": {},
     "output_type": "display_data"
    },
    {
     "data": {
      "text/html": [
       "<style type=\"text/css\">\n",
       "#T_75657_row1_col0, #T_75657_row1_col1, #T_75657_row1_col2, #T_75657_row1_col3 {\n",
       "  background-color: yellow;\n",
       "  font-weight: bold;\n",
       "}\n",
       "</style>\n",
       "<table id=\"T_75657\">\n",
       "  <thead>\n",
       "    <tr>\n",
       "      <th class=\"blank level0\" >&nbsp;</th>\n",
       "      <th id=\"T_75657_level0_col0\" class=\"col_heading level0 col0\" >a</th>\n",
       "      <th id=\"T_75657_level0_col1\" class=\"col_heading level0 col1\" >b</th>\n",
       "      <th id=\"T_75657_level0_col2\" class=\"col_heading level0 col2\" >a%b</th>\n",
       "      <th id=\"T_75657_level0_col3\" class=\"col_heading level0 col3\" >a//b</th>\n",
       "    </tr>\n",
       "  </thead>\n",
       "  <tbody>\n",
       "    <tr>\n",
       "      <th id=\"T_75657_level0_row0\" class=\"row_heading level0 row0\" >0</th>\n",
       "      <td id=\"T_75657_row0_col0\" class=\"data row0 col0\" >15625</td>\n",
       "      <td id=\"T_75657_row0_col1\" class=\"data row0 col1\" >2</td>\n",
       "      <td id=\"T_75657_row0_col2\" class=\"data row0 col2\" >1</td>\n",
       "      <td id=\"T_75657_row0_col3\" class=\"data row0 col3\" >7812</td>\n",
       "    </tr>\n",
       "    <tr>\n",
       "      <th id=\"T_75657_level0_row1\" class=\"row_heading level0 row1\" >1</th>\n",
       "      <td id=\"T_75657_row1_col0\" class=\"data row1 col0\" >2</td>\n",
       "      <td id=\"T_75657_row1_col1\" class=\"data row1 col1\" >1</td>\n",
       "      <td id=\"T_75657_row1_col2\" class=\"data row1 col2\" >0</td>\n",
       "      <td id=\"T_75657_row1_col3\" class=\"data row1 col3\" >2</td>\n",
       "    </tr>\n",
       "    <tr>\n",
       "      <th id=\"T_75657_level0_row2\" class=\"row_heading level0 row2\" >2</th>\n",
       "      <td id=\"T_75657_row2_col0\" class=\"data row2 col0\" ></td>\n",
       "      <td id=\"T_75657_row2_col1\" class=\"data row2 col1\" ></td>\n",
       "      <td id=\"T_75657_row2_col2\" class=\"data row2 col2\" ></td>\n",
       "      <td id=\"T_75657_row2_col3\" class=\"data row2 col3\" ></td>\n",
       "    </tr>\n",
       "  </tbody>\n",
       "</table>\n"
      ],
      "text/plain": [
       "<pandas.io.formats.style.Styler at 0x14c83bb90>"
      ]
     },
     "metadata": {},
     "output_type": "display_data"
    },
    {
     "data": {
      "text/plain": [
       "'finish with row 2'"
      ]
     },
     "metadata": {},
     "output_type": "display_data"
    },
    {
     "data": {
      "text/html": [
       "<style type=\"text/css\">\n",
       "#T_ecdca_row0_col4, #T_ecdca_row1_col4, #T_ecdca_row2_col0, #T_ecdca_row2_col1, #T_ecdca_row2_col2, #T_ecdca_row2_col3, #T_ecdca_row2_col4 {\n",
       "  background-color: yellow;\n",
       "  font-weight: bold;\n",
       "}\n",
       "</style>\n",
       "<table id=\"T_ecdca\">\n",
       "  <thead>\n",
       "    <tr>\n",
       "      <th class=\"blank level0\" >&nbsp;</th>\n",
       "      <th id=\"T_ecdca_level0_col0\" class=\"col_heading level0 col0\" >a</th>\n",
       "      <th id=\"T_ecdca_level0_col1\" class=\"col_heading level0 col1\" >b</th>\n",
       "      <th id=\"T_ecdca_level0_col2\" class=\"col_heading level0 col2\" >a%b</th>\n",
       "      <th id=\"T_ecdca_level0_col3\" class=\"col_heading level0 col3\" >a//b</th>\n",
       "      <th id=\"T_ecdca_level0_col4\" class=\"col_heading level0 col4\" >GCD(a, b)</th>\n",
       "    </tr>\n",
       "  </thead>\n",
       "  <tbody>\n",
       "    <tr>\n",
       "      <th id=\"T_ecdca_level0_row0\" class=\"row_heading level0 row0\" >0</th>\n",
       "      <td id=\"T_ecdca_row0_col0\" class=\"data row0 col0\" >15625</td>\n",
       "      <td id=\"T_ecdca_row0_col1\" class=\"data row0 col1\" >2</td>\n",
       "      <td id=\"T_ecdca_row0_col2\" class=\"data row0 col2\" >1</td>\n",
       "      <td id=\"T_ecdca_row0_col3\" class=\"data row0 col3\" >7812</td>\n",
       "      <td id=\"T_ecdca_row0_col4\" class=\"data row0 col4\" >1</td>\n",
       "    </tr>\n",
       "    <tr>\n",
       "      <th id=\"T_ecdca_level0_row1\" class=\"row_heading level0 row1\" >1</th>\n",
       "      <td id=\"T_ecdca_row1_col0\" class=\"data row1 col0\" >2</td>\n",
       "      <td id=\"T_ecdca_row1_col1\" class=\"data row1 col1\" >1</td>\n",
       "      <td id=\"T_ecdca_row1_col2\" class=\"data row1 col2\" >0</td>\n",
       "      <td id=\"T_ecdca_row1_col3\" class=\"data row1 col3\" >2</td>\n",
       "      <td id=\"T_ecdca_row1_col4\" class=\"data row1 col4\" >1</td>\n",
       "    </tr>\n",
       "    <tr>\n",
       "      <th id=\"T_ecdca_level0_row2\" class=\"row_heading level0 row2\" >2</th>\n",
       "      <td id=\"T_ecdca_row2_col0\" class=\"data row2 col0\" >1</td>\n",
       "      <td id=\"T_ecdca_row2_col1\" class=\"data row2 col1\" >0</td>\n",
       "      <td id=\"T_ecdca_row2_col2\" class=\"data row2 col2\" >N/A</td>\n",
       "      <td id=\"T_ecdca_row2_col3\" class=\"data row2 col3\" >N/A</td>\n",
       "      <td id=\"T_ecdca_row2_col4\" class=\"data row2 col4\" >1</td>\n",
       "    </tr>\n",
       "  </tbody>\n",
       "</table>\n"
      ],
      "text/plain": [
       "<pandas.io.formats.style.Styler at 0x14c584710>"
      ]
     },
     "metadata": {},
     "output_type": "display_data"
    }
   ],
   "source": [
    "gcd_table = build_gcd_table(15625, 2, verbose=True)\n"
   ]
  },
  {
   "cell_type": "markdown",
   "metadata": {},
   "source": [
    "The theory of the basic Euclidean algorithm implies: all the rows have the same `GCD(a,b)`.  As we know the GCD of the last row we therefore know the GCD of all the rows. In particular we know the GCD of the first row: the equation we were trying to solve as a sub-step to our puzzle solution. Building a table like the above goes back to antiquity.\n",
    "\n",
    "The quantity we want is `inv_256 = gcd_table.loc[0, 'v']`. Unfortunately this is not yet filled-in.\n",
    "\n",
    "For each row the *extended* Euclidean algorithm theory says for each row we can find integers `u`, `v` such that `a * u + b * v = GCD(a, b)`. For the very last row we have `a = GCD(a, b)`, therefor `u=1, v=0` is a working solution.\n",
    "\n",
    "We show in an appendix this is enough to demonstrate:\n",
    "\n",
    " * `u[i] = v[i+1]`\n",
    " * `v[i] = u[i+1] - (a[i]//b[i]) * v[i+1]`\n",
    "\n",
    "This in turn lets us back-fill the table as follows."
   ]
  },
  {
   "cell_type": "code",
   "execution_count": 14,
   "metadata": {},
   "outputs": [
    {
     "data": {
      "text/markdown": [
       "```python\n",
       "def back_fill_gcd_table(result: pd.DataFrame, *, verbose: bool = False) -> None:\n",
       "    \"\"\"\n",
       "    Back fill u, v into extended GCD table.\n",
       "    See: build_gcd_table(), build_gcd_table_filled().\n",
       "    \"\"\"\n",
       "    result[\"u\"] = None\n",
       "    result.loc[result.shape[0] - 1, \"u\"] = 1\n",
       "    result[\"v\"] = None\n",
       "    result.loc[result.shape[0] - 1, \"v\"] = 0\n",
       "    _display_backfill_step(result, i=result.shape[0] - 1, do_display=verbose)\n",
       "    for i in reversed(range(result.shape[0] - 1)):\n",
       "        result.loc[i, \"u\"] = result.loc[i + 1, \"v\"]\n",
       "        result.loc[i, \"v\"] = (result.loc[i + 1, \"u\"] \n",
       "                              - result.loc[i, \"a//b\"] * result.loc[i + 1, \"v\"])\n",
       "        _display_backfill_step(result, i=i, do_display=verbose)\n",
       "    assert np.all(result[\"u\"] * result[\"a\"] + result[\"v\"] * result[\"b\"] == result[\"GCD(a, b)\"])\n",
       "\n",
       "```"
      ],
      "text/plain": [
       "<IPython.core.display.Markdown object>"
      ]
     },
     "metadata": {},
     "output_type": "display_data"
    }
   ],
   "source": [
    "display(Markdown(f\"```python\\n{inspect.getsource(back_fill_gcd_table)}\\n```\"))\n",
    "\n"
   ]
  },
  {
   "cell_type": "code",
   "execution_count": 15,
   "metadata": {},
   "outputs": [
    {
     "data": {
      "text/plain": [
       "'back fill row 2'"
      ]
     },
     "metadata": {},
     "output_type": "display_data"
    },
    {
     "data": {
      "text/html": [
       "<style type=\"text/css\">\n",
       "#T_c41e9_row2_col5, #T_c41e9_row2_col6 {\n",
       "  background-color: yellow;\n",
       "  font-weight: bold;\n",
       "}\n",
       "</style>\n",
       "<table id=\"T_c41e9\">\n",
       "  <thead>\n",
       "    <tr>\n",
       "      <th class=\"blank level0\" >&nbsp;</th>\n",
       "      <th id=\"T_c41e9_level0_col0\" class=\"col_heading level0 col0\" >a</th>\n",
       "      <th id=\"T_c41e9_level0_col1\" class=\"col_heading level0 col1\" >b</th>\n",
       "      <th id=\"T_c41e9_level0_col2\" class=\"col_heading level0 col2\" >a%b</th>\n",
       "      <th id=\"T_c41e9_level0_col3\" class=\"col_heading level0 col3\" >a//b</th>\n",
       "      <th id=\"T_c41e9_level0_col4\" class=\"col_heading level0 col4\" >GCD(a, b)</th>\n",
       "      <th id=\"T_c41e9_level0_col5\" class=\"col_heading level0 col5\" >u</th>\n",
       "      <th id=\"T_c41e9_level0_col6\" class=\"col_heading level0 col6\" >v</th>\n",
       "    </tr>\n",
       "  </thead>\n",
       "  <tbody>\n",
       "    <tr>\n",
       "      <th id=\"T_c41e9_level0_row0\" class=\"row_heading level0 row0\" >0</th>\n",
       "      <td id=\"T_c41e9_row0_col0\" class=\"data row0 col0\" >15625</td>\n",
       "      <td id=\"T_c41e9_row0_col1\" class=\"data row0 col1\" >2</td>\n",
       "      <td id=\"T_c41e9_row0_col2\" class=\"data row0 col2\" >1</td>\n",
       "      <td id=\"T_c41e9_row0_col3\" class=\"data row0 col3\" >7812</td>\n",
       "      <td id=\"T_c41e9_row0_col4\" class=\"data row0 col4\" >1</td>\n",
       "      <td id=\"T_c41e9_row0_col5\" class=\"data row0 col5\" ></td>\n",
       "      <td id=\"T_c41e9_row0_col6\" class=\"data row0 col6\" ></td>\n",
       "    </tr>\n",
       "    <tr>\n",
       "      <th id=\"T_c41e9_level0_row1\" class=\"row_heading level0 row1\" >1</th>\n",
       "      <td id=\"T_c41e9_row1_col0\" class=\"data row1 col0\" >2</td>\n",
       "      <td id=\"T_c41e9_row1_col1\" class=\"data row1 col1\" >1</td>\n",
       "      <td id=\"T_c41e9_row1_col2\" class=\"data row1 col2\" >0</td>\n",
       "      <td id=\"T_c41e9_row1_col3\" class=\"data row1 col3\" >2</td>\n",
       "      <td id=\"T_c41e9_row1_col4\" class=\"data row1 col4\" >1</td>\n",
       "      <td id=\"T_c41e9_row1_col5\" class=\"data row1 col5\" ></td>\n",
       "      <td id=\"T_c41e9_row1_col6\" class=\"data row1 col6\" ></td>\n",
       "    </tr>\n",
       "    <tr>\n",
       "      <th id=\"T_c41e9_level0_row2\" class=\"row_heading level0 row2\" >2</th>\n",
       "      <td id=\"T_c41e9_row2_col0\" class=\"data row2 col0\" >1</td>\n",
       "      <td id=\"T_c41e9_row2_col1\" class=\"data row2 col1\" >0</td>\n",
       "      <td id=\"T_c41e9_row2_col2\" class=\"data row2 col2\" >N/A</td>\n",
       "      <td id=\"T_c41e9_row2_col3\" class=\"data row2 col3\" >N/A</td>\n",
       "      <td id=\"T_c41e9_row2_col4\" class=\"data row2 col4\" >1</td>\n",
       "      <td id=\"T_c41e9_row2_col5\" class=\"data row2 col5\" >1</td>\n",
       "      <td id=\"T_c41e9_row2_col6\" class=\"data row2 col6\" >0</td>\n",
       "    </tr>\n",
       "  </tbody>\n",
       "</table>\n"
      ],
      "text/plain": [
       "<pandas.io.formats.style.Styler at 0x14b5c7b90>"
      ]
     },
     "metadata": {},
     "output_type": "display_data"
    },
    {
     "data": {
      "text/plain": [
       "'back fill row 1'"
      ]
     },
     "metadata": {},
     "output_type": "display_data"
    },
    {
     "data": {
      "text/html": [
       "<style type=\"text/css\">\n",
       "#T_d47ec_row1_col5, #T_d47ec_row1_col6 {\n",
       "  background-color: yellow;\n",
       "  font-weight: bold;\n",
       "}\n",
       "</style>\n",
       "<table id=\"T_d47ec\">\n",
       "  <thead>\n",
       "    <tr>\n",
       "      <th class=\"blank level0\" >&nbsp;</th>\n",
       "      <th id=\"T_d47ec_level0_col0\" class=\"col_heading level0 col0\" >a</th>\n",
       "      <th id=\"T_d47ec_level0_col1\" class=\"col_heading level0 col1\" >b</th>\n",
       "      <th id=\"T_d47ec_level0_col2\" class=\"col_heading level0 col2\" >a%b</th>\n",
       "      <th id=\"T_d47ec_level0_col3\" class=\"col_heading level0 col3\" >a//b</th>\n",
       "      <th id=\"T_d47ec_level0_col4\" class=\"col_heading level0 col4\" >GCD(a, b)</th>\n",
       "      <th id=\"T_d47ec_level0_col5\" class=\"col_heading level0 col5\" >u</th>\n",
       "      <th id=\"T_d47ec_level0_col6\" class=\"col_heading level0 col6\" >v</th>\n",
       "    </tr>\n",
       "  </thead>\n",
       "  <tbody>\n",
       "    <tr>\n",
       "      <th id=\"T_d47ec_level0_row0\" class=\"row_heading level0 row0\" >0</th>\n",
       "      <td id=\"T_d47ec_row0_col0\" class=\"data row0 col0\" >15625</td>\n",
       "      <td id=\"T_d47ec_row0_col1\" class=\"data row0 col1\" >2</td>\n",
       "      <td id=\"T_d47ec_row0_col2\" class=\"data row0 col2\" >1</td>\n",
       "      <td id=\"T_d47ec_row0_col3\" class=\"data row0 col3\" >7812</td>\n",
       "      <td id=\"T_d47ec_row0_col4\" class=\"data row0 col4\" >1</td>\n",
       "      <td id=\"T_d47ec_row0_col5\" class=\"data row0 col5\" ></td>\n",
       "      <td id=\"T_d47ec_row0_col6\" class=\"data row0 col6\" ></td>\n",
       "    </tr>\n",
       "    <tr>\n",
       "      <th id=\"T_d47ec_level0_row1\" class=\"row_heading level0 row1\" >1</th>\n",
       "      <td id=\"T_d47ec_row1_col0\" class=\"data row1 col0\" >2</td>\n",
       "      <td id=\"T_d47ec_row1_col1\" class=\"data row1 col1\" >1</td>\n",
       "      <td id=\"T_d47ec_row1_col2\" class=\"data row1 col2\" >0</td>\n",
       "      <td id=\"T_d47ec_row1_col3\" class=\"data row1 col3\" >2</td>\n",
       "      <td id=\"T_d47ec_row1_col4\" class=\"data row1 col4\" >1</td>\n",
       "      <td id=\"T_d47ec_row1_col5\" class=\"data row1 col5\" >0</td>\n",
       "      <td id=\"T_d47ec_row1_col6\" class=\"data row1 col6\" >1</td>\n",
       "    </tr>\n",
       "    <tr>\n",
       "      <th id=\"T_d47ec_level0_row2\" class=\"row_heading level0 row2\" >2</th>\n",
       "      <td id=\"T_d47ec_row2_col0\" class=\"data row2 col0\" >1</td>\n",
       "      <td id=\"T_d47ec_row2_col1\" class=\"data row2 col1\" >0</td>\n",
       "      <td id=\"T_d47ec_row2_col2\" class=\"data row2 col2\" >N/A</td>\n",
       "      <td id=\"T_d47ec_row2_col3\" class=\"data row2 col3\" >N/A</td>\n",
       "      <td id=\"T_d47ec_row2_col4\" class=\"data row2 col4\" >1</td>\n",
       "      <td id=\"T_d47ec_row2_col5\" class=\"data row2 col5\" >1</td>\n",
       "      <td id=\"T_d47ec_row2_col6\" class=\"data row2 col6\" >0</td>\n",
       "    </tr>\n",
       "  </tbody>\n",
       "</table>\n"
      ],
      "text/plain": [
       "<pandas.io.formats.style.Styler at 0x10b3b5fd0>"
      ]
     },
     "metadata": {},
     "output_type": "display_data"
    },
    {
     "data": {
      "text/plain": [
       "'back fill row 0'"
      ]
     },
     "metadata": {},
     "output_type": "display_data"
    },
    {
     "data": {
      "text/html": [
       "<style type=\"text/css\">\n",
       "#T_3d202_row0_col5, #T_3d202_row0_col6 {\n",
       "  background-color: yellow;\n",
       "  font-weight: bold;\n",
       "}\n",
       "</style>\n",
       "<table id=\"T_3d202\">\n",
       "  <thead>\n",
       "    <tr>\n",
       "      <th class=\"blank level0\" >&nbsp;</th>\n",
       "      <th id=\"T_3d202_level0_col0\" class=\"col_heading level0 col0\" >a</th>\n",
       "      <th id=\"T_3d202_level0_col1\" class=\"col_heading level0 col1\" >b</th>\n",
       "      <th id=\"T_3d202_level0_col2\" class=\"col_heading level0 col2\" >a%b</th>\n",
       "      <th id=\"T_3d202_level0_col3\" class=\"col_heading level0 col3\" >a//b</th>\n",
       "      <th id=\"T_3d202_level0_col4\" class=\"col_heading level0 col4\" >GCD(a, b)</th>\n",
       "      <th id=\"T_3d202_level0_col5\" class=\"col_heading level0 col5\" >u</th>\n",
       "      <th id=\"T_3d202_level0_col6\" class=\"col_heading level0 col6\" >v</th>\n",
       "    </tr>\n",
       "  </thead>\n",
       "  <tbody>\n",
       "    <tr>\n",
       "      <th id=\"T_3d202_level0_row0\" class=\"row_heading level0 row0\" >0</th>\n",
       "      <td id=\"T_3d202_row0_col0\" class=\"data row0 col0\" >15625</td>\n",
       "      <td id=\"T_3d202_row0_col1\" class=\"data row0 col1\" >2</td>\n",
       "      <td id=\"T_3d202_row0_col2\" class=\"data row0 col2\" >1</td>\n",
       "      <td id=\"T_3d202_row0_col3\" class=\"data row0 col3\" >7812</td>\n",
       "      <td id=\"T_3d202_row0_col4\" class=\"data row0 col4\" >1</td>\n",
       "      <td id=\"T_3d202_row0_col5\" class=\"data row0 col5\" >1</td>\n",
       "      <td id=\"T_3d202_row0_col6\" class=\"data row0 col6\" >-7812</td>\n",
       "    </tr>\n",
       "    <tr>\n",
       "      <th id=\"T_3d202_level0_row1\" class=\"row_heading level0 row1\" >1</th>\n",
       "      <td id=\"T_3d202_row1_col0\" class=\"data row1 col0\" >2</td>\n",
       "      <td id=\"T_3d202_row1_col1\" class=\"data row1 col1\" >1</td>\n",
       "      <td id=\"T_3d202_row1_col2\" class=\"data row1 col2\" >0</td>\n",
       "      <td id=\"T_3d202_row1_col3\" class=\"data row1 col3\" >2</td>\n",
       "      <td id=\"T_3d202_row1_col4\" class=\"data row1 col4\" >1</td>\n",
       "      <td id=\"T_3d202_row1_col5\" class=\"data row1 col5\" >0</td>\n",
       "      <td id=\"T_3d202_row1_col6\" class=\"data row1 col6\" >1</td>\n",
       "    </tr>\n",
       "    <tr>\n",
       "      <th id=\"T_3d202_level0_row2\" class=\"row_heading level0 row2\" >2</th>\n",
       "      <td id=\"T_3d202_row2_col0\" class=\"data row2 col0\" >1</td>\n",
       "      <td id=\"T_3d202_row2_col1\" class=\"data row2 col1\" >0</td>\n",
       "      <td id=\"T_3d202_row2_col2\" class=\"data row2 col2\" >N/A</td>\n",
       "      <td id=\"T_3d202_row2_col3\" class=\"data row2 col3\" >N/A</td>\n",
       "      <td id=\"T_3d202_row2_col4\" class=\"data row2 col4\" >1</td>\n",
       "      <td id=\"T_3d202_row2_col5\" class=\"data row2 col5\" >1</td>\n",
       "      <td id=\"T_3d202_row2_col6\" class=\"data row2 col6\" >0</td>\n",
       "    </tr>\n",
       "  </tbody>\n",
       "</table>\n"
      ],
      "text/plain": [
       "<pandas.io.formats.style.Styler at 0x14c845610>"
      ]
     },
     "metadata": {},
     "output_type": "display_data"
    }
   ],
   "source": [
    "back_fill_gcd_table(gcd_table, verbose=True)"
   ]
  },
  {
   "cell_type": "markdown",
   "metadata": {},
   "source": [
    "We confirm the desired relation `a * u + b * v = GCD(a, b)` holds throughout."
   ]
  },
  {
   "cell_type": "code",
   "execution_count": 16,
   "metadata": {},
   "outputs": [],
   "source": [
    "\n",
    "assert np.all(gcd_table['u'] * gcd_table['a'] + gcd_table['v'] * gcd_table['b'] == gcd_table['GCD(a, b)'])"
   ]
  },
  {
   "cell_type": "markdown",
   "metadata": {},
   "source": [
    "All of this would not be too bad using pencil and paper. A human would not need to follow the exact steps of `build_gcd_table()`, but instead fill out the table in an down pass followed by an up pass. That is to say: the algorithm is a bit overly detailed as it has to specify how the table is laid out and realized."
   ]
  },
  {
   "cell_type": "markdown",
   "metadata": {},
   "source": [
    "The value we want is `gcd_table.loc[0, 'v'] % 15625`:"
   ]
  },
  {
   "cell_type": "code",
   "execution_count": 17,
   "metadata": {},
   "outputs": [
    {
     "data": {
      "text/plain": [
       "7813"
      ]
     },
     "execution_count": 17,
     "metadata": {},
     "output_type": "execute_result"
    }
   ],
   "source": [
    "inv_2 = gcd_table.loc[0, 'v'] % 15625\n",
    "# confirm desired properties\n",
    "assert (inv_2 * 2) % 15625 == 1\n",
    "assert (2 * inv_2) % 15625 == 1\n",
    "\n",
    "inv_2"
   ]
  },
  {
   "cell_type": "markdown",
   "metadata": {},
   "source": [
    "We confirm `(inv_2 ** 8) % 15625` is indeed our magic `inv_256` solution. We use the relation `(a * b) % c = ((a % c) * (b % c)) % c` to work with smaller integers."
   ]
  },
  {
   "cell_type": "code",
   "execution_count": 18,
   "metadata": {},
   "outputs": [],
   "source": [
    "# form inv_256 from inv_2\n",
    "math_inv_256 = 1\n",
    "for i in range(8):\n",
    "    math_inv_256 = (math_inv_256 * inv_2) % 15625"
   ]
  },
  {
   "cell_type": "code",
   "execution_count": 19,
   "metadata": {},
   "outputs": [],
   "source": [
    "# check that it matches our magic value\n",
    "assert math_inv_256 == inv_256"
   ]
  },
  {
   "cell_type": "markdown",
   "metadata": {},
   "source": [
    "And this was the magic number needed to build the coconut puzzle solution."
   ]
  },
  {
   "cell_type": "markdown",
   "metadata": {},
   "source": [
    "## A variation\n",
    "\n",
    "Gardner states there is an older version of the puzzle where the Monkey gets a coconut even in the final division. This can be solved using the tools we already have."
   ]
  },
  {
   "cell_type": "code",
   "execution_count": 20,
   "metadata": {},
   "outputs": [
    {
     "data": {
      "text/plain": [
       "[-5*a + n - 1,\n",
       " 4*a - 5*b - 1,\n",
       " 4*b - 5*c - 1,\n",
       " 4*c - 5*d - 1,\n",
       " 4*d - 5*e - 1,\n",
       " 4*e - 5*f - 1]"
      ]
     },
     "execution_count": 20,
     "metadata": {},
     "output_type": "execute_result"
    }
   ],
   "source": [
    "eqns_older = [\n",
    "        n - (5 * a + 1),\n",
    "    4 * a - (5 * b + 1),\n",
    "    4 * b - (5 * c + 1),\n",
    "    4 * c - (5 * d + 1),\n",
    "    4 * d - (5 * e + 1),\n",
    "    4 * e - (5 * f + 1),\n",
    "]\n",
    "\n",
    "eqns_older"
   ]
  },
  {
   "cell_type": "code",
   "execution_count": 21,
   "metadata": {},
   "outputs": [
    {
     "data": {
      "text/plain": [
       "{a: (n - 1)/5,\n",
       " b: (4*n - 9)/25,\n",
       " c: (16*n - 61)/125,\n",
       " d: (64*n - 369)/625,\n",
       " e: (256*n - 2101)/3125,\n",
       " f: (1024*n - 11529)/15625}"
      ]
     },
     "execution_count": 21,
     "metadata": {},
     "output_type": "execute_result"
    }
   ],
   "source": [
    "solns_older = sp.solve(\n",
    "    eqns_older, \n",
    "    [a, b, c, d, e, f]\n",
    ")\n",
    "solns_older = {\n",
    "    k: v.together() for k, v in solns_older.items()}\n",
    "\n",
    "solns_older"
   ]
  },
  {
   "cell_type": "markdown",
   "metadata": {},
   "source": [
    "In this case our solution is `(inv_1024 * 11529) % 15625` where `inv_1024 = inv_2**10 % 15625`."
   ]
  },
  {
   "cell_type": "code",
   "execution_count": 22,
   "metadata": {},
   "outputs": [],
   "source": [
    "# form inv_1024 from inv_2\n",
    "math_inv_1024 = 1\n",
    "for i in range(10):\n",
    "    math_inv_1024 = (math_inv_1024 * inv_2) % 15625"
   ]
  },
  {
   "cell_type": "code",
   "execution_count": 23,
   "metadata": {},
   "outputs": [
    {
     "data": {
      "text/plain": [
       "15621"
      ]
     },
     "execution_count": 23,
     "metadata": {},
     "output_type": "execute_result"
    }
   ],
   "source": [
    "soln_older = (math_inv_1024 * 11529) % 15625\n",
    "\n",
    "soln_older"
   ]
  },
  {
   "cell_type": "code",
   "execution_count": 24,
   "metadata": {},
   "outputs": [
    {
     "data": {
      "text/plain": [
       "{a: 3124, b: 2499, c: 1999, d: 1599, e: 1279, f: 1023}"
      ]
     },
     "execution_count": 24,
     "metadata": {},
     "output_type": "execute_result"
    }
   ],
   "source": [
    "# check equations\n",
    "{k: s.subs(n, soln_older) for k, s in solns_older.items()}"
   ]
  },
  {
   "cell_type": "code",
   "execution_count": 25,
   "metadata": {},
   "outputs": [
    {
     "name": "stdout",
     "output_type": "stream",
     "text": [
      "start with 15621 coconuts\n",
      "man 0 takes 3124 coconuts for self, 1 for monkey, leaving 12496\n",
      "man 1 takes 2499 coconuts for self, 1 for monkey, leaving 9996\n",
      "man 2 takes 1999 coconuts for self, 1 for monkey, leaving 7996\n",
      "man 3 takes 1599 coconuts for self, 1 for monkey, leaving 6396\n",
      "man 4 takes 1279 coconuts for self, 1 for monkey, leaving 5116\n",
      "next day: each share is 1023 with 1 more for the monkey\n"
     ]
    }
   ],
   "source": [
    "# check procedure\n",
    "x = soln_older\n",
    "print(f'start with {x} coconuts')\n",
    "for step in range(0, 5):\n",
    "    assert (x-1) % 5 == 0\n",
    "    take = int((x - 1) / 5)\n",
    "    x = (x - 1) - take\n",
    "    print(f\"man {step} takes {take} coconuts for self, 1 for monkey, leaving {x}\")\n",
    "assert (x-1) % 5 == 0\n",
    "print(f\"next day: each share is {int((x-1)/5)} with 1 more for the monkey\")"
   ]
  },
  {
   "cell_type": "markdown",
   "metadata": {},
   "source": [
    "All the equations are satisfied, and the check algorithm confirms this is a solution."
   ]
  },
  {
   "cell_type": "markdown",
   "metadata": {},
   "source": [
    "## Gardner's solution\n",
    "\n",
    "Gardner spends a lot of time working through different ways to solve the problem, while avoiding needing the magic `inv_2`. Garnder knows this solution method, and even knows of a continued fraction tool to handle the intermediate record keeping we showed in our tabular extended Euclidean algorithm method. Likely Gardner doesn't think this is the easiest solution to bring to his readers. He is likely right. In this note we concentrated more what was easy for us (with our background and access to `sympy`) than what would require the least reference material.\n"
   ]
  },
  {
   "cell_type": "markdown",
   "metadata": {},
   "source": [
    "## Dirac's Solution\n",
    "\n",
    "Miodrag S. Petković, *Famous Puzzles of Great Mathematicians*, AMS, 2009 has a great section on this problem. This includes a fun description of Paul Dirac quickly working out `-4` satisfies the older puzzle equations.\n"
   ]
  },
  {
   "cell_type": "code",
   "execution_count": 26,
   "metadata": {},
   "outputs": [
    {
     "data": {
      "text/plain": [
       "{a: -1, b: -1, c: -1, d: -1, e: -1, f: -1}"
      ]
     },
     "execution_count": 26,
     "metadata": {},
     "output_type": "execute_result"
    }
   ],
   "source": [
    "# check equations\n",
    "{k: s.subs(n, -4) for k, s in solns_older.items()}"
   ]
  },
  {
   "cell_type": "markdown",
   "metadata": {},
   "source": [
    "Then presenting the solution `15621` which is equivalent to `-4` mod `15625` (the common denominator or modulus of all the check equations). This may be some meta-reasoning on Dirac's part: assuming the puzzle was designed to amenable to search, and then exploiting that assumption. Likely the later variation problem was designed to eliminate this sort of solution by moving the solution to be simultaneously far away from `0` and `15625`."
   ]
  },
  {
   "cell_type": "markdown",
   "metadata": {},
   "source": [
    "## Conclusion\n",
    "\n",
    "The monkey and the coconuts problem is a \"dead center\" example of a [Diophantine equation](https://en.wikipedia.org/wiki/Diophantine_equation) problem. So the methods shown are indeed the right way to solve it. I am hoping delegating the algebra to `sympy` makes this more readable in our programming oriented era.\n"
   ]
  },
  {
   "cell_type": "markdown",
   "metadata": {},
   "source": [
    "## Appendices"
   ]
  },
  {
   "cell_type": "markdown",
   "metadata": {},
   "source": [
    "### Appendix: Solving the Back-Fill Equations"
   ]
  },
  {
   "cell_type": "markdown",
   "metadata": {},
   "source": [
    "\n",
    "Here we derive the back-fill equations that let us derive `u[i]` and `v[i]` from later rows.\n",
    "\n",
    "We start with the following:\n",
    "\n",
    "  * `u[i] a[i] = v[i] b[i] = GCD`\n",
    "  * `u[i+1] a[i+1] = v[i+1] b[i+1] = GCD`. \n",
    "  \n",
    "Inspecting the forward GCD table code gives us:\n",
    "\n",
    "  * `a[i+1] = b[i]`\n",
    "  * `b[i+1] = a[i] - (a[i]//b[i]) b[i]`. \n",
    "  \n",
    "This is enough to solve for `u[i]` and `v[i]` as follows. The following equation must be true for *all* `a[i]` and `b[i]`."
   ]
  },
  {
   "cell_type": "code",
   "execution_count": 27,
   "metadata": {},
   "outputs": [
    {
     "data": {
      "text/latex": [
       "$\\displaystyle (a_{i}//b_{i}) b_{i} v_{i+1} + a_{i} u_{i} - a_{i} v_{i+1} - b_{i} u_{i+1} + b_{i} v_{i}$"
      ],
      "text/plain": [
       "(a_{i}//b_{i})*b_{i}*v_{i+1} + a_{i}*u_{i} - a_{i}*v_{i+1} - b_{i}*u_{i+1} + b_{i}*v_{i}"
      ]
     },
     "execution_count": 27,
     "metadata": {},
     "output_type": "execute_result"
    }
   ],
   "source": [
    "a_i, b_i, u_i, v_i, a_ip1, b_ip1, u_ip1, v_ip1, GCD, q = sp.symbols('a_{i} b_{i} u_{i} v_{i} a_{i+1} b_{i+1} u_{i+1} v_{i+1} GCD (a_{i}//b_{i})')\n",
    "\n",
    "eqn = u_i * a_i + v_i * b_i - GCD  # relation in row i\n",
    "eqn = eqn.subs({GCD: u_ip1 * a_ip1 + v_ip1 * b_ip1})  # use row i+1 to eliminate GCD variable\n",
    "eqn = eqn.subs({a_ip1: b_i, b_ip1: a_i - q * b_i}).expand() # this expression should equal zero for ALL a_i, b_i\n",
    "\n",
    "eqn"
   ]
  },
  {
   "cell_type": "markdown",
   "metadata": {},
   "source": [
    "This means we can choose substitutions of values for `a[i]` and `b[i]` to solve. We choose values such that each resulting expression has only one of `u[i]` or `v[i]`."
   ]
  },
  {
   "cell_type": "code",
   "execution_count": 28,
   "metadata": {},
   "outputs": [
    {
     "data": {
      "text/plain": [
       "{u_{i}: v_{i+1}, v_{i}: -(a_{i}//b_{i})*v_{i+1} + u_{i+1}}"
      ]
     },
     "execution_count": 28,
     "metadata": {},
     "output_type": "execute_result"
    }
   ],
   "source": [
    "# so we can solve by substituting in a_i, b_i\n",
    "# so that each expression has only one of u_i, v_i\n",
    "{\n",
    "    u_i: sp.solve(eqn.subs({a_i: 1, b_i: 0}), u_i)[0],\n",
    "    v_i: sp.solve(eqn.subs({a_i: 0, b_i: 1}), v_i)[0],\n",
    "}"
   ]
  },
  {
   "cell_type": "markdown",
   "metadata": {},
   "source": [
    "This completes the claim:\n",
    "\n",
    " * `u[i] = v[i+1]`\n",
    " * `v[i] = u[i+1] - (a[i]//b[i]) * v[i+1]`\n",
    "\n",
    "The above being a the backwards fill steps for the extended Euclidean algorithm."
   ]
  }
 ],
 "metadata": {
  "kernelspec": {
   "display_name": "prob_env",
   "language": "python",
   "name": "python3"
  },
  "language_info": {
   "codemirror_mode": {
    "name": "ipython",
    "version": 3
   },
   "file_extension": ".py",
   "mimetype": "text/x-python",
   "name": "python",
   "nbconvert_exporter": "python",
   "pygments_lexer": "ipython3",
   "version": "3.11.9"
  }
 },
 "nbformat": 4,
 "nbformat_minor": 2
}
