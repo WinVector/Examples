{
 "cells": [
  {
   "cell_type": "markdown",
   "metadata": {},
   "source": [
    "## Introduction\n",
    "\n",
    "Nina Zumel shared a good solution to the [100 Bushels of Corn](https://ninazumel.com/blog/2024-09-26-100bushels/) puzzle [here](https://ninazumel.com/blog/2024-09-26-100bushels/#the-solution).\n",
    "\n",
    "The puzzle is:\n",
    "\n",
    "> 100 bushes of corn are distributed to 100 people such that every man receives 3 bushels, every woman 2 bushels, and every child 1/2 a bushel. How many men, women, and children are there?\n",
    "\n",
    "From our domain knowledge, we know that all the variables we are solving for are non-negative integers.\n",
    "\n",
    "Dr. Zumel and I are intensely interested in how heuristics can be adapted to full solution algorithms. Some of these classic puzzles give amazing workbenches to demonstrate technique. In this case the methodology is to solve a [system of Diophantine equations](https://en.wikipedia.org/wiki/Diophantine_equation), or integer valued linear programming. Our challenge here is: can we demonstrate the methodology using code examples? In this note we give it a try.\n",
    "\n"
   ]
  },
  {
   "cell_type": "markdown",
   "metadata": {},
   "source": [
    "## Solving the problem using Diophantine equations\n",
    "\n",
    "To solve the problem using Diophantine equations we break the problem into two parts:\n",
    "\n",
    "  1) Write down the problem as an integral matrix equation. From this we quickly observe the solutions lie in a one dimensional subspace.\n",
    "  2) Find a 1 to 1 onto (reversible) mapping from the standard integers to the integral solutions of the problem, ignoring the sign constraints. This portion is solved by finding a **_Smith normal form_** for the matrix equation (a Hermite normal form will do, but there are fewer steps to demonstrate using the Smith normal form).\n",
    "  3) Find the bounded interval of solutions on the line that obey our sign constraints.\n",
    "\n",
    "\n",
    "  "
   ]
  },
  {
   "cell_type": "markdown",
   "metadata": {},
   "source": [
    "## Starting\n",
    "\n",
    "Let's set up Python and write down our problem."
   ]
  },
  {
   "cell_type": "code",
   "execution_count": 1,
   "metadata": {},
   "outputs": [],
   "source": [
    "# imports\n",
    "import itertools\n",
    "import numpy as np\n",
    "import sympy as sp\n",
    "\n",
    "from bushels_fns import is_integers, is_non_neg, right_pseudo_inverse_of_Smith_normal_form\n",
    "\n",
    "#  uses: https://pypi.org/project/smithnormalform/\n",
    "from bushels_fns import smith_normal_form"
   ]
  },
  {
   "cell_type": "markdown",
   "metadata": {},
   "source": [
    "To make our matrix integral we multiply the consumption (bushel) constraints by 2. This is the same problem written slightly differently. We want integral vectors `soln >= 0`such that `a soln = b`."
   ]
  },
  {
   "cell_type": "code",
   "execution_count": 2,
   "metadata": {},
   "outputs": [
    {
     "data": {
      "text/latex": [
       "$\\displaystyle \\left[\\begin{matrix}1 & 1 & 1\\\\6 & 4 & 1\\end{matrix}\\right]$"
      ],
      "text/plain": [
       "Matrix([\n",
       "[1, 1, 1],\n",
       "[6, 4, 1]])"
      ]
     },
     "execution_count": 2,
     "metadata": {},
     "output_type": "execute_result"
    }
   ],
   "source": [
    "# our linear relations\n",
    "a = sp.Matrix([\n",
    "    [1, 1, 1],\n",
    "    [6, 4, 1]\n",
    "])\n",
    "\n",
    "a"
   ]
  },
  {
   "cell_type": "code",
   "execution_count": 3,
   "metadata": {},
   "outputs": [
    {
     "data": {
      "text/latex": [
       "$\\displaystyle \\left[\\begin{matrix}100\\\\200\\end{matrix}\\right]$"
      ],
      "text/plain": [
       "Matrix([\n",
       "[100],\n",
       "[200]])"
      ]
     },
     "execution_count": 3,
     "metadata": {},
     "output_type": "execute_result"
    }
   ],
   "source": [
    "# our population and consumption constraints\n",
    "b = sp.Matrix([100, 200])\n",
    "\n",
    "b"
   ]
  },
  {
   "cell_type": "markdown",
   "metadata": {},
   "source": [
    "In this encoding the vector `soln = [#men, #women, #children]` is a proposed solution.  To be a proper solution we must have:\n",
    "\n",
    "  * `A soln = b` (the linear relations).\n",
    "  * All entries of `soln` integral (the integrality constraints).\n",
    "  * `soln >= 0` (the sign constraints).\n",
    "\n",
    "We will solve the problem by:\n",
    "\n",
    "  1) Enforcing the linear relations.\n",
    "  2) Using a matrix factorization to map into the linear subspace enforcing the integrality constraints.\n",
    "  3) Bounding our subspace to impose the sign constraints."
   ]
  },
  {
   "cell_type": "markdown",
   "metadata": {},
   "source": [
    "## The linear and integrality constraints\n",
    "\n",
    "The linear constraints are enforced by our problem set up. Let's add in a process that respects the integrality requirement by finding a mapping that is 1 to 1 and onto the integral points of interest."
   ]
  },
  {
   "cell_type": "markdown",
   "metadata": {},
   "source": [
    "To find a mapping respecting the integrality constraints we factor our matrix `a` into Smith normal form <code>a = s<sup>-1</sup> j t<sup>-1</sup></code> where:\n",
    "\n",
    "  * `s, j, t` all integral.\n",
    "  * `s, t` unimodular (have determinant equal to `+-1`).\n",
    "  * `j` is in Smith normal form: initial diagonal with more zero columns."
   ]
  },
  {
   "cell_type": "code",
   "execution_count": 4,
   "metadata": {},
   "outputs": [],
   "source": [
    "# factor a as s.inv() j t.inv()\n",
    "s, t, j = smith_normal_form(a)"
   ]
  },
  {
   "cell_type": "code",
   "execution_count": 5,
   "metadata": {},
   "outputs": [
    {
     "data": {
      "text/latex": [
       "$\\displaystyle \\left[\\begin{matrix}6 & -1\\\\1 & 0\\end{matrix}\\right]$"
      ],
      "text/plain": [
       "Matrix([\n",
       "[6, -1],\n",
       "[1,  0]])"
      ]
     },
     "execution_count": 5,
     "metadata": {},
     "output_type": "execute_result"
    }
   ],
   "source": [
    "\n",
    "assert is_integers(s)\n",
    "assert np.abs(s.det()) == 1\n",
    "\n",
    "s"
   ]
  },
  {
   "cell_type": "code",
   "execution_count": 6,
   "metadata": {},
   "outputs": [
    {
     "data": {
      "text/latex": [
       "$\\displaystyle \\left[\\begin{matrix}1 & 1 & 3\\\\-2 & 0 & -5\\\\1 & 0 & 2\\end{matrix}\\right]$"
      ],
      "text/plain": [
       "Matrix([\n",
       "[ 1, 1,  3],\n",
       "[-2, 0, -5],\n",
       "[ 1, 0,  2]])"
      ]
     },
     "execution_count": 6,
     "metadata": {},
     "output_type": "execute_result"
    }
   ],
   "source": [
    "# confirm properties of t and display t\n",
    "assert is_integers(t)\n",
    "assert np.abs(t.det()) == 1\n",
    "\n",
    "t"
   ]
  },
  {
   "cell_type": "code",
   "execution_count": 7,
   "metadata": {},
   "outputs": [
    {
     "data": {
      "text/latex": [
       "$\\displaystyle \\left[\\begin{matrix}1 & 0 & 0\\\\0 & 1 & 0\\end{matrix}\\right]$"
      ],
      "text/plain": [
       "Matrix([\n",
       "[1, 0, 0],\n",
       "[0, 1, 0]])"
      ]
     },
     "execution_count": 7,
     "metadata": {},
     "output_type": "execute_result"
    }
   ],
   "source": [
    "# confirm properties of j and display j\n",
    "assert is_integers(j)\n",
    "for row_i in range(j.shape[0]):\n",
    "    for col_j in range(j.shape[1]):\n",
    "        if row_i != col_j:\n",
    "            assert j[row_i, col_j] == 0\n",
    "assert j.shape == a.shape\n",
    "assert s.inv() * j * t.inv() == a\n",
    "\n",
    "j"
   ]
  },
  {
   "cell_type": "markdown",
   "metadata": {},
   "source": [
    "The determinants of `s` and `t` being `+-1` is the magic. This means these matrices represent invertible 1 to 1 and onto maps from the lattice of integers <code>Z<sup>3</sup></code> to itself. The matrices `s` and `t` are useful in that represent a change of variables so that our check matrix `a` is represented by the diagonal matrix `j`. In this form calculations are easy and also preserve integrality (as we are only multiplying and adding)."
   ]
  },
  {
   "cell_type": "markdown",
   "metadata": {},
   "source": [
    "## The general form of the solution"
   ]
  },
  {
   "cell_type": "markdown",
   "metadata": {},
   "source": [
    "We are looking for a basis for all solutions for the linear relations `a soln = b`. We assert these are all of the form <code>soln = t (j<sup>p</sup> s b + x)</code>, where <code>j<sup>p</sup></code> is a right pseudo-inverse of `j` and `x` is any integral vector such that `j x = 0`. We use `x` to parameterize all of the solutions.\n",
    "\n",
    "We can check the above solution. \n",
    "\n",
    "Given:\n",
    "\n",
    "  * <code>a = (s<sup>-1</sup> j t<sup>-1</sup>)</code>\n",
    "  * <code>soln = t (j<sup>p</sup> s b + x)</code>\n",
    "\n",
    "Then <code>a soln = (s<sup>-1</sup> j t<sup>-1</sup>) (t (j<sup>p</sup> s b + x)) = b</code>. It is just a matter of expanding the expression to confirm this indeed equals `b`.\n"
   ]
  },
  {
   "cell_type": "markdown",
   "metadata": {},
   "source": [
    "In code this looks like the following."
   ]
  },
  {
   "cell_type": "code",
   "execution_count": 8,
   "metadata": {},
   "outputs": [
    {
     "data": {
      "text/latex": [
       "$\\displaystyle \\left[\\begin{matrix}1 & 0\\\\0 & 1\\\\0 & 0\\end{matrix}\\right]$"
      ],
      "text/plain": [
       "Matrix([\n",
       "[1, 0],\n",
       "[0, 1],\n",
       "[0, 0]])"
      ]
     },
     "execution_count": 8,
     "metadata": {},
     "output_type": "execute_result"
    }
   ],
   "source": [
    "# build right pseudo inverse of j\n",
    "jp = right_pseudo_inverse_of_Smith_normal_form(j)\n",
    "\n",
    "jp"
   ]
  },
  {
   "cell_type": "code",
   "execution_count": 9,
   "metadata": {},
   "outputs": [
    {
     "data": {
      "text/latex": [
       "$\\displaystyle \\left[\\begin{matrix}1 & 0\\\\0 & 1\\end{matrix}\\right]$"
      ],
      "text/plain": [
       "Matrix([\n",
       "[1, 0],\n",
       "[0, 1]])"
      ]
     },
     "execution_count": 9,
     "metadata": {},
     "output_type": "execute_result"
    }
   ],
   "source": [
    "# confirm on the right inverse\n",
    "assert j * jp == sp.Matrix.eye(j.shape[0])\n",
    "\n",
    "j * jp "
   ]
  },
  {
   "cell_type": "code",
   "execution_count": 10,
   "metadata": {},
   "outputs": [
    {
     "data": {
      "text/latex": [
       "$\\displaystyle \\left[\\begin{matrix}0\\\\0\\\\x_{1}\\end{matrix}\\right]$"
      ],
      "text/plain": [
       "Matrix([\n",
       "[  0],\n",
       "[  0],\n",
       "[x_1]])"
      ]
     },
     "execution_count": 10,
     "metadata": {},
     "output_type": "execute_result"
    }
   ],
   "source": [
    "# write down parametric portion of solution\n",
    "x_vars = [sp.Symbol(f'x_{i+1}') for i in range(j.shape[1] - j.shape[0])]\n",
    "x = sp.Matrix([0] * j.shape[0] + x_vars)\n",
    "assert j * x == sp.Matrix([0] * j.shape[0])\n",
    "\n",
    "x"
   ]
  },
  {
   "cell_type": "code",
   "execution_count": 11,
   "metadata": {},
   "outputs": [
    {
     "data": {
      "text/latex": [
       "$\\displaystyle \\left[\\begin{matrix}3 x_{1} + 500\\\\- 5 x_{1} - 800\\\\2 x_{1} + 400\\end{matrix}\\right]$"
      ],
      "text/plain": [
       "Matrix([\n",
       "[ 3*x_1 + 500],\n",
       "[-5*x_1 - 800],\n",
       "[ 2*x_1 + 400]])"
      ]
     },
     "execution_count": 11,
     "metadata": {},
     "output_type": "execute_result"
    }
   ],
   "source": [
    "# write down our general solution\n",
    "soln = t * (jp * s * b + x)\n",
    "\n",
    "soln"
   ]
  },
  {
   "cell_type": "markdown",
   "metadata": {},
   "source": [
    "This solution is the heart of the puzzle. It encodes the observable congruence relations: \"number of children is divisible by 2\", \"number of women is divisible by 5\", and \"number of men is congruent to 3 modulo 5.\"\n",
    "\n",
    "We confirm this solution obeys the linear relations, and then continue."
   ]
  },
  {
   "cell_type": "code",
   "execution_count": 12,
   "metadata": {},
   "outputs": [
    {
     "data": {
      "text/latex": [
       "$\\displaystyle \\left[\\begin{matrix}100\\\\200\\end{matrix}\\right]$"
      ],
      "text/plain": [
       "Matrix([\n",
       "[100],\n",
       "[200]])"
      ]
     },
     "execution_count": 12,
     "metadata": {},
     "output_type": "execute_result"
    }
   ],
   "source": [
    "# confirm our solution obeys the linear relations\n",
    "# no matter what values we have for x\n",
    "assert a * soln == b\n",
    "\n",
    "a * soln"
   ]
  },
  {
   "cell_type": "markdown",
   "metadata": {},
   "source": [
    "A more common way to build up the solution is to write a bit of code instead of using algebra. In my opinion it is a bit harder to check that the direct solution solves the problem (as the earlier proof by cancellation is no longer direct). But the standard direct solution is th same and is a bit easier to code.\n",
    "\n",
    "Let's take a quick look at the \"by the book\" solution (found on the Wikipedia).\n"
   ]
  },
  {
   "cell_type": "code",
   "execution_count": 13,
   "metadata": {},
   "outputs": [
    {
     "data": {
      "text/latex": [
       "$\\displaystyle \\left[\\begin{matrix}3 x_{1} + 500\\\\- 5 x_{1} - 800\\\\2 x_{1} + 400\\end{matrix}\\right]$"
      ],
      "text/plain": [
       "Matrix([\n",
       "[ 3*x_1 + 500],\n",
       "[-5*x_1 - 800],\n",
       "[ 2*x_1 + 400]])"
      ]
     },
     "execution_count": 13,
     "metadata": {},
     "output_type": "execute_result"
    }
   ],
   "source": [
    "# a more direct way to get the same solution (code instead of algebra)\n",
    "# the algebra above justifies this as a correct calculation\n",
    "soln_direct = t * sp.Matrix(\n",
    "    [(s * b)[i]/ j[i, i] for i in range(j.shape[0])] \n",
    "    + x_vars)\n",
    "assert soln == soln_direct\n",
    "\n",
    "soln_direct"
   ]
  },
  {
   "cell_type": "markdown",
   "metadata": {},
   "source": [
    "Now that we have a parameterized solution that:\n",
    "\n",
    "  * **is integral** (by the use of the integer preserving unimodular mappings or change of variables supplied by `s` and `t`)\n",
    "  * **parametrizes all solutions of the linear relations** (by the introduction of the `x` symbols and a quick appeal to linear rank arguments)\n",
    "\n",
    "all that remains is to bring in the non-negativity constraints. \n",
    "\n",
    "This is just a matter of bounding which values of the `x` parameters yield solutions of the correct sign."
   ]
  },
  {
   "cell_type": "markdown",
   "metadata": {},
   "source": [
    "## Enforcing the sign constraints\n",
    "\n",
    "Now we need to know what values to substitute in for `x`. The theory tells us that all integers lead to integral solutions (and fractional values do not need to be considered). So all that remains is to find the range of `x` that obey the non-negativity constraints on the number of each type of people.\n",
    "\n",
    "We want to find the interval (or in general the polytope) of all `x` such all three coordinates of the solution are nonnegative. Our system is linear, so the interval of non-negative solutions is bounded by where one of the solution coordinates is zero. We now find those zero crossing points by calling Sympy's solver."
   ]
  },
  {
   "cell_type": "code",
   "execution_count": 14,
   "metadata": {},
   "outputs": [
    {
     "data": {
      "text/plain": [
       "[-500/3, -160, -200]"
      ]
     },
     "execution_count": 14,
     "metadata": {},
     "output_type": "execute_result"
    }
   ],
   "source": [
    "\n",
    "# solve for each entry of soln being 0 in turn\n",
    "pts = [sp.solve(soln[i])[0] for i in range(soln.shape[0])]\n",
    "\n",
    "pts\n",
    "\n"
   ]
  },
  {
   "cell_type": "code",
   "execution_count": 15,
   "metadata": {},
   "outputs": [
    {
     "name": "stdout",
     "output_type": "stream",
     "text": [
      "x=-500/3\n",
      " -> soln=\n"
     ]
    },
    {
     "data": {
      "text/latex": [
       "$\\displaystyle \\left[\\begin{matrix}0\\\\\\frac{100}{3}\\\\\\frac{200}{3}\\end{matrix}\\right]$"
      ],
      "text/plain": [
       "Matrix([\n",
       "[    0],\n",
       "[100/3],\n",
       "[200/3]])"
      ]
     },
     "metadata": {},
     "output_type": "display_data"
    },
    {
     "name": "stdout",
     "output_type": "stream",
     "text": [
      " -> was non-negative: True\n",
      "x=-160\n",
      " -> soln=\n"
     ]
    },
    {
     "data": {
      "text/latex": [
       "$\\displaystyle \\left[\\begin{matrix}20\\\\0\\\\80\\end{matrix}\\right]$"
      ],
      "text/plain": [
       "Matrix([\n",
       "[20],\n",
       "[ 0],\n",
       "[80]])"
      ]
     },
     "metadata": {},
     "output_type": "display_data"
    },
    {
     "name": "stdout",
     "output_type": "stream",
     "text": [
      " -> was non-negative: True\n",
      "x=-200\n",
      " -> soln=\n"
     ]
    },
    {
     "data": {
      "text/latex": [
       "$\\displaystyle \\left[\\begin{matrix}-100\\\\200\\\\0\\end{matrix}\\right]$"
      ],
      "text/plain": [
       "Matrix([\n",
       "[-100],\n",
       "[ 200],\n",
       "[   0]])"
      ]
     },
     "metadata": {},
     "output_type": "display_data"
    },
    {
     "name": "stdout",
     "output_type": "stream",
     "text": [
      " -> was non-negative: False\n"
     ]
    }
   ],
   "source": [
    "# show which solutions are non-negative\n",
    "for pi in pts:\n",
    "    si = soln.subs(x_vars[0], pi)\n",
    "    print(f\"x={pi}\")\n",
    "    print(\" -> soln=\")\n",
    "    display(si)\n",
    "    print(f\" -> was non-negative: {is_non_neg(si)}\")"
   ]
  },
  {
   "cell_type": "markdown",
   "metadata": {},
   "source": [
    "We see some of these proposed interval endpoints drive solution coordinates negative. So we keep only the ones without this problem."
   ]
  },
  {
   "cell_type": "code",
   "execution_count": 16,
   "metadata": {},
   "outputs": [
    {
     "data": {
      "text/plain": [
       "[-500/3, -160]"
      ]
     },
     "execution_count": 16,
     "metadata": {},
     "output_type": "execute_result"
    }
   ],
   "source": [
    "# keep only solutions where all other entries are nonnegative\n",
    "pts = [pi for pi in pts if is_non_neg(soln.subs(x_vars[0], pi))]\n",
    "\n",
    "pts"
   ]
  },
  {
   "cell_type": "markdown",
   "metadata": {},
   "source": [
    "And, as we are only considering integral `x`, we can sharpen this range up a bit to the following. This sort of improvement drives what are called \"cutting plane methods\" in integer programming."
   ]
  },
  {
   "cell_type": "code",
   "execution_count": 17,
   "metadata": {},
   "outputs": [
    {
     "data": {
      "text/plain": [
       "[-166, -160]"
      ]
     },
     "execution_count": 17,
     "metadata": {},
     "output_type": "execute_result"
    }
   ],
   "source": [
    "# shrink interval to integer bounds\n",
    "pts = [int(np.ceil(np.min(pts))), int(np.floor(np.max(pts)))]\n",
    "\n",
    "pts"
   ]
  },
  {
   "cell_type": "markdown",
   "metadata": {},
   "source": [
    "# Confirming the solutions\n",
    "\n",
    "Now we just plug in the integers in the range `[-166, -160]` to see the exact 7 solutions to the original problem."
   ]
  },
  {
   "cell_type": "code",
   "execution_count": 18,
   "metadata": {},
   "outputs": [
    {
     "data": {
      "text/latex": [
       "$\\displaystyle \\left[\\begin{matrix}2\\\\30\\\\68\\end{matrix}\\right]$"
      ],
      "text/plain": [
       "Matrix([\n",
       "[ 2],\n",
       "[30],\n",
       "[68]])"
      ]
     },
     "metadata": {},
     "output_type": "display_data"
    },
    {
     "data": {
      "text/latex": [
       "$\\displaystyle \\left[\\begin{matrix}5\\\\25\\\\70\\end{matrix}\\right]$"
      ],
      "text/plain": [
       "Matrix([\n",
       "[ 5],\n",
       "[25],\n",
       "[70]])"
      ]
     },
     "metadata": {},
     "output_type": "display_data"
    },
    {
     "data": {
      "text/latex": [
       "$\\displaystyle \\left[\\begin{matrix}8\\\\20\\\\72\\end{matrix}\\right]$"
      ],
      "text/plain": [
       "Matrix([\n",
       "[ 8],\n",
       "[20],\n",
       "[72]])"
      ]
     },
     "metadata": {},
     "output_type": "display_data"
    },
    {
     "data": {
      "text/latex": [
       "$\\displaystyle \\left[\\begin{matrix}11\\\\15\\\\74\\end{matrix}\\right]$"
      ],
      "text/plain": [
       "Matrix([\n",
       "[11],\n",
       "[15],\n",
       "[74]])"
      ]
     },
     "metadata": {},
     "output_type": "display_data"
    },
    {
     "data": {
      "text/latex": [
       "$\\displaystyle \\left[\\begin{matrix}14\\\\10\\\\76\\end{matrix}\\right]$"
      ],
      "text/plain": [
       "Matrix([\n",
       "[14],\n",
       "[10],\n",
       "[76]])"
      ]
     },
     "metadata": {},
     "output_type": "display_data"
    },
    {
     "data": {
      "text/latex": [
       "$\\displaystyle \\left[\\begin{matrix}17\\\\5\\\\78\\end{matrix}\\right]$"
      ],
      "text/plain": [
       "Matrix([\n",
       "[17],\n",
       "[ 5],\n",
       "[78]])"
      ]
     },
     "metadata": {},
     "output_type": "display_data"
    },
    {
     "data": {
      "text/latex": [
       "$\\displaystyle \\left[\\begin{matrix}20\\\\0\\\\80\\end{matrix}\\right]$"
      ],
      "text/plain": [
       "Matrix([\n",
       "[20],\n",
       "[ 0],\n",
       "[80]])"
      ]
     },
     "metadata": {},
     "output_type": "display_data"
    }
   ],
   "source": [
    "assert (pts[1] + 1 - pts[0]) == 7\n",
    "\n",
    "for pi in range(pts[0], pts[1]+1):\n",
    "    soln_x = soln.subs(x_vars[0], pi)\n",
    "    assert a * soln_x == b\n",
    "    assert is_non_neg(soln_x)\n",
    "    assert is_integers(soln_x)\n",
    "    display(soln_x)"
   ]
  },
  {
   "cell_type": "markdown",
   "metadata": {},
   "source": [
    "These are exactly [the solutions shown by Nina Zumel](https://ninazumel.com/blog/2024-09-26-100bushels/#the-solution). Her method can be thought of as using paper and pencil to: establish the linear relations, find the right modular relations, and then find the nonnegative integral endpoint.\n",
    "\n",
    "\n",
    "\n"
   ]
  },
  {
   "cell_type": "markdown",
   "metadata": {},
   "source": [
    "## Brute force\n",
    "\n",
    "Another computer approach that does work for small problems is brute force enumeration. Propose every non-negative integral vector with maximum entry no more than the obvious maximums, and keep the 7 that obey the `a soln = b` linear constraint checks. Fred Viole could not resist demonstrating that solution [here](https://www.linkedin.com/feed/update/urn:li:activity:7245245226536054785?commentUrn=urn%3Ali%3Acomment%3A%28activity%3A7245245226536054785%2C7245250416890773504%29&dashCommentUrn=urn%3Ali%3Afsd_comment%3A%287245250416890773504%2Curn%3Ali%3Aactivity%3A7245245226536054785%29)."
   ]
  },
  {
   "cell_type": "code",
   "execution_count": 19,
   "metadata": {},
   "outputs": [
    {
     "data": {
      "text/plain": [
       "[33, 50]"
      ]
     },
     "execution_count": 19,
     "metadata": {},
     "output_type": "execute_result"
    }
   ],
   "source": [
    "# get (inclusive) ranges of all but last solution variable\n",
    "# (eg the maximum possible number of men and of women)\n",
    "ranges = [\n",
    "    int(np.min([b[row_i] / a[row_i, col_j] \n",
    "                for row_i in range(a.shape[0])]))\n",
    "     for col_j in range(a.shape[1] - 1)\n",
    "]\n",
    "\n",
    "ranges"
   ]
  },
  {
   "cell_type": "markdown",
   "metadata": {},
   "source": [
    "These naive ranges combine to the following number of combinations."
   ]
  },
  {
   "cell_type": "code",
   "execution_count": 20,
   "metadata": {},
   "outputs": [
    {
     "data": {
      "text/plain": [
       "1734"
      ]
     },
     "execution_count": 20,
     "metadata": {},
     "output_type": "execute_result"
    }
   ],
   "source": [
    "np.prod([r + 1 for r in ranges])"
   ]
  },
  {
   "cell_type": "markdown",
   "metadata": {},
   "source": [
    "We can quickly run through all of these solution proposals and limit down to correct solutions."
   ]
  },
  {
   "cell_type": "code",
   "execution_count": 21,
   "metadata": {},
   "outputs": [
    {
     "data": {
      "text/plain": [
       "[(2, 30, 68),\n",
       " (5, 25, 70),\n",
       " (8, 20, 72),\n",
       " (11, 15, 74),\n",
       " (14, 10, 76),\n",
       " (17, 5, 78),\n",
       " (20, 0, 80)]"
      ]
     },
     "execution_count": 21,
     "metadata": {},
     "output_type": "execute_result"
    }
   ],
   "source": [
    "# scan through all proposed solutions, keeping correct ones\n",
    "def propose_solution(v_initial):\n",
    "    \"\"\"propose a solution that sums to b[0] given all but one entry\"\"\"\n",
    "    return [v for v in v_initial] + [b[0] - np.sum(v_initial)]\n",
    "\n",
    "# brute force run through all combinations to inspect for solutions\n",
    "brute_force_solutions = [\n",
    "    tuple(pv) for v in itertools.product(*[list(range(ranges[i] + 1)) for i in range(len(ranges))])\n",
    "    if (np.min(pv := propose_solution(v)) >= 0) and (a * sp.Matrix(pv) == b)\n",
    "]\n",
    "assert len(brute_force_solutions) == (pts[1] + 1 - pts[0])\n",
    "\n",
    "brute_force_solutions"
   ]
  },
  {
   "cell_type": "markdown",
   "metadata": {},
   "source": [
    "All of these methods are examples of how [so much became possible with programable calculating machines](https://win-vector.com/2009/05/12/the-joy-of-calculation/). For small problems the brute-force method merely wastes a few micro-seconds of CPU time. For large problems the earlier systematic solution method becomes important."
   ]
  },
  {
   "cell_type": "markdown",
   "metadata": {},
   "source": [
    "## Conclusion\n",
    "\n",
    "The above may all seem \"a bit magic.\" The reason is that these tools were designed to solve exactly these problems and to address the fundamental difficulties.\n",
    "\n",
    "The amount of interesting mathematical structure in this puzzle is truly astounding. It allowed us to touch on quite a number of points of Diophantine equations, linear algebra, and integer programming. Problems like it are the basis of a number of deep and fascinating fields including: \"diophantine equations\", \"lattice reduction\", \"lattice polytopes\", \"geometry of numbers\", \"counting integral solutions\", \"additive number theory\", and \"additive combinatorics\".\n",
    "\n",
    "I presume earlier solution methods involved a lot more direct calculation and a lot less delegation to methods. Henry Dudeney's solution is in fact just the 7 vectors without any explanation of method. I wonder if such were the Sudoku of their era. \n"
   ]
  }
 ],
 "metadata": {
  "kernelspec": {
   "display_name": "prob_env",
   "language": "python",
   "name": "python3"
  },
  "language_info": {
   "codemirror_mode": {
    "name": "ipython",
    "version": 3
   },
   "file_extension": ".py",
   "mimetype": "text/x-python",
   "name": "python",
   "nbconvert_exporter": "python",
   "pygments_lexer": "ipython3",
   "version": "3.11.9"
  }
 },
 "nbformat": 4,
 "nbformat_minor": 2
}
