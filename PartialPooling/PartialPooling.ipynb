{
 "cells": [
  {
   "attachments": {},
   "cell_type": "markdown",
   "metadata": {},
   "source": [
    "This note works an example of partial pooling from equation 12.1 of Gelman, Hill, \"Data Analysis Using Regression and Multilevel/Hierarchical Models\", Cambridge 2007.\n",
    "\n",
    "## Introduction\n",
    "\n",
    "The topic of formula 12.1 is: how to partially pool data by hand, though this task is often handled by a hierarchical model solver. \n",
    "\n",
    "The idea is: we want to estimate the ideal mean of a value from a few observations at a location. The optimal linear un-biased estimator is to just take the average of the observed values, and hope this is close to the ideal unobserved mean.\n",
    "\n",
    "The wrinkle in partial pooling is: if we have data from other (different buy related) locations, can we use that to improve our estimate?\n",
    "\n",
    "Let's work this example with a few simplifying assumptions, using the `Python` `sympy` package to do the algebra."
   ]
  },
  {
   "cell_type": "code",
   "execution_count": 1,
   "metadata": {},
   "outputs": [],
   "source": [
    "# import packages\n",
    "import sympy\n",
    "from sympy.stats import E, Normal\n",
    "import numpy as np\n",
    "import pandas as pd\n",
    "import seaborn as sns\n",
    "import matplotlib.pyplot as plt"
   ]
  },
  {
   "attachments": {},
   "cell_type": "markdown",
   "metadata": {},
   "source": [
    "Our idea is:\n",
    "\n",
    "  * Each location has an unobserved mean value of examples drawn from this location, call this `LocationValue_j`.\n",
    "  * The locations are related, in that the `LocationValue_j`s are all drawn from some common distribution. This is why we think pooling data could be useful.\n",
    "  * For a given location, we figure some combination of the observations from the location, plus observations from other locations may be a lower expected error estimate than can be found using only observations from the location.\n",
    "\n",
    "To execute this idea we need to define a great number of variables and their relations as follows."
   ]
  },
  {
   "cell_type": "code",
   "execution_count": 2,
   "metadata": {},
   "outputs": [],
   "source": [
    "# define initial variables\n",
    "TrueEffectCenter = sympy.Symbol(\"TrueEffectCenter\")  # center of distribution generating locations, unobserved\n",
    "BetweenLocationsSD = sympy.Symbol(\"BetweenLocationsSD\")  # how individual locations very from each other in expected behavior, unobserved\n",
    "EstimatedEffectCenter = sympy.Symbol(\"EstimatedEffectCenter\")  # estimate of TrueEffectCenter, observed but some issues how to calculate\n",
    "LocationValue_j = sympy.Symbol(\"LocationValue_j\")  # actual expected behavior of a given location, unobserved and the goal to estimate\n",
    "LocationDistFactor_j = Normal(\"LocationDistFactor_j\", mean=0, std=BetweenLocationsSD)  # how locations differ from each other, unobserved\n",
    "def_LocationValue_j = TrueEffectCenter + LocationDistFactor_j  #  generative definition of LocationDistFactor_j\n",
    "PerObservationSD = sympy.Symbol(\"PerObservationSD\", positive=True)  # sd of distribution generating observations per location, unobserved\n",
    "n_j = sympy.Symbol(\"n_j\", positive=True)  # number of observations at the j-th location, observed\n",
    "LocationMean_j = sympy.Symbol(\"LocationMean_j\", mean=LocationValue_j, std=PerObservationSD)  # mean of all observations at location j, observed\n",
    "LocationCenterNoise_ji = Normal(\"LocationCenterNoise_ji\", mean=0, std = PerObservationSD / sympy.sqrt(n_j))  # how mean observations at given location vary, unobserved\n",
    "def_LocationMean_j = LocationValue_j + LocationCenterNoise_ji  # generative definition of LocationCenterNoise_ji\n",
    "w = sympy.Symbol(\"w\", positive=True)  # our weighting term picking how to pool specific and general observations, to solve for\n",
    "estimate_j = sympy.Symbol(\"estimate_j\")  # our estimate of the behavior of the j-th location, to solve for\n",
    "def_estimate_j = w * LocationMean_j + (1-w) * EstimatedEffectCenter  # definition of our estimate\n",
    "expected_error_term = LocationValue_j - estimate_j  # error of our estimate, to minimize square of"
   ]
  },
  {
   "attachments": {},
   "cell_type": "markdown",
   "metadata": {},
   "source": [
    "Formula 12.1 from Gelman and Hill is as follows.\n",
    "\n",
    "<img src=\"IMG_1323.png\">\n",
    "\n",
    "This is a big equation with a \"pooling strength\" coefficient expanded into the expression. If we write the pooling coefficient as `w`, we can then re-write the above as the follosing."
   ]
  },
  {
   "cell_type": "code",
   "execution_count": 3,
   "metadata": {},
   "outputs": [
    {
     "data": {
      "text/latex": [
       "$\\displaystyle EstimatedEffectCenter \\left(1 - w\\right) + LocationMean_{j} w$"
      ],
      "text/plain": [
       "EstimatedEffectCenter*(1 - w) + LocationMean_j*w"
      ]
     },
     "execution_count": 3,
     "metadata": {},
     "output_type": "execute_result"
    }
   ],
   "source": [
    "def_estimate_j"
   ]
  },
  {
   "attachments": {},
   "cell_type": "markdown",
   "metadata": {},
   "source": [
    "That is: our estimate is `w` times using the observed per-location mean (`LocationMean_j`, the obvious estimate) plus `(1-w)` times the observed mean of all observations from all locations. Setting `w = 1` gives us the traditional \"use only observations from the chosen location\" solution. Setting `w = 0` gives us complete pooling, assuming there is not difference between locations. The trick is to find a `w` between `0` and `1` that might have lower expected square error. \n",
    "\n",
    "The 12.1 solution is a solution that picks `w` as the following."
   ]
  },
  {
   "cell_type": "code",
   "execution_count": 4,
   "metadata": {},
   "outputs": [
    {
     "data": {
      "text/latex": [
       "$\\displaystyle \\frac{1}{1 + \\frac{PerObservationSD^{2}}{BetweenLocationsSD^{2} n_{j}}}$"
      ],
      "text/plain": [
       "1/(1 + PerObservationSD**2/(BetweenLocationsSD**2*n_j))"
      ]
     },
     "execution_count": 4,
     "metadata": {},
     "output_type": "execute_result"
    }
   ],
   "source": [
    "neat_soln_approx = 1 / (1 + PerObservationSD**2 / (n_j * BetweenLocationsSD**2))\n",
    "\n",
    "neat_soln_approx"
   ]
  },
  {
   "attachments": {},
   "cell_type": "markdown",
   "metadata": {},
   "source": [
    "Some algebra shows this is the same as the Gelman and Hill citation (if we use the convention that `w = 1` when `n_j = 0`)."
   ]
  },
  {
   "cell_type": "code",
   "execution_count": 5,
   "metadata": {},
   "outputs": [
    {
     "data": {
      "text/latex": [
       "$\\displaystyle \\frac{n_{j}}{PerObservationSD^{2} \\left(\\frac{n_{j}}{PerObservationSD^{2}} + \\frac{1}{BetweenLocationsSD^{2}}\\right)}$"
      ],
      "text/plain": [
       "n_j/(PerObservationSD**2*(n_j/PerObservationSD**2 + BetweenLocationsSD**(-2)))"
      ]
     },
     "execution_count": 5,
     "metadata": {},
     "output_type": "execute_result"
    }
   ],
   "source": [
    "GH_soln =(n_j / PerObservationSD**2) / ( n_j / PerObservationSD**2 + 1 / BetweenLocationsSD**2)\n",
    "assert (neat_soln_approx - GH_soln).together() == 0\n",
    "\n",
    "GH_soln"
   ]
  },
  {
   "attachments": {},
   "cell_type": "markdown",
   "metadata": {},
   "source": [
    "This solution for `w` has some nice properties.\n",
    "\n",
    "  * `w` goes to `1` (the standard simple solution) as `PerObservationSD` goes to zero. This can be read as: \"there is no point in pooling of their is already little uncertainty in the obvious estimate.\n",
    "  * `w` goes to `1` (the standard simple solution) as `n_j` goes to infinity. This can be read as: \"there is no point in pooling if we already have a lot of data for the obvious estimate.\n",
    "  * `w` goes to `0` (using all data) as `n_j` goes to zero (using the convention `1/infinity = 0`). This can be read as: \"with no data for a new location, use the grand average.\"\n",
    "  * `w` goes to `0` (combining all the data) as `PerObservationSD` goes to infinity. This can be read as: \"combine all the data if the per-location uncertainty is very high.\"\n",
    "\n",
    "\n",
    "The goal is to then derive this solution. First we will derive a similar solution, and then the identical solution."
   ]
  },
  {
   "attachments": {},
   "cell_type": "markdown",
   "metadata": {},
   "source": [
    "\n",
    "## Reproducing the Gelman and Hill citation\n",
    "\n",
    "We can match the Gelman and Hill citation by, during the solving, replacing the visible `TrueEffectCenter` with our estimated `EstimatedEffectCenter` (ignoring an an assumed small difference between them).\n",
    "\n",
    "When we solve in that matter we get the Gelman and Hill cited `w` as follows."
   ]
  },
  {
   "cell_type": "code",
   "execution_count": 6,
   "metadata": {},
   "outputs": [],
   "source": [
    "error_term_approx = (\n",
    "    expected_error_term\n",
    "        .subs(estimate_j, def_estimate_j)  # definition of estimate_j\n",
    "        .subs(EstimatedEffectCenter, TrueEffectCenter)  # this step is an approximation, using the unobserved TrueEffectCenter as if it is the observed EstimatedEffectCenter\n",
    "        .subs(LocationMean_j, def_LocationMean_j)  # generative definition of LocationMean_j\n",
    "        .subs(LocationValue_j, def_LocationValue_j)   # generative definition of LocationValue_j\n",
    ").expand().simplify()\n"
   ]
  },
  {
   "attachments": {},
   "cell_type": "markdown",
   "metadata": {},
   "source": [
    "The simplifying substitution `MeanLocation` value for the `EstimatedEffectCenter` is an approximation, and is why the total number of observations is not present in this estimate. This substitution is ignoring the uncertainty in estimating the grand mean. \n",
    "\n",
    "There is in fact an issue in how to estimate `EstimatedEffectCenter` when different locations have very different numbers of observations. In this case an average where each observation contributes equally is sensitive to the between location variances, and an average where each location contributes equally is sensitive to per observation variances. What to put in for `EstimatedEffectCenter` is essentially the entire estimation problem started over again.\n",
    "\n",
    "Assuming we were happy with what we plugged in for `EstimatedEffectCenter` we can continue our calculation as follows.\n",
    "\n",
    "We claim this error term is equal to `A - B`, for the following `A`, `B`."
   ]
  },
  {
   "cell_type": "code",
   "execution_count": 7,
   "metadata": {},
   "outputs": [],
   "source": [
    "A = (1-w) * LocationDistFactor_j\n",
    "B = w * LocationCenterNoise_ji\n"
   ]
  },
  {
   "cell_type": "code",
   "execution_count": 8,
   "metadata": {},
   "outputs": [],
   "source": [
    "assert (error_term_approx - (A - B)).simplify() == 0\n",
    "assert E(A).expand() == 0\n",
    "assert E(B).expand() == 0"
   ]
  },
  {
   "attachments": {},
   "cell_type": "markdown",
   "metadata": {},
   "source": [
    "We can expand `E[(A - B)**2]` as `E[A**2] + E[B**2]` (using the independence of `A` and `B`, and their mean-zero properties)."
   ]
  },
  {
   "cell_type": "code",
   "execution_count": 9,
   "metadata": {},
   "outputs": [
    {
     "data": {
      "text/latex": [
       "$\\displaystyle \\frac{BetweenLocationsSD^{2} n_{j}}{BetweenLocationsSD^{2} n_{j} + PerObservationSD^{2}}$"
      ],
      "text/plain": [
       "BetweenLocationsSD**2*n_j/(BetweenLocationsSD**2*n_j + PerObservationSD**2)"
      ]
     },
     "execution_count": 9,
     "metadata": {},
     "output_type": "execute_result"
    }
   ],
   "source": [
    "soln_approx = sympy.solve(sympy.diff(E(A**2) + E(B**2), w), w)[0]\n",
    "\n",
    "soln_approx"
   ]
  },
  {
   "cell_type": "code",
   "execution_count": 10,
   "metadata": {},
   "outputs": [
    {
     "data": {
      "text/latex": [
       "$\\displaystyle \\frac{1}{1 + \\frac{PerObservationSD^{2}}{BetweenLocationsSD^{2} n_{j}}}$"
      ],
      "text/plain": [
       "1/(1 + PerObservationSD**2/(BetweenLocationsSD**2*n_j))"
      ]
     },
     "execution_count": 10,
     "metadata": {},
     "output_type": "execute_result"
    }
   ],
   "source": [
    "assert (soln_approx - neat_soln_approx).together().expand() == 0\n",
    "\n",
    "neat_soln_approx"
   ]
  },
  {
   "attachments": {},
   "cell_type": "markdown",
   "metadata": {},
   "source": [
    "And this, as promised matches the text book. I would suggest a slight preference for the exact solution over this one, thought the differences are small."
   ]
  },
  {
   "attachments": {},
   "cell_type": "markdown",
   "metadata": {},
   "source": [
    "## Working an Example\n",
    "\n",
    "Let's see the partial pooling inference in action. \n",
    "\n",
    "We will generate the data according to the above hierarchical design. We will then see how a pooled estimate, itself using estimate parameters, can in fact improve results."
   ]
  },
  {
   "cell_type": "code",
   "execution_count": 11,
   "metadata": {},
   "outputs": [],
   "source": [
    "rng = np.random.default_rng(2023)  # set state of pseudo random number generator"
   ]
  },
  {
   "cell_type": "code",
   "execution_count": 12,
   "metadata": {},
   "outputs": [],
   "source": [
    "# set parameters to specific values\n",
    "example_between_locations_sd = 3.0\n",
    "example_per_observations_sd = 10.0\n",
    "n_locations = 10\n",
    "n_obs_per_location = 3"
   ]
  },
  {
   "cell_type": "code",
   "execution_count": 13,
   "metadata": {},
   "outputs": [],
   "source": [
    "def generate_example_centers() -> pd.DataFrame:\n",
    "    \"\"\"generate the unobserved location centers\"\"\"\n",
    "    example_location_value_mean = rng.normal(loc=0, scale=15, size=1)\n",
    "    example_locations = pd.DataFrame({\n",
    "        \"location_id\": range(n_locations),\n",
    "        \"effect\": rng.normal(\n",
    "        loc=example_location_value_mean, \n",
    "        scale=example_between_locations_sd, \n",
    "        size=n_locations)\n",
    "    })\n",
    "    return example_locations"
   ]
  },
  {
   "cell_type": "code",
   "execution_count": 14,
   "metadata": {},
   "outputs": [],
   "source": [
    "example_locations = generate_example_centers()"
   ]
  },
  {
   "cell_type": "code",
   "execution_count": 15,
   "metadata": {},
   "outputs": [
    {
     "data": {
      "text/html": [
       "<div>\n",
       "<style scoped>\n",
       "    .dataframe tbody tr th:only-of-type {\n",
       "        vertical-align: middle;\n",
       "    }\n",
       "\n",
       "    .dataframe tbody tr th {\n",
       "        vertical-align: top;\n",
       "    }\n",
       "\n",
       "    .dataframe thead th {\n",
       "        text-align: right;\n",
       "    }\n",
       "</style>\n",
       "<table border=\"1\" class=\"dataframe\">\n",
       "  <thead>\n",
       "    <tr style=\"text-align: right;\">\n",
       "      <th></th>\n",
       "      <th>location_id</th>\n",
       "      <th>effect</th>\n",
       "    </tr>\n",
       "  </thead>\n",
       "  <tbody>\n",
       "    <tr>\n",
       "      <th>0</th>\n",
       "      <td>0</td>\n",
       "      <td>12.480676</td>\n",
       "    </tr>\n",
       "    <tr>\n",
       "      <th>1</th>\n",
       "      <td>1</td>\n",
       "      <td>4.947432</td>\n",
       "    </tr>\n",
       "    <tr>\n",
       "      <th>2</th>\n",
       "      <td>2</td>\n",
       "      <td>9.691985</td>\n",
       "    </tr>\n",
       "    <tr>\n",
       "      <th>3</th>\n",
       "      <td>3</td>\n",
       "      <td>6.698217</td>\n",
       "    </tr>\n",
       "    <tr>\n",
       "      <th>4</th>\n",
       "      <td>4</td>\n",
       "      <td>11.451937</td>\n",
       "    </tr>\n",
       "    <tr>\n",
       "      <th>5</th>\n",
       "      <td>5</td>\n",
       "      <td>8.429935</td>\n",
       "    </tr>\n",
       "    <tr>\n",
       "      <th>6</th>\n",
       "      <td>6</td>\n",
       "      <td>4.289738</td>\n",
       "    </tr>\n",
       "    <tr>\n",
       "      <th>7</th>\n",
       "      <td>7</td>\n",
       "      <td>7.137952</td>\n",
       "    </tr>\n",
       "    <tr>\n",
       "      <th>8</th>\n",
       "      <td>8</td>\n",
       "      <td>7.862549</td>\n",
       "    </tr>\n",
       "    <tr>\n",
       "      <th>9</th>\n",
       "      <td>9</td>\n",
       "      <td>9.176378</td>\n",
       "    </tr>\n",
       "  </tbody>\n",
       "</table>\n",
       "</div>"
      ],
      "text/plain": [
       "   location_id     effect\n",
       "0            0  12.480676\n",
       "1            1   4.947432\n",
       "2            2   9.691985\n",
       "3            3   6.698217\n",
       "4            4  11.451937\n",
       "5            5   8.429935\n",
       "6            6   4.289738\n",
       "7            7   7.137952\n",
       "8            8   7.862549\n",
       "9            9   9.176378"
      ]
     },
     "execution_count": 15,
     "metadata": {},
     "output_type": "execute_result"
    }
   ],
   "source": [
    "example_locations"
   ]
  },
  {
   "cell_type": "code",
   "execution_count": 16,
   "metadata": {},
   "outputs": [],
   "source": [
    "def generate_observations(example_locations: pd.DataFrame)-> pd.DataFrame:\n",
    "    \"\"\"\n",
    "    generate observed data\n",
    "\n",
    "    :param example_locations: the (unobserved) ground truth to generate from\n",
    "    :return: observed data\n",
    "    \"\"\"\n",
    "    assert isinstance(example_locations, pd.DataFrame)\n",
    "    observations = []\n",
    "    for j in range(example_locations.shape[0]):\n",
    "        obs_j = pd.DataFrame({\n",
    "            \"location_id\": j,\n",
    "            \"observation\": rng.normal(\n",
    "            loc=example_locations.effect[j], \n",
    "            scale=example_per_observations_sd, \n",
    "            size=n_obs_per_location),\n",
    "        })\n",
    "        observations.append(obs_j)\n",
    "    observations = pd.concat(observations, ignore_index=True)\n",
    "    return observations\n"
   ]
  },
  {
   "cell_type": "code",
   "execution_count": 17,
   "metadata": {},
   "outputs": [],
   "source": [
    "observations = generate_observations(example_locations)"
   ]
  },
  {
   "cell_type": "code",
   "execution_count": 18,
   "metadata": {},
   "outputs": [
    {
     "data": {
      "text/html": [
       "<div>\n",
       "<style scoped>\n",
       "    .dataframe tbody tr th:only-of-type {\n",
       "        vertical-align: middle;\n",
       "    }\n",
       "\n",
       "    .dataframe tbody tr th {\n",
       "        vertical-align: top;\n",
       "    }\n",
       "\n",
       "    .dataframe thead th {\n",
       "        text-align: right;\n",
       "    }\n",
       "</style>\n",
       "<table border=\"1\" class=\"dataframe\">\n",
       "  <thead>\n",
       "    <tr style=\"text-align: right;\">\n",
       "      <th></th>\n",
       "      <th>location_id</th>\n",
       "      <th>observation</th>\n",
       "    </tr>\n",
       "  </thead>\n",
       "  <tbody>\n",
       "    <tr>\n",
       "      <th>0</th>\n",
       "      <td>0</td>\n",
       "      <td>3.410240</td>\n",
       "    </tr>\n",
       "    <tr>\n",
       "      <th>1</th>\n",
       "      <td>0</td>\n",
       "      <td>13.802057</td>\n",
       "    </tr>\n",
       "    <tr>\n",
       "      <th>2</th>\n",
       "      <td>0</td>\n",
       "      <td>26.529701</td>\n",
       "    </tr>\n",
       "    <tr>\n",
       "      <th>3</th>\n",
       "      <td>1</td>\n",
       "      <td>8.988453</td>\n",
       "    </tr>\n",
       "    <tr>\n",
       "      <th>4</th>\n",
       "      <td>1</td>\n",
       "      <td>-5.426702</td>\n",
       "    </tr>\n",
       "    <tr>\n",
       "      <th>5</th>\n",
       "      <td>1</td>\n",
       "      <td>-2.470594</td>\n",
       "    </tr>\n",
       "    <tr>\n",
       "      <th>6</th>\n",
       "      <td>2</td>\n",
       "      <td>22.326980</td>\n",
       "    </tr>\n",
       "    <tr>\n",
       "      <th>7</th>\n",
       "      <td>2</td>\n",
       "      <td>2.798745</td>\n",
       "    </tr>\n",
       "    <tr>\n",
       "      <th>8</th>\n",
       "      <td>2</td>\n",
       "      <td>16.772133</td>\n",
       "    </tr>\n",
       "    <tr>\n",
       "      <th>9</th>\n",
       "      <td>3</td>\n",
       "      <td>6.347742</td>\n",
       "    </tr>\n",
       "    <tr>\n",
       "      <th>10</th>\n",
       "      <td>3</td>\n",
       "      <td>-1.679948</td>\n",
       "    </tr>\n",
       "    <tr>\n",
       "      <th>11</th>\n",
       "      <td>3</td>\n",
       "      <td>-0.626963</td>\n",
       "    </tr>\n",
       "    <tr>\n",
       "      <th>12</th>\n",
       "      <td>4</td>\n",
       "      <td>21.925762</td>\n",
       "    </tr>\n",
       "    <tr>\n",
       "      <th>13</th>\n",
       "      <td>4</td>\n",
       "      <td>-2.786075</td>\n",
       "    </tr>\n",
       "    <tr>\n",
       "      <th>14</th>\n",
       "      <td>4</td>\n",
       "      <td>24.992347</td>\n",
       "    </tr>\n",
       "    <tr>\n",
       "      <th>15</th>\n",
       "      <td>5</td>\n",
       "      <td>4.479009</td>\n",
       "    </tr>\n",
       "    <tr>\n",
       "      <th>16</th>\n",
       "      <td>5</td>\n",
       "      <td>-0.862222</td>\n",
       "    </tr>\n",
       "    <tr>\n",
       "      <th>17</th>\n",
       "      <td>5</td>\n",
       "      <td>12.870562</td>\n",
       "    </tr>\n",
       "    <tr>\n",
       "      <th>18</th>\n",
       "      <td>6</td>\n",
       "      <td>5.711914</td>\n",
       "    </tr>\n",
       "    <tr>\n",
       "      <th>19</th>\n",
       "      <td>6</td>\n",
       "      <td>17.977145</td>\n",
       "    </tr>\n",
       "    <tr>\n",
       "      <th>20</th>\n",
       "      <td>6</td>\n",
       "      <td>-0.697886</td>\n",
       "    </tr>\n",
       "    <tr>\n",
       "      <th>21</th>\n",
       "      <td>7</td>\n",
       "      <td>6.395265</td>\n",
       "    </tr>\n",
       "    <tr>\n",
       "      <th>22</th>\n",
       "      <td>7</td>\n",
       "      <td>16.531671</td>\n",
       "    </tr>\n",
       "    <tr>\n",
       "      <th>23</th>\n",
       "      <td>7</td>\n",
       "      <td>0.876524</td>\n",
       "    </tr>\n",
       "    <tr>\n",
       "      <th>24</th>\n",
       "      <td>8</td>\n",
       "      <td>-2.427039</td>\n",
       "    </tr>\n",
       "    <tr>\n",
       "      <th>25</th>\n",
       "      <td>8</td>\n",
       "      <td>-13.467843</td>\n",
       "    </tr>\n",
       "    <tr>\n",
       "      <th>26</th>\n",
       "      <td>8</td>\n",
       "      <td>16.906428</td>\n",
       "    </tr>\n",
       "    <tr>\n",
       "      <th>27</th>\n",
       "      <td>9</td>\n",
       "      <td>-11.667661</td>\n",
       "    </tr>\n",
       "    <tr>\n",
       "      <th>28</th>\n",
       "      <td>9</td>\n",
       "      <td>12.001735</td>\n",
       "    </tr>\n",
       "    <tr>\n",
       "      <th>29</th>\n",
       "      <td>9</td>\n",
       "      <td>5.930353</td>\n",
       "    </tr>\n",
       "  </tbody>\n",
       "</table>\n",
       "</div>"
      ],
      "text/plain": [
       "    location_id  observation\n",
       "0             0     3.410240\n",
       "1             0    13.802057\n",
       "2             0    26.529701\n",
       "3             1     8.988453\n",
       "4             1    -5.426702\n",
       "5             1    -2.470594\n",
       "6             2    22.326980\n",
       "7             2     2.798745\n",
       "8             2    16.772133\n",
       "9             3     6.347742\n",
       "10            3    -1.679948\n",
       "11            3    -0.626963\n",
       "12            4    21.925762\n",
       "13            4    -2.786075\n",
       "14            4    24.992347\n",
       "15            5     4.479009\n",
       "16            5    -0.862222\n",
       "17            5    12.870562\n",
       "18            6     5.711914\n",
       "19            6    17.977145\n",
       "20            6    -0.697886\n",
       "21            7     6.395265\n",
       "22            7    16.531671\n",
       "23            7     0.876524\n",
       "24            8    -2.427039\n",
       "25            8   -13.467843\n",
       "26            8    16.906428\n",
       "27            9   -11.667661\n",
       "28            9    12.001735\n",
       "29            9     5.930353"
      ]
     },
     "execution_count": 18,
     "metadata": {},
     "output_type": "execute_result"
    }
   ],
   "source": [
    "observations"
   ]
  },
  {
   "cell_type": "code",
   "execution_count": 19,
   "metadata": {},
   "outputs": [],
   "source": [
    "# define the standard estimator\n",
    "def standard_effect_estimate(observations: pd.DataFrame) -> pd.DataFrame:\n",
    "    \"\"\"\n",
    "    Get the standard estimate of the effect at locations from observations.\n",
    "\n",
    "    :param observations: the observations data frame\n",
    "    :return: standard estimate of effect or mean by location\n",
    "    \"\"\"\n",
    "    means = (\n",
    "        observations.loc[:, [\"location_id\", \"observation\"]]\n",
    "            .groupby([\"location_id\"])\n",
    "            .mean()\n",
    "            .reset_index(drop=False, inplace=False)\n",
    "    )\n",
    "    means.sort_values([\"location_id\"], inplace=True, ignore_index=True)\n",
    "    means.rename(columns={\"observation\": \"estimate\"}, inplace=True)\n",
    "    return means"
   ]
  },
  {
   "cell_type": "code",
   "execution_count": 20,
   "metadata": {},
   "outputs": [],
   "source": [
    "# estimate the quality of the standard estimator\n",
    "def get_sq_error_loss_std_estimate(*, location_id: int, example_locations: pd.DataFrame, observations: pd.DataFrame) -> float:\n",
    "    \"\"\"\n",
    "    Show the square-error of estimate of the effect at location location_id from observations\n",
    "\n",
    "    :parm location_id: which location to calculate for\n",
    "    :param example_locations: the (unobserved) ground truth to compare to\n",
    "    :param observations: the observations data frame\n",
    "    :return: estimated square error of this estimation procedure\n",
    "    \"\"\"\n",
    "    # get the standard estimates\n",
    "    observed_means = standard_effect_estimate(observations=observations)\n",
    "    # get the unobservable true effect for comparison\n",
    "    true_effect = example_locations.loc[example_locations[\"location_id\"] == location_id, \"effect\"].values[0]\n",
    "    # calculate the square error of these estimates\n",
    "    estimated_effect = observed_means.loc[observed_means[\"location_id\"] == location_id, \"estimate\"].values[0]\n",
    "    square_error = (estimated_effect - true_effect)**2\n",
    "    return square_error\n"
   ]
  },
  {
   "cell_type": "code",
   "execution_count": 21,
   "metadata": {},
   "outputs": [],
   "source": [
    "# define the pooled estimator\n",
    "def pooled_effect_estimate(observations: pd.DataFrame) -> pd.DataFrame:\n",
    "    \"\"\"\n",
    "    Get the pooled estimate of effect\n",
    "\n",
    "    :param observations: the observations data frame\n",
    "    :return: pooled estimates\n",
    "    \"\"\"\n",
    "    # get the standard estimates\n",
    "    estimated_centers = standard_effect_estimate(observations=observations)\n",
    "    if len(set(observations[\"location_id\"])) <= 1:\n",
    "        return estimated_centers\n",
    "    # get counts per group\n",
    "    obs_count_frame = (\n",
    "        pd.DataFrame({\"location_id\": observations[\"location_id\"], \"count\": 1})\n",
    "            .groupby([\"location_id\"])\n",
    "            .sum()\n",
    "            .reset_index(drop=False, inplace=False)\n",
    "            .sort_values([\"location_id\"], inplace=False, ignore_index=True)\n",
    "    )\n",
    "    n_j = obs_count_frame[\"count\"].values\n",
    "    # get the observed variance for each item at for each location\n",
    "    combined = (\n",
    "        observations\n",
    "            .merge(\n",
    "                estimated_centers,\n",
    "                on=[\"location_id\"],\n",
    "                how=\"left\",\n",
    "                )\n",
    "            .merge(\n",
    "                obs_count_frame,\n",
    "                on=[\"location_id\"],\n",
    "                how=\"left\",\n",
    "                )\n",
    "    )\n",
    "    per_location_observation_var = (\n",
    "        np.sum((combined[\"observation\"] - combined[\"estimate\"])**2) \n",
    "        / (combined.shape[0] - len(set(combined[\"location_id\"])))\n",
    "    )\n",
    "    # get the observed variance between locations\n",
    "    between_location_var = np.var(estimated_centers[\"estimate\"], ddof=1)\n",
    "    # get v, the pooling coefficient\n",
    "    if between_location_var <= 0:\n",
    "        v = 0\n",
    "    elif per_location_observation_var <= 0:\n",
    "        v = 1\n",
    "    else:\n",
    "        v = 1 / (1 + per_location_observation_var / (n_j * between_location_var))\n",
    "    # our estimate of the overall shared effect\n",
    "    # note we are using the mixing proportions suggested by the variance reduction ideas\n",
    "    # simpler weightings include:\n",
    "    #   combined[\"obs_weight\"] = 1   # weights all observations equally\n",
    "    #   combined[\"obs_weight\"] = 1 / combined[\"count\"]  # weights all locations equally\n",
    "    # below, weights larger observations groups more, but with a diminishing return\n",
    "    # this is an ad-hoc heuristic to try to reduce square error when the number of \n",
    "    # observations per location has a lot of variation\n",
    "    combined[\"obs_weight\"] = 1\n",
    "    if (between_location_var > 0) and (per_location_observation_var > 0):\n",
    "        combined[\"obs_weight\"] = 1 / (1 + per_location_observation_var / (combined[\"count\"] * between_location_var))\n",
    "    # this quantity can be improved using knowledge of the variances\n",
    "    grand_mean = np.sum(combined[\"observation\"] * combined[\"obs_weight\"]) / np.sum(combined[\"obs_weight\"])\n",
    "    # build the pooled estimate\n",
    "    pooled_estimate = v * estimated_centers[\"estimate\"] + (1 - v) * grand_mean\n",
    "    return pd.DataFrame({\n",
    "        \"location_id\": estimated_centers[\"location_id\"],\n",
    "        \"estimate\": pooled_estimate\n",
    "    })"
   ]
  },
  {
   "cell_type": "code",
   "execution_count": 22,
   "metadata": {},
   "outputs": [],
   "source": [
    "# evaluate the pooled estimator quality\n",
    "def get_sq_error_loss_pooled_estimate(*, location_id: int, example_locations: pd.DataFrame, observations: pd.DataFrame) -> float:\n",
    "    \"\"\"\n",
    "    Show the square error of partial pooled out estimates of the effect at location location_id from observations\n",
    "\n",
    "    :parm location_id: which location to calculate for\n",
    "    :param example_locations: the (unobserved) ground truth to compare to\n",
    "    :param observations: the observations data frame\n",
    "    :return: estimated square error of this estimation procedure\n",
    "    \"\"\"\n",
    "    # get the estimates\n",
    "    pooled_estimates = pooled_effect_estimate(observations=observations)\n",
    "    # get the unobservable true effect for comparison\n",
    "    true_effect = example_locations.loc[example_locations[\"location_id\"] == location_id, \"effect\"].values[0]\n",
    "    # calculate the square error of these estimates\n",
    "    estimated_effect = pooled_estimates.loc[pooled_estimates[\"location_id\"] == location_id, \"estimate\"].values[0]\n",
    "    square_error = (estimated_effect - true_effect)**2\n",
    "    return square_error"
   ]
  },
  {
   "attachments": {},
   "cell_type": "markdown",
   "metadata": {},
   "source": [
    "Now, let's try the estimators. In each case we the evaluation is returning square-error, so smaller is better."
   ]
  },
  {
   "cell_type": "code",
   "execution_count": 23,
   "metadata": {},
   "outputs": [
    {
     "data": {
      "text/plain": [
       "4.409957134811661"
      ]
     },
     "execution_count": 23,
     "metadata": {},
     "output_type": "execute_result"
    }
   ],
   "source": [
    "# run the experiment for the standard estimator\n",
    "std_est_loss = get_sq_error_loss_std_estimate(\n",
    "    location_id=0, \n",
    "    example_locations=example_locations, \n",
    "    observations=observations)\n",
    "\n",
    "std_est_loss"
   ]
  },
  {
   "cell_type": "code",
   "execution_count": 24,
   "metadata": {},
   "outputs": [
    {
     "data": {
      "text/plain": [
       "3.698066838111626"
      ]
     },
     "execution_count": 24,
     "metadata": {},
     "output_type": "execute_result"
    }
   ],
   "source": [
    "# run the experiment for the pooled estimator\n",
    "pooled_est_loss = get_sq_error_loss_pooled_estimate(\n",
    "    location_id=0, \n",
    "    example_locations=example_locations, \n",
    "    observations=observations)\n",
    "\n",
    "pooled_est_loss"
   ]
  },
  {
   "cell_type": "code",
   "execution_count": 25,
   "metadata": {},
   "outputs": [],
   "source": [
    "assert pooled_est_loss < std_est_loss"
   ]
  },
  {
   "attachments": {},
   "cell_type": "markdown",
   "metadata": {},
   "source": [
    "And we see, the pooled estimate has smaller expected square error loss that the standard estimate. That is: we have evidence the pooled estimate would be closer to new observations for a given location. Obviously we would want to further confirm by repeating the experiment more times.\n",
    "\n",
    "\n"
   ]
  },
  {
   "cell_type": "code",
   "execution_count": 26,
   "metadata": {},
   "outputs": [],
   "source": [
    "def run_experiment() -> pd.DataFrame:\n",
    "    example_locations = generate_example_centers()\n",
    "    observations = generate_observations(example_locations)\n",
    "    std_est_loss = get_sq_error_loss_std_estimate(\n",
    "        location_id=0, \n",
    "        example_locations=example_locations, \n",
    "        observations=observations)\n",
    "    pooled_est_loss = get_sq_error_loss_pooled_estimate(\n",
    "        location_id=0, \n",
    "        example_locations=example_locations, \n",
    "        observations=observations)\n",
    "    return pd.DataFrame({\n",
    "        \"std_loss\": [std_est_loss],\n",
    "        \"pooled_loss\": [pooled_est_loss,]\n",
    "    })"
   ]
  },
  {
   "cell_type": "code",
   "execution_count": 27,
   "metadata": {},
   "outputs": [],
   "source": [
    "experiments = pd.concat([run_experiment() for i in range(1000)], ignore_index=True)"
   ]
  },
  {
   "cell_type": "code",
   "execution_count": 28,
   "metadata": {},
   "outputs": [
    {
     "data": {
      "text/plain": [
       "std_loss       31.652005\n",
       "pooled_loss    14.987383\n",
       "dtype: float64"
      ]
     },
     "execution_count": 28,
     "metadata": {},
     "output_type": "execute_result"
    }
   ],
   "source": [
    "means = experiments.mean()\n",
    "means"
   ]
  },
  {
   "cell_type": "code",
   "execution_count": 29,
   "metadata": {},
   "outputs": [
    {
     "data": {
      "image/png": "[encoded data removed]",
      "text/plain": [
       "<Figure size 640x480 with 1 Axes>"
      ]
     },
     "metadata": {},
     "output_type": "display_data"
    }
   ],
   "source": [
    "# plot the experiments\n",
    "plt_frame = pd.concat([\n",
    "    pd.DataFrame({\"estimate\": \"standard\", \"loss\": experiments[\"std_loss\"]}),\n",
    "    pd.DataFrame({\"estimate\": \"pooled\", \"loss\": experiments[\"pooled_loss\"]}),\n",
    "], ignore_index=True)\n",
    "palette = [\"#d95f02\", \"#1b9e77\"]\n",
    "sns.kdeplot(\n",
    "    data=plt_frame,\n",
    "    x=\"loss\",\n",
    "    hue=\"estimate\",\n",
    "    hue_order=[\"standard\", \"pooled\"],\n",
    "    palette=palette,\n",
    "    fill=True,\n",
    ")\n",
    "plt.title(\"distribution of square error losses by estimation method (lower better)\\ndashed bars at means\")\n",
    "plt.xlim(0, np.quantile(plt_frame[\"loss\"], 0.95))\n",
    "plt.axvline(x=means[\"std_loss\"], color=palette[0], linestyle=\"dashed\")\n",
    "plt.axvline(x=means[\"pooled_loss\"], color=palette[1], linestyle=\"dashed\")\n",
    "plt.show()"
   ]
  },
  {
   "attachments": {},
   "cell_type": "markdown",
   "metadata": {},
   "source": [
    "The pooling doesn't so much make the errors tiny, instead it limits the frequency of large errors."
   ]
  },
  {
   "attachments": {},
   "cell_type": "markdown",
   "metadata": {},
   "source": [
    "The method has been seen to work, even with estimated variances (instead of using the unobserved true generating variances)."
   ]
  },
  {
   "attachments": {},
   "cell_type": "markdown",
   "metadata": {},
   "source": [
    "## An Alternative\n",
    "\n",
    "Another alternative is to re-write the mixing estimate as `w = X / n_j`, where `X` is an unknown constant. We can then estimate an effective `X` by cross-validation instead of using `X = PerObservationSD**2 / BetweenLocationsSD**2`. That is: we use the functional form from the above theory, and instead of estimating the variances instead pick `X` directly.\n",
    "\n",
    "Or, delegate the entire task to a hierarchical modeling tool."
   ]
  },
  {
   "attachments": {},
   "cell_type": "markdown",
   "metadata": {},
   "source": [
    "## Conclusion\n",
    "\n",
    "The partial pooling improvement for estimating an unseen value from noisy observations depends on a single parameter `PerObservationSD**2 / (n_j * BetweenLocationsSD**2)`. This parameter compares the uncertainty in the observations from a single location, to the uncertainty per-location, scaled by how many observations we have at the location in question. When this ratio is small, we don't pool data- we just estimate the average value using data from one location. When this ratio is large, pooling is likely a useful variance reducing procedure.\n",
    "\n",
    "Essentially the method is trading away variance (due to having very few samples) for bias (due to including samples that don't match the target location). If the different locations are sufficiently related, this can be an improving trade off in terms of expected square error.\n",
    "\n",
    "In practice the above inference is made inside a hierarchical model solver. However, it is good to see the expect form of the pooling strategy.\n",
    "\n",
    "Also, statistics remains relevant in the current age of AI. Often statistics has a characterization of what both what bad inference and optimal inference look like, no matter how they are implemented."
   ]
  }
 ],
 "metadata": {
  "kernelspec": {
   "display_name": "research_env",
   "language": "python",
   "name": "python3"
  },
  "language_info": {
   "codemirror_mode": {
    "name": "ipython",
    "version": 3
   },
   "file_extension": ".py",
   "mimetype": "text/x-python",
   "name": "python",
   "nbconvert_exporter": "python",
   "pygments_lexer": "ipython3",
   "version": "3.9.15"
  },
  "orig_nbformat": 4,
  "vscode": {
   "interpreter": {
    "hash": "1564fe6c621c255e1bf894f3aae80247d56f4153453d59260e9f5ebda34f6083"
   }
  }
 },
 "nbformat": 4,
 "nbformat_minor": 2
}
