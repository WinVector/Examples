{
 "cells": [
  {
   "attachments": {},
   "cell_type": "markdown",
   "metadata": {},
   "source": [
    "Example of partial pooling from equation 12.1 of Gelman, Hill, \"Data Analysis Using Regression and Multilevel/Hierarchical Models\", Cambridge 2007."
   ]
  },
  {
   "cell_type": "code",
   "execution_count": 1,
   "metadata": {},
   "outputs": [],
   "source": [
    "import sympy\n",
    "from sympy.stats import E, Normal"
   ]
  },
  {
   "cell_type": "code",
   "execution_count": 2,
   "metadata": {},
   "outputs": [],
   "source": [
    "\n",
    "PerObservationSD = sympy.Symbol(\"PerObservationSD\", positive=True)  # sd of distribution generating observations, unobserved\n",
    "BetweenGaragesSD = sympy.Symbol(\"BetweenGaragesSD\")  # how garages very from each other in expected behavior, unobserved\n",
    "n_j = sympy.Symbol(\"n_j\", positive=True)  # number of observations at the j-th garage, observed"
   ]
  },
  {
   "cell_type": "code",
   "execution_count": 3,
   "metadata": {},
   "outputs": [
    {
     "data": {
      "text/latex": [
       "$\\displaystyle \\frac{1}{1 + \\frac{PerObservationSD^{2}}{BetweenGaragesSD^{2} n_{j}}}$"
      ],
      "text/plain": [
       "1/(1 + PerObservationSD**2/(BetweenGaragesSD**2*n_j))"
      ]
     },
     "execution_count": 3,
     "metadata": {},
     "output_type": "execute_result"
    }
   ],
   "source": [
    "neat_soln_approx = 1 / (1 + PerObservationSD**2 / (n_j * BetweenGaragesSD**2))\n",
    "\n",
    "neat_soln_approx"
   ]
  },
  {
   "cell_type": "code",
   "execution_count": 4,
   "metadata": {},
   "outputs": [],
   "source": [
    "MeanGarageEffect = sympy.Symbol(\"MeanGarageEffect\")  # center of distribution generating garages, unobserved"
   ]
  },
  {
   "cell_type": "code",
   "execution_count": 5,
   "metadata": {},
   "outputs": [],
   "source": [
    "GarageEffect_j = sympy.Symbol(\"GarageEffect_j\")  # actual expected behavior of a given garage, unobserved and the goal to estimate\n",
    "GarageDistFactor_j = Normal(\"GarageDistFactor_j\", mean=0, std=BetweenGaragesSD)\n",
    "def_GarageEffect_j = MeanGarageEffect + GarageDistFactor_j"
   ]
  },
  {
   "cell_type": "code",
   "execution_count": 6,
   "metadata": {},
   "outputs": [],
   "source": [
    "\n",
    "GarageMean_j = sympy.Symbol(\"GarageMean_j\", mean=GarageEffect_j, std=PerObservationSD)  # mean of all observations at garage j, observed\n",
    "PerObservationNoise_ji = Normal(\"PerObservationNoise_ji\", mean=0, std = PerObservationSD / sympy.sqrt(n_j))\n",
    "def_GarageMean_j = GarageEffect_j + PerObservationNoise_ji\n"
   ]
  },
  {
   "cell_type": "code",
   "execution_count": 7,
   "metadata": {},
   "outputs": [],
   "source": [
    "n_obs = sympy.Symbol(\"n_j\", positive=True)  # total number of observations across all garages, observed.\n",
    "GrandMean = sympy.Symbol(\"GrandMean\")  # mean of all observations, observed\n",
    "ObservedMean = Normal(\"ObservedMean\", mean=MeanGarageEffect, std = BetweenGaragesSD / sympy.sqrt(n_obs))"
   ]
  },
  {
   "cell_type": "code",
   "execution_count": 8,
   "metadata": {},
   "outputs": [],
   "source": [
    "w = sympy.Symbol(\"w\", positive=True)  # our weighting term picking how to pool specific and general observations, to solve for"
   ]
  },
  {
   "cell_type": "code",
   "execution_count": 9,
   "metadata": {},
   "outputs": [],
   "source": [
    "estimate_j = sympy.Symbol(\"estimate_j\")  # our estimate of the behavior of the j-th garage, to solve for\n",
    "def_estimate_j = w * GarageMean_j + (1-w) * ObservedMean  # definition of our estimate"
   ]
  },
  {
   "cell_type": "code",
   "execution_count": 10,
   "metadata": {},
   "outputs": [],
   "source": [
    "expected_error_term = GarageEffect_j - estimate_j  # square error of our estimate, to minimize\n"
   ]
  },
  {
   "cell_type": "code",
   "execution_count": null,
   "metadata": {},
   "outputs": [],
   "source": []
  },
  {
   "cell_type": "code",
   "execution_count": 11,
   "metadata": {},
   "outputs": [],
   "source": [
    "error_term_exact = (\n",
    "    expected_error_term\n",
    "        .subs(estimate_j, def_estimate_j)  # definition of estimate_j\n",
    "        .subs(GarageMean_j, def_GarageMean_j)\n",
    "        .subs(GarageEffect_j, def_GarageEffect_j)\n",
    ").expand().simplify()\n"
   ]
  },
  {
   "cell_type": "code",
   "execution_count": 12,
   "metadata": {},
   "outputs": [],
   "source": [
    "A = (1-w) * GarageDistFactor_j\n",
    "B = w * PerObservationNoise_ji\n",
    "C = (1 - w) * (ObservedMean - MeanGarageEffect)"
   ]
  },
  {
   "cell_type": "code",
   "execution_count": 13,
   "metadata": {},
   "outputs": [],
   "source": [
    "assert (error_term_exact - (A - B - C)).expand() == 0"
   ]
  },
  {
   "cell_type": "code",
   "execution_count": 14,
   "metadata": {},
   "outputs": [],
   "source": [
    "assert (E(C*C) - (1 - w)**2 * BetweenGaragesSD**2 / n_j).expand() == 0"
   ]
  },
  {
   "cell_type": "code",
   "execution_count": 15,
   "metadata": {},
   "outputs": [
    {
     "data": {
      "text/latex": [
       "$\\displaystyle \\frac{BetweenGaragesSD^{2} \\left(n_{j} + 1\\right)}{BetweenGaragesSD^{2} n_{j} + BetweenGaragesSD^{2} + PerObservationSD^{2}}$"
      ],
      "text/plain": [
       "BetweenGaragesSD**2*(n_j + 1)/(BetweenGaragesSD**2*n_j + BetweenGaragesSD**2 + PerObservationSD**2)"
      ]
     },
     "execution_count": 15,
     "metadata": {},
     "output_type": "execute_result"
    }
   ],
   "source": [
    "soln_exact = sympy.solve(sympy.diff((E(A * A) + E(B * B) + E(C * C)).expand(), w), w)[0]\n",
    "\n",
    "soln_exact"
   ]
  },
  {
   "cell_type": "code",
   "execution_count": 16,
   "metadata": {},
   "outputs": [
    {
     "data": {
      "text/latex": [
       "$\\displaystyle \\frac{1}{1 + \\frac{PerObservationSD^{2}}{BetweenGaragesSD^{2} \\left(n_{j} + 1\\right)}}$"
      ],
      "text/plain": [
       "1/(1 + PerObservationSD**2/(BetweenGaragesSD**2*(n_j + 1)))"
      ]
     },
     "execution_count": 16,
     "metadata": {},
     "output_type": "execute_result"
    }
   ],
   "source": [
    "neat_soln_exact = 1 / (1 + PerObservationSD**2 / ((n_j + 1) * BetweenGaragesSD**2))\n",
    "\n",
    "neat_soln_exact"
   ]
  },
  {
   "cell_type": "code",
   "execution_count": 17,
   "metadata": {},
   "outputs": [],
   "source": [
    "assert (soln_exact - neat_soln_exact).together().expand() == 0"
   ]
  },
  {
   "cell_type": "code",
   "execution_count": null,
   "metadata": {},
   "outputs": [],
   "source": []
  },
  {
   "cell_type": "code",
   "execution_count": 18,
   "metadata": {},
   "outputs": [],
   "source": [
    "error_term_approx = (\n",
    "    expected_error_term\n",
    "        .subs(estimate_j, def_estimate_j)  # definition of estimate_j\n",
    "        .subs(ObservedMean, MeanGarageEffect)  # this step is an approximation, using the unobserved MeanGarageEffect as if it is the observed ObservedMean\n",
    "        .subs(GarageMean_j, def_GarageMean_j)\n",
    "        .subs(GarageEffect_j, def_GarageEffect_j)\n",
    ").expand().simplify()\n"
   ]
  },
  {
   "cell_type": "code",
   "execution_count": 19,
   "metadata": {},
   "outputs": [],
   "source": [
    "A = (1-w) * GarageDistFactor_j\n",
    "B = w * PerObservationNoise_ji\n"
   ]
  },
  {
   "cell_type": "code",
   "execution_count": 20,
   "metadata": {},
   "outputs": [],
   "source": [
    "assert (error_term_approx - (A - B)).simplify() == 0"
   ]
  },
  {
   "cell_type": "code",
   "execution_count": 21,
   "metadata": {},
   "outputs": [
    {
     "data": {
      "text/latex": [
       "$\\displaystyle \\frac{BetweenGaragesSD^{2} n_{j}}{BetweenGaragesSD^{2} n_{j} + PerObservationSD^{2}}$"
      ],
      "text/plain": [
       "BetweenGaragesSD**2*n_j/(BetweenGaragesSD**2*n_j + PerObservationSD**2)"
      ]
     },
     "execution_count": 21,
     "metadata": {},
     "output_type": "execute_result"
    }
   ],
   "source": [
    "soln_approx = sympy.solve(sympy.diff(E(A**2) + E(B**2), w), w)[0]\n",
    "\n",
    "soln_approx"
   ]
  },
  {
   "cell_type": "code",
   "execution_count": 22,
   "metadata": {},
   "outputs": [
    {
     "data": {
      "text/latex": [
       "$\\displaystyle \\frac{1}{1 + \\frac{PerObservationSD^{2}}{BetweenGaragesSD^{2} n_{j}}}$"
      ],
      "text/plain": [
       "1/(1 + PerObservationSD**2/(BetweenGaragesSD**2*n_j))"
      ]
     },
     "execution_count": 22,
     "metadata": {},
     "output_type": "execute_result"
    }
   ],
   "source": [
    "neat_soln_approx"
   ]
  },
  {
   "cell_type": "code",
   "execution_count": 23,
   "metadata": {},
   "outputs": [],
   "source": [
    "assert (soln_approx - neat_soln_approx).together().expand() == 0"
   ]
  },
  {
   "cell_type": "code",
   "execution_count": null,
   "metadata": {},
   "outputs": [],
   "source": []
  }
 ],
 "metadata": {
  "kernelspec": {
   "display_name": "research_env",
   "language": "python",
   "name": "python3"
  },
  "language_info": {
   "codemirror_mode": {
    "name": "ipython",
    "version": 3
   },
   "file_extension": ".py",
   "mimetype": "text/x-python",
   "name": "python",
   "nbconvert_exporter": "python",
   "pygments_lexer": "ipython3",
   "version": "3.9.15"
  },
  "orig_nbformat": 4
 },
 "nbformat": 4,
 "nbformat_minor": 2
}
