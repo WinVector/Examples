{
 "cells": [
  {
   "attachments": {},
   "cell_type": "markdown",
   "metadata": {},
   "source": [
    "# Partial Pooling\n",
    "\n",
    "<br/>[John Mount](https://win-vector.com/john-mount/)\n",
    "<br/>[Win Vector LLC](https://win-vector.com) ([blog](https://win-vector.com/blog-2/))\n",
    "<br/>4-2-2023\n",
    "\n",
    "\n",
    "Much of data science is merely taking averages to estimate expected values. \n",
    "\n",
    "One can ask: are there better estimates for expected values than the obvious average of observations? One might think, in particular given the [Gauss Markov theorem](https://en.wikipedia.org/wiki/Gauss–Markov_theorem), the answer would have to be \"no.\" Oddly enough, the answer is in fact \"yes.\" One method to do this is called *partial pooling*, and we will describe this method here. There are even other methods, such as [James–Stein estimator](https://en.wikipedia.org/wiki/James–Stein_estimator) (which we do not go into here).\n",
    "\n",
    "This note works an example of partial pooling from equation 12.1 of Gelman, Hill, \"Data Analysis Using Regression and Multilevel/Hierarchical Models\", Cambridge 2007. This is a bit of a magic trick, but we will show how it is done. I am not claiming this will revolutionize your data science projects, but it can be an improvement when you don't have a lot of data.\n",
    "\n",
    "## Introduction\n",
    "\n",
    "The topic of formula 12.1 is: how to partially pool data by hand, though this task is often handled by a hierarchical model solver. \n",
    "\n",
    "Take as our example problem: we want to estimate the ideal expected value of observed values from various locations. The optimal linear un-biased estimator is to just take the average of the observed values at each location, and hope this is close to the ideal unobserved generating process.\n",
    "\n",
    "[Dr. Nina Zumel](https://win-vector.com/author/nzumel/) has two excellent articles on exactly this problem:\n",
    "\n",
    "  * [Custom Level Coding in vtreat](https://win-vector.com/2017/09/25/custom-level-coding-in-vtreat/)\n",
    "  * [Partial Pooling for Lower Variance Variable Encoding](https://win-vector.com/2017/09/28/partial-pooling-for-lower-variance-variable-encoding/)\n",
    "\n",
    "These show how to use the right tools to perform and use the partial pooling analysis, largely in context of the `vtreat` data preparation system ([R version](https://CRAN.R-project.org/package=vtreat), [Python version](https://pypi.org/project/vtreat/)).\n",
    "\n",
    "For this note, let's work on a formula and a synthetic example directly.\n",
    "\n",
    "We will use `Python` and the `sympy` symbolic math package to work our examples. This is part of may \"data for engineers\" teaching effort, where we share code so people can try the methods. First we import our packages."
   ]
  },
  {
   "cell_type": "code",
   "execution_count": 1,
   "metadata": {},
   "outputs": [],
   "source": [
    "# import packages\n",
    "import sympy\n",
    "from sympy.stats import E, Normal\n",
    "import numpy as np\n",
    "import pandas as pd\n",
    "import seaborn as sns\n",
    "import matplotlib.pyplot as plt"
   ]
  },
  {
   "attachments": {},
   "cell_type": "markdown",
   "metadata": {},
   "source": [
    "Our problem set-up is:\n",
    "\n",
    "  * Each location `j` has an unobserved expected value of examples drawn from this location, call this `LocationValue_j`.\n",
    "  * The locations are related, in that the `LocationValue_j`s are all drawn from some common distribution. This is why we think pooling data could be useful, each location has a different value (but is telling us things about their common distribution).\n",
    "  * Our observations are numbers drawn from a normal distribution around `LocationValue_j`. From these we hope to estimate `LocationValue_j`. The job is to try and remove the observation noise.\n",
    "  * For a given location, we suspect that some combination of the observations from the location, *plus* observations from other locations may be a lower expected error estimate than can be found using only observations from the location. This is try to trade away some variance (the bane of small data situations) in place of accepting some bias in our procedures.\n",
    "\n",
    "To execute this idea we need to define a great number of variables and their relations as follows."
   ]
  },
  {
   "cell_type": "code",
   "execution_count": 2,
   "metadata": {},
   "outputs": [],
   "source": [
    "# define initial variables\n",
    "TrueEffectCenter = sympy.Symbol(\"TrueEffectCenter\")  # center of distribution generating locations, unobserved\n",
    "BetweenLocationsSD = sympy.Symbol(\"BetweenLocationsSD\")  # how individual locations very from each other in expected behavior, unobserved\n",
    "EstimatedEffectCenter = sympy.Symbol(\"EstimatedEffectCenter\")  # estimate of TrueEffectCenter, observed but some issues how to calculate\n",
    "LocationValue_j = sympy.Symbol(\"LocationValue_j\")  # actual expected behavior of a given location, unobserved and the goal to estimate\n",
    "LocationDistFactor_j = Normal(\"LocationDistFactor_j\", mean=0, std=BetweenLocationsSD)  # how locations differ from each other, unobserved\n",
    "def_LocationValue_j = TrueEffectCenter + LocationDistFactor_j  #  generative definition of LocationDistFactor_j\n",
    "PerObservationSD = sympy.Symbol(\"PerObservationSD\", positive=True)  # sd of distribution generating observations per location, unobserved\n",
    "n_j = sympy.Symbol(\"n_j\", positive=True)  # number of observations at the j-th location, observed\n",
    "LocationMean_j = sympy.Symbol(\"LocationMean_j\", mean=LocationValue_j, std=PerObservationSD)  # mean of all observations at location j, observed\n",
    "LocationCenterNoise_ji = Normal(\"LocationCenterNoise_ji\", mean=0, std = PerObservationSD / sympy.sqrt(n_j))  # distribution of average seen at location j, unobserved\n",
    "def_LocationMean_j = LocationValue_j + LocationCenterNoise_ji  # generative definition of LocationCenterNoise_ji\n",
    "w = sympy.Symbol(\"w\", positive=True)  # our weighting term picking how to pool specific and general observations, to solve for\n",
    "estimate_j = sympy.Symbol(\"estimate_j\")  # our estimate of the behavior of the j-th location, to solve for\n"
   ]
  },
  {
   "attachments": {},
   "cell_type": "markdown",
   "metadata": {},
   "source": [
    "These are a lot of terms, but most of them are merely placeholders for our calculations. The trickiest term is `LocationCenterNoise_ji` which is correct for independent observations. `LocationCenterNoise_ji` is founded on the fact that variance is additive for independent observations. The `Normal()` could be relaxed a bit, but it appears we must specify some specific distribution to use `sympy`'s expectation operators `E()`. If we can't use `E()` we could simulate it with more guided substitution steps. Throughout this analysis we are assuming our random variables are independent.\n",
    "\n",
    "Our goal is to pick a `estimate_j` to minimize the expected square of the following expression."
   ]
  },
  {
   "cell_type": "code",
   "execution_count": 3,
   "metadata": {},
   "outputs": [
    {
     "data": {
      "text/latex": [
       "$\\displaystyle LocationValue_{j} - estimate_{j}$"
      ],
      "text/plain": [
       "LocationValue_j - estimate_j"
      ]
     },
     "execution_count": 3,
     "metadata": {},
     "output_type": "execute_result"
    }
   ],
   "source": [
    "expected_error_term = LocationValue_j - estimate_j  # error of our estimate, to minimize square of\n",
    "\n",
    "expected_error_term"
   ]
  },
  {
   "attachments": {},
   "cell_type": "markdown",
   "metadata": {},
   "source": [
    "Our plan is to re-factor this expression into independent expectation zero terms `A`, `B` and then use the fact that for such terms `E[(A - B_**2)] = E[A**2] + E[B**2]`. The goal is to derive relation 12.1 from Gelman and Hill:"
   ]
  },
  {
   "attachments": {},
   "cell_type": "markdown",
   "metadata": {},
   "source": [
    "\n",
    "\n",
    "<img src=\"IMG_1323.png\">\n",
    "\n",
    "This is a big equation with a \"pooling strength\" coefficient expanded into the expression. If we write the pooling coefficient as `w`, we can then re-write the above as the following."
   ]
  },
  {
   "cell_type": "code",
   "execution_count": 4,
   "metadata": {},
   "outputs": [
    {
     "data": {
      "text/latex": [
       "$\\displaystyle EstimatedEffectCenter \\left(1 - w\\right) + LocationMean_{j} w$"
      ],
      "text/plain": [
       "EstimatedEffectCenter*(1 - w) + LocationMean_j*w"
      ]
     },
     "execution_count": 4,
     "metadata": {},
     "output_type": "execute_result"
    }
   ],
   "source": [
    "def_estimate_j = w * LocationMean_j + (1-w) * EstimatedEffectCenter  # definition of our estimate\n",
    "\n",
    "def_estimate_j"
   ]
  },
  {
   "attachments": {},
   "cell_type": "markdown",
   "metadata": {},
   "source": [
    "That is: our estimate is `w` times using the observed per-location mean (`LocationMean_j`, the obvious estimate) plus `(1-w)` times average expected behavior over all locations. Setting `w = 1` gives us the traditional \"use only observations from the chosen location\" solution. Setting `w = 0` gives us complete pooling, assuming there is no difference between locations. The trick is to find a `w` between `0` and `1` that might have lower expected square error. \n",
    "\n",
    "The 12.1 estimate is a solution that picks `w` as the following."
   ]
  },
  {
   "cell_type": "code",
   "execution_count": 5,
   "metadata": {},
   "outputs": [
    {
     "data": {
      "text/latex": [
       "$\\displaystyle \\frac{1}{1 + \\frac{PerObservationSD^{2}}{BetweenLocationsSD^{2} n_{j}}}$"
      ],
      "text/plain": [
       "1/(1 + PerObservationSD**2/(BetweenLocationsSD**2*n_j))"
      ]
     },
     "execution_count": 5,
     "metadata": {},
     "output_type": "execute_result"
    }
   ],
   "source": [
    "neat_soln_approx = 1 / (1 + PerObservationSD**2 / (n_j * BetweenLocationsSD**2))\n",
    "\n",
    "neat_soln_approx"
   ]
  },
  {
   "attachments": {},
   "cell_type": "markdown",
   "metadata": {},
   "source": [
    "Some algebra shows this is the same as the Gelman and Hill citation (if we adopt the convention that `w = 0` when `n_j = 0`). We confirm that as follows."
   ]
  },
  {
   "cell_type": "code",
   "execution_count": 6,
   "metadata": {},
   "outputs": [],
   "source": [
    "GH_soln =(n_j / PerObservationSD**2) / ( n_j / PerObservationSD**2 + 1 / BetweenLocationsSD**2)\n",
    "assert (neat_soln_approx - GH_soln).together() == 0"
   ]
  },
  {
   "attachments": {},
   "cell_type": "markdown",
   "metadata": {},
   "source": [
    "This solution for `w` has some nice properties.\n",
    "\n",
    "  * `w` goes to `1` (the standard simple solution) as `PerObservationSD` goes to zero. This can be read as: \"there is no point in pooling of their is already little uncertainty in the obvious estimate.\n",
    "  * `w` goes to `1` (the standard simple solution) as `n_j` goes to infinity. This can be read as: \"there is no point in pooling if we already have a lot of data for the obvious estimate.\"\n",
    "  * `w` goes to `0` (combining all the data) as `n_j` goes to zero (using the convention `1/infinity = 0`). This can be read as: \"with no data for a new location, use the grand average.\"\n",
    "  * `w` goes to `0` (combining all the data) as `PerObservationSD` goes to infinity. This can be read as: \"combine all the data if the per-location uncertainty is very high.\"\n",
    "\n",
    "\n",
    "Our goal is to derive this solution."
   ]
  },
  {
   "attachments": {},
   "cell_type": "markdown",
   "metadata": {},
   "source": [
    "\n",
    "## Reproducing the Gelman and Hill citation\n",
    "\n",
    "We can match the Gelman and Hill citation by, during the solving, replacing the visible `TrueEffectCenter` with our estimated `EstimatedEffectCenter` (ignoring an an assumed small difference between them).\n",
    "\n",
    "When we solve in that manner we get the Gelman and Hill cited `w` as follows. Let's work on that error term, that we want to minimize the expected square of, for a bit."
   ]
  },
  {
   "cell_type": "code",
   "execution_count": 7,
   "metadata": {},
   "outputs": [
    {
     "data": {
      "text/latex": [
       "$\\displaystyle - w LocationCenterNoise_{ji} - w LocationDistFactor_{j} + LocationDistFactor_{j}$"
      ],
      "text/plain": [
       "-w*LocationCenterNoise_ji - w*LocationDistFactor_j + LocationDistFactor_j"
      ]
     },
     "execution_count": 7,
     "metadata": {},
     "output_type": "execute_result"
    }
   ],
   "source": [
    "error_term_approx = (\n",
    "    expected_error_term\n",
    "        .subs(estimate_j, def_estimate_j)  # definition of estimate_j\n",
    "        .subs(EstimatedEffectCenter, TrueEffectCenter)  # this step is an approximation, using the unobserved TrueEffectCenter as if it is the observed EstimatedEffectCenter\n",
    "        .subs(LocationMean_j, def_LocationMean_j)  # generative definition of LocationMean_j\n",
    "        .subs(LocationValue_j, def_LocationValue_j)   # generative definition of LocationValue_j\n",
    ").expand().simplify()\n",
    "\n",
    "error_term_approx"
   ]
  },
  {
   "attachments": {},
   "cell_type": "markdown",
   "metadata": {},
   "source": [
    "The simplifying substitution `MeanLocation` value for the `EstimatedEffectCenter` is an approximation, and is why the total number of observations is not present in this estimate. This substitution is ignoring the uncertainty in estimating the grand mean, which we assume is slightly easier than our overall task of estimating the conditional means. Or a different view would be: if we felt we knew `MeanLocation` this is how we would perform the estimate. For example in re-encoding variables (such as in `vtreat`) we know the overall `MeanLocation` is in fact zero by the structure of the application set-up.\n",
    "\n",
    "There is in fact an issue in how to estimate `EstimatedEffectCenter` when different locations have very different numbers of observations. In this case an average where each observation contributes equally is sensitive to the between location variances, and an average where each location contributes equally is sensitive to per observation variances. What to put in for `EstimatedEffectCenter` is essentially the entire estimation problem started over again, so picking the data weighting cleverly probably is of some benefit.\n",
    "\n",
    "Assuming we were happy with what we plugged in for `EstimatedEffectCenter` we can continue our calculation as follows.\n",
    "\n",
    "We claim this error term is equal to `A - B`, for the following `A`, `B`."
   ]
  },
  {
   "cell_type": "code",
   "execution_count": 8,
   "metadata": {},
   "outputs": [],
   "source": [
    "A = (1-w) * LocationDistFactor_j\n",
    "B = w * LocationCenterNoise_ji"
   ]
  },
  {
   "attachments": {},
   "cell_type": "markdown",
   "metadata": {},
   "source": [
    "And we can confirm this claim as follows."
   ]
  },
  {
   "cell_type": "code",
   "execution_count": 9,
   "metadata": {},
   "outputs": [],
   "source": [
    "assert (error_term_approx - (A - B)).simplify() == 0\n",
    "assert E(A).expand() == 0\n",
    "assert E(B).expand() == 0"
   ]
  },
  {
   "attachments": {},
   "cell_type": "markdown",
   "metadata": {},
   "source": [
    "We can expand the expected square error `E[(A - B)**2]` as `E[A**2] + E[B**2]` (using the independence of `A` and `B`, and that they are both expected value zero).\n",
    "\n",
    "We expect the minimum to occur at either the bounds of our allowed values for `w` (`0` and `1`) or at a place where the derivative of our expected square error term with respect to `w` is zero. That solution is found as follows."
   ]
  },
  {
   "cell_type": "code",
   "execution_count": 10,
   "metadata": {},
   "outputs": [
    {
     "data": {
      "text/latex": [
       "$\\displaystyle \\frac{BetweenLocationsSD^{2} n_{j}}{BetweenLocationsSD^{2} n_{j} + PerObservationSD^{2}}$"
      ],
      "text/plain": [
       "BetweenLocationsSD**2*n_j/(BetweenLocationsSD**2*n_j + PerObservationSD**2)"
      ]
     },
     "execution_count": 10,
     "metadata": {},
     "output_type": "execute_result"
    }
   ],
   "source": [
    "soln_approx = sympy.solve(sympy.diff(E(A**2) + E(B**2), w), w)[0]\n",
    "\n",
    "soln_approx"
   ]
  },
  {
   "attachments": {},
   "cell_type": "markdown",
   "metadata": {},
   "source": [
    "And we confirm this is (for non-zero quantities) equivalent to the earlier claimed solution."
   ]
  },
  {
   "cell_type": "code",
   "execution_count": 11,
   "metadata": {},
   "outputs": [],
   "source": [
    "assert (soln_approx - neat_soln_approx).together().expand() == 0"
   ]
  },
  {
   "attachments": {},
   "cell_type": "markdown",
   "metadata": {},
   "source": [
    "And this, as promised, matches the text book. \n",
    "\n",
    "I am experimenting more and more with using `sympy` in place of hand-worked algebra in these sort of write-ups. My hope is that it allows me to spend more time on intent, and less time explaining steps (which often introduced yet more steps)."
   ]
  },
  {
   "attachments": {},
   "cell_type": "markdown",
   "metadata": {},
   "source": [
    "## Working an Example\n",
    "\n",
    "Let's see the partial pooling inference in action. \n",
    "\n",
    "We will generate the synthetic example data according to the above hierarchical design. We will then see how a pooled estimate, itself using estimate parameters, can in fact improve estimation results. The advantage of synthetic data include: we can see how close the estimates come to the correct answers, and we can generate a favorable situation for demonstration.\n",
    "\n",
    "We generate the not directly observable portion of our example as follows."
   ]
  },
  {
   "cell_type": "code",
   "execution_count": 12,
   "metadata": {},
   "outputs": [],
   "source": [
    "# set state of pseudo random number generator for repeatability\n",
    "rng = np.random.default_rng(2023)  "
   ]
  },
  {
   "cell_type": "code",
   "execution_count": 13,
   "metadata": {},
   "outputs": [],
   "source": [
    "# set parameters to specific values\n",
    "example_between_locations_sd = 3.0\n",
    "example_per_observations_sd = 10.0\n",
    "n_locations = 10\n",
    "n_obs_per_location = list(range(1, 5))"
   ]
  },
  {
   "cell_type": "code",
   "execution_count": 14,
   "metadata": {},
   "outputs": [],
   "source": [
    "def generate_example_centers() -> pd.DataFrame:\n",
    "    \"\"\"generate the unobserved location values\"\"\"\n",
    "    example_location_value_mean = rng.normal(loc=0, scale=15, size=1)\n",
    "    example_locations = pd.DataFrame({\n",
    "        \"location_id\": range(n_locations),\n",
    "        \"effect\": rng.normal(\n",
    "        loc=example_location_value_mean, \n",
    "        scale=example_between_locations_sd, \n",
    "        size=n_locations)\n",
    "    })\n",
    "    return example_locations"
   ]
  },
  {
   "cell_type": "code",
   "execution_count": 15,
   "metadata": {},
   "outputs": [],
   "source": [
    "example_locations = generate_example_centers()"
   ]
  },
  {
   "cell_type": "code",
   "execution_count": 16,
   "metadata": {},
   "outputs": [
    {
     "data": {
      "text/html": [
       "<div>\n",
       "<style scoped>\n",
       "    .dataframe tbody tr th:only-of-type {\n",
       "        vertical-align: middle;\n",
       "    }\n",
       "\n",
       "    .dataframe tbody tr th {\n",
       "        vertical-align: top;\n",
       "    }\n",
       "\n",
       "    .dataframe thead th {\n",
       "        text-align: right;\n",
       "    }\n",
       "</style>\n",
       "<table border=\"1\" class=\"dataframe\">\n",
       "  <thead>\n",
       "    <tr style=\"text-align: right;\">\n",
       "      <th></th>\n",
       "      <th>location_id</th>\n",
       "      <th>effect</th>\n",
       "    </tr>\n",
       "  </thead>\n",
       "  <tbody>\n",
       "    <tr>\n",
       "      <th>0</th>\n",
       "      <td>0</td>\n",
       "      <td>12.480676</td>\n",
       "    </tr>\n",
       "    <tr>\n",
       "      <th>1</th>\n",
       "      <td>1</td>\n",
       "      <td>4.947432</td>\n",
       "    </tr>\n",
       "    <tr>\n",
       "      <th>2</th>\n",
       "      <td>2</td>\n",
       "      <td>9.691985</td>\n",
       "    </tr>\n",
       "    <tr>\n",
       "      <th>3</th>\n",
       "      <td>3</td>\n",
       "      <td>6.698217</td>\n",
       "    </tr>\n",
       "    <tr>\n",
       "      <th>4</th>\n",
       "      <td>4</td>\n",
       "      <td>11.451937</td>\n",
       "    </tr>\n",
       "    <tr>\n",
       "      <th>5</th>\n",
       "      <td>5</td>\n",
       "      <td>8.429935</td>\n",
       "    </tr>\n",
       "    <tr>\n",
       "      <th>6</th>\n",
       "      <td>6</td>\n",
       "      <td>4.289738</td>\n",
       "    </tr>\n",
       "    <tr>\n",
       "      <th>7</th>\n",
       "      <td>7</td>\n",
       "      <td>7.137952</td>\n",
       "    </tr>\n",
       "    <tr>\n",
       "      <th>8</th>\n",
       "      <td>8</td>\n",
       "      <td>7.862549</td>\n",
       "    </tr>\n",
       "    <tr>\n",
       "      <th>9</th>\n",
       "      <td>9</td>\n",
       "      <td>9.176378</td>\n",
       "    </tr>\n",
       "  </tbody>\n",
       "</table>\n",
       "</div>"
      ],
      "text/plain": [
       "   location_id     effect\n",
       "0            0  12.480676\n",
       "1            1   4.947432\n",
       "2            2   9.691985\n",
       "3            3   6.698217\n",
       "4            4  11.451937\n",
       "5            5   8.429935\n",
       "6            6   4.289738\n",
       "7            7   7.137952\n",
       "8            8   7.862549\n",
       "9            9   9.176378"
      ]
     },
     "execution_count": 16,
     "metadata": {},
     "output_type": "execute_result"
    }
   ],
   "source": [
    "example_locations"
   ]
  },
  {
   "attachments": {},
   "cell_type": "markdown",
   "metadata": {},
   "source": [
    "And we can then generate observations as follows."
   ]
  },
  {
   "cell_type": "code",
   "execution_count": 17,
   "metadata": {},
   "outputs": [],
   "source": [
    "def generate_observations(example_locations: pd.DataFrame)-> pd.DataFrame:\n",
    "    \"\"\"\n",
    "    generate observed data\n",
    "\n",
    "    :param example_locations: the (unobserved) ground truth to generate from\n",
    "    :return: observed data\n",
    "    \"\"\"\n",
    "    assert isinstance(example_locations, pd.DataFrame)\n",
    "    observations = []\n",
    "    for j in range(example_locations.shape[0]):\n",
    "        obs_j = pd.DataFrame({\n",
    "            \"location_id\": j,\n",
    "            \"observation\": rng.normal(\n",
    "            loc=example_locations.effect[j], \n",
    "            scale=example_per_observations_sd, \n",
    "            size=rng.choice(n_obs_per_location, size=1)[0],\n",
    "            ),\n",
    "        })\n",
    "        observations.append(obs_j)\n",
    "    observations = pd.concat(observations, ignore_index=True)\n",
    "    return observations\n"
   ]
  },
  {
   "cell_type": "code",
   "execution_count": 18,
   "metadata": {},
   "outputs": [],
   "source": [
    "observations = generate_observations(example_locations)"
   ]
  },
  {
   "cell_type": "code",
   "execution_count": 19,
   "metadata": {},
   "outputs": [
    {
     "data": {
      "text/html": [
       "<div>\n",
       "<style scoped>\n",
       "    .dataframe tbody tr th:only-of-type {\n",
       "        vertical-align: middle;\n",
       "    }\n",
       "\n",
       "    .dataframe tbody tr th {\n",
       "        vertical-align: top;\n",
       "    }\n",
       "\n",
       "    .dataframe thead th {\n",
       "        text-align: right;\n",
       "    }\n",
       "</style>\n",
       "<table border=\"1\" class=\"dataframe\">\n",
       "  <thead>\n",
       "    <tr style=\"text-align: right;\">\n",
       "      <th></th>\n",
       "      <th>location_id</th>\n",
       "      <th>observation</th>\n",
       "    </tr>\n",
       "  </thead>\n",
       "  <tbody>\n",
       "    <tr>\n",
       "      <th>0</th>\n",
       "      <td>0</td>\n",
       "      <td>13.802057</td>\n",
       "    </tr>\n",
       "    <tr>\n",
       "      <th>1</th>\n",
       "      <td>0</td>\n",
       "      <td>26.529701</td>\n",
       "    </tr>\n",
       "    <tr>\n",
       "      <th>2</th>\n",
       "      <td>1</td>\n",
       "      <td>8.988453</td>\n",
       "    </tr>\n",
       "    <tr>\n",
       "      <th>3</th>\n",
       "      <td>1</td>\n",
       "      <td>-5.426702</td>\n",
       "    </tr>\n",
       "    <tr>\n",
       "      <th>4</th>\n",
       "      <td>1</td>\n",
       "      <td>-2.470594</td>\n",
       "    </tr>\n",
       "    <tr>\n",
       "      <th>5</th>\n",
       "      <td>1</td>\n",
       "      <td>17.582427</td>\n",
       "    </tr>\n",
       "    <tr>\n",
       "      <th>6</th>\n",
       "      <td>2</td>\n",
       "      <td>16.772133</td>\n",
       "    </tr>\n",
       "    <tr>\n",
       "      <th>7</th>\n",
       "      <td>2</td>\n",
       "      <td>9.341510</td>\n",
       "    </tr>\n",
       "    <tr>\n",
       "      <th>8</th>\n",
       "      <td>3</td>\n",
       "      <td>-1.679948</td>\n",
       "    </tr>\n",
       "    <tr>\n",
       "      <th>9</th>\n",
       "      <td>3</td>\n",
       "      <td>-0.626963</td>\n",
       "    </tr>\n",
       "    <tr>\n",
       "      <th>10</th>\n",
       "      <td>4</td>\n",
       "      <td>-2.786075</td>\n",
       "    </tr>\n",
       "    <tr>\n",
       "      <th>11</th>\n",
       "      <td>4</td>\n",
       "      <td>24.992347</td>\n",
       "    </tr>\n",
       "    <tr>\n",
       "      <th>12</th>\n",
       "      <td>4</td>\n",
       "      <td>7.501011</td>\n",
       "    </tr>\n",
       "    <tr>\n",
       "      <th>13</th>\n",
       "      <td>5</td>\n",
       "      <td>-0.862222</td>\n",
       "    </tr>\n",
       "    <tr>\n",
       "      <th>14</th>\n",
       "      <td>5</td>\n",
       "      <td>12.870562</td>\n",
       "    </tr>\n",
       "    <tr>\n",
       "      <th>15</th>\n",
       "      <td>6</td>\n",
       "      <td>17.977145</td>\n",
       "    </tr>\n",
       "    <tr>\n",
       "      <th>16</th>\n",
       "      <td>6</td>\n",
       "      <td>-0.697886</td>\n",
       "    </tr>\n",
       "    <tr>\n",
       "      <th>17</th>\n",
       "      <td>6</td>\n",
       "      <td>3.547051</td>\n",
       "    </tr>\n",
       "    <tr>\n",
       "      <th>18</th>\n",
       "      <td>7</td>\n",
       "      <td>16.531671</td>\n",
       "    </tr>\n",
       "    <tr>\n",
       "      <th>19</th>\n",
       "      <td>7</td>\n",
       "      <td>0.876524</td>\n",
       "    </tr>\n",
       "    <tr>\n",
       "      <th>20</th>\n",
       "      <td>7</td>\n",
       "      <td>-3.151636</td>\n",
       "    </tr>\n",
       "    <tr>\n",
       "      <th>21</th>\n",
       "      <td>7</td>\n",
       "      <td>-14.192440</td>\n",
       "    </tr>\n",
       "    <tr>\n",
       "      <th>22</th>\n",
       "      <td>8</td>\n",
       "      <td>-12.981490</td>\n",
       "    </tr>\n",
       "    <tr>\n",
       "      <th>23</th>\n",
       "      <td>9</td>\n",
       "      <td>12.001735</td>\n",
       "    </tr>\n",
       "    <tr>\n",
       "      <th>24</th>\n",
       "      <td>9</td>\n",
       "      <td>5.930353</td>\n",
       "    </tr>\n",
       "    <tr>\n",
       "      <th>25</th>\n",
       "      <td>9</td>\n",
       "      <td>9.468212</td>\n",
       "    </tr>\n",
       "    <tr>\n",
       "      <th>26</th>\n",
       "      <td>9</td>\n",
       "      <td>24.998196</td>\n",
       "    </tr>\n",
       "  </tbody>\n",
       "</table>\n",
       "</div>"
      ],
      "text/plain": [
       "    location_id  observation\n",
       "0             0    13.802057\n",
       "1             0    26.529701\n",
       "2             1     8.988453\n",
       "3             1    -5.426702\n",
       "4             1    -2.470594\n",
       "5             1    17.582427\n",
       "6             2    16.772133\n",
       "7             2     9.341510\n",
       "8             3    -1.679948\n",
       "9             3    -0.626963\n",
       "10            4    -2.786075\n",
       "11            4    24.992347\n",
       "12            4     7.501011\n",
       "13            5    -0.862222\n",
       "14            5    12.870562\n",
       "15            6    17.977145\n",
       "16            6    -0.697886\n",
       "17            6     3.547051\n",
       "18            7    16.531671\n",
       "19            7     0.876524\n",
       "20            7    -3.151636\n",
       "21            7   -14.192440\n",
       "22            8   -12.981490\n",
       "23            9    12.001735\n",
       "24            9     5.930353\n",
       "25            9     9.468212\n",
       "26            9    24.998196"
      ]
     },
     "execution_count": 19,
     "metadata": {},
     "output_type": "execute_result"
    }
   ],
   "source": [
    "observations"
   ]
  },
  {
   "attachments": {},
   "cell_type": "markdown",
   "metadata": {},
   "source": [
    "Now we define the standard estimator, and code to evaluate how well it estimates the first group's expected value."
   ]
  },
  {
   "cell_type": "code",
   "execution_count": 20,
   "metadata": {},
   "outputs": [],
   "source": [
    "# define the standard estimator\n",
    "def standard_effect_estimate(observations: pd.DataFrame) -> pd.DataFrame:\n",
    "    \"\"\"\n",
    "    Get the standard estimate of the effect at locations from observations.\n",
    "    Please see: https://github.com/WinVector/Examples/blob/main/PartialPooling/PartialPooling.ipynb\n",
    "\n",
    "    :param observations: the observations data frame\n",
    "    :return: standard estimate of effect or mean by location\n",
    "    \"\"\"\n",
    "    assert isinstance(observations, pd.DataFrame)\n",
    "    means = (\n",
    "        observations.loc[:, [\"location_id\", \"observation\"]]\n",
    "        .reset_index(drop=True, inplace=False)\n",
    "        .groupby([\"location_id\"])\n",
    "        .agg(['mean', 'var', 'size'])\n",
    "        .reset_index(drop=False, inplace=False)\n",
    "    )\n",
    "    cols = [' '.join(col).strip() for col in means.columns]\n",
    "    means.columns = [c.removeprefix('observation ') for c in cols]\n",
    "    means.sort_values([\"location_id\"], inplace=True, ignore_index=True)\n",
    "    means['estimate'] = means['mean']\n",
    "    means[\"grand_mean\"] = np.mean(observations[\"observation\"])\n",
    "    means[\"impact\"] = means[\"estimate\"]\n",
    "    means[\"impact\"] = (\n",
    "        means[\"impact\"] \n",
    "        - np.sum(means['size'] * means['impact']) / np.sum(means['size']))\n",
    "    means.sort_values([\"location_id\"], inplace=True, ignore_index=True)\n",
    "    return means"
   ]
  },
  {
   "attachments": {},
   "cell_type": "markdown",
   "metadata": {},
   "source": [
    "The standard estimate works as follows."
   ]
  },
  {
   "cell_type": "code",
   "execution_count": 21,
   "metadata": {},
   "outputs": [
    {
     "data": {
      "text/html": [
       "<div>\n",
       "<style scoped>\n",
       "    .dataframe tbody tr th:only-of-type {\n",
       "        vertical-align: middle;\n",
       "    }\n",
       "\n",
       "    .dataframe tbody tr th {\n",
       "        vertical-align: top;\n",
       "    }\n",
       "\n",
       "    .dataframe thead th {\n",
       "        text-align: right;\n",
       "    }\n",
       "</style>\n",
       "<table border=\"1\" class=\"dataframe\">\n",
       "  <thead>\n",
       "    <tr style=\"text-align: right;\">\n",
       "      <th></th>\n",
       "      <th>location_id</th>\n",
       "      <th>mean</th>\n",
       "      <th>var</th>\n",
       "      <th>size</th>\n",
       "      <th>estimate</th>\n",
       "      <th>grand_mean</th>\n",
       "      <th>impact</th>\n",
       "    </tr>\n",
       "  </thead>\n",
       "  <tbody>\n",
       "    <tr>\n",
       "      <th>0</th>\n",
       "      <td>0</td>\n",
       "      <td>20.165879</td>\n",
       "      <td>80.996461</td>\n",
       "      <td>2</td>\n",
       "      <td>20.165879</td>\n",
       "      <td>6.845746</td>\n",
       "      <td>13.320134</td>\n",
       "    </tr>\n",
       "    <tr>\n",
       "      <th>1</th>\n",
       "      <td>1</td>\n",
       "      <td>4.668396</td>\n",
       "      <td>112.770421</td>\n",
       "      <td>4</td>\n",
       "      <td>4.668396</td>\n",
       "      <td>6.845746</td>\n",
       "      <td>-2.177350</td>\n",
       "    </tr>\n",
       "    <tr>\n",
       "      <th>2</th>\n",
       "      <td>2</td>\n",
       "      <td>13.056822</td>\n",
       "      <td>27.607078</td>\n",
       "      <td>2</td>\n",
       "      <td>13.056822</td>\n",
       "      <td>6.845746</td>\n",
       "      <td>6.211076</td>\n",
       "    </tr>\n",
       "    <tr>\n",
       "      <th>3</th>\n",
       "      <td>3</td>\n",
       "      <td>-1.153455</td>\n",
       "      <td>0.554389</td>\n",
       "      <td>2</td>\n",
       "      <td>-1.153455</td>\n",
       "      <td>6.845746</td>\n",
       "      <td>-7.999201</td>\n",
       "    </tr>\n",
       "    <tr>\n",
       "      <th>4</th>\n",
       "      <td>4</td>\n",
       "      <td>9.902428</td>\n",
       "      <td>197.235285</td>\n",
       "      <td>3</td>\n",
       "      <td>9.902428</td>\n",
       "      <td>6.845746</td>\n",
       "      <td>3.056682</td>\n",
       "    </tr>\n",
       "    <tr>\n",
       "      <th>5</th>\n",
       "      <td>5</td>\n",
       "      <td>6.004170</td>\n",
       "      <td>94.294674</td>\n",
       "      <td>2</td>\n",
       "      <td>6.004170</td>\n",
       "      <td>6.845746</td>\n",
       "      <td>-0.841576</td>\n",
       "    </tr>\n",
       "    <tr>\n",
       "      <th>6</th>\n",
       "      <td>6</td>\n",
       "      <td>6.942103</td>\n",
       "      <td>95.833984</td>\n",
       "      <td>3</td>\n",
       "      <td>6.942103</td>\n",
       "      <td>6.845746</td>\n",
       "      <td>0.096358</td>\n",
       "    </tr>\n",
       "    <tr>\n",
       "      <th>7</th>\n",
       "      <td>7</td>\n",
       "      <td>0.016030</td>\n",
       "      <td>161.807194</td>\n",
       "      <td>4</td>\n",
       "      <td>0.016030</td>\n",
       "      <td>6.845746</td>\n",
       "      <td>-6.829716</td>\n",
       "    </tr>\n",
       "    <tr>\n",
       "      <th>8</th>\n",
       "      <td>8</td>\n",
       "      <td>-12.981490</td>\n",
       "      <td>NaN</td>\n",
       "      <td>1</td>\n",
       "      <td>-12.981490</td>\n",
       "      <td>6.845746</td>\n",
       "      <td>-19.827236</td>\n",
       "    </tr>\n",
       "    <tr>\n",
       "      <th>9</th>\n",
       "      <td>9</td>\n",
       "      <td>13.099624</td>\n",
       "      <td>69.122322</td>\n",
       "      <td>4</td>\n",
       "      <td>13.099624</td>\n",
       "      <td>6.845746</td>\n",
       "      <td>6.253878</td>\n",
       "    </tr>\n",
       "  </tbody>\n",
       "</table>\n",
       "</div>"
      ],
      "text/plain": [
       "   location_id       mean         var  size   estimate  grand_mean     impact\n",
       "0            0  20.165879   80.996461     2  20.165879    6.845746  13.320134\n",
       "1            1   4.668396  112.770421     4   4.668396    6.845746  -2.177350\n",
       "2            2  13.056822   27.607078     2  13.056822    6.845746   6.211076\n",
       "3            3  -1.153455    0.554389     2  -1.153455    6.845746  -7.999201\n",
       "4            4   9.902428  197.235285     3   9.902428    6.845746   3.056682\n",
       "5            5   6.004170   94.294674     2   6.004170    6.845746  -0.841576\n",
       "6            6   6.942103   95.833984     3   6.942103    6.845746   0.096358\n",
       "7            7   0.016030  161.807194     4   0.016030    6.845746  -6.829716\n",
       "8            8 -12.981490         NaN     1 -12.981490    6.845746 -19.827236\n",
       "9            9  13.099624   69.122322     4  13.099624    6.845746   6.253878"
      ]
     },
     "execution_count": 21,
     "metadata": {},
     "output_type": "execute_result"
    }
   ],
   "source": [
    "standard_effect_estimate(observations)"
   ]
  },
  {
   "cell_type": "code",
   "execution_count": 22,
   "metadata": {},
   "outputs": [],
   "source": [
    "# estimate the quality of the standard estimator\n",
    "def get_sq_error_loss_std_estimate(\n",
    "        *, \n",
    "        location_id: int, example_locations: pd.DataFrame, observations: pd.DataFrame) -> float:\n",
    "    \"\"\"\n",
    "    Show the square-error of estimate of the effect at location location_id from observations\n",
    "\n",
    "    :parm location_id: which location to calculate for\n",
    "    :param example_locations: the (unobserved) ground truth to compare to\n",
    "    :param observations: the observations data frame\n",
    "    :return: estimated square error of this estimation procedure\n",
    "    \"\"\"\n",
    "    # get the standard estimates\n",
    "    observed_means = standard_effect_estimate(observations=observations)\n",
    "    # get the unobservable true effect for comparison\n",
    "    true_effect = example_locations.loc[example_locations[\"location_id\"] == location_id, \"effect\"].values[0]\n",
    "    # calculate the square error of these estimates\n",
    "    estimated_effect = observed_means.loc[observed_means[\"location_id\"] == location_id, \"estimate\"].values[0]\n",
    "    square_error = (estimated_effect - true_effect)**2\n",
    "    return square_error\n"
   ]
  },
  {
   "attachments": {},
   "cell_type": "markdown",
   "metadata": {},
   "source": [
    "And we define the pooled estimator, and it's evaluation procedure."
   ]
  },
  {
   "cell_type": "code",
   "execution_count": 23,
   "metadata": {},
   "outputs": [],
   "source": [
    "# define the pooled estimator\n",
    "def pooled_effect_estimate(observations: pd.DataFrame) -> pd.DataFrame:\n",
    "    \"\"\"\n",
    "    Get the pooled estimate of effect.\n",
    "    See: https://github.com/WinVector/Examples/blob/main/PartialPooling/PartialPooling.ipynb .\n",
    "\n",
    "    :param observations: the observations data frame, with columns location_id and observation\n",
    "    :return: pooled estimates\n",
    "    \"\"\"\n",
    "    assert isinstance(observations, pd.DataFrame)\n",
    "    observations = observations.loc[:, [\"location_id\", \"observation\"]].reset_index(\n",
    "        inplace=False, drop=True\n",
    "    )\n",
    "    # get the standard estimates\n",
    "    estimated_centers = standard_effect_estimate(observations=observations)\n",
    "    grand_var = np.var(observations['observation'])\n",
    "    if (estimated_centers.shape[0] <= 1) or pd.isnull(grand_var) or (grand_var <= 0):\n",
    "        # no pooling possible\n",
    "        return estimated_centers\n",
    "    # get counts per group\n",
    "    n_j = estimated_centers[\"size\"]\n",
    "    per_location_observation_var = estimated_centers['var'].copy()\n",
    "    per_location_observation_var[pd.isnull(per_location_observation_var)] = 0\n",
    "    # inflate per-loc a bit\n",
    "    per_location_observation_var = (\n",
    "        (n_j * per_location_observation_var + grand_var)\n",
    "        / (n_j + 1))\n",
    "    # get the observed variance between locations\n",
    "    between_location_var = np.var(estimated_centers[\"estimate\"], ddof=1)\n",
    "    # get v, the pooling coefficient\n",
    "    if between_location_var <= 0:\n",
    "        v = 0 * per_location_observation_var\n",
    "    else:\n",
    "        # as between_location_var > 0 and per_location_observation_var > 0 here\n",
    "        # v will be in the range 0 to 1\n",
    "        v = 1 / (1 + per_location_observation_var / (n_j * between_location_var))\n",
    "    v[pd.isnull(v)] = 0\n",
    "    # build the pooled estimate\n",
    "    pooled_estimate = v * estimated_centers[\"estimate\"] + (1 - v) * estimated_centers[\"grand_mean\"]\n",
    "    estimated_centers[\"estimate\"] = pooled_estimate\n",
    "    estimated_centers[\"impact\"] = estimated_centers[\"estimate\"] \n",
    "    estimated_centers[\"impact\"] = (\n",
    "        estimated_centers[\"impact\"] \n",
    "        - np.sum(estimated_centers['size'] * estimated_centers['impact']) / np.sum(estimated_centers['size']))\n",
    "    return estimated_centers"
   ]
  },
  {
   "attachments": {},
   "cell_type": "markdown",
   "metadata": {},
   "source": [
    "The pooled estimate works as follows."
   ]
  },
  {
   "cell_type": "code",
   "execution_count": 24,
   "metadata": {},
   "outputs": [
    {
     "data": {
      "text/html": [
       "<div>\n",
       "<style scoped>\n",
       "    .dataframe tbody tr th:only-of-type {\n",
       "        vertical-align: middle;\n",
       "    }\n",
       "\n",
       "    .dataframe tbody tr th {\n",
       "        vertical-align: top;\n",
       "    }\n",
       "\n",
       "    .dataframe thead th {\n",
       "        text-align: right;\n",
       "    }\n",
       "</style>\n",
       "<table border=\"1\" class=\"dataframe\">\n",
       "  <thead>\n",
       "    <tr style=\"text-align: right;\">\n",
       "      <th></th>\n",
       "      <th>location_id</th>\n",
       "      <th>mean</th>\n",
       "      <th>var</th>\n",
       "      <th>size</th>\n",
       "      <th>estimate</th>\n",
       "      <th>grand_mean</th>\n",
       "      <th>impact</th>\n",
       "    </tr>\n",
       "  </thead>\n",
       "  <tbody>\n",
       "    <tr>\n",
       "      <th>0</th>\n",
       "      <td>0</td>\n",
       "      <td>20.165879</td>\n",
       "      <td>80.996461</td>\n",
       "      <td>2</td>\n",
       "      <td>15.457382</td>\n",
       "      <td>6.845746</td>\n",
       "      <td>8.564178</td>\n",
       "    </tr>\n",
       "    <tr>\n",
       "      <th>1</th>\n",
       "      <td>1</td>\n",
       "      <td>4.668396</td>\n",
       "      <td>112.770421</td>\n",
       "      <td>4</td>\n",
       "      <td>5.213367</td>\n",
       "      <td>6.845746</td>\n",
       "      <td>-1.679837</td>\n",
       "    </tr>\n",
       "    <tr>\n",
       "      <th>2</th>\n",
       "      <td>2</td>\n",
       "      <td>13.056822</td>\n",
       "      <td>27.607078</td>\n",
       "      <td>2</td>\n",
       "      <td>11.488942</td>\n",
       "      <td>6.845746</td>\n",
       "      <td>4.595739</td>\n",
       "    </tr>\n",
       "    <tr>\n",
       "      <th>3</th>\n",
       "      <td>3</td>\n",
       "      <td>-1.153455</td>\n",
       "      <td>0.554389</td>\n",
       "      <td>2</td>\n",
       "      <td>0.351447</td>\n",
       "      <td>6.845746</td>\n",
       "      <td>-6.541756</td>\n",
       "    </tr>\n",
       "    <tr>\n",
       "      <th>4</th>\n",
       "      <td>4</td>\n",
       "      <td>9.902428</td>\n",
       "      <td>197.235285</td>\n",
       "      <td>3</td>\n",
       "      <td>8.650058</td>\n",
       "      <td>6.845746</td>\n",
       "      <td>1.756854</td>\n",
       "    </tr>\n",
       "    <tr>\n",
       "      <th>5</th>\n",
       "      <td>5</td>\n",
       "      <td>6.004170</td>\n",
       "      <td>94.294674</td>\n",
       "      <td>2</td>\n",
       "      <td>6.319379</td>\n",
       "      <td>6.845746</td>\n",
       "      <td>-0.573825</td>\n",
       "    </tr>\n",
       "    <tr>\n",
       "      <th>6</th>\n",
       "      <td>6</td>\n",
       "      <td>6.942103</td>\n",
       "      <td>95.833984</td>\n",
       "      <td>3</td>\n",
       "      <td>6.914757</td>\n",
       "      <td>6.845746</td>\n",
       "      <td>0.021553</td>\n",
       "    </tr>\n",
       "    <tr>\n",
       "      <th>7</th>\n",
       "      <td>7</td>\n",
       "      <td>0.016030</td>\n",
       "      <td>161.807194</td>\n",
       "      <td>4</td>\n",
       "      <td>2.132592</td>\n",
       "      <td>6.845746</td>\n",
       "      <td>-4.760612</td>\n",
       "    </tr>\n",
       "    <tr>\n",
       "      <th>8</th>\n",
       "      <td>8</td>\n",
       "      <td>-12.981490</td>\n",
       "      <td>NaN</td>\n",
       "      <td>1</td>\n",
       "      <td>-4.895610</td>\n",
       "      <td>6.845746</td>\n",
       "      <td>-11.788813</td>\n",
       "    </tr>\n",
       "    <tr>\n",
       "      <th>9</th>\n",
       "      <td>9</td>\n",
       "      <td>13.099624</td>\n",
       "      <td>69.122322</td>\n",
       "      <td>4</td>\n",
       "      <td>11.924881</td>\n",
       "      <td>6.845746</td>\n",
       "      <td>5.031678</td>\n",
       "    </tr>\n",
       "  </tbody>\n",
       "</table>\n",
       "</div>"
      ],
      "text/plain": [
       "   location_id       mean         var  size   estimate  grand_mean     impact\n",
       "0            0  20.165879   80.996461     2  15.457382    6.845746   8.564178\n",
       "1            1   4.668396  112.770421     4   5.213367    6.845746  -1.679837\n",
       "2            2  13.056822   27.607078     2  11.488942    6.845746   4.595739\n",
       "3            3  -1.153455    0.554389     2   0.351447    6.845746  -6.541756\n",
       "4            4   9.902428  197.235285     3   8.650058    6.845746   1.756854\n",
       "5            5   6.004170   94.294674     2   6.319379    6.845746  -0.573825\n",
       "6            6   6.942103   95.833984     3   6.914757    6.845746   0.021553\n",
       "7            7   0.016030  161.807194     4   2.132592    6.845746  -4.760612\n",
       "8            8 -12.981490         NaN     1  -4.895610    6.845746 -11.788813\n",
       "9            9  13.099624   69.122322     4  11.924881    6.845746   5.031678"
      ]
     },
     "execution_count": 24,
     "metadata": {},
     "output_type": "execute_result"
    }
   ],
   "source": [
    "# show the estimate in action\n",
    "pooled_effect_estimate(observations)"
   ]
  },
  {
   "cell_type": "code",
   "execution_count": 25,
   "metadata": {},
   "outputs": [],
   "source": [
    "# evaluate the pooled estimator quality\n",
    "def get_sq_error_loss_pooled_estimate(\n",
    "        *, \n",
    "        location_id: int, example_locations: pd.DataFrame, observations: pd.DataFrame) -> float:\n",
    "    \"\"\"\n",
    "    Show the square error of partial pooled out estimates of the effect at location location_id from observations\n",
    "\n",
    "    :parm location_id: which location to calculate for\n",
    "    :param example_locations: the (unobserved) ground truth to compare to\n",
    "    :param observations: the observations data frame\n",
    "    :return: estimated square error of this estimation procedure\n",
    "    \"\"\"\n",
    "    # get the estimates\n",
    "    pooled_estimates = pooled_effect_estimate(observations=observations)\n",
    "    # get the unobservable true effect for comparison\n",
    "    true_effect = example_locations.loc[example_locations[\"location_id\"] == location_id, \"effect\"].values[0]\n",
    "    # calculate the square error of these estimates\n",
    "    estimated_effect = pooled_estimates.loc[pooled_estimates[\"location_id\"] == location_id, \"estimate\"].values[0]\n",
    "    square_error = (estimated_effect - true_effect)**2\n",
    "    return square_error"
   ]
  },
  {
   "attachments": {},
   "cell_type": "markdown",
   "metadata": {},
   "source": [
    "Now, let's try the estimators. In each case we the evaluation is returning square-error, so smaller is better."
   ]
  },
  {
   "cell_type": "code",
   "execution_count": 26,
   "metadata": {},
   "outputs": [
    {
     "data": {
      "text/plain": [
       "59.062343664162356"
      ]
     },
     "execution_count": 26,
     "metadata": {},
     "output_type": "execute_result"
    }
   ],
   "source": [
    "# run the experiment for the standard estimator\n",
    "std_est_loss = get_sq_error_loss_std_estimate(\n",
    "    location_id=0, \n",
    "    example_locations=example_locations, \n",
    "    observations=observations)\n",
    "\n",
    "std_est_loss"
   ]
  },
  {
   "cell_type": "code",
   "execution_count": 27,
   "metadata": {},
   "outputs": [
    {
     "data": {
      "text/plain": [
       "8.860775473223525"
      ]
     },
     "execution_count": 27,
     "metadata": {},
     "output_type": "execute_result"
    }
   ],
   "source": [
    "# run the experiment for the pooled estimator\n",
    "pooled_est_loss = get_sq_error_loss_pooled_estimate(\n",
    "    location_id=0, \n",
    "    example_locations=example_locations, \n",
    "    observations=observations)\n",
    "\n",
    "pooled_est_loss"
   ]
  },
  {
   "cell_type": "code",
   "execution_count": 28,
   "metadata": {},
   "outputs": [],
   "source": [
    "assert pooled_est_loss < std_est_loss  # not always true, due to higher variance on std est (and just randomness!)"
   ]
  },
  {
   "attachments": {},
   "cell_type": "markdown",
   "metadata": {},
   "source": [
    "We see, the pooled estimate has smaller expected square error loss that the standard estimate. That is: we have evidence the pooled estimate would be closer to new observations for a given location. We want to further confirm by repeating the experiment more times."
   ]
  },
  {
   "cell_type": "code",
   "execution_count": 29,
   "metadata": {},
   "outputs": [],
   "source": [
    "# wrap our experiment in a repeatable function\n",
    "def run_experiment() -> pd.DataFrame:\n",
    "    example_locations = generate_example_centers()\n",
    "    observations = generate_observations(example_locations)\n",
    "    std_est_loss = get_sq_error_loss_std_estimate(\n",
    "        location_id=0, \n",
    "        example_locations=example_locations, \n",
    "        observations=observations)\n",
    "    pooled_est_loss = get_sq_error_loss_pooled_estimate(\n",
    "        location_id=0, \n",
    "        example_locations=example_locations, \n",
    "        observations=observations)\n",
    "    return pd.DataFrame({\n",
    "        \"std_loss\": [std_est_loss],\n",
    "        \"pooled_loss\": [pooled_est_loss],\n",
    "    })"
   ]
  },
  {
   "cell_type": "code",
   "execution_count": 30,
   "metadata": {},
   "outputs": [],
   "source": [
    "# run the experiments\n",
    "experiments = pd.concat([run_experiment() for i in range(1000)], ignore_index=True)"
   ]
  },
  {
   "cell_type": "code",
   "execution_count": 31,
   "metadata": {},
   "outputs": [
    {
     "data": {
      "text/plain": [
       "std_loss       50.370861\n",
       "pooled_loss    23.940735\n",
       "dtype: float64"
      ]
     },
     "execution_count": 31,
     "metadata": {},
     "output_type": "execute_result"
    }
   ],
   "source": [
    "# show the average loss of each method\n",
    "experiments.mean()"
   ]
  },
  {
   "cell_type": "code",
   "execution_count": 32,
   "metadata": {},
   "outputs": [
    {
     "data": {
      "text/plain": [
       "std_loss       20.661076\n",
       "pooled_loss     9.557316\n",
       "dtype: float64"
      ]
     },
     "execution_count": 32,
     "metadata": {},
     "output_type": "execute_result"
    }
   ],
   "source": [
    "# show the median loss of each method\n",
    "medians = experiments.median()\n",
    "medians"
   ]
  },
  {
   "cell_type": "code",
   "execution_count": 33,
   "metadata": {},
   "outputs": [
    {
     "data": {
      "text/plain": [
       "std_loss       82.313274\n",
       "pooled_loss    39.233761\n",
       "dtype: float64"
      ]
     },
     "execution_count": 33,
     "metadata": {},
     "output_type": "execute_result"
    }
   ],
   "source": [
    "# show how each method's loss varies (standard deviation)\n",
    "experiments.std()"
   ]
  },
  {
   "attachments": {},
   "cell_type": "markdown",
   "metadata": {},
   "source": [
    "Notice the pooled method, in this example, out-performs the standard method in all three of the above measurements. This is because the example is deliberately generating closely related data. \n",
    "\n",
    "We can also plot the distribution losses to get a bit more detail."
   ]
  },
  {
   "cell_type": "code",
   "execution_count": 34,
   "metadata": {},
   "outputs": [
    {
     "data": {
      "image/png": "[encoded data removed]",
      "text/plain": [
       "<Figure size 640x480 with 1 Axes>"
      ]
     },
     "metadata": {},
     "output_type": "display_data"
    }
   ],
   "source": [
    "# plot the experiments\n",
    "plt_frame = pd.concat([\n",
    "    pd.DataFrame({\"estimate\": \"standard\", \"loss\": experiments[\"std_loss\"]}),\n",
    "    pd.DataFrame({\"estimate\": \"pooled\", \"loss\": experiments[\"pooled_loss\"]}),\n",
    "    ], ignore_index=True)\n",
    "palette = [\"#d95f02\", \"#1b9e77\"]\n",
    "sns.kdeplot(\n",
    "    data=plt_frame,\n",
    "    x=\"loss\",\n",
    "    hue=\"estimate\",\n",
    "    hue_order=[\"standard\", \"pooled\"],\n",
    "    palette=palette,\n",
    "    fill=True,\n",
    ")\n",
    "plt.title(\"distribution of square error losses by estimation method (lower better)\\ndashed bars at medians\")\n",
    "plt.xlim(0, np.quantile(plt_frame[\"loss\"], 0.95))\n",
    "plt.axvline(x=medians[\"std_loss\"], color=palette[0], linestyle=\"dashed\")\n",
    "plt.axvline(x=medians[\"pooled_loss\"], color=palette[1], linestyle=\"dashed\")\n",
    "plt.show()"
   ]
  },
  {
   "attachments": {},
   "cell_type": "markdown",
   "metadata": {},
   "source": [
    "The method has been seen to work, even with estimated variances and grand means (instead of using the unobserved true generating parameters). This is evidence the method can be used in practice."
   ]
  },
  {
   "attachments": {},
   "cell_type": "markdown",
   "metadata": {},
   "source": [
    "# A note on hierarchical models\n",
    "\n",
    "We've not really talked about the meaning of the term \"hierarchical model.\"\n",
    "\n",
    "Hierarchical models are the clear way to explain the how different data generation assumptions effect our modeling strategy. In this case, knowing how strongly different data is related allows us to implement a lower variance (though biased) estimate. This note is the direct re-implementation of a simple hierarchical model: using that locations come from a common distribution, and then later produce observations.\n",
    "\n",
    "From Gelman and Hill section 11.3 we take that hierarchical models are an alternative to attempts to define *fixed effect* versus *random effect* modeling. We understand this is from Bayesian-friendly authors that don't particularly like the Frequentist terms *fixed effect* and *random effect*, but their advice seems sound:\n",
    "\n",
    "> Our advice (elaborated upon in the rest of this book) is to *always* use multilevel modeling (\"random effects\"). Because of conflicting definitions and advice, we avoid the terms \"fixed\" and \"random\" entirely, and focus on the description of the model itself [...] with the understanding that batches of coefficients [...] will themselves be modeled.\n",
    "\n",
    "(Ellipses meant to avoid some un-introduced detail, and not alter the meaning, context, or scope of the original statement. In this context \"modeled\" essentially means subject to distributional assumptions, be these assumptions priors or conditions relating groups of variables. This is quite normal for Bayesians. But needs to be mystified a bit when used by Frequentists, as this is something Frequentists claim not to do.)\n",
    "\n"
   ]
  },
  {
   "attachments": {},
   "cell_type": "markdown",
   "metadata": {},
   "source": [
    "## Conclusion\n",
    "\n",
    "The partial pooling improvement for estimating an unseen value from noisy observations depends on a single parameter `PerObservationSD**2 / (n_j * BetweenLocationsSD**2)`. This parameter compares the uncertainty in the mean of the observations (`PerObservationSD**2 / n_j`, or standard error squared) for a single location, to the uncertainty between locations (`BetweenLocationsSD**2`, a standard deviation squared). When this ratio is small, we don't pool data, we just estimate the average value using data from one location. When this ratio is large, pooling is likely a useful variance reducing procedure. Of course, these values are not directly observed; and thus have to be themselves estimated.\n",
    "\n",
    "Essentially the partial pooling method is trading away variance (due to having very few samples) for bias (due to including samples that don't match the target location). If the different locations are sufficiently related, this can be an improving trade off in terms of expected square error.\n",
    "\n",
    "In practice, all of the above is typically ignored when there is a lot of data. And, the above inference is made inside a hierarchical model solver, not directly by a practitioner. However, it is good to see the actual form of the pooling strategy."
   ]
  }
 ],
 "metadata": {
  "kernelspec": {
   "display_name": "research_env",
   "language": "python",
   "name": "python3"
  },
  "language_info": {
   "codemirror_mode": {
    "name": "ipython",
    "version": 3
   },
   "file_extension": ".py",
   "mimetype": "text/x-python",
   "name": "python",
   "nbconvert_exporter": "python",
   "pygments_lexer": "ipython3",
   "version": "3.11.7"
  },
  "orig_nbformat": 4,
  "vscode": {
   "interpreter": {
    "hash": "1564fe6c621c255e1bf894f3aae80247d56f4153453d59260e9f5ebda34f6083"
   }
  }
 },
 "nbformat": 4,
 "nbformat_minor": 2
}
