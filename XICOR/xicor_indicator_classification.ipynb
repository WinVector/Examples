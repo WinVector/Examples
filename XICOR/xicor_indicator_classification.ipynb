{
 "cells": [
  {
   "cell_type": "markdown",
   "metadata": {
    "collapsed": true,
    "pycharm": {
     "name": "#%% md\n"
    }
   },
   "source": [
    "# An Interpretation of the xicor Score for Classification\n",
    "\n",
    "John Mount,\n",
    "Win Vector LLC,\n",
    "December 31, 2021,\n",
    "https://github.com/WinVector/Examples/blob/main/XICOR/xicor_indicator_classification.ipynb\n",
    "\n",
    "## Introduction\n",
    "\n",
    "An important special case of machine learning and statistics is *classification*, determining if a dependent variable `y` (or outcome) is in one of two classes.  For simplicity let's call these classes 0 and 1. Even the case measuring the quality of a classification by two valued (again, for simplicity taking values 0 and 1) explanatory variable `x` is of great utility and has extensive theory and practice. This may seem like a narrow case, but it includes every situation that produces a 2 by 2 confusion matrix.\n",
    "\n",
    "In this note we show the in this case the expected value of xicor (which our group has been writing about [here](https://win-vector.com/2021/12/26/how-to-read-sourav-chatterjees-basic-xicor-defenition/) and [here](https://win-vector.com/2021/12/29/exploring-the-xi-correlation-coefficient/)) specializes to a re-normalized determinant of a classifier's confusion matrix. This form exposes a lot of the (known) symmetries of the expected value of xicor.\n",
    "\n",
    "There is, of course, previous work on application of the determinant of the confusion matrix. However, we haven't (yet) seen an example with this normalization scheme and not previously seen it related to xicor. So we are hoping this is a novel observation.\n",
    "\n",
    "### Confusion matrices\n",
    "\n",
    "The common summary of performance in the above situation is the confusion matrix (ref: [Wikipedia: Confusion matrix](https://en.wikipedia.org/wiki/Confusion_matrix)). To form the confusion matrix we summarize the classifier performance into four counts:\n",
    "\n",
    "\n",
    "  * True positives (`tp`), the number of times `x = 1` and `y = 1`.\n",
    "  * False positives (`fp`), the number of times `x = 1` and `y = 0`.\n",
    "  * True negatives (`tn`), the number of times `x = 0` and `y = 0`.\n",
    "  * False negatives (`fn`), the number of times `x = 0` and `y = 1`.\n",
    "\n",
    "These four numbers can be portrayed in convenient table as follows.\n",
    "\n",
    "<table>\n",
    "<tr><td></td><td><b>x = 0</b></td><td><b>x = 1</b></td></tr>\n",
    "<tr><td><b>y = 1</b></td><td>fn</td><td>tp</td></tr>\n",
    "<tr><td><b>y = 0</b></td><td>tn</td><td>fp</td></tr>\n",
    "</table>\n",
    "\n",
    "\n",
    "The confusion matrix is a sufficient statistic for characterizing the relation between two binary or two-valued variables. Many other statistics can be written in terms of its entries. This includes accuracy, sensitivity, specificity, precision, recall, F1, and even AUC (ref: [\"A budget of classifier evaluation measures\"](https://win-vector.com/2016/07/21/a-budget-of-classifier-evaluation-measures/)).\n",
    "\n",
    "## A new correspondence score\n",
    "\n",
    "Sourav Chatterjee introduced a new correspondence score called \"xicor\" (ref: [xicor](https://arxiv.org/abs/1909.10140)). It measures the ability of one variable to predict another in terms of: does the explanatory variable predict where the dependent variable doesn't vary? This is a change from most measures that directly target if the explanatory variable predicts where the dependent variable does vary.\n",
    "\n",
    "The general formula is given as:\n",
    "\n",
    "$\\xi(X, Y) := 1 - \\frac{n \\sum_{i=1}^{n-1} | r_{i+1} - r_{i}|}{2 \\sum_{i=1}^{n} l_i (n - l_i)}$\n",
    "\n",
    "n is just the total number of observations (equal to tp + fp + tn + fn). The $l_i$ and $r_i$ are ranks, the details of which are given both in [the paper](https://arxiv.org/pdf/1909.10140.pdf) and in the [reference R package](https://CRAN.R-project.org/package=XICOR). In particular, the r-s are y-ranks ordered by x, and the l-s are ranks of -y. In both cases \"max\" tie-breaking is used in computing ranks. xicor is itself a random variable under re-draws of permutations of dat with identical or tied x-values.\n",
    "\n",
    "## Specializing the new score to confusion matrices\n",
    "\n",
    "We can specialize xicor to confusion matrices.  To do this we write the expected value of the xicor.\n",
    "\n",
    "We first observe due to the max tie-breaking in the rank calculations we have:\n",
    "\n",
    "  * $r_{i}$ is always either tn + fp or n. So $r_{i+1} - r_{i}$ is always either 0 (when y-ranks match) or tp + fn (when the y-ranks do not match).\n",
    "  * $l_{i}$ is always either n or tp + fn, so n - li is always 0 or tn + fp.\n",
    "\n",
    "This lets us re-write xicor in this case as.\n",
    "\n",
    "$\\xi(X, Y) = 1 - \\frac{n \\sum_{i=1}^{n-1} \\chi(r_{i+1} == r_{i}) (tp + fn)}{2 (tp + fp) (tp + fp) (tn + fn)}$\n",
    "\n",
    "All we have done is replaced the denominator with the number of non-zero terms times their value, and introduced an indicator $\\chi(r_{i+1} == r_{i})$ defined to be 1 when its argument is true, and 0 otherwise. The details allowing this re-write come from both the paper and the reference R package. The point is, this form is easy to use when computing the expected value over permutations of the x-tied entries.\n",
    "\n",
    "Now we work out the probability $\\chi(r_{i+1} == r_{i}) == 1$ (also the expected value of $\\chi(r_{i+1} == r_{i})$). For the examples with x=0, we have tn examples with y=0 and fn examples with y=1. So the ranks match with probability 2 tn fn / (tn + fn)^2. So we can estimate the expected value of each term with x=0, and we just multiply by how many such terms to get their contribution. A similar argument estimate the x=1 terms.\n",
    "\n",
    "Putting all of this together gives us the following formula for xicor from a confusion matrix. Let's write this down in Python."
   ]
  },
  {
   "cell_type": "code",
   "execution_count": 1,
   "outputs": [
    {
     "data": {
      "text/plain": "    ⎛2⋅fn⋅tn⋅(fn + tp)   2⋅fp⋅tp⋅(fn + tp)⎞                    \n    ⎜───────────────── + ─────────────────⎟⋅(fn + fp + tn + tp)\n    ⎝     fn + tn             fp + tp     ⎠                    \n1 - ───────────────────────────────────────────────────────────\n                 (fn + tp)⋅(2⋅fn + 2⋅tp)⋅(fp + tn)             ",
      "image/png": "[encoded data removed]",
      "text/latex": "$\\displaystyle 1 - \\frac{\\left(\\frac{2 \\cdot fn \\cdot tn \\cdot \\left(fn + tp\\right)}{fn + tn} + \\frac{2 \\cdot fp \\cdot tp \\cdot \\left(fn + tp\\right)}{fp + tp}\\right) \\cdot \\left(fn + fp + tn + tp\\right)}{\\left(fn + tp\\right) \\cdot \\left(2 \\cdot fn + 2 \\cdot tp\\right) \\cdot \\left(fp + tn\\right)}$"
     },
     "execution_count": 1,
     "metadata": {},
     "output_type": "execute_result"
    }
   ],
   "source": [
    "import numpy\n",
    "import pandas\n",
    "\n",
    "from sympy import *\n",
    "init_printing(\n",
    "    use_latex=True,\n",
    "    mul_symbol='dot',\n",
    "    forecolor='Black',\n",
    "    euler=False)\n",
    "\n",
    "import seaborn as sns\n",
    "import matplotlib.pyplot as plt\n",
    "import xicor.xicor\n",
    "\n",
    "tp, fp, tn, fn = symbols('tp fp tn fn')\n",
    "xi_cor_estimate = (\n",
    "    1 - (tp + fp + tn + fn) * (\n",
    "        (tn + fn) * (tp + fn) * 2 * tn * fn / (tn + fn)**2\n",
    "        + (tp + fp) * (tp + fn) * 2 * tp * fp / (tp + fp)**2\n",
    "    ) / (2 * (tp + fn) * (tn + fp) * (tp + fn))\n",
    ")\n",
    "\n",
    "xi_cor_estimate"
   ],
   "metadata": {
    "collapsed": false,
    "pycharm": {
     "name": "#%%\n"
    }
   }
  },
  {
   "cell_type": "markdown",
   "source": [
    "We can re-arrange terms to get a neater factored form:"
   ],
   "metadata": {
    "collapsed": false,
    "pycharm": {
     "name": "#%% md\n"
    }
   }
  },
  {
   "cell_type": "code",
   "execution_count": 2,
   "outputs": [
    {
     "data": {
      "text/plain": "                           2           \n           (-fn⋅fp + tn⋅tp)            \n───────────────────────────────────────\n(fn + tn)⋅(fn + tp)⋅(fp + tn)⋅(fp + tp)",
      "image/png": "[encoded data removed]",
      "text/latex": "$\\displaystyle \\frac{\\left(- fn \\cdot fp + tn \\cdot tp\\right)^{2}}{\\left(fn + tn\\right) \\cdot \\left(fn + tp\\right) \\cdot \\left(fp + tn\\right) \\cdot \\left(fp + tp\\right)}$"
     },
     "execution_count": 2,
     "metadata": {},
     "output_type": "execute_result"
    }
   ],
   "source": [
    "# neater arrangement of the formula\n",
    "xicor_formula = (\n",
    "    (tn * tp - fn * fp)**2 / ((fn + tn)*(fn + tp)*(fp + tn)*(fp + tp))\n",
    ")\n",
    "\n",
    "xicor_formula"
   ],
   "metadata": {
    "collapsed": false,
    "pycharm": {
     "name": "#%%\n"
    }
   }
  },
  {
   "cell_type": "markdown",
   "source": [
    "In this form we see a lot of structure and symmetries. Notice it is the square of the determinant of the confusion matrix, re-normalized by the product of all of the row and column totals. Using the determinant of the confusion matrix as a measure has some precedent ([1](https://journals.sagepub.com/doi/10.1177/001316446002000104), [2](https://www.kci.go.kr/kciportal/ci/sereArticleSearch/ciSereArtiView.kci?sereArticleSearchBean.artiId=ART002632929), [3](http://ceur-ws.org/Vol-1314/paper-05.pdf), [4](https://www.google.com/books/edition/Binary_and_Multiclass_Classification/XTuTAgAAQBAJ?hl=en&gbpv=1&dq=determinant+of+confusion+matrix+google+books&pg=PA115&printsec=frontcover)).\n",
    "\n",
    "We do have to keep in mind, the formula is only valid where we have not eliminated any terms evaluating to zero.\n",
    "\n",
    "This is an unusual summary of the confusion matrix. For it appears to be the ratio of two degree 4 polynomials. Most common correspondence scores (such as those mentioned [here](https://win-vector.com/2016/07/21/a-budget-of-classifier-evaluation-measures/)) are ratios of degree 1 or degree 2 polynomials.\n",
    "\n",
    "Let's confirm this formula is the same form we derived."
   ],
   "metadata": {
    "collapsed": false,
    "pycharm": {
     "name": "#%% md\n"
    }
   }
  },
  {
   "cell_type": "code",
   "source": [
    "# confirm equivalent, should be 0\n",
    "\n",
    "formula_diff = (xi_cor_estimate - xicor_formula).simplify()\n",
    "assert formula_diff == 0\n",
    "formula_diff\n"
   ],
   "metadata": {
    "collapsed": false,
    "pycharm": {
     "name": "#%%\n"
    }
   },
   "execution_count": 3,
   "outputs": [
    {
     "data": {
      "text/plain": "0",
      "image/png": "[encoded data removed]",
      "text/latex": "$\\displaystyle 0$"
     },
     "execution_count": 3,
     "metadata": {},
     "output_type": "execute_result"
    }
   ]
  },
  {
   "cell_type": "code",
   "execution_count": 4,
   "outputs": [],
   "source": [
    "# wrapr our formula as a function\n",
    "def xicor_rat_fn(*, tp_c, fp_c, tn_c, fn_c):\n",
    "    \"\"\"\n",
    "    Estimate expected value of xicor using rational function.\n",
    "\n",
    "    :param tp_c: true positive count\n",
    "    :param fp_c: false positive count\n",
    "    :param tn_c: true negative count\n",
    "    :param fn_c: false negative count\n",
    "    :return: xicor correlation\n",
    "    \"\"\"\n",
    "\n",
    "    return xicor_formula.subs({tp: tp_c, tn: tn_c, fp: fp_c, fn: fn_c})"
   ],
   "metadata": {
    "collapsed": false,
    "pycharm": {
     "name": "#%%\n"
    }
   }
  },
  {
   "cell_type": "markdown",
   "source": [
    "We can work some examples. We first compare our rational function to a Python implementation of xicor (note, this implementation is not by the original authors).\n"
   ],
   "metadata": {
    "collapsed": false
   }
  },
  {
   "cell_type": "code",
   "execution_count": 5,
   "outputs": [],
   "source": [
    "# define xicor as a function, so we have something to compare to\n",
    "def xicor_fn(*, tp_c: int, fp_c: int, tn_c: int, fn_c: int, n_reps:int = 100):\n",
    "    \"\"\"\n",
    "    Define xicor as a function of observed counts.\n",
    "\n",
    "    :param tp_c: true positive count\n",
    "    :param fp_c: false positive count\n",
    "    :param tn_c: true negative count\n",
    "    :param fn_c: false negative count\n",
    "    :param n_reps: sample size to estimate means\n",
    "    :return: estimated expected xicor correlation\n",
    "    \"\"\"\n",
    "    assert tp_c >= 0\n",
    "    assert fp_c >= 0\n",
    "    assert tn_c >= 0\n",
    "    assert fn_c >= 0\n",
    "    assert tp_c + fn_c > 0  # y has positive examples\n",
    "    assert tn_c + fp_c > 0  # y has negative examples\n",
    "    x = [1] * tp_c + [1] * fp_c + [0] * tn_c + [0] * fn_c\n",
    "    y = [1] * tp_c + [0] * fp_c + [0] * tn_c + [1] * fn_c\n",
    "    evals = [xicor.xicor.Xi(x, y).correlation for rep in range(n_reps)]\n",
    "    return numpy.mean(evals)"
   ],
   "metadata": {
    "collapsed": false,
    "pycharm": {
     "name": "#%%\n"
    }
   }
  },
  {
   "cell_type": "code",
   "execution_count": 6,
   "outputs": [
    {
     "data": {
      "text/plain": "0.4155844155844156",
      "image/png": "[encoded data removed]",
      "text/latex": "$\\displaystyle 0.415584415584416$"
     },
     "execution_count": 6,
     "metadata": {},
     "output_type": "execute_result"
    }
   ],
   "source": [
    "# work some examples\n",
    "\n",
    "float(xicor_rat_fn(tp_c=100, fp_c=10, tn_c=50, fn_c=20))"
   ],
   "metadata": {
    "collapsed": false,
    "pycharm": {
     "name": "#%%\n"
    }
   }
  },
  {
   "cell_type": "code",
   "execution_count": 7,
   "outputs": [
    {
     "data": {
      "text/plain": "0.4125",
      "image/png": "[encoded data removed]",
      "text/latex": "$\\displaystyle 0.4125$"
     },
     "execution_count": 7,
     "metadata": {},
     "output_type": "execute_result"
    }
   ],
   "source": [
    "xicor_fn(tp_c=100, fp_c=10, tn_c=50, fn_c=20)"
   ],
   "metadata": {
    "collapsed": false,
    "pycharm": {
     "name": "#%%\n"
    }
   }
  },
  {
   "cell_type": "markdown",
   "source": [
    "We can plot some examples confiming the rational funciton agrees with the Python xicor implementation."
   ],
   "metadata": {
    "collapsed": false
   }
  },
  {
   "cell_type": "code",
   "execution_count": 8,
   "outputs": [],
   "source": [
    "# plot some examples\n",
    "def mk_ints():\n",
    "    return numpy.random.choice(100, size=20, replace=True) + 1\n",
    "\n",
    "examples = pandas.DataFrame({\n",
    "    'tp_c': mk_ints(),\n",
    "    'fp_c': mk_ints(),\n",
    "    'tn_c': mk_ints(),\n",
    "    'fn_c': mk_ints(),\n",
    "    'xicor_estimate': 0.0,\n",
    "    'xicor_rational_fn' : 0.0,\n",
    "})\n",
    "\n",
    "for i in range(examples.shape[0]):\n",
    "    tp_c = examples['tp_c'].values[i]\n",
    "    fp_c = examples['fp_c'].values[i]\n",
    "    tn_c = examples['tn_c'].values[i]\n",
    "    fn_c = examples['fn_c'].values[i]\n",
    "    examples.loc[i, 'xicor_estimate'] = xicor_fn(tp_c=tp_c, fp_c=fp_c, tn_c=tn_c, fn_c=fn_c)\n",
    "    examples.loc[i, 'xicor_rational_fn'] = float(xicor_rat_fn(tp_c=tp_c, fp_c=fp_c, tn_c=tn_c, fn_c=fn_c))"
   ],
   "metadata": {
    "collapsed": false,
    "pycharm": {
     "name": "#%%\n"
    }
   }
  },
  {
   "cell_type": "code",
   "execution_count": 9,
   "outputs": [
    {
     "data": {
      "text/plain": "<Figure size 432x288 with 1 Axes>",
      "image/png": "[encoded data removed]"
     },
     "metadata": {
      "needs_background": "light"
     },
     "output_type": "display_data"
    }
   ],
   "source": [
    "ax = sns.scatterplot(data=examples, x='xicor_rational_fn', y='xicor_estimate')\n",
    "mx = max(numpy.max(examples['xicor_rational_fn']), numpy.max(examples['xicor_estimate']))\n",
    "plt.plot([0, mx], [0, mx], color='b', alpha=0.5)\n",
    "ax.set_title(\"empirically estimated xicor as function of rational approximation\")\n",
    "plt.show()"
   ],
   "metadata": {
    "collapsed": false,
    "pycharm": {
     "name": "#%%\n"
    }
   }
  },
  {
   "cell_type": "markdown",
   "source": [
    "Remember, the actual xicor calculation is computing an expected value of a non-constant random variable. So there is variation in the xicor score, thus no deterministic function can perfectly individual values. However, it is the expected value of xicor that is of interest, not the values of individual data permutations, so the ration function in fact useful and reliable.\n",
    "\n",
    "We can confirm many symmetries of the rational function."
   ],
   "metadata": {
    "collapsed": false
   }
  },
  {
   "cell_type": "code",
   "execution_count": 10,
   "outputs": [],
   "source": [
    "# check symmetries\n",
    "a, b, c, d, s = symbols('a b c d s')\n"
   ],
   "metadata": {
    "collapsed": false,
    "pycharm": {
     "name": "#%%\n"
    }
   }
  },
  {
   "cell_type": "code",
   "execution_count": 11,
   "outputs": [
    {
     "data": {
      "text/plain": "0",
      "image/png": "[encoded data removed]",
      "text/latex": "$\\displaystyle 0$"
     },
     "execution_count": 11,
     "metadata": {},
     "output_type": "execute_result"
    }
   ],
   "source": [
    "# gets independent case right (should equal 0)\n",
    "indep_check = xicor_rat_fn(tp_c=s*a, fp_c=s*b, tn_c=b, fn_c=a).simplify()\n",
    "assert indep_check == 0\n",
    "indep_check"
   ],
   "metadata": {
    "collapsed": false,
    "pycharm": {
     "name": "#%%\n"
    }
   }
  },
  {
   "cell_type": "code",
   "execution_count": 12,
   "outputs": [
    {
     "data": {
      "text/plain": "1",
      "image/png": "[encoded data removed]",
      "text/latex": "$\\displaystyle 1$"
     },
     "execution_count": 12,
     "metadata": {},
     "output_type": "execute_result"
    }
   ],
   "source": [
    "# gets perfect case right (should be 1)\n",
    "perfect_check = xicor_rat_fn(tp_c=a, fp_c=0, tn_c=c, fn_c=0).simplify()\n",
    "assert perfect_check == 1\n",
    "perfect_check"
   ],
   "metadata": {
    "collapsed": false,
    "pycharm": {
     "name": "#%%\n"
    }
   }
  },
  {
   "cell_type": "code",
   "execution_count": 13,
   "outputs": [
    {
     "data": {
      "text/plain": "0",
      "image/png": "[encoded data removed]",
      "text/latex": "$\\displaystyle 0$"
     },
     "execution_count": 13,
     "metadata": {},
     "output_type": "execute_result"
    }
   ],
   "source": [
    "\n",
    "# scale invariant (should equal 0)\n",
    "scale_check = (\n",
    "    xicor_rat_fn(tp_c=a, fp_c=b, tn_c=c, fn_c=d)\n",
    "    - xicor_rat_fn(tp_c=s*a, fp_c=s*b, tn_c=s*c, fn_c=s*d)\n",
    ").simplify()\n",
    "assert scale_check == 0\n",
    "scale_check\n"
   ],
   "metadata": {
    "collapsed": false,
    "pycharm": {
     "name": "#%%\n"
    }
   }
  },
  {
   "cell_type": "code",
   "execution_count": 14,
   "outputs": [
    {
     "data": {
      "text/plain": "0",
      "image/png": "[encoded data removed]",
      "text/latex": "$\\displaystyle 0$"
     },
     "execution_count": 14,
     "metadata": {},
     "output_type": "execute_result"
    }
   ],
   "source": [
    "# gets flipping y right (should equal 0)\n",
    "y_flip_check = (\n",
    "    xicor_rat_fn(tp_c=a, fp_c=b, tn_c=c, fn_c=d)\n",
    "    - xicor_rat_fn(tp_c=b, fp_c=a, tn_c=d, fn_c=c)\n",
    ").simplify()\n",
    "assert y_flip_check == 0\n",
    "y_flip_check"
   ],
   "metadata": {
    "collapsed": false,
    "pycharm": {
     "name": "#%%\n"
    }
   }
  },
  {
   "cell_type": "code",
   "execution_count": 15,
   "outputs": [
    {
     "data": {
      "text/plain": "0",
      "image/png": "[encoded data removed]",
      "text/latex": "$\\displaystyle 0$"
     },
     "execution_count": 15,
     "metadata": {},
     "output_type": "execute_result"
    }
   ],
   "source": [
    "# gets flipping x right (should equal 0)\n",
    "x_flip_check = (\n",
    "    xicor_rat_fn(tp_c=a, fp_c=b, tn_c=c, fn_c=d)\n",
    "    - xicor_rat_fn(tp_c=c, fp_c=d, tn_c=a, fn_c=b)\n",
    ").simplify()\n",
    "assert x_flip_check == 0\n",
    "x_flip_check"
   ],
   "metadata": {
    "collapsed": false,
    "pycharm": {
     "name": "#%%\n"
    }
   }
  },
  {
   "cell_type": "code",
   "execution_count": 16,
   "outputs": [
    {
     "data": {
      "text/plain": "0",
      "image/png": "[encoded data removed]",
      "text/latex": "$\\displaystyle 0$"
     },
     "execution_count": 16,
     "metadata": {},
     "output_type": "execute_result"
    }
   ],
   "source": [
    "# doesn't care if false positives and false negatives are reversed (equals 0)\n",
    "error_flip_check = (\n",
    "    xicor_rat_fn(tp_c=a, fp_c=b, tn_c=c, fn_c=d)\n",
    "    - xicor_rat_fn(tp_c=a, fp_c=d, tn_c=c, fn_c=b)\n",
    ").simplify()\n",
    "assert error_flip_check == 0\n",
    "error_flip_check\n"
   ],
   "metadata": {
    "collapsed": false,
    "pycharm": {
     "name": "#%%\n"
    }
   }
  },
  {
   "cell_type": "code",
   "execution_count": 17,
   "outputs": [
    {
     "data": {
      "text/plain": "-5/42",
      "image/png": "[encoded data removed]",
      "text/latex": "$\\displaystyle - \\frac{5}{42}$"
     },
     "execution_count": 17,
     "metadata": {},
     "output_type": "execute_result"
    }
   ],
   "source": [
    "# is asymmetric in x and y (doesn't identically equal 0)\n",
    "asym_check = (\n",
    "    xicor_rat_fn(tp_c=a, fp_c=b, tn_c=c, fn_c=d)\n",
    "    - xicor_rat_fn(tp_c=a, fp_c=c, tn_c=b, fn_c=d)\n",
    ").subs({a: 1, b: 2, c: 3, d:4})\n",
    "assert not asym_check == 0\n",
    "asym_check"
   ],
   "metadata": {
    "collapsed": false,
    "pycharm": {
     "name": "#%%\n"
    }
   }
  },
  {
   "cell_type": "markdown",
   "source": [
    "The form of the xicor rational function makes obvious some of the know properties of the expected value of the xicor estimator.\n",
    "\n",
    "In particular, we can see the expected is always non-negative (for non-negative arguments and when well defined). This is nice to confirm, as individual original xicor calculations can be negative.\n",
    "\n",
    "We can also confirm the xicor ration function never exceeds 1. We show this, by showing numerator subtracted from the denominator can be written as terms that are all non-negative for non-negative inputs."
   ],
   "metadata": {
    "collapsed": false,
    "pycharm": {
     "name": "#%% md\n"
    }
   }
  },
  {
   "cell_type": "code",
   "execution_count": 18,
   "outputs": [],
   "source": [
    "num, den = fraction(xicor_formula)"
   ],
   "metadata": {
    "collapsed": false,
    "pycharm": {
     "name": "#%%\n"
    }
   }
  },
  {
   "cell_type": "code",
   "execution_count": 19,
   "outputs": [
    {
     "data": {
      "text/plain": "                2\n(-fn⋅fp + tn⋅tp) ",
      "image/png": "[encoded data removed]",
      "text/latex": "$\\displaystyle \\left(- fn \\cdot fp + tn \\cdot tp\\right)^{2}$"
     },
     "execution_count": 19,
     "metadata": {},
     "output_type": "execute_result"
    }
   ],
   "source": [
    "num"
   ],
   "metadata": {
    "collapsed": false,
    "pycharm": {
     "name": "#%%\n"
    }
   }
  },
  {
   "cell_type": "code",
   "execution_count": 20,
   "outputs": [
    {
     "data": {
      "text/plain": "(fn + tn)⋅(fn + tp)⋅(fp + tn)⋅(fp + tp)",
      "image/png": "[encoded data removed]",
      "text/latex": "$\\displaystyle \\left(fn + tn\\right) \\cdot \\left(fn + tp\\right) \\cdot \\left(fp + tn\\right) \\cdot \\left(fp + tp\\right)$"
     },
     "execution_count": 20,
     "metadata": {},
     "output_type": "execute_result"
    }
   ],
   "source": [
    "den"
   ],
   "metadata": {
    "collapsed": false,
    "pycharm": {
     "name": "#%%\n"
    }
   }
  },
  {
   "cell_type": "code",
   "execution_count": 21,
   "outputs": [
    {
     "data": {
      "text/plain": "'fn**2*fp*tn + fn**2*fp*tp + fn**2*tn*tp + fn*fp**2*tn + fn*fp**2*tp + fn*fp*tn**2 + 4*fn*fp*tn*tp + fn*fp*tp**2 + fn*tn**2*tp + fn*tn*tp**2 + fp**2*tn*tp + fp*tn**2*tp + fp*tn*tp**2'"
     },
     "execution_count": 21,
     "metadata": {},
     "output_type": "execute_result"
    }
   ],
   "source": [
    "diff_str = str((den - num).expand().simplify())\n",
    "assert '-' not in diff_str\n",
    "diff_str"
   ],
   "metadata": {
    "collapsed": false,
    "pycharm": {
     "name": "#%%\n"
    }
   }
  },
  {
   "cell_type": "markdown",
   "source": [
    "Notice, as claimed, all the terms here are non-negative contributions.\n",
    "\n",
    "## Conclusion\n",
    "\n",
    "The expected value (under permutations $$\\pi$$ of indices such that $$X_{\\pi} = X$$, where $$X$$ is denoting the vector of explanatory variable observations) of the xicor estimator can be specialized to confusion matrices as:\n",
    "\n",
    "$$\\text{E}_{\\pi: X_{\\pi} = X}[\\xi(X_{\\pi}, Y_{\\pi})] = \\frac{ \\begin{array}{|cc|} fn & tp \\\\ tn & fp \\\\ \\end{array}^2 }{\\left(fn + tn\\right)  \\left(fn + tp\\right) \\left(fp + tn\\right)  \\left(fp + tp\\right)}$$\n",
    "\n",
    "This form makes a number of the expected symmetries of the expected value of the estimator obvious. It is a renormalization of the square of the determinant of the confusion matrix. It makes sense that the determinant is a measure of diagonal or anti-diagonal mass in a 2 by 2 matrix. It also suggests a possible interpretation as score as a change of variables or Jacobian of some other form.\n",
    "\n",
    "It is also possible this is a practical tool in evaluating how well one categorical variable predicts another.\n",
    "\n",
    "\n",
    "## Further discussion\n",
    "\n",
    "### Correlation versus R-squared\n",
    "\n",
    "xicor in form looks more like an R-squared than a correlation. This hints that an appropriate square-root would serve the role of a correlation.\n",
    "\n",
    "A possible application of xicor is scoring many proposed explanatory variables against a fixed dependent variable. In this case the terms that depend on the dependent variable alone (fp + tn, and fn + tp) can be assumed out. This would let us re-factor a square root of xicor as:\n",
    "\n",
    "$$\\text{E}_{\\pi: X_{\\pi} = X}[\\sqrt{\\xi}(X_{\\pi}, Y_{\\pi})] = \\frac{ \\begin{array}{|cc|} fn & tp \\\\ tn & fp \\\\ \\end{array} }{\\sqrt{\\left(fn + tn\\right) \\left(fp + tp\\right)}} c_y$$\n",
    "\n",
    "(cy just being one over sqrt((fp + tn)(fn + tp))).\n",
    "\n",
    "### Cohen's \"A coefficient of agreement for nominal scales\"\n",
    "\n",
    "From [Warrens, M. (2008). \"On similarity coefficients for 2× 2 tables and correction for chance\" Psychometrika, 73(3), 487–502](https://www.researchgate.net/publication/24063719_On_Similarity_Coefficients_for_22_Tables_and_Correction_for_Chance) the closest meaasure to xicor we see is [Cohen, J. (1960) \"A coefficient of agreement for nominal scales\" Educational and Psychological Measurement, 20,\n",
    "37–46](https://journals.sagepub.com/doi/10.1177/001316446002000104).\n",
    "\n",
    "Warrens defines this as either of (as prediction and truth are interchangeable for evaluating scorer correspondence, however Cohen's score is already symmetric in roles, so this is a superficial distinction):"
   ],
   "metadata": {
    "collapsed": false,
    "pycharm": {
     "name": "#%% md\n"
    }
   }
  },
  {
   "cell_type": "code",
   "execution_count": 22,
   "outputs": [],
   "source": [
    "def cohen_c(*, a, b, c, d):\n",
    "    p1 = a + b\n",
    "    q1 = c + d\n",
    "    p2 = a + c\n",
    "    q2 = b + d\n",
    "    return 2*(a*d - b*c) / (p1*q2 + p2*q1)"
   ],
   "metadata": {
    "collapsed": false,
    "pycharm": {
     "name": "#%%\n"
    }
   }
  },
  {
   "cell_type": "markdown",
   "source": [
    "(Technically Warrens defines this for proportions, not counts, but we use the fact that this form is homogeneous allows us to skip such a distinction.)"
   ],
   "metadata": {
    "collapsed": false,
    "pycharm": {
     "name": "#%% md\n"
    }
   }
  },
  {
   "cell_type": "code",
   "execution_count": 23,
   "outputs": [
    {
     "data": {
      "text/plain": "            2⋅fn⋅fp - 2⋅tn⋅tp            \n─────────────────────────────────────────\n(fn + tn)⋅(fp + tn) + (fn + tp)⋅(fp + tp)",
      "image/png": "[encoded data removed]",
      "text/latex": "$\\displaystyle \\frac{2 \\cdot fn \\cdot fp - 2 \\cdot tn \\cdot tp}{\\left(fn + tn\\right) \\cdot \\left(fp + tn\\right) + \\left(fn + tp\\right) \\cdot \\left(fp + tp\\right)}$"
     },
     "execution_count": 23,
     "metadata": {},
     "output_type": "execute_result"
    }
   ],
   "source": [
    "s_Cohen_1 = cohen_c(a=fn, b=tp, c=tn, d=fp)\n",
    "\n",
    "s_Cohen_1"
   ],
   "metadata": {
    "collapsed": false,
    "pycharm": {
     "name": "#%%\n"
    }
   }
  },
  {
   "cell_type": "code",
   "execution_count": 24,
   "outputs": [
    {
     "data": {
      "text/plain": "            2⋅fn⋅fp - 2⋅tn⋅tp            \n─────────────────────────────────────────\n(fn + tn)⋅(fp + tn) + (fn + tp)⋅(fp + tp)",
      "image/png": "[encoded data removed]",
      "text/latex": "$\\displaystyle \\frac{2 \\cdot fn \\cdot fp - 2 \\cdot tn \\cdot tp}{\\left(fn + tn\\right) \\cdot \\left(fp + tn\\right) + \\left(fn + tp\\right) \\cdot \\left(fp + tp\\right)}$"
     },
     "execution_count": 24,
     "metadata": {},
     "output_type": "execute_result"
    }
   ],
   "source": [
    "s_Cohen_2 = cohen_c(a=fn, b=tn, c=tp, d=fp)\n",
    "\n",
    "s_Cohen_2"
   ],
   "metadata": {
    "collapsed": false,
    "pycharm": {
     "name": "#%%\n"
    }
   }
  },
  {
   "cell_type": "code",
   "execution_count": 25,
   "outputs": [
    {
     "data": {
      "text/plain": "0",
      "image/png": "[encoded data removed]",
      "text/latex": "$\\displaystyle 0$"
     },
     "execution_count": 25,
     "metadata": {},
     "output_type": "execute_result"
    }
   ],
   "source": [
    "(s_Cohen_1 - s_Cohen_2).expand().simplify()\n",
    "\n"
   ],
   "metadata": {
    "collapsed": false,
    "pycharm": {
     "name": "#%%\n"
    }
   }
  },
  {
   "cell_type": "code",
   "source": [
    "xicor_formula\n"
   ],
   "metadata": {
    "collapsed": false,
    "pycharm": {
     "name": "#%%\n"
    }
   },
   "execution_count": 26,
   "outputs": [
    {
     "data": {
      "text/plain": "                           2           \n           (-fn⋅fp + tn⋅tp)            \n───────────────────────────────────────\n(fn + tn)⋅(fn + tp)⋅(fp + tn)⋅(fp + tp)",
      "image/png": "[encoded data removed]",
      "text/latex": "$\\displaystyle \\frac{\\left(- fn \\cdot fp + tn \\cdot tp\\right)^{2}}{\\left(fn + tn\\right) \\cdot \\left(fn + tp\\right) \\cdot \\left(fp + tn\\right) \\cdot \\left(fp + tp\\right)}$"
     },
     "execution_count": 26,
     "metadata": {},
     "output_type": "execute_result"
    }
   ]
  },
  {
   "cell_type": "code",
   "execution_count": 27,
   "outputs": [
    {
     "data": {
      "text/plain": "                              2             \n             4⋅(fn⋅fp - tn⋅tp)              \n────────────────────────────────────────────\n                                           2\n((fn + tn)⋅(fp + tn) + (fn + tp)⋅(fp + tp)) ",
      "image/png": "[encoded data removed]",
      "text/latex": "$\\displaystyle \\frac{4 \\cdot \\left(fn \\cdot fp - tn \\cdot tp\\right)^{2}}{\\left(\\left(fn + tn\\right) \\cdot \\left(fp + tn\\right) + \\left(fn + tp\\right) \\cdot \\left(fp + tp\\right)\\right)^{2}}$"
     },
     "execution_count": 27,
     "metadata": {},
     "output_type": "execute_result"
    }
   ],
   "source": [
    "Cohen_sym = (s_Cohen_1 * s_Cohen_2).simplify()\n",
    "\n",
    "Cohen_sym"
   ],
   "metadata": {
    "collapsed": false,
    "pycharm": {
     "name": "#%%\n"
    }
   }
  },
  {
   "cell_type": "code",
   "execution_count": 28,
   "outputs": [
    {
     "data": {
      "text/plain": "                                           2\n((fn + tn)⋅(fp + tn) + (fn + tp)⋅(fp + tp)) \n────────────────────────────────────────────\n 4⋅(fn + tn)⋅(fn + tp)⋅(fp + tn)⋅(fp + tp)  ",
      "image/png": "[encoded data removed]",
      "text/latex": "$\\displaystyle \\frac{\\left(\\left(fn + tn\\right) \\cdot \\left(fp + tn\\right) + \\left(fn + tp\\right) \\cdot \\left(fp + tp\\right)\\right)^{2}}{4 \\cdot \\left(fn + tn\\right) \\cdot \\left(fn + tp\\right) \\cdot \\left(fp + tn\\right) \\cdot \\left(fp + tp\\right)}$"
     },
     "execution_count": 28,
     "metadata": {},
     "output_type": "execute_result"
    }
   ],
   "source": [
    "(xicor_formula / Cohen_sym).simplify()"
   ],
   "metadata": {
    "collapsed": false,
    "pycharm": {
     "name": "#%%\n"
    }
   }
  },
  {
   "cell_type": "markdown",
   "source": [
    "The observation being, these differ in ratio only by a function of the table margins alone (row and column totals).\n",
    "\n",
    "### Consistency of score\n",
    "\n",
    "We can check if the xicor score is consistent with a partial order on confusion matrices. That is we say a confusion matrix A is >= than a confusion matrix B iff tp(A) >= tp(B), tn(A) >= tn(B), fp(A) <= fp(B), and fn(A) <= fn(B). This is only a partial order, we don't have the total property that one always has (A>=B) or (B>=A).\n",
    "\n",
    "Let's call a score consistent if A >= B implies score(A) >= score(B). It at first superficially appears the xicor score is not consistent. We can look for a counter example using the derivative of the score. However, once we find the example- it is can be argued the score is right, and the consistency invariant is not supportable."
   ],
   "metadata": {
    "collapsed": false,
    "pycharm": {
     "name": "#%% md\n"
    }
   }
  },
  {
   "cell_type": "code",
   "execution_count": 29,
   "outputs": [
    {
     "data": {
      "text/plain": "-(fn⋅fp - tn⋅tp)⋅(2⋅tn⋅(fn + tp)⋅(fp + tp) + (fn + tp)⋅(fn⋅fp - tn⋅tp) + (fp +\n──────────────────────────────────────────────────────────────────────────────\n                                                2                    2        \n                             (fn + tn)⋅(fn + tp) ⋅(fp + tn)⋅(fp + tp)         \n\n tp)⋅(fn⋅fp - tn⋅tp)) \n──────────────────────\n                      \n                      ",
      "image/png": "[encoded data removed]",
      "text/latex": "$\\displaystyle - \\frac{\\left(fn \\cdot fp - tn \\cdot tp\\right) \\cdot \\left(2 \\cdot tn \\cdot \\left(fn + tp\\right) \\cdot \\left(fp + tp\\right) + \\left(fn + tp\\right) \\cdot \\left(fn \\cdot fp - tn \\cdot tp\\right) + \\left(fp + tp\\right) \\cdot \\left(fn \\cdot fp - tn \\cdot tp\\right)\\right)}{\\left(fn + tn\\right) \\cdot \\left(fn + tp\\right)^{2} \\cdot \\left(fp + tn\\right) \\cdot \\left(fp + tp\\right)^{2}}$"
     },
     "execution_count": 29,
     "metadata": {},
     "output_type": "execute_result"
    }
   ],
   "source": [
    "d_xicor_d_tp = diff(xicor_formula, tp).simplify()\n",
    "\n",
    "d_xicor_d_tp"
   ],
   "metadata": {
    "collapsed": false,
    "pycharm": {
     "name": "#%%\n"
    }
   }
  },
  {
   "cell_type": "code",
   "execution_count": 30,
   "outputs": [],
   "source": [
    "num, den = fraction(d_xicor_d_tp)"
   ],
   "metadata": {
    "collapsed": false,
    "pycharm": {
     "name": "#%%\n"
    }
   }
  },
  {
   "cell_type": "code",
   "execution_count": 31,
   "outputs": [
    {
     "data": {
      "text/plain": "-(fn⋅fp - tn⋅tp)⋅(2⋅tn⋅(fn + tp)⋅(fp + tp) + (fn + tp)⋅(fn⋅fp - tn⋅tp) + (fp +\n tp)⋅(fn⋅fp - tn⋅tp))",
      "image/png": "[encoded data removed]",
      "text/latex": "$\\displaystyle - \\left(fn \\cdot fp - tn \\cdot tp\\right) \\cdot \\left(2 \\cdot tn \\cdot \\left(fn + tp\\right) \\cdot \\left(fp + tp\\right) + \\left(fn + tp\\right) \\cdot \\left(fn \\cdot fp - tn \\cdot tp\\right) + \\left(fp + tp\\right) \\cdot \\left(fn \\cdot fp - tn \\cdot tp\\right)\\right)$"
     },
     "execution_count": 31,
     "metadata": {},
     "output_type": "execute_result"
    }
   ],
   "source": [
    "num"
   ],
   "metadata": {
    "collapsed": false,
    "pycharm": {
     "name": "#%%\n"
    }
   }
  },
  {
   "cell_type": "code",
   "execution_count": 32,
   "outputs": [
    {
     "data": {
      "text/plain": "                   2                    2\n(fn + tn)⋅(fn + tp) ⋅(fp + tn)⋅(fp + tp) ",
      "image/png": "[encoded data removed]",
      "text/latex": "$\\displaystyle \\left(fn + tn\\right) \\cdot \\left(fn + tp\\right)^{2} \\cdot \\left(fp + tn\\right) \\cdot \\left(fp + tp\\right)^{2}$"
     },
     "execution_count": 32,
     "metadata": {},
     "output_type": "execute_result"
    }
   ],
   "source": [
    "den"
   ],
   "metadata": {
    "collapsed": false,
    "pycharm": {
     "name": "#%%\n"
    }
   }
  },
  {
   "cell_type": "code",
   "execution_count": 33,
   "outputs": [
    {
     "data": {
      "text/plain": "    2           2                                                \n- fn ⋅fp - fn⋅fp  - 2⋅fn⋅fp⋅tn - 2⋅fn⋅fp⋅tp - fn⋅tn⋅tp - fp⋅tn⋅tp",
      "image/png": "[encoded data removed]",
      "text/latex": "$\\displaystyle - fn^{2} \\cdot fp - fn \\cdot fp^{2} - 2 \\cdot fn \\cdot fp \\cdot tn - 2 \\cdot fn \\cdot fp \\cdot tp - fn \\cdot tn \\cdot tp - fp \\cdot tn \\cdot tp$"
     },
     "execution_count": 33,
     "metadata": {},
     "output_type": "execute_result"
    }
   ],
   "source": [
    "(num.simplify() / (fn * fp  - tn * tp)).expand()"
   ],
   "metadata": {
    "collapsed": false,
    "pycharm": {
     "name": "#%%\n"
    }
   }
  },
  {
   "cell_type": "markdown",
   "source": [
    "All the remaining terms have the same sign. This implies the sign(d(E[xicor])/d(tp)) = sign(tn * tp - fn * fp).  So if fn * fp > tn * tp, then increasing the true positive count *lowers* the expected score.\n",
    "\n",
    "Let's try that with an example."
   ],
   "metadata": {
    "collapsed": false,
    "pycharm": {
     "name": "#%% md\n"
    }
   }
  },
  {
   "cell_type": "code",
   "execution_count": 34,
   "outputs": [
    {
     "data": {
      "text/plain": " 81\n───\n121",
      "image/png": "[encoded data removed]",
      "text/latex": "$\\displaystyle \\frac{81}{121}$"
     },
     "execution_count": 34,
     "metadata": {},
     "output_type": "execute_result"
    }
   ],
   "source": [
    "tp_1 = 10\n",
    "tn_1 = 10\n",
    "fp_1 = 100\n",
    "fn_1 = 100\n",
    "\n",
    "x_1 = xicor_rat_fn(tp_c=tp_1, fp_c=fp_1, tn_c=tn_1, fn_c=fn_1)\n",
    "x_1\n"
   ],
   "metadata": {
    "collapsed": false,
    "pycharm": {
     "name": "#%%\n"
    }
   }
  },
  {
   "cell_type": "code",
   "execution_count": 35,
   "outputs": [
    {
     "data": {
      "text/plain": "289\n───\n483",
      "image/png": "[encoded data removed]",
      "text/latex": "$\\displaystyle \\frac{289}{483}$"
     },
     "execution_count": 35,
     "metadata": {},
     "output_type": "execute_result"
    }
   ],
   "source": [
    "tp_2 = 15\n",
    "tn_2 = 10\n",
    "fp_2 = 100\n",
    "fn_2 = 95\n",
    "\n",
    "x_2 = xicor_rat_fn(tp_c=tp_2, fp_c=fp_2, tn_c=tn_2, fn_c=fn_2)\n",
    "x_2"
   ],
   "metadata": {
    "collapsed": false,
    "pycharm": {
     "name": "#%%\n"
    }
   }
  },
  {
   "cell_type": "code",
   "execution_count": 36,
   "outputs": [
    {
     "data": {
      "text/plain": "True",
      "image/png": "[encoded data removed]",
      "text/latex": "$\\displaystyle \\text{True}$"
     },
     "execution_count": 36,
     "metadata": {},
     "output_type": "execute_result"
    }
   ],
   "source": [
    "x_1 > x_2"
   ],
   "metadata": {
    "collapsed": false,
    "pycharm": {
     "name": "#%%\n"
    }
   }
  },
  {
   "cell_type": "markdown",
   "source": [
    "This is a contrary indication; we have score improving on a worse result.  The _2 confusion matrix is better than the _1 confusion matrix, as they differ only by moving some false negatives to true positives. Yet the _2 confusion matrix scores below the _1 confusion matrix.\n",
    "\n",
    "\n",
    "Let's see if this is actually a property of the xicor, and not just an artifact of the formula."
   ],
   "metadata": {
    "collapsed": false,
    "pycharm": {
     "name": "#%% md\n"
    }
   }
  },
  {
   "cell_type": "code",
   "execution_count": 37,
   "outputs": [
    {
     "data": {
      "text/plain": "0.6649363636363635",
      "image/png": "[encoded data removed]",
      "text/latex": "$\\displaystyle 0.664936363636364$"
     },
     "execution_count": 37,
     "metadata": {},
     "output_type": "execute_result"
    }
   ],
   "source": [
    "\n",
    "f_1 = xicor_fn(tp_c=tp_1, fp_c=fp_1, tn_c=tn_1, fn_c=fn_1, n_reps=1000)\n",
    "\n",
    "f_1"
   ],
   "metadata": {
    "collapsed": false,
    "pycharm": {
     "name": "#%%\n"
    }
   }
  },
  {
   "cell_type": "code",
   "execution_count": 38,
   "outputs": [
    {
     "data": {
      "text/plain": "0.5956454545454545",
      "image/png": "[encoded data removed]",
      "text/latex": "$\\displaystyle 0.595645454545454$"
     },
     "execution_count": 38,
     "metadata": {},
     "output_type": "execute_result"
    }
   ],
   "source": [
    "\n",
    "f_2 = xicor_fn(tp_c=tp_2, fp_c=fp_2, tn_c=tn_2, fn_c=fn_2, n_reps=1000)\n",
    "\n",
    "f_2"
   ],
   "metadata": {
    "collapsed": false,
    "pycharm": {
     "name": "#%%\n"
    }
   }
  },
  {
   "cell_type": "code",
   "execution_count": 39,
   "outputs": [
    {
     "data": {
      "text/plain": "True"
     },
     "execution_count": 39,
     "metadata": {},
     "output_type": "execute_result"
    }
   ],
   "source": [
    "f_1 > f_2"
   ],
   "metadata": {
    "collapsed": false,
    "pycharm": {
     "name": "#%%\n"
    }
   }
  },
  {
   "cell_type": "markdown",
   "source": [
    "Remember, xicor is symmetric with reversals of x or reversals of y. So we can consider the two systems as with flipped x as:"
   ],
   "metadata": {
    "collapsed": false
   }
  },
  {
   "cell_type": "code",
   "execution_count": 40,
   "outputs": [],
   "source": [
    "fn_1_flipped = 10   # had been tp\n",
    "fp_1_flipped = 10   # had been tn\n",
    "tn_1_flipped = 100  # had been fp\n",
    "tp_1_flipped = 100  # had been fp\n",
    "\n",
    "fn_2_flipped = 15   # had been tp\n",
    "fp_2_flipped = 10   # had been tn\n",
    "tn_2_flipped = 100  # had been fp\n",
    "tp_2_flipped = 95   # had been fp"
   ],
   "metadata": {
    "collapsed": false,
    "pycharm": {
     "name": "#%%\n"
    }
   }
  },
  {
   "cell_type": "markdown",
   "source": [
    "And this shows the point, consistency isn't a useful invariant if we are allowed to flip positive and negative. Essentially xicor knows the flip of the score is more useful, and that is the one it is measuring. In the flipped notation we are moving more mass into the error category."
   ],
   "metadata": {
    "collapsed": false,
    "pycharm": {
     "name": "#%% md\n"
    }
   }
  },
  {
   "cell_type": "markdown",
   "source": [
    "Let's check if some common measures such as F1 and AUC are consistent.\n",
    "\n",
    "We take our definitions of common confusion matrix metrics from [\"A budget of classifier evaluation measures\"](https://win-vector.com/2016/07/21/a-budget-of-classifier-evaluation-measures/)."
   ],
   "metadata": {
    "collapsed": false,
    "pycharm": {
     "name": "#%% md\n"
    }
   }
  },
  {
   "cell_type": "code",
   "execution_count": 41,
   "outputs": [],
   "source": [
    "tpr = tp / (tp + fn)\n",
    "fnr = fn / (tp + fn)\n",
    "fpr = fp / (fp + tn)\n",
    "tnr =  tn / (fp + tn)\n",
    "sensitivity = tpr\n",
    "specificity = tnr\n",
    "recall = sensitivity\n",
    "precision = tp / (tp + fp)"
   ],
   "metadata": {
    "collapsed": false,
    "pycharm": {
     "name": "#%%\n"
    }
   }
  },
  {
   "cell_type": "code",
   "execution_count": 42,
   "outputs": [
    {
     "data": {
      "text/plain": "     2⋅tp     \n──────────────\nfn + fp + 2⋅tp",
      "image/png": "[encoded data removed]",
      "text/latex": "$\\displaystyle \\frac{2 \\cdot tp}{fn + fp + 2 \\cdot tp}$"
     },
     "execution_count": 42,
     "metadata": {},
     "output_type": "execute_result"
    }
   ],
   "source": [
    "f1 = (2*precision*recall/(precision+recall)).simplify()\n",
    "\n",
    "f1"
   ],
   "metadata": {
    "collapsed": false,
    "pycharm": {
     "name": "#%%\n"
    }
   }
  },
  {
   "cell_type": "code",
   "execution_count": 43,
   "outputs": [
    {
     "data": {
      "text/plain": "0.5⋅fn⋅tn + 0.5⋅fp⋅tp + tn⋅tp\n─────────────────────────────\n     (fn + tp)⋅(fp + tn)     ",
      "image/png": "[encoded data removed]",
      "text/latex": "$\\displaystyle \\frac{0.5 \\cdot fn \\cdot tn + 0.5 \\cdot fp \\cdot tp + tn \\cdot tp}{\\left(fn + tp\\right) \\cdot \\left(fp + tn\\right)}$"
     },
     "execution_count": 43,
     "metadata": {},
     "output_type": "execute_result"
    }
   ],
   "source": [
    "auc = ((1/2)*fpr*tpr + (1/2)*(1-fpr)*(1-tpr) + (1-fpr)*tpr).simplify()\n",
    "\n",
    "auc"
   ],
   "metadata": {
    "collapsed": false,
    "pycharm": {
     "name": "#%%\n"
    }
   }
  },
  {
   "cell_type": "markdown",
   "source": [
    "Now let's look at the derivative of F1 with respect to tp."
   ],
   "metadata": {
    "collapsed": false,
    "pycharm": {
     "name": "#%% md\n"
    }
   }
  },
  {
   "cell_type": "code",
   "execution_count": 44,
   "outputs": [
    {
     "data": {
      "text/plain": "   2⋅(fn + fp)   \n─────────────────\n                2\n(fn + fp + 2⋅tp) ",
      "image/png": "[encoded data removed]",
      "text/latex": "$\\displaystyle \\frac{2 \\cdot \\left(fn + fp\\right)}{\\left(fn + fp + 2 \\cdot tp\\right)^{2}}$"
     },
     "execution_count": 44,
     "metadata": {},
     "output_type": "execute_result"
    }
   ],
   "source": [
    "diff(f1, tp).simplify()"
   ],
   "metadata": {
    "collapsed": false,
    "pycharm": {
     "name": "#%%\n"
    }
   }
  },
  {
   "cell_type": "markdown",
   "source": [
    "The above is clearly non-negative for non-negative arguments (when defined).\n",
    "\n",
    "Let's try the same for AUC."
   ],
   "metadata": {
    "collapsed": false,
    "pycharm": {
     "name": "#%% md\n"
    }
   }
  },
  {
   "cell_type": "code",
   "execution_count": 45,
   "outputs": [
    {
     "data": {
      "text/plain": "            0.5⋅fn           \n─────────────────────────────\n      2                     2\n1.0⋅fn  + 2.0⋅fn⋅tp + 1.0⋅tp ",
      "image/png": "[encoded data removed]",
      "text/latex": "$\\displaystyle \\frac{0.5 \\cdot fn}{1.0 \\cdot fn^{2} + 2.0 \\cdot fn \\cdot tp + 1.0 \\cdot tp^{2}}$"
     },
     "execution_count": 45,
     "metadata": {},
     "output_type": "execute_result"
    }
   ],
   "source": [
    "diff(auc, tp).simplify()"
   ],
   "metadata": {
    "collapsed": false,
    "pycharm": {
     "name": "#%%\n"
    }
   }
  },
  {
   "cell_type": "markdown",
   "source": [
    "Again, the result is clearly non-negative for non-negative arguments (when defined)."
   ],
   "metadata": {
    "collapsed": false,
    "pycharm": {
     "name": "#%% md\n"
    }
   }
  }
 ],
 "metadata": {
  "kernelspec": {
   "display_name": "Python 3",
   "language": "python",
   "name": "python3"
  },
  "language_info": {
   "codemirror_mode": {
    "name": "ipython",
    "version": 2
   },
   "file_extension": ".py",
   "mimetype": "text/x-python",
   "name": "python",
   "nbconvert_exporter": "python",
   "pygments_lexer": "ipython2",
   "version": "2.7.6"
  }
 },
 "nbformat": 4,
 "nbformat_minor": 0
}