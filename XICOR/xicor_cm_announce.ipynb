{
 "cells": [
  {
   "cell_type": "markdown",
   "metadata": {
    "collapsed": true,
    "pycharm": {
     "name": "#%% md\n"
    }
   },
   "source": [
    "We have found that for 2 by 2 confusion matrices (a common summary relating the relation between categorical variables) the expected value of the [xicor](https://arxiv.org/abs/1909.10140) coefficient of correlation specializes into the re-normalized square of the determinant!\n",
    "\n",
    "One can summarize how a 0/1 variable x relates to a 0/1 variable y as by writing down:\n",
    "\n",
    "\n",
    "  * The true positives (`tp`), the number of times `x = 1` and `y = 1`.\n",
    "  * The false positives (`fp`), the number of times `x = 1` and `y = 0`.\n",
    "  * The true negatives (`tn`), the number of times `x = 0` and `y = 0`.\n",
    "  * The false negatives (`fn`), the number of times `x = 0` and `y = 1`.\n",
    "\n",
    "\n",
    "These four numbers can be organized in convenient table called \"the [confusion matrix](https://en.wikipedia.org/wiki/Confusion_matrix)\" as follows.\n",
    "\n",
    "<table>\n",
    "<tr><td></td><td><b>x = 0</b></td><td><b>x = 1</b></td></tr>\n",
    "<tr><td><b>y = 1</b></td><td>fn</td><td>tp</td></tr>\n",
    "<tr><td><b>y = 0</b></td><td>tn</td><td>fp</td></tr>\n",
    "</table>\n",
    "\n",
    "The [xicor](https://arxiv.org/abs/1909.10140) coefficient is itself a random variable over permutations of the items that are \"x ties\" (have the same x value). The individual draws of the xicor estimate can be wild (and even include negative values). However, the expected value can be estimated with the following determinant formula (our presumably new result):\n",
    "\n",
    "$$\\frac{ \\begin{array}{|cc|} fn & tp \\\\ tn & fp \\\\ \\end{array}^2 }{\\left(fn + tn\\right) \\cdot \\left(fn + tp\\right) \\cdot \\left(fp + tn\\right) \\cdot \\left(fp + tp\\right)}$$\n",
    "\n",
    "The above is, in my opinion, quite beautiful. It allows confirmation of a number of known properties of the expected value of xicor (in this case) to be read of quickly (such as symmetries and the non-negativity of the expected value).\n",
    "\n",
    "The derivation of this, and some consequences, can be found [here](https://github.com/WinVector/Examples/blob/main/XICOR/xicor_indicator_classification.ipynb).\n"
   ]
  }
 ],
 "metadata": {
  "kernelspec": {
   "display_name": "Python 3",
   "language": "python",
   "name": "python3"
  },
  "language_info": {
   "codemirror_mode": {
    "name": "ipython",
    "version": 2
   },
   "file_extension": ".py",
   "mimetype": "text/x-python",
   "name": "python",
   "nbconvert_exporter": "python",
   "pygments_lexer": "ipython2",
   "version": "2.7.6"
  }
 },
 "nbformat": 4,
 "nbformat_minor": 0
}