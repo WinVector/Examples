{
 "cells": [
  {
   "cell_type": "code",
   "execution_count": 2,
   "metadata": {
    "collapsed": true
   },
   "outputs": [
    {
     "data": {
      "text/plain": "     parent  child\n0        21  14.67\n1        21  14.67\n2        21  14.67\n3        21  14.67\n4        21  14.67\n..      ...    ...\n695      15  18.77\n696      15  18.77\n697      15  18.77\n698      15  19.77\n699      15  19.77\n\n[700 rows x 2 columns]",
      "text/html": "<div>\n<style scoped>\n    .dataframe tbody tr th:only-of-type {\n        vertical-align: middle;\n    }\n\n    .dataframe tbody tr th {\n        vertical-align: top;\n    }\n\n    .dataframe thead th {\n        text-align: right;\n    }\n</style>\n<table border=\"1\" class=\"dataframe\">\n  <thead>\n    <tr style=\"text-align: right;\">\n      <th></th>\n      <th>parent</th>\n      <th>child</th>\n    </tr>\n  </thead>\n  <tbody>\n    <tr>\n      <th>0</th>\n      <td>21</td>\n      <td>14.67</td>\n    </tr>\n    <tr>\n      <th>1</th>\n      <td>21</td>\n      <td>14.67</td>\n    </tr>\n    <tr>\n      <th>2</th>\n      <td>21</td>\n      <td>14.67</td>\n    </tr>\n    <tr>\n      <th>3</th>\n      <td>21</td>\n      <td>14.67</td>\n    </tr>\n    <tr>\n      <th>4</th>\n      <td>21</td>\n      <td>14.67</td>\n    </tr>\n    <tr>\n      <th>...</th>\n      <td>...</td>\n      <td>...</td>\n    </tr>\n    <tr>\n      <th>695</th>\n      <td>15</td>\n      <td>18.77</td>\n    </tr>\n    <tr>\n      <th>696</th>\n      <td>15</td>\n      <td>18.77</td>\n    </tr>\n    <tr>\n      <th>697</th>\n      <td>15</td>\n      <td>18.77</td>\n    </tr>\n    <tr>\n      <th>698</th>\n      <td>15</td>\n      <td>19.77</td>\n    </tr>\n    <tr>\n      <th>699</th>\n      <td>15</td>\n      <td>19.77</td>\n    </tr>\n  </tbody>\n</table>\n<p>700 rows × 2 columns</p>\n</div>"
     },
     "execution_count": 2,
     "metadata": {},
     "output_type": "execute_result"
    }
   ],
   "source": [
    "import pandas as pd\n",
    "from vtreat.stats_utils import xicor\n",
    "\n",
    "peas = pd.read_csv('peas.tsv', sep='\\t')\n",
    "peas\n"
   ]
  },
  {
   "cell_type": "markdown",
   "source": [
    "### Replicate The Peas Experiment from the XICOR paper\n",
    "\n",
    "The `xicor` call returns the mean estimated XI coefficient, and the standard error of the estimate."
   ],
   "metadata": {
    "collapsed": false,
    "pycharm": {
     "name": "#%% md\n"
    }
   }
  },
  {
   "cell_type": "code",
   "execution_count": 3,
   "outputs": [
    {
     "data": {
      "text/plain": "(0.11088906234252008, 0.0002359534732067584)"
     },
     "execution_count": 3,
     "metadata": {},
     "output_type": "execute_result"
    }
   ],
   "source": [
    "# xi(X, Y)\n",
    "xicor(peas.parent, peas.child, n_reps=10000)"
   ],
   "metadata": {
    "collapsed": false,
    "pycharm": {
     "name": "#%%\n"
    }
   }
  },
  {
   "cell_type": "code",
   "execution_count": 4,
   "outputs": [
    {
     "data": {
      "text/plain": "(0.9224999999999998, 2.220446049250313e-18)"
     },
     "execution_count": 4,
     "metadata": {},
     "output_type": "execute_result"
    }
   ],
   "source": [
    "# xi(Y, X)\n",
    "xicor(peas.child, peas.parent, n_reps=10000)"
   ],
   "metadata": {
    "collapsed": false,
    "pycharm": {
     "name": "#%%\n"
    }
   }
  },
  {
   "cell_type": "code",
   "execution_count": null,
   "outputs": [],
   "source": [],
   "metadata": {
    "collapsed": false,
    "pycharm": {
     "name": "#%%\n"
    }
   }
  }
 ],
 "metadata": {
  "kernelspec": {
   "display_name": "Python 3",
   "language": "python",
   "name": "python3"
  },
  "language_info": {
   "codemirror_mode": {
    "name": "ipython",
    "version": 2
   },
   "file_extension": ".py",
   "mimetype": "text/x-python",
   "name": "python",
   "nbconvert_exporter": "python",
   "pygments_lexer": "ipython2",
   "version": "2.7.6"
  }
 },
 "nbformat": 4,
 "nbformat_minor": 0
}