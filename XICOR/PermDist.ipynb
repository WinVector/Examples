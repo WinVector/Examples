{
 "cells": [
  {
   "cell_type": "markdown",
   "source": [
    "Follow-up calculation for [How to Read Sourav Chatterjee’s Basic XICOR Definition](https://win-vector.com/2021/12/26/how-to-read-sourav-chatterjees-basic-xicor-defenition/)."
   ],
   "metadata": {
    "collapsed": false,
    "pycharm": {
     "name": "#%% md\n"
    }
   }
  },
  {
   "cell_type": "markdown",
   "source": [
    "## Solving for the sum"
   ],
   "metadata": {
    "collapsed": false,
    "pycharm": {
     "name": "#%% md\n"
    }
   }
  },
  {
   "cell_type": "code",
   "execution_count": 1,
   "metadata": {
    "collapsed": true
   },
   "outputs": [
    {
     "data": {
      "text/plain": "LinearRegression()"
     },
     "execution_count": 1,
     "metadata": {},
     "output_type": "execute_result"
    }
   ],
   "source": [
    "import functools\n",
    "import numpy\n",
    "import pandas\n",
    "import sklearn.linear_model\n",
    "from sympy import *\n",
    "from fractions import Fraction\n",
    "\n",
    "\n",
    "def f(n):\n",
    "    res = 0\n",
    "    for a in range(n):\n",
    "        for b in range(n):\n",
    "            if b != a:\n",
    "                res = res + numpy.abs(b - a)\n",
    "    return res\n",
    "\n",
    "d = pandas.DataFrame({\n",
    "    'n': range(10)\n",
    "})\n",
    "d['f'] = [f(n) for n in d['n']]\n",
    "d['n2'] = d['n'] * d['n']\n",
    "d['n3'] = d['n'] * d['n2']\n",
    "model = sklearn.linear_model.LinearRegression()\n",
    "model.fit(d.loc[: , ['n', 'n2', 'n3']], d['f'])"
   ]
  },
  {
   "cell_type": "code",
   "execution_count": 2,
   "outputs": [
    {
     "data": {
      "text/plain": "5.684341886080802e-14"
     },
     "execution_count": 2,
     "metadata": {},
     "output_type": "execute_result"
    }
   ],
   "source": [
    "model.intercept_"
   ],
   "metadata": {
    "collapsed": false,
    "pycharm": {
     "name": "#%%\n"
    }
   }
  },
  {
   "cell_type": "code",
   "execution_count": 3,
   "outputs": [
    {
     "data": {
      "text/plain": "0",
      "text/latex": "$\\displaystyle 0$"
     },
     "execution_count": 3,
     "metadata": {},
     "output_type": "execute_result"
    }
   ],
   "source": [
    "def mk_rational(v):\n",
    "    den_limit = 1000000\n",
    "    rat = Fraction(v).limit_denominator(den_limit)\n",
    "    return Rational(p=rat.numerator, q=rat.denominator)\n",
    "\n",
    "intercept_rational = mk_rational(model.intercept_)\n",
    "\n",
    "intercept_rational\n"
   ],
   "metadata": {
    "collapsed": false,
    "pycharm": {
     "name": "#%%\n"
    }
   }
  },
  {
   "cell_type": "code",
   "execution_count": 4,
   "outputs": [
    {
     "data": {
      "text/plain": "array([-3.33333333e-01,  2.88657986e-15,  3.33333333e-01])"
     },
     "execution_count": 4,
     "metadata": {},
     "output_type": "execute_result"
    }
   ],
   "source": [
    "model.coef_"
   ],
   "metadata": {
    "collapsed": false,
    "pycharm": {
     "name": "#%%\n"
    }
   }
  },
  {
   "cell_type": "code",
   "execution_count": 5,
   "outputs": [
    {
     "data": {
      "text/plain": "[-1/3, 0, 1/3]"
     },
     "execution_count": 5,
     "metadata": {},
     "output_type": "execute_result"
    }
   ],
   "source": [
    "coef_rational = [mk_rational(c) for c in model.coef_]\n",
    "\n",
    "coef_rational"
   ],
   "metadata": {
    "collapsed": false,
    "pycharm": {
     "name": "#%%\n"
    }
   }
  },
  {
   "cell_type": "code",
   "execution_count": 6,
   "outputs": [
    {
     "data": {
      "text/plain": "n**3/3 - n/3",
      "text/latex": "$\\displaystyle \\frac{n^{3}}{3} - \\frac{n}{3}$"
     },
     "execution_count": 6,
     "metadata": {},
     "output_type": "execute_result"
    }
   ],
   "source": [
    "n = symbols('n')\n",
    "terms = (\n",
    "        [intercept_rational]\n",
    "        + [coef_rational[i] * n ** (i+1) for i in range(len(coef_rational))]\n",
    ")\n",
    "formula = functools.reduce(lambda a, b: a + b, terms)\n",
    "\n",
    "formula\n"
   ],
   "metadata": {
    "collapsed": false,
    "pycharm": {
     "name": "#%%\n"
    }
   }
  },
  {
   "cell_type": "code",
   "execution_count": 7,
   "outputs": [
    {
     "data": {
      "text/plain": "   n    f    g\n0  0    0    0\n1  1    0    0\n2  2    2    2\n3  3    8    8\n4  4   20   20\n5  5   40   40\n6  6   70   70\n7  7  112  112\n8  8  168  168\n9  9  240  240",
      "text/html": "<div>\n<style scoped>\n    .dataframe tbody tr th:only-of-type {\n        vertical-align: middle;\n    }\n\n    .dataframe tbody tr th {\n        vertical-align: top;\n    }\n\n    .dataframe thead th {\n        text-align: right;\n    }\n</style>\n<table border=\"1\" class=\"dataframe\">\n  <thead>\n    <tr style=\"text-align: right;\">\n      <th></th>\n      <th>n</th>\n      <th>f</th>\n      <th>g</th>\n    </tr>\n  </thead>\n  <tbody>\n    <tr>\n      <th>0</th>\n      <td>0</td>\n      <td>0</td>\n      <td>0</td>\n    </tr>\n    <tr>\n      <th>1</th>\n      <td>1</td>\n      <td>0</td>\n      <td>0</td>\n    </tr>\n    <tr>\n      <th>2</th>\n      <td>2</td>\n      <td>2</td>\n      <td>2</td>\n    </tr>\n    <tr>\n      <th>3</th>\n      <td>3</td>\n      <td>8</td>\n      <td>8</td>\n    </tr>\n    <tr>\n      <th>4</th>\n      <td>4</td>\n      <td>20</td>\n      <td>20</td>\n    </tr>\n    <tr>\n      <th>5</th>\n      <td>5</td>\n      <td>40</td>\n      <td>40</td>\n    </tr>\n    <tr>\n      <th>6</th>\n      <td>6</td>\n      <td>70</td>\n      <td>70</td>\n    </tr>\n    <tr>\n      <th>7</th>\n      <td>7</td>\n      <td>112</td>\n      <td>112</td>\n    </tr>\n    <tr>\n      <th>8</th>\n      <td>8</td>\n      <td>168</td>\n      <td>168</td>\n    </tr>\n    <tr>\n      <th>9</th>\n      <td>9</td>\n      <td>240</td>\n      <td>240</td>\n    </tr>\n  </tbody>\n</table>\n</div>"
     },
     "execution_count": 7,
     "metadata": {},
     "output_type": "execute_result"
    }
   ],
   "source": [
    "def g(n_value):\n",
    "    return formula.subs(n, n_value)\n",
    "\n",
    "del d['n2']\n",
    "del d['n3']\n",
    "d['g'] = [g(n) for n in d['n']]\n",
    "\n",
    "d"
   ],
   "metadata": {
    "collapsed": false,
    "pycharm": {
     "name": "#%%\n"
    }
   }
  },
  {
   "cell_type": "markdown",
   "source": [
    "## Solving the integral"
   ],
   "metadata": {
    "collapsed": false,
    "pycharm": {
     "name": "#%% md\n"
    }
   }
  },
  {
   "cell_type": "code",
   "execution_count": 8,
   "outputs": [
    {
     "data": {
      "text/plain": "1/3",
      "text/latex": "$\\displaystyle \\frac{1}{3}$"
     },
     "execution_count": 8,
     "metadata": {},
     "output_type": "execute_result"
    }
   ],
   "source": [
    "a, b = symbols('a b')\n",
    "\n",
    "integrate(integrate(a - b, (b, 0, a)) + integrate(b - a, (b, a, 1)), (a, 0, 1))"
   ],
   "metadata": {
    "collapsed": false,
    "pycharm": {
     "name": "#%%\n"
    }
   }
  },
  {
   "cell_type": "markdown",
   "source": [
    "Side question, what is E[(a-b)^2] for a,b indepedently chosen uniformly at random in [0, 1]?"
   ],
   "metadata": {
    "collapsed": false,
    "pycharm": {
     "name": "#%% md\n"
    }
   }
  },
  {
   "cell_type": "code",
   "execution_count": 9,
   "outputs": [
    {
     "data": {
      "text/plain": "1/6",
      "text/latex": "$\\displaystyle \\frac{1}{6}$"
     },
     "execution_count": 9,
     "metadata": {},
     "output_type": "execute_result"
    }
   ],
   "source": [
    "integrate(integrate((a - b)**2, (b, 0, 1)), (a, 0, 1))\n"
   ],
   "metadata": {
    "collapsed": false,
    "pycharm": {
     "name": "#%%\n"
    }
   }
  }
 ],
 "metadata": {
  "kernelspec": {
   "display_name": "Python 3",
   "language": "python",
   "name": "python3"
  },
  "language_info": {
   "codemirror_mode": {
    "name": "ipython",
    "version": 2
   },
   "file_extension": ".py",
   "mimetype": "text/x-python",
   "name": "python",
   "nbconvert_exporter": "python",
   "pygments_lexer": "ipython2",
   "version": "2.7.6"
  }
 },
 "nbformat": 4,
 "nbformat_minor": 0
}