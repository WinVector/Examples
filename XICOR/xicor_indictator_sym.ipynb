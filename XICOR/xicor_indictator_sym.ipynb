{
 "cells": [
  {
   "cell_type": "markdown",
   "metadata": {
    "collapsed": true,
    "pycharm": {
     "name": "#%% md\n"
    }
   },
   "source": [
    "Building a rational approximation for the expected value [xicor](https://arxiv.org/abs/1909.10140), in the case the explanitory variable x is 0/1 (an indicator) and\n",
    "the dependent variable y is also 0/1 (a classification problem)."
   ]
  },
  {
   "cell_type": "code",
   "execution_count": 1,
   "outputs": [],
   "source": [
    "import numpy\n",
    "import pandas\n",
    "\n",
    "from sympy import *\n",
    "init_printing(mul_symbol='times')\n",
    "\n",
    "import seaborn as sns\n",
    "import matplotlib.pyplot as plt\n",
    "import xicor.xicor\n",
    "\n"
   ],
   "metadata": {
    "collapsed": false,
    "pycharm": {
     "name": "#%%\n"
    }
   }
  },
  {
   "cell_type": "code",
   "execution_count": 2,
   "outputs": [
    {
     "data": {
      "text/plain": "(fn + tn)⋅(fn + tp)⋅(fp + tn)⋅(fp + tp) - (fn⋅tn⋅(fp + tp) + fp⋅tp⋅(fn + tn))⋅\n──────────────────────────────────────────────────────────────────────────────\n                             (fn + tn)⋅(fn + tp)⋅(fp + tn)⋅(fp + tp)          \n\n(fn + fp + tn + tp)\n───────────────────\n                   ",
      "image/png": "[encoded data removed]",
      "text/latex": "$\\displaystyle \\frac{\\left(fn + tn\\right) \\times \\left(fn + tp\\right) \\times \\left(fp + tn\\right) \\times \\left(fp + tp\\right) - \\left(fn \\times tn \\times \\left(fp + tp\\right) + fp \\times tp \\times \\left(fn + tn\\right)\\right) \\times \\left(fn + fp + tn + tp\\right)}{\\left(fn + tn\\right) \\times \\left(fn + tp\\right) \\times \\left(fp + tn\\right) \\times \\left(fp + tp\\right)}$"
     },
     "execution_count": 2,
     "metadata": {},
     "output_type": "execute_result"
    }
   ],
   "source": [
    "# estimate of expected value of xicor formula for x, y both 0/1\n",
    "# https://arxiv.org/abs/1909.10140\n",
    "# xicor is\n",
    "# 1 - n sum(i=1,...,n-1) |r(i+1) - r(i)| / (2 sum(i=1,...,n) l(i) (n - l(i))\n",
    "# n = tp + fp + tn + fn\n",
    "# by the tie-breaking rules in https://CRAN.R-project.org/package=XICOR calculateXI() we have:\n",
    "# ri is always tn + fp or n, so its abs differences are always 0 or tp + fn\n",
    "# li is always n or tp + fn, so n - li is always 0 or tn + fp\n",
    "# for the first tn + fn terms of the r(i) sum we have\n",
    "# E[|r(i+1) - r(i)|] ~ |non-zero-diff| * prob_diff_is_non_zero\n",
    "#                    = (tp + fn) * 2 * tn * fn / (tn + fn)**2\n",
    "# for the next tp + fp terms of the r(i) sum we have\n",
    "# E[|r(i+1) - r(i)|] ~ |non-zero-diff| * prob_diff_is_non_zero\n",
    "#                    = (tp + fn) * 2 * tp * fp / (tp + fp)**2\n",
    "# and the denominator is just 2 (tp + fp) * (tp + fp) * (tn + fn)\n",
    "# putting this all together\n",
    "tp, fp, tn, fn = symbols('tp fp tn fn')\n",
    "xi_cor_estimate = (\n",
    "    1 - (tp + fp + tn + fn) * (\n",
    "        (tn + fn) * (tp + fn) * 2 * tn * fn / (tn + fn)**2\n",
    "        + (tp + fp) * (tp + fn) * 2 * tp * fp / (tp + fp)**2\n",
    "    ) / (2 * (tp + fn) * (tn + fp) * (tp + fn))\n",
    ")\n",
    "\n",
    "xi_cor_estimate = xi_cor_estimate.simplify()\n",
    "\n",
    "xi_cor_estimate"
   ],
   "metadata": {
    "collapsed": false,
    "pycharm": {
     "name": "#%%\n"
    }
   }
  },
  {
   "cell_type": "code",
   "execution_count": 3,
   "outputs": [
    {
     "data": {
      "text/plain": "    (fn + fp + tn + tp)⋅(fn⋅fp⋅tn + fn⋅fp⋅tp + fn⋅tn⋅tp + fp⋅tn⋅tp)\n1 - ───────────────────────────────────────────────────────────────\n                (fn + tn)⋅(fn + tp)⋅(fp + tn)⋅(fp + tp)            ",
      "image/png": "[encoded data removed]",
      "text/latex": "$\\displaystyle 1 - \\frac{\\left(fn + fp + tn + tp\\right) \\times \\left(fn \\times fp \\times tn + fn \\times fp \\times tp + fn \\times tn \\times tp + fp \\times tn \\times tp\\right)}{\\left(fn + tn\\right) \\times \\left(fn + tp\\right) \\times \\left(fp + tn\\right) \\times \\left(fp + tp\\right)}$"
     },
     "execution_count": 3,
     "metadata": {},
     "output_type": "execute_result"
    }
   ],
   "source": [
    "# neater arrangement of the formula\n",
    "\n",
    "xicor_formula = (\n",
    "    1 - (fn*fp*tn + fn*fp*tp + fn*tn*tp + fp*tn*tp) * (fn + fp + tn + tp) / ((fn + tn)*(fn + tp)*(fp + tn)*(fp + tp))\n",
    ")\n",
    "\n",
    "xicor_formula"
   ],
   "metadata": {
    "collapsed": false,
    "pycharm": {
     "name": "#%%\n"
    }
   }
  },
  {
   "cell_type": "markdown",
   "source": [
    "In this form we see a lot of structure.\n",
    "\n",
    "  * `(fn + fp + tn + tp)` is just n, the number of observations.\n",
    "  * `(fn + tn)*(fn + tp)*(fp + tn)*(fp + tp)` is the product of all rows and columns of the confusion matrix.\n",
    "  * `(fn*fp*tn + fn*fp*tp + fn*tn*tp + fp*tn*tp)` is all of the leave-1 out products of the confusion matrix entries."
   ],
   "metadata": {
    "collapsed": false,
    "pycharm": {
     "name": "#%% md\n"
    }
   }
  },
  {
   "cell_type": "code",
   "execution_count": 4,
   "outputs": [
    {
     "data": {
      "text/plain": "0",
      "image/png": "[encoded data removed]",
      "text/latex": "$\\displaystyle 0$"
     },
     "execution_count": 4,
     "metadata": {},
     "output_type": "execute_result"
    }
   ],
   "source": [
    "# confirm equivalent\n",
    "\n",
    "(xi_cor_estimate - xicor_formula).simplify()\n"
   ],
   "metadata": {
    "collapsed": false,
    "pycharm": {
     "name": "#%%\n"
    }
   }
  },
  {
   "cell_type": "code",
   "execution_count": 5,
   "outputs": [
    {
     "name": "stdout",
     "output_type": "stream",
     "text": [
      "1 - \\frac{\\left(fn + fp + tn + tp\\right) \\times \\left(fn \\times fp \\times tn + fn \\times fp \\times tp + fn \\times tn \\times tp + fp \\times tn \\times tp\\right)}{\\left(fn + tn\\right) \\times \\left(fn + tp\\right) \\times \\left(fp + tn\\right) \\times \\left(fp + tp\\right)}\n"
     ]
    }
   ],
   "source": [
    "# save latex\n",
    "print(latex(xicor_formula, mul_symbol='times'))\n",
    "\n"
   ],
   "metadata": {
    "collapsed": false,
    "pycharm": {
     "name": "#%%\n"
    }
   }
  },
  {
   "cell_type": "code",
   "execution_count": 6,
   "outputs": [],
   "source": [
    "# define xicor as a function, so we have something to compare to\n",
    "def xicor_fn(*, tp_c: int, fp_c: int, tn_c: int, fn_c: int, n_reps=20):\n",
    "    \"\"\"\n",
    "    Define xicor as a function of observed counts.\n",
    "\n",
    "    :param tp_c: true positive count\n",
    "    :param fp_c: false positive count\n",
    "    :param tn_c: true negative count\n",
    "    :param fn_c: false negative count\n",
    "    :return: estimated expected xicor correlation\n",
    "    \"\"\"\n",
    "    assert tp_c >= 0\n",
    "    assert fp_c >= 0\n",
    "    assert tn_c >= 0\n",
    "    assert fn_c >= 0\n",
    "    assert tp_c + fn_c > 0  # y has positive examples\n",
    "    assert tn_c + fp_c > 0  # y has negative examples\n",
    "    x = [1] * tp_c + [1] * fp_c + [0] * tn_c + [0] * fn_c\n",
    "    y = [1] * tp_c + [0] * fp_c + [0] * tn_c + [1] * fn_c\n",
    "    evals = [xicor.xicor.Xi(x, y).correlation for rep in range(n_reps)]\n",
    "    return numpy.mean(evals)\n"
   ],
   "metadata": {
    "collapsed": false,
    "pycharm": {
     "name": "#%%\n"
    }
   }
  },
  {
   "cell_type": "code",
   "execution_count": 7,
   "outputs": [],
   "source": [
    "# wrapr our formula as a function\n",
    "def xicor_rat_fn(*, tp_c: int, fp_c: int, tn_c: int, fn_c: int):\n",
    "    \"\"\"\n",
    "    Estimate expected value of xicor using rational function.\n",
    "\n",
    "    :param tp_c: true positive count\n",
    "    :param fp_c: false positive count\n",
    "    :param tn_c: true negative count\n",
    "    :param fn_c: false negative count\n",
    "    :return: xicor correlation\n",
    "    \"\"\"\n",
    "    return xicor_formula.subs({tp: tp_c, tn: tn_c, fp: fp_c, fn: fn_c})"
   ],
   "metadata": {
    "collapsed": false,
    "pycharm": {
     "name": "#%%\n"
    }
   }
  },
  {
   "cell_type": "markdown",
   "source": [
    "Work some examples."
   ],
   "metadata": {
    "collapsed": false,
    "pycharm": {
     "name": "#%% md\n"
    }
   }
  },
  {
   "cell_type": "code",
   "execution_count": 8,
   "outputs": [
    {
     "data": {
      "text/plain": "0.4155844155844156",
      "image/png": "[encoded data removed]",
      "text/latex": "$\\displaystyle 0.415584415584416$"
     },
     "execution_count": 8,
     "metadata": {},
     "output_type": "execute_result"
    }
   ],
   "source": [
    "# work some examples\n",
    "\n",
    "float(xicor_rat_fn(tp_c=100, fp_c=10, tn_c=50, fn_c=20))"
   ],
   "metadata": {
    "collapsed": false,
    "pycharm": {
     "name": "#%%\n"
    }
   }
  },
  {
   "cell_type": "code",
   "execution_count": 9,
   "outputs": [
    {
     "data": {
      "text/plain": "0.42000000000000004",
      "image/png": "[encoded data removed]",
      "text/latex": "$\\displaystyle 0.42$"
     },
     "execution_count": 9,
     "metadata": {},
     "output_type": "execute_result"
    }
   ],
   "source": [
    "xicor_fn(tp_c=100, fp_c=10, tn_c=50, fn_c=20)"
   ],
   "metadata": {
    "collapsed": false,
    "pycharm": {
     "name": "#%%\n"
    }
   }
  },
  {
   "cell_type": "markdown",
   "source": [
    "Plot some examples."
   ],
   "metadata": {
    "collapsed": false,
    "pycharm": {
     "name": "#%% md\n"
    }
   }
  },
  {
   "cell_type": "code",
   "execution_count": 10,
   "outputs": [
    {
     "data": {
      "text/plain": "<Figure size 432x288 with 1 Axes>",
      "image/png": "[encoded data removed]"
     },
     "metadata": {
      "needs_background": "light"
     },
     "output_type": "display_data"
    }
   ],
   "source": [
    "# plot some examples\n",
    "def mk_ints():\n",
    "    return numpy.random.choice(100, size=20, replace=True) + 1\n",
    "\n",
    "examples = pandas.DataFrame({\n",
    "    'tp_c': mk_ints(),\n",
    "    'fp_c': mk_ints(),\n",
    "    'tn_c': mk_ints(),\n",
    "    'fn_c': mk_ints(),\n",
    "    'xicor_estimate': 0.0,\n",
    "    'xicor_rational_fn' : 0.0,\n",
    "})\n",
    "\n",
    "for i in range(examples.shape[0]):\n",
    "    tp_c = examples['tp_c'].values[i]\n",
    "    fp_c = examples['fp_c'].values[i]\n",
    "    tn_c = examples['tn_c'].values[i]\n",
    "    fn_c = examples['fn_c'].values[i]\n",
    "    examples.loc[i, 'xicor_estimate'] = xicor_fn(tp_c=tp_c, fp_c=fp_c, tn_c=tn_c, fn_c=fn_c)\n",
    "    examples.loc[i, 'xicor_rational_fn'] = float(xicor_rat_fn(tp_c=tp_c, fp_c=fp_c, tn_c=tn_c, fn_c=fn_c))\n",
    "\n",
    "\n",
    "ax = sns.scatterplot(data=examples, x='xicor_rational_fn', y='xicor_estimate')\n",
    "ax.set_title(\"empirically estimated xicor as function of rational approximation\")\n",
    "plt.show()"
   ],
   "metadata": {
    "collapsed": false,
    "pycharm": {
     "name": "#%%\n"
    }
   }
  },
  {
   "cell_type": "markdown",
   "source": [
    "Check some symmetries of the rational function."
   ],
   "metadata": {
    "collapsed": false,
    "pycharm": {
     "name": "#%% md\n"
    }
   }
  },
  {
   "cell_type": "code",
   "execution_count": 11,
   "outputs": [],
   "source": [
    "# check symmetries\n",
    "a, b, c, d, s = symbols('a b c d s')"
   ],
   "metadata": {
    "collapsed": false,
    "pycharm": {
     "name": "#%%\n"
    }
   }
  },
  {
   "cell_type": "code",
   "execution_count": 11,
   "outputs": [],
   "source": [],
   "metadata": {
    "collapsed": false,
    "pycharm": {
     "name": "#%%\n"
    }
   }
  },
  {
   "cell_type": "code",
   "execution_count": 12,
   "outputs": [
    {
     "data": {
      "text/plain": "0",
      "image/png": "[encoded data removed]",
      "text/latex": "$\\displaystyle 0$"
     },
     "execution_count": 12,
     "metadata": {},
     "output_type": "execute_result"
    }
   ],
   "source": [
    "# gets independent case right (should equal 0)\n",
    "xicor_rat_fn(tp_c=s*a, fp_c=s*b, tn_c=b, fn_c=a).simplify()"
   ],
   "metadata": {
    "collapsed": false,
    "pycharm": {
     "name": "#%%\n"
    }
   }
  },
  {
   "cell_type": "code",
   "execution_count": 13,
   "outputs": [
    {
     "data": {
      "text/plain": "1",
      "image/png": "[encoded data removed]",
      "text/latex": "$\\displaystyle 1$"
     },
     "execution_count": 13,
     "metadata": {},
     "output_type": "execute_result"
    }
   ],
   "source": [
    "# gets perfect case right (should be 1)\n",
    "xicor_rat_fn(tp_c=a, fp_c=0, tn_c=c, fn_c=0).simplify()"
   ],
   "metadata": {
    "collapsed": false,
    "pycharm": {
     "name": "#%%\n"
    }
   }
  },
  {
   "cell_type": "code",
   "execution_count": 14,
   "outputs": [
    {
     "data": {
      "text/plain": "0",
      "image/png": "[encoded data removed]",
      "text/latex": "$\\displaystyle 0$"
     },
     "execution_count": 14,
     "metadata": {},
     "output_type": "execute_result"
    }
   ],
   "source": [
    "\n",
    "# scale invariant (should equal 0)\n",
    "(\n",
    "    xicor_rat_fn(tp_c=a, fp_c=b, tn_c=c, fn_c=d)\n",
    "    - xicor_rat_fn(tp_c=s*a, fp_c=s*b, tn_c=s*c, fn_c=s*d)\n",
    ").simplify()\n"
   ],
   "metadata": {
    "collapsed": false,
    "pycharm": {
     "name": "#%%\n"
    }
   }
  },
  {
   "cell_type": "code",
   "execution_count": 15,
   "outputs": [
    {
     "data": {
      "text/plain": "0",
      "image/png": "[encoded data removed]",
      "text/latex": "$\\displaystyle 0$"
     },
     "execution_count": 15,
     "metadata": {},
     "output_type": "execute_result"
    }
   ],
   "source": [
    "# gets flipping y right (should equal 0)\n",
    "(\n",
    "    xicor_rat_fn(tp_c=a, fp_c=b, tn_c=c, fn_c=d)\n",
    "    - xicor_rat_fn(tp_c=b, fp_c=a, tn_c=d, fn_c=c)\n",
    ").simplify()"
   ],
   "metadata": {
    "collapsed": false,
    "pycharm": {
     "name": "#%%\n"
    }
   }
  },
  {
   "cell_type": "code",
   "execution_count": 16,
   "outputs": [
    {
     "data": {
      "text/plain": "0",
      "image/png": "[encoded data removed]",
      "text/latex": "$\\displaystyle 0$"
     },
     "execution_count": 16,
     "metadata": {},
     "output_type": "execute_result"
    }
   ],
   "source": [
    "# gets flipping x right (should equal 0)\n",
    "(\n",
    "    xicor_rat_fn(tp_c=a, fp_c=b, tn_c=c, fn_c=d)\n",
    "    - xicor_rat_fn(tp_c=c, fp_c=d, tn_c=a, fn_c=b)\n",
    ").simplify()\n"
   ],
   "metadata": {
    "collapsed": false,
    "pycharm": {
     "name": "#%%\n"
    }
   }
  },
  {
   "cell_type": "code",
   "execution_count": 17,
   "outputs": [
    {
     "data": {
      "text/plain": "-5/42",
      "image/png": "[encoded data removed]",
      "text/latex": "$\\displaystyle - \\frac{5}{42}$"
     },
     "execution_count": 17,
     "metadata": {},
     "output_type": "execute_result"
    }
   ],
   "source": [
    "# is asymmetric in x and y (doesn't equal 0)\n",
    "(\n",
    "    xicor_rat_fn(tp_c=a, fp_c=b, tn_c=c, fn_c=d)\n",
    "    - xicor_rat_fn(tp_c=a, fp_c=c, tn_c=b, fn_c=d)\n",
    ").subs({a: 1, b: 2, c: 3, d:4})"
   ],
   "metadata": {
    "collapsed": false,
    "pycharm": {
     "name": "#%%\n"
    }
   }
  },
  {
   "cell_type": "code",
   "execution_count": 18,
   "outputs": [
    {
     "data": {
      "text/plain": "((a + b)⋅(c + d) + (a + c)⋅(b + d))⋅(a + b + c + d)⋅(a⋅b⋅c + a⋅b⋅d + a⋅c⋅d + b\n──────────────────────────────────────────────────────────────────────────────\n                  (a + b)⋅(a + c)⋅(a + d)⋅(b + c)⋅(b + d)⋅(c + d)             \n\n⋅c⋅d)\n─────\n     ",
      "image/png": "[encoded data removed]",
      "text/latex": "$\\displaystyle \\frac{\\left(\\left(a + b\\right) \\times \\left(c + d\\right) + \\left(a + c\\right) \\times \\left(b + d\\right)\\right) \\times \\left(a + b + c + d\\right) \\times \\left(a \\times b \\times c + a \\times b \\times d + a \\times c \\times d + b \\times c \\times d\\right)}{\\left(a + b\\right) \\times \\left(a + c\\right) \\times \\left(a + d\\right) \\times \\left(b + c\\right) \\times \\left(b + d\\right) \\times \\left(c + d\\right)}$"
     },
     "execution_count": 18,
     "metadata": {},
     "output_type": "execute_result"
    }
   ],
   "source": [
    "# try to symmetrize by averaging\n",
    "\n",
    "(2 - (xicor_rat_fn(tp_c=a, fp_c=b, tn_c=c, fn_c=d)\n",
    "    + xicor_rat_fn(tp_c=a, fp_c=c, tn_c=b, fn_c=d))).simplify()"
   ],
   "metadata": {
    "collapsed": false,
    "pycharm": {
     "name": "#%%\n"
    }
   }
  },
  {
   "cell_type": "code",
   "execution_count": 19,
   "outputs": [
    {
     "data": {
      "text/plain": "    (0.5⋅(fn + tn)⋅(fp + tp) + 0.5⋅(fn + tp)⋅(fp + tn))⋅(fn + fp + tn + tp)⋅(f\n1 - ──────────────────────────────────────────────────────────────────────────\n                                (fn + fp)⋅(fn + tn)⋅(fn + tp)⋅(fp + tn)⋅(fp + \n\nn⋅fp⋅tn + fn⋅fp⋅tp + fn⋅tn⋅tp + fp⋅tn⋅tp)\n─────────────────────────────────────────\ntp)⋅(tn + tp)                            ",
      "image/png": "[encoded data removed]",
      "text/latex": "$\\displaystyle 1 - \\frac{\\left(0.5 \\times \\left(fn + tn\\right) \\times \\left(fp + tp\\right) + 0.5 \\times \\left(fn + tp\\right) \\times \\left(fp + tn\\right)\\right) \\times \\left(fn + fp + tn + tp\\right) \\times \\left(fn \\times fp \\times tn + fn \\times fp \\times tp + fn \\times tn \\times tp + fp \\times tn \\times tp\\right)}{\\left(fn + fp\\right) \\times \\left(fn + tn\\right) \\times \\left(fn + tp\\right) \\times \\left(fp + tn\\right) \\times \\left(fp + tp\\right) \\times \\left(tn + tp\\right)}$"
     },
     "execution_count": 19,
     "metadata": {},
     "output_type": "execute_result"
    }
   ],
   "source": [
    "# cleaned up version of symmetrized expression\n",
    "\n",
    "xicor_symmetric = (\n",
    "    1 - (1/2)\n",
    "      * ((tp + fp) * (fn + tn) + (tp + fn) * (fp + tn))\n",
    "      * (fn*fp*tn + fn*fp*tp + fn*tn*tp + fp*tn*tp) * (fn + fp + tn + tp)\n",
    "      / ((fn + tn)*(fn + tp)*(fp + tn)*(fp + tp)*(tp + tn)*(fp + fn))\n",
    ")\n",
    "\n",
    "xicor_symmetric"
   ],
   "metadata": {
    "collapsed": false,
    "pycharm": {
     "name": "#%%\n"
    }
   }
  },
  {
   "cell_type": "code",
   "execution_count": 20,
   "outputs": [
    {
     "data": {
      "text/plain": "0",
      "image/png": "[encoded data removed]",
      "text/latex": "$\\displaystyle 0$"
     },
     "execution_count": 20,
     "metadata": {},
     "output_type": "execute_result"
    }
   ],
   "source": [
    "# confirm this is the average\n",
    "\n",
    "(\n",
    "    (xicor_rat_fn(tp_c=a, fp_c=b, tn_c=c, fn_c=d)\n",
    "    + xicor_rat_fn(tp_c=a, fp_c=c, tn_c=b, fn_c=d)) / 2\n",
    "    - xicor_symmetric.subs({tp: a, fp: b, fn: c, tn: d})\n",
    ").simplify()\n"
   ],
   "metadata": {
    "collapsed": false,
    "pycharm": {
     "name": "#%%\n"
    }
   }
  }
 ],
 "metadata": {
  "kernelspec": {
   "display_name": "Python 3",
   "language": "python",
   "name": "python3"
  },
  "language_info": {
   "codemirror_mode": {
    "name": "ipython",
    "version": 2
   },
   "file_extension": ".py",
   "mimetype": "text/x-python",
   "name": "python",
   "nbconvert_exporter": "python",
   "pygments_lexer": "ipython2",
   "version": "2.7.6"
  }
 },
 "nbformat": 4,
 "nbformat_minor": 0
}