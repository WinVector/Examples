{
 "cells": [
  {
   "cell_type": "markdown",
   "metadata": {},
   "source": [
    "Make data for LinRebal example."
   ]
  },
  {
   "cell_type": "code",
   "execution_count": 1,
   "metadata": {},
   "outputs": [],
   "source": [
    "\n",
    "import numpy as np\n",
    "import json"
   ]
  },
  {
   "cell_type": "code",
   "execution_count": 2,
   "metadata": {},
   "outputs": [],
   "source": [
    "rng = np.random.default_rng(2024)"
   ]
  },
  {
   "cell_type": "code",
   "execution_count": 3,
   "metadata": {},
   "outputs": [],
   "source": [
    "m_examples = 100\n",
    "n_vars = 5\n",
    "\n",
    "def mk_x():\n",
    "    x = rng.normal(size=(m_examples, n_vars + 1))\n",
    "    x[:, 0] = rng.normal(size=1)[0]  # an item independent bias\n",
    "    x =  x @ c1\n",
    "    x[:, 0] = 1  # usual intercept term\n",
    "    return x\n",
    "\n",
    "\n",
    "f1 = 0.1 * rng.normal(size=n_vars + 1)\n",
    "c1 = rng.normal(size=(n_vars + 1, n_vars + 1))\n",
    "X1 = mk_x()\n",
    "y1 = (X1 @ f1) + rng.normal(size=m_examples)\n",
    "f2 = 0.1 * rng.normal(size=n_vars + 1)\n",
    "c2 = rng.normal(size=(n_vars + 1, n_vars + 1))\n",
    "X2 = mk_x()\n",
    "y2 = (X2 @ f2) + rng.normal(size=m_examples)"
   ]
  },
  {
   "cell_type": "code",
   "execution_count": 4,
   "metadata": {},
   "outputs": [],
   "source": [
    "data = {\n",
    "    'X1': [[float(vi) for vi in v] for v in list(X1)],\n",
    "    'y1': [float(vi) for vi in y1],\n",
    "    'X2': [[float(vi) for vi in v] for v in list(X2)],\n",
    "    'y2': [float(vi) for vi in y2],\n",
    "}"
   ]
  },
  {
   "cell_type": "code",
   "execution_count": 5,
   "metadata": {},
   "outputs": [],
   "source": [
    "with open('ex_data.json', 'w', encoding='utf-8') as f:\n",
    "    json.dump(data, f)"
   ]
  }
 ],
 "metadata": {
  "kernelspec": {
   "display_name": "prob_env",
   "language": "python",
   "name": "python3"
  },
  "language_info": {
   "codemirror_mode": {
    "name": "ipython",
    "version": 3
   },
   "file_extension": ".py",
   "mimetype": "text/x-python",
   "name": "python",
   "nbconvert_exporter": "python",
   "pygments_lexer": "ipython3",
   "version": "3.11.9"
  }
 },
 "nbformat": 4,
 "nbformat_minor": 2
}
