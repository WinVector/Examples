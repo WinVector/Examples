{
 "cells": [
  {
   "cell_type": "markdown",
   "metadata": {},
   "source": [
    "Make data for LinRebal example."
   ]
  },
  {
   "cell_type": "code",
   "execution_count": 1,
   "metadata": {},
   "outputs": [],
   "source": [
    "\n",
    "import numpy as np\n",
    "import json"
   ]
  },
  {
   "cell_type": "code",
   "execution_count": 2,
   "metadata": {},
   "outputs": [],
   "source": [
    "rng = np.random.default_rng(2024)"
   ]
  },
  {
   "cell_type": "code",
   "execution_count": 3,
   "metadata": {},
   "outputs": [],
   "source": [
    "m_examples = 10\n",
    "n_vars = 5\n",
    "\n",
    "X1 = rng.choice(10, size=(m_examples, n_vars + 1))\n",
    "X1[:, 0] = 1\n",
    "y1 = rng.choice(10, size=m_examples)\n",
    "X2 = rng.choice(10, size=(m_examples, n_vars + 1))\n",
    "X2[:, 0] = 1\n",
    "y2 = rng.choice(10, size=m_examples)"
   ]
  },
  {
   "cell_type": "code",
   "execution_count": 4,
   "metadata": {},
   "outputs": [],
   "source": [
    "data = {\n",
    "    'X1': [[int(vi) for vi in v] for v in list(X1)],\n",
    "    'y1': [int(vi) for vi in y1],\n",
    "    'X2': [[int(vi) for vi in v] for v in list(X2)],\n",
    "    'y2': [int(vi) for vi in y2],\n",
    "}"
   ]
  },
  {
   "cell_type": "code",
   "execution_count": 5,
   "metadata": {},
   "outputs": [
    {
     "data": {
      "text/plain": [
       "{'X1': [[1, 6, 0, 2, 3, 3],\n",
       "  [1, 7, 9, 9, 0, 1],\n",
       "  [1, 0, 1, 1, 9, 3],\n",
       "  [1, 1, 4, 5, 8, 6],\n",
       "  [1, 1, 4, 5, 6, 0],\n",
       "  [1, 4, 0, 9, 6, 7],\n",
       "  [1, 5, 3, 3, 1, 2],\n",
       "  [1, 4, 8, 2, 7, 8],\n",
       "  [1, 2, 3, 2, 7, 8],\n",
       "  [1, 2, 0, 2, 1, 0]],\n",
       " 'y1': [7, 4, 9, 2, 3, 8, 6, 2, 3, 7],\n",
       " 'X2': [[1, 4, 4, 4, 4, 9],\n",
       "  [1, 8, 1, 0, 3, 2],\n",
       "  [1, 1, 2, 9, 8, 5],\n",
       "  [1, 3, 0, 8, 0, 3],\n",
       "  [1, 6, 1, 2, 0, 0],\n",
       "  [1, 6, 5, 3, 6, 3],\n",
       "  [1, 2, 6, 2, 5, 5],\n",
       "  [1, 3, 1, 4, 6, 2],\n",
       "  [1, 5, 4, 5, 5, 4],\n",
       "  [1, 4, 9, 9, 5, 0]],\n",
       " 'y2': [3, 3, 6, 5, 1, 5, 0, 0, 0, 2]}"
      ]
     },
     "execution_count": 5,
     "metadata": {},
     "output_type": "execute_result"
    }
   ],
   "source": [
    "data"
   ]
  },
  {
   "cell_type": "code",
   "execution_count": 6,
   "metadata": {},
   "outputs": [],
   "source": [
    "with open('ex_data.json', 'w', encoding='utf-8') as f:\n",
    "    json.dump(data, f)"
   ]
  }
 ],
 "metadata": {
  "kernelspec": {
   "display_name": "prob_env",
   "language": "python",
   "name": "python3"
  },
  "language_info": {
   "codemirror_mode": {
    "name": "ipython",
    "version": 3
   },
   "file_extension": ".py",
   "mimetype": "text/x-python",
   "name": "python",
   "nbconvert_exporter": "python",
   "pygments_lexer": "ipython3",
   "version": "3.11.9"
  }
 },
 "nbformat": 4,
 "nbformat_minor": 2
}
