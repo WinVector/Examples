{
 "cells": [
  {
   "cell_type": "markdown",
   "metadata": {},
   "source": [
    "Reproduce the [\"R from Python\" plot](https://github.com/WinVector/Examples/blob/main/calling_R_from_Python/plot_from_R_example.ipynb) in Python using plotnine. This is a line for line translation of [significance_power_visuals.R](https://github.com/WinVector/Examples/blob/main/calling_R_from_Python/significance_power_visuals.R).\n",
    "\n",
    "[Jupyter Widgets documentation](https://ipywidgets.readthedocs.io/en/latest/index.html)"
   ]
  },
  {
   "cell_type": "code",
   "execution_count": 58,
   "metadata": {},
   "outputs": [],
   "source": [
    "# import our modules\n",
    "import numpy as np\n",
    "import pandas as pd\n",
    "from IPython.display import display, clear_output\n",
    "from scipy.stats import norm\n",
    "import matplotlib.pyplot as plt\n",
    "from data_algebra.cdata import RecordSpecification\n",
    "from plotnine import (\n",
    "    aes, \n",
    "    ggplot, \n",
    "    geom_line, geom_point, geom_ribbon, geom_vline,\n",
    "    scale_color_manual, scale_fill_manual,\n",
    "    xlab, ylab,\n",
    "    ggtitle,\n",
    "    theme\n",
    ")\n",
    "\n",
    "import ipywidgets as widgets"
   ]
  },
  {
   "cell_type": "code",
   "execution_count": 2,
   "metadata": {},
   "outputs": [],
   "source": [
    "# our parameters of interest\n",
    "n = 557\n",
    "r = 0.1\n",
    "t = 0.061576 # the correct threshold\n",
    "power = 0.9\n",
    "significance = 0.02"
   ]
  },
  {
   "cell_type": "code",
   "execution_count": 6,
   "metadata": {},
   "outputs": [],
   "source": [
    "thresh = t"
   ]
  },
  {
   "cell_type": "code",
   "execution_count": 7,
   "metadata": {},
   "outputs": [],
   "source": [
    "def make_graph(thresh):\n",
    "    # convert to what were the function arguments\n",
    "    stdev = np.sqrt(0.5 / n)\n",
    "    effect_size = r\n",
    "    threshold = thresh\n",
    "    title='Area under the tails give you significance and (1-power)'\n",
    "    subtitle = 'Significance: control right tail; (1-Power): treatment left tail'\n",
    "    eps=1e-6\n",
    "    control_color='#d95f02'\n",
    "    treatment_color='#1b9e77'\n",
    "\n",
    "    # define the wide plotting data\n",
    "    x = set(np.arange(-5 * stdev, 5 * stdev + effect_size, step=stdev / 100))\n",
    "    x.update([threshold, threshold-eps, threshold+eps])\n",
    "    x = sorted(x)\n",
    "\n",
    "    pframe = pd.DataFrame({\n",
    "        'x': x,\n",
    "        'control': norm.pdf(x, loc=0, scale=stdev),\n",
    "        'treatment': norm.pdf(x, loc=effect_size, scale=stdev),\n",
    "    })\n",
    "    # control's right tail\n",
    "    pframe['control_tail'] = np.where(pframe['x'] > threshold, pframe['control'], 0)\n",
    "    # treatment's left tail\n",
    "    pframe['treatment_tail'] = np.where(pframe['x'] <= threshold, pframe['treatment'], 0)\n",
    "\n",
    "    pframe\n",
    "\n",
    "    # convert from to long for for plotting using the data algebra\n",
    "\n",
    "    # specify the cdata record transform\n",
    "    record_transform = RecordSpecification(\n",
    "        pd.DataFrame({\n",
    "            'group': ['treatment', 'control'],\n",
    "            'y': ['treatment', 'control'],\n",
    "            'tail': ['treatment_tail', 'control_tail'],\n",
    "        }),\n",
    "        record_keys=['x'],\n",
    "        control_table_keys=['group'],\n",
    "    ).map_from_rows()\n",
    "\n",
    "\n",
    "    record_transform\n",
    "\n",
    "    # apply the record transform\n",
    "    pframelong = record_transform(pframe)\n",
    "\n",
    "    pframelong\n",
    "\n",
    "    # make the plot using the plotnine implementation \n",
    "    # of Leland Wilkinson's Grammar of Graphics\n",
    "    # (nearly call equiv to Hadley Wickham ggplot2 realization)\n",
    "    palette = {'control': control_color, 'treatment': treatment_color}\n",
    "    p = (\n",
    "        ggplot(pframelong, aes(x='x', y='y'))\n",
    "            + geom_line(aes(color='group'))\n",
    "            + geom_vline(xintercept=threshold, \n",
    "                        color='#7f7f7f', \n",
    "                        # linewidth=1,\n",
    "                        )\n",
    "            + geom_ribbon(aes(ymin=0, ymax='tail', fill='group'), alpha = 0.5)\n",
    "            + scale_color_manual(values=palette)\n",
    "            + scale_fill_manual(values=palette)\n",
    "            + theme(legend_position='none')\n",
    "            + ylab('density')\n",
    "            + xlab('observed difference')\n",
    "            + ggtitle(\n",
    "                title \n",
    "                + \"\\n\" + subtitle,\n",
    "                )\n",
    "        )\n",
    "\n",
    "    return p"
   ]
  },
  {
   "cell_type": "code",
   "execution_count": 59,
   "metadata": {},
   "outputs": [
    {
     "data": {
      "application/vnd.jupyter.widget-view+json": {
       "model_id": "781cdc372ad24bf696c27baca2f7bfd0",
       "version_major": 2,
       "version_minor": 0
      },
      "text/plain": [
       "FloatSlider(value=0.061576, continuous_update=False, description='Threshold Value:', max=0.1, readout_format='…"
      ]
     },
     "metadata": {},
     "output_type": "display_data"
    },
    {
     "data": {
      "application/vnd.jupyter.widget-view+json": {
       "model_id": "7d1ce8ad830147469e3bcae3b9abf7cd",
       "version_major": 2,
       "version_minor": 0
      },
      "text/plain": [
       "Button(description='Plot it', style=ButtonStyle())"
      ]
     },
     "metadata": {},
     "output_type": "display_data"
    },
    {
     "data": {
      "application/vnd.jupyter.widget-view+json": {
       "model_id": "6952d2e2bc6d40efba27eebb24f54280",
       "version_major": 2,
       "version_minor": 0
      },
      "text/plain": [
       "Output()"
      ]
     },
     "metadata": {},
     "output_type": "display_data"
    }
   ],
   "source": [
    "\n",
    "w = widgets.FloatSlider(\n",
    "    value=t,\n",
    "    min=0.0,\n",
    "    max=r,\n",
    "    step=0.001,\n",
    "    description='Threshold Value:',\n",
    "    disabled=False,\n",
    "    continuous_update=False,\n",
    "    orientation='horizontal',\n",
    "    readout=True,\n",
    "    readout_format='.4f'\n",
    ")\n",
    "\n",
    "display(w)\n",
    "\n",
    "button = widgets.Button(description = \"Plot it\")\n",
    "output = widgets.Output()\n",
    "\n",
    "display(button, output)\n",
    "\n",
    "# this works, need a clear command\n",
    "def on_button_clicked(b):\n",
    "    with output:\n",
    "       clear_output(wait=False)\n",
    "       print(f'threshold = {w.value}')\n",
    "       print(make_graph(w.value))\n",
    "       plt.show()\n",
    "\n",
    "button.on_click(on_button_clicked)"
   ]
  }
 ],
 "metadata": {
  "kernelspec": {
   "display_name": "data_algebra_dev_env",
   "language": "python",
   "name": "python3"
  },
  "language_info": {
   "codemirror_mode": {
    "name": "ipython",
    "version": 3
   },
   "file_extension": ".py",
   "mimetype": "text/x-python",
   "name": "python",
   "nbconvert_exporter": "python",
   "pygments_lexer": "ipython3",
   "version": "3.11.4"
  },
  "orig_nbformat": 4
 },
 "nbformat": 4,
 "nbformat_minor": 2
}
