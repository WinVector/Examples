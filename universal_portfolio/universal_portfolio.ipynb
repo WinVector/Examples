{
 "cells": [
  {
   "cell_type": "markdown",
   "source": [
    "# An Appreciation of Cover's Universal Portfolio in Python\n",
    "\n",
    "John Mount\n",
    "\n",
    "Win-Vector LLC\n",
    "\n",
    "2-23-2022\n",
    "\n",
    "\n",
    "\n",
    "I'd like to discuss a fantastic theoretical investment thought tool, the [Cover universal portfolio](https://web.mit.edu/6.454/www/www_fall_2001/shaas/universal_portfolios.pdf). Any comments can be left [here](https://win-vector.com/2022/02/23/an-appreciation-of-covers-universal-portfolio-in-python/).\n",
    "\n",
    "The Cover universal portfolio is re-balancing scheme that attempts to build a changing portfolio of investments that, with high probability, outperforms *all* of its constituent investments. It is an amazing though experiment.\n",
    "\n",
    "There are practical concerns in directly using such a scheme including:\n",
    "\n",
    "  * Accepting maximizing expected log-return as an objective.\n",
    "  * Not modeling trade costs.\n",
    "  * Not modeling variance or risk.\n",
    "  * Not modeling forgetting rate or time scales.\n",
    "\n",
    "However, even given these concerns the idea is brilliant: simulate many portfolio managers and re-allocate funds to the winners. These winning sub-managers not only have their own profits to re-invest, but also funds confiscated from alternate strategies.\n",
    "\n",
    "Another way to frame the idea is: we follow simulated dollars. In this scheme most of our simulated dollars end up with the better simulated strategies. So following where the dollars end up marks these strategies.\n",
    "\n",
    "I can't hope to explain this as clearly as [Cover\n",
    " himself](https://web.mit.edu/6.454/www/www_fall_2001/shaas/universal_portfolios.pdf). However, I can translate a bit of it into Python- which many programmers find easy to read.\n",
    "\n",
    "I'll try to use a few terms consistently:\n",
    "\n",
    "  * **Underlying instrument** the individual items we are investing in.\n",
    "  * **Investment**, **allocation**, or **portfolio** the distribution of what fraction of wealth is invested in each underlying instrument.\n",
    "\n",
    "The goal is to at each time step, using only information from the past, estimate a good allocation of our actual holdings into underlying instruments. We do this by rating the performance of many simulated allocations."
   ],
   "metadata": {
    "collapsed": false,
    "pycharm": {
     "name": "#%% md\n"
    }
   }
  },
  {
   "cell_type": "code",
   "execution_count": 1,
   "metadata": {
    "collapsed": true
   },
   "outputs": [],
   "source": [
    "# import packages\n",
    "from typing import Dict, List, Optional, Tuple\n",
    "import numpy as np\n",
    "from itertools import product\n",
    "import matplotlib.pyplot as plt\n",
    "import seaborn as sns\n",
    "import pandas as pd\n"
   ]
  },
  {
   "cell_type": "code",
   "execution_count": 2,
   "outputs": [],
   "source": [
    "# define our initial simulation of a population of portfolios\n",
    "# it is a map from a vector saying what fraction of investment is\n",
    "# in each underlying instrument to current simulated value of the\n",
    "# investment. we start with all portfolios with an equal initial\n",
    "# simulated investment.\n",
    "def initial_portfolios(*, dim: int, n: int) -> Dict[np.ndarray, float]:\n",
    "    \"\"\"\n",
    "    Build initial portfolios\n",
    "\n",
    "    :param dim: number of instruments\n",
    "    :param n: number of portfolios per dimension/instrument\n",
    "    :return: map of portfolios defs to current values\n",
    "    \"\"\"\n",
    "    portfolios = list(set([\n",
    "        tuple(np.array(v) / max(1, np.sum(v)))\n",
    "        for v in product(range(n), repeat=dim)\n",
    "        if np.sum(v) > 0\n",
    "    ]))\n",
    "    portfolios.sort()\n",
    "    return {b: 1/len(portfolios) for b in portfolios}"
   ],
   "metadata": {
    "collapsed": false,
    "pycharm": {
     "name": "#%%\n"
    }
   }
  },
  {
   "cell_type": "code",
   "execution_count": 3,
   "outputs": [],
   "source": [
    "# evolve the portfolios one time step forward.\n",
    "# this is a function of x, the most recent relative\n",
    "# returns on each instrument.\n",
    "# the forgive rate is not part of the standard Cover\n",
    "# derivation, it simulates pulling some money from all\n",
    "# simulated portfolios and re-distributing it.\n",
    "# it causes the simulation to forget the past faster.\n",
    "def evolve_portfolios(\n",
    "        portfolios: Dict[np.ndarray, float],\n",
    "        x: np.ndarray,\n",
    "        forgive_rate: float = 0.0,\n",
    ") -> Dict[np.ndarray, float]:\n",
    "    \"\"\"\n",
    "    Evolve portfolio estimates one step forward in time.\n",
    "\n",
    "    :param portfolios: current portfolios\n",
    "    :param x: most recent reported relative returns\n",
    "    :param forgive_rate: forgiving or forgetful re-allocation, this fraction of wealth is redistributed instead of being invested.\n",
    "    :return: values of portfolios one step forward\n",
    "    \"\"\"\n",
    "    total_value = np.sum([s_k for s_k in portfolios.values()])\n",
    "    total_count = len(portfolios)\n",
    "    rebalance = forgive_rate * total_value / total_count\n",
    "    next_portfolios = {\n",
    "        b: (1.0 - forgive_rate) * s_k * x.dot(b) + rebalance\n",
    "        for b, s_k in portfolios.items()\n",
    "    }\n",
    "    return next_portfolios"
   ],
   "metadata": {
    "collapsed": false,
    "pycharm": {
     "name": "#%%\n"
    }
   }
  },
  {
   "cell_type": "code",
   "execution_count": 4,
   "outputs": [],
   "source": [
    "# from a portfolio, read off what allocation of our\n",
    "# investment we want to place into each underlying instrument.\n",
    "# The idea is: we average the allocations of all of our simulated\n",
    "# investments to get our allocation.\n",
    "def read_off_allocation(\n",
    "        portfolios: Dict[np.ndarray, float]) -> Tuple[float, ...]:\n",
    "    \"\"\"\n",
    "    Read off the implied portfolio allocation\n",
    "\n",
    "    :param portfolios: recorded behavior of portfolio sample\n",
    "    :return: Cover universal portfolio implied allocation\n",
    "    \"\"\"\n",
    "    res = None\n",
    "    total = 0.0\n",
    "    for b, s_k in portfolios.items():\n",
    "        if res is None:\n",
    "            res = np.array(b) * s_k\n",
    "        else:\n",
    "            res = res + np.array(b) * s_k\n",
    "        total = total + s_k\n",
    "    return res / total"
   ],
   "metadata": {
    "collapsed": false,
    "pycharm": {
     "name": "#%%\n"
    }
   }
  },
  {
   "cell_type": "code",
   "execution_count": 5,
   "outputs": [],
   "source": [
    "# simulate the Cover universal portfolio strategy\n",
    "# on the price history given by price_sequence\n",
    "def run_simulation(\n",
    "        *,\n",
    "        price_sequence: pd.DataFrame,\n",
    "        n_portfolios: int = 21,\n",
    "        forgive_rate: float = 0.0,\n",
    ") -> float:\n",
    "    \"\"\"\n",
    "\n",
    "    :param price_sequence: time series of prices\n",
    "    :param n_portfolios: number of portfolios to simulate\n",
    "    :param forgive_rate: rate to forget previous experience\n",
    "    :return: experienced value of Cover universal portfolio\n",
    "    \"\"\"\n",
    "    # set up family of simulation portfolios\n",
    "    portfolios = initial_portfolios(\n",
    "        dim=price_sequence.shape[1],\n",
    "        n=n_portfolios)\n",
    "    # set up initial value\n",
    "    value = 1.0\n",
    "    # run for steps number of stages\n",
    "    prev = None\n",
    "    for row_i in range(price_sequence.shape[0]):\n",
    "        price = np.array(price_sequence.iloc[row_i, :])\n",
    "        if prev is not None:\n",
    "            # get current Cover strategy\n",
    "            b = read_off_allocation(portfolios)\n",
    "            # get relative returns returns\n",
    "            relative_return = price / prev\n",
    "            # evaluate outcome of rebalanced investment\n",
    "            value = value * relative_return.dot(b)\n",
    "            # adjust notional tracking portfolios\n",
    "            portfolios = evolve_portfolios(\n",
    "                portfolios,\n",
    "                relative_return,\n",
    "                forgive_rate=forgive_rate)\n",
    "        prev = price\n",
    "    return value\n"
   ],
   "metadata": {
    "collapsed": false,
    "pycharm": {
     "name": "#%%\n"
    }
   }
  },
  {
   "cell_type": "markdown",
   "source": [
    "Now that we have defined our code, let's try an example.\n",
    "\n",
    "For our first example we take instruments that are varying as `sin()` and `-sin()`.\n"
   ],
   "metadata": {
    "collapsed": false,
    "pycharm": {
     "name": "#%% md\n"
    }
   }
  },
  {
   "cell_type": "code",
   "execution_count": 6,
   "outputs": [],
   "source": [
    "prices = pd.DataFrame({\n",
    "    'v': [np.pi * v / 50 for v in range(101)]\n",
    "})\n",
    "prices['const'] = 2.0\n",
    "prices['sin'] = np.sin(prices['v']) + 2.0\n",
    "prices['-sin'] = -np.sin(prices['v']) + 2.0\n"
   ],
   "metadata": {
    "collapsed": false,
    "pycharm": {
     "name": "#%%\n"
    }
   }
  },
  {
   "cell_type": "code",
   "execution_count": 7,
   "outputs": [
    {
     "data": {
      "text/plain": "<AxesSubplot:xlabel='v', ylabel='value'>"
     },
     "execution_count": 7,
     "metadata": {},
     "output_type": "execute_result"
    },
    {
     "data": {
      "text/plain": "<Figure size 432x288 with 1 Axes>",
      "image/png": "[encoded data removed]"
     },
     "metadata": {
      "needs_background": "light"
     },
     "output_type": "display_data"
    }
   ],
   "source": [
    "sns.lineplot(\n",
    "    data=prices.melt(\n",
    "        id_vars=['v'],\n",
    "        value_vars=['const', 'sin', '-sin']),\n",
    "    x='v',\n",
    "    y='value',\n",
    "    hue='variable')"
   ],
   "metadata": {
    "collapsed": false,
    "pycharm": {
     "name": "#%%\n"
    }
   }
  },
  {
   "cell_type": "markdown",
   "source": [
    "No (non-timed) \"buy and hold\" strategy would make a lot of money on this situation, as all instruments have the same start and end price.\n",
    "\n",
    "However, the universal portfolio can re-balance its way into some returns."
   ],
   "metadata": {
    "collapsed": false,
    "pycharm": {
     "name": "#%% md\n"
    }
   }
  },
  {
   "cell_type": "code",
   "execution_count": 8,
   "outputs": [
    {
     "data": {
      "text/plain": "1.0164958357594527"
     },
     "execution_count": 8,
     "metadata": {},
     "output_type": "execute_result"
    }
   ],
   "source": [
    "run_simulation(\n",
    "    price_sequence=prices.loc[:, ['const', 'sin', '-sin']])"
   ],
   "metadata": {
    "collapsed": false,
    "pycharm": {
     "name": "#%%\n"
    }
   }
  },
  {
   "cell_type": "code",
   "execution_count": 9,
   "outputs": [
    {
     "data": {
      "text/plain": "1.0551065769405392"
     },
     "execution_count": 9,
     "metadata": {},
     "output_type": "execute_result"
    }
   ],
   "source": [
    "# can do better if we forget earlier events at the right rate\n",
    "run_simulation(\n",
    "    price_sequence=prices.loc[:, ['const', 'sin', '-sin']],\n",
    "    forgive_rate=0.1)"
   ],
   "metadata": {
    "collapsed": false,
    "pycharm": {
     "name": "#%%\n"
    }
   }
  },
  {
   "cell_type": "markdown",
   "source": [
    "The simulation returns the ending value, assuming the starting value was 1. So numbers above 1 are profit, and below are losses.\n",
    "\n",
    "The Cover universal portfolio is \"distribution free\" (how we say uses very few assumptions). This means it may not be as fast as a strategy that had external hints that the system was oscillating.\n",
    "\n",
    "We can try the universal portfolio on a harder example: random noise.\n",
    "\n",
    "We expect the mean return to 1 (same money comes out as goes in) *and* low standard deviation (evidence we are not doing something horrible like the running the [small Martingale](https://en.wikipedia.org/wiki/Martingale_(betting_system)) in disguise).  The expected value zero is really just checking our simulation code- one of the oddities of finance is in the absence of trading costs it is just as hard to lose money to random noise as it is to make money from random noise."
   ],
   "metadata": {
    "collapsed": false,
    "pycharm": {
     "name": "#%% md\n"
    }
   }
  },
  {
   "cell_type": "code",
   "execution_count": 10,
   "outputs": [],
   "source": [
    "# build Martingale or zero change in expectation pricing from\n",
    "# fair coin flips\n",
    "def prices_from_flips(coin_flips, *, delta: float = 0.1) -> List[float]:\n",
    "    # set up symmetric simulated returns\n",
    "    # notice we are making them expected value zero\n",
    "    returns = [1.0 + delta, 1.0 - delta]\n",
    "    cur_price = 1.0\n",
    "    prices = [np.array([1.0, cur_price])]\n",
    "    for flip in coin_flips:\n",
    "        cur_price = cur_price * returns[flip]\n",
    "        prices.append(np.array([1.0, cur_price]))\n",
    "    prices = pd.DataFrame(prices)\n",
    "    prices.columns = ['cosnt', 'random_walk']\n",
    "    return prices"
   ],
   "metadata": {
    "collapsed": false,
    "pycharm": {
     "name": "#%%\n"
    }
   }
  },
  {
   "cell_type": "markdown",
   "source": [
    "First we try the perfect distribution of trials, re-simulating the strategy for each possible 8 coin flip sequence occurring exactly once."
   ],
   "metadata": {
    "collapsed": false,
    "pycharm": {
     "name": "#%% md\n"
    }
   }
  },
  {
   "cell_type": "code",
   "execution_count": 11,
   "outputs": [],
   "source": [
    "# try the portfolio on every possible 8 coin flip sequence\n",
    "results_perfect = np.array([\n",
    "    run_simulation(price_sequence=prices_from_flips(coin_flips))\n",
    "    for coin_flips in product(range(2), repeat=8)\n",
    "])"
   ],
   "metadata": {
    "collapsed": false,
    "pycharm": {
     "name": "#%%\n"
    }
   }
  },
  {
   "cell_type": "code",
   "execution_count": 12,
   "outputs": [
    {
     "data": {
      "text/plain": "1.000000000000004"
     },
     "execution_count": 12,
     "metadata": {},
     "output_type": "execute_result"
    }
   ],
   "source": [
    "np.mean(results_perfect)"
   ],
   "metadata": {
    "collapsed": false,
    "pycharm": {
     "name": "#%%\n"
    }
   }
  },
  {
   "cell_type": "code",
   "execution_count": 13,
   "outputs": [
    {
     "data": {
      "text/plain": "0.14235012456684218"
     },
     "execution_count": 13,
     "metadata": {},
     "output_type": "execute_result"
    }
   ],
   "source": [
    "np.std(results_perfect)"
   ],
   "metadata": {
    "collapsed": false,
    "pycharm": {
     "name": "#%%\n"
    }
   }
  },
  {
   "cell_type": "markdown",
   "source": [
    "The observed standard deviation is not minuscule. This is because we are interested in  how far away the mean is from 1.0 (not from 0.0). The strategy is making substantial money in some sequences, and losing substantial money on others.\n",
    "\n",
    "We can also try for a random population. These numbers should be close to the previous ones."
   ],
   "metadata": {
    "collapsed": false,
    "pycharm": {
     "name": "#%% md\n"
    }
   }
  },
  {
   "cell_type": "code",
   "execution_count": 14,
   "outputs": [],
   "source": [
    "# https://numpy.org/doc/stable/reference/random/performance.html#recommendation\n",
    "rand_gen = np.random.Generator(np.random.PCG64(seed=1996))  # numpy default\n",
    "# rand_gen = np.random.Generator(np.random.Philox(seed=2022))\n",
    "\n",
    "def gen_flips(n, *, delta: float = 0.1):\n",
    "    return rand_gen.choice([0, 1], size=n, replace=True)\n",
    "\n",
    "\n",
    "results_random = np.array([\n",
    "    run_simulation(price_sequence=prices_from_flips(gen_flips(8)))\n",
    "    for rep in range(100)\n",
    "])\n"
   ],
   "metadata": {
    "collapsed": false,
    "pycharm": {
     "name": "#%%\n"
    }
   }
  },
  {
   "cell_type": "code",
   "execution_count": 15,
   "outputs": [
    {
     "data": {
      "text/plain": "1.0061625564393726"
     },
     "execution_count": 15,
     "metadata": {},
     "output_type": "execute_result"
    }
   ],
   "source": [
    "np.mean(results_random)"
   ],
   "metadata": {
    "collapsed": false,
    "pycharm": {
     "name": "#%%\n"
    }
   }
  },
  {
   "cell_type": "code",
   "execution_count": 16,
   "outputs": [
    {
     "data": {
      "text/plain": "0.146753957449536"
     },
     "execution_count": 16,
     "metadata": {},
     "output_type": "execute_result"
    }
   ],
   "source": [
    "np.std(results_random)"
   ],
   "metadata": {
    "collapsed": false,
    "pycharm": {
     "name": "#%%\n"
    }
   }
  },
  {
   "cell_type": "markdown",
   "source": [
    "And that is Cover's universal portfolio idea translated into Python. I wouldn't use this implementation for speed, as it was coded for clarity. Also, do not take theoretical finance as directly actionable financial advice- we are commenting only on the math.\n"
   ],
   "metadata": {
    "collapsed": false,
    "pycharm": {
     "name": "#%% md\n"
    }
   }
  }
 ],
 "metadata": {
  "kernelspec": {
   "name": "pycharm-f89b903",
   "language": "python",
   "display_name": "PyCharm (Fountain)"
  },
  "language_info": {
   "codemirror_mode": {
    "name": "ipython",
    "version": 2
   },
   "file_extension": ".py",
   "mimetype": "text/x-python",
   "name": "python",
   "nbconvert_exporter": "python",
   "pygments_lexer": "ipython2",
   "version": "2.7.6"
  }
 },
 "nbformat": 4,
 "nbformat_minor": 0
}