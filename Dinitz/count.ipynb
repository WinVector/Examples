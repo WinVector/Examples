{
 "cells": [
  {
   "cell_type": "code",
   "execution_count": 1,
   "id": "cell0",
   "metadata": {},
   "outputs": [],
   "source": [
    "import itertools\n",
    "from typing import Dict, Hashable, Iterable, List, Set, Tuple\n",
    "import numpy as np\n",
    "from Galvin import list_color_square, valid_coloring\n",
    "from pprint import pprint\n",
    "\n",
    "\n",
    "def count_solutions(\n",
    "        sq: List[List[Set[int]]],\n",
    "        *,\n",
    "        verbose: bool = False) -> int:\n",
    "    \"\"\"\n",
    "    Count number of valid solutions to sq, by brute force.\n",
    "\n",
    "    :param sq: list colorable Latin square specification\n",
    "    :param verbose: if True print solutions.\n",
    "    :return: number of valid fill-ins\n",
    "    \"\"\"\n",
    "    n = len(sq)\n",
    "    # flatten into list of value lists\n",
    "    lists = []\n",
    "    for vi in sq:\n",
    "        for vij in vi:\n",
    "            lists.append(list(vij))\n",
    "    # try every combination\n",
    "    n_valid = 0\n",
    "    #for v in itertools.product(list(range(n)), repeat=n*n):\n",
    "    for v in itertools.product(*lists):\n",
    "        v = [v.tolist() for v in np.split(np.array(v, dtype=int), n)]\n",
    "        is_valid = valid_coloring(sq=sq, coloring=v)\n",
    "        if is_valid:\n",
    "            n_valid = n_valid + 1\n",
    "            if verbose:\n",
    "                pprint(v)\n",
    "    return n_valid"
   ]
  },
  {
   "cell_type": "code",
   "execution_count": 2,
   "id": "8c219677",
   "metadata": {},
   "outputs": [
    {
     "name": "stdout",
     "output_type": "stream",
     "text": [
      "2\n"
     ]
    }
   ],
   "source": [
    "print(count_solutions([\n",
    "    [{0, 1}, {0, 1}], \n",
    "    [{0, 1}, {0, 1}],\n",
    "]))\n"
   ]
  },
  {
   "cell_type": "code",
   "execution_count": 3,
   "id": "cfd492a0",
   "metadata": {},
   "outputs": [
    {
     "name": "stdout",
     "output_type": "stream",
     "text": [
      "[[1, 0], [0, 1]]\n",
      "[[1, 0], [0, 2]]\n",
      "[[1, 0], [2, 1]]\n",
      "3\n"
     ]
    }
   ],
   "source": [
    "print(count_solutions([\n",
    "    [{0, 1}, {0, 1}],\n",
    "    [{0, 2}, {1, 2}],\n",
    "], verbose=True))\n"
   ]
  },
  {
   "cell_type": "code",
   "execution_count": 4,
   "id": "c3c259ae",
   "metadata": {},
   "outputs": [
    {
     "name": "stdout",
     "output_type": "stream",
     "text": [
      "[[2, 0], [0, 1]]\n",
      "[[2, 0], [0, 2]]\n",
      "[[2, 1], [0, 2]]\n",
      "3\n"
     ]
    }
   ],
   "source": [
    "print(count_solutions([\n",
    "    [{0, 2}, {0, 1}],\n",
    "    [{0, 2}, {1, 2}],\n",
    "], verbose=True))"
   ]
  },
  {
   "cell_type": "code",
   "execution_count": 5,
   "id": "df00619f",
   "metadata": {},
   "outputs": [
    {
     "name": "stdout",
     "output_type": "stream",
     "text": [
      "12\n"
     ]
    }
   ],
   "source": [
    "print(count_solutions([\n",
    "    [{0, 1, 2}, {0, 1, 2}, {0, 1, 2}],\n",
    "    [{0, 1, 2}, {0, 1, 2}, {0, 1, 2}],\n",
    "    [{0, 1, 2}, {0, 1, 2}, {0, 1, 2}],\n",
    "]))"
   ]
  },
  {
   "cell_type": "code",
   "execution_count": 6,
   "id": "363cb9aa",
   "metadata": {},
   "outputs": [
    {
     "name": "stdout",
     "output_type": "stream",
     "text": [
      "28\n"
     ]
    }
   ],
   "source": [
    "print(count_solutions([\n",
    "    [{0, 1, 2}, {0, 1, 2}, {0, 1, 2}],\n",
    "    [{0, 1, 3}, {1, 2, 3}, {1, 2, 3}],\n",
    "    [{0, 1, 3}, {1, 2, 3}, {1, 2, 3}],\n",
    "]))"
   ]
  },
  {
   "cell_type": "code",
   "execution_count": 7,
   "id": "85d0f8ff",
   "metadata": {},
   "outputs": [],
   "source": [
    "def solve_and_check(sq):\n",
    "    \"\"\"solve list coloring for Latin square, confirm and return answer\"\"\"\n",
    "    soln = list_color_square(sq)\n",
    "    assert valid_coloring(sq=sq, coloring=soln)\n",
    "    return soln"
   ]
  },
  {
   "cell_type": "code",
   "execution_count": 8,
   "id": "13158109",
   "metadata": {},
   "outputs": [
    {
     "name": "stdout",
     "output_type": "stream",
     "text": [
      "[[1, 0], [0, 1]]\n"
     ]
    }
   ],
   "source": [
    "pprint(solve_and_check([\n",
    "    [{0, 1}, {0, 1}], \n",
    "    [{0, 1}, {0, 1}],\n",
    "]))"
   ]
  },
  {
   "cell_type": "code",
   "execution_count": 9,
   "id": "bb38812b",
   "metadata": {},
   "outputs": [
    {
     "name": "stdout",
     "output_type": "stream",
     "text": [
      "[[2, 0], [0, 1]]\n"
     ]
    }
   ],
   "source": [
    "pprint(solve_and_check([\n",
    "    [{0, 2}, {0, 1}],\n",
    "    [{0, 2}, {1, 2}],\n",
    "]))"
   ]
  },
  {
   "cell_type": "code",
   "execution_count": 10,
   "id": "36ce5d05",
   "metadata": {},
   "outputs": [
    {
     "name": "stdout",
     "output_type": "stream",
     "text": [
      "[[2, 0], [0, 1]]\n"
     ]
    }
   ],
   "source": [
    "pprint(solve_and_check([\n",
    "    [{0, 2}, {0, 1}],\n",
    "    [{0, 2}, {1, 2}],\n",
    "]))"
   ]
  },
  {
   "cell_type": "code",
   "execution_count": 11,
   "id": "c881fc20",
   "metadata": {},
   "outputs": [
    {
     "name": "stdout",
     "output_type": "stream",
     "text": [
      "[[2, 1, 0], [1, 0, 2], [0, 2, 1]]\n"
     ]
    }
   ],
   "source": [
    "pprint(solve_and_check([\n",
    "    [{0, 1, 2}, {0, 1, 2}, {0, 1, 2}],\n",
    "    [{0, 1, 2}, {0, 1, 2}, {0, 1, 2}],\n",
    "    [{0, 1, 2}, {0, 1, 2}, {0, 1, 2}],\n",
    "]))"
   ]
  },
  {
   "cell_type": "code",
   "execution_count": 12,
   "id": "2048e1e2",
   "metadata": {},
   "outputs": [
    {
     "name": "stdout",
     "output_type": "stream",
     "text": [
      "[[2, 0, 1], [1, 2, 3], [0, 1, 2]]\n"
     ]
    }
   ],
   "source": [
    "pprint(solve_and_check([\n",
    "    [{0, 1, 2}, {0, 1, 2}, {0, 1, 2}],\n",
    "    [{0, 1, 3}, {1, 2, 3}, {1, 2, 3}],\n",
    "    [{0, 1, 3}, {1, 2, 3}, {1, 2, 3}],\n",
    "]))"
   ]
  }
 ],
 "metadata": {
  "kernelspec": {
   "display_name": "research_env",
   "language": "python",
   "name": "python3"
  },
  "language_info": {
   "codemirror_mode": {
    "name": "ipython",
    "version": 3
   },
   "file_extension": ".py",
   "mimetype": "text/x-python",
   "name": "python",
   "nbconvert_exporter": "python",
   "pygments_lexer": "ipython3",
   "version": "3.11.3"
  }
 },
 "nbformat": 4,
 "nbformat_minor": 5
}
