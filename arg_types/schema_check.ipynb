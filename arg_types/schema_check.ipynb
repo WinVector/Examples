{
 "cells": [
  {
   "cell_type": "markdown",
   "metadata": {},
   "source": [
    "The Pandas data frame has a number of interesting features including complex indices (that allow implicit joins), and time oriented features.\n",
    "\n",
    "However, they have a number of design decisions that pose problems for classic (non-finance) data science. Some undesirable sharp edges include:\n",
    "\n",
    "\n",
    "  * Separate types for atomic columns (such as `int`, `bool`, and `float`) and columns of objects (such as `str`).\n",
    "  * No out-of-band representation of missing values. Instead, missingness must be signaled by the insertion of a value representing missingness. This causes problems for types that don't have such a representation such as `int` and `bool`.\n",
    "\n",
    "To work around the above the Pandas data frame have a number of non-avoidable column type promotion rules and cell type promotion rules. Let's take a look at a problem data frame."
   ]
  },
  {
   "cell_type": "code",
   "execution_count": 1,
   "metadata": {},
   "outputs": [],
   "source": [
    "# import modules\n",
    "from pprint import pprint\n",
    "import numpy as np\n",
    "import pandas as pd\n",
    "from data_schema import non_null_types_in_frame, SchemaCheckSwitch\n"
   ]
  },
  {
   "cell_type": "code",
   "execution_count": 2,
   "metadata": {},
   "outputs": [
    {
     "data": {
      "text/html": [
       "<div>\n",
       "<style scoped>\n",
       "    .dataframe tbody tr th:only-of-type {\n",
       "        vertical-align: middle;\n",
       "    }\n",
       "\n",
       "    .dataframe tbody tr th {\n",
       "        vertical-align: top;\n",
       "    }\n",
       "\n",
       "    .dataframe thead th {\n",
       "        text-align: right;\n",
       "    }\n",
       "</style>\n",
       "<table border=\"1\" class=\"dataframe\">\n",
       "  <thead>\n",
       "    <tr style=\"text-align: right;\">\n",
       "      <th></th>\n",
       "      <th>b</th>\n",
       "      <th>q</th>\n",
       "      <th>r</th>\n",
       "      <th>s</th>\n",
       "      <th>x</th>\n",
       "      <th>y</th>\n",
       "      <th>z</th>\n",
       "    </tr>\n",
       "  </thead>\n",
       "  <tbody>\n",
       "    <tr>\n",
       "      <th>0</th>\n",
       "      <td>1</td>\n",
       "      <td>NaN</td>\n",
       "      <td>1.0</td>\n",
       "      <td>NaN</td>\n",
       "      <td>1.0</td>\n",
       "      <td>a</td>\n",
       "      <td>1</td>\n",
       "    </tr>\n",
       "    <tr>\n",
       "      <th>1</th>\n",
       "      <td>3</td>\n",
       "      <td>NaN</td>\n",
       "      <td>NaN</td>\n",
       "      <td>2.0</td>\n",
       "      <td>7.0</td>\n",
       "      <td>None</td>\n",
       "      <td>1.0</td>\n",
       "    </tr>\n",
       "    <tr>\n",
       "      <th>2</th>\n",
       "      <td>4</td>\n",
       "      <td>NaN</td>\n",
       "      <td>3.0</td>\n",
       "      <td>3.0</td>\n",
       "      <td>2.0</td>\n",
       "      <td>NaN</td>\n",
       "      <td>False</td>\n",
       "    </tr>\n",
       "  </tbody>\n",
       "</table>\n",
       "</div>"
      ],
      "text/plain": [
       "   b   q    r    s    x     y      z\n",
       "0  1 NaN  1.0  NaN  1.0     a      1\n",
       "1  3 NaN  NaN  2.0  7.0  None    1.0\n",
       "2  4 NaN  3.0  3.0  2.0   NaN  False"
      ]
     },
     "execution_count": 2,
     "metadata": {},
     "output_type": "execute_result"
    }
   ],
   "source": [
    "# show an example data frame\n",
    "# notice types in the frame are often types from the input data\n",
    "d =  pd.DataFrame({\n",
    "        'b': [1, 3, 4],\n",
    "        'q': np.nan,\n",
    "        'r': [1, None, 3],\n",
    "        's': [np.nan, 2.0, 3.0],\n",
    "        'x': [1, 7.0, 2],\n",
    "        'y': [\"a\", None, np.nan],\n",
    "        'z': [1, 1.0, False],\n",
    "    })\n",
    "\n",
    "d"
   ]
  },
  {
   "cell_type": "markdown",
   "metadata": {},
   "source": [
    "Notice that `None` has been converted to `NaN` in column `r`, but not in column `y`. The declared column types tell part of the story."
   ]
  },
  {
   "cell_type": "code",
   "execution_count": 3,
   "metadata": {},
   "outputs": [
    {
     "data": {
      "text/plain": [
       "b      int64\n",
       "q    float64\n",
       "r    float64\n",
       "s    float64\n",
       "x    float64\n",
       "y     object\n",
       "z     object\n",
       "dtype: object"
      ]
     },
     "execution_count": 3,
     "metadata": {},
     "output_type": "execute_result"
    }
   ],
   "source": [
    "# column types, not same as cell value types\n",
    "d.dtypes"
   ]
  },
  {
   "cell_type": "markdown",
   "metadata": {},
   "source": [
    "Directly inspecting the types found in the data frame cells shows a bit more detail."
   ]
  },
  {
   "cell_type": "code",
   "execution_count": 4,
   "metadata": {},
   "outputs": [
    {
     "data": {
      "text/plain": [
       "{'b': {numpy.int64},\n",
       " 'q': None,\n",
       " 'r': {numpy.float64},\n",
       " 's': {numpy.float64},\n",
       " 'x': {numpy.float64},\n",
       " 'y': {str},\n",
       " 'z': {bool, float, int}}"
      ]
     },
     "execution_count": 4,
     "metadata": {},
     "output_type": "execute_result"
    }
   ],
   "source": [
    "# report non-null (not None, NaN, or NaT) found in cells\n",
    "non_null_types_in_frame(d)"
   ]
  },
  {
   "cell_type": "markdown",
   "metadata": {},
   "source": [
    "Notice the scary profusion of \"nearly compatible types\" such as `float` v.s. `numpy.float64` and `int` v.s. `numpy.int64`. What is going on is: to deal with mixed types Pandas must promote the column declarations to something that can contain both the original intended non-null values and the missingness indicators. For integers the column is promoted to floating point, as that allows a non-object column. The floating point promotion causes cell types to be changed from integer to floating point For more complicated cases the column must be promoted to object. The object promotion is used to allow both object cell types and heterogeneous cell types (such as `float` and `bool`). Without full knowledge of the cell values, the user can not anticipate the chosen conversions.\n",
    "\n",
    "It is frankly a bit hard to predict what types will be in a Pandas data frame given a set of values and operations. There are promotion rules such as mixtures of `int`s and `float`s become floats, and other mixtures become `object` columns. Though notice in object columns the extra freedom is used to preserve the distinction between `int`s and `float`s!\n",
    "\n",
    "With this in mind one may want to consider inspecting incoming and outgoing column types. We supply a lightweight implementation of a schema enforcement system.\n",
    "\n",
    "This is a bit different that having a type system. We are not interested what is and what is not a data frame. But instead interested in documenting that the data frames we work with have:\n",
    "\n",
    "  * At least the columns we expect.\n",
    "  * No types we don't expect in those columns.\n",
    "\n",
    "These two covariant constraints are what we want to ensure we can write the operations over columns (which we need to know exist) and not get unexpected results (from unexpected types). The idea is: can we document and enforce (at least partial) schemas both on function signatures and data frames? This can be particularly useful for data science code near external data sources such as databases or CSV (comma separated value) files. Many of these sources themselves have data schemas and schema documentation.\n",
    "\n",
    "I've started experimenting with a Python module to automate this task as debugging feature. As it is a debugging feature we want to be able to turn the feature on or off in an entire code base easily. To do this we define a indirect importer called [`schema_check.py`](https://github.com/WinVector/Examples/blob/main/arg_types/schema_check.py).  It's code looks like the following:\n",
    "\n",
    "```\n",
    "   from data_schema import SchemaCheckSwitch\n",
    "   # from data_schema import SchemaMock as SchemaCheck\n",
    "   from data_schema import SchemaRaises as SchemaCheck\n",
    "   SchemaCheckSwitch().on()\n",
    "```\n",
    "\n",
    "It is picking which class is called \"`SchemaCheck`\" (either a mock that does nothing, or a real one that raises exceptions on irregularities). And it is also globally setting if the system is \"on\" or \"off\" (only relevant in the case of the \"raises\" or checking system). Putting these lines in a shared import lets all other code switch behavior by only editing this file.\n",
    "\n",
    "Let's go ahead and import that code."
   ]
  },
  {
   "cell_type": "code",
   "execution_count": 5,
   "metadata": {},
   "outputs": [],
   "source": [
    "# use a indirect import, so entire package behavior\n",
    "# can be changed all at once\n",
    "import schema_check"
   ]
  },
  {
   "cell_type": "markdown",
   "metadata": {},
   "source": [
    "What we have imported is a decorator that shows the types schemas of at least a subset of positional and named arguments. Declarations are either Python types, or sets of types. A special case is dictoinaries, which specify a subset of the column structure of data frames. \"return_spec\" is reserved to name the return schema of the function.\n"
   ]
  },
  {
   "cell_type": "code",
   "execution_count": 6,
   "metadata": {},
   "outputs": [],
   "source": [
    "# standard define a function\n",
    "def fn(a, /, b, *, c, d=None):\n",
    "    \"\"\"doc\"\"\"\n",
    "    return d"
   ]
  },
  {
   "cell_type": "markdown",
   "metadata": {},
   "source": [
    "\n",
    "Let's decorate a function with `SchemaCheck`. The details of this decorator are documented [here](https://github.com/WinVector/Examples/tree/main/arg_types#readme)."
   ]
  },
  {
   "cell_type": "code",
   "execution_count": 7,
   "metadata": {},
   "outputs": [],
   "source": [
    "# same function definition, now with schema decorator\n",
    "@schema_check.SchemaCheck({\n",
    "        'a': int, \n",
    "        'b': {int, float}, \n",
    "        'c': {'x': int},\n",
    "        },\n",
    "        return_spec={'z': float})\n",
    "def fn(a, /, b, *, c, d=None):\n",
    "    \"\"\"doc\"\"\"\n",
    "    return d"
   ]
  },
  {
   "cell_type": "markdown",
   "metadata": {},
   "source": [
    "This declaring that `fn()` expects at least:\n",
    "\n",
    "  * an argument `a` of type `int`.\n",
    "  * an argument `b` of type `int` or `float`.\n",
    "  * an argument `c` that is a data frame (implied by the dictionary argument), and that data frame contains a column `x` that has no non-null elements of type other than `int`.\n",
    "  * The functions returns a data frame (indicated by the dictionary argument) that has at least a column `z` that contains no non-null elements of type other than `float`.\n",
    "\n",
    "This gives us some enforceable invariants that can improve our code.\n",
    "\n",
    "We can somewhat see this repeated back in the decorator altered `help()`."
   ]
  },
  {
   "cell_type": "code",
   "execution_count": 8,
   "metadata": {},
   "outputs": [
    {
     "name": "stdout",
     "output_type": "stream",
     "text": [
      "Help on function fn in module __main__:\n",
      "\n",
      "fn(a, /, b, *, c, d=None)\n",
      "     arg specifications\n",
      "    {'a': <class 'int'>,\n",
      "     'b': {<class 'float'>, <class 'int'>},\n",
      "     'c': {'x': <class 'int'>}}\n",
      "     return specification:\n",
      "    {'z': <class 'float'>}\n",
      "    \n",
      "    \n",
      "    doc\n",
      "\n"
     ]
    }
   ],
   "source": [
    "# show altered help text\n",
    "help(fn)"
   ]
  },
  {
   "cell_type": "markdown",
   "metadata": {},
   "source": [
    "It is a learnable schema specification convention.\n",
    "\n",
    "Let's see it catch an error. We show what happens if we call `fn()` with none of the expected arguments."
   ]
  },
  {
   "cell_type": "code",
   "execution_count": 9,
   "metadata": {},
   "outputs": [
    {
     "name": "stdout",
     "output_type": "stream",
     "text": [
      "\n",
      "function fn(), issues:\n",
      "expected arg a missing  \n",
      "expected arg b missing  \n",
      "expected arg c missing\n"
     ]
    }
   ],
   "source": [
    "threw = False\n",
    "try:\n",
    "    fn()\n",
    "except TypeError as e:\n",
    "    print(e)\n",
    "    threw = True\n",
    "assert threw"
   ]
  },
  {
   "cell_type": "markdown",
   "metadata": {},
   "source": [
    "We can try with just one argument missing."
   ]
  },
  {
   "cell_type": "code",
   "execution_count": 10,
   "metadata": {},
   "outputs": [
    {
     "name": "stdout",
     "output_type": "stream",
     "text": [
      "\n",
      "function fn(), issues:\n",
      "expected arg c missing\n"
     ]
    }
   ],
   "source": [
    "try:\n",
    "    fn(1, 2)\n",
    "except TypeError as e:\n",
    "    print(e)\n",
    "    threw = True\n",
    "assert threw"
   ]
  },
  {
   "cell_type": "markdown",
   "metadata": {},
   "source": [
    "Or, and this is where we start to get benefits, we can call with a wrong argument type."
   ]
  },
  {
   "cell_type": "code",
   "execution_count": 11,
   "metadata": {},
   "outputs": [
    {
     "name": "stdout",
     "output_type": "stream",
     "text": [
      "\n",
      "function fn(), issues:\n",
      "arg c expected type pandas.DataFrame, found type int\n"
     ]
    }
   ],
   "source": [
    "threw = False\n",
    "try:\n",
    "    fn(1, 2, c=3)\n",
    "except TypeError as e:\n",
    "    print(e)\n",
    "    threw = True\n",
    "assert threw"
   ]
  },
  {
   "cell_type": "markdown",
   "metadata": {},
   "source": [
    "And we show that this checking pushes down into the structure of data frame arguments! \n",
    "\n",
    "These sort of checks are not for generic utility methods (such as `pd.merge()`), which are designed to work over a larger variety of schema. However, they are very useful near client interfaces, APIs, and database tables. This is a place where there is fixed schema information, and one can benefit from preserving it for just a bit longer. This technique and [the data algebra](https://github.com/WinVector/data_algebra) may naturally live near data sources.\n",
    "\n",
    "In data science the natural types are data frame schemas, knowing the type of the outer variables just isn't and interesting invariant."
   ]
  },
  {
   "cell_type": "code",
   "execution_count": 12,
   "metadata": {},
   "outputs": [
    {
     "name": "stdout",
     "output_type": "stream",
     "text": [
      "\n",
      "function fn(), issues:\n",
      "arg c missing required column 'x'\n"
     ]
    }
   ],
   "source": [
    "threw = False\n",
    "try:\n",
    "    fn(1, 2, c=pd.DataFrame({'z': [7]}))\n",
    "except TypeError as e:\n",
    "    print(e)\n",
    "    threw = True\n",
    "assert threw"
   ]
  },
  {
   "cell_type": "markdown",
   "metadata": {},
   "source": [
    "We can check column types in addition to mere column names."
   ]
  },
  {
   "cell_type": "code",
   "execution_count": 13,
   "metadata": {},
   "outputs": [
    {
     "name": "stdout",
     "output_type": "stream",
     "text": [
      "\n",
      "function fn(), issues:\n",
      "arg c  column 'x' expected type int, found type float\n"
     ]
    }
   ],
   "source": [
    "threw = False\n",
    "try:\n",
    "    fn(1, 2, c=pd.DataFrame({'x': [3.0]}))\n",
    "except TypeError as e:\n",
    "    print(e)\n",
    "    threw = True\n",
    "assert threw"
   ]
  },
  {
   "cell_type": "markdown",
   "metadata": {},
   "source": [
    "And we check return types."
   ]
  },
  {
   "cell_type": "code",
   "execution_count": 14,
   "metadata": {},
   "outputs": [
    {
     "name": "stdout",
     "output_type": "stream",
     "text": [
      "fn() return value: missing required column 'z'\n"
     ]
    },
    {
     "data": {
      "text/html": [
       "<div>\n",
       "<style scoped>\n",
       "    .dataframe tbody tr th:only-of-type {\n",
       "        vertical-align: middle;\n",
       "    }\n",
       "\n",
       "    .dataframe tbody tr th {\n",
       "        vertical-align: top;\n",
       "    }\n",
       "\n",
       "    .dataframe thead th {\n",
       "        text-align: right;\n",
       "    }\n",
       "</style>\n",
       "<table border=\"1\" class=\"dataframe\">\n",
       "  <thead>\n",
       "    <tr style=\"text-align: right;\">\n",
       "      <th></th>\n",
       "      <th>q</th>\n",
       "    </tr>\n",
       "  </thead>\n",
       "  <tbody>\n",
       "    <tr>\n",
       "      <th>0</th>\n",
       "      <td>7.0</td>\n",
       "    </tr>\n",
       "  </tbody>\n",
       "</table>\n",
       "</div>"
      ],
      "text/plain": [
       "     q\n",
       "0  7.0"
      ]
     },
     "execution_count": 14,
     "metadata": {},
     "output_type": "execute_result"
    }
   ],
   "source": [
    "\n",
    "rv = None\n",
    "threw = False\n",
    "try:\n",
    "    fn(\n",
    "        1, \n",
    "        2, \n",
    "        c=pd.DataFrame({'x': [30], \"z\": [17.2]}), \n",
    "        d=pd.DataFrame({'q': [7.0]}))\n",
    "except TypeError as e:\n",
    "    print(e.args[0])\n",
    "    rv = e.args[1]\n",
    "    threw = True\n",
    "assert threw\n",
    "\n",
    "# the return value is available for inspection\n",
    "rv"
   ]
  },
  {
   "cell_type": "markdown",
   "metadata": {},
   "source": [
    "Notice the rejected return value is attached to the `TypeError` to help with diagnosis and debugging.\n",
    "\n",
    "Now, let's show a successful call."
   ]
  },
  {
   "cell_type": "code",
   "execution_count": 15,
   "metadata": {},
   "outputs": [
    {
     "data": {
      "text/html": [
       "<div>\n",
       "<style scoped>\n",
       "    .dataframe tbody tr th:only-of-type {\n",
       "        vertical-align: middle;\n",
       "    }\n",
       "\n",
       "    .dataframe tbody tr th {\n",
       "        vertical-align: top;\n",
       "    }\n",
       "\n",
       "    .dataframe thead th {\n",
       "        text-align: right;\n",
       "    }\n",
       "</style>\n",
       "<table border=\"1\" class=\"dataframe\">\n",
       "  <thead>\n",
       "    <tr style=\"text-align: right;\">\n",
       "      <th></th>\n",
       "      <th>z</th>\n",
       "    </tr>\n",
       "  </thead>\n",
       "  <tbody>\n",
       "    <tr>\n",
       "      <th>0</th>\n",
       "      <td>7.0</td>\n",
       "    </tr>\n",
       "  </tbody>\n",
       "</table>\n",
       "</div>"
      ],
      "text/plain": [
       "     z\n",
       "0  7.0"
      ]
     },
     "execution_count": 15,
     "metadata": {},
     "output_type": "execute_result"
    }
   ],
   "source": [
    "fn(\n",
    "    1, \n",
    "    b=2, \n",
    "    c=pd.DataFrame({'x': [3]}), \n",
    "    d=pd.DataFrame({'z': [7.0]}))"
   ]
  },
  {
   "cell_type": "markdown",
   "metadata": {},
   "source": [
    "We can turn off the checking with a single global command."
   ]
  },
  {
   "cell_type": "code",
   "execution_count": 16,
   "metadata": {},
   "outputs": [],
   "source": [
    "# turn off checking globally\n",
    "SchemaCheckSwitch().off()"
   ]
  },
  {
   "cell_type": "markdown",
   "metadata": {},
   "source": [
    "And now notice a previously failing call is no longer checked."
   ]
  },
  {
   "cell_type": "code",
   "execution_count": 17,
   "metadata": {},
   "outputs": [
    {
     "data": {
      "text/html": [
       "<div>\n",
       "<style scoped>\n",
       "    .dataframe tbody tr th:only-of-type {\n",
       "        vertical-align: middle;\n",
       "    }\n",
       "\n",
       "    .dataframe tbody tr th {\n",
       "        vertical-align: top;\n",
       "    }\n",
       "\n",
       "    .dataframe thead th {\n",
       "        text-align: right;\n",
       "    }\n",
       "</style>\n",
       "<table border=\"1\" class=\"dataframe\">\n",
       "  <thead>\n",
       "    <tr style=\"text-align: right;\">\n",
       "      <th></th>\n",
       "      <th>q</th>\n",
       "    </tr>\n",
       "  </thead>\n",
       "  <tbody>\n",
       "    <tr>\n",
       "      <th>0</th>\n",
       "      <td>7.0</td>\n",
       "    </tr>\n",
       "  </tbody>\n",
       "</table>\n",
       "</div>"
      ],
      "text/plain": [
       "     q\n",
       "0  7.0"
      ]
     },
     "execution_count": 17,
     "metadata": {},
     "output_type": "execute_result"
    }
   ],
   "source": [
    "# show wrong return value is now allowed\n",
    "fn(\n",
    "    1, \n",
    "    2, \n",
    "    c=pd.DataFrame({'x': [30], \"z\": [17.2]}), \n",
    "    d=pd.DataFrame({'q': [7.0]}))"
   ]
  },
  {
   "cell_type": "markdown",
   "metadata": {},
   "source": [
    "The return value has is missing the required `z` column, but with checks off the function is not interfered with.\n",
    "\n",
    "The idea is: when checks are on failures are detected much closer to causes, making debugging and diagnosis much easier. Also the decorations are a easy way to document in human readable form some basics of the expected input and output schemas.\n",
    "\n",
    "And the input and output schema are attached to the function as objects."
   ]
  },
  {
   "cell_type": "code",
   "execution_count": 18,
   "metadata": {},
   "outputs": [
    {
     "name": "stdout",
     "output_type": "stream",
     "text": [
      "{'a': <class 'int'>,\n",
      " 'b': {<class 'float'>, <class 'int'>},\n",
      " 'c': {'x': <class 'int'>}}\n"
     ]
    }
   ],
   "source": [
    "# show argument schema specifications\n",
    "pprint(fn.data_schema.arg_specs)"
   ]
  },
  {
   "cell_type": "code",
   "execution_count": 19,
   "metadata": {},
   "outputs": [
    {
     "name": "stdout",
     "output_type": "stream",
     "text": [
      "{'z': <class 'float'>}\n"
     ]
    }
   ],
   "source": [
    "# show return value schema\n",
    "pprint(fn.data_schema.return_spec)"
   ]
  },
  {
   "cell_type": "markdown",
   "metadata": {},
   "source": [
    "This makes the schema data available for other use, even some automatic checking of function composition conditions!\n",
    "\n",
    "\n",
    "The technique can run into what I call \"the first rule of meta-programming\". Meta-programming only works as long as it doesn't run into other meta-programming. That being said, I feel these decorators can be very valuable in Python data science projects.\n",
    "\n",
    "The implementation, documentation, and demo of this methodology can be found [here](https://github.com/WinVector/Examples/tree/main/arg_types).\n"
   ]
  }
 ],
 "metadata": {
  "kernelspec": {
   "display_name": "research_env",
   "language": "python",
   "name": "python3"
  },
  "language_info": {
   "codemirror_mode": {
    "name": "ipython",
    "version": 3
   },
   "file_extension": ".py",
   "mimetype": "text/x-python",
   "name": "python",
   "nbconvert_exporter": "python",
   "pygments_lexer": "ipython3",
   "version": "3.11.4"
  },
  "orig_nbformat": 4
 },
 "nbformat": 4,
 "nbformat_minor": 2
}
