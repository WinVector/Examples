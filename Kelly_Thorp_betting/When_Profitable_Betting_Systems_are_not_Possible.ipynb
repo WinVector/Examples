{
 "cells": [
  {
   "cell_type": "markdown",
   "id": "organizational-disclosure",
   "metadata": {},
   "source": [
    "# When Profitable Betting Systems are not Possible\n",
    "\n",
    "## Introduction\n",
    "\n",
    "In this note I would like to demonstrate the impossibility of\n",
    "a profitable betting system for fair coin flip style games.\n",
    "\n",
    "This is in contrast to the case of card-dealing games, which\n",
    "can often have profitable betting systems. The most famous betting\n",
    "system is [Thorp](https://en.wikipedia.org/wiki/Edward_O._Thorp)'s card counting strategies for [blackjack or 21](https://en.wikipedia.org/wiki/Blackjack), in turn based on [Kelly's\n",
    "criterion](https://en.wikipedia.org/wiki/Kelly_criterion). We demonstrate an\n",
    "example of a working card counting strategy (with code!) for the simple game of guessing whether the next\n",
    "card dealt is red or black can be found [here](https://win-vector.com/2021/02/25/kelly-thorp-betting/).\n",
    "\n",
    "### Betting Systems\n",
    "\n",
    "I find many non-mathematicians are completely unsatisfied with\n",
    "the claim that there cannot be a winning betting system for fair coin flip style games.\n",
    "They have a valid point; the result ([Doob's optional\n",
    "stopping theorem](https://en.wikipedia.org/wiki/Optional_stopping_theorem)) is very close to the definitions. \n",
    "So the usual proof doesn't have a lot of\n",
    "content, and the audience usually doesn't have ready access to correct and concise\n",
    "statements of the appropriate probability definitions to start from.\n",
    "\n",
    "I would like to state some very simple *software engineering* definitions, that are sufficient\n",
    "to rigorously calculate the expected or average value of a betting system over a [martingale](https://en.wikipedia.org/wiki/Martingale_(probability_theory)) (the proper name for the class of random processes that include what I\n",
    "have been calling \"fair coin flip\").\n",
    "We will then show that the expected change in stake is zero with\n",
    "respect to any implementable betting system.\n",
    "\n",
    "Proving that a betting system for cards exists is easy: it is enough\n",
    "to propose one and see it work, as we do [here](https://win-vector.com/2021/02/25/kelly-thorp-betting/). Proving a betting system\n",
    "for fair coin flips can not exist is in principle harder, as we\n",
    "are not saying only one system doesn't work- but asserting no system would.\n",
    "\n",
    "To appreciate this, the reader will have to accept two things.\n",
    "\n",
    "  * Our clunky stand-in notation for probability theory captures\n",
    "    a little bit of the intuition of probabilities.\n",
    "  * That some things can be shown to be impossible. We are not using\n",
    "    the informal definition of impossible as \"very difficult\" which\n",
    "    allows phrases such as\n",
    "    Charles Alexandre de Calonne's \"Madame, si c'est possible, c'est fait;\n",
    "    impossible? cela se fera.\"\n",
    "    Or the WW2 US Army's \"The difficult we do immediately, the impossible takes a\n",
    "    little longer.\"\n",
    "    \n",
    "Luckily we don't really have to show anything is impossible. All we have to do \n",
    "is show the expected net-change in stake for any fair coin betting system is zero.\n",
    "That isn't to say there are not wild high-variance betting systems, it is just\n",
    "they all share the same expected change in stake: zero.\n",
    "\n",
    "So we are actually faced with a positive calculation."
   ]
  },
  {
   "cell_type": "markdown",
   "id": "continuous-offset",
   "metadata": {},
   "source": [
    "## Definitions\n",
    "\n",
    "We are going to work over a large table data structure for this entire\n",
    "note. This data structure is not powerful enough or graceful enough\n",
    "to represent all of the ideas of mathematical probability. However,\n",
    "it is just enough to precisely define our terms\n",
    "(including \"expected value\") and calculate that the expected value of\n",
    "betting in a martingale is zero.\n",
    "\n",
    "### Our event data table\n",
    "\n",
    "We are going to organize or betting situation and simulatons into\n",
    "$N$ rounds. For each round we generate:\n",
    "\n",
    "  * The last coin flip outcome \"$+1$\" (heads)\n",
    "    or \"$-1$\" (tails). Call this $C[t]$.\n",
    "  * A \"random number\" the betting algorithm can use, if desired, to \n",
    "    simulate randomized behavior. This is always an integer in the\n",
    "    range $0 \\cdots M$. Call this $U[t]$.\n",
    "    \n",
    "The entire trajectory or history of a possible play is stored\n",
    "in two vectors $(C, U)$. Where $C[t]$ is the $t$-th coin flip\n",
    "and $U[t]$ is the $t$-th bit of user randomness.\n",
    "There are exactly $2 M$ values for each round, so there are\n",
    "$2^N M^N$ possible distinct records $(C, U)$.\n",
    "We assume a notional table that has each possible record exactly once,\n",
    "hence holding $2^N M^N$ records.\n",
    "\n",
    "We are betting for exactly $N$ rounds. The game ends at time $N$, or\n",
    "earlier (betting zero is the same as not playing). All algorithms\n",
    "are going to be deterministic, aside from the random numbers we supply.\n",
    "With this crude finitist setup we avoid having to discuss many issues\n",
    "of measure theory.\n",
    "\n",
    "Our gambling simulation works as follows:\n",
    "\n",
    "  * A single record $(C, U)$ is drawn from our table, with each of the\n",
    "    $2^N M^N$ records being equally likely. This is the only\n",
    "    place we use probability in these arguments.\n",
    "  * We then simulate the gambling game by saying the\n",
    "    values $C_1, \\cdots, C_{t-1}$ and $U_1, \\cdots U_t$ are \"what is\n",
    "    seen at time $t$.\" Or, the record observable at time $t$ is\n",
    "    $(C[1:(t-1)], U[1:t])$.\n",
    "\n",
    "Our entire appeal to the theory of distributions is: repeated plays\n",
    "of the game approach the expected value of summing over all rows\n",
    "in the above table. Thus, if we calculate the expected value\n",
    "of this table we have the expected value of repeated play.\n",
    "\n",
    "The trick of pretending all of the random\n",
    "selections have happened before we start is one of the most\n",
    "powerful in reasoning about probabilistic systems. It is perhaps\n",
    "most famous in its use in Doob's exposure martingale. The idea\n",
    "being: we pretend all random events are written down\n",
    "before we start, and we merely expose them in time order.\n",
    "\n",
    "Let's realize an example of this data structure in `Python`. Some indexing will be from zero, not\n",
    "1 as Python and mathematics conventions differ.\n",
    "\n",
    "Let's define an example record table with no user-random numbers $U$."
   ]
  },
  {
   "cell_type": "code",
   "execution_count": 1,
   "id": "average-publication",
   "metadata": {
    "collapsed": false,
    "jupyter": {
     "outputs_hidden": false
    },
    "pycharm": {
     "name": "#%%\n"
    }
   },
   "outputs": [
    {
     "data": {
      "text/plain": [
       "[record(C=(1, 1, 1), U=(0, 0, 0)),\n",
       " record(C=(1, 1, -1), U=(0, 0, 0)),\n",
       " record(C=(1, -1, 1), U=(0, 0, 0)),\n",
       " record(C=(1, -1, -1), U=(0, 0, 0)),\n",
       " record(C=(-1, 1, 1), U=(0, 0, 0)),\n",
       " record(C=(-1, 1, -1), U=(0, 0, 0)),\n",
       " record(C=(-1, -1, 1), U=(0, 0, 0)),\n",
       " record(C=(-1, -1, -1), U=(0, 0, 0))]"
      ]
     },
     "execution_count": 1,
     "metadata": {},
     "output_type": "execute_result"
    }
   ],
   "source": [
    "import numpy\n",
    "import collections\n",
    "import itertools\n",
    "\n",
    "record = collections.namedtuple('record', 'C U')\n",
    "\n",
    "def mk_record_table(*, N, M):\n",
    "    Ms = [v for v in range(M)]\n",
    "    Cs = [v for v in itertools.product((+1, -1), repeat=N)]\n",
    "    Us = [v for v in itertools.product(Ms, repeat=N)]\n",
    "    return([record(v[0], v[1]) \n",
    "            for v in itertools.product(Cs, Us)])\n",
    "\n",
    "record_table = mk_record_table(N=3, M=1)\n",
    "record_table"
   ]
  },
  {
   "cell_type": "markdown",
   "id": "likely-science",
   "metadata": {},
   "source": [
    "### A betting strategy\n",
    "\n",
    "A betting strategy is a\n",
    "function $\\text{betfn}(\\text{stake}, t, (C'[1:(t-1), U'[1:t]))$ that takes\n",
    "as arguments:\n",
    "\n",
    "  * $\\text{stake}$: the current complete holdings. For simplicity we assume\n",
    "    the initial holdings or stake is $1$, and fractional bets are allowed.\n",
    "  * $t$: the current time or stage.\n",
    "  * $(C[1:(t-1)], U[1:t])$: the observed coin flip outcomes prior to now,\n",
    "    and the user-random helper data up to now.\n",
    "\n",
    "If the function $\\text{betfn}$ returns a valid floating point number in the range\n",
    "$[-1, +1]$, in no more than $W$ seconds (say $W = 120$),\n",
    "without throwing an exception, or abnormally exiting, then the\n",
    "stage-$t$ bet $b(t)$ is the returned value times the current holding or stake.\n",
    "Otherwise the bet $b(t) = 0$. The bet function is putting on \"heads\" with positive returns,\n",
    "and \"tails\" tails with negative returns.\n",
    "\n",
    "Let's define our example betting strategy."
   ]
  },
  {
   "cell_type": "code",
   "execution_count": 2,
   "id": "federal-monte",
   "metadata": {
    "collapsed": false,
    "jupyter": {
     "outputs_hidden": false
    },
    "pycharm": {
     "name": "#%%\n"
    }
   },
   "outputs": [
    {
     "data": {
      "text/plain": [
       "record(C=[1], U=[0, 0])"
      ]
     },
     "execution_count": 2,
     "metadata": {},
     "output_type": "execute_result"
    }
   ],
   "source": [
    "def record_up_to_time(*, rec, t):\n",
    "    return(record([rec.C[i] for i in range(t-1)], \n",
    "                  [rec.U[i] for i in range(t)]))\n",
    "\n",
    "partial_record = record_up_to_time(rec=record_table[2], t=2)\n",
    "partial_record"
   ]
  },
  {
   "cell_type": "code",
   "execution_count": 3,
   "id": "clear-method",
   "metadata": {
    "collapsed": false,
    "jupyter": {
     "outputs_hidden": false
    },
    "pycharm": {
     "name": "#%%\n"
    }
   },
   "outputs": [
    {
     "data": {
      "text/plain": [
       "0.5"
      ]
     },
     "execution_count": 3,
     "metadata": {},
     "output_type": "execute_result"
    }
   ],
   "source": [
    "def betfn(*, stake, t, rec):\n",
    "    # bet mean flip outcome seen up to now\n",
    "    if len(rec.C) <= 0:\n",
    "        return 0\n",
    "    return(0.5 * numpy.mean(rec.C))\n",
    "\n",
    "betfn(stake = 1, t = 2, rec=partial_record)"
   ]
  },
  {
   "cell_type": "markdown",
   "id": "front-horizontal",
   "metadata": {},
   "source": [
    "### Valuing a betting trajectory\n",
    "\n",
    "For any single complete record $(C, U)$ we can define the value of\n",
    "a $\\text{betfn}()$ trajectory,\n",
    "written as $\\text{value}(\\text{betfn}, (C, U))$ as follows.\n",
    "\n",
    "  * $\\text{stake}(1) = 1$ is the original stake or amount of money held.\n",
    "  * $\\text{stake}(t+1) = \\text{stake}(t) + C[t] \\; \\text{bet}(t) \\; \\text{stake}(t)$, where\n",
    "    $bet(t) = \\text{betfn}(\\text{stake}, t, (C[1:(t-1)], U[1:t]))$.\n",
    "    This encodes: the bet is calculated by $\\text{betfn}()$, and the sign of\n",
    "    the bet is a prediction of the sign of $C[t]$. We get our bet\n",
    "    paid out if $\\text{sign}(C[t]) == \\text{sign}(bet(t))$ and we lose our bet\n",
    "    if $\\text{sign}(C[t]) \\neq \\text{sign}(bet(t))$.\n",
    "  * We apply the above rules inductively to find the final holdings\n",
    "    $\\text{stake}(N+1)$. We call $\\text{stake}(N+1)$ the\n",
    "    final value of\n",
    "    $\\text{betfn}()$ for the record $(C, U)$. This is written as:\n",
    "    $\\text{value}(\\text{betfn}, (C, U))$.\n",
    "\n",
    "It takes a while, but by working all the cases one can conclude that the\n",
    "$\\text{stake}(t+1) = \\text{stake}(t) + C[t] \\; \\text{bet}(t) \\; \\text{stake}(t)$\n",
    "pays off when the sign of the stake and bet are the same and takes money\n",
    "away when they are opposite. I find the expression slightly nicer than\n",
    "the equivalent `if/else` code.\n",
    "\n",
    "Let's build code to value our betting function."
   ]
  },
  {
   "cell_type": "code",
   "execution_count": 4,
   "id": "sound-removal",
   "metadata": {
    "collapsed": false,
    "jupyter": {
     "outputs_hidden": false
    },
    "pycharm": {
     "name": "#%%\n"
    }
   },
   "outputs": [
    {
     "name": "stdout",
     "output_type": "stream",
     "text": [
      "record(C=(1, 1, 1), U=(0, 0, 0))\n",
      "time: 0\n",
      "   bet fraction: 0\n",
      "   bet quantity: 0.0\n",
      "   outcome: 1\n",
      "   stake: 1.0 -> 1.0\n",
      "time: 1\n",
      "   bet fraction: 0.5\n",
      "   bet quantity: 0.5\n",
      "   outcome: 1\n",
      "   stake: 1.0 -> 1.5\n",
      "time: 2\n",
      "   bet fraction: 0.5\n",
      "   bet quantity: 0.75\n",
      "   outcome: 1\n",
      "   stake: 1.5 -> 2.25\n"
     ]
    },
    {
     "data": {
      "text/plain": [
       "2.25"
      ]
     },
     "execution_count": 4,
     "metadata": {},
     "output_type": "execute_result"
    }
   ],
   "source": [
    "def value_fn(*, betfn, rec, verbose=False):\n",
    "    if verbose:\n",
    "        print(rec)\n",
    "    stake = 1.0\n",
    "    for t in range(len(rec.C)):\n",
    "        if verbose:\n",
    "            print('time: ' + str(t))\n",
    "        bet = betfn(\n",
    "            stake=stake, \n",
    "            t=t, \n",
    "            rec=record_up_to_time(rec=rec, t=t+1))\n",
    "        if verbose:\n",
    "            print('   bet fraction: ' + str(bet))\n",
    "            print('   bet quantity: ' + str(bet * stake))\n",
    "        assert bet >= -1\n",
    "        assert bet <= 1\n",
    "        new_stake = stake + rec.C[t] * bet * stake\n",
    "        if verbose:\n",
    "            print('   outcome: ' + str(rec.C[t]))\n",
    "            print('   stake: ' + str(stake) \n",
    "                  + ' -> ' + str(new_stake))\n",
    "        stake = new_stake\n",
    "    return(stake)\n",
    "\n",
    "value_fn(betfn=betfn, rec=record_table[0], verbose=True)"
   ]
  },
  {
   "cell_type": "markdown",
   "id": "prompt-sally",
   "metadata": {},
   "source": [
    "In the above trajectory we converted our initial stake of $1$ to $2.25$, for a net-profit of $1.25$.\n",
    "\n",
    "Let's try another example."
   ]
  },
  {
   "cell_type": "code",
   "execution_count": 5,
   "id": "acute-honor",
   "metadata": {
    "collapsed": false,
    "jupyter": {
     "outputs_hidden": false
    },
    "pycharm": {
     "name": "#%%\n"
    }
   },
   "outputs": [
    {
     "name": "stdout",
     "output_type": "stream",
     "text": [
      "record(C=(1, 1, -1), U=(0, 0, 0))\n",
      "time: 0\n",
      "   bet fraction: 0\n",
      "   bet quantity: 0.0\n",
      "   outcome: 1\n",
      "   stake: 1.0 -> 1.0\n",
      "time: 1\n",
      "   bet fraction: 0.5\n",
      "   bet quantity: 0.5\n",
      "   outcome: 1\n",
      "   stake: 1.0 -> 1.5\n",
      "time: 2\n",
      "   bet fraction: 0.5\n",
      "   bet quantity: 0.75\n",
      "   outcome: -1\n",
      "   stake: 1.5 -> 0.75\n"
     ]
    },
    {
     "data": {
      "text/plain": [
       "0.75"
      ]
     },
     "execution_count": 5,
     "metadata": {},
     "output_type": "execute_result"
    }
   ],
   "source": [
    "value_fn(betfn=betfn, rec=record_table[1], verbose=True)"
   ]
  },
  {
   "cell_type": "markdown",
   "id": "advance-flash",
   "metadata": {
    "jupyter": {
     "outputs_hidden": false
    },
    "pycharm": {
     "name": "#%%\n"
    }
   },
   "source": [
    "This time we ended with a stake of $0.75$, for a net-loss of $0.25$."
   ]
  },
  {
   "cell_type": "markdown",
   "id": "critical-solution",
   "metadata": {},
   "source": [
    "### Valuing a betting strategy\n",
    "\n",
    "To value a betting strategy we compute the expected value against our\n",
    "table of all possible $(C, U)$ records.\n",
    "\n",
    "For this writeup define the conditional expected value of a function $\\text{betfn}()$\n",
    "as:\n",
    "\n",
    "$\\text{E}_{(C', U')}[\\text{betfn}() | (C[1:(t-1)], U[1:t])] = \\frac{\n",
    "\\sum_{(C', U') s.t. C'[1:(t-1)] = C[1:(t-1)], U'[1:t] = U[1:t]} \\text{value}(\\text{betfn}, (C', U'))}{\n",
    "\\sum_{(C', U') s.t. C'[1:(t-1)] = C[1:(t-1)], U'[1:t] = U[1:t]} 1}$.\n",
    "\n",
    "That is: on average\n",
    "how does the bet function perform, conditioned what we know up to now.\n",
    "$(C', U')$ are taken from all rows of our table that agree with $(C, U)$ \"up to time $t$.\"\n",
    "This definition is in fact an [expectation](https://en.wikipedia.org/wiki/Expected_value), but not as versatile as the more general definitions.\n",
    "\n",
    "When $t$ is $0$ we shorten the notation $\\text{E}_{(C', U')}[\\text{betfn}() | ()]$ to $\\text{E}_{(C', U')}[\\text{betfn}()]$.\n",
    "\n",
    "The formula can be translated to code as follows."
   ]
  },
  {
   "cell_type": "code",
   "execution_count": 6,
   "id": "martial-curtis",
   "metadata": {
    "collapsed": false,
    "jupyter": {
     "outputs_hidden": false
    },
    "pycharm": {
     "name": "#%%\n"
    }
   },
   "outputs": [
    {
     "name": "stdout",
     "output_type": "stream",
     "text": [
      " match record(C=(1, 1, 1), U=(0, 0, 0)), value = 2.25\n",
      " match record(C=(1, 1, -1), U=(0, 0, 0)), value = 0.75\n",
      " match record(C=(1, -1, 1), U=(0, 0, 0)), value = 0.5\n",
      " match record(C=(1, -1, -1), U=(0, 0, 0)), value = 0.5\n",
      " match record(C=(-1, 1, 1), U=(0, 0, 0)), value = 0.5\n",
      " match record(C=(-1, 1, -1), U=(0, 0, 0)), value = 0.5\n",
      " match record(C=(-1, -1, 1), U=(0, 0, 0)), value = 0.75\n",
      " match record(C=(-1, -1, -1), U=(0, 0, 0)), value = 2.25\n"
     ]
    },
    {
     "data": {
      "text/plain": [
       "1.0"
      ]
     },
     "execution_count": 6,
     "metadata": {},
     "output_type": "execute_result"
    }
   ],
   "source": [
    "# define our conditional expectation function\n",
    "# (designed to transparently match definitions, not for speed)\n",
    "def E(*, betfn, condition=None, verbose=False):\n",
    "    numerator = 0\n",
    "    denominator = 0\n",
    "    for rec in record_table:\n",
    "        if ((condition is None) or \n",
    "            (record_up_to_time(rec=rec, t=len(condition.U)) == condition)):\n",
    "            vi = value_fn(betfn=betfn, rec=rec)\n",
    "            numerator = numerator + vi\n",
    "            denominator = denominator + 1\n",
    "            if verbose:\n",
    "                print(\" match \" + str(rec) + \", value = \" + str(vi))\n",
    "        else:\n",
    "            if verbose:\n",
    "                print(\" no-match \" + str(rec))\n",
    "    return(numerator / denominator)\n",
    "\n",
    "# compute an unconditional expected value\n",
    "E(betfn=betfn, verbose=True)"
   ]
  },
  {
   "cell_type": "markdown",
   "id": "second-culture",
   "metadata": {},
   "source": [
    "Notice the calculated value of $\\text{betfn}()$ is exactly `1`, or the initial stake. Expectation appears to be behaving as claimed.\n",
    "\n",
    "We can also use the same code to continue the game from an initial conditioning state."
   ]
  },
  {
   "cell_type": "code",
   "execution_count": 7,
   "id": "generous-satellite",
   "metadata": {
    "collapsed": false,
    "jupyter": {
     "outputs_hidden": false
    },
    "pycharm": {
     "name": "#%%\n"
    }
   },
   "outputs": [
    {
     "data": {
      "text/plain": [
       "record(C=[1], U=[0, 0])"
      ]
     },
     "execution_count": 7,
     "metadata": {},
     "output_type": "execute_result"
    }
   ],
   "source": [
    "# Let's add some conditioning\n",
    "partial_record"
   ]
  },
  {
   "cell_type": "code",
   "execution_count": 8,
   "id": "resident-insert",
   "metadata": {
    "collapsed": false,
    "jupyter": {
     "outputs_hidden": false
    },
    "pycharm": {
     "name": "#%%\n"
    }
   },
   "outputs": [
    {
     "name": "stdout",
     "output_type": "stream",
     "text": [
      " match record(C=(1, 1, 1), U=(0, 0, 0)), value = 2.25\n",
      " match record(C=(1, 1, -1), U=(0, 0, 0)), value = 0.75\n",
      " match record(C=(1, -1, 1), U=(0, 0, 0)), value = 0.5\n",
      " match record(C=(1, -1, -1), U=(0, 0, 0)), value = 0.5\n",
      " no-match record(C=(-1, 1, 1), U=(0, 0, 0))\n",
      " no-match record(C=(-1, 1, -1), U=(0, 0, 0))\n",
      " no-match record(C=(-1, -1, 1), U=(0, 0, 0))\n",
      " no-match record(C=(-1, -1, -1), U=(0, 0, 0))\n"
     ]
    },
    {
     "data": {
      "text/plain": [
       "1.0"
      ]
     },
     "execution_count": 8,
     "metadata": {},
     "output_type": "execute_result"
    }
   ],
   "source": [
    "# compute a conditional expected value\n",
    "E(betfn=betfn, condition=partial_record, verbose=True)"
   ]
  },
  {
   "cell_type": "markdown",
   "id": "unusual-berkeley",
   "metadata": {},
   "source": [
    "We start this game later into the sequence with a stake of `1` at that time. "
   ]
  },
  {
   "cell_type": "markdown",
   "id": "developed-tumor",
   "metadata": {},
   "source": [
    "Notice in both cases the expected value of the final stake is exactly the initial stake value 1!"
   ]
  },
  {
   "cell_type": "markdown",
   "id": "statewide-replication",
   "metadata": {},
   "source": [
    "To calculate we will need some standard fact about expectations. I'll list them here\n",
    "so they seem a bit less like cheating when we appeal to them. Items written as functions\n",
    "(with trailing parenthesis) are functions of $(C', U')$. Items without parenthesis are constants\n",
    "independent of $(C', U')$. We are not stating things in full generality, but in simplest terms\n",
    "that allow a complete calculation to be demonstrated. $Z()$ is a placeholder for any conditioning\n",
    "information.\n",
    "\n",
    "  * Expected value of a constant:\n",
    "    $\\text{E}_{(C', U')}[a | Z()] = a$. When $a$ is a value not varying as a function of $(C', U')$ we can simplify by dropping\n",
    "    the expectation notation.\n",
    "  * Linearity of expectation:\n",
    "    $\\text{E}_{(C', U')}[A() + B() | Z()] = \\text{E}_{(C', U')}[A() | Z()] + \\text{E}_{(C', U')}[B() | Z()]$. This is one of the most important\n",
    "    facts about expected values, and follows as expectations are just adding things up.\n",
    "  * Scaling of expectation:\n",
    "    $\\text{E}_{(C', U')}[a \\; B() | Z()] = a \\; \\text{E}_{(C', U')}[B() | Z()]$, where $a$ is a constant. This is a much weaker version\n",
    "    of the general fact that expectations of independent products are products of expectations. For this note we only need\n",
    "    this weaker form that expected values scale with constants.\n",
    "  * Witness: if $\\text{E}_{(C', U')}[A()] \\neq 0$ then there is witness value $w$ such\n",
    "    that $\\text{E}_{(C', U')}[A()| Z() = w] \\neq 0$. The idea is: if an expectation is not zero,\n",
    "    there must be some set of events where it is not zero.\n",
    "\n",
    "The above are true in general for expectations, and can be explicitly confirmed for\n",
    "our formulation."
   ]
  },
  {
   "cell_type": "markdown",
   "id": "incident-drama",
   "metadata": {},
   "source": [
    "## The claim\n",
    "\n",
    "Now that we have precise definitions we can make our claim.\n",
    "We are going to definitions so we are all using the same\n",
    "translation from English to mathematics and algorithms in this\n",
    "discussion.\n",
    "\n",
    "> Claim: For any $\\text{betfn}()$ defined as\n",
    "> above we have the expected value $\\text{E}_{(C', U')}[\\text{betfn}()]$\n",
    "> is $\\text{stake}(1)$.\n",
    "> Or, informally, $\\text{E}_{(C', U')}[\\text{stake}(N+1)] = \\text{stake}(1)$.\n",
    "\n",
    "That is: there is no betting strategy that is reliable in making,\n",
    "or even losing money. It is an important point to consider: if we could design a strategy\n",
    "that reliably lost money, we could build a profitable one by\n",
    "simply reversing its bets.\n",
    "\n",
    "This is what we mean when saying a successful betting system on a fair coin is\n",
    "impossible. All such betting systems have the same expected delta value: zero.\n",
    "\n",
    "Let's try another betting strategy before we prove the theorem. In this case let's try\n",
    "the small martingale always betting on positive. This is a classic gambler's fallacy:\n",
    "bet on plus. If we win walk away with a profit. If we lose roughly double the bet\n",
    "to try to make up the loss and win. This strategy wins on every sequence except one:\n",
    "the all minus draw."
   ]
  },
  {
   "cell_type": "code",
   "execution_count": 9,
   "id": "least-filename",
   "metadata": {
    "collapsed": false,
    "jupyter": {
     "outputs_hidden": false
    },
    "pycharm": {
     "name": "#%%\n"
    }
   },
   "outputs": [
    {
     "name": "stdout",
     "output_type": "stream",
     "text": [
      "record(C=(-1, -1, 1), U=(0, 0, 0))\n",
      "time: 0\n",
      "   bet fraction: 0.125\n",
      "   bet quantity: 0.125\n",
      "   outcome: -1\n",
      "   stake: 1.0 -> 0.875\n",
      "time: 1\n",
      "   bet fraction: 0.2857142857142858\n",
      "   bet quantity: 0.2500000000000001\n",
      "   outcome: -1\n",
      "   stake: 0.875 -> 0.6249999999999999\n",
      "time: 2\n",
      "   bet fraction: 0.8000000000000003\n",
      "   bet quantity: 0.5000000000000001\n",
      "   outcome: 1\n",
      "   stake: 0.6249999999999999 -> 1.125\n"
     ]
    },
    {
     "data": {
      "text/plain": [
       "1.125"
      ]
     },
     "execution_count": 9,
     "metadata": {},
     "output_type": "execute_result"
    }
   ],
   "source": [
    "# the classic: double when I lose, quit when ahead strategy\n",
    "# in this case always betting on +1\n",
    "def small_martingale(*, stake, t, rec, fraction=1/8):\n",
    "    if stake > 1:\n",
    "        return(0) # we are ahead, quit betting\n",
    "    if stake == 1:\n",
    "        return(fraction) # first bet, fraction of our holdings\n",
    "    # stake < 1, we are behind! bet on + enough to try and finish game\n",
    "    return(min(1, (1 + fraction)/stake -1))\n",
    "\n",
    "value_fn(betfn=small_martingale, rec=record_table[6], verbose=True)"
   ]
  },
  {
   "cell_type": "markdown",
   "id": "dimensional-mexican",
   "metadata": {},
   "source": [
    "The problem is: the strategy loses so much money in the minus situation it eats up\n",
    "all the winnings in all the other alternatives. And the expected value is again\n",
    "exactly the initial stakes: 1. For larger $N$ and smaller initial bets relative to the total\n",
    "stake one can make ruin arbitrarily unlikely. But the ruin still happens, and always loses\n",
    "exactly the amount of money to erase all the winnings."
   ]
  },
  {
   "cell_type": "code",
   "execution_count": 10,
   "id": "desirable-polish",
   "metadata": {
    "collapsed": false,
    "jupyter": {
     "outputs_hidden": false
    },
    "pycharm": {
     "name": "#%%\n"
    }
   },
   "outputs": [
    {
     "name": "stdout",
     "output_type": "stream",
     "text": [
      " match record(C=(1, 1, 1), U=(0, 0, 0)), value = 1.125\n",
      " match record(C=(1, 1, -1), U=(0, 0, 0)), value = 1.125\n",
      " match record(C=(1, -1, 1), U=(0, 0, 0)), value = 1.125\n",
      " match record(C=(1, -1, -1), U=(0, 0, 0)), value = 1.125\n",
      " match record(C=(-1, 1, 1), U=(0, 0, 0)), value = 1.125\n",
      " match record(C=(-1, 1, -1), U=(0, 0, 0)), value = 1.125\n",
      " match record(C=(-1, -1, 1), U=(0, 0, 0)), value = 1.125\n",
      " match record(C=(-1, -1, -1), U=(0, 0, 0)), value = 0.12499999999999978\n"
     ]
    },
    {
     "data": {
      "text/plain": [
       "1.0"
      ]
     },
     "execution_count": 10,
     "metadata": {},
     "output_type": "execute_result"
    }
   ],
   "source": [
    "E(betfn=small_martingale, verbose=True)"
   ]
  },
  {
   "cell_type": "markdown",
   "id": "rapid-struggle",
   "metadata": {},
   "source": [
    "Let's try a more conservative strategy: bet on positive, and stop on first time tails comes up. This strategy\n",
    "has the \"stopping\" spirit, it is always betting the same amount until it decides to leave the game (by betting zero from that point on)."
   ]
  },
  {
   "cell_type": "code",
   "execution_count": 11,
   "id": "senior-berry",
   "metadata": {},
   "outputs": [
    {
     "name": "stdout",
     "output_type": "stream",
     "text": [
      "record(C=(1, 1, -1), U=(0, 0, 0))\n",
      "time: 0\n",
      "   bet fraction: 1.0\n",
      "   bet quantity: 1.0\n",
      "   outcome: 1\n",
      "   stake: 1.0 -> 2.0\n",
      "time: 1\n",
      "   bet fraction: 0.5\n",
      "   bet quantity: 1.0\n",
      "   outcome: 1\n",
      "   stake: 2.0 -> 3.0\n",
      "time: 2\n",
      "   bet fraction: 0.3333333333333333\n",
      "   bet quantity: 1.0\n",
      "   outcome: -1\n",
      "   stake: 3.0 -> 2.0\n"
     ]
    },
    {
     "data": {
      "text/plain": [
       "2.0"
      ]
     },
     "execution_count": 11,
     "metadata": {},
     "output_type": "execute_result"
    }
   ],
   "source": [
    "def stop_on_first_tails(*, stake, t, rec, fraction=1/8):\n",
    "    # see if tails ever came up, \n",
    "    # if so we wrong as we always bet on heads\n",
    "    if any([ct < 0 for ct in rec.C]):\n",
    "        return(0) # stop betting forever\n",
    "    return(1 / stake) # bet constant amount (divide out stake)\n",
    "\n",
    "value_fn(betfn=stop_on_first_tails, rec=record_table[1], verbose=True)"
   ]
  },
  {
   "cell_type": "markdown",
   "id": "subjective-count",
   "metadata": {},
   "source": [
    "In the above example we see a net-win of $1$. However, as always, this doesn't hold on average."
   ]
  },
  {
   "cell_type": "code",
   "execution_count": 12,
   "id": "supreme-primary",
   "metadata": {},
   "outputs": [
    {
     "name": "stdout",
     "output_type": "stream",
     "text": [
      " match record(C=(1, 1, 1), U=(0, 0, 0)), value = 4.0\n",
      " match record(C=(1, 1, -1), U=(0, 0, 0)), value = 2.0\n",
      " match record(C=(1, -1, 1), U=(0, 0, 0)), value = 1.0\n",
      " match record(C=(1, -1, -1), U=(0, 0, 0)), value = 1.0\n",
      " match record(C=(-1, 1, 1), U=(0, 0, 0)), value = 0.0\n",
      " match record(C=(-1, 1, -1), U=(0, 0, 0)), value = 0.0\n",
      " match record(C=(-1, -1, 1), U=(0, 0, 0)), value = 0.0\n",
      " match record(C=(-1, -1, -1), U=(0, 0, 0)), value = 0.0\n"
     ]
    },
    {
     "data": {
      "text/plain": [
       "1.0"
      ]
     },
     "execution_count": 12,
     "metadata": {},
     "output_type": "execute_result"
    }
   ],
   "source": [
    "E(betfn=stop_on_first_tails, verbose=True)"
   ]
  },
  {
   "cell_type": "markdown",
   "id": "mathematical-canvas",
   "metadata": {},
   "source": [
    "We now see the content of the claim: one can not write a betting function that\n",
    "makes or even loses money in expected value. As long as the function is deterministic in its inputs, doesn't \"snoop the future, returns valid values in the range `[-1, 1]`, we don't experience numeric errors in tracking the stake, and we don't throw an exception the expected value calculation above will *always* return 1.\n",
    "\n",
    "One should really try coding up a few betting strategies to test the limits of the above claim!\n",
    "\n",
    "With such a theorem in hand \"I don't need to hear the details of your betting system to know it doesn't work.\" Or more politely: a fair coin (or martingale) evaluation is designed to exactly not allow any betting\n",
    "working betting system. Trying variations of the above code is a safe way to get experience with betting systems."
   ]
  },
  {
   "cell_type": "markdown",
   "id": "competitive-lawrence",
   "metadata": {},
   "source": [
    "## The proof\n",
    "\n",
    "\n",
    "As we have precise definitions, we can actually work a specific proof of our claim.\n",
    "It is in two parts:\n",
    "\n",
    "  * These betting systems are martingales.\n",
    "  * Martingales don't allow profits.\n",
    "\n",
    "This sort of mathematical proof isn't so much convincing, but showing a calculation\n",
    "dragged through all the steps yields the claimed result. We are intentionally belaboring the\n",
    "obvious, to try and make the \"obvious\" visible.\n",
    "\n",
    "The guiding principle is: a betting system like the above is called\n",
    "a martingale. The definition of a martingale is: for any step in time we\n",
    "have the expected value: \n",
    "\n",
    "> $\\text{E}_{(C', U')}[\\text{stake}(t+1)] = \\text{stake}(t)$\n",
    "\n",
    "Our setup is designed to represent a system with the martingale property: that a single bet doesn't know\n",
    "anything about the future. What we are trying to prove is: when this\n",
    "is the case, then even a sequence of bets can't predict the future. This is also called [Doob's optional stopping theorem](https://en.wikipedia.org/wiki/Optional_stopping_theorem).\n",
    "\n",
    "### Establishing the martingale property\n",
    "\n",
    "Let's first confirm the martingale property is present in our formulation. We are going\n",
    "to compute expectations of the form $\\text{E}_{(C', U')}[\\text{...} | (C[1:(t-1)], U[1:t])]$. For conciseness\n",
    "let's write this as $\\text{E}[\\text{...} | Z]$ for the next few equations. Also, most of the items\n",
    "in this expectation are functions of $(C', U')$, but we are not adding such subscripts for legibility.\n",
    "\n",
    "$\\begin{align*}\n",
    " \\text{E}[\\text{stake}(t+1) | Z] &= \\\\\n",
    " &\\#\\; \\text{by our payoff definition}  \\\\\n",
    " &= \\text{E}[\\text{stake}(t) + C'[t] \\; \\text{bet}(t) \\; \\text{stake}(t) | Z] \\\\\n",
    " &\\#\\; \\text{by linearity of expectation}  \\\\\n",
    " &= \\text{E}[\\text{stake}(t) | Z] + \\text{E}[C'[t] \\; \\text{bet}(t) \\; \\text{stake}(t) | Z] \\\\\n",
    " &\\#\\; \\text{bet}(t) \\; \\text{and} \\; \\text{stake}(t) \\; \\text{are constant given} \\; Z  \\\\\n",
    " &= \\text{E}[\\text{stake}(t) | Z] + \\text{E}[C'[t] | Z] \\; \\text{bet}(t) \\; \\text{stake}(t)  \\\\\n",
    " &\\#\\; \\text{substitute in} \\; \\text{E}[C'[t] | Z] = 0 \\; \\text{the fair coin flip} \\\\\n",
    " &= \\text{E}[\\text{stake}(t) | Z] + 0 \\; \\text{bet}(t) \\; \\text{stake}(t) \\\\\n",
    " &\\#\\; \\text{simplify}  \\\\\n",
    " &= \\text{E}[\\text{stake}(t) | Z] \\\\\n",
    " &\\#\\;\\text{equals our desired conclusion}  \\\\\n",
    " &= \\text{stake}(t) \n",
    "\\end{align*}$\n",
    "\n",
    "We are using $\\text{E}[C'[t] | Z] = 0$ as it is $+1$ and $-1$ each exactly half the time\n",
    "in the set of records we are using (those meeting the $Z$ condition). We are only using a very\n",
    "weak form of independence as $\\text{bet}(t) \\; \\text{stake}(t)$ is the same\n",
    "constant for all records meeting our $Z$ condition, as they all have the exact same history up to this time.\n",
    "This confirms the martingale condition is present in our formulation.\n",
    "\n",
    "We have essentially shown the martingale property: 1 round or single period fair coin flip games have expected value\n",
    "equal to the initial stake.\n",
    "All that remains to be shown is: even betting over multiple periods and\n",
    "picking when to stop betting doesn't make a difference.\n",
    "\n",
    "The experienced probabilist would not bother with the above.\n",
    "For them it is obvious that the system we are talking about has\n",
    "the martingale property:\n",
    "$\\text{E}_{(C', U')}[\\text{stake}(t+1)] = \\text{stake}(t)$.\n"
   ]
  },
  {
   "cell_type": "markdown",
   "id": "informational-security",
   "metadata": {},
   "source": [
    "### Proving the general theorem\n",
    "\n",
    "We know:\n",
    "\n",
    "$\\text{E}_{(C', U')}[\\text{stake}(t+1)] = \\text{stake}(t)$\n",
    "\n",
    "The full optional stopping theorem would be establishing one of the following (both are true):\n",
    "\n",
    "  * $\\text{E}_{(C', U')}[\\text{stake}(t)] = \\text{stake}(1)$\n",
    "  * $\\text{E}[\\text{stake}(t+1)] = \\text{E}[\\text{stake}(t)]$\n",
    "\n",
    "And we could prove either of these by more of the brutal symbol pushing we did earlier.\n",
    "Let's instead use a more fluid proof by contradiction. We want to reduce\n",
    "estimating $E[\\text{stake}_{\\text{betfn}()}(N+1)]- E[\\text{stake}_{\\text{betfn}()}(N)]$ to\n",
    "estimating $E[\\text{stake}_{\\text{betfn}()}(N+1)] - \\text{stake}_{\\text{betfn}()}(N)$ by constraining\n",
    "$\\text{stake}_{\\text{betfn}()}(N)$ to be a constant.\n",
    "\n",
    "Suppose there was a betting system specified by $M$, $N$, $\\text{betfn}()$ such that $\\text{E}_{(C', U')}[\\text{betfn}()] \\neq \\text{stake}(1)$.\n",
    "Further suppose this betting system has minimal play length $N$ for all such betting systems.\n",
    "\n",
    "This means:\n",
    "\n",
    "  * $\\text{E}_{(C', U')}[\\text{stake}_{\\text{betfn}()}(N)] = \\text{stake}(1)$.\n",
    "  * $\\text{E}_{(C', U')}[\\text{stake}_{\\text{betfn}()}(N+1)] \\neq \\text{stake}(1)$.\n",
    "  * So $\\text{E}_{(C', U')}[\\text{stake}_{\\text{betfn}()}(N+1) - \\text{stake}_{\\text{betfn}()}(N)] \\neq 0$\n",
    "\n",
    "So the magic, if any, is in the last stage. However, this can not be.\n",
    "\n",
    "If $\\text{E}_{(C', U')}[\\text{stake}_{\\text{betfn}()}(N+1) - \\text{stake}_{\\text{betfn}()}(N)] \\neq 0$\n",
    "there must be some witness partial trajectory $(C[1:n-1], U[1:n])$ such that\n",
    "$\\text{E}_{(C', U')}[\\text{stake}_{\\text{betfn}()}(N+1) - \\text{stake}_{\\text{betfn}()}(N) | (C[1:n-1], U[1:n])] \\neq 0$.\n",
    "The point is $\\text{stake}_{\\text{betfn}()}(N)$ is a constant when conditioned on $(C[1:n-1], U[1:n])$,\n",
    "so this is exactly in the martingale\n",
    "form, $\\text{E}_{(C', U')}[\\text{stake}_{\\text{betfn}()}(N+1) | (C[1:n-1], U[1:n])] - \\text{stake}_{\\text{betfn}()}(N)$.\n",
    "\n",
    "The martingale propert says this last difference must be zero, contradicting our claim that\n",
    "it was not zero. Thus such a betting system having a expectation different than its starting \n",
    "stake leads to a contradiction. We then say this means there are no such betting systems,\n",
    "completing the proof."
   ]
  },
  {
   "cell_type": "markdown",
   "id": "transparent-favorite",
   "metadata": {},
   "source": [
    "## Conclusion\n",
    "\n",
    "Many card games have winning betting systems, as knowledge of the cards\n",
    "draw is knowledge about the cards remaining to be dealt. Fair coin flipping games tend to be martingales: where the expected value of\n",
    "each step is just the actual value of the step before. In the martingale\n",
    "case we can make an inductive argument that if no step is on average profitable, then the sequence cannot on average not be profitable (or even unprofitable!). Our tools for making this argument are a bit clumsy as they involve\n",
    "uninteresting calculations very close to the starting definitions.\n",
    "The conclusion, however, is very important whether you consider this\n",
    "obvious or subtle. The result is commonly called Doob's optional stopping theorem.\n",
    "In probability our ability to calculate rapidly out-performs our\n",
    "intuition of what is or is not obvious, so for safety we tend to depend on calculation, despite the opaqueness this can introduce."
   ]
  },
  {
   "cell_type": "code",
   "execution_count": null,
   "id": "electronic-artist",
   "metadata": {
    "collapsed": false,
    "jupyter": {
     "outputs_hidden": false
    },
    "pycharm": {
     "name": "#%%\n"
    }
   },
   "outputs": [],
   "source": []
  }
 ],
 "metadata": {
  "kernelspec": {
   "display_name": "Python 3",
   "language": "python",
   "name": "python3"
  },
  "language_info": {
   "codemirror_mode": {
    "name": "ipython",
    "version": 3
   },
   "file_extension": ".py",
   "mimetype": "text/x-python",
   "name": "python",
   "nbconvert_exporter": "python",
   "pygments_lexer": "ipython3",
   "version": "3.8.5"
  }
 },
 "nbformat": 4,
 "nbformat_minor": 5
}
