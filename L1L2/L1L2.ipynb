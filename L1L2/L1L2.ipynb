{
 "cells": [
  {
   "attachments": {},
   "cell_type": "markdown",
   "id": "cell0",
   "metadata": {},
   "source": [
    "# The L2 Ball's View of the L1 Ball\n",
    "\n",
    "John Mount<br/>\n",
    "jmount@win-vector.com<br/>\n",
    "Win Vector LLC<br/>\n",
    "6-15-2023<br/>\n",
    "\n",
    "## Abstract\n",
    "\n",
    "\n",
    "Define $a_{n}$ to be expected value of $\\sum_{i=1}^{n} |x_i|$ given $\\sum_{i=1}^{n} x_i^2 = 1$ where $x$ is uniformly distributed such. Define $v_{n}$ as the variance of this same sum.\n",
    "\n",
    "That is: for $x \\in \\mathbb{R}^{n}$ distributed uniformly on the boundary of the unit ball, what is the expected L1 norm of $x$ (and its variance)?\n",
    "\n",
    "The answer is, for large $n$: $a_n \\approx \\sqrt{2 n/ \\pi}$ and $v_{n} \\approx 1 - 3 / \\pi$ (a constant, independent of dimension!).\n",
    "\n",
    "## Deriving the Solution\n",
    "\n",
    "Let's work up to the answer. We will confirm intermediate claims in Python.\n"
   ]
  },
  {
   "cell_type": "code",
   "execution_count": 1,
   "id": "cell1",
   "metadata": {},
   "outputs": [],
   "source": [
    "import sympy\n",
    "from sympy import cos, exp, factorial, gamma, loggamma, pi, sin, sqrt\n",
    "from IPython.display import display\n",
    "import numpy.random\n",
    "import numpy as np\n",
    "import pandas as pd\n",
    "\n",
    "sympy.init_printing(use_unicode=False, wrap_line=False)\n"
   ]
  },
  {
   "cell_type": "code",
   "execution_count": 2,
   "id": "cell2",
   "metadata": {},
   "outputs": [],
   "source": [
    "rng = numpy.random.default_rng(seed=12345678903141592653589793)\n"
   ]
  },
  {
   "attachments": {},
   "cell_type": "markdown",
   "id": "cell3",
   "metadata": {},
   "source": [
    "### Solving for $a_{n}$\n",
    "\n",
    "By the linearity of expectation we have $\\text{E}[\\sum_{i=1}^{n-1} |x_i|] = n \\text{E}[|x_1|]$.\n",
    "\n",
    "We have the constraint $\\sum_{i=1}^{n-1} x_i^2 = 1 - x_n^2$. So if $x_n = \\cos(z)$ then $\\sum_{i=1}^{n-1} x_i^2 = \\sin(z)^2$.  \n",
    "\n",
    "We can work out that: $a_{1} = 1$.  For $n \\ge 2$ we have $a_{n}$ is $n$ times the expected value of $x_{n}$. This is:\n",
    "\n",
    "$$\n",
    "a_{n} = n \n",
    " \\frac{\n",
    "    \\int_{\\lambda = 0}^{1} \\cos((\\pi/2) \\lambda) \\sin((\\pi/2) \\lambda)^{n-2} \\text{d}\\lambda}{\n",
    "    \\int_{\\lambda = 0}^{1} \\sin((\\pi/2) \\lambda)^{n-2} \\text{d}\\lambda\n",
    " }\n",
    "$$\n",
    "\n",
    "The $\\sin((\\pi/2) \\lambda)^{n-2}$ term being the density of the $n-1$ sphere volume in each portion of the integral.\n"
   ]
  },
  {
   "cell_type": "code",
   "execution_count": 3,
   "id": "cell4",
   "metadata": {},
   "outputs": [
    {
     "data": {
      "image/png": "[encoded data removed]",
      "text/latex": [
       "$\\displaystyle \\frac{4}{\\pi}$"
      ],
      "text/plain": [
       "4 \n",
       "--\n",
       "pi"
      ]
     },
     "execution_count": 3,
     "metadata": {},
     "output_type": "execute_result"
    }
   ],
   "source": [
    "# define a_1 and a_2\n",
    "a_1 = 1\n",
    "x = sympy.Symbol('x')\n",
    "a_2 = 2 * sympy.integrate(cos((pi/2) * x), (x, 0, 1)) / sympy.integrate(1, (x, 0, 1))\n",
    "a_2\n"
   ]
  },
  {
   "cell_type": "code",
   "execution_count": 4,
   "id": "cell5",
   "metadata": {},
   "outputs": [
    {
     "data": {
      "image/png": "[encoded data removed]",
      "text/latex": [
       "$\\displaystyle 1.27323954473516$"
      ],
      "text/plain": [
       "1.2732395447351628"
      ]
     },
     "execution_count": 4,
     "metadata": {},
     "output_type": "execute_result"
    }
   ],
   "source": [
    "float(a_2)\n"
   ]
  },
  {
   "attachments": {},
   "cell_type": "markdown",
   "id": "cell6",
   "metadata": {},
   "source": [
    "We can confirm the values of $a_1$ and $a_2$ empirically.\n"
   ]
  },
  {
   "cell_type": "code",
   "execution_count": 5,
   "id": "cell7",
   "metadata": {},
   "outputs": [],
   "source": [
    "def l1_example(dim: int):\n",
    "    \"\"\"Compute l1-norm of a uniformly selected unit l2-vector\"\"\"\n",
    "    dim = int(dim)\n",
    "    assert dim >= 1\n",
    "    # generate a uniform L2-norm 1 vector\n",
    "    v = None\n",
    "    v_norm_sq = 0\n",
    "    while v_norm_sq <= 0:\n",
    "        v = rng.normal(size=dim)\n",
    "        v_norm_sq = np.dot(v, v)\n",
    "    v = v / np.sqrt(v_norm_sq)\n",
    "    # return the L1 norm of this vector\n",
    "    return np.sum(np.abs(v))\n"
   ]
  },
  {
   "cell_type": "code",
   "execution_count": 6,
   "id": "cell8",
   "metadata": {},
   "outputs": [
    {
     "data": {
      "image/png": "[encoded data removed]",
      "text/latex": [
       "$\\displaystyle 1.0$"
      ],
      "text/plain": [
       "1.0"
      ]
     },
     "execution_count": 6,
     "metadata": {},
     "output_type": "execute_result"
    }
   ],
   "source": [
    "# get average l1 metric of many unit l2-examples in dimension 1\n",
    "a_1_empirical = np.mean([l1_example(1) for r in range(100000)])\n",
    "\n",
    "a_1_empirical\n"
   ]
  },
  {
   "cell_type": "code",
   "execution_count": 7,
   "id": "b7c423bd",
   "metadata": {},
   "outputs": [],
   "source": [
    "def relative_abs_error(*, target, estimate):\n",
    "    assert target > 0\n",
    "    return np.abs(target - estimate) / np.abs(target)"
   ]
  },
  {
   "cell_type": "code",
   "execution_count": 8,
   "id": "cell9",
   "metadata": {},
   "outputs": [],
   "source": [
    "assert relative_abs_error(target=a_1, estimate=a_1_empirical) < 1e-2\n"
   ]
  },
  {
   "cell_type": "code",
   "execution_count": 9,
   "id": "cell10",
   "metadata": {},
   "outputs": [
    {
     "data": {
      "image/png": "[encoded data removed]",
      "text/latex": [
       "$\\displaystyle 1.27349763868339$"
      ],
      "text/plain": [
       "1.2734976386833892"
      ]
     },
     "execution_count": 9,
     "metadata": {},
     "output_type": "execute_result"
    }
   ],
   "source": [
    "# get average l1 metric of many unit l2-examples in dimension 2\n",
    "a_2_empirical = np.mean([l1_example(2) for r in range(100000)])\n",
    "\n",
    "a_2_empirical\n"
   ]
  },
  {
   "cell_type": "code",
   "execution_count": 10,
   "id": "cell11",
   "metadata": {},
   "outputs": [],
   "source": [
    "assert relative_abs_error(target=a_2, estimate=a_2_empirical) < 1e-2\n"
   ]
  },
  {
   "attachments": {},
   "cell_type": "markdown",
   "id": "cell12",
   "metadata": {},
   "source": [
    "Integration by parts would let us derive the following two identities for non-negative integer $k$.\n",
    "\n",
    "$$\n",
    "s(k) \n",
    " := \\int_{\\lambda = 0}^{1} \\sin((\\pi/2) \\lambda)^{k} \\text{d}\\lambda \n",
    " = \\frac{\\Gamma(k/2 + 1/2)}{\\Gamma(k/2 + 1) \\sqrt{\\pi}}\n",
    "$$\n",
    "\n",
    "$$\n",
    "c(k) \n",
    " := \\int_{\\lambda = 0}^{1} \\cos((\\pi/2) \\lambda) \\sin((\\pi/2) \\lambda)^{k} \\text{d}\\lambda \n",
    " = \\frac{2}{(k+1) \\pi}\n",
    "$$\n",
    "\n",
    "We then have for $n \\ge 2$:\n",
    "\n",
    "$$\n",
    "a_{n} = n c(n-2) / s(n-2)\n",
    "$$\n"
   ]
  },
  {
   "cell_type": "code",
   "execution_count": 11,
   "id": "cell13",
   "metadata": {},
   "outputs": [],
   "source": [
    "def s(k):\n",
    "    \"\"\"Compute s() integral for k >= 0\"\"\"\n",
    "    return gamma((k+1) * sympy.Rational(1,2)) / (gamma((k+2) * sympy.Rational(1,2)) * sqrt(pi))\n",
    "\n",
    "def c(k):\n",
    "    \"\"\"Compute c() integral for k >= 0\"\"\"\n",
    "    return 2 / ((k + 1) * pi)\n"
   ]
  },
  {
   "cell_type": "code",
   "execution_count": 12,
   "id": "cell14",
   "metadata": {},
   "outputs": [
    {
     "name": "stdout",
     "output_type": "stream",
     "text": [
      "s(0): (1, 1)\n",
      "s(1): (2/pi, 2/pi)\n",
      "s(2): (1/2, 1/2)\n",
      "s(3): (4/(3*pi), 4/(3*pi))\n",
      "s(4): (3/8, 3/8)\n"
     ]
    }
   ],
   "source": [
    "for k in range(5):\n",
    "    s_k = s(k)\n",
    "    i_k = sympy.integrate(sin((pi/2)*x)**k, (x, 0, 1))\n",
    "    assert s_k == i_k\n",
    "    print(f\"s({k}): {(s_k, i_k)}\")\n",
    "  \n"
   ]
  },
  {
   "cell_type": "code",
   "execution_count": 13,
   "id": "cell15",
   "metadata": {},
   "outputs": [
    {
     "name": "stdout",
     "output_type": "stream",
     "text": [
      "c(0): (2/pi, 2/pi)\n",
      "c(1): (1/pi, 1/pi)\n",
      "c(2): (2/(3*pi), 2/(3*pi))\n",
      "c(3): (1/(2*pi), 1/(2*pi))\n",
      "c(4): (2/(5*pi), 2/(5*pi))\n"
     ]
    }
   ],
   "source": [
    "for k in range(5):\n",
    "    c_k = c(k)\n",
    "    i_k = sympy.integrate(sin((pi/2)*x)**k * cos((pi/2)*x), (x, 0, 1))\n",
    "    assert c_k == i_k\n",
    "    print(f\"c({k}): {(c_k, i_k)}\")\n"
   ]
  },
  {
   "cell_type": "code",
   "execution_count": 14,
   "id": "cell16",
   "metadata": {},
   "outputs": [],
   "source": [
    "def a_soln(n: int):\n",
    "    \"\"\"Compute a_{n} from a_{n-1} using recurrence formula\"\"\"\n",
    "    n = int(n)\n",
    "    assert n >= 1\n",
    "    if n <= 1:\n",
    "        return 1\n",
    "    return n * c(n-2) / s(n-2)\n"
   ]
  },
  {
   "cell_type": "code",
   "execution_count": 15,
   "id": "cell17",
   "metadata": {},
   "outputs": [],
   "source": [
    "assert a_soln(1) == a_1\n",
    "assert a_soln(2) == a_2\n"
   ]
  },
  {
   "cell_type": "code",
   "execution_count": 16,
   "id": "cell18",
   "metadata": {},
   "outputs": [
    {
     "data": {
      "image/png": "[encoded data removed]",
      "text/latex": [
       "$\\displaystyle \\frac{3}{2}$"
      ],
      "text/plain": [
       "3/2"
      ]
     },
     "execution_count": 16,
     "metadata": {},
     "output_type": "execute_result"
    }
   ],
   "source": [
    "a_3 = a_soln(3)\n",
    "\n",
    "a_3\n"
   ]
  },
  {
   "cell_type": "code",
   "execution_count": 17,
   "id": "cell19",
   "metadata": {},
   "outputs": [
    {
     "data": {
      "image/png": "[encoded data removed]",
      "text/latex": [
       "$\\displaystyle 1.50036993966198$"
      ],
      "text/plain": [
       "1.5003699396619803"
      ]
     },
     "execution_count": 17,
     "metadata": {},
     "output_type": "execute_result"
    }
   ],
   "source": [
    "# get average l1 metric of many unit l2-examples in dimension 3\n",
    "a_3_empirical = np.mean([l1_example(3) for r in range(100000)])\n",
    "\n",
    "a_3_empirical\n"
   ]
  },
  {
   "cell_type": "code",
   "execution_count": 18,
   "id": "cell20",
   "metadata": {},
   "outputs": [],
   "source": [
    "assert relative_abs_error(target=a_3, estimate=a_3_empirical) < 1e-2\n"
   ]
  },
  {
   "attachments": {},
   "cell_type": "markdown",
   "id": "cell21",
   "metadata": {},
   "source": [
    "And let's try that for $a_4$.\n"
   ]
  },
  {
   "cell_type": "code",
   "execution_count": 19,
   "id": "cell22",
   "metadata": {},
   "outputs": [
    {
     "data": {
      "image/png": "[encoded data removed]",
      "text/latex": [
       "$\\displaystyle \\frac{16}{3 \\pi}$"
      ],
      "text/plain": [
       " 16 \n",
       "----\n",
       "3*pi"
      ]
     },
     "execution_count": 19,
     "metadata": {},
     "output_type": "execute_result"
    }
   ],
   "source": [
    "a_4 = a_soln(4)\n",
    "\n",
    "a_4\n"
   ]
  },
  {
   "cell_type": "code",
   "execution_count": 20,
   "id": "cell23",
   "metadata": {},
   "outputs": [
    {
     "data": {
      "image/png": "[encoded data removed]",
      "text/latex": [
       "$\\displaystyle 1.69765272631355$"
      ],
      "text/plain": [
       "1.6976527263135504"
      ]
     },
     "execution_count": 20,
     "metadata": {},
     "output_type": "execute_result"
    }
   ],
   "source": [
    "float(a_4)\n"
   ]
  },
  {
   "cell_type": "code",
   "execution_count": 21,
   "id": "cell24",
   "metadata": {},
   "outputs": [
    {
     "data": {
      "image/png": "[encoded data removed]",
      "text/latex": [
       "$\\displaystyle 1.69792874663018$"
      ],
      "text/plain": [
       "1.6979287466301796"
      ]
     },
     "execution_count": 21,
     "metadata": {},
     "output_type": "execute_result"
    }
   ],
   "source": [
    "# get average l1 metric of many unit l2-examples in dimension 4\n",
    "a_4_empirical = np.mean([l1_example(4) for r in range(100000)])\n",
    "\n",
    "a_4_empirical\n"
   ]
  },
  {
   "cell_type": "code",
   "execution_count": 22,
   "id": "cell25",
   "metadata": {},
   "outputs": [],
   "source": [
    "assert relative_abs_error(target=a_4, estimate=a_4_empirical) < 1e-2\n"
   ]
  },
  {
   "attachments": {},
   "cell_type": "markdown",
   "id": "cell26",
   "metadata": {},
   "source": [
    "Let's try a couple larger $n$.\n"
   ]
  },
  {
   "cell_type": "code",
   "execution_count": 23,
   "id": "cell27",
   "metadata": {},
   "outputs": [
    {
     "data": {
      "image/png": "[encoded data removed]",
      "text/latex": [
       "$\\displaystyle \\frac{512}{63 \\pi}$"
      ],
      "text/plain": [
       " 512 \n",
       "-----\n",
       "63*pi"
      ]
     },
     "execution_count": 23,
     "metadata": {},
     "output_type": "execute_result"
    }
   ],
   "source": [
    "a_10 = a_soln(10)\n",
    "\n",
    "a_10\n"
   ]
  },
  {
   "cell_type": "code",
   "execution_count": 24,
   "id": "cell28",
   "metadata": {},
   "outputs": [
    {
     "data": {
      "image/png": "[encoded data removed]",
      "text/latex": [
       "$\\displaystyle 2.58689939247779$"
      ],
      "text/plain": [
       "2.586899392477791"
      ]
     },
     "execution_count": 24,
     "metadata": {},
     "output_type": "execute_result"
    }
   ],
   "source": [
    "float(a_10)\n"
   ]
  },
  {
   "cell_type": "code",
   "execution_count": 25,
   "id": "cell29",
   "metadata": {},
   "outputs": [
    {
     "data": {
      "image/png": "[encoded data removed]",
      "text/latex": [
       "$\\displaystyle 2.58650777826086$"
      ],
      "text/plain": [
       "2.5865077782608616"
      ]
     },
     "execution_count": 25,
     "metadata": {},
     "output_type": "execute_result"
    }
   ],
   "source": [
    "# get average l1 metric of many unit l2-examples in dimension 10\n",
    "a_10_empirical = np.mean([l1_example(10) for r in range(100000)])\n",
    "\n",
    "a_10_empirical\n"
   ]
  },
  {
   "cell_type": "code",
   "execution_count": 26,
   "id": "cell30",
   "metadata": {},
   "outputs": [],
   "source": [
    "assert relative_abs_error(target=a_10, estimate=a_10_empirical) < 1e-2\n"
   ]
  },
  {
   "cell_type": "code",
   "execution_count": 27,
   "id": "cell31",
   "metadata": {},
   "outputs": [
    {
     "data": {
      "image/png": "[encoded data removed]",
      "text/latex": [
       "$\\displaystyle \\frac{693}{256}$"
      ],
      "text/plain": [
       "693\n",
       "---\n",
       "256"
      ]
     },
     "execution_count": 27,
     "metadata": {},
     "output_type": "execute_result"
    }
   ],
   "source": [
    "a_11 = a_soln(11)\n",
    "\n",
    "a_11\n"
   ]
  },
  {
   "cell_type": "code",
   "execution_count": 28,
   "id": "cell32",
   "metadata": {},
   "outputs": [
    {
     "data": {
      "image/png": "[encoded data removed]",
      "text/latex": [
       "$\\displaystyle 2.70703125$"
      ],
      "text/plain": [
       "2.70703125"
      ]
     },
     "execution_count": 28,
     "metadata": {},
     "output_type": "execute_result"
    }
   ],
   "source": [
    "float(a_11)\n"
   ]
  },
  {
   "cell_type": "code",
   "execution_count": 29,
   "id": "cell33",
   "metadata": {},
   "outputs": [
    {
     "data": {
      "image/png": "[encoded data removed]",
      "text/latex": [
       "$\\displaystyle 2.7081207383724$"
      ],
      "text/plain": [
       "2.708120738372404"
      ]
     },
     "execution_count": 29,
     "metadata": {},
     "output_type": "execute_result"
    }
   ],
   "source": [
    "# get average l1 metric of many unit l2-examples in dimension 11\n",
    "a_11_empirical = np.mean([l1_example(11) for r in range(100000)])\n",
    "\n",
    "a_11_empirical\n"
   ]
  },
  {
   "cell_type": "code",
   "execution_count": 30,
   "id": "cell34",
   "metadata": {},
   "outputs": [],
   "source": [
    "assert relative_abs_error(target=a_11, estimate=a_11_empirical) < 1e-2\n"
   ]
  },
  {
   "attachments": {},
   "cell_type": "markdown",
   "id": "cell35",
   "metadata": {},
   "source": [
    "## The Limiting $a_{n}$\n"
   ]
  },
  {
   "attachments": {},
   "cell_type": "markdown",
   "id": "cell36",
   "metadata": {},
   "source": [
    "For non-negative $k$ define:\n",
    "\n",
    "$$\n",
    "z(k) = \\frac{\\Gamma(k/2 + 1/2)}{\\Gamma(k/2 + 1)}\n",
    "$$.\n",
    "\n",
    "First $z(k)$ is decreasing, as using $x \\Gamma(x) = \\Gamma(x+1)$ we can show that $z(k) / z(k+1) = (k/2 + 1)/(k/2 + 1/2) \\gt 1$.\n",
    "\n",
    "\n",
    "Now consider:\n",
    "\n",
    "$$\n",
    "\\begin{align*} \n",
    "\\sqrt{z(k-1) z(k)}\n",
    " &= \\sqrt{\\frac{\\Gamma(k/2)}{\\Gamma(k/2 + 1/2)} \\frac{\\Gamma(k/2 + 1/2)}{\\Gamma(k/2 + 1)}} \\\\\n",
    " &= \\sqrt{\\frac{\\Gamma(k/2)}{\\Gamma(k/2 + 1)}} \\\\\n",
    " &= \\sqrt{2/k}\n",
    "\\end{align*} \n",
    "$$\n",
    "\n",
    "As $z(k)$ is decreasing we have: $z(k-1) > \\sqrt{2/k} > z(k)$. Which, by the generality of $k$, implies $\\sqrt{2/k} > z(k) > \\sqrt{2/(k+1)}$.\n",
    "\n",
    "Let's reconfirm this numerically.\n"
   ]
  },
  {
   "cell_type": "code",
   "execution_count": 31,
   "id": "cell37",
   "metadata": {},
   "outputs": [],
   "source": [
    "def z(n: int):\n",
    "    \"\"\"Simpler fn to stand in for s()\"\"\"\n",
    "    n = int(n)\n",
    "    assert n > 0\n",
    "    return exp(loggamma(n/2 + 1/2) - loggamma(n/2 + 1))\n"
   ]
  },
  {
   "cell_type": "code",
   "execution_count": 32,
   "id": "cell38",
   "metadata": {},
   "outputs": [
    {
     "data": {
      "image/png": "[encoded data removed]",
      "text/latex": [
       "$\\displaystyle 0.0141417820746962$"
      ],
      "text/plain": [
       "0.0141417820746962"
      ]
     },
     "execution_count": 32,
     "metadata": {},
     "output_type": "execute_result"
    }
   ],
   "source": [
    "z_10000 = z(10000)\n",
    "\n",
    "z_10000\n"
   ]
  },
  {
   "cell_type": "code",
   "execution_count": 33,
   "id": "cell39",
   "metadata": {},
   "outputs": [],
   "source": [
    "assert float(sqrt(2 / 10000)) > z_10000\n",
    "assert z_10000 > float(sqrt(2 / (10000 + 1)))\n"
   ]
  },
  {
   "attachments": {},
   "cell_type": "markdown",
   "id": "cell40",
   "metadata": {},
   "source": [
    "When $n > 2$ we have:\n",
    "\n",
    "$$ \n",
    "\\sqrt{\\frac{2}{(n + 1) \\pi}} < s(n) < \\sqrt{\\frac{2}{n \\pi}}\n",
    "$$\n",
    "\n",
    "$$\n",
    "\\begin{align*} \n",
    "c(n) &= \\frac{2}{(n+1) \\pi} \\\\\n",
    "a_{n} &= n c(n-2) / s(n-2) \n",
    "\\end{align*}\n",
    "$$\n",
    "\n",
    "So:\n",
    "\n",
    "$$\n",
    "n \\frac{2}{(n-1) \\pi} \\sqrt{\\frac{(n-2) \\pi}{2}} < a_{n} < n\\frac{2}{(n-1) \\pi} \\sqrt{\\frac{(n-1) \\pi}{2}} \\\\\n",
    "\\frac{n}{n-1} \\sqrt{\\frac{2 (n-2)}{\\pi}} < a_{n} < \\frac{n}{n-1} \\sqrt{\\frac{2 (n-1)}{\\pi}} \n",
    "$$\n",
    "\n",
    "\n",
    "Which is enough to establish the original claim $a_{n} \\approx \\sqrt{\\frac{2 n}{\\pi}}$ for large $n$.\n"
   ]
  },
  {
   "attachments": {},
   "cell_type": "markdown",
   "id": "cell41",
   "metadata": {},
   "source": [
    "We can recheck that a large that $a_{n} / \\sqrt{n}$ is near $\\sqrt{2 / \\pi}$ for large $n$.\n"
   ]
  },
  {
   "cell_type": "code",
   "execution_count": 34,
   "id": "cell42",
   "metadata": {},
   "outputs": [
    {
     "data": {
      "image/png": "[encoded data removed]",
      "text/latex": [
       "$\\displaystyle 0.797884560802865$"
      ],
      "text/plain": [
       "0.7978845608028654"
      ]
     },
     "execution_count": 34,
     "metadata": {},
     "output_type": "execute_result"
    }
   ],
   "source": [
    "# theoretical a_n / sqrt(n) limit\n",
    "float(sqrt(2 / pi))\n"
   ]
  },
  {
   "cell_type": "code",
   "execution_count": 35,
   "id": "cell43",
   "metadata": {},
   "outputs": [
    {
     "data": {
      "image/png": "[encoded data removed]",
      "text/latex": [
       "$\\displaystyle 0.798084056845783$"
      ],
      "text/plain": [
       "0.7980840568457832"
      ]
     },
     "execution_count": 35,
     "metadata": {},
     "output_type": "execute_result"
    }
   ],
   "source": [
    "# a_1000 check\n",
    "a_1000 = float(a_soln(1000))\n",
    "\n",
    "a_1000 / 1000**(1/2)\n"
   ]
  },
  {
   "cell_type": "code",
   "execution_count": 36,
   "id": "cell44",
   "metadata": {},
   "outputs": [],
   "source": [
    "assert float((1000 / (1000 - 1)) * sqrt(2 * (1000 - 2) / pi)) < a_1000\n",
    "assert a_1000 < float((1000 / (1000 - 1)) * sqrt(2 * (1000 - 1) / pi))\n"
   ]
  },
  {
   "cell_type": "code",
   "execution_count": 37,
   "id": "cell45",
   "metadata": {},
   "outputs": [
    {
     "data": {
      "image/png": "[encoded data removed]",
      "text/latex": [
       "$\\displaystyle 0.797984302602542$"
      ],
      "text/plain": [
       "0.7979843026025424"
      ]
     },
     "execution_count": 37,
     "metadata": {},
     "output_type": "execute_result"
    }
   ],
   "source": [
    "# a_2000 check\n",
    "a_2000 = float(a_soln(2000))\n",
    "\n",
    "a_2000 / 2000**(1/2)\n"
   ]
  },
  {
   "cell_type": "code",
   "execution_count": 38,
   "id": "cell46",
   "metadata": {},
   "outputs": [],
   "source": [
    "assert float((2000 / (2000 - 1)) * sqrt(2 * (2000 - 2) / pi)) < a_2000\n",
    "assert a_2000 < float((2000 / (2000 - 1)) * sqrt(2 * (2000 - 1) / pi))\n"
   ]
  },
  {
   "attachments": {},
   "cell_type": "markdown",
   "id": "cell47",
   "metadata": {},
   "source": [
    "## The local behavior of $a_{n} / \\sqrt{n}$\n",
    "\n",
    "$s(n-2) / s(n)$ has a fairly simple form: $n/(n-1)$.\n"
   ]
  },
  {
   "cell_type": "code",
   "execution_count": 39,
   "id": "cell48",
   "metadata": {},
   "outputs": [
    {
     "data": {
      "image/png": "[encoded data removed]",
      "text/latex": [
       "$\\displaystyle \\frac{40}{39}$"
      ],
      "text/plain": [
       "40\n",
       "--\n",
       "39"
      ]
     },
     "execution_count": 39,
     "metadata": {},
     "output_type": "execute_result"
    }
   ],
   "source": [
    "# s(n-2)/s(n) example\n",
    "sn2n1_ratio = s(38) / s(40)\n",
    "\n",
    "sn2n1_ratio\n"
   ]
  },
  {
   "cell_type": "code",
   "execution_count": 40,
   "id": "cell49",
   "metadata": {},
   "outputs": [],
   "source": [
    "assert sn2n1_ratio == sympy.Rational(40, 39)\n"
   ]
  },
  {
   "attachments": {},
   "cell_type": "markdown",
   "id": "cell50",
   "metadata": {},
   "source": [
    "This means $(a_{n+2} / \\sqrt{n+2}) / (a_{n} / \\sqrt{n})$ should be manageable.\n",
    "\n",
    "$$\n",
    "(a_{n+2} / \\sqrt{n+2}) / (a_{n} / \\sqrt{n}) = \\frac{\\sqrt{n}}{\\sqrt{n+2}} \\frac{(n+2) c(n)}{n c(n-2)} \\frac{s(n-2)}{s(n)}\n",
    "$$\n"
   ]
  },
  {
   "cell_type": "code",
   "execution_count": 41,
   "id": "cell51",
   "metadata": {},
   "outputs": [
    {
     "data": {
      "image/png": "[encoded data removed]",
      "text/latex": [
       "$\\displaystyle \\frac{\\sqrt{n} \\sqrt{n + 2}}{n + 1}$"
      ],
      "text/plain": [
       "  ___   _______\n",
       "\\/ n *\\/ n + 2 \n",
       "---------------\n",
       "     n + 1     "
      ]
     },
     "execution_count": 41,
     "metadata": {},
     "output_type": "execute_result"
    }
   ],
   "source": [
    "n = sympy.Symbol('n')\n",
    "\n",
    "ratio = (sqrt(n) / sqrt(n+2)) * ( ((n+2)*c(n)) / (n*c(n-2)) ) * n/(n-1)\n",
    "ratio\n"
   ]
  },
  {
   "cell_type": "code",
   "execution_count": 42,
   "id": "cell52",
   "metadata": {},
   "outputs": [
    {
     "data": {
      "image/png": "[encoded data removed]",
      "text/latex": [
       "$\\displaystyle 1$"
      ],
      "text/plain": [
       "1"
      ]
     },
     "execution_count": 42,
     "metadata": {},
     "output_type": "execute_result"
    }
   ],
   "source": [
    "num, den = sympy.fraction(ratio**2)\n",
    "\n",
    "den_num_diff = (den - num).expand()\n",
    "\n",
    "den_num_diff\n"
   ]
  },
  {
   "cell_type": "code",
   "execution_count": 43,
   "id": "cell53",
   "metadata": {},
   "outputs": [],
   "source": [
    "assert den_num_diff > 0\n"
   ]
  },
  {
   "attachments": {},
   "cell_type": "markdown",
   "id": "cell54",
   "metadata": {},
   "source": [
    "The denominator is larger than the numerator in our ratio squared. This means the sequence $a_{i + 2*j}$ is strictly decreasing as a sequence in $j$ ($i \\in {0, 1}$, $j$ non-negative integer).\n"
   ]
  },
  {
   "cell_type": "code",
   "execution_count": 44,
   "id": "cell55",
   "metadata": {},
   "outputs": [],
   "source": [
    "# check sequence decreasing when we jump by 2\n",
    "assert float(a_4 / sqrt(4)) < float(a_2 / sqrt(2))\n",
    "assert float(a_3 / sqrt(3)) < float(a_1 / sqrt(1))\n",
    "# other non-step 2 checks\n",
    "assert float(a_4 / sqrt(4)) < float(a_3 / sqrt(3))\n",
    "assert float(a_3 / sqrt(3)) < float(a_2 / sqrt(2))\n",
    "assert float(a_2 / sqrt(2)) < float(a_1 / sqrt(1))\n"
   ]
  },
  {
   "attachments": {},
   "cell_type": "markdown",
   "id": "cell56",
   "metadata": {},
   "source": [
    "$a_{n} / \\sqrt{n}$ is likely a decreasing sequence overall. However our earlier bound isn't tight enough to easily demonstrate this.\n"
   ]
  },
  {
   "attachments": {},
   "cell_type": "markdown",
   "id": "cell57",
   "metadata": {},
   "source": [
    "## Estimating the Variance\n",
    "\n",
    "Define $v_{n}$ as the variance of $\\sum_{i=1}^{n} |x_i|$, where $x_i$ are picked uniformly such that $\\sum_{i=1}^{n} x_i^2 = 1$.\n",
    "\n",
    "By our above arguments and the linearity of expectation, $\\text{E}[|x_{i}|]$ is $a_{n}/n = c(n-2)/s(n-2)$. So we have:\n",
    "\n",
    "$$\n",
    "\\begin{align*}\n",
    "\\text{var}(|x_{i}|) &= \\text{E}[(|x_{i}| - \\text{E}[|x_{i}|])^2] \\\\\n",
    " &= \\text{E}[(|x_{i}| - c(n-2)/s(n-2))^2] \\\\\n",
    " &= \\text{E}[|x_{i}|^2] - 2 (c(n-2)/s(n-2)) \\text{E}[|x_{i}|] + (c(n-2)/s(n-2))^2] \\\\\n",
    " &= \\text{E}[|x_{i}|^2] - (c(n-2)/s(n-2))^2 \\\\\n",
    " &= \\text{E}[x_{i}^2] - (c(n-2)/s(n-2))^2 \\\\\n",
    " &= 1/n - (c(n-2)/s(n-2))^2 \n",
    "\\end{align*}\n",
    "$$\n",
    "\n",
    "From earlier we know $(c(n-2)/s(n-2))^2 \\approx 2 / (n \\pi)$. So $\\text{var}(|x_{i}|) \\approx (1 - 2/\\pi) / n$.\n",
    "\n",
    "Let's check if our single coordinate estimates were correct.\n"
   ]
  },
  {
   "cell_type": "code",
   "execution_count": 45,
   "id": "cell58",
   "metadata": {},
   "outputs": [],
   "source": [
    "def mean_and_var(x):\n",
    "    \"\"\"return mean and variance of vector entries\"\"\"\n",
    "    return (np.mean(x), np.var(x))\n"
   ]
  },
  {
   "cell_type": "code",
   "execution_count": 46,
   "id": "cell59",
   "metadata": {},
   "outputs": [],
   "source": [
    "def l1_example_first_coord(dim: int):\n",
    "    \"\"\"Compute l1-norm of a uniformly selected unit l2-vector\"\"\"\n",
    "    dim = int(dim)\n",
    "    assert dim >= 1\n",
    "    # generate a uniform L2-norm 1 vector\n",
    "    v = None\n",
    "    v_norm_sq = 0\n",
    "    while v_norm_sq <= 0:\n",
    "        v = rng.normal(size=dim)\n",
    "        v_norm_sq = np.dot(v, v)\n",
    "    v = v / np.sqrt(v_norm_sq)\n",
    "    # return absolute value of the first coordinate\n",
    "    return np.abs(v[0])\n"
   ]
  },
  {
   "cell_type": "code",
   "execution_count": 47,
   "id": "cell60",
   "metadata": {},
   "outputs": [
    {
     "data": {
      "image/png": "[encoded data removed]",
      "text/latex": [
       "$\\displaystyle \\left( 0.0252313252202016, \\  0.000363380227632419\\right)$"
      ],
      "text/plain": [
       "(0.0252313252202016, 0.00036338022763241867)"
      ]
     },
     "execution_count": 47,
     "metadata": {},
     "output_type": "execute_result"
    }
   ],
   "source": [
    "# theoretical mean abs first coord and var abs first coord for dimension 1000\n",
    "theoretical_mean_var_2 = (\n",
    "    float(sqrt(2 / (1000 * pi))), \n",
    "    float((1 - 2/pi) / 1000)\n",
    "    )\n",
    "\n",
    "theoretical_mean_var_2\n"
   ]
  },
  {
   "cell_type": "code",
   "execution_count": 48,
   "id": "cell61",
   "metadata": {},
   "outputs": [
    {
     "data": {
      "image/png": "[encoded data removed]",
      "text/latex": [
       "$\\displaystyle \\left( 0.0251795820680952, \\  0.000360904290325986\\right)$"
      ],
      "text/plain": [
       "(0.025179582068095233, 0.0003609042903259857)"
      ]
     },
     "execution_count": 48,
     "metadata": {},
     "output_type": "execute_result"
    }
   ],
   "source": [
    "# empirical mean and var of absolute value of first coordinate for dimension 1000\n",
    "empirical_mean_var_2 = mean_and_var(\n",
    "    [l1_example_first_coord(1000) for r in range(100000)]\n",
    "    )\n",
    "\n",
    "empirical_mean_var_2\n"
   ]
  },
  {
   "cell_type": "code",
   "execution_count": 49,
   "id": "cell62",
   "metadata": {},
   "outputs": [],
   "source": [
    "for i in range(2):\n",
    "    assert relative_abs_error(\n",
    "        target=theoretical_mean_var_2[i],\n",
    "        estimate=empirical_mean_var_2[i]) < 1e-2"
   ]
  },
  {
   "attachments": {},
   "cell_type": "markdown",
   "id": "cell63",
   "metadata": {},
   "source": [
    "*If* the coordinates and variances were independent we would expect variance to then be additive and have $v_{n} = n \\text{var}(|x_{i}|) \\approx n (1 - 2/\\pi) / n = 1 - 2/\\pi$. This isn't they case. The general form for adding variances is: $\\text{var}(\\sum_i z_i) = \\sum_i \\text{var}(z_i) + 2 \\sum_{i < j} \\text{cov}(z_i, z_j)$.\n"
   ]
  },
  {
   "attachments": {},
   "cell_type": "markdown",
   "id": "cell70",
   "metadata": {},
   "source": [
    "\n",
    "\n",
    "Let's try and take a look at the general per-coordinate covariance term (by symmetry they all have the same expectations).\n"
   ]
  },
  {
   "cell_type": "code",
   "execution_count": 50,
   "id": "cell71",
   "metadata": {},
   "outputs": [],
   "source": [
    "def l1_example_first_2_coord_cov(*, dim: int, reps: int = 100000):\n",
    "    \"\"\"Compute covariance of absolute values of first two coordinates\"\"\"\n",
    "    dim = int(dim)\n",
    "    reps = int(reps)\n",
    "    assert dim >= 2\n",
    "    assert reps > 0\n",
    "    frames = []\n",
    "    for rep in range(reps):\n",
    "        # generate a uniform L2-norm 1 vector\n",
    "        v = None\n",
    "        v_norm_sq = 0\n",
    "        while v_norm_sq <= 0:\n",
    "            v = rng.normal(size=dim)\n",
    "            v_norm_sq = np.dot(v, v)\n",
    "        v = v / np.sqrt(v_norm_sq)\n",
    "        # collect absolute value of the first two coordinates\n",
    "        frames.append(pd.DataFrame({'x0': [np.abs(v[0])], 'x1': [np.abs(v[1])]}))\n",
    "    d = pd.concat(frames, ignore_index=True)\n",
    "    a = np.mean(d[\"x0\"] * d[\"x1\"])\n",
    "    b = np.mean(d[\"x0\"]) * np.mean(d[\"x1\"])\n",
    "    return  (a, b, a-b) \n"
   ]
  },
  {
   "attachments": {},
   "cell_type": "markdown",
   "id": "cell72",
   "metadata": {},
   "source": [
    "The theoretic covariance is $\\text{E}[|x| |y|] - \\text{E}[|x|] \\text{E}[|y|]$.\n",
    "In $2 d$ the expected L1 norm is $4 / \\pi$, so each coordinate has\n",
    "expectation $2 / \\pi$. $\\text{E}[|x|] \\text{E}[|y|]$ is exactly the integral $c(1) = 1/\\pi$. This gives us the covariance in $2 d$ is $1 / \\pi - ( 2 / \\pi )^2$.\n"
   ]
  },
  {
   "cell_type": "code",
   "execution_count": 51,
   "id": "cell73",
   "metadata": {},
   "outputs": [
    {
     "data": {
      "image/png": "[encoded data removed]",
      "text/latex": [
       "$\\displaystyle \\left( 0.318309886183791, \\  0.405284734569351, \\  -0.0869748483855604\\right)$"
      ],
      "text/plain": [
       "(0.3183098861837907, 0.4052847345693511, -0.08697484838556041)"
      ]
     },
     "execution_count": 51,
     "metadata": {},
     "output_type": "execute_result"
    }
   ],
   "source": [
    "# The 2-d covariance is:\n",
    "cov_2d_theory = (float(1/pi), float((2/pi)**2), float(1/pi - (2/pi)**2))\n",
    "\n",
    "cov_2d_theory\n"
   ]
  },
  {
   "cell_type": "code",
   "execution_count": 52,
   "id": "cell74",
   "metadata": {},
   "outputs": [
    {
     "data": {
      "image/png": "[encoded data removed]",
      "text/latex": [
       "$\\displaystyle \\left( 0.317734400176939, \\  0.404992441670903, \\  -0.0872580414939638\\right)$"
      ],
      "text/plain": [
       "(0.31773440017693916, 0.404992441670903, -0.08725804149396382)"
      ]
     },
     "execution_count": 52,
     "metadata": {},
     "output_type": "execute_result"
    }
   ],
   "source": [
    "# empirically estimate covariance for dimension 2\n",
    "cov_2d_empirical = l1_example_first_2_coord_cov(dim=2)\n",
    "\n",
    "cov_2d_empirical\n"
   ]
  },
  {
   "cell_type": "code",
   "execution_count": 53,
   "id": "cell75",
   "metadata": {},
   "outputs": [],
   "source": [
    "for i in range(2):\n",
    "    assert relative_abs_error(\n",
    "        target=cov_2d_theory[i],\n",
    "        estimate=cov_2d_empirical[i]) < 1e-2\n"
   ]
  },
  {
   "attachments": {},
   "cell_type": "markdown",
   "id": "cell76",
   "metadata": {},
   "source": [
    "For larger $n$ we expect the covariance to be $c(n - 1) c(n - 3) / (s(n - 2) s(n - 3)) - (c(n - 2) / s(n - 2))^2$ by an double integral with $x_{1} = \\cos(\\lambda_1 \\pi / 2)$ and $x_{2} = \\sin(\\lambda_1 \\pi / 2) \\cos(\\lambda_2 \\pi / 2)$ for $x$ from $0$ to $1$.\n",
    "\n",
    "The difference typically has \"catastrophic cancellation\", so to empirically check we need to look at the two terms in the difference.\n"
   ]
  },
  {
   "cell_type": "code",
   "execution_count": 54,
   "id": "cell77",
   "metadata": {},
   "outputs": [
    {
     "data": {
      "image/png": "[encoded data removed]",
      "text/latex": [
       "$\\displaystyle \\left( 0.212206590789194, \\  0.25, \\  -0.0377934092108062\\right)$"
      ],
      "text/plain": [
       "(0.2122065907891938, 0.25, -0.03779340921080622)"
      ]
     },
     "execution_count": 54,
     "metadata": {},
     "output_type": "execute_result"
    }
   ],
   "source": [
    "# theoretically estimate coordinate covariance for dimension 3\n",
    "n = 3\n",
    "\n",
    "cov_3d_theory = (\n",
    "    float(c(n - 1) * c(n - 3) / (s(n-2) * s(n-3))), \n",
    "    float((c(n - 2) / s(n-2))**2), \n",
    "    float(c(n - 1) * c(n - 3) / (s(n-2) * s(n-3)) - (c(n - 2) / s(n-2))**2)\n",
    "    )\n",
    "\n",
    "cov_3d_theory\n"
   ]
  },
  {
   "cell_type": "code",
   "execution_count": 55,
   "id": "cell78",
   "metadata": {},
   "outputs": [
    {
     "data": {
      "image/png": "[encoded data removed]",
      "text/latex": [
       "$\\displaystyle \\left( 0.212280413226178, \\  0.249758225293641, \\  -0.0374778120674623\\right)$"
      ],
      "text/plain": [
       "(0.21228041322617835, 0.2497582252936406, -0.03747781206746226)"
      ]
     },
     "execution_count": 55,
     "metadata": {},
     "output_type": "execute_result"
    }
   ],
   "source": [
    "# empirically estimate coordinate covariance for dimension 3\n",
    "cov_3d_empirical = l1_example_first_2_coord_cov(dim=3)\n",
    "\n",
    "cov_3d_empirical\n"
   ]
  },
  {
   "cell_type": "code",
   "execution_count": 56,
   "id": "cell79",
   "metadata": {},
   "outputs": [],
   "source": [
    "for i in range(2):\n",
    "    assert relative_abs_error(\n",
    "        target=cov_3d_theory[i],\n",
    "        estimate=cov_3d_empirical[i]) < 1e-2\n"
   ]
  },
  {
   "cell_type": "code",
   "execution_count": 57,
   "id": "cell80",
   "metadata": {},
   "outputs": [
    {
     "data": {
      "image/png": "[encoded data removed]",
      "text/latex": [
       "$\\displaystyle \\left( 0.0636619772367581, \\  0.0669204846680196, \\  -0.0032585074312615\\right)$"
      ],
      "text/plain": [
       "(0.06366197723675814, 0.06692048466801963, -0.0032585074312615)"
      ]
     },
     "execution_count": 57,
     "metadata": {},
     "output_type": "execute_result"
    }
   ],
   "source": [
    "# theoretically estimate coordinate covariance for dimension 10\n",
    "n = 10\n",
    "\n",
    "cov_10d_theory = (\n",
    "    float(c(n - 1) * c(n - 3) / (s(n-2) * s(n-3))), \n",
    "    float((c(n - 2) / s(n-2))**2), \n",
    "    float(c(n - 1) * c(n - 3) / (s(n-2) * s(n-3)) - (c(n - 2) / s(n-2))**2)\n",
    "    )\n",
    "cov_10d_theory\n"
   ]
  },
  {
   "cell_type": "code",
   "execution_count": 58,
   "id": "cell81",
   "metadata": {},
   "outputs": [
    {
     "data": {
      "image/png": "[encoded data removed]",
      "text/latex": [
       "$\\displaystyle \\left( 0.0639207116263821, \\  0.0671347686984445, \\  -0.00321405707206236\\right)$"
      ],
      "text/plain": [
       "(0.0639207116263821, 0.06713476869844447, -0.0032140570720623624)"
      ]
     },
     "execution_count": 58,
     "metadata": {},
     "output_type": "execute_result"
    }
   ],
   "source": [
    "# empirically estimate coordinate covariance for dimension 10\n",
    "cov_10d_empirical = l1_example_first_2_coord_cov(dim=10)\n",
    "\n",
    "cov_10d_empirical\n"
   ]
  },
  {
   "cell_type": "code",
   "execution_count": 59,
   "id": "cell82",
   "metadata": {},
   "outputs": [],
   "source": [
    "for i in range(2):\n",
    "    assert relative_abs_error(\n",
    "        target=cov_10d_theory[i],\n",
    "        estimate=cov_10d_empirical[i]) < 1e-2\n"
   ]
  },
  {
   "attachments": {},
   "cell_type": "markdown",
   "id": "cell83",
   "metadata": {},
   "source": [
    "Using per-coordinate covariance term, we calculate the variance $v_{n} = 1 - n (c(n - 1) c(n - 3) / (s(n - 2) s(n - 3)) - (c(n - 2) / s(n - 2))^2 - (c(n - 2) / s(n - 2))^2)$.\n"
   ]
  },
  {
   "cell_type": "code",
   "execution_count": 60,
   "id": "cell84",
   "metadata": {},
   "outputs": [
    {
     "data": {
      "image/png": "[encoded data removed]",
      "text/latex": [
       "$\\displaystyle \\left( 2.58689939247779, \\  0.0375294845062687\\right)$"
      ],
      "text/plain": [
       "(2.586899392477791, 0.03752948450626868)"
      ]
     },
     "execution_count": 60,
     "metadata": {},
     "output_type": "execute_result"
    }
   ],
   "source": [
    "# theoretical sum mean and variance\n",
    "n = 10\n",
    "\n",
    "mean_var_theoretical_10 = (\n",
    "    float(n * c(n-2) / s(n-2) ),\n",
    "    float(1 - n * (c(n-2)/s(n-2))**2 + n * (n-1) * (c(n - 1) * c(n - 3) / (s(n-2) * s(n-3)) - (c(n - 2) / s(n-2))**2))\n",
    ")\n",
    "mean_var_theoretical_10\n"
   ]
  },
  {
   "cell_type": "code",
   "execution_count": 61,
   "id": "cell85",
   "metadata": {},
   "outputs": [
    {
     "data": {
      "image/png": "[encoded data removed]",
      "text/latex": [
       "$\\displaystyle \\left( 2.58844733836457, \\  0.0376321338259761\\right)$"
      ],
      "text/plain": [
       "(2.58844733836457, 0.03763213382597612)"
      ]
     },
     "execution_count": 61,
     "metadata": {},
     "output_type": "execute_result"
    }
   ],
   "source": [
    "# get mean and variance of l1 metric of many unit l2-examples in dimension 10\n",
    "mean_var_empirical_10 = mean_and_var([l1_example(10) for r in range(100000)])\n",
    "\n",
    "mean_var_empirical_10\n"
   ]
  },
  {
   "cell_type": "code",
   "execution_count": 62,
   "id": "cell86",
   "metadata": {},
   "outputs": [],
   "source": [
    "for i in range(2):\n",
    "    assert relative_abs_error(\n",
    "        target=mean_var_theoretical_10[i],\n",
    "        estimate=mean_var_empirical_10[i]) < 1e-2\n"
   ]
  },
  {
   "cell_type": "code",
   "execution_count": 63,
   "id": "cell87",
   "metadata": {},
   "outputs": [
    {
     "data": {
      "image/png": "[encoded data removed]",
      "text/latex": [
       "$\\displaystyle \\left( 25.2376338389997, \\  0.0449908037906285\\right)$"
      ],
      "text/plain": [
       "(25.23763383899971, 0.044990803790628545)"
      ]
     },
     "execution_count": 63,
     "metadata": {},
     "output_type": "execute_result"
    }
   ],
   "source": [
    "# theoretical sum mean and variance\n",
    "n = 1000\n",
    "\n",
    "mean_var_theoretical_1000 = (\n",
    "    float(n * c(n-2) / s(n-2) ),\n",
    "    float(1 - n * (c(n-2)/s(n-2))**2 + n * (n-1) * (c(n - 1) * c(n - 3) / (s(n-2) * s(n-3)) - (c(n - 2) / s(n-2))**2))\n",
    ")\n",
    "mean_var_theoretical_1000\n"
   ]
  },
  {
   "cell_type": "code",
   "execution_count": 64,
   "id": "cell88",
   "metadata": {},
   "outputs": [
    {
     "data": {
      "image/png": "[encoded data removed]",
      "text/latex": [
       "$\\displaystyle \\left( 25.2372481260597, \\  0.0450121261008252\\right)$"
      ],
      "text/plain": [
       "(25.237248126059733, 0.04501212610082521)"
      ]
     },
     "execution_count": 64,
     "metadata": {},
     "output_type": "execute_result"
    }
   ],
   "source": [
    "# get mean and variance of l1 metric of many unit l2-examples in dimension 1000\n",
    "mean_var_empirical_1000 = mean_and_var([l1_example(1000) for r in range(100000)])\n",
    "\n",
    "mean_var_empirical_1000\n"
   ]
  },
  {
   "cell_type": "code",
   "execution_count": 65,
   "id": "cell89",
   "metadata": {},
   "outputs": [],
   "source": [
    "for i in range(2):\n",
    "    assert relative_abs_error(\n",
    "        target=mean_var_theoretical_1000[i],\n",
    "        estimate=mean_var_empirical_1000[i]) < 1e-2\n"
   ]
  },
  {
   "attachments": {},
   "cell_type": "markdown",
   "id": "cell90",
   "metadata": {},
   "source": [
    "The quantities match, and $v_{n}$ is approaching a non-zero constant limit as $n \\rightarrow \\infty$. In fact we think $\\lim_{n \\rightarrow \\infty} v_{n} = 1 - 3 / \\pi$. This also establishes the covariances are negative.\n"
   ]
  },
  {
   "cell_type": "code",
   "execution_count": 66,
   "id": "cell91",
   "metadata": {},
   "outputs": [
    {
     "data": {
      "image/png": "[encoded data removed]",
      "text/latex": [
       "$\\displaystyle 0.045070341448628$"
      ],
      "text/plain": [
       "0.04507034144862798"
      ]
     },
     "execution_count": 66,
     "metadata": {},
     "output_type": "execute_result"
    }
   ],
   "source": [
    "float(1 - 3 / pi)\n"
   ]
  },
  {
   "cell_type": "code",
   "execution_count": 67,
   "id": "cell92",
   "metadata": {},
   "outputs": [
    {
     "data": {
      "image/png": "[encoded data removed]",
      "text/latex": [
       "$\\displaystyle \\frac{- 4 n \\left(n - 2\\right) \\Gamma^{2}\\left(\\frac{n}{2}\\right) \\Gamma\\left(\\frac{n}{2} - 1\\right) + \\pi \\left(n - 2\\right) \\left(n - 1\\right)^{2} \\Gamma\\left(\\frac{n}{2} - 1\\right) \\Gamma^{2}\\left(\\frac{n}{2} - \\frac{1}{2}\\right) + 4 \\left(n - 1\\right) \\left(- n \\left(n - 2\\right) \\Gamma\\left(\\frac{n}{2}\\right) \\Gamma\\left(\\frac{n}{2} - 1\\right) + \\left(n - 1\\right)^{2} \\Gamma^{2}\\left(\\frac{n}{2} - \\frac{1}{2}\\right)\\right) \\Gamma\\left(\\frac{n}{2}\\right)}{\\pi \\left(n - 2\\right) \\left(n - 1\\right)^{2} \\Gamma\\left(\\frac{n}{2} - 1\\right) \\Gamma^{2}\\left(\\frac{n}{2} - \\frac{1}{2}\\right)}$"
      ],
      "text/plain": [
       "                   2/n\\      /n    \\                     2      /n    \\      2/n   1\\             /                 /n\\      /n    \\          2      2/n   1\\\\      /n\\\n",
       "- 4*n*(n - 2)*Gamma |-|*Gamma|- - 1| + pi*(n - 2)*(n - 1) *Gamma|- - 1|*Gamma |- - -| + 4*(n - 1)*|- n*(n - 2)*Gamma|-|*Gamma|- - 1| + (n - 1) *Gamma |- - -||*Gamma|-|\n",
       "                    \\2/      \\2    /                            \\2    /       \\2   2/             \\                 \\2/      \\2    /                  \\2   2//      \\2/\n",
       "-----------------------------------------------------------------------------------------------------------------------------------------------------------------------\n",
       "                                                                               2      /n    \\      2/n   1\\                                                            \n",
       "                                                             pi*(n - 2)*(n - 1) *Gamma|- - 1|*Gamma |- - -|                                                            \n",
       "                                                                                      \\2    /       \\2   2/                                                            "
      ]
     },
     "execution_count": 67,
     "metadata": {},
     "output_type": "execute_result"
    }
   ],
   "source": [
    "n = sympy.Symbol(\"n\")\n",
    "\n",
    "expr = sympy.together(1 - n * (c(n-2)/s(n-2))**2 + n * (n-1) * (c(n - 1) * c(n - 3) / (s(n-2) * s(n-3)) - (c(n - 2) / s(n-2))**2))\n",
    "\n",
    "expr\n"
   ]
  },
  {
   "cell_type": "code",
   "execution_count": 68,
   "id": "cell93",
   "metadata": {},
   "outputs": [
    {
     "data": {
      "image/png": "[encoded data removed]",
      "text/latex": [
       "$\\displaystyle -7.95376580589313 \\cdot 10^{-5}$"
      ],
      "text/plain": [
       "-7.953765805893132e-05"
      ]
     },
     "execution_count": 68,
     "metadata": {},
     "output_type": "execute_result"
    }
   ],
   "source": [
    "float(expr.subs(n, 1000.0)) - float((1 - 3/pi))\n"
   ]
  },
  {
   "cell_type": "code",
   "execution_count": 69,
   "id": "cell94",
   "metadata": {},
   "outputs": [
    {
     "data": {
      "image/png": "[encoded data removed]",
      "text/latex": [
       "$\\displaystyle -7.35698914983152 \\cdot 10^{-9}$"
      ],
      "text/plain": [
       "-7.3569891498315165e-09"
      ]
     },
     "execution_count": 69,
     "metadata": {},
     "output_type": "execute_result"
    }
   ],
   "source": [
    "float(expr.subs(n, 10000000.0)) - float((1 - 3/pi))\n"
   ]
  },
  {
   "attachments": {},
   "cell_type": "markdown",
   "id": "cell95",
   "metadata": {},
   "source": [
    "## Application\n",
    "\n",
    "Barry Rowlingson and John Mount asked the following question ([ref](https://github.com/WinVector/Examples/blob/main/L1L2/exp_l2.md)).\n",
    "\n",
    "> For a positive integer $n$, take $v_1$, $v_2$ vectors in $\\mathbb{R}^n$ with each coordinate generated IID normal mean zero, standard deviation 1. Let $p_n$ denote the probability that $(||v_1||_1 \\ge ||v_2||_1) = (||v_1||_2 \\ge ||v_2||_2)$ $p_n$.  What is $\\lim_{n \\rightarrow \\infty} p_n$?\n",
    "\n",
    "Interestingly $p_n$, which is essentially the AUC of matching the L1 norm to the L2 norm, seems to converge to a constant strictly in the region $(1/2, 1)$ (empirically, approximately $0.885$, maybe $\\sqrt{\\pi} / 2$?).\n",
    "\n",
    "We can prove this with the following observations.\n",
    "\n",
    "  1) From the Wikipedia [Chi-squared_distribution](https://en.wikipedia.org/wiki/Chi-squared_distribution) page:\n",
    "     > If $X \\sim \\Chi(k)$ then $\\sqrt{2 X}$ is approximately normally distributed with mean $\\sqrt{2k−1}$ and unit variance (1922, by R. A. Fisher, see (18.23), p. 426 of Johnson).\n",
    "  2) From above, the variance in the L1 measure of a vector with L2 measure 1 is about $1 - 3/\\pi$.\n",
    "\n",
    "The point is: both of those distributions have nearly constant variances bounded away from zero! If we further assume that both distributions are well approximated by a normal as $n \\rightarrow \\infty$, then we could argue the following.\n",
    "\n",
    "Let $R_1$ and $R_2$ be the random variables representing the L2-radii of $v_1$ and $v_2$. Let $S_1$ and $S_2$ be the random variables that are the value of the sum of the absolute values of $x \\in \\mathbb{R}^{n}$ drawn uniformly with $||x^n||_2 = 1$. Then our \"AUC of the L2 versus L1 metrics\" problem is how often $(R_1 \\ge R_2) = (R_1 S_1 \\ge R_2 S_2)$.\n",
    "\n",
    "By above $R_1$ and $R_2$ are approximately normally distributed with mean $\\sqrt{n - 1/2}$ and variance $1/2$. We know $S_1$ and $S_2$ have mean $a_{n} \\approx \\sqrt{2 n / \\pi}$ and variance $v_{n} \\approx 1 - 3 / \\pi$. Treat them as being approximately normal (something we have not established).\n",
    "\n",
    "To show $\\lim_{n \\rightarrow \\infty} p_{n} \\in (1/2, 1)$ it should suffice to show  $\\text{P}[(R_1 \\ge R_2) = (R_1 S_1 \\ge R_2 S_1)] = z$ for some $z \\in (1/2, 1)$. \n",
    "\n",
    "Define new random variables:\n",
    "\n",
    "  * $U_{i} := R_{i} / \\sqrt{n - 1/2} - 1$ (mean $0$, variance $1 / (2 n - 1)$)\n",
    "  * $V_{i} := S_{i} / \\sqrt{2 n / \\pi} - 1$ (mean $0$, variance $(\\pi - 3) / (2 n)$).\n",
    "\n",
    "We have $(R_{1} \\ge R_{2}) = (U_{1} + 1\\ge U_{2} + 1) = (U_{1} \\ge U_{2})$ and $(R_1 S_1 \\ge R_2 S_1) = ((U_1 + 1) (V_1 + 1) \\ge (U_2 + 1) (V_1 + 1))$. We will exploit that as $n$ gets large we have with high probability $(U_{i} + 1) (V_{i} + 1) \\approx U_{i} + V_{i} + 1$ (i.e. we can drop the term $U_{i} V_{i}$, as it is $\\propto 1/n^2$). So we have $(R_1 S_1 \\ge R_2 S_1) \\approx (U_1 + V_1 \\ge U_2 + V_2)$.\n",
    "\n",
    "Now consider the following three predicates:\n",
    "\n",
    "  1) $U_{1} \\ge U_{2}$\n",
    "  2) $U_1 + V_1 \\ge U_2 + V_2$\n",
    "  3) $V_{1} \\ge V_{2}$.\n",
    "\n",
    "We can derive a few things from symmetries: \n",
    "\n",
    "  * predicate 1 is true 1/2 of the time (by symmetry of the $U_{i}$).\n",
    "  * predicate 3 is true 1/2 of the time (by symmetry of the $V_{i}$).\n",
    "  * predicate 1 equals predicate 2 1/2 of the time (by independence of the $U_{i}$ and $V_{i}$).\n",
    "  * when predicate 1 equals predicate 3, then predicate 2 also takes this value (by linearity).\n",
    "\n",
    "So we can only have disagreement between predicates 1 and 2 in some subset of the cases where predicate 1 and 3 disagree. Heuristically in predicate 2, the $U_{i}$ supply about $1$ unit of variance for every $\\pi - 3$ units of variance. So knowing the $U_{i}$ should, in expectation, leave a constant amount of uncertainty in predicate 2. This should limit out to a constant for large $n$. This should be enough to set up a calculation for the L2L1 AUC constant.\n",
    "\n",
    "\n",
    "This means we expect neither L2/L1 agreement or L2L1 disagreement to be vanishingly rare as $n \\rightarrow \\infty$. Or, we expect the L2L1 AUC to be strictly in the interior of $(1/2, 1)$. Again our empirical estimate is around $0.885$.\n",
    "\n"
   ]
  },
  {
   "attachments": {},
   "cell_type": "markdown",
   "id": "cell96",
   "metadata": {},
   "source": [
    "## Conclusion\n",
    "\n",
    "Let $a_{n}$ be the expected value of $\\sum_{i=1}^{n} |x_i|$ given $\\sum_{i=1}^{n} x_i^2 = 1$ where $x$ is uniformly distributed such, and $v_{n}$ as the variance of this same sum.\n",
    "\n",
    "We have shown for large $n$: $a_n \\approx \\sqrt{2 n/ \\pi}$. Or, in high dimensions the typical L2 norm-1 vector has an expected L1 norm of about $\\sqrt{2 n / \\pi}$. The variance $v_n \\approx 1 - 3 / \\pi$ (a constant independent of dimension!).\n",
    "\n",
    "This allows us to argue the L1 and L2 norm agree on the ordering of vectors whose coordinates are independently distributed as standard normals at a rate strictly between $1/2$ and $1$, eventually independent of dimension!\n",
    "\n",
    "I think it is pretty neat the large scale behavior is in fact simple.\n"
   ]
  },
  {
   "cell_type": "code",
   "execution_count": null,
   "id": "95cc670e",
   "metadata": {},
   "outputs": [],
   "source": []
  }
 ],
 "metadata": {
  "kernelspec": {
   "display_name": "research_env",
   "language": "python",
   "name": "python3"
  },
  "language_info": {
   "codemirror_mode": {
    "name": "ipython",
    "version": 3
   },
   "file_extension": ".py",
   "mimetype": "text/x-python",
   "name": "python",
   "nbconvert_exporter": "python",
   "pygments_lexer": "ipython3",
   "version": "3.11.3"
  }
 },
 "nbformat": 4,
 "nbformat_minor": 5
}
