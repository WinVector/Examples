{
 "cells": [
  {
   "attachments": {},
   "cell_type": "markdown",
   "id": "cell0",
   "metadata": {},
   "source": [
    "# The L2 Ball's View of the L1 Norm\n",
    "\n",
    "John Mount<br/>\n",
    "jmount@win-vector.com<br/>\n",
    "Win Vector LLC<br/>\n",
    "6-10-2023<br/>\n",
    "\n",
    "## Abstract\n",
    "\n",
    "\n",
    "Define $a_{n}$ to be expected value of $\\sum_{i=1}^{n} |x_i|$ given $\\sum_{i=1}^{n} x_i^2 = 1$ where $x$ is uniformly distributed such. That is: for $x \\in \\mathbb{R}^{n}$ distributed uniformly on the boundary of the unit ball, what is the expected L1 norm of $x$?\n",
    "\n",
    "The answer is: $\\lim_{n \\rightarrow \\infty} a_n / \\sqrt{n} = \\sqrt{2 / \\pi}$.\n",
    "\n",
    "## Deriving the Solution\n",
    "\n",
    "Let's work up to the answer.\n"
   ]
  },
  {
   "cell_type": "code",
   "execution_count": 1,
   "id": "cell1",
   "metadata": {},
   "outputs": [],
   "source": [
    "import sympy\n",
    "from sympy import cos, exp, factorial, gamma, loggamma, pi, sin, sqrt\n",
    "from IPython.display import display\n",
    "sympy.init_printing(use_unicode=False, wrap_line=False)\n",
    "import numpy.random\n",
    "import numpy as np\n"
   ]
  },
  {
   "cell_type": "code",
   "execution_count": 2,
   "id": "cell2",
   "metadata": {},
   "outputs": [],
   "source": [
    "rng = numpy.random.default_rng(seed=2023)\n"
   ]
  },
  {
   "attachments": {},
   "cell_type": "markdown",
   "id": "cell3",
   "metadata": {},
   "source": [
    "We can work out that: $a_{1} = 1$. \n",
    "\n",
    "### Solving for $a_2$\n",
    "\n",
    "Now induct on $n$, and suppose we know $a_{n-1}$.\n",
    "\n",
    "$\\sum_{i=1}^{n-1} x_i^2 = 1 - x_n^2$. So if $x_n = \\cos(z)$ then $\\sum_{i=1}^{n-1} x_i^2 = \\sin(z)^2$.  \n",
    "\n",
    "By induction $\\sum_{i=1}^{n-1} (x_i / \\sin(z))^2 = 1$ implies $\\text{E}[\\sum_{i=1}^{n-1} |x_i / \\sin(z)|] = a_{n-1}$. So $\\text{E}[\\sum_{i=1}^{n-1} |x_i|] = a_{n-1} \\sin(z)$.\n",
    "\n",
    "This gives us:\n",
    "\n",
    "$$\n",
    "a_{2} = \\int_{\\lambda = 0}^{1} (\\cos((\\pi/2) \\lambda) + a_{1} \\sin((\\pi/2) \\lambda)) \\text{d}\\lambda\n",
    "$$\n"
   ]
  },
  {
   "cell_type": "code",
   "execution_count": 3,
   "id": "cell4",
   "metadata": {},
   "outputs": [
    {
     "data": {
      "image/png": "[encoded data removed]",
      "text/latex": [
       "$\\displaystyle \\frac{4}{\\pi}$"
      ],
      "text/plain": [
       "4 \n",
       "--\n",
       "pi"
      ]
     },
     "execution_count": 3,
     "metadata": {},
     "output_type": "execute_result"
    }
   ],
   "source": [
    "a_1 = 1\n",
    "x = sympy.Symbol('x')\n",
    "a_2 = sympy.integrate(cos((pi/2) * x) + a_1 * sin((pi/2) * x), (x, 0, 1))\n",
    "a_2\n"
   ]
  },
  {
   "cell_type": "code",
   "execution_count": 4,
   "id": "cell5",
   "metadata": {},
   "outputs": [
    {
     "data": {
      "image/png": "[encoded data removed]",
      "text/latex": [
       "$\\displaystyle 1.27323954473516$"
      ],
      "text/plain": [
       "1.2732395447351628"
      ]
     },
     "execution_count": 4,
     "metadata": {},
     "output_type": "execute_result"
    }
   ],
   "source": [
    "float(a_2)\n"
   ]
  },
  {
   "attachments": {},
   "cell_type": "markdown",
   "id": "cell6",
   "metadata": {},
   "source": [
    "We can confirm the values of $a_1$ and $a_2$ empirically.\n"
   ]
  },
  {
   "cell_type": "code",
   "execution_count": 5,
   "id": "cell7",
   "metadata": {},
   "outputs": [],
   "source": [
    "def l1_example(dim: int):\n",
    "    \"\"\"Compute l1-norm of a uniformly selected unit l2-vector\"\"\"\n",
    "    dim = int(dim)\n",
    "    assert dim >= 1\n",
    "    v = None\n",
    "    v_norm_sq = 0\n",
    "    while v_norm_sq <= 0:\n",
    "        v = rng.normal(size=dim)\n",
    "        v_norm_sq = np.dot(v, v)\n",
    "    v = v / np.sqrt(v_norm_sq)\n",
    "    return np.sum(np.abs(v))\n"
   ]
  },
  {
   "cell_type": "code",
   "execution_count": 6,
   "id": "cell8",
   "metadata": {},
   "outputs": [
    {
     "data": {
      "image/png": "[encoded data removed]",
      "text/latex": [
       "$\\displaystyle 1.0$"
      ],
      "text/plain": [
       "1.0"
      ]
     },
     "execution_count": 6,
     "metadata": {},
     "output_type": "execute_result"
    }
   ],
   "source": [
    "# get average l1 metric of many unit l2-examples in dimension 1\n",
    "np.mean([l1_example(1) for r in range(100000)])\n"
   ]
  },
  {
   "cell_type": "code",
   "execution_count": 7,
   "id": "cell9",
   "metadata": {},
   "outputs": [
    {
     "data": {
      "image/png": "[encoded data removed]",
      "text/latex": [
       "$\\displaystyle 1.27379120304091$"
      ],
      "text/plain": [
       "1.2737912030409078"
      ]
     },
     "execution_count": 7,
     "metadata": {},
     "output_type": "execute_result"
    }
   ],
   "source": [
    "# get average l1 metric of many unit l2-examples in dimension 2\n",
    "np.mean([l1_example(2) for r in range(100000)])\n"
   ]
  },
  {
   "attachments": {},
   "cell_type": "markdown",
   "id": "cell10",
   "metadata": {},
   "source": [
    "### Solving for $a_n$\n",
    "\n",
    "For larger $n$ we would expect the following.\n",
    "\n",
    "$$\n",
    "a_{n} = \\frac{\\int_{\\lambda = 0}^{1} (\\cos((\\pi/2) \\lambda) + a_{n-1} \\sin((\\pi/2) \\lambda)) \\sin((\\pi/2) \\lambda)^{n-2} \\;\\text{d}\\lambda}{\\int_{\\lambda = 0}^{1} \\sin((\\pi/2) \\lambda)^{n-2} \\;\\text{d}\\lambda}\n",
    "$$\n",
    "\n",
    "The $\\sin((\\pi/2) \\lambda)^{n-2}$ term being the proportion of the $n-1$ sphere volume in each portion of the integral.\n",
    "\n",
    "Let's try that for $n = 3$.\n"
   ]
  },
  {
   "cell_type": "code",
   "execution_count": 8,
   "id": "cell11",
   "metadata": {},
   "outputs": [],
   "source": [
    "def next_a(*, n: int, a_previous):\n",
    "    \"\"\"Compute a_{n} from a_{n-1}\"\"\"\n",
    "    n = int(n)\n",
    "    assert n > 1\n",
    "    return (\n",
    "        sympy.integrate(\n",
    "        (cos((pi/2) * x) + a_previous * sin((pi/2) * x)) * sin((pi/2) * x)**n, \n",
    "        (x, 0, 1))\n",
    "        / sympy.integrate(\n",
    "        sin((pi/2) * x)**n, \n",
    "        (x, 0, 1))\n",
    "    ).expand().simplify()\n"
   ]
  },
  {
   "cell_type": "code",
   "execution_count": 9,
   "id": "cell12",
   "metadata": {},
   "outputs": [
    {
     "data": {
      "image/png": "[encoded data removed]",
      "text/latex": [
       "$\\displaystyle \\frac{3}{2}$"
      ],
      "text/plain": [
       "3/2"
      ]
     },
     "execution_count": 9,
     "metadata": {},
     "output_type": "execute_result"
    }
   ],
   "source": [
    "a_3 = next_a(n=3, a_previous=a_2)\n",
    "\n",
    "a_3\n"
   ]
  },
  {
   "cell_type": "code",
   "execution_count": 10,
   "id": "cell13",
   "metadata": {},
   "outputs": [
    {
     "data": {
      "image/png": "[encoded data removed]",
      "text/latex": [
       "$\\displaystyle 1.5$"
      ],
      "text/plain": [
       "1.5"
      ]
     },
     "execution_count": 10,
     "metadata": {},
     "output_type": "execute_result"
    }
   ],
   "source": [
    "float(a_3)\n"
   ]
  },
  {
   "attachments": {},
   "cell_type": "markdown",
   "id": "cell14",
   "metadata": {},
   "source": [
    "And let's confirm that with another simulation.\n"
   ]
  },
  {
   "cell_type": "code",
   "execution_count": 11,
   "id": "cell15",
   "metadata": {},
   "outputs": [
    {
     "data": {
      "image/png": "[encoded data removed]",
      "text/latex": [
       "$\\displaystyle 1.49991614876837$"
      ],
      "text/plain": [
       "1.4999161487683657"
      ]
     },
     "execution_count": 11,
     "metadata": {},
     "output_type": "execute_result"
    }
   ],
   "source": [
    "# get average l1 metric of many unit l2-examples in dimension 3\n",
    "np.mean([l1_example(3) for r in range(100000)])\n"
   ]
  },
  {
   "attachments": {},
   "cell_type": "markdown",
   "id": "cell16",
   "metadata": {},
   "source": [
    "And let's try that for $a_4$.\n"
   ]
  },
  {
   "cell_type": "code",
   "execution_count": 12,
   "id": "cell17",
   "metadata": {},
   "outputs": [
    {
     "data": {
      "image/png": "[encoded data removed]",
      "text/latex": [
       "$\\displaystyle \\frac{16}{3 \\pi}$"
      ],
      "text/plain": [
       " 16 \n",
       "----\n",
       "3*pi"
      ]
     },
     "execution_count": 12,
     "metadata": {},
     "output_type": "execute_result"
    }
   ],
   "source": [
    "a_4 = next_a(n=4, a_previous=a_3)\n",
    "\n",
    "a_4\n"
   ]
  },
  {
   "cell_type": "code",
   "execution_count": 13,
   "id": "cell18",
   "metadata": {},
   "outputs": [
    {
     "data": {
      "image/png": "[encoded data removed]",
      "text/latex": [
       "$\\displaystyle 1.69765272631355$"
      ],
      "text/plain": [
       "1.6976527263135504"
      ]
     },
     "execution_count": 13,
     "metadata": {},
     "output_type": "execute_result"
    }
   ],
   "source": [
    "float(a_4)\n"
   ]
  },
  {
   "cell_type": "code",
   "execution_count": 14,
   "id": "cell19",
   "metadata": {},
   "outputs": [
    {
     "data": {
      "image/png": "[encoded data removed]",
      "text/latex": [
       "$\\displaystyle 1.69757283653682$"
      ],
      "text/plain": [
       "1.6975728365368248"
      ]
     },
     "execution_count": 14,
     "metadata": {},
     "output_type": "execute_result"
    }
   ],
   "source": [
    "# get average l1 metric of many unit l2-examples in dimension 4\n",
    "np.mean([l1_example(4) for r in range(100000)])\n"
   ]
  },
  {
   "attachments": {},
   "cell_type": "markdown",
   "id": "cell20",
   "metadata": {},
   "source": [
    "Let's try a larger $n$.\n"
   ]
  },
  {
   "cell_type": "code",
   "execution_count": 15,
   "id": "cell21",
   "metadata": {},
   "outputs": [],
   "source": [
    "def calc_a_n(n: int):\n",
    "    \"\"\"Calculate a_n by iterating next_a()\"\"\"\n",
    "    n = int(n)\n",
    "    assert n >= 1\n",
    "    if n <= 1:\n",
    "        return 1\n",
    "    a_n = 1\n",
    "    for i in range(2, n+1):\n",
    "        a_n = next_a(n=i, a_previous=a_n)\n",
    "    return a_n\n"
   ]
  },
  {
   "cell_type": "code",
   "execution_count": 16,
   "id": "cell22",
   "metadata": {},
   "outputs": [
    {
     "data": {
      "image/png": "[encoded data removed]",
      "text/latex": [
       "$\\displaystyle \\frac{512}{63 \\pi}$"
      ],
      "text/plain": [
       " 512 \n",
       "-----\n",
       "63*pi"
      ]
     },
     "execution_count": 16,
     "metadata": {},
     "output_type": "execute_result"
    }
   ],
   "source": [
    "a_10 = calc_a_n(10)\n",
    "\n",
    "a_10\n"
   ]
  },
  {
   "cell_type": "code",
   "execution_count": 17,
   "id": "cell23",
   "metadata": {},
   "outputs": [
    {
     "data": {
      "image/png": "[encoded data removed]",
      "text/latex": [
       "$\\displaystyle 2.58689939247779$"
      ],
      "text/plain": [
       "2.586899392477791"
      ]
     },
     "execution_count": 17,
     "metadata": {},
     "output_type": "execute_result"
    }
   ],
   "source": [
    "float(a_10)\n"
   ]
  },
  {
   "cell_type": "code",
   "execution_count": 18,
   "id": "cell24",
   "metadata": {},
   "outputs": [
    {
     "data": {
      "image/png": "[encoded data removed]",
      "text/latex": [
       "$\\displaystyle 2.58707104601288$"
      ],
      "text/plain": [
       "2.5870710460128787"
      ]
     },
     "execution_count": 18,
     "metadata": {},
     "output_type": "execute_result"
    }
   ],
   "source": [
    "# get average l1 metric of many unit l2-examples in dimension 10\n",
    "np.mean([l1_example(10) for r in range(100000)])\n"
   ]
  },
  {
   "attachments": {},
   "cell_type": "markdown",
   "id": "cell25",
   "metadata": {},
   "source": [
    "### Writing a Recurrence\n",
    "\n",
    "With a recurrence relating $a_{n}$ to $a_{n-1}$ we would expect to be able to work out the asymptotic behavior of $a_{n}$. Let's try to eliminate the integrals and pursue that path.\n",
    "\n",
    "Integration by parts would let us derive the following two identities for positive integer $k$.\n",
    "\n",
    "$$\n",
    "s(k) \n",
    " := \\int_{\\lambda = 0}^{1} \\sin((\\pi/2) \\lambda)^{k} \\text{d}\\lambda \n",
    " = \\frac{\\Gamma(k/2 + 1/2)}{\\Gamma(k/2 + 1) \\sqrt{\\pi}}\n",
    "$$\n",
    "\n",
    "$$\n",
    "c(k) \n",
    " := \\int_{\\lambda = 0}^{1} \\cos((\\pi/2) \\lambda) \\sin((\\pi/2) \\lambda)^{k} \\text{d}\\lambda \n",
    " = \\frac{2}{(k+1) \\pi}\n",
    "$$\n",
    "\n",
    "So our recurrence is then:\n",
    "\n",
    "$$\n",
    "a_{n} = (c(n-2) + a_{n-1} s(n-1)) / s(n-2)\n",
    "$$\n"
   ]
  },
  {
   "cell_type": "code",
   "execution_count": 19,
   "id": "cell26",
   "metadata": {},
   "outputs": [],
   "source": [
    "def gamma_k_plus_half(k: int):\n",
    "    \"\"\"Compute gamma(k + 1/2) for non-negative integer k\"\"\"\n",
    "    k = int(k)\n",
    "    assert k >= 0\n",
    "    return sqrt(pi) * int(factorial(2 * k)) / (2**(2*k) * int(factorial(k)))\n",
    "\n",
    "def s(k: int):\n",
    "    \"\"\"Compute s() integral.\"\"\"\n",
    "    k = int(k)\n",
    "    assert k >= 1\n",
    "    if (k & 1) == 0:\n",
    "        # even\n",
    "        return gamma_k_plus_half(k/2) / (int(factorial(k/2)) * sqrt(pi))\n",
    "    else:\n",
    "        # odd\n",
    "        return int(factorial((k-1)/2)) / (gamma_k_plus_half((k+1)/2) * sqrt(pi))\n",
    "\n",
    "def c(k):\n",
    "    \"\"\"Compute c() integral\"\"\"\n",
    "    k = int(k)\n",
    "    assert k >= 1\n",
    "    return 2 / ((k + 1) * pi)\n",
    "\n",
    "def next_a_by_soln(*, n: int, a_previous):\n",
    "    \"\"\"Compute a_{n} from a_{n-1} using recurrence formula\"\"\"\n",
    "    n = int(n)\n",
    "    assert n >= 1\n",
    "    return (\n",
    "        (c(n-2) + a_previous * s(n-1)) / s(n-2)\n",
    "        ).expand().simplify()\n"
   ]
  },
  {
   "attachments": {},
   "cell_type": "markdown",
   "id": "cell27",
   "metadata": {},
   "source": [
    "We can confirm we have the right functions and recurrence.\n"
   ]
  },
  {
   "cell_type": "code",
   "execution_count": 20,
   "id": "cell28",
   "metadata": {},
   "outputs": [
    {
     "data": {
      "image/png": "[encoded data removed]",
      "text/latex": [
       "$\\displaystyle \\frac{3}{2}$"
      ],
      "text/plain": [
       "3/2"
      ]
     },
     "execution_count": 20,
     "metadata": {},
     "output_type": "execute_result"
    }
   ],
   "source": [
    "next_a_by_soln(n=3, a_previous=a_2)\n"
   ]
  },
  {
   "cell_type": "code",
   "execution_count": 21,
   "id": "cell29",
   "metadata": {},
   "outputs": [
    {
     "data": {
      "image/png": "[encoded data removed]",
      "text/latex": [
       "$\\displaystyle \\frac{3}{2}$"
      ],
      "text/plain": [
       "3/2"
      ]
     },
     "execution_count": 21,
     "metadata": {},
     "output_type": "execute_result"
    }
   ],
   "source": [
    "a_3\n"
   ]
  },
  {
   "cell_type": "code",
   "execution_count": 22,
   "id": "cell30",
   "metadata": {},
   "outputs": [
    {
     "data": {
      "image/png": "[encoded data removed]",
      "text/latex": [
       "$\\displaystyle \\frac{16}{3 \\pi}$"
      ],
      "text/plain": [
       " 16 \n",
       "----\n",
       "3*pi"
      ]
     },
     "execution_count": 22,
     "metadata": {},
     "output_type": "execute_result"
    }
   ],
   "source": [
    "next_a_by_soln(n=4, a_previous=a_3)\n"
   ]
  },
  {
   "cell_type": "code",
   "execution_count": 23,
   "id": "cell31",
   "metadata": {},
   "outputs": [
    {
     "data": {
      "image/png": "[encoded data removed]",
      "text/latex": [
       "$\\displaystyle \\frac{16}{3 \\pi}$"
      ],
      "text/plain": [
       " 16 \n",
       "----\n",
       "3*pi"
      ]
     },
     "execution_count": 23,
     "metadata": {},
     "output_type": "execute_result"
    }
   ],
   "source": [
    "a_4\n"
   ]
  },
  {
   "attachments": {},
   "cell_type": "markdown",
   "id": "cell32",
   "metadata": {},
   "source": [
    "We can wrap all of this in a function to get $a_n$ for larger $n$.\n"
   ]
  },
  {
   "cell_type": "code",
   "execution_count": 24,
   "id": "cell33",
   "metadata": {},
   "outputs": [],
   "source": [
    "soln_cache = {\n",
    "    1: a_1,\n",
    "    2: a_2,\n",
    "}\n",
    "\n",
    "def calc_a_n_by_soln(n: int):\n",
    "    \"\"\"Calculate a_n by advancing next_a_by_soln() (cached).\"\"\"\n",
    "    n = int(n)\n",
    "    assert n >= 1\n",
    "    try:\n",
    "        return soln_cache[n]\n",
    "    except KeyError:\n",
    "        pass\n",
    "    i = np.max(list(soln_cache.keys()))\n",
    "    a_n = soln_cache[i]\n",
    "    while i < n:\n",
    "        i = i + 1\n",
    "        a_n = next_a_by_soln(n=i, a_previous=a_n)\n",
    "        soln_cache[i] = a_n\n",
    "    return a_n\n"
   ]
  },
  {
   "cell_type": "code",
   "execution_count": 25,
   "id": "cell34",
   "metadata": {},
   "outputs": [
    {
     "data": {
      "image/png": "[encoded data removed]",
      "text/latex": [
       "$\\displaystyle \\frac{16}{3 \\pi}$"
      ],
      "text/plain": [
       " 16 \n",
       "----\n",
       "3*pi"
      ]
     },
     "execution_count": 25,
     "metadata": {},
     "output_type": "execute_result"
    }
   ],
   "source": [
    "calc_a_n_by_soln(4)\n"
   ]
  },
  {
   "cell_type": "code",
   "execution_count": 26,
   "id": "cell35",
   "metadata": {},
   "outputs": [
    {
     "data": {
      "image/png": "[encoded data removed]",
      "text/latex": [
       "$\\displaystyle \\frac{16}{3 \\pi}$"
      ],
      "text/plain": [
       " 16 \n",
       "----\n",
       "3*pi"
      ]
     },
     "execution_count": 26,
     "metadata": {},
     "output_type": "execute_result"
    }
   ],
   "source": [
    "a_4\n"
   ]
  },
  {
   "cell_type": "code",
   "execution_count": 27,
   "id": "cell36",
   "metadata": {},
   "outputs": [
    {
     "data": {
      "image/png": "[encoded data removed]",
      "text/latex": [
       "$\\displaystyle \\frac{512}{63 \\pi}$"
      ],
      "text/plain": [
       " 512 \n",
       "-----\n",
       "63*pi"
      ]
     },
     "execution_count": 27,
     "metadata": {},
     "output_type": "execute_result"
    }
   ],
   "source": [
    "calc_a_n_by_soln(10)\n"
   ]
  },
  {
   "cell_type": "code",
   "execution_count": 28,
   "id": "cell37",
   "metadata": {},
   "outputs": [
    {
     "data": {
      "image/png": "[encoded data removed]",
      "text/latex": [
       "$\\displaystyle \\frac{512}{63 \\pi}$"
      ],
      "text/plain": [
       " 512 \n",
       "-----\n",
       "63*pi"
      ]
     },
     "execution_count": 28,
     "metadata": {},
     "output_type": "execute_result"
    }
   ],
   "source": [
    "a_10\n"
   ]
  },
  {
   "attachments": {},
   "cell_type": "markdown",
   "id": "8cb97597",
   "metadata": {},
   "source": [
    "#### Other things to check\n",
    "\n",
    "With the recurrence form, we likely have enough tools to check, with some additional work, that the $0 < a_{n} / \\sqrt{n} < a_{n-1}  / \\sqrt{n-1} < 1$ for all $n$. This sort of monotone behavior in a closed interval makes for a very well behaved sequence and limits"
   ]
  },
  {
   "cell_type": "code",
   "execution_count": 29,
   "id": "c6f07fca",
   "metadata": {},
   "outputs": [],
   "source": [
    "# spot check\n",
    "assert (float(a_2) / sqrt(2)) < (float(a_1) / sqrt(1))\n",
    "assert (float(a_3) / sqrt(3)) < (float(a_2) / sqrt(2))\n",
    "assert (float(a_4) / sqrt(4)) < (float(a_3) / sqrt(3))"
   ]
  },
  {
   "attachments": {},
   "cell_type": "markdown",
   "id": "4669949a",
   "metadata": {},
   "source": [
    "## The Limiting $a_{n}$\n",
    "\n",
    "By the linearity of expectation we expect the sum $a_{n}$ to be $n$ times the expected value of $x_{n}$. So we expect:\n",
    "\n",
    "$$\n",
    "a_{n} = n c(n-2) / s(n-2)\n",
    "$$\n",
    "\n",
    "This is easy to confirm."
   ]
  },
  {
   "cell_type": "code",
   "execution_count": 30,
   "id": "05c5315c",
   "metadata": {},
   "outputs": [
    {
     "data": {
      "image/png": "[encoded data removed]",
      "text/latex": [
       "$\\displaystyle \\frac{16}{3 \\pi}$"
      ],
      "text/plain": [
       " 16 \n",
       "----\n",
       "3*pi"
      ]
     },
     "execution_count": 30,
     "metadata": {},
     "output_type": "execute_result"
    }
   ],
   "source": [
    "4 * c(4 - 2) / s(4 - 2)"
   ]
  },
  {
   "cell_type": "code",
   "execution_count": 31,
   "id": "8b260527",
   "metadata": {},
   "outputs": [
    {
     "data": {
      "image/png": "[encoded data removed]",
      "text/latex": [
       "$\\displaystyle \\frac{16}{3 \\pi}$"
      ],
      "text/plain": [
       " 16 \n",
       "----\n",
       "3*pi"
      ]
     },
     "execution_count": 31,
     "metadata": {},
     "output_type": "execute_result"
    }
   ],
   "source": [
    "a_4"
   ]
  },
  {
   "attachments": {},
   "cell_type": "markdown",
   "id": "5c7e44df",
   "metadata": {},
   "source": [
    "For large $k$ we claim:\n",
    "\n",
    "$$\n",
    "\\frac{\\Gamma(k/2 + 1/2)}{\\Gamma(k/2 + 1)}\n",
    " \\approx \\sqrt{\\frac{2}{k}}\n",
    "$$\n",
    "\n",
    "This is easy to establish. For large $k$ we have:\n",
    "\n",
    "$$\n",
    "\\begin{align*} \n",
    "\\frac{\\Gamma(k/2 + 1/2)}{\\Gamma(k/2 + 1)} \n",
    " &= \\sqrt{\\frac{\\Gamma(k/2 + 1/2)}{\\Gamma(k/2 + 1)} \\frac{\\Gamma(k/2 + 1/2)}{\\Gamma(k/2 + 1)}} \\\\\n",
    " &\\approx \\sqrt{\\frac{\\Gamma(k/2)}{\\Gamma(k/2 + 1/2)} \\frac{\\Gamma(k/2 + 1/2)}{\\Gamma(k/2 + 1)}} \\\\\n",
    " &= \\sqrt{\\frac{\\Gamma(k/2)}{\\Gamma(k/2 + 1)}} \\\\\n",
    " &= \\sqrt{2/k}\n",
    "\\end{align*} \n",
    "$$\n",
    "\n",
    "The last line uses the fact that $x \\Gamma(x) = \\Gamma(x+1)$.\n",
    "\n",
    "Let's reconfirm this numerically."
   ]
  },
  {
   "cell_type": "code",
   "execution_count": 32,
   "id": "4beacf4a",
   "metadata": {},
   "outputs": [],
   "source": [
    "def z(n: int):\n",
    "    \"\"\"Simpler fn to stand in for s()\"\"\"\n",
    "    n = int(n)\n",
    "    assert n > 0\n",
    "    return exp(loggamma(n/2 + 1/2) - loggamma(n/2 + 1))"
   ]
  },
  {
   "cell_type": "code",
   "execution_count": 33,
   "id": "6cc1522b",
   "metadata": {},
   "outputs": [
    {
     "data": {
      "image/png": "[encoded data removed]",
      "text/latex": [
       "$\\displaystyle 0.0141417820746962$"
      ],
      "text/plain": [
       "0.0141417820746962"
      ]
     },
     "execution_count": 33,
     "metadata": {},
     "output_type": "execute_result"
    }
   ],
   "source": [
    "z(10000)"
   ]
  },
  {
   "cell_type": "code",
   "execution_count": 34,
   "id": "5d19f6fe",
   "metadata": {},
   "outputs": [
    {
     "data": {
      "image/png": "[encoded data removed]",
      "text/latex": [
       "$\\displaystyle 0.014142135623731$"
      ],
      "text/plain": [
       "0.01414213562373095"
      ]
     },
     "execution_count": 34,
     "metadata": {},
     "output_type": "execute_result"
    }
   ],
   "source": [
    "float(sqrt(2 / 10000))"
   ]
  },
  {
   "attachments": {},
   "cell_type": "markdown",
   "id": "02c00960",
   "metadata": {},
   "source": [
    "Then for large $n$ we have:\n",
    "\n",
    "$$\n",
    "\\begin{align*} \n",
    "s(n)  \n",
    " &= \\frac{\\Gamma(n/2 + 1/2)}{\\Gamma(n/2 + 1) \\sqrt{\\pi}} \\\\\n",
    " &\\approx \\sqrt{\\frac{2}{n \\pi}}\n",
    "\\end{align*}\n",
    "$$\n",
    "\n",
    "$$\n",
    "\\begin{align*} \n",
    "c(n) \n",
    "  &= \\frac{2}{(n+1) \\pi} \\\\\n",
    "a_{n} \n",
    " &= n c(n-2) / s(n-2) \\\\\n",
    " &\\approx n \\frac{2}{(n-1) \\pi} / \\sqrt{\\frac{2}{(n-2) \\pi}} \\\\\n",
    " &\\approx \\sqrt{2 n / \\pi}\n",
    "\\end{align*} \n",
    "$$\n",
    "\n",
    "Which is the original claim.\n"
   ]
  },
  {
   "attachments": {},
   "cell_type": "markdown",
   "id": "cell38",
   "metadata": {},
   "source": [
    "\n",
    "We can recheck that a large that $a_{n} / \\sqrt{n}$ is near $\\sqrt{2 / \\pi}$ for large $n$.\n"
   ]
  },
  {
   "cell_type": "code",
   "execution_count": 35,
   "id": "cell39",
   "metadata": {},
   "outputs": [
    {
     "data": {
      "image/png": "[encoded data removed]",
      "text/latex": [
       "$\\displaystyle 0.797884560802865$"
      ],
      "text/plain": [
       "0.7978845608028654"
      ]
     },
     "execution_count": 35,
     "metadata": {},
     "output_type": "execute_result"
    }
   ],
   "source": [
    "float(sqrt(2 / pi))\n"
   ]
  },
  {
   "cell_type": "code",
   "execution_count": 36,
   "id": "cell40",
   "metadata": {},
   "outputs": [
    {
     "data": {
      "image/png": "[encoded data removed]",
      "text/latex": [
       "$\\displaystyle 0.798084056845783$"
      ],
      "text/plain": [
       "0.7980840568457832"
      ]
     },
     "execution_count": 36,
     "metadata": {},
     "output_type": "execute_result"
    }
   ],
   "source": [
    "float(calc_a_n_by_soln(1000) / 1000**(1/2))\n"
   ]
  },
  {
   "cell_type": "code",
   "execution_count": 37,
   "id": "cell41",
   "metadata": {},
   "outputs": [
    {
     "data": {
      "image/png": "[encoded data removed]",
      "text/latex": [
       "$\\displaystyle 0.797984302602542$"
      ],
      "text/plain": [
       "0.7979843026025424"
      ]
     },
     "execution_count": 37,
     "metadata": {},
     "output_type": "execute_result"
    }
   ],
   "source": [
    "float(calc_a_n_by_soln(2000) / 2000**(1/2))\n"
   ]
  },
  {
   "attachments": {},
   "cell_type": "markdown",
   "id": "cell53",
   "metadata": {},
   "source": [
    "\n",
    "\n",
    "## Conclusion\n",
    "\n",
    "We have shown $\\lim_{n \\rightarrow \\infty} a_n / \\sqrt{n} = \\sqrt{2 / \\pi}$. Or, in high dimensions the typical L2 norm-1 vector has an expected L1 norm of about $\\sqrt{2 n / \\pi}$.\n",
    "\n",
    "It is neat that there is a simple large scale or limiting behavior.\n"
   ]
  }
 ],
 "metadata": {
  "kernelspec": {
   "display_name": "research_env",
   "language": "python",
   "name": "python3"
  },
  "language_info": {
   "codemirror_mode": {
    "name": "ipython",
    "version": 3
   },
   "file_extension": ".py",
   "mimetype": "text/x-python",
   "name": "python",
   "nbconvert_exporter": "python",
   "pygments_lexer": "ipython3",
   "version": "3.11.3"
  }
 },
 "nbformat": 4,
 "nbformat_minor": 5
}
