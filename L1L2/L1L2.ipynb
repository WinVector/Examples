{
 "cells": [
  {
   "attachments": {},
   "cell_type": "markdown",
   "id": "cell0",
   "metadata": {},
   "source": [
    "# The L2 Ball's View of the L1 Norm\n",
    "\n",
    "John Mount<br/>\n",
    "jmount@win-vector.com<br/>\n",
    "Win Vector LLC<br/>\n",
    "6-15-2023<br/>\n",
    "\n",
    "## Abstract\n",
    "\n",
    "\n",
    "Define $a_{n}$ to be expected value of $\\sum_{i=1}^{n} |x_i|$ given $\\sum_{i=1}^{n} x_i^2 = 1$ where $x$ is uniformly distributed such. Define $v_{n}$ as the variance of this same sum.\n",
    "\n",
    "That is: for $x \\in \\mathbb{R}^{n}$ distributed uniformly on the boundary of the unit ball, what is the expected L1 norm of $x$ (and its variance)?\n",
    "\n",
    "The answer is, for large $n$: $a_n \\approx \\sqrt{2 n/ \\pi}$ and $v_{n} < 1 - 2/\\pi$ (a constant, independent of dimension!).\n",
    "\n",
    "## Deriving the Solution\n",
    "\n",
    "Let's work up to the answer.\n"
   ]
  },
  {
   "cell_type": "code",
   "execution_count": 1,
   "id": "cell1",
   "metadata": {},
   "outputs": [],
   "source": [
    "import sympy\n",
    "from sympy import cos, exp, factorial, gamma, loggamma, pi, sin, sqrt\n",
    "from IPython.display import display\n",
    "import numpy.random\n",
    "import numpy as np\n",
    "import pandas as pd\n",
    "\n",
    "sympy.init_printing(use_unicode=False, wrap_line=False)\n"
   ]
  },
  {
   "cell_type": "code",
   "execution_count": 2,
   "id": "cell2",
   "metadata": {},
   "outputs": [],
   "source": [
    "rng = numpy.random.default_rng(seed=12345678903141592653589793)\n"
   ]
  },
  {
   "attachments": {},
   "cell_type": "markdown",
   "id": "cell3",
   "metadata": {},
   "source": [
    "\n",
    "### Solving for $a_{n}$\n",
    "\n",
    "By the linearity of expectation we have $\\text{E}[\\sum_{i=1}^{n-1} |x_i|] = n \\text{E}[|x_1|]$.\n",
    "\n",
    "We have the constraint $\\sum_{i=1}^{n-1} x_i^2 = 1 - x_n^2$. So if $x_n = \\cos(z)$ then $\\sum_{i=1}^{n-1} x_i^2 = \\sin(z)^2$.  \n",
    "\n",
    "We can work out that: $a_{1} = 1$.  For $n \\ge 2$ we have:\n",
    "\n",
    "$$\n",
    "a_{n} = n \n",
    " \\frac{\n",
    "    \\int_{\\lambda = 0}^{1} \\cos((\\pi/2) \\lambda) \\sin((\\pi/2) \\lambda)^{n-2} \\text{d}\\lambda}{\n",
    "    \\int_{\\lambda = 0}^{1} \\sin((\\pi/2) \\lambda)^{n-2} \\text{d}\\lambda\n",
    " }\n",
    "$$\n",
    "\n",
    "The $\\sin((\\pi/2) \\lambda)^{n-2}$ term being the density of the $n-1$ sphere volume in each portion of the integral.\n"
   ]
  },
  {
   "cell_type": "code",
   "execution_count": 3,
   "id": "cell4",
   "metadata": {},
   "outputs": [
    {
     "data": {
      "image/png": "[encoded data removed]",
      "text/latex": [
       "$\\displaystyle \\frac{4}{\\pi}$"
      ],
      "text/plain": [
       "4 \n",
       "--\n",
       "pi"
      ]
     },
     "execution_count": 3,
     "metadata": {},
     "output_type": "execute_result"
    }
   ],
   "source": [
    "# define a_1 and a_2\n",
    "a_1 = 1\n",
    "x = sympy.Symbol('x')\n",
    "a_2 = 2 * sympy.integrate(cos((pi/2) * x), (x, 0, 1)) / sympy.integrate(1, (x, 0, 1))\n",
    "a_2\n"
   ]
  },
  {
   "cell_type": "code",
   "execution_count": 4,
   "id": "cell5",
   "metadata": {},
   "outputs": [
    {
     "data": {
      "image/png": "[encoded data removed]",
      "text/latex": [
       "$\\displaystyle 1.27323954473516$"
      ],
      "text/plain": [
       "1.2732395447351628"
      ]
     },
     "execution_count": 4,
     "metadata": {},
     "output_type": "execute_result"
    }
   ],
   "source": [
    "float(a_2)"
   ]
  },
  {
   "attachments": {},
   "cell_type": "markdown",
   "id": "cell6",
   "metadata": {},
   "source": [
    "We can confirm the values of $a_1$ and $a_2$ empirically.\n"
   ]
  },
  {
   "cell_type": "code",
   "execution_count": 5,
   "id": "cell7",
   "metadata": {},
   "outputs": [],
   "source": [
    "def l1_example(dim: int):\n",
    "    \"\"\"Compute l1-norm of a uniformly selected unit l2-vector\"\"\"\n",
    "    dim = int(dim)\n",
    "    assert dim >= 1\n",
    "    # generate a uniform L2-norm 1 vector\n",
    "    v = None\n",
    "    v_norm_sq = 0\n",
    "    while v_norm_sq <= 0:\n",
    "        v = rng.normal(size=dim)\n",
    "        v_norm_sq = np.dot(v, v)\n",
    "    v = v / np.sqrt(v_norm_sq)\n",
    "    # return the L1 norm of this vector\n",
    "    return np.sum(np.abs(v))\n"
   ]
  },
  {
   "cell_type": "code",
   "execution_count": 6,
   "id": "cell8",
   "metadata": {},
   "outputs": [
    {
     "data": {
      "image/png": "[encoded data removed]",
      "text/latex": [
       "$\\displaystyle 1.0$"
      ],
      "text/plain": [
       "1.0"
      ]
     },
     "execution_count": 6,
     "metadata": {},
     "output_type": "execute_result"
    }
   ],
   "source": [
    "# get average l1 metric of many unit l2-examples in dimension 1\n",
    "a_1_empirical = np.mean([l1_example(1) for r in range(100000)])\n",
    "\n",
    "a_1_empirical"
   ]
  },
  {
   "cell_type": "code",
   "execution_count": 7,
   "id": "c104d7fd",
   "metadata": {},
   "outputs": [],
   "source": [
    "assert np.abs(a_1 - a_1_empirical) < 1e-3"
   ]
  },
  {
   "cell_type": "code",
   "execution_count": 8,
   "id": "cell9",
   "metadata": {},
   "outputs": [
    {
     "data": {
      "image/png": "[encoded data removed]",
      "text/latex": [
       "$\\displaystyle 1.27349763868339$"
      ],
      "text/plain": [
       "1.2734976386833892"
      ]
     },
     "execution_count": 8,
     "metadata": {},
     "output_type": "execute_result"
    }
   ],
   "source": [
    "# get average l1 metric of many unit l2-examples in dimension 2\n",
    "a_2_empirical = np.mean([l1_example(2) for r in range(100000)])\n",
    "\n",
    "a_2_empirical\n"
   ]
  },
  {
   "cell_type": "code",
   "execution_count": 9,
   "id": "e3ade6e7",
   "metadata": {},
   "outputs": [],
   "source": [
    "assert np.abs(a_2 - a_2_empirical) < 1e-3"
   ]
  },
  {
   "attachments": {},
   "cell_type": "markdown",
   "id": "c3c01805",
   "metadata": {},
   "source": [
    "Integration by parts would let us derive the following two identities for non-negative integer $k$.\n",
    "\n",
    "$$\n",
    "s(k) \n",
    " := \\int_{\\lambda = 0}^{1} \\sin((\\pi/2) \\lambda)^{k} \\text{d}\\lambda \n",
    " = \\frac{\\Gamma(k/2 + 1/2)}{\\Gamma(k/2 + 1) \\sqrt{\\pi}}\n",
    "$$\n",
    "\n",
    "$$\n",
    "c(k) \n",
    " := \\int_{\\lambda = 0}^{1} \\cos((\\pi/2) \\lambda) \\sin((\\pi/2) \\lambda)^{k} \\text{d}\\lambda \n",
    " = \\frac{2}{(k+1) \\pi}\n",
    "$$\n",
    "\n",
    "We then have for $n \\ge 2$:\n",
    "\n",
    "$$\n",
    "a_{n} = n c(n-2) / s(n-2)\n",
    "$$\n"
   ]
  },
  {
   "cell_type": "code",
   "execution_count": 10,
   "id": "6779303b",
   "metadata": {},
   "outputs": [],
   "source": [
    "\n",
    "def s(k: int):\n",
    "    \"\"\"Compute s() integral.\"\"\"\n",
    "    return gamma((k+1) * sympy.Rational(1,2)) / (gamma((k+2) * sympy.Rational(1,2)) * sqrt(pi))\n",
    "\n",
    "def c(k):\n",
    "    \"\"\"Compute c() integral\"\"\"\n",
    "    return 2 / ((k + 1) * pi)\n",
    "\n",
    "def a_soln(n: int):\n",
    "    \"\"\"Compute a_{n} from a_{n-1} using recurrence formula\"\"\"\n",
    "    n = int(n)\n",
    "    assert n >= 1\n",
    "    if n <= 1:\n",
    "        return 1\n",
    "    return n * c(n-2) / s(n-2)\n"
   ]
  },
  {
   "cell_type": "code",
   "execution_count": 11,
   "id": "cell13",
   "metadata": {},
   "outputs": [],
   "source": [
    "assert a_soln(1) == a_1\n",
    "assert a_soln(2) == a_2"
   ]
  },
  {
   "cell_type": "code",
   "execution_count": 12,
   "id": "1bc62a74",
   "metadata": {},
   "outputs": [
    {
     "data": {
      "image/png": "[encoded data removed]",
      "text/latex": [
       "$\\displaystyle \\frac{3}{2}$"
      ],
      "text/plain": [
       "3/2"
      ]
     },
     "execution_count": 12,
     "metadata": {},
     "output_type": "execute_result"
    }
   ],
   "source": [
    "a_3 = a_soln(3)\n",
    "\n",
    "a_3"
   ]
  },
  {
   "cell_type": "code",
   "execution_count": 13,
   "id": "5770d9a4",
   "metadata": {},
   "outputs": [
    {
     "data": {
      "image/png": "[encoded data removed]",
      "text/latex": [
       "$\\displaystyle 1.50036993966198$"
      ],
      "text/plain": [
       "1.5003699396619803"
      ]
     },
     "execution_count": 13,
     "metadata": {},
     "output_type": "execute_result"
    }
   ],
   "source": [
    "# get average l1 metric of many unit l2-examples in dimension 3\n",
    "a_3_empirical = np.mean([l1_example(3) for r in range(100000)])\n",
    "\n",
    "a_3_empirical"
   ]
  },
  {
   "cell_type": "code",
   "execution_count": 14,
   "id": "793f192a",
   "metadata": {},
   "outputs": [],
   "source": [
    "assert np.abs(a_3 - a_3_empirical) < 1e-3"
   ]
  },
  {
   "attachments": {},
   "cell_type": "markdown",
   "id": "cell16",
   "metadata": {},
   "source": [
    "And let's try that for $a_4$.\n"
   ]
  },
  {
   "cell_type": "code",
   "execution_count": 15,
   "id": "cell17",
   "metadata": {},
   "outputs": [
    {
     "data": {
      "image/png": "[encoded data removed]",
      "text/latex": [
       "$\\displaystyle \\frac{16}{3 \\pi}$"
      ],
      "text/plain": [
       " 16 \n",
       "----\n",
       "3*pi"
      ]
     },
     "execution_count": 15,
     "metadata": {},
     "output_type": "execute_result"
    }
   ],
   "source": [
    "a_4 = a_soln(4)\n",
    "\n",
    "a_4\n"
   ]
  },
  {
   "cell_type": "code",
   "execution_count": 16,
   "id": "cell18",
   "metadata": {},
   "outputs": [
    {
     "data": {
      "image/png": "[encoded data removed]",
      "text/latex": [
       "$\\displaystyle 1.69765272631355$"
      ],
      "text/plain": [
       "1.6976527263135504"
      ]
     },
     "execution_count": 16,
     "metadata": {},
     "output_type": "execute_result"
    }
   ],
   "source": [
    "float(a_4)\n"
   ]
  },
  {
   "cell_type": "code",
   "execution_count": 17,
   "id": "cell19",
   "metadata": {},
   "outputs": [
    {
     "data": {
      "image/png": "[encoded data removed]",
      "text/latex": [
       "$\\displaystyle 1.69792874663018$"
      ],
      "text/plain": [
       "1.6979287466301796"
      ]
     },
     "execution_count": 17,
     "metadata": {},
     "output_type": "execute_result"
    }
   ],
   "source": [
    "# get average l1 metric of many unit l2-examples in dimension 4\n",
    "a_4_empirical = np.mean([l1_example(4) for r in range(100000)])\n",
    "\n",
    "a_4_empirical"
   ]
  },
  {
   "cell_type": "code",
   "execution_count": 18,
   "id": "49d1042e",
   "metadata": {},
   "outputs": [],
   "source": [
    "assert np.abs(a_4 - a_4_empirical) < 1e-3"
   ]
  },
  {
   "attachments": {},
   "cell_type": "markdown",
   "id": "cell20",
   "metadata": {},
   "source": [
    "Let's try a couple larger $n$.\n"
   ]
  },
  {
   "cell_type": "code",
   "execution_count": 19,
   "id": "cell22",
   "metadata": {},
   "outputs": [
    {
     "data": {
      "image/png": "[encoded data removed]",
      "text/latex": [
       "$\\displaystyle \\frac{512}{63 \\pi}$"
      ],
      "text/plain": [
       " 512 \n",
       "-----\n",
       "63*pi"
      ]
     },
     "execution_count": 19,
     "metadata": {},
     "output_type": "execute_result"
    }
   ],
   "source": [
    "a_10 = a_soln(10)\n",
    "\n",
    "a_10\n"
   ]
  },
  {
   "cell_type": "code",
   "execution_count": 20,
   "id": "cell23",
   "metadata": {},
   "outputs": [
    {
     "data": {
      "image/png": "[encoded data removed]",
      "text/latex": [
       "$\\displaystyle 2.58689939247779$"
      ],
      "text/plain": [
       "2.586899392477791"
      ]
     },
     "execution_count": 20,
     "metadata": {},
     "output_type": "execute_result"
    }
   ],
   "source": [
    "float(a_10)\n"
   ]
  },
  {
   "cell_type": "code",
   "execution_count": 21,
   "id": "cell24",
   "metadata": {},
   "outputs": [
    {
     "data": {
      "image/png": "[encoded data removed]",
      "text/latex": [
       "$\\displaystyle 2.58650777826086$"
      ],
      "text/plain": [
       "2.5865077782608616"
      ]
     },
     "execution_count": 21,
     "metadata": {},
     "output_type": "execute_result"
    }
   ],
   "source": [
    "# get average l1 metric of many unit l2-examples in dimension 10\n",
    "a_10_empirical = np.mean([l1_example(10) for r in range(100000)])\n",
    "\n",
    "a_10_empirical"
   ]
  },
  {
   "cell_type": "code",
   "execution_count": 22,
   "id": "fb443442",
   "metadata": {},
   "outputs": [],
   "source": [
    "assert np.abs(a_10 - a_10_empirical) < 1e-2"
   ]
  },
  {
   "cell_type": "code",
   "execution_count": 23,
   "id": "d15d33ed",
   "metadata": {},
   "outputs": [
    {
     "data": {
      "image/png": "[encoded data removed]",
      "text/latex": [
       "$\\displaystyle \\frac{693}{256}$"
      ],
      "text/plain": [
       "693\n",
       "---\n",
       "256"
      ]
     },
     "execution_count": 23,
     "metadata": {},
     "output_type": "execute_result"
    }
   ],
   "source": [
    "a_11 = a_soln(11)\n",
    "\n",
    "a_11"
   ]
  },
  {
   "cell_type": "code",
   "execution_count": 24,
   "id": "c77db9f2",
   "metadata": {},
   "outputs": [
    {
     "data": {
      "image/png": "[encoded data removed]",
      "text/latex": [
       "$\\displaystyle 2.70703125$"
      ],
      "text/plain": [
       "2.70703125"
      ]
     },
     "execution_count": 24,
     "metadata": {},
     "output_type": "execute_result"
    }
   ],
   "source": [
    "float(a_11)"
   ]
  },
  {
   "cell_type": "code",
   "execution_count": 25,
   "id": "d93977c6",
   "metadata": {},
   "outputs": [
    {
     "data": {
      "image/png": "[encoded data removed]",
      "text/latex": [
       "$\\displaystyle 2.7081207383724$"
      ],
      "text/plain": [
       "2.708120738372404"
      ]
     },
     "execution_count": 25,
     "metadata": {},
     "output_type": "execute_result"
    }
   ],
   "source": [
    "# get average l1 metric of many unit l2-examples in dimension 11\n",
    "a_11_empirical = np.mean([l1_example(11) for r in range(100000)])\n",
    "\n",
    "a_11_empirical"
   ]
  },
  {
   "cell_type": "code",
   "execution_count": 26,
   "id": "baede6b8",
   "metadata": {},
   "outputs": [],
   "source": [
    "assert np.abs(a_11 - a_11_empirical) < 1e-2"
   ]
  },
  {
   "attachments": {},
   "cell_type": "markdown",
   "id": "4669949a",
   "metadata": {},
   "source": [
    "## The Limiting $a_{n}$\n",
    "\n"
   ]
  },
  {
   "attachments": {},
   "cell_type": "markdown",
   "id": "5c7e44df",
   "metadata": {},
   "source": [
    "For non-negative $k$ define:\n",
    "\n",
    "$$\n",
    "z(k) = \\frac{\\Gamma(k/2 + 1/2)}{\\Gamma(k/2 + 1)}\n",
    "$$.\n",
    "\n",
    "First $z(k)$ is decreasing, as using $x \\Gamma(x) = \\Gamma(x+1)$ we can show that $z(k) / z(k+1) = (k/2 + 1)/(k/2 + 1/2) \\gt 1$.\n",
    "\n",
    "\n",
    "Now consider:\n",
    "\n",
    "$$\n",
    "\\begin{align*} \n",
    "\\sqrt{z(k-1) z(k)}\n",
    " &= \\sqrt{\\frac{\\Gamma(k/2)}{\\Gamma(k/2 + 1/2)} \\frac{\\Gamma(k/2 + 1/2)}{\\Gamma(k/2 + 1)}} \\\\\n",
    " &= \\sqrt{\\frac{\\Gamma(k/2)}{\\Gamma(k/2 + 1)}} \\\\\n",
    " &= \\sqrt{2/k}\n",
    "\\end{align*} \n",
    "$$\n",
    "\n",
    "As $z(k)$ is decreasing we have: $z(k-1) > \\sqrt{2/k} > z(k)$. Which, by the generalality of $k$, implies $\\sqrt{2/k} > z(k) > \\sqrt{2/(k+1)}$.\n",
    "\n",
    "Let's reconfirm this numerically."
   ]
  },
  {
   "cell_type": "code",
   "execution_count": 27,
   "id": "4beacf4a",
   "metadata": {},
   "outputs": [],
   "source": [
    "def z(n: int):\n",
    "    \"\"\"Simpler fn to stand in for s()\"\"\"\n",
    "    n = int(n)\n",
    "    assert n > 0\n",
    "    return exp(loggamma(n/2 + 1/2) - loggamma(n/2 + 1))"
   ]
  },
  {
   "cell_type": "code",
   "execution_count": 28,
   "id": "6cc1522b",
   "metadata": {},
   "outputs": [
    {
     "data": {
      "image/png": "[encoded data removed]",
      "text/latex": [
       "$\\displaystyle 0.0141417820746962$"
      ],
      "text/plain": [
       "0.0141417820746962"
      ]
     },
     "execution_count": 28,
     "metadata": {},
     "output_type": "execute_result"
    }
   ],
   "source": [
    "z_10000 = z(10000)\n",
    "\n",
    "z_10000"
   ]
  },
  {
   "cell_type": "code",
   "execution_count": 29,
   "id": "5d19f6fe",
   "metadata": {},
   "outputs": [],
   "source": [
    "assert float(sqrt(2 / 10000)) > z_10000\n",
    "assert z_10000 > float(sqrt(2 / (10000 + 1)))"
   ]
  },
  {
   "attachments": {},
   "cell_type": "markdown",
   "id": "02c00960",
   "metadata": {},
   "source": [
    "When $n > 2$ we have:\n",
    "\n",
    "$$ \n",
    "\\sqrt{\\frac{2}{(n + 1) \\pi}} < s(n) < \\sqrt{\\frac{2}{n \\pi}}\n",
    "$$\n",
    "\n",
    "$$\n",
    "\\begin{align*} \n",
    "c(n) &= \\frac{2}{(n+1) \\pi} \\\\\n",
    "a_{n} &= n c(n-2) / s(n-2) \n",
    "\\end{align*}\n",
    "$$\n",
    "\n",
    "So:\n",
    "\n",
    "$$\n",
    "n \\frac{2}{(n-1) \\pi} \\sqrt{\\frac{(n-2) \\pi}{2}} < a_{n} < n\\frac{2}{(n-1) \\pi} \\sqrt{\\frac{(n-1) \\pi}{2}} \\\\\n",
    "\\frac{n}{n-1} \\sqrt{\\frac{2 (n-2)}{\\pi}} < a_{n} < \\frac{n}{n-1} \\sqrt{\\frac{2 (n-1)}{\\pi}} \n",
    "$$\n",
    "\n",
    "\n",
    "Which is enough to establish the original claim $a_{n} \\approx \\sqrt{\\frac{2 n}{\\pi}}$ for large $n$.\n"
   ]
  },
  {
   "attachments": {},
   "cell_type": "markdown",
   "id": "cell38",
   "metadata": {},
   "source": [
    "\n",
    "We can recheck that a large that $a_{n} / \\sqrt{n}$ is near $\\sqrt{2 / \\pi}$ for large $n$.\n"
   ]
  },
  {
   "cell_type": "code",
   "execution_count": 30,
   "id": "cell39",
   "metadata": {},
   "outputs": [
    {
     "data": {
      "image/png": "[encoded data removed]",
      "text/latex": [
       "$\\displaystyle 0.797884560802865$"
      ],
      "text/plain": [
       "0.7978845608028654"
      ]
     },
     "execution_count": 30,
     "metadata": {},
     "output_type": "execute_result"
    }
   ],
   "source": [
    "# theoretical a_n / sqrt(n) limit\n",
    "float(sqrt(2 / pi))\n"
   ]
  },
  {
   "cell_type": "code",
   "execution_count": 31,
   "id": "cell40",
   "metadata": {},
   "outputs": [
    {
     "data": {
      "image/png": "[encoded data removed]",
      "text/latex": [
       "$\\displaystyle 0.798084056845783$"
      ],
      "text/plain": [
       "0.7980840568457832"
      ]
     },
     "execution_count": 31,
     "metadata": {},
     "output_type": "execute_result"
    }
   ],
   "source": [
    "# a_1000 check\n",
    "a_1000 = float(a_soln(1000))\n",
    "\n",
    "a_1000 / 1000**(1/2)"
   ]
  },
  {
   "cell_type": "code",
   "execution_count": 32,
   "id": "5c11684d",
   "metadata": {},
   "outputs": [],
   "source": [
    "assert float((1000 / (1000 - 1)) * sqrt(2 * (1000 - 2) / pi)) < a_1000\n",
    "assert a_1000 < float((1000 / (1000 - 1)) * sqrt(2 * (1000 - 1) / pi))"
   ]
  },
  {
   "cell_type": "code",
   "execution_count": 33,
   "id": "cell41",
   "metadata": {},
   "outputs": [
    {
     "data": {
      "image/png": "[encoded data removed]",
      "text/latex": [
       "$\\displaystyle 0.797984302602542$"
      ],
      "text/plain": [
       "0.7979843026025424"
      ]
     },
     "execution_count": 33,
     "metadata": {},
     "output_type": "execute_result"
    }
   ],
   "source": [
    "# a_2000 check\n",
    "a_2000 = float(a_soln(2000))\n",
    "\n",
    "a_2000 / 2000**(1/2)"
   ]
  },
  {
   "cell_type": "code",
   "execution_count": 34,
   "id": "b8df7a33",
   "metadata": {},
   "outputs": [],
   "source": [
    "assert float((2000 / (2000 - 1)) * sqrt(2 * (2000 - 2) / pi)) < a_2000\n",
    "assert a_2000 < float((2000 / (2000 - 1)) * sqrt(2 * (2000 - 1) / pi))"
   ]
  },
  {
   "attachments": {},
   "cell_type": "markdown",
   "id": "b68984b8",
   "metadata": {},
   "source": [
    "## The local behavior of $a_{n} / \\sqrt{n}$\n",
    "\n",
    "$s(n-2) / s(n)$ has a fairly simple form: $n/(n-1)$.\n"
   ]
  },
  {
   "cell_type": "code",
   "execution_count": 35,
   "id": "d3bf98f4",
   "metadata": {},
   "outputs": [
    {
     "data": {
      "image/png": "[encoded data removed]",
      "text/latex": [
       "$\\displaystyle \\frac{40}{39}$"
      ],
      "text/plain": [
       "40\n",
       "--\n",
       "39"
      ]
     },
     "execution_count": 35,
     "metadata": {},
     "output_type": "execute_result"
    }
   ],
   "source": [
    "# s(n-2)/s(n) example\n",
    "sn2n1_ratio = s(38) / s(40)\n",
    "\n",
    "sn2n1_ratio"
   ]
  },
  {
   "cell_type": "code",
   "execution_count": 36,
   "id": "aa968bbf",
   "metadata": {},
   "outputs": [],
   "source": [
    "assert sn2n1_ratio == sympy.Rational(40, 39)"
   ]
  },
  {
   "attachments": {},
   "cell_type": "markdown",
   "id": "754d0674",
   "metadata": {},
   "source": [
    "This means $(a_{n+2} / \\sqrt{n+2}) / (a_{n} / \\sqrt{n})$ should be manageable.\n",
    "\n",
    "$$\n",
    "(a_{n+2} / \\sqrt{n+2}) / (a_{n} / \\sqrt{n}) = \\frac{\\sqrt{n}}{\\sqrt{n+2}} \\frac{(n+2) c(n)}{n c(n-2)} \\frac{s(n-2)}{s(n)}\n",
    "$$"
   ]
  },
  {
   "cell_type": "code",
   "execution_count": 37,
   "id": "507b9310",
   "metadata": {},
   "outputs": [
    {
     "data": {
      "image/png": "[encoded data removed]",
      "text/latex": [
       "$\\displaystyle \\frac{\\sqrt{n} \\sqrt{n + 2}}{n + 1}$"
      ],
      "text/plain": [
       "  ___   _______\n",
       "\\/ n *\\/ n + 2 \n",
       "---------------\n",
       "     n + 1     "
      ]
     },
     "execution_count": 37,
     "metadata": {},
     "output_type": "execute_result"
    }
   ],
   "source": [
    "n = sympy.Symbol('n')\n",
    "\n",
    "ratio = (sqrt(n) / sqrt(n+2)) * ( ((n+2)*c(n)) / (n*c(n-2)) ) * n/(n-1)\n",
    "ratio\n"
   ]
  },
  {
   "cell_type": "code",
   "execution_count": 38,
   "id": "2c9b4605",
   "metadata": {},
   "outputs": [
    {
     "data": {
      "image/png": "[encoded data removed]",
      "text/latex": [
       "$\\displaystyle 1$"
      ],
      "text/plain": [
       "1"
      ]
     },
     "execution_count": 38,
     "metadata": {},
     "output_type": "execute_result"
    }
   ],
   "source": [
    "num, den = sympy.fraction(ratio**2)\n",
    "\n",
    "den_num_diff = (den - num).expand()\n",
    "\n",
    "den_num_diff"
   ]
  },
  {
   "cell_type": "code",
   "execution_count": 39,
   "id": "27ec211f",
   "metadata": {},
   "outputs": [],
   "source": [
    "assert den_num_diff > 0"
   ]
  },
  {
   "attachments": {},
   "cell_type": "markdown",
   "id": "13bb063a",
   "metadata": {},
   "source": [
    "The denominator is larger than the numerator in our ratio squared. This means the sequence $a_{i + 2*j}$ is strictly decreasing as a sequence in $j$ ($i \\in {0, 1}$, $j$ non-negative integer)."
   ]
  },
  {
   "cell_type": "code",
   "execution_count": 40,
   "id": "4c1d7be6",
   "metadata": {},
   "outputs": [],
   "source": [
    "# check sequence decreasing when we jump by 2\n",
    "assert float(a_4 / sqrt(4)) < float(a_2 / sqrt(2))\n",
    "assert float(a_3 / sqrt(3)) < float(a_1 / sqrt(1))\n",
    "# other non-step 2 checks\n",
    "assert float(a_4 / sqrt(4)) < float(a_3 / sqrt(3))\n",
    "assert float(a_3 / sqrt(3)) < float(a_2 / sqrt(2))\n",
    "assert float(a_2 / sqrt(2)) < float(a_1 / sqrt(1))"
   ]
  },
  {
   "attachments": {},
   "cell_type": "markdown",
   "id": "16ac00a6",
   "metadata": {},
   "source": [
    "$a_{n} / \\sqrt{n}$ is likely a decreasing sequence overall. However our earlier bound isn't tight enough to easily demonstrate this."
   ]
  },
  {
   "attachments": {},
   "cell_type": "markdown",
   "id": "cedb4726",
   "metadata": {},
   "source": [
    "## Towards Estimating the Variance\n",
    "\n",
    "Once we have an estimate for the expected value $a_{n}$ we can in fact get a pretty good estimate of the variance.\n",
    "\n",
    "Define $v_{n}$ as the variance of $\\sum_{i=1}^{n} |x_i|$, where $x_i$ are picked uniformly such that $\\sum_{i=1}^{n} x_i^2 = 1$.\n",
    "\n",
    "By our above arguments and the linearity of expectation, $\\text{E}[|x_{i}|]$ is $a_{n}/n = c(n-2)/s(n-2)$. So we have:\n",
    "\n",
    "$$\n",
    "\\begin{align*}\n",
    "\\text{var}(|x_{i}|) &= \\text{E}[(|x_{i}| - \\text{E}[|x_{i}|])^2] \\\\\n",
    " &= \\text{E}[(|x_{i}| - c(n-2)/s(n-2))^2] \\\\\n",
    " &= \\text{E}[|x_{i}|^2] - 2 (c(n-2)/s(n-2)) \\text{E}[|x_{i}|] + (c(n-2)/s(n-2))^2] \\\\\n",
    " &= \\text{E}[|x_{i}|^2] - (c(n-2)/s(n-2))^2 \\\\\n",
    " &= \\text{E}[x_{i}^2] - (c(n-2)/s(n-2))^2 \\\\\n",
    " &= 1/n - (c(n-2)/s(n-2))^2 \n",
    "\\end{align*}\n",
    "$$\n",
    "\n",
    "From earlier we know $(c(n-2)/s(n-2))^2 \\approx 2 / (n \\pi)$. So $\\text{var}(|x_{i}|) \\approx (1 - 2/\\pi) / n$.\n",
    "\n",
    "Let's check if our single coordinate estimates were correct."
   ]
  },
  {
   "cell_type": "code",
   "execution_count": 41,
   "id": "7e991e49",
   "metadata": {},
   "outputs": [],
   "source": [
    "def mean_and_var(x):\n",
    "    \"\"\"return mean and variance of vector entries\"\"\"\n",
    "    return (np.mean(x), np.var(x))"
   ]
  },
  {
   "cell_type": "code",
   "execution_count": 42,
   "id": "348f2d5b",
   "metadata": {},
   "outputs": [],
   "source": [
    "def l1_example_first_coord(dim: int):\n",
    "    \"\"\"Compute l1-norm of a uniformly selected unit l2-vector\"\"\"\n",
    "    dim = int(dim)\n",
    "    assert dim >= 1\n",
    "    # generate a uniform L2-norm 1 vector\n",
    "    v = None\n",
    "    v_norm_sq = 0\n",
    "    while v_norm_sq <= 0:\n",
    "        v = rng.normal(size=dim)\n",
    "        v_norm_sq = np.dot(v, v)\n",
    "    v = v / np.sqrt(v_norm_sq)\n",
    "    # return absolute value of the first coordinate\n",
    "    return np.abs(v[0])"
   ]
  },
  {
   "cell_type": "code",
   "execution_count": 43,
   "id": "c9add83f",
   "metadata": {},
   "outputs": [
    {
     "data": {
      "image/png": "[encoded data removed]",
      "text/latex": [
       "$\\displaystyle \\left( 0.0252313252202016, \\  0.000363380227632419\\right)$"
      ],
      "text/plain": [
       "(0.0252313252202016, 0.00036338022763241867)"
      ]
     },
     "execution_count": 43,
     "metadata": {},
     "output_type": "execute_result"
    }
   ],
   "source": [
    "# theoretical mean abs first coord and var abs first coord for dimension 1000\n",
    "theoretical_mean_var_2 = (float(sqrt(2 / (1000 * pi))), float((1 - 2/pi) / 1000))\n",
    "\n",
    "theoretical_mean_var_2"
   ]
  },
  {
   "cell_type": "code",
   "execution_count": 44,
   "id": "1a77ee5b",
   "metadata": {},
   "outputs": [
    {
     "data": {
      "image/png": "[encoded data removed]",
      "text/latex": [
       "$\\displaystyle \\left( 0.0251795820680952, \\  0.000360904290325986\\right)$"
      ],
      "text/plain": [
       "(0.025179582068095233, 0.0003609042903259857)"
      ]
     },
     "execution_count": 44,
     "metadata": {},
     "output_type": "execute_result"
    }
   ],
   "source": [
    "# empirical mean and var of absolute value of first coordinate for dimension 1000\n",
    "empirical_mean_var_2 = mean_and_var([l1_example_first_coord(1000) for r in range(100000)])\n",
    "\n",
    "empirical_mean_var_2"
   ]
  },
  {
   "cell_type": "code",
   "execution_count": 45,
   "id": "fc155638",
   "metadata": {},
   "outputs": [],
   "source": [
    "assert np.abs(theoretical_mean_var_2[0] - empirical_mean_var_2[0]) < 1e-3\n",
    "assert np.abs(theoretical_mean_var_2[1] - empirical_mean_var_2[1]) < 1e-5"
   ]
  },
  {
   "attachments": {},
   "cell_type": "markdown",
   "id": "fe20c413",
   "metadata": {},
   "source": [
    "*If* the coordinates and variances were independent we would expect variance to then be additive and have $v_{n} = n \\text{var}(|x_{i}|) \\approx n (1 - 2/\\pi) / n = 1 - 2/\\pi$. This isn't they case. The general form for adding variances is: $\\text{var}(\\sum_i z_i) = \\sum_i \\text{var}(z_i) + 2 \\sum_{i < j} \\text{cov}(z_i, z_j)$. Now we expect, but have not checked or established that, these covariances to be negative making our naive heuristic estimate an approximate upper bound.\n",
    "\n",
    "Under this regime we would expect $\\sqrt{v_{n}} \\le \\sqrt{1 - 2/\\pi}$ *independent of the dimension*, and quite small compared to $a_{n} \\approx \\sqrt{2 n / \\pi}$. So we expect that samples drawn are concentrated near our estimate of the mean. However, this naive estimate appears to be too large.\n",
    "\n",
    "Let's see if this naive estimate stands up."
   ]
  },
  {
   "cell_type": "code",
   "execution_count": 46,
   "id": "35c094a5",
   "metadata": {},
   "outputs": [
    {
     "data": {
      "image/png": "[encoded data removed]",
      "text/latex": [
       "$\\displaystyle \\left( 25.2313252202016, \\  0.363380227632419\\right)$"
      ],
      "text/plain": [
       "(25.2313252202016, 0.3633802276324187)"
      ]
     },
     "execution_count": 46,
     "metadata": {},
     "output_type": "execute_result"
    }
   ],
   "source": [
    "# theoretical mean and var bound for dimension 1000\n",
    "mean_var_bound_theory_1000 = (float(sqrt(2 * 1000 / pi)), float(1 - 2 / pi))\n",
    "\n",
    "mean_var_bound_theory_1000"
   ]
  },
  {
   "cell_type": "code",
   "execution_count": 47,
   "id": "906de836",
   "metadata": {},
   "outputs": [
    {
     "data": {
      "image/png": "[encoded data removed]",
      "text/latex": [
       "$\\displaystyle \\left( 25.2373015568878, \\  0.0449770674009768\\right)$"
      ],
      "text/plain": [
       "(25.237301556887815, 0.0449770674009768)"
      ]
     },
     "execution_count": 47,
     "metadata": {},
     "output_type": "execute_result"
    }
   ],
   "source": [
    "# get mean and variance of l1 metric of many unit l2-examples in dimension 1000\n",
    "mean_var_empirical_1000 = mean_and_var([l1_example(1000) for r in range(100000)])\n",
    "\n",
    "mean_var_empirical_1000"
   ]
  },
  {
   "cell_type": "code",
   "execution_count": 48,
   "id": "95b274cb",
   "metadata": {},
   "outputs": [],
   "source": [
    "assert np.abs(mean_var_bound_theory_1000[0] - mean_var_empirical_1000[0]) < 1e-2\n",
    "assert mean_var_bound_theory_1000[1] >= mean_var_empirical_1000[1]"
   ]
  },
  {
   "cell_type": "code",
   "execution_count": 49,
   "id": "a0b66c4a",
   "metadata": {},
   "outputs": [
    {
     "data": {
      "image/png": "[encoded data removed]",
      "text/latex": [
       "$\\displaystyle \\left( 79.7884560802865, \\  0.363380227632419\\right)$"
      ],
      "text/plain": [
       "(79.78845608028654, 0.3633802276324187)"
      ]
     },
     "execution_count": 49,
     "metadata": {},
     "output_type": "execute_result"
    }
   ],
   "source": [
    "# theoretical mean and var bound for dimension 10000\n",
    "mean_var_bound_theory_10000 = (float(sqrt(2 * 10000 / pi)), float(1 - 2 / pi))\n",
    "\n",
    "mean_var_bound_theory_10000"
   ]
  },
  {
   "cell_type": "code",
   "execution_count": 50,
   "id": "f1d8b162",
   "metadata": {},
   "outputs": [
    {
     "data": {
      "image/png": "[encoded data removed]",
      "text/latex": [
       "$\\displaystyle \\left( 79.7899268534151, \\  0.0448062475070072\\right)$"
      ],
      "text/plain": [
       "(79.78992685341507, 0.04480624750700719)"
      ]
     },
     "execution_count": 50,
     "metadata": {},
     "output_type": "execute_result"
    }
   ],
   "source": [
    "# get mean and variance of l1 metric of many unit l2-examples in dimension 10000\n",
    "mean_var_empirical_10000 = mean_and_var([l1_example(10000) for r in range(100000)])\n",
    "\n",
    "mean_var_empirical_10000"
   ]
  },
  {
   "cell_type": "code",
   "execution_count": 51,
   "id": "fad0ea38",
   "metadata": {},
   "outputs": [],
   "source": [
    "assert np.abs(mean_var_bound_theory_10000[0] - mean_var_empirical_10000[0]) < 1e-2\n",
    "assert mean_var_bound_theory_10000[1] >= mean_var_empirical_10000[1]"
   ]
  },
  {
   "attachments": {},
   "cell_type": "markdown",
   "id": "09b24b9e",
   "metadata": {},
   "source": [
    "It appears we have good estimates of the coordinate estimates. It just they are dependent and sub-additive.\n",
    "\n",
    "Let's try and take a look at the general covariance term (by symmetry they all have the same expectations)."
   ]
  },
  {
   "cell_type": "code",
   "execution_count": 52,
   "id": "5365f1c5",
   "metadata": {},
   "outputs": [],
   "source": [
    "def l1_example_first_2_coord_cov(*, dim: int, reps: int = 100000):\n",
    "    \"\"\"Compute covariance of absolute values of first two coordinates\"\"\"\n",
    "    dim = int(dim)\n",
    "    reps = int(reps)\n",
    "    assert dim >= 2\n",
    "    assert reps > 0\n",
    "    frames = []\n",
    "    for rep in range(reps):\n",
    "        # generate a uniform L2-norm 1 vector\n",
    "        v = None\n",
    "        v_norm_sq = 0\n",
    "        while v_norm_sq <= 0:\n",
    "            v = rng.normal(size=dim)\n",
    "            v_norm_sq = np.dot(v, v)\n",
    "        v = v / np.sqrt(v_norm_sq)\n",
    "        # collect absolute value of the first two coordinates\n",
    "        frames.append(pd.DataFrame({'x0': [np.abs(v[0])], 'x1': [np.abs(v[1])]}))\n",
    "    d = pd.concat(frames, ignore_index=True)\n",
    "    a = np.mean(d[\"x0\"] * d[\"x1\"])\n",
    "    b = np.mean(d[\"x0\"]) * np.mean(d[\"x1\"])\n",
    "    return  (a, b, a-b) "
   ]
  },
  {
   "attachments": {},
   "cell_type": "markdown",
   "id": "5e78c4d2",
   "metadata": {},
   "source": [
    "The theoretic covariance is $\\text{E}[|x| |y|] - \\text{E}[|x|] \\text{E}[|y|]$.\n",
    "In $2 d$ the expected L1 norm is $4 / \\pi$, so each coordinate has\n",
    "expectation $2 / \\pi$. $\\text{E}[|x|] \\text{E}[|y|]$ is exactly the integral $c(1) = 1/\\pi$. This gives us the covariance in $2 d$ is $1 / \\pi - ( 2 / \\pi )^2$."
   ]
  },
  {
   "cell_type": "code",
   "execution_count": 53,
   "id": "2e03c95f",
   "metadata": {},
   "outputs": [
    {
     "data": {
      "image/png": "[encoded data removed]",
      "text/latex": [
       "$\\displaystyle \\left( 0.318309886183791, \\  0.405284734569351, \\  -0.0869748483855604\\right)$"
      ],
      "text/plain": [
       "(0.3183098861837907, 0.4052847345693511, -0.08697484838556041)"
      ]
     },
     "execution_count": 53,
     "metadata": {},
     "output_type": "execute_result"
    }
   ],
   "source": [
    "# The 2-d covariance is:\n",
    "cov_2d_theory = (float(1/pi), float((2/pi)**2), float(1/pi - (2/pi)**2))\n",
    "\n",
    "cov_2d_theory"
   ]
  },
  {
   "cell_type": "code",
   "execution_count": 54,
   "id": "8d528fd9",
   "metadata": {},
   "outputs": [
    {
     "data": {
      "image/png": "[encoded data removed]",
      "text/latex": [
       "$\\displaystyle \\left( 0.318583262819497, \\  0.405429109208947, \\  -0.0868458463894506\\right)$"
      ],
      "text/plain": [
       "(0.3185832628194968, 0.40542910920894737, -0.08684584638945059)"
      ]
     },
     "execution_count": 54,
     "metadata": {},
     "output_type": "execute_result"
    }
   ],
   "source": [
    "# empirically estimate covariance for dimension 2\n",
    "cov_2d_empirical = l1_example_first_2_coord_cov(dim=2)\n",
    "\n",
    "cov_2d_empirical"
   ]
  },
  {
   "cell_type": "code",
   "execution_count": 55,
   "id": "564e9fc7",
   "metadata": {},
   "outputs": [],
   "source": [
    "for i in range(3):\n",
    "    assert np.abs(cov_2d_theory[i] - cov_2d_empirical[i]) < 1e-3"
   ]
  },
  {
   "cell_type": "code",
   "execution_count": null,
   "id": "e948561e",
   "metadata": {},
   "outputs": [],
   "source": []
  },
  {
   "cell_type": "code",
   "execution_count": null,
   "id": "ac6fcf5e",
   "metadata": {},
   "outputs": [],
   "source": []
  },
  {
   "attachments": {},
   "cell_type": "markdown",
   "id": "87433f17",
   "metadata": {},
   "source": [
    "For larger $n$ we expect the covariance to be $c(n - 2) * s(n - 2) / s(n - 3) - (c(n - 2) / s(n - 2))^2$ by an double integral with $x_{1} = \\cos(\\lambda_1 \\pi / 2)$ and $x_{2} = \\sin(\\lambda_1 \\pi / 2) \\cos(\\lambda_2 \\pi / 2)$ for $x$ from $0$ to $1$.\n",
    "\n",
    "The difference typically has \"catastrophic cancellation\", so to empirically check we need to look at the two terms in the difference."
   ]
  },
  {
   "cell_type": "code",
   "execution_count": 56,
   "id": "ec37c477",
   "metadata": {},
   "outputs": [
    {
     "data": {
      "image/png": "[encoded data removed]",
      "text/latex": [
       "$\\displaystyle \\left( 0.202642367284676, \\  0.25, \\  -0.0473576327153245\\right)$"
      ],
      "text/plain": [
       "(0.20264236728467555, 0.25, -0.047357632715324456)"
      ]
     },
     "execution_count": 56,
     "metadata": {},
     "output_type": "execute_result"
    }
   ],
   "source": [
    "# theoretically estimate coordinate covariance for dimension 3\n",
    "n = 3\n",
    "\n",
    "cov_3d_theory = (float(c(n - 2) * s(n - 2) / s(n - 3)), float((c(n - 2) / s(n-2))**2), float(c(n - 2) * s(n - 2)/ s(n - 3) - (c(n - 2) / s(n-2))**2))\n",
    "\n",
    "cov_3d_theory"
   ]
  },
  {
   "cell_type": "code",
   "execution_count": 57,
   "id": "a82e5107",
   "metadata": {},
   "outputs": [
    {
     "data": {
      "image/png": "[encoded data removed]",
      "text/latex": [
       "$\\displaystyle \\left( 0.212063213466896, \\  0.249811344900752, \\  -0.0377481314338552\\right)$"
      ],
      "text/plain": [
       "(0.21206321346689633, 0.24981134490075155, -0.03774813143385522)"
      ]
     },
     "execution_count": 57,
     "metadata": {},
     "output_type": "execute_result"
    }
   ],
   "source": [
    "# empirically estimate coordinate covariance for dimension 3\n",
    "cov_3d_empirical = l1_example_first_2_coord_cov(dim=3)\n",
    "\n",
    "cov_3d_empirical"
   ]
  },
  {
   "cell_type": "code",
   "execution_count": 58,
   "id": "f43827af",
   "metadata": {},
   "outputs": [],
   "source": [
    "for i in range(3):\n",
    "    assert np.abs(cov_3d_theory[i] - cov_3d_empirical[i]) < 1e-2"
   ]
  },
  {
   "cell_type": "code",
   "execution_count": 59,
   "id": "69f44ba6",
   "metadata": {},
   "outputs": [
    {
     "data": {
      "image/png": "[encoded data removed]",
      "text/latex": [
       "$\\displaystyle \\left( 0.0664605034722222, \\  0.0669204846680196, \\  -0.000459981195797412\\right)$"
      ],
      "text/plain": [
       "(0.06646050347222222, 0.06692048466801963, -0.00045998119579741185)"
      ]
     },
     "execution_count": 59,
     "metadata": {},
     "output_type": "execute_result"
    }
   ],
   "source": [
    "# theoretically estimate coordinate covariance for dimension 10\n",
    "n = 10\n",
    "\n",
    "cov_10d_theory = (float(c(n - 2) * s(n - 2) / s(n - 3)), float((c(n - 2) / s(n-2))**2), float(c(n - 2) * s(n - 2)/ s(n - 3) - (c(n - 2) / s(n-2))**2))\n",
    "\n",
    "cov_10d_theory"
   ]
  },
  {
   "cell_type": "code",
   "execution_count": 60,
   "id": "48e26eed",
   "metadata": {},
   "outputs": [
    {
     "data": {
      "image/png": "[encoded data removed]",
      "text/latex": [
       "$\\displaystyle \\left( 0.0639077871477189, \\  0.0672023408610707, \\  -0.00329455371335172\\right)$"
      ],
      "text/plain": [
       "(0.06390778714771894, 0.06720234086107066, -0.0032945537133517167)"
      ]
     },
     "execution_count": 60,
     "metadata": {},
     "output_type": "execute_result"
    }
   ],
   "source": [
    "# empirically estimate coordinate covariance for dimension 10\n",
    "cov_10d_empirical = l1_example_first_2_coord_cov(dim=10)\n",
    "\n",
    "cov_10d_empirical"
   ]
  },
  {
   "cell_type": "code",
   "execution_count": 61,
   "metadata": {},
   "outputs": [],
   "source": [
    "for i in range(3):\n",
    "    assert np.abs(cov_10d_theory[i] - cov_10d_empirical[i]) < 1e-2"
   ]
  },
  {
   "attachments": {},
   "cell_type": "markdown",
   "id": "a324ae3a",
   "metadata": {},
   "source": [
    "The above superficially look close, but I believe the first term is far enough off to be evidence it is wrong."
   ]
  },
  {
   "attachments": {},
   "cell_type": "markdown",
   "id": "a9a12fb9",
   "metadata": {},
   "source": [
    "If we had the covariance term, that would let us calculate the variance $v_{n} = 1 - n (c(n-2)/s(n-2))^2 + n (n-1) (c(n - 2) s(n - 2) / s(n - 3) - (c(n - 2) / s(n - 2))^2)$. However this quantity appears to be in error, as it does not match empirical simulation."
   ]
  },
  {
   "cell_type": "code",
   "execution_count": 62,
   "id": "be8e846f",
   "metadata": {},
   "outputs": [
    {
     "data": {
      "image/png": "[encoded data removed]",
      "text/latex": [
       "$\\displaystyle \\left( 2.58689939247779, \\  0.289396845698037\\right)$"
      ],
      "text/plain": [
       "(2.586899392477791, 0.2893968456980366)"
      ]
     },
     "execution_count": 62,
     "metadata": {},
     "output_type": "execute_result"
    }
   ],
   "source": [
    "# theoretical sum mean and variance (not known to be correct yet)\n",
    "n = 10\n",
    "\n",
    "(\n",
    "    float(n * c(n-2) / s(n-2) ),\n",
    "    float(1 - n * (c(n-2)/s(n-2))**2 + n * (n-1) * (c(n - 2) * s(n - 2) / s(n - 3) - (c(n - 2) / s(n - 2))**2))\n",
    ")"
   ]
  },
  {
   "cell_type": "code",
   "execution_count": 63,
   "id": "c098fddb",
   "metadata": {},
   "outputs": [
    {
     "data": {
      "image/png": "[encoded data removed]",
      "text/latex": [
       "$\\displaystyle \\left( 2.58623061774577, \\  0.037770447668689\\right)$"
      ],
      "text/plain": [
       "(2.586230617745767, 0.037770447668689006)"
      ]
     },
     "execution_count": 63,
     "metadata": {},
     "output_type": "execute_result"
    }
   ],
   "source": [
    "# get mean and variance of l1 metric of many unit l2-examples in dimension 10\n",
    "mean_var_empirical_10 = mean_and_var([l1_example(10) for r in range(100000)])\n",
    "\n",
    "mean_var_empirical_10"
   ]
  },
  {
   "attachments": {},
   "cell_type": "markdown",
   "id": "cef0f46e",
   "metadata": {},
   "source": [
    "The above variances still do not match."
   ]
  },
  {
   "attachments": {},
   "cell_type": "markdown",
   "id": "2b5e7a4b",
   "metadata": {},
   "source": [
    "## Application\n",
    "\n",
    "Barry Rowlingson and John Mount asked the following question ([ref](https://github.com/WinVector/Examples/blob/main/L1L2/exp_l2.md)).\n",
    "\n",
    "> For a positive integer $n$, take $v_1$, $v_2$ vectors in $\\mathbb{R}^n$ with each coordinate generated IID normal mean zero, standard deviation 1. Let $p_n$ denote the probability that $(||v_1||_1 \\ge ||v_2||_1) = (||v_1||_2 \\ge ||v_2||_2)$ $p_n$.  What is $\\lim_{n \\rightarrow \\infty} p_n$?\n",
    "\n",
    "Interestingly $p_n$, which is essentially the AUC of matching the L1 norm to the L2 norm, seems to converge to a constant strictly in the region $(1/2, 1)$.\n",
    "\n",
    "We could prove this with the following additional tools.\n",
    "\n",
    "From the Wikipedia [Chi-squared_distribution](https://en.wikipedia.org/wiki/Chi-squared_distribution) page:\n",
    "\n",
    "> If $X \\sim \\Chi(k)$ then $\\sqrt{2 X}$ is approximately normally distributed with mean $2k−1$ and unit variance (1922, by R. A. Fisher, see (18.23), p. 426 of Johnson).\n",
    "\n",
    "This means when we generate $v_1$ and $v_2$, we expect their 2-norm to within a constant of each other a constant fraction of the time (independent of dimension!). When two vectors $v_1$ and $v_2$ are close in radius, then the variance of L1 metric depending on orientation of each vector on their spherical shell gives the L1 metric a chance to reverse the L2 ordering.\n",
    "\n",
    "To complete the proof all we need is to show a constant bounds on $v_{n}$ (still working on these)."
   ]
  },
  {
   "attachments": {},
   "cell_type": "markdown",
   "id": "cell53",
   "metadata": {},
   "source": [
    "\n",
    "\n",
    "## Conclusion\n",
    "\n",
    "For $a_{n}$ the expected value of $\\sum_{i=1}^{n} |x_i|$ given $\\sum_{i=1}^{n} x_i^2 = 1$ where $x$ is uniformly distributed such, and $v_{n}$ as the variance of this same sum.\n",
    "\n",
    "We have shown for large $n$: $a_n \\approx \\sqrt{2 n/ \\pi}$. Or, in high dimensions the typical L2 norm-1 vector has an expected L1 norm of about $\\sqrt{2 n / \\pi}$. We suspect the variance $v_n < 1 - \\frac{2}{\\pi}$ (a constant independent of dimension!).\n",
    "\n",
    "I think it is pretty neat the large scale behavior is in fact simple.\n",
    "\n"
   ]
  }
 ],
 "metadata": {
  "kernelspec": {
   "display_name": "research_env",
   "language": "python",
   "name": "python3"
  },
  "language_info": {
   "codemirror_mode": {
    "name": "ipython",
    "version": 3
   },
   "file_extension": ".py",
   "mimetype": "text/x-python",
   "name": "python",
   "nbconvert_exporter": "python",
   "pygments_lexer": "ipython3",
   "version": "3.11.3"
  }
 },
 "nbformat": 4,
 "nbformat_minor": 5
}
