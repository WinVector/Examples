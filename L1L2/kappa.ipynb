{
 "cells": [
  {
   "attachments": {},
   "cell_type": "markdown",
   "metadata": {},
   "source": [
    "Define $\\kappa(\\sigma_1, \\sigma_2)$ as $\\text{P}[(X + Y \\ge 0) = (X \\ge 0)]$ where $X$ is normal mean $0$ variance $\\sigma_1^2$ and $Y$ is indpendent normal mean $0$ variance $\\sigma_2^2$. $\\kappa(,)$ is used in our note [here](https://github.com/WinVector/Examples/blob/main/L1L2/L1L2.ipynb)."
   ]
  },
  {
   "cell_type": "code",
   "execution_count": 1,
   "metadata": {},
   "outputs": [],
   "source": [
    "import numpy.random\n",
    "import numpy as np\n",
    "import pandas as pd\n",
    "import sympy\n",
    "from sympy import cos, exp, factorial, gamma, loggamma, pi, sin, sqrt"
   ]
  },
  {
   "cell_type": "code",
   "execution_count": 2,
   "metadata": {},
   "outputs": [],
   "source": [
    "rng = numpy.random.default_rng(seed=12345678903141592653589793)\n"
   ]
  },
  {
   "cell_type": "code",
   "execution_count": 3,
   "metadata": {},
   "outputs": [],
   "source": [
    "def l1l2auc_empirical_a(n: int, *, nreps :int = 10000000) -> float:\n",
    "    \"\"\"\n",
    "    Empirical estimate of L1L2 AUC.\n",
    "\n",
    "    :param n: dimension we are working in\n",
    "    :param nreps: number of repetitions to simulate, > 0\n",
    "    :return: empirical estimate of kappa(s1, s2)\n",
    "    \"\"\"\n",
    "    n = int(n)\n",
    "    assert n > 0\n",
    "    nreps = int(nreps)\n",
    "    assert nreps > 0\n",
    "    r_mean = float(sqrt(n - 1/2))\n",
    "    r_std = float(sqrt(1/2))\n",
    "    s_mean = float(sqrt(2 * n / pi))\n",
    "    s_std = float(sqrt(1 - 3 / pi))\n",
    "    r1 = rng.normal(size=nreps) * r_std + r_mean\n",
    "    r2 = rng.normal(size=nreps) * r_std + r_mean\n",
    "    s1 = rng.normal(size=nreps) * s_std + s_mean\n",
    "    s2 = rng.normal(size=nreps) * s_std + s_mean\n",
    "    return np.mean((r1 >= r2) == ((r1 * s1) >= (r2 * s2)))\n"
   ]
  },
  {
   "cell_type": "code",
   "execution_count": 4,
   "metadata": {},
   "outputs": [
    {
     "data": {
      "text/plain": [
       "0.8866973"
      ]
     },
     "execution_count": 4,
     "metadata": {},
     "output_type": "execute_result"
    }
   ],
   "source": [
    "l1l2auc_empirical_a(n=20)"
   ]
  },
  {
   "cell_type": "code",
   "execution_count": 5,
   "metadata": {},
   "outputs": [],
   "source": [
    "def l1l2auc_empirical_b(n: int, *, nreps :int = 10000000) -> float:\n",
    "    \"\"\"\n",
    "    Empirical estimate of L1L2 AUC.\n",
    "\n",
    "    :param n: dimension we are working in\n",
    "    :param nreps: number of repetitions to simulate, > 0\n",
    "    :return: empirical estimate of kappa(s1, s2)\n",
    "    \"\"\"\n",
    "    n = int(n)\n",
    "    assert n > 0\n",
    "    nreps = int(nreps)\n",
    "    assert nreps > 0\n",
    "    u_mean = 0\n",
    "    u_std = float(sqrt(1/(2*n)))\n",
    "    u_shift = float(sqrt(1 - 1/(2*n)))\n",
    "    v_mean = 0\n",
    "    v_std = float(sqrt((1 - 3 / pi)/n))\n",
    "    v_shift = float(sqrt(2 / pi))\n",
    "    u1 = rng.normal(size=nreps) * u_std + u_mean\n",
    "    u2 = rng.normal(size=nreps) * u_std + u_mean\n",
    "    v1 = rng.normal(size=nreps) * v_std + v_mean\n",
    "    v2 = rng.normal(size=nreps) * v_std + v_mean\n",
    "    return np.mean(\n",
    "        ((u1 + u_shift) >= (u2 + u_shift)) \n",
    "        == (((u1 + u_shift) * (v1 + v_shift)) >= ((u2 + u_shift) * (v2 + v_shift)))\n",
    "    )\n"
   ]
  },
  {
   "cell_type": "code",
   "execution_count": 6,
   "metadata": {},
   "outputs": [
    {
     "data": {
      "text/plain": [
       "0.8854421"
      ]
     },
     "execution_count": 6,
     "metadata": {},
     "output_type": "execute_result"
    }
   ],
   "source": [
    "l1l2auc_empirical_b(2000)"
   ]
  },
  {
   "cell_type": "code",
   "execution_count": 7,
   "metadata": {},
   "outputs": [],
   "source": [
    "def l1l2auc_empirical_c(n: int, *, nreps :int = 10000000) -> float:\n",
    "    \"\"\"\n",
    "    Empirical estimate of L1L2 AUC.\n",
    "\n",
    "    :param n: dimension we are working in\n",
    "    :param nreps: number of repetitions to simulate, > 0\n",
    "    :return: empirical estimate of kappa(s1, s2)\n",
    "    \"\"\"\n",
    "    n = int(n)\n",
    "    assert n > 0\n",
    "    nreps = int(nreps)\n",
    "    assert nreps > 0\n",
    "    u_mean = 0\n",
    "    u_std = float(sqrt(1/(2*n)))\n",
    "    u_shift = 1  # float(sqrt(1 - 1/(2*n)))\n",
    "    v_mean = 0\n",
    "    v_std = float(sqrt((1 - 3 / pi)/n))\n",
    "    v_shift = float(sqrt(2 / pi))\n",
    "    u1 = rng.normal(size=nreps) * u_std + u_mean\n",
    "    u2 = rng.normal(size=nreps) * u_std + u_mean\n",
    "    v1 = rng.normal(size=nreps) * v_std + v_mean\n",
    "    v2 = rng.normal(size=nreps) * v_std + v_mean\n",
    "    return np.mean(\n",
    "        (u1 * v_shift - u2 * v_shift >= 0)\n",
    "        == (u1 * v_shift - u2 * v_shift + v1 * u_shift - v2 * u_shift >= 0)\n",
    "     )\n"
   ]
  },
  {
   "cell_type": "code",
   "execution_count": 8,
   "metadata": {},
   "outputs": [
    {
     "data": {
      "text/plain": [
       "0.8854356"
      ]
     },
     "execution_count": 8,
     "metadata": {},
     "output_type": "execute_result"
    }
   ],
   "source": [
    "l1l2auc_empirical_c(2000)"
   ]
  },
  {
   "cell_type": "code",
   "execution_count": 9,
   "metadata": {},
   "outputs": [],
   "source": [
    "def kappa_empirical(s1: float, s2: float, *, nreps :int = 100000000) -> float:\n",
    "    \"\"\"\n",
    "    Empirical estimate of\n",
    "    $\\kappa(\\sigma_1, \\sigma_2)$ as $\\text{P}[X + Y \\ge 0 | X \\ge 0]$ \n",
    "    where $X$ is normal mean $0$ variance $\\sigma_1^2$ and $Y$ is \n",
    "    indpendent normal mean $0$ variance $\\sigma_2^2$.\n",
    "\n",
    "    :param s1: variance 1, > 0\n",
    "    :param s2: variance 2, > 0\n",
    "    :param nreps: number of repetitions to simulate, > 0\n",
    "    :return: empirical estimate of kappa(s1, s2)\n",
    "    \"\"\"\n",
    "    s1 = float(s1)\n",
    "    s2 = float(s2)\n",
    "    assert s1 > 0\n",
    "    assert s2 > 0\n",
    "    nreps = int(nreps)\n",
    "    assert nreps > 0\n",
    "    x = rng.normal(size=nreps) * s1\n",
    "    y = rng.normal(size=nreps) * s2\n",
    "    return np.mean((x + y >= 0) == (x >= 0))\n"
   ]
  },
  {
   "cell_type": "code",
   "execution_count": 10,
   "metadata": {},
   "outputs": [
    {
     "data": {
      "text/plain": [
       "0.88536252"
      ]
     },
     "execution_count": 10,
     "metadata": {},
     "output_type": "execute_result"
    }
   ],
   "source": [
    "kappa_empirical(\n",
    "    1,\n",
    "    sqrt(pi - 3)\n",
    ")"
   ]
  },
  {
   "cell_type": "code",
   "execution_count": 11,
   "metadata": {},
   "outputs": [
    {
     "data": {
      "text/plain": [
       "0.75004813"
      ]
     },
     "execution_count": 11,
     "metadata": {},
     "output_type": "execute_result"
    }
   ],
   "source": [
    "# kappa(1, 1) should limit out to 0.75\n",
    "k_1_1_est = kappa_empirical(1, 1)\n",
    "assert np.abs(k_1_1_est - 0.75) < 1e-3\n",
    "\n",
    "k_1_1_est"
   ]
  },
  {
   "cell_type": "code",
   "execution_count": 12,
   "metadata": {},
   "outputs": [
    {
     "data": {
      "text/plain": [
       "0.75003899"
      ]
     },
     "execution_count": 12,
     "metadata": {},
     "output_type": "execute_result"
    }
   ],
   "source": [
    "# kappa(a, b) should equal kappa(s a, s b) for s > 0\n",
    "k_10_10_est = kappa_empirical(10, 10)\n",
    "\n",
    "assert np.abs(k_10_10_est - 0.75) < 1e-3\n",
    "\n",
    "k_10_10_est"
   ]
  },
  {
   "cell_type": "code",
   "execution_count": 13,
   "metadata": {},
   "outputs": [
    {
     "data": {
      "text/plain": [
       "0.49998873"
      ]
     },
     "execution_count": 13,
     "metadata": {},
     "output_type": "execute_result"
    }
   ],
   "source": [
    "# kappa(1, b) should go to 1/2 as b gets large\n",
    "k_1_large_est = kappa_empirical(1, 1e+5)\n",
    "assert np.abs(k_1_large_est - 0.5) < 1e-3\n",
    "\n",
    "k_1_large_est"
   ]
  },
  {
   "cell_type": "code",
   "execution_count": 14,
   "metadata": {},
   "outputs": [
    {
     "data": {
      "text/plain": [
       "0.99999679"
      ]
     },
     "execution_count": 14,
     "metadata": {},
     "output_type": "execute_result"
    }
   ],
   "source": [
    "# kappa(1, 1/b) should go to 1 as 1/b gets large\n",
    "k_1_small_est = kappa_empirical(1, 1e-5)\n",
    "assert np.abs(k_1_small_est - 1) < 1e-3\n",
    "\n",
    "k_1_small_est"
   ]
  },
  {
   "cell_type": "code",
   "execution_count": 15,
   "metadata": {},
   "outputs": [],
   "source": [
    "def kappa_heuristic(s1, s2):\n",
    "    \"\"\"\n",
    "    Heuristic estimate of\n",
    "    $\\kappa(\\sigma_1, \\sigma_2)$ as $\\text{P}[Y \\ge -X | X \\ge 0]$ \n",
    "    where $X$ is normal mean $0$ variance $\\sigma_1^2$ and $Y$ is \n",
    "    indpendent normal mean $0$ variance $\\sigma_2^2$.\n",
    "\n",
    "    :param s1: variance 1, > 0\n",
    "    :param s2: variance 2, > 0\n",
    "    :return: heuristic estimate of kappa(s1, s2)\n",
    "    \"\"\"\n",
    "    return (1 + 1/(1 + (s2/s1)))/2\n"
   ]
  },
  {
   "cell_type": "code",
   "execution_count": 16,
   "metadata": {},
   "outputs": [
    {
     "name": "stdout",
     "output_type": "stream",
     "text": [
      "empirical est kappa(1, 0.01) ~ 0.99682068\n",
      "heuristic est kappa(1, 0.01) ~ 0.995049504950495\n",
      "empirical est kappa(1, 0.1) ~ 0.9683078\n",
      "heuristic est kappa(1, 0.1) ~ 0.9545454545454546\n",
      "empirical est kappa(1, 0.5) ~ 0.85244162\n",
      "heuristic est kappa(1, 0.5) ~ 0.8333333333333333\n",
      "empirical est kappa(1, 1) ~ 0.74994822\n",
      "heuristic est kappa(1, 1) ~ 0.75\n",
      "empirical est kappa(1, 2) ~ 0.64761174\n",
      "heuristic est kappa(1, 2) ~ 0.6666666666666666\n",
      "empirical est kappa(1, 10) ~ 0.53172457\n",
      "heuristic est kappa(1, 10) ~ 0.5454545454545454\n",
      "empirical est kappa(1, 100) ~ 0.50317939\n",
      "heuristic est kappa(1, 100) ~ 0.504950495049505\n"
     ]
    }
   ],
   "source": [
    "for b in (0.01, 0.1, 0.5, 1, 2, 10, 100):\n",
    "    h_est = kappa_heuristic(1, b)\n",
    "    e_est = kappa_empirical(1, b)\n",
    "    print(f\"empirical est kappa(1, {b}) ~ {e_est}\")\n",
    "    print(f\"heuristic est kappa(1, {b}) ~ {h_est}\")"
   ]
  },
  {
   "cell_type": "code",
   "execution_count": null,
   "metadata": {},
   "outputs": [],
   "source": []
  }
 ],
 "metadata": {
  "kernelspec": {
   "display_name": "research_env",
   "language": "python",
   "name": "python3"
  },
  "language_info": {
   "codemirror_mode": {
    "name": "ipython",
    "version": 3
   },
   "file_extension": ".py",
   "mimetype": "text/x-python",
   "name": "python",
   "nbconvert_exporter": "python",
   "pygments_lexer": "ipython3",
   "version": "3.11.3"
  },
  "orig_nbformat": 4
 },
 "nbformat": 4,
 "nbformat_minor": 2
}
