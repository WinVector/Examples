{
 "cells": [
  {
   "attachments": {},
   "cell_type": "markdown",
   "metadata": {},
   "source": [
    "Define $\\kappa(\\sigma_1, \\sigma_2)$ as $\\text{P}[Y \\ge -X | X \\ge 0]$ where $X$ is normal mean $0$ variance $\\sigma_1^2$ and $Y$ is indpendent normal mean $0$ variance $\\sigma_2^2$."
   ]
  },
  {
   "cell_type": "code",
   "execution_count": 1,
   "metadata": {},
   "outputs": [],
   "source": [
    "import numpy.random\n",
    "import numpy as np\n",
    "import pandas as pd"
   ]
  },
  {
   "cell_type": "code",
   "execution_count": 2,
   "metadata": {},
   "outputs": [],
   "source": [
    "rng = numpy.random.default_rng(seed=12345678903141592653589793)\n"
   ]
  },
  {
   "cell_type": "code",
   "execution_count": 3,
   "metadata": {},
   "outputs": [],
   "source": [
    "def kappa_empirical(s1, s2, *, nreps :int = 1000000):\n",
    "    \"\"\"\n",
    "    Empirical estimate of\n",
    "    $\\kappa(\\sigma_1, \\sigma_2)$ as $\\text{P}[Y \\ge -X | X \\ge 0]$ \n",
    "    where $X$ is normal mean $0$ variance $\\sigma_1^2$ and $Y$ is \n",
    "    indpendent normal mean $0$ variance $\\sigma_2^2$.\n",
    "\n",
    "    :param s1: variance 1, > 0\n",
    "    :param s2: variance 2, > 0\n",
    "    :param nreps: number of repetitions to simulate, > 0\n",
    "    :return: empirical estimate of kappa(s1, s2)\n",
    "    \"\"\"\n",
    "    assert s1 > 0\n",
    "    assert s2 > 0\n",
    "    nreps = int(nreps)\n",
    "    assert nreps > 0\n",
    "    x = -np.abs(rng.normal(size=nreps) * np.sqrt(s1))\n",
    "    y = rng.normal(size=nreps) * np.sqrt(s2)\n",
    "    return np.mean(y >= x)\n"
   ]
  },
  {
   "cell_type": "code",
   "execution_count": 4,
   "metadata": {},
   "outputs": [
    {
     "data": {
      "text/plain": [
       "0.750097"
      ]
     },
     "execution_count": 4,
     "metadata": {},
     "output_type": "execute_result"
    }
   ],
   "source": [
    "# kappa(1, 1) should limit out to 0.75\n",
    "k_1_1_est = kappa_empirical(1, 1)\n",
    "assert np.abs(k_1_1_est - 0.75) < 1e-3\n",
    "\n",
    "k_1_1_est"
   ]
  },
  {
   "cell_type": "code",
   "execution_count": 5,
   "metadata": {},
   "outputs": [
    {
     "data": {
      "text/plain": [
       "0.749789"
      ]
     },
     "execution_count": 5,
     "metadata": {},
     "output_type": "execute_result"
    }
   ],
   "source": [
    "# kappa(a, b) should equal kappa(s a, s b) for s > 0\n",
    "k_10_10_est = kappa_empirical(10, 10)\n",
    "\n",
    "assert np.abs(k_10_10_est - 0.75) < 1e-3\n",
    "\n",
    "k_10_10_est"
   ]
  },
  {
   "cell_type": "code",
   "execution_count": 6,
   "metadata": {},
   "outputs": [
    {
     "data": {
      "text/plain": [
       "0.501642"
      ]
     },
     "execution_count": 6,
     "metadata": {},
     "output_type": "execute_result"
    }
   ],
   "source": [
    "# kappa(1, b) should go to 1/2 as b gets large\n",
    "k_1_large_est = kappa_empirical(1, 1e+5)\n",
    "assert np.abs(k_1_large_est - 0.5) < 1e-2\n",
    "\n",
    "k_1_large_est"
   ]
  },
  {
   "cell_type": "code",
   "execution_count": 7,
   "metadata": {},
   "outputs": [
    {
     "data": {
      "text/plain": [
       "0.998949"
      ]
     },
     "execution_count": 7,
     "metadata": {},
     "output_type": "execute_result"
    }
   ],
   "source": [
    "# kappa(1, 1/b) should go to 1 as 1/b gets large\n",
    "k_1_small_est = kappa_empirical(1, 1e-5)\n",
    "assert np.abs(k_1_small_est - 1) < 1e-2\n",
    "\n",
    "k_1_small_est"
   ]
  },
  {
   "cell_type": "code",
   "execution_count": 8,
   "metadata": {},
   "outputs": [],
   "source": [
    "def kappa_heuristic(s1, s2):\n",
    "    \"\"\"\n",
    "    Heuristic estimate of\n",
    "    $\\kappa(\\sigma_1, \\sigma_2)$ as $\\text{P}[Y \\ge -X | X \\ge 0]$ \n",
    "    where $X$ is normal mean $0$ variance $\\sigma_1^2$ and $Y$ is \n",
    "    indpendent normal mean $0$ variance $\\sigma_2^2$.\n",
    "\n",
    "    :param s1: variance 1, > 0\n",
    "    :param s2: variance 2, > 0\n",
    "    :return: heuristic estimate of kappa(s1, s2)\n",
    "    \"\"\"\n",
    "    assert s1 > 0\n",
    "    assert s2 > 0\n",
    "    h_exp = 2/3\n",
    "    return (1 + 1/(1 + (s2/s1)**h_exp))/2\n"
   ]
  },
  {
   "cell_type": "code",
   "execution_count": 9,
   "metadata": {},
   "outputs": [
    {
     "name": "stdout",
     "output_type": "stream",
     "text": [
      "empirical est kappa(1, 0.01) ~ 0.968385\n",
      "heuristic est kappa(1, 0.01) ~ 0.9778214910278492\n",
      "empirical est kappa(1, 0.1) ~ 0.902309\n",
      "heuristic est kappa(1, 0.1) ~ 0.9113724848182869\n",
      "empirical est kappa(1, 1) ~ 0.749883\n",
      "heuristic est kappa(1, 1) ~ 0.75\n",
      "empirical est kappa(1, 10) ~ 0.598132\n",
      "heuristic est kappa(1, 10) ~ 0.5886275151817132\n",
      "empirical est kappa(1, 100) ~ 0.532657\n",
      "heuristic est kappa(1, 100) ~ 0.5221785089721508\n"
     ]
    }
   ],
   "source": [
    "for b in (0.01, 0.1, 1, 10, 100):\n",
    "    h_est = kappa_heuristic(1, b)\n",
    "    e_est = kappa_empirical(1, b)\n",
    "    print(f\"empirical est kappa(1, {b}) ~ {e_est}\")\n",
    "    print(f\"heuristic est kappa(1, {b}) ~ {h_est}\")"
   ]
  }
 ],
 "metadata": {
  "kernelspec": {
   "display_name": "research_env",
   "language": "python",
   "name": "python3"
  },
  "language_info": {
   "codemirror_mode": {
    "name": "ipython",
    "version": 3
   },
   "file_extension": ".py",
   "mimetype": "text/x-python",
   "name": "python",
   "nbconvert_exporter": "python",
   "pygments_lexer": "ipython3",
   "version": "3.11.3"
  },
  "orig_nbformat": 4
 },
 "nbformat": 4,
 "nbformat_minor": 2
}
