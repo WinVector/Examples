{
 "cells": [
  {
   "attachments": {},
   "cell_type": "markdown",
   "metadata": {},
   "source": [
    "Define $\\kappa(\\sigma_1, \\sigma_2)$ as $\\text{P}[Y \\ge -X | X \\ge 0]$ where $X$ is normal mean $0$ variance $\\sigma_1^2$ and $Y$ is indpendent normal mean $0$ variance $\\sigma_2^2$."
   ]
  },
  {
   "cell_type": "code",
   "execution_count": 1,
   "metadata": {},
   "outputs": [],
   "source": [
    "import numpy.random\n",
    "import numpy as np\n",
    "import pandas as pd\n",
    "import sympy\n",
    "from sympy import cos, exp, factorial, gamma, loggamma, pi, sin, sqrt"
   ]
  },
  {
   "cell_type": "code",
   "execution_count": 2,
   "metadata": {},
   "outputs": [],
   "source": [
    "rng = numpy.random.default_rng(seed=12345678903141592653589793)\n"
   ]
  },
  {
   "cell_type": "code",
   "execution_count": 3,
   "metadata": {},
   "outputs": [],
   "source": [
    "def l1l2auc_empirical(n: int, *, nreps :int = 1000000) -> float:\n",
    "    \"\"\"\n",
    "    Empirical estimate of L1L2 AUC.\n",
    "\n",
    "    :param n: dimension we are working in\n",
    "    :param nreps: number of repetitions to simulate, > 0\n",
    "    :return: empirical estimate of kappa(s1, s2)\n",
    "    \"\"\"\n",
    "    n = int(n)\n",
    "    assert n > 0\n",
    "    nreps = int(nreps)\n",
    "    assert nreps > 0\n",
    "    r_mean = float(sqrt(n - 1/2))\n",
    "    r_std = float(sqrt(1/2))\n",
    "    s_mean = float(sqrt(2 * n / pi))\n",
    "    s_std = float(sqrt(1 - 3 / pi))\n",
    "    r1 = rng.normal(size=nreps) * r_std + r_mean\n",
    "    r2 = rng.normal(size=nreps) * r_std + r_mean\n",
    "    s1 = rng.normal(size=nreps) * s_std + s_mean\n",
    "    s2 = rng.normal(size=nreps) * s_std + s_mean\n",
    "    return np.mean((r1 >= r2) == ((r1 * s1) >= (r2 * s2)))\n"
   ]
  },
  {
   "cell_type": "code",
   "execution_count": 4,
   "metadata": {},
   "outputs": [
    {
     "data": {
      "text/plain": [
       "0.886922"
      ]
     },
     "execution_count": 4,
     "metadata": {},
     "output_type": "execute_result"
    }
   ],
   "source": [
    "l1l2auc_empirical(n=20)"
   ]
  },
  {
   "cell_type": "code",
   "execution_count": null,
   "metadata": {},
   "outputs": [],
   "source": []
  },
  {
   "cell_type": "code",
   "execution_count": 5,
   "metadata": {},
   "outputs": [],
   "source": [
    "def kappa_empirical(s1: float, s2: float, *, nreps :int = 1000000) -> float:\n",
    "    \"\"\"\n",
    "    Empirical estimate of\n",
    "    $\\kappa(\\sigma_1, \\sigma_2)$ as $\\text{P}[Y \\ge -X | X \\ge 0]$ \n",
    "    where $X$ is normal mean $0$ variance $\\sigma_1^2$ and $Y$ is \n",
    "    indpendent normal mean $0$ variance $\\sigma_2^2$.\n",
    "\n",
    "    :param s1: variance 1, > 0\n",
    "    :param s2: variance 2, > 0\n",
    "    :param nreps: number of repetitions to simulate, > 0\n",
    "    :return: empirical estimate of kappa(s1, s2)\n",
    "    \"\"\"\n",
    "    s1 = float(s1)\n",
    "    s2 = float(s2)\n",
    "    assert s1 > 0\n",
    "    assert s2 > 0\n",
    "    nreps = int(nreps)\n",
    "    assert nreps > 0\n",
    "    x = -np.abs(rng.normal(size=nreps) * np.sqrt(s1))\n",
    "    y = rng.normal(size=nreps) * np.sqrt(s2)\n",
    "    return np.mean(y >= x)\n"
   ]
  },
  {
   "cell_type": "code",
   "execution_count": 6,
   "metadata": {},
   "outputs": [
    {
     "data": {
      "text/plain": [
       "0.750929"
      ]
     },
     "execution_count": 6,
     "metadata": {},
     "output_type": "execute_result"
    }
   ],
   "source": [
    "# kappa(1, 1) should limit out to 0.75\n",
    "k_1_1_est = kappa_empirical(1, 1)\n",
    "assert np.abs(k_1_1_est - 0.75) < 1e-3\n",
    "\n",
    "k_1_1_est"
   ]
  },
  {
   "cell_type": "code",
   "execution_count": 7,
   "metadata": {},
   "outputs": [
    {
     "data": {
      "text/plain": [
       "0.749926"
      ]
     },
     "execution_count": 7,
     "metadata": {},
     "output_type": "execute_result"
    }
   ],
   "source": [
    "# kappa(a, b) should equal kappa(s a, s b) for s > 0\n",
    "k_10_10_est = kappa_empirical(10, 10)\n",
    "\n",
    "assert np.abs(k_10_10_est - 0.75) < 1e-3\n",
    "\n",
    "k_10_10_est"
   ]
  },
  {
   "cell_type": "code",
   "execution_count": 8,
   "metadata": {},
   "outputs": [
    {
     "data": {
      "text/plain": [
       "0.501132"
      ]
     },
     "execution_count": 8,
     "metadata": {},
     "output_type": "execute_result"
    }
   ],
   "source": [
    "# kappa(1, b) should go to 1/2 as b gets large\n",
    "k_1_large_est = kappa_empirical(1, 1e+5)\n",
    "assert np.abs(k_1_large_est - 0.5) < 1e-2\n",
    "\n",
    "k_1_large_est"
   ]
  },
  {
   "cell_type": "code",
   "execution_count": 9,
   "metadata": {},
   "outputs": [
    {
     "data": {
      "text/plain": [
       "0.998977"
      ]
     },
     "execution_count": 9,
     "metadata": {},
     "output_type": "execute_result"
    }
   ],
   "source": [
    "# kappa(1, 1/b) should go to 1 as 1/b gets large\n",
    "k_1_small_est = kappa_empirical(1, 1e-5)\n",
    "assert np.abs(k_1_small_est - 1) < 1e-2\n",
    "\n",
    "k_1_small_est"
   ]
  },
  {
   "cell_type": "code",
   "execution_count": 10,
   "metadata": {},
   "outputs": [],
   "source": [
    "def kappa_heuristic(s1, s2):\n",
    "    \"\"\"\n",
    "    Heuristic estimate of\n",
    "    $\\kappa(\\sigma_1, \\sigma_2)$ as $\\text{P}[Y \\ge -X | X \\ge 0]$ \n",
    "    where $X$ is normal mean $0$ variance $\\sigma_1^2$ and $Y$ is \n",
    "    indpendent normal mean $0$ variance $\\sigma_2^2$.\n",
    "\n",
    "    :param s1: variance 1, > 0\n",
    "    :param s2: variance 2, > 0\n",
    "    :return: heuristic estimate of kappa(s1, s2)\n",
    "    \"\"\"\n",
    "    assert s1 > 0\n",
    "    assert s2 > 0\n",
    "    h_exp = 2/3\n",
    "    return (1 + 1/(1 + (s2/s1)**h_exp))/2\n"
   ]
  },
  {
   "cell_type": "code",
   "execution_count": 11,
   "metadata": {},
   "outputs": [
    {
     "name": "stdout",
     "output_type": "stream",
     "text": [
      "empirical est kappa(1, 0.01) ~ 0.968255\n",
      "heuristic est kappa(1, 0.01) ~ 0.9778214910278492\n",
      "empirical est kappa(1, 0.1) ~ 0.902751\n",
      "heuristic est kappa(1, 0.1) ~ 0.9113724848182869\n",
      "empirical est kappa(1, 1) ~ 0.7509\n",
      "heuristic est kappa(1, 1) ~ 0.75\n",
      "empirical est kappa(1, 10) ~ 0.598495\n",
      "heuristic est kappa(1, 10) ~ 0.5886275151817132\n",
      "empirical est kappa(1, 100) ~ 0.532626\n",
      "heuristic est kappa(1, 100) ~ 0.5221785089721508\n"
     ]
    }
   ],
   "source": [
    "for b in (0.01, 0.1, 1, 10, 100):\n",
    "    h_est = kappa_heuristic(1, b)\n",
    "    e_est = kappa_empirical(1, b)\n",
    "    print(f\"empirical est kappa(1, {b}) ~ {e_est}\")\n",
    "    print(f\"heuristic est kappa(1, {b}) ~ {h_est}\")"
   ]
  },
  {
   "cell_type": "code",
   "execution_count": null,
   "metadata": {},
   "outputs": [],
   "source": []
  },
  {
   "attachments": {},
   "cell_type": "markdown",
   "metadata": {},
   "source": [
    "$\\kappa(2 ((1 - 3 / \\pi) / n), 2 \\sqrt{2 / \\pi} (1/(2 n)))$"
   ]
  },
  {
   "cell_type": "code",
   "execution_count": 12,
   "metadata": {},
   "outputs": [],
   "source": [
    "s1 = 2 * (1 - 3 / pi)\n",
    "s2 = 2 * sqrt(2 / pi) * (1/2)"
   ]
  },
  {
   "cell_type": "code",
   "execution_count": 13,
   "metadata": {},
   "outputs": [
    {
     "data": {
      "text/latex": [
       "$\\displaystyle 2 - \\frac{6}{\\pi}$"
      ],
      "text/plain": [
       "2 - 6/pi"
      ]
     },
     "execution_count": 13,
     "metadata": {},
     "output_type": "execute_result"
    }
   ],
   "source": [
    "s1"
   ]
  },
  {
   "cell_type": "code",
   "execution_count": 14,
   "metadata": {},
   "outputs": [
    {
     "data": {
      "text/latex": [
       "$\\displaystyle \\frac{1.0 \\sqrt{2}}{\\sqrt{\\pi}}$"
      ],
      "text/plain": [
       "1.0*sqrt(2)/sqrt(pi)"
      ]
     },
     "execution_count": 14,
     "metadata": {},
     "output_type": "execute_result"
    }
   ],
   "source": [
    "s2"
   ]
  },
  {
   "cell_type": "code",
   "execution_count": 15,
   "metadata": {},
   "outputs": [
    {
     "data": {
      "text/plain": [
       "0.602957"
      ]
     },
     "execution_count": 15,
     "metadata": {},
     "output_type": "execute_result"
    }
   ],
   "source": [
    "kappa_empirical(float(s1), float(s2))"
   ]
  }
 ],
 "metadata": {
  "kernelspec": {
   "display_name": "research_env",
   "language": "python",
   "name": "python3"
  },
  "language_info": {
   "codemirror_mode": {
    "name": "ipython",
    "version": 3
   },
   "file_extension": ".py",
   "mimetype": "text/x-python",
   "name": "python",
   "nbconvert_exporter": "python",
   "pygments_lexer": "ipython3",
   "version": "3.11.3"
  },
  "orig_nbformat": 4
 },
 "nbformat": 4,
 "nbformat_minor": 2
}
