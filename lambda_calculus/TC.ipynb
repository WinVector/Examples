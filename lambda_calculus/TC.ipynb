{
 "cells": [
  {
   "cell_type": "markdown",
   "id": "b1081edc",
   "metadata": {},
   "source": [
    "Demonstration of the transitive path cache.\n",
    "\n",
    "This cache stores \"`a -> b`\" transitions separate from \"`a -> a`\" self-transitions. \n",
    "\n",
    "This is appropriate to store lambda calculus reductions. Reductions being the subset of lambda calculus beta-transformations that terminate (don't grow forever or cycle).\n",
    "\n",
    "For this cache a lookup keyed by \"`a`\" returns the current end of path for \"`a`\" and caches the \"`a`\" to end of path result. If a cycle is detected during lookup a `ValueError()` is raised. Cycles are not detected until lookup, which is where the transitive closure of the path is detected."
   ]
  },
  {
   "cell_type": "code",
   "execution_count": 1,
   "id": "3d95363a",
   "metadata": {},
   "outputs": [],
   "source": [
    "from TransitiveCache import TransitiveCache"
   ]
  },
  {
   "cell_type": "code",
   "execution_count": 2,
   "id": "d153d72f",
   "metadata": {},
   "outputs": [],
   "source": [
    "tc = TransitiveCache()"
   ]
  },
  {
   "cell_type": "code",
   "execution_count": 3,
   "id": "6a9b862d",
   "metadata": {},
   "outputs": [],
   "source": [
    "tc.store_transition(\"a\", \"b\")"
   ]
  },
  {
   "cell_type": "code",
   "execution_count": 4,
   "id": "34ef48c5",
   "metadata": {},
   "outputs": [],
   "source": [
    "tc.store_transition(\"b\", \"c\")"
   ]
  },
  {
   "cell_type": "code",
   "execution_count": 5,
   "id": "1337bc24",
   "metadata": {},
   "outputs": [
    {
     "data": {
      "text/plain": [
       "OrderedDict([('a', 'b'), ('b', 'c')])"
      ]
     },
     "execution_count": 5,
     "metadata": {},
     "output_type": "execute_result"
    }
   ],
   "source": [
    "tc._transitions"
   ]
  },
  {
   "cell_type": "markdown",
   "id": "0a8a086b",
   "metadata": {},
   "source": [
    "Lookup where \"`a`\" ends."
   ]
  },
  {
   "cell_type": "code",
   "execution_count": 6,
   "id": "cfef73c2",
   "metadata": {},
   "outputs": [
    {
     "data": {
      "text/plain": [
       "'c'"
      ]
     },
     "execution_count": 6,
     "metadata": {},
     "output_type": "execute_result"
    }
   ],
   "source": [
    "tc.lookup_result(\"a\")"
   ]
  },
  {
   "cell_type": "markdown",
   "id": "2056a4b9",
   "metadata": {},
   "source": [
    "The final destination of \"`a`\" is cached after lookup."
   ]
  },
  {
   "cell_type": "code",
   "execution_count": 7,
   "id": "5ee7240f",
   "metadata": {},
   "outputs": [
    {
     "data": {
      "text/plain": [
       "OrderedDict([('b', 'c'), ('a', 'c')])"
      ]
     },
     "execution_count": 7,
     "metadata": {},
     "output_type": "execute_result"
    }
   ],
   "source": [
    "tc._transitions"
   ]
  },
  {
   "cell_type": "markdown",
   "id": "d0627144",
   "metadata": {},
   "source": [
    "Force a cycle."
   ]
  },
  {
   "cell_type": "code",
   "execution_count": 8,
   "id": "3e44d9ef",
   "metadata": {},
   "outputs": [],
   "source": [
    "tc.store_transition(\"c\", \"a\")"
   ]
  },
  {
   "cell_type": "markdown",
   "id": "1c74f8e3",
   "metadata": {},
   "source": [
    "Cycle is detected at lookup."
   ]
  },
  {
   "cell_type": "code",
   "execution_count": 9,
   "id": "8fc0362a",
   "metadata": {},
   "outputs": [
    {
     "name": "stdout",
     "output_type": "stream",
     "text": [
      "saw ValueError 'cycle'\n"
     ]
    }
   ],
   "source": [
    "try:\n",
    "    tc.lookup_result(\"a\")\n",
    "except ValueError as ve:\n",
    "    print(f\"saw ValueError '{ve}'\")"
   ]
  },
  {
   "cell_type": "code",
   "execution_count": null,
   "id": "7687c16f",
   "metadata": {},
   "outputs": [],
   "source": []
  },
  {
   "cell_type": "code",
   "execution_count": null,
   "id": "fc9f8728",
   "metadata": {},
   "outputs": [],
   "source": []
  }
 ],
 "metadata": {
  "kernelspec": {
   "display_name": "prob_env",
   "language": "python",
   "name": "python3"
  },
  "language_info": {
   "codemirror_mode": {
    "name": "ipython",
    "version": 3
   },
   "file_extension": ".py",
   "mimetype": "text/x-python",
   "name": "python",
   "nbconvert_exporter": "python",
   "pygments_lexer": "ipython3",
   "version": "3.11.9"
  }
 },
 "nbformat": 4,
 "nbformat_minor": 5
}
