{
 "cells": [
  {
   "cell_type": "markdown",
   "id": "b1081edc",
   "metadata": {},
   "source": [
    "Demonstration of the transitive path cache.\n",
    "\n",
    "This cache stores \"`a -> b`\" transitions separate from \"`a -> a`\" self-transitions. \n",
    "\n",
    "This is appropriate to store lambda calculus reductions. Reductions being the subset of lambda calculus beta-transformations that terminate (don't grow forever or cycle).\n",
    "\n",
    "For this cache a lookup keyed by \"`a`\" returns the current end of path for \"`a`\" and caches the \"`a`\" to end of path result. If a cycle is detected during lookup a `ValueError()` is raised. Cycles are not detected until lookup, which is where the transitive closure of the path is detected."
   ]
  },
  {
   "cell_type": "code",
   "execution_count": 1,
   "id": "3d95363a",
   "metadata": {},
   "outputs": [],
   "source": [
    "from lambda_calc import *\n",
    "from TransitiveCache import TransitiveCache"
   ]
  },
  {
   "cell_type": "code",
   "execution_count": 2,
   "id": "d153d72f",
   "metadata": {},
   "outputs": [],
   "source": [
    "tc = TransitiveCache()"
   ]
  },
  {
   "cell_type": "code",
   "execution_count": 3,
   "id": "6a9b862d",
   "metadata": {},
   "outputs": [],
   "source": [
    "tc.store_transition(\"a\", \"b\")"
   ]
  },
  {
   "cell_type": "code",
   "execution_count": 4,
   "id": "34ef48c5",
   "metadata": {},
   "outputs": [],
   "source": [
    "tc.store_transition(\"b\", \"c\")"
   ]
  },
  {
   "cell_type": "code",
   "execution_count": 5,
   "id": "1337bc24",
   "metadata": {},
   "outputs": [
    {
     "data": {
      "text/plain": [
       "OrderedDict([('a', 'b'), ('b', 'c')])"
      ]
     },
     "execution_count": 5,
     "metadata": {},
     "output_type": "execute_result"
    }
   ],
   "source": [
    "tc._transitions"
   ]
  },
  {
   "cell_type": "markdown",
   "id": "0a8a086b",
   "metadata": {},
   "source": [
    "Lookup where \"`a`\" ends."
   ]
  },
  {
   "cell_type": "code",
   "execution_count": 6,
   "id": "cfef73c2",
   "metadata": {},
   "outputs": [
    {
     "data": {
      "text/plain": [
       "'c'"
      ]
     },
     "execution_count": 6,
     "metadata": {},
     "output_type": "execute_result"
    }
   ],
   "source": [
    "tc.lookup_result(\"a\")"
   ]
  },
  {
   "cell_type": "markdown",
   "id": "2056a4b9",
   "metadata": {},
   "source": [
    "The final destination of \"`a`\" is cached after lookup."
   ]
  },
  {
   "cell_type": "code",
   "execution_count": 7,
   "id": "5ee7240f",
   "metadata": {},
   "outputs": [
    {
     "data": {
      "text/plain": [
       "OrderedDict([('b', 'c'), ('a', 'c')])"
      ]
     },
     "execution_count": 7,
     "metadata": {},
     "output_type": "execute_result"
    }
   ],
   "source": [
    "tc._transitions"
   ]
  },
  {
   "cell_type": "markdown",
   "id": "d0627144",
   "metadata": {},
   "source": [
    "Force a cycle."
   ]
  },
  {
   "cell_type": "code",
   "execution_count": 8,
   "id": "3e44d9ef",
   "metadata": {},
   "outputs": [],
   "source": [
    "tc.store_transition(\"c\", \"a\")"
   ]
  },
  {
   "cell_type": "markdown",
   "id": "1c74f8e3",
   "metadata": {},
   "source": [
    "Cycle is detected at lookup."
   ]
  },
  {
   "cell_type": "code",
   "execution_count": 9,
   "id": "8fc0362a",
   "metadata": {},
   "outputs": [
    {
     "name": "stdout",
     "output_type": "stream",
     "text": [
      "saw ValueError 'cycle'\n"
     ]
    }
   ],
   "source": [
    "try:\n",
    "    tc.lookup_result(\"a\")\n",
    "except ValueError as ve:\n",
    "    print(f\"saw ValueError '{ve}'\")"
   ]
  },
  {
   "cell_type": "markdown",
   "id": "675e9813",
   "metadata": {},
   "source": [
    "We show how to use this with the blinker lambda expression."
   ]
  },
  {
   "cell_type": "code",
   "execution_count": 10,
   "id": "7687c16f",
   "metadata": {},
   "outputs": [
    {
     "data": {
      "text/latex": [
       "$$( \\lambda \\; x \\;.\\; ( \\lambda \\; y \\;.\\; y \\; x \\; y ) ) \\; ( \\lambda \\; x \\;.\\; ( \\lambda \\; y \\;.\\; y \\; x \\; y ) ) \\; ( \\lambda \\; x \\;.\\; ( \\lambda \\; y \\;.\\; y \\; x \\; y ) )$$"
      ],
      "text/plain": [
       "v((λ['x'](λ['y'](('y', 'x'), 'y')), λ['x'](λ['y'](('y', 'x'), 'y'))), λ['x'](λ['y'](('y', 'x'), 'y')))"
      ]
     },
     "execution_count": 10,
     "metadata": {},
     "output_type": "execute_result"
    }
   ],
   "source": [
    "a = λ[\"x\", \"y\"](\"y\", \"x\", \"y\")\n",
    "blinker = a | a | a\n",
    "\n",
    "blinker"
   ]
  },
  {
   "cell_type": "markdown",
   "id": "36df34f0",
   "metadata": {},
   "source": [
    "The blinker doesn't have a normal form. It keeps changing back and forth."
   ]
  },
  {
   "cell_type": "code",
   "execution_count": 11,
   "id": "fc9f8728",
   "metadata": {},
   "outputs": [
    {
     "data": {
      "text/latex": [
       "$$( \\lambda \\; y \\;.\\; y \\; ( \\lambda \\; x \\;.\\; ( \\lambda \\; y \\;.\\; y \\; x \\; y ) ) \\; y ) \\; ( \\lambda \\; x \\;.\\; ( \\lambda \\; y \\;.\\; y \\; x \\; y ) )$$"
      ],
      "text/plain": [
       "v(λ['y'](('y', λ['x'](λ['y'](('y', 'x'), 'y'))), 'y'), λ['x'](λ['y'](('y', 'x'), 'y')))"
      ]
     },
     "execution_count": 11,
     "metadata": {},
     "output_type": "execute_result"
    }
   ],
   "source": [
    "b_1 = blinker.r()\n",
    "assert blinker != b_1\n",
    "\n",
    "b_1"
   ]
  },
  {
   "cell_type": "code",
   "execution_count": 12,
   "id": "cc861165",
   "metadata": {},
   "outputs": [
    {
     "data": {
      "text/latex": [
       "$$( \\lambda \\; x \\;.\\; ( \\lambda \\; y \\;.\\; y \\; x \\; y ) ) \\; ( \\lambda \\; x \\;.\\; ( \\lambda \\; y \\;.\\; y \\; x \\; y ) ) \\; ( \\lambda \\; x \\;.\\; ( \\lambda \\; y \\;.\\; y \\; x \\; y ) )$$"
      ],
      "text/plain": [
       "v((λ['x'](λ['y'](('y', 'x'), 'y')), λ['x'](λ['y'](('y', 'x'), 'y'))), λ['x'](λ['y'](('y', 'x'), 'y')))"
      ]
     },
     "execution_count": 12,
     "metadata": {},
     "output_type": "execute_result"
    }
   ],
   "source": [
    "b_2 = b_1.r()\n",
    "assert b_1 != b_2\n",
    "assert b_2 == blinker\n",
    "\n",
    "b_2"
   ]
  },
  {
   "cell_type": "markdown",
   "id": "ca043d2a",
   "metadata": {},
   "source": [
    "This is why both the \"`.nf()`\" normal form calculation and the cache require cycle detection. Else either of those would spin forever on oscillating reductions. Though, this does not prevent forever runs for expressions that are not repeating."
   ]
  },
  {
   "cell_type": "code",
   "execution_count": 13,
   "id": "f8031374",
   "metadata": {},
   "outputs": [
    {
     "data": {
      "text/plain": [
       "OrderedDict([(v((λ['x'](λ['y'](('y', 'x'), 'y')), λ['x'](λ['y'](('y', 'x'), 'y'))), λ['x'](λ['y'](('y', 'x'), 'y'))),\n",
       "              v(λ['y'](('y', λ['x'](λ['y'](('y', 'x'), 'y'))), 'y'), λ['x'](λ['y'](('y', 'x'), 'y')))),\n",
       "             (v(λ['y'](('y', λ['x'](λ['y'](('y', 'x'), 'y'))), 'y'), λ['x'](λ['y'](('y', 'x'), 'y'))),\n",
       "              v((λ['x'](λ['y'](('y', 'x'), 'y')), λ['x'](λ['y'](('y', 'x'), 'y'))), λ['x'](λ['y'](('y', 'x'), 'y'))))])"
      ]
     },
     "execution_count": 13,
     "metadata": {},
     "output_type": "execute_result"
    }
   ],
   "source": [
    "tc = TransitiveCache()\n",
    "tc.store_transition(blinker, b_1)\n",
    "tc.store_transition(b_1, b_2)\n",
    "tc._transitions\n"
   ]
  },
  {
   "cell_type": "code",
   "execution_count": 14,
   "id": "726a20e4",
   "metadata": {},
   "outputs": [
    {
     "name": "stdout",
     "output_type": "stream",
     "text": [
      "saw ValueError 'cycle'\n"
     ]
    }
   ],
   "source": [
    "try:\n",
    "    tc.lookup_result(blinker)\n",
    "except ValueError as ve:\n",
    "    print(f\"saw ValueError '{ve}'\")"
   ]
  }
 ],
 "metadata": {
  "kernelspec": {
   "display_name": "prob_env",
   "language": "python",
   "name": "python3"
  },
  "language_info": {
   "codemirror_mode": {
    "name": "ipython",
    "version": 3
   },
   "file_extension": ".py",
   "mimetype": "text/x-python",
   "name": "python",
   "nbconvert_exporter": "python",
   "pygments_lexer": "ipython3",
   "version": "3.11.11"
  }
 },
 "nbformat": 4,
 "nbformat_minor": 5
}
