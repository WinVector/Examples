{
 "cells": [
  {
   "cell_type": "markdown",
   "id": "5e808da1",
   "metadata": {},
   "source": [
    "From [Anthony Hart, \"Extremely Simple Self Interpretation\", September 4, 2021](https://anthonylorenhart.com/2021-09-04-Extremely-Simple-Self-Interpretation/)."
   ]
  },
  {
   "cell_type": "code",
   "execution_count": 2,
   "id": "7460a44a",
   "metadata": {},
   "outputs": [],
   "source": [
    "import sys\n",
    "from IPython.display import display, HTML, Math, Markdown\n",
    "import pandas as pd\n",
    "\n",
    "from lambda_calc import *\n",
    "\n",
    "load_common_aliases()\n",
    "sys.setrecursionlimit(100000)"
   ]
  },
  {
   "cell_type": "code",
   "execution_count": 5,
   "id": "25ac9825",
   "metadata": {},
   "outputs": [],
   "source": [
    "k = convert_deBruijn_codes(λ(λ(2)))\n",
    "s = convert_deBruijn_codes(λ(λ(λ(3,1,(2,1)))))"
   ]
  },
  {
   "cell_type": "code",
   "execution_count": 9,
   "id": "0ab4b982",
   "metadata": {},
   "outputs": [
    {
     "data": {
      "text/latex": [
       "$$\\lambda \\; x1 \\;.\\; ( \\lambda \\; x2 \\;.\\; ( \\lambda \\; x3 \\;.\\; x1 \\; x3 \\; (x2 \\; x3) ) )$$"
      ],
      "text/plain": [
       "λ['x1'](λ['x2'](λ['x3'](('x1', 'x3'), ('x2', 'x3'))))"
      ]
     },
     "execution_count": 9,
     "metadata": {},
     "output_type": "execute_result"
    }
   ],
   "source": [
    "s"
   ]
  },
  {
   "cell_type": "code",
   "execution_count": 8,
   "id": "e14bd4b3",
   "metadata": {},
   "outputs": [
    {
     "data": {
      "text/latex": [
       "$$\\lambda \\; x1 \\;.\\; ( \\lambda \\; x2 \\;.\\; x1 )$$"
      ],
      "text/plain": [
       "λ['x1'](λ['x2']('x1'))"
      ]
     },
     "execution_count": 8,
     "metadata": {},
     "output_type": "execute_result"
    }
   ],
   "source": [
    "k"
   ]
  },
  {
   "cell_type": "code",
   "execution_count": 7,
   "id": "e0bae208",
   "metadata": {},
   "outputs": [
    {
     "data": {
      "text/latex": [
       "$$\\lambda \\; x1 \\;.\\; ( \\lambda \\; x2 \\;.\\; x1 )$$"
      ],
      "text/plain": [
       "λ['x1'](λ['x2']('x1'))"
      ]
     },
     "execution_count": 7,
     "metadata": {},
     "output_type": "execute_result"
    }
   ],
   "source": [
    "(s | k | k | k).nf()[0]"
   ]
  },
  {
   "cell_type": "code",
   "execution_count": null,
   "id": "32b8cf5c",
   "metadata": {},
   "outputs": [],
   "source": []
  },
  {
   "cell_type": "code",
   "execution_count": 2,
   "id": "91d0b645",
   "metadata": {},
   "outputs": [],
   "source": [
    "\n",
    "nil = λ(λ(1))\n",
    "app = λ(λ(λ(λ(λ(3,5)))))\n",
    "lam = λ(λ(λ(λ(2,4))))\n",
    "var = λ(λ(λ(λ(1,4))))\n",
    "Y = λ(λ(2,(1,1)),λ(2,(1,1)))"
   ]
  },
  {
   "cell_type": "code",
   "execution_count": 3,
   "id": "1e86cbff",
   "metadata": {},
   "outputs": [
    {
     "data": {
      "text/latex": [
       "$$\\lambda \\; ( \\lambda \\; ( \\lambda \\; 2 \\; (1 \\; 1) ) \\; ( \\lambda \\; 2 \\; (1 \\; 1) ) ) \\; ( \\lambda \\; ( \\lambda \\; ( \\lambda \\; 2 \\; ( \\lambda \\; ( \\lambda \\; 5 \\; 2 \\; ( \\lambda \\; ( \\lambda \\; 1 \\; 3 \\; 5 ) ) ) ) \\; ( \\lambda \\; 2 \\; ( \\lambda \\; ( \\lambda \\; ( \\lambda \\; 2 \\; ( \\lambda \\; 8 \\; (5 \\; ( \\lambda \\; ( \\lambda \\; ( \\lambda \\; 1 \\; 4 ) ) )) \\; ( \\lambda \\; ( \\lambda \\; 1 ) ) ) ) ) ) \\; ( \\lambda \\; 5 \\; (2 \\; 1) ) ) \\; ( \\lambda \\; 2 \\; 1 \\; ( \\lambda \\; 5 \\; ( \\lambda \\; ( \\lambda \\; ( \\lambda \\; 1 \\; ( \\lambda \\; ( \\lambda \\; ( \\lambda \\; 3 \\; 8 \\; (11 \\; 7 \\; ( \\lambda \\; ( \\lambda \\; 1 ) )) ) ) ) ) ) ) ) ) ) ) ) \\; 1 \\; ( \\lambda \\; ( \\lambda \\; 1 ) )$$"
      ],
      "text/plain": [
       "λ(((λ(λ(2, (1, 1)), λ(2, (1, 1))), λ(λ(λ(((2, λ(λ((5, 2), λ(λ((1, 3), 5))))), λ((2, λ(λ(λ(2, λ((8, (5, λ(λ(λ(1, 4))))), λ(λ(1))))))), λ(5, (2, 1)))), λ((2, 1), λ(5, λ(λ(λ(1, λ(λ(λ((3, 8), ((11, 7), λ(λ(1))))))))))))))), 1), λ(λ(1)))"
      ]
     },
     "execution_count": 3,
     "metadata": {},
     "output_type": "execute_result"
    }
   ],
   "source": [
    "evn = λ(Y(λ(λ(λ(\n",
    "       2,(λ(λ(5,2,(λ(λ(1,3,5)))))),\n",
    "        (λ(2,(λ(λ(λ(2,(λ(8,(5,(λ(λ(λ(1,4))))),(nil))))))),\n",
    "            (λ(5,(2,1))))),\n",
    "        (λ(2,1,(λ(5,(λ(λ(λ(1,(λ(λ(λ(3,8,(11,7,nil)))))))))))))\n",
    "       )\n",
    "  ))),1,nil)\n",
    "\n",
    "evn"
   ]
  },
  {
   "cell_type": "code",
   "execution_count": 4,
   "id": "09cc446b",
   "metadata": {},
   "outputs": [],
   "source": [
    "ek = lam(λ(lam(λ(2))))\n",
    "es = lam(λ(lam(λ(lam(λ(app(app,3,1),(app,2,1)))))))\n"
   ]
  },
  {
   "cell_type": "code",
   "execution_count": 5,
   "id": "5db19aed",
   "metadata": {},
   "outputs": [],
   "source": [
    "nil = convert_deBruijn_codes(nil)\n",
    "app = convert_deBruijn_codes(app)\n",
    "lam = convert_deBruijn_codes(lam)\n",
    "var = convert_deBruijn_codes(var)\n",
    "Y = convert_deBruijn_codes(Y)\n",
    "evn = convert_deBruijn_codes(evn)\n",
    "ek = convert_deBruijn_codes(ek)\n",
    "es = convert_deBruijn_codes(es)"
   ]
  },
  {
   "cell_type": "code",
   "execution_count": null,
   "id": "31e165b5",
   "metadata": {},
   "outputs": [],
   "source": []
  },
  {
   "cell_type": "code",
   "execution_count": 6,
   "id": "5f6bf403",
   "metadata": {},
   "outputs": [
    {
     "data": {
      "text/latex": [
       "$$( \\lambda \\; x1 \\;.\\; ( \\lambda \\; x2 \\;.\\; ( \\lambda \\; x3 \\;.\\; ( \\lambda \\; x4 \\;.\\; x3 \\; x1 ) ) ) ) \\; ( \\lambda \\; ZZZ \\;.\\; ( \\lambda \\; x1 \\;.\\; ( \\lambda \\; x2 \\;.\\; ( \\lambda \\; x3 \\;.\\; ( \\lambda \\; x4 \\;.\\; x3 \\; x1 ) ) ) ) \\; ( \\lambda \\; x5 \\;.\\; ( \\lambda \\; x6 \\;.\\; ( \\lambda \\; x7 \\;.\\; ( \\lambda \\; x8 \\;.\\; ( \\lambda \\; x9 \\;.\\; x8 \\; x6 ) ) ) ) \\; ( \\lambda \\; x10 \\;.\\; x5 ) ) )$$"
      ],
      "text/plain": [
       "v(λ['x1'](λ['x2'](λ['x3'](λ['x4']('x3', 'x1')))), λ['ZZZ'](λ['x1'](λ['x2'](λ['x3'](λ['x4']('x3', 'x1')))), λ['x5'](λ['x6'](λ['x7'](λ['x8'](λ['x9']('x8', 'x6')))), λ['x10']('x5'))))"
      ]
     },
     "execution_count": 6,
     "metadata": {},
     "output_type": "execute_result"
    }
   ],
   "source": [
    "\n",
    "lam(λ['ZZZ'](ek))"
   ]
  },
  {
   "cell_type": "code",
   "execution_count": 7,
   "id": "2fcc7640",
   "metadata": {},
   "outputs": [
    {
     "data": {
      "text/latex": [
       "$$\\lambda \\; x2 \\;.\\; ( \\lambda \\; x3 \\;.\\; ( \\lambda \\; x4 \\;.\\; x3 \\; ( \\lambda \\; ZZZ \\;.\\; ( \\lambda \\; x2 \\;.\\; ( \\lambda \\; x3 \\;.\\; ( \\lambda \\; x4 \\;.\\; x3 \\; ( \\lambda \\; x5 \\;.\\; ( \\lambda \\; x7 \\;.\\; ( \\lambda \\; x8 \\;.\\; ( \\lambda \\; x9 \\;.\\; x8 \\; ( \\lambda \\; x10 \\;.\\; x5 ) ) ) ) ) ) ) ) ) ) )$$"
      ],
      "text/plain": [
       "λ['x2'](λ['x3'](λ['x4']('x3', λ['ZZZ'](λ['x2'](λ['x3'](λ['x4']('x3', λ['x5'](λ['x7'](λ['x8'](λ['x9']('x8', λ['x10']('x5'))))))))))))"
      ]
     },
     "execution_count": 7,
     "metadata": {},
     "output_type": "execute_result"
    }
   ],
   "source": [
    "lam(λ['ZZZ'](ek)).nf()[0]"
   ]
  },
  {
   "cell_type": "code",
   "execution_count": 8,
   "id": "2c8e0e26",
   "metadata": {},
   "outputs": [
    {
     "data": {
      "text/latex": [
       "$$( \\lambda \\; x1 \\;.\\; ( \\lambda \\; x2 \\;.\\; ( \\lambda \\; x3 \\;.\\; ( \\lambda \\; x4 \\;.\\; x3 \\; x1 ) ) ) ) \\; ( \\lambda \\; x5 \\;.\\; ( \\lambda \\; x6 \\;.\\; ( \\lambda \\; x7 \\;.\\; ( \\lambda \\; x8 \\;.\\; ( \\lambda \\; x9 \\;.\\; x8 \\; x6 ) ) ) ) \\; ( \\lambda \\; x10 \\;.\\; x5 ) )$$"
      ],
      "text/plain": [
       "v(λ['x1'](λ['x2'](λ['x3'](λ['x4']('x3', 'x1')))), λ['x5'](λ['x6'](λ['x7'](λ['x8'](λ['x9']('x8', 'x6')))), λ['x10']('x5')))"
      ]
     },
     "execution_count": 8,
     "metadata": {},
     "output_type": "execute_result"
    }
   ],
   "source": [
    "ek"
   ]
  },
  {
   "cell_type": "code",
   "execution_count": 9,
   "id": "07a77f9d",
   "metadata": {},
   "outputs": [
    {
     "data": {
      "text/latex": [
       "$$\\lambda \\; x2 \\;.\\; ( \\lambda \\; x3 \\;.\\; ( \\lambda \\; x4 \\;.\\; x3 \\; ( \\lambda \\; x5 \\;.\\; ( \\lambda \\; x7 \\;.\\; ( \\lambda \\; x8 \\;.\\; ( \\lambda \\; x9 \\;.\\; x8 \\; ( \\lambda \\; x10 \\;.\\; x5 ) ) ) ) ) ) )$$"
      ],
      "text/plain": [
       "λ['x2'](λ['x3'](λ['x4']('x3', λ['x5'](λ['x7'](λ['x8'](λ['x9']('x8', λ['x10']('x5'))))))))"
      ]
     },
     "execution_count": 9,
     "metadata": {},
     "output_type": "execute_result"
    }
   ],
   "source": [
    "ek.nf()[0]"
   ]
  },
  {
   "cell_type": "code",
   "execution_count": null,
   "id": "1d938475",
   "metadata": {},
   "outputs": [],
   "source": [
    "(evn | lam(λ['ZZZ'](ek))).nf()"
   ]
  },
  {
   "cell_type": "code",
   "execution_count": null,
   "id": "b7ff8491",
   "metadata": {},
   "outputs": [],
   "source": []
  }
 ],
 "metadata": {
  "kernelspec": {
   "display_name": "prob_env",
   "language": "python",
   "name": "python3"
  },
  "language_info": {
   "codemirror_mode": {
    "name": "ipython",
    "version": 3
   },
   "file_extension": ".py",
   "mimetype": "text/x-python",
   "name": "python",
   "nbconvert_exporter": "python",
   "pygments_lexer": "ipython3",
   "version": "3.11.9"
  }
 },
 "nbformat": 4,
 "nbformat_minor": 5
}
