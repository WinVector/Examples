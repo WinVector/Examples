{
 "cells": [
  {
   "cell_type": "markdown",
   "id": "5e808da1",
   "metadata": {},
   "source": []
  },
  {
   "cell_type": "code",
   "execution_count": null,
   "id": "7460a44a",
   "metadata": {},
   "outputs": [],
   "source": [
    "import sys\n",
    "from IPython.display import display, HTML, Math, Markdown\n",
    "import pandas as pd\n",
    "\n",
    "from lambda_calc import *\n",
    "\n",
    "load_common_aliases()\n",
    "sys.setrecursionlimit(100000)"
   ]
  },
  {
   "cell_type": "code",
   "execution_count": null,
   "id": "91d0b645",
   "metadata": {},
   "outputs": [],
   "source": [
    "# https://esolangs.org/wiki/Binary_lambda_calculus#self-interpreter\n",
    "# self-iterpreter\n",
    "self_interpreter = \"\"\"\n",
    "  01010001\n",
    "   10100000\n",
    "    00010101\n",
    "     10000000\n",
    "      00011110\n",
    "       00010111\n",
    "        11100111\n",
    "         10000101\n",
    "          11001111\n",
    "          000000111\n",
    "         10000101101\n",
    "        1011100111110\n",
    "       000111110000101\n",
    "      11101001 11010010\n",
    "     11001110   00011011\n",
    "    00001011     11100001\n",
    "   11110000       11100110\n",
    "  11110111         11001111\n",
    " 01110110           00011001\n",
    "00011010             00011010\n",
    "\"\"\"\n",
    "eval_fn = read_zero_one_code(self_interpreter)"
   ]
  },
  {
   "cell_type": "code",
   "execution_count": null,
   "id": "ef38e06f",
   "metadata": {},
   "outputs": [],
   "source": [
    "repr(eval_fn)"
   ]
  },
  {
   "cell_type": "code",
   "execution_count": null,
   "id": "261dcc3b",
   "metadata": {},
   "outputs": [],
   "source": [
    "expr = λ[\"x\"](\"x\")\n",
    "\n",
    "repr(expr)"
   ]
  },
  {
   "cell_type": "code",
   "execution_count": null,
   "id": "c8cfc852",
   "metadata": {},
   "outputs": [],
   "source": [
    "repr(expr.nf())"
   ]
  },
  {
   "cell_type": "code",
   "execution_count": null,
   "id": "efc6b621",
   "metadata": {},
   "outputs": [],
   "source": [
    "zero_one_code = \"0010\"\n",
    "\n",
    "zero_one_code"
   ]
  },
  {
   "cell_type": "code",
   "execution_count": null,
   "id": "4e1f7f8d",
   "metadata": {},
   "outputs": [],
   "source": [
    "repr(read_zero_one_code(zero_one_code))"
   ]
  },
  {
   "cell_type": "code",
   "execution_count": null,
   "id": "140b9722",
   "metadata": {},
   "outputs": [],
   "source": [
    "encoded = vr([TRUE if c == \"1\" else FALSE for c in zero_one_code])\n",
    "\n",
    "encoded"
   ]
  },
  {
   "cell_type": "code",
   "execution_count": null,
   "id": "6a7ea847",
   "metadata": {},
   "outputs": [],
   "source": [
    "encoded.r()"
   ]
  },
  {
   "cell_type": "code",
   "execution_count": null,
   "id": "95870c18",
   "metadata": {},
   "outputs": [],
   "source": [
    "repr(encoded)"
   ]
  },
  {
   "cell_type": "code",
   "execution_count": null,
   "id": "5e6e5a70",
   "metadata": {},
   "outputs": [],
   "source": [
    "eval_result = (eval_fn | encoded).nf()\n",
    "\n",
    "eval_result"
   ]
  },
  {
   "cell_type": "code",
   "execution_count": null,
   "id": "991c1546",
   "metadata": {},
   "outputs": [],
   "source": [
    "repr(eval_result)"
   ]
  },
  {
   "cell_type": "code",
   "execution_count": null,
   "id": "941deb51",
   "metadata": {},
   "outputs": [],
   "source": []
  },
  {
   "cell_type": "code",
   "execution_count": null,
   "id": "5349014c",
   "metadata": {},
   "outputs": [],
   "source": []
  }
 ],
 "metadata": {
  "kernelspec": {
   "display_name": "prob_env",
   "language": "python",
   "name": "python3"
  },
  "language_info": {
   "codemirror_mode": {
    "name": "ipython",
    "version": 3
   },
   "file_extension": ".py",
   "mimetype": "text/x-python",
   "name": "python",
   "nbconvert_exporter": "python",
   "pygments_lexer": "ipython3",
   "version": "3.11.11"
  }
 },
 "nbformat": 4,
 "nbformat_minor": 5
}
