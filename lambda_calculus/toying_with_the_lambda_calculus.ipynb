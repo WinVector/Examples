{
 "cells": [
  {
   "cell_type": "markdown",
   "id": "cell0",
   "metadata": {},
   "source": [
    "# Toying with the Lambda Calculus\n",
    "\n",
    "[John Mount](https://win-vector.com/john-mount/)\n",
    "May 29, 2025\n",
    "[Announcement/discussion](https://win-vector.com/2025/05/29/toying-with-the-lambda-calculus/)\n",
    "\n",
    "\n",
    "## Introduction\n",
    "\n",
    "There have been a number of great articles on the equational nature of [Lisp](https://en.wikipedia.org/wiki/Lisp_(programming_language)).\n",
    "\n",
    "  * [Stuart Feldman \"A Conversation with Alan Kay\"](https://queue.acm.org/detail.cfm?id=1039523)\n",
    "  * [Peter Norvig \"(How to Write a (Lisp) Interpreter (in Python))\"](https://norvig.com/lispy.html)\n",
    "  * [Michael Nielsen \"Lisp as the Maxwell’s equations of software\"](https://michaelnielsen.org/ddi/lisp-as-the-maxwells-equations-of-software/)\n",
    "\n",
    "They emphasize how Lisp itself can be considered as a small series of Lisp expressions. These give us a chance to think a bit beyond the imperative von Neumann view (see [John Backus \"Can programming be liberated from the von Neumann style?: a functional style and its algebra of programs\"](https://dl.acm.org/doi/10.1145/359576.359579)).\n",
    "\n",
    "A slightly wart is: the relation of Lisps to [the Lambda Calculus](https://en.wikipedia.org/wiki/Lambda_calculus). The grace of Lisps and Lisp implementations is precisely that they do not need to be implemented in terms fo the Lambda Calculus. This is similar to the grace of general purpose computers not needing to be implemented in terms of tape driven [Turing machines](https://en.wikipedia.org/wiki/Turing_machine).\n",
    "\n",
    "In my opinion, in contrast to a pretty Lisp being implemented in pretty code; the lambda calculus is an ugly language (a [Turing tarpit](https://en.wikipedia.org/wiki/Turing_tarpit)) implemented in terms of a fairly ugly primitive (capture avoiding substitution). Howecer, let's the the lambda calculus out to play anyway.\n"
   ]
  },
  {
   "cell_type": "markdown",
   "id": "cell1",
   "metadata": {},
   "source": [
    "## The toy engine\n",
    "\n",
    "We import our toy implementation in Python as a direct set of transforms on tree data structures. This is probably better than working over strings. It is going to be clunkier than translating to [combinatory logic](https://en.wikipedia.org/wiki/Combinatory_logic) implementing over a Lisp, Haskel, or pattern matching re-write engine. And direct manipulation of lambda-expressions is not necessarily a dominant or good idea. There are alternatives to direct evaluation, such as translation to combinators. Some amazing write-ups on these alternative can be found [here](https://crypto.stanford.edu/~blynn/lambda/).\n",
    "\n",
    "But, let's proceed in a straightforward Python data structure manner. It avoids the need to parse, and is fairly succinct to implement.\n"
   ]
  },
  {
   "cell_type": "code",
   "execution_count": 1,
   "id": "cell2",
   "metadata": {},
   "outputs": [],
   "source": [
    "from IPython.display import display, HTML, Math, Markdown\n",
    "import pandas as pd\n",
    "\n",
    "from lambda_calc import *\n",
    "load_common_aliases()\n",
    "\n",
    "def display_def(t):\n",
    "    display(Math(t.to_latex(not_expanded={t})))\n"
   ]
  },
  {
   "cell_type": "markdown",
   "id": "cell3",
   "metadata": {},
   "source": [
    "### Expressions\n",
    "\n",
    "The lambda calculus has only a few primitives:\n",
    "\n",
    "  * Variable names, such as $x$, $y$, and $f$.\n",
    "  * Composition in the form of writing one lambda calculus expression $A$ before another $B$ as $A \\; B$.\n",
    "  * Parenthesis. The expressions $(A \\; B) \\; C$ and $A \\; (B \\; C)$ are distinct. \n",
    "     * For convenience we write $(A\\; B) \\; C$ as $A \\; B \\; C$.\n",
    "     * As writing our examples in Python where $A B$ is not always syntactically allowed we have input notations such as `A | B$` and `v(A, B)`\n",
    "  * Abstraction in the form of $(\\lambda \\; x \\; . \\; A)$. The first portion $\\lambda \\; x \\; .$ names $x$ as a bound variable. The second portion $A$ is called the body. \n",
    "     * For example $(\\lambda \\; x \\; . \\; x \\;y \\; x)$ says \"$x$ is to be replaced by whatever comes after this abstraction in the body $x \\;y \\; x$.\n",
    "     * In Python we will write $(\\lambda \\; x \\; . \\; A)$ as `λ[x](A)$`.\n",
    "\n",
    "More details can be found [here](https://en.wikipedia.org/wiki/Lambda_calculus_definition).\n",
    "\n",
    "Let's see the abstraction in action. First we declare the example abstraction.\n"
   ]
  },
  {
   "cell_type": "code",
   "execution_count": 2,
   "id": "cell4",
   "metadata": {},
   "outputs": [
    {
     "data": {
      "text/latex": [
       "$$\\lambda \\; x \\;.\\; x \\; y \\; x$$"
      ],
      "text/plain": [
       "λ['x'](('x', 'y'), 'x')"
      ]
     },
     "execution_count": 2,
     "metadata": {},
     "output_type": "execute_result"
    }
   ],
   "source": [
    "λ['x']('x', 'y', 'x')\n"
   ]
  },
  {
   "cell_type": "markdown",
   "id": "cell5",
   "metadata": {},
   "source": [
    "This is read as \"prepare to replace the $x$-s in $x \\; y \\; x$ with something else.\"\n",
    "\n",
    "\n",
    "We can add in the \"something else\" as an expression $z$ to be acted on. \n",
    "\n",
    "For our Python powered lambda calculus engine \"(A) | (B)\" is how we write \"A B\" without violating Python's syntax rules. One can also use the notation \"(A)(B)\" to denote \"A B\". The parenthesis can be omitted if it is known that \"A\" and \"B\" are neither of type \"composition\" (of the form \"X Y\" themselves). The `v()` function also accepts lists to specify composition.\n"
   ]
  },
  {
   "cell_type": "code",
   "execution_count": 3,
   "id": "cell6",
   "metadata": {},
   "outputs": [
    {
     "data": {
      "text/latex": [
       "$$( \\lambda \\; x \\;.\\; x \\; y \\; x ) \\; z$$"
      ],
      "text/plain": [
       "v(λ['x'](('x', 'y'), 'x'), 'z')"
      ]
     },
     "execution_count": 3,
     "metadata": {},
     "output_type": "execute_result"
    }
   ],
   "source": [
    "λ['x']('x', 'y', 'x') | v('z')\n"
   ]
  },
  {
   "cell_type": "markdown",
   "id": "cell7",
   "metadata": {},
   "source": [
    "We can apply a \"beta reduction step\" using the $.r()$ reduce method. This is the lambda-calculus' version of \"'modus ponens\": i.e. apply the rule to get the claimed conclusion or trasform.\n"
   ]
  },
  {
   "cell_type": "code",
   "execution_count": 4,
   "id": "cell8",
   "metadata": {},
   "outputs": [
    {
     "data": {
      "text/latex": [
       "$$z \\; y \\; z$$"
      ],
      "text/plain": [
       "v(('z', 'y'), 'z')"
      ]
     },
     "execution_count": 4,
     "metadata": {},
     "output_type": "execute_result"
    }
   ],
   "source": [
    "(λ['x']('x', 'y', 'x') | v('z')).r()\n"
   ]
  },
  {
   "cell_type": "markdown",
   "id": "cell9",
   "metadata": {},
   "source": [
    "A Python source code text representation of any such expression is available through the `repr()` function. For example.\n"
   ]
  },
  {
   "cell_type": "code",
   "execution_count": 5,
   "id": "cell10",
   "metadata": {},
   "outputs": [
    {
     "data": {
      "text/latex": [
       "$$( \\lambda \\; x \\;.\\; x \\; y \\; x ) \\; z$$"
      ],
      "text/plain": [
       "v(λ['x'](('x', 'y'), 'x'), 'z')"
      ]
     },
     "execution_count": 5,
     "metadata": {},
     "output_type": "execute_result"
    }
   ],
   "source": [
    "A = λ['x']('x', 'y', 'x') | v('z')\n",
    "\n",
    "A\n"
   ]
  },
  {
   "cell_type": "code",
   "execution_count": 6,
   "id": "cell11",
   "metadata": {},
   "outputs": [
    {
     "data": {
      "text/plain": [
       "\"v(λ['x'](('x', 'y'), 'x'), 'z')\""
      ]
     },
     "execution_count": 6,
     "metadata": {},
     "output_type": "execute_result"
    }
   ],
   "source": [
    "str_rep = repr(A)\n",
    "\n",
    "str_rep\n"
   ]
  },
  {
   "cell_type": "markdown",
   "id": "cell12",
   "metadata": {},
   "source": [
    "We can evaluate an expression by either:\n",
    "\n",
    "  * calling the normal order beta reduction method $.r()$, which runs one substitution step\n",
    "  * or by calling the normal form method $.nf()$, which repeats $.r()$ until nothing changes.\n"
   ]
  },
  {
   "cell_type": "code",
   "execution_count": 7,
   "id": "cell13",
   "metadata": {},
   "outputs": [
    {
     "data": {
      "text/latex": [
       "$$z \\; y \\; z$$"
      ],
      "text/plain": [
       "v(('z', 'y'), 'z')"
      ]
     },
     "execution_count": 7,
     "metadata": {},
     "output_type": "execute_result"
    }
   ],
   "source": [
    "A.r()\n"
   ]
  },
  {
   "cell_type": "code",
   "execution_count": 8,
   "id": "cell14",
   "metadata": {},
   "outputs": [
    {
     "data": {
      "text/latex": [
       "$$z \\; y \\; z$$"
      ],
      "text/plain": [
       "v(('z', 'y'), 'z')"
      ]
     },
     "execution_count": 8,
     "metadata": {},
     "output_type": "execute_result"
    }
   ],
   "source": [
    "normal_form, steps_taken = A.nf()\n",
    "\n",
    "normal_form\n"
   ]
  },
  {
   "cell_type": "markdown",
   "id": "cell15",
   "metadata": {},
   "source": [
    "And we can parse such expressions with `parse_l()` (warning: `parse_l()` does use Python `eval()`).\n"
   ]
  },
  {
   "cell_type": "code",
   "execution_count": 9,
   "id": "cell16",
   "metadata": {},
   "outputs": [
    {
     "data": {
      "text/latex": [
       "$$( \\lambda \\; x \\;.\\; x \\; y \\; x ) \\; z$$"
      ],
      "text/plain": [
       "v(λ['x'](('x', 'y'), 'x'), 'z')"
      ]
     },
     "execution_count": 9,
     "metadata": {},
     "output_type": "execute_result"
    }
   ],
   "source": [
    "assert A == parse_l(str_rep)\n",
    "\n",
    "parse_l(str_rep)\n"
   ]
  },
  {
   "cell_type": "markdown",
   "id": "cell17",
   "metadata": {},
   "source": [
    "### Substitution\n",
    "\n",
    "The expression $(\\lambda \\; x \\; .\\; A) \\; B$ is eligible for a re-write called a beta-reduction. In this we replace $(\\lambda \\; x \\; . \\; A) \\; B$ with $A[x := B]$. $A[x := B]$ denotes collision avoiding substitution where instances of $x$ in $A$ are replaced with $B$, subject to two caveats:\n",
    "\n",
    "  * Only free instances of $x$ are replaced. \"free\" means not bound or inside the scope of another abstraction or replacement rule.\n",
    "  * Substitutions in $A$ must not collide with the names of any containing abstraction variables.\n",
    "\n",
    "In all cases, conflicts are avoided by re-naming.\n",
    "\n",
    "Let's look at these difficulties in detail.\n"
   ]
  },
  {
   "cell_type": "markdown",
   "id": "cell18",
   "metadata": {},
   "source": [
    "The first case is the easy or garden path case, we have no conflicts and substitution is simple.\n"
   ]
  },
  {
   "cell_type": "code",
   "execution_count": 10,
   "id": "cell19",
   "metadata": {},
   "outputs": [
    {
     "data": {
      "text/latex": [
       "$$( \\lambda \\; x \\;.\\; ( \\lambda \\; z \\;.\\; x ) ) \\; y$$"
      ],
      "text/plain": [
       "v(λ['x'](λ['z']('x')), 'y')"
      ]
     },
     "execution_count": 10,
     "metadata": {},
     "output_type": "execute_result"
    }
   ],
   "source": [
    "A = λ['z']('x')\n",
    "B = v('y')\n",
    "λ['x']('x')\n",
    "\n",
    "λ['x'](A) | B\n"
   ]
  },
  {
   "cell_type": "code",
   "execution_count": 11,
   "id": "cell20",
   "metadata": {},
   "outputs": [
    {
     "data": {
      "text/latex": [
       "$$\\lambda \\; z \\;.\\; y$$"
      ],
      "text/plain": [
       "λ['z']('y')"
      ]
     },
     "execution_count": 11,
     "metadata": {},
     "output_type": "execute_result"
    }
   ],
   "source": [
    "(λ['x'](A) | B).nf()[0]\n"
   ]
  },
  {
   "cell_type": "markdown",
   "id": "cell21",
   "metadata": {},
   "source": [
    "Our next case is a bit harder: the variable $x$ in $A$ is bound as the abstraction variable. So it is not \"free\" or available for substitution. The right answer is: no substitution occurs, just a reduction.\n"
   ]
  },
  {
   "cell_type": "code",
   "execution_count": 12,
   "id": "cell22",
   "metadata": {},
   "outputs": [
    {
     "data": {
      "text/latex": [
       "$$( \\lambda \\; x \\;.\\; ( \\lambda \\; x \\;.\\; x ) ) \\; y$$"
      ],
      "text/plain": [
       "v(λ['x'](λ['x']('x')), 'y')"
      ]
     },
     "execution_count": 12,
     "metadata": {},
     "output_type": "execute_result"
    }
   ],
   "source": [
    "A = λ['x']('x')\n",
    "B = v('y')\n",
    "λ['x']('x')\n",
    "\n",
    "λ['x'](A) | B\n"
   ]
  },
  {
   "cell_type": "code",
   "execution_count": 13,
   "id": "cell23",
   "metadata": {},
   "outputs": [
    {
     "data": {
      "text/latex": [
       "$$\\lambda \\; x \\;.\\; x$$"
      ],
      "text/plain": [
       "λ['x']('x')"
      ]
     },
     "execution_count": 13,
     "metadata": {},
     "output_type": "execute_result"
    }
   ],
   "source": [
    "(λ['x'](A) | B).nf()[0]\n"
   ]
  },
  {
   "cell_type": "markdown",
   "id": "cell24",
   "metadata": {},
   "source": [
    "The final case is perhaps the most subtle one. Substituting $x$ into $y$ would collide with an outer abstraction variable. Such an incorrect substitution would wrongly change the constant function $\\lambda \\; x \\; . \\; y$ (that always returns $y$) into the semantically different identity function $\\lambda \\; x \\; . \\; x$ (that always returns its argument). To avoid this we must first rename $\\lambda \\; x \\; . \\; y$ to $\\lambda \\; v0 \\; . \\; y$, and then continue the substitution.\n",
    "\n",
    "We demonstrate this here.\n"
   ]
  },
  {
   "cell_type": "code",
   "execution_count": 14,
   "id": "cell25",
   "metadata": {},
   "outputs": [
    {
     "data": {
      "text/latex": [
       "$$\\lambda \\; v0 \\;.\\; x$$"
      ],
      "text/plain": [
       "λ['v0']('x')"
      ]
     },
     "execution_count": 14,
     "metadata": {},
     "output_type": "execute_result"
    }
   ],
   "source": [
    "λ[\"x\"](\"y\")._capture_avoiding_substitution(\n",
    "    var=v(\"y\"), \n",
    "    t=v(\"x\"), \n",
    "    new_name_source=NewNameSource(nms=('x', 'y'))\n",
    ")\n"
   ]
  },
  {
   "cell_type": "markdown",
   "id": "cell26",
   "metadata": {},
   "source": [
    "The above are the ugly issues in realizing the lambda calculus as re-write rules. The substitutions must involve collision avoidance. And this in turn involves re-scanning expressions for bound and unbound variables. The scanning itself is non-local (doesn't depend on a finite number of facts about any one node in the expression) and complicates the implementation and slows down the code. There are alternate variable naming conventions such as [De Bruijn indexing](https://en.wikipedia.org/wiki/De_Bruijn_index) that mitigate this issue, however even these symbols require non-constant sized context for interpretation.\n",
    "\n",
    "Normal form substitution involves choosing the top left-most reduction. Again, that is a non-local property of the expression.\n",
    "\n",
    "This raises the philosophical question of the lambda-calculus is *really* a set of local operations (like the operation of the state-head of a Turing machine is).\n"
   ]
  },
  {
   "cell_type": "markdown",
   "id": "cell27",
   "metadata": {},
   "source": [
    "## Data types\n",
    "\n",
    "The basic lambda calculus doesn't have *any* data types. Data types are simulated by building expressions that work as the data would.\n",
    "\n",
    "This is largely through known conventions. Certain expressions are taken to represent specific values. For example\n"
   ]
  },
  {
   "cell_type": "code",
   "execution_count": 15,
   "id": "cell28",
   "metadata": {},
   "outputs": [
    {
     "data": {
      "text/html": [
       "<table border=\"1\" class=\"dataframe\">\n",
       "  <thead>\n",
       "    <tr style=\"text-align: right;\">\n",
       "      <th></th>\n",
       "      <th>named form</th>\n",
       "      <th>Python representation</th>\n",
       "    </tr>\n",
       "  </thead>\n",
       "  <tbody>\n",
       "    <tr>\n",
       "      <th>0</th>\n",
       "      <td>TRUE</td>\n",
       "      <td>λ['x'](λ['y']('x'))</td>\n",
       "    </tr>\n",
       "    <tr>\n",
       "      <th>1</th>\n",
       "      <td>FALSE</td>\n",
       "      <td>λ['x'](λ['y']('y'))</td>\n",
       "    </tr>\n",
       "    <tr>\n",
       "      <th>2</th>\n",
       "      <td>N(0)</td>\n",
       "      <td>λ['f'](λ['x']('x'))</td>\n",
       "    </tr>\n",
       "    <tr>\n",
       "      <th>3</th>\n",
       "      <td>N(1)</td>\n",
       "      <td>λ['f'](λ['x']('f', 'x'))</td>\n",
       "    </tr>\n",
       "    <tr>\n",
       "      <th>4</th>\n",
       "      <td>N(2)</td>\n",
       "      <td>λ['f'](λ['x']('f', ('f', 'x')))</td>\n",
       "    </tr>\n",
       "    <tr>\n",
       "      <th>5</th>\n",
       "      <td>N(3)</td>\n",
       "      <td>λ['f'](λ['x']('f', ('f', ('f', 'x'))))</td>\n",
       "    </tr>\n",
       "  </tbody>\n",
       "</table>"
      ],
      "text/plain": [
       "<IPython.core.display.HTML object>"
      ]
     },
     "metadata": {},
     "output_type": "display_data"
    }
   ],
   "source": [
    "forms = [TRUE, FALSE, N(0), N(1), N(2), N(3)]\n",
    "display(HTML(pd.DataFrame({\n",
    "    'named form': [str(v) for v in forms],\n",
    "    'Python representation': [repr(v) for v in forms],\n",
    "}).to_html()))\n"
   ]
  },
  {
   "cell_type": "markdown",
   "id": "cell29",
   "metadata": {},
   "source": [
    "The convention is: when you see $\\lambda \\; f \\;.\\; ( \\lambda \\; x \\;.\\; f \\; (f \\; x))$ (possibly with variable name substitutions), you are supposed to think \"oh, that is a 2\".\n"
   ]
  },
  {
   "cell_type": "markdown",
   "id": "cell30",
   "metadata": {},
   "source": [
    "## Data as functions\n",
    "\n",
    "One of the tricks used to make the lambda calculus work is exploiting what expression is used to represent a given datum. \n"
   ]
  },
  {
   "cell_type": "markdown",
   "id": "cell31",
   "metadata": {},
   "source": [
    "### TRUE and FALSE\n",
    "\n",
    "The representations of TRUE and FALSE are picked so that TRUE selects the first thing after it and FALSE selects the second. This is easiest to see by example.\n"
   ]
  },
  {
   "cell_type": "code",
   "execution_count": 16,
   "id": "cell32",
   "metadata": {},
   "outputs": [
    {
     "data": {
      "text/latex": [
       "$$\\textbf{TRUE} \\; a \\; b$$"
      ],
      "text/plain": [
       "v((λ['x'](λ['y']('x')), 'a'), 'b')"
      ]
     },
     "execution_count": 16,
     "metadata": {},
     "output_type": "execute_result"
    }
   ],
   "source": [
    "expr = TRUE | 'a' | 'b'\n",
    "\n",
    "expr\n"
   ]
  },
  {
   "cell_type": "code",
   "execution_count": 17,
   "id": "cell33",
   "metadata": {},
   "outputs": [
    {
     "data": {
      "text/latex": [
       "$$a$$"
      ],
      "text/plain": [
       "v('a')"
      ]
     },
     "execution_count": 17,
     "metadata": {},
     "output_type": "execute_result"
    }
   ],
   "source": [
    "expr.nf()[0]\n"
   ]
  },
  {
   "cell_type": "code",
   "execution_count": 18,
   "id": "cell34",
   "metadata": {},
   "outputs": [
    {
     "data": {
      "text/latex": [
       "$$\\textbf{FALSE} \\; a \\; b$$"
      ],
      "text/plain": [
       "v((λ['x'](λ['y']('y')), 'a'), 'b')"
      ]
     },
     "execution_count": 18,
     "metadata": {},
     "output_type": "execute_result"
    }
   ],
   "source": [
    "expr = FALSE | 'a' | 'b'\n",
    "\n",
    "expr\n"
   ]
  },
  {
   "cell_type": "code",
   "execution_count": 19,
   "id": "cell35",
   "metadata": {},
   "outputs": [
    {
     "data": {
      "text/latex": [
       "$$b$$"
      ],
      "text/plain": [
       "v('b')"
      ]
     },
     "execution_count": 19,
     "metadata": {},
     "output_type": "execute_result"
    }
   ],
   "source": [
    "expr.nf()[0]\n"
   ]
  },
  {
   "cell_type": "markdown",
   "id": "cell36",
   "metadata": {},
   "source": [
    "### The Church numerals\n",
    "\n",
    "The Church numerals are picked to have useful properties. Tellingly: `0` is equivalent to `FALSE`. They both select their second following term.\n"
   ]
  },
  {
   "cell_type": "code",
   "execution_count": 20,
   "id": "cell37",
   "metadata": {},
   "outputs": [
    {
     "data": {
      "text/latex": [
       "$$b$$"
      ],
      "text/plain": [
       "v('b')"
      ]
     },
     "execution_count": 20,
     "metadata": {},
     "output_type": "execute_result"
    }
   ],
   "source": [
    "(N(0) | 'a' | 'b').nf()[0]\n"
   ]
  },
  {
   "cell_type": "markdown",
   "id": "cell38",
   "metadata": {},
   "source": [
    "`1` is not the same as `TRUE`. Instead we have `(k a b).nf()[0]` is `a` applied to `b` `k` times.\n"
   ]
  },
  {
   "cell_type": "code",
   "execution_count": 21,
   "id": "cell39",
   "metadata": {},
   "outputs": [
    {
     "data": {
      "text/latex": [
       "$$a \\; (a \\; (a \\; b))$$"
      ],
      "text/plain": [
       "v('a', ('a', ('a', 'b')))"
      ]
     },
     "execution_count": 21,
     "metadata": {},
     "output_type": "execute_result"
    }
   ],
   "source": [
    "(N(3) | 'a' | 'b').nf()[0]\n"
   ]
  },
  {
   "cell_type": "markdown",
   "id": "cell40",
   "metadata": {},
   "source": [
    "There is a traditional expression called `ISZERO` used to convert arbitrary Church numerals into a selector. \n"
   ]
  },
  {
   "cell_type": "code",
   "execution_count": 22,
   "id": "cell41",
   "metadata": {},
   "outputs": [
    {
     "data": {
      "text/latex": [
       "$\\displaystyle ( \\lambda \\; n \\;.\\; n \\; ( \\lambda \\; x \\;.\\; \\textbf{FALSE} ) \\; \\textbf{TRUE} )$"
      ],
      "text/plain": [
       "<IPython.core.display.Math object>"
      ]
     },
     "metadata": {},
     "output_type": "display_data"
    }
   ],
   "source": [
    "display_def(ISZERO)\n"
   ]
  },
  {
   "cell_type": "code",
   "execution_count": 23,
   "id": "cell42",
   "metadata": {},
   "outputs": [
    {
     "data": {
      "text/latex": [
       "$$a$$"
      ],
      "text/plain": [
       "v('a')"
      ]
     },
     "execution_count": 23,
     "metadata": {},
     "output_type": "execute_result"
    }
   ],
   "source": [
    "(ISZERO | N(0) | 'a' | 'b').nf()[0]\n"
   ]
  },
  {
   "cell_type": "code",
   "execution_count": 24,
   "id": "cell43",
   "metadata": {},
   "outputs": [
    {
     "data": {
      "text/latex": [
       "$$b$$"
      ],
      "text/plain": [
       "v('b')"
      ]
     },
     "execution_count": 24,
     "metadata": {},
     "output_type": "execute_result"
    }
   ],
   "source": [
    "(ISZERO | N(3) | 'a' | 'b').nf()[0]\n"
   ]
  },
  {
   "cell_type": "markdown",
   "id": "cell44",
   "metadata": {},
   "source": [
    "Some study will show `ISZERO` works in the following sequence:\n",
    "\n",
    "  * Copying the number to be compared to the left so it would be next to be executed in normal order.\n",
    "  * Expanding the Church humber on the left to get `k` copies of `(λx.FALSE)` applied followed by one copy of `TRUE`.\n",
    "    * If `k` is zero then that is just a `TRUE`.\n",
    "    * If `k` is greater than zero the `(λx.FALSE)`s plus `TRUE` collapses to a single `FALSE`.\n",
    "  * This remaining `FALSE` or `TRUE` is then applied to the next two arguments to select the first or second.\n"
   ]
  },
  {
   "cell_type": "markdown",
   "id": "cell45",
   "metadata": {},
   "source": [
    "The above exposes a key point on the lambda calculus. Code written in it is not referentially transparent. The exact code depends on the exact function used to represent things. We can't replace the numerals with other representations without re-writing manu functions such as ISZERO. Also the language is very typeless. It is impossible to say if a variable holds a value, a function, or something in-between. Using functions to represent data seems harmless. But it entails the very constraining use of data representations as functions.\n"
   ]
  },
  {
   "cell_type": "markdown",
   "id": "cell46",
   "metadata": {},
   "source": [
    "## Additional functions\n",
    "\n",
    "We can define some additional functions such as predecessor.\n"
   ]
  },
  {
   "cell_type": "code",
   "execution_count": 25,
   "id": "cell47",
   "metadata": {},
   "outputs": [
    {
     "data": {
      "text/latex": [
       "$\\displaystyle ( \\lambda \\; n \\;.\\; ( \\lambda \\; f \\;.\\; ( \\lambda \\; x \\;.\\; n \\; ( \\lambda \\; g \\;.\\; ( \\lambda \\; h \\;.\\; h \\; (g \\; f) ) ) \\; ( \\lambda \\; u \\;.\\; x ) \\; ( \\lambda \\; u \\;.\\; u ) ) ) )$"
      ],
      "text/plain": [
       "<IPython.core.display.Math object>"
      ]
     },
     "metadata": {},
     "output_type": "display_data"
    }
   ],
   "source": [
    "display_def(PRED)\n"
   ]
  },
  {
   "cell_type": "markdown",
   "id": "cell48",
   "metadata": {},
   "source": [
    "Let's see predecessor in action\n"
   ]
  },
  {
   "cell_type": "code",
   "execution_count": 26,
   "id": "cell49",
   "metadata": {},
   "outputs": [
    {
     "data": {
      "text/latex": [
       "$$\\mathbf{2}$$"
      ],
      "text/plain": [
       "λ['f'](λ['x']('f', ('f', 'x')))"
      ]
     },
     "execution_count": 26,
     "metadata": {},
     "output_type": "execute_result"
    }
   ],
   "source": [
    "(PRED | N(3)).nf()[0]\n"
   ]
  },
  {
   "cell_type": "markdown",
   "id": "cell50",
   "metadata": {},
   "source": [
    "Let's see that again slowed down a bit.\n"
   ]
  },
  {
   "cell_type": "code",
   "execution_count": 27,
   "id": "cell51",
   "metadata": {},
   "outputs": [],
   "source": [
    "def run_beta_reduction(t: Term) -> Term:\n",
    "    display(Math(t.to_latex()))\n",
    "    last_t = None\n",
    "    while True:\n",
    "        t = t.r()\n",
    "        if t == last_t:\n",
    "            return t\n",
    "        display(Math(t.to_latex()))\n",
    "        last_t = t\n"
   ]
  },
  {
   "cell_type": "code",
   "execution_count": 28,
   "id": "cell52",
   "metadata": {},
   "outputs": [
    {
     "data": {
      "text/latex": [
       "$\\displaystyle \\textbf{PRED} \\; \\mathbf{3}$"
      ],
      "text/plain": [
       "<IPython.core.display.Math object>"
      ]
     },
     "metadata": {},
     "output_type": "display_data"
    },
    {
     "data": {
      "text/latex": [
       "$\\displaystyle ( \\lambda \\; f \\;.\\; ( \\lambda \\; x \\;.\\; \\mathbf{3} \\; ( \\lambda \\; g \\;.\\; ( \\lambda \\; h \\;.\\; h \\; (g \\; f) ) ) \\; ( \\lambda \\; u \\;.\\; x ) \\; ( \\lambda \\; u \\;.\\; u ) ) )$"
      ],
      "text/plain": [
       "<IPython.core.display.Math object>"
      ]
     },
     "metadata": {},
     "output_type": "display_data"
    },
    {
     "data": {
      "text/latex": [
       "$\\displaystyle ( \\lambda \\; f \\;.\\; ( \\lambda \\; x \\;.\\; ( \\lambda \\; x \\;.\\; ( \\lambda \\; g \\;.\\; ( \\lambda \\; h \\;.\\; h \\; (g \\; f) ) ) \\; (( \\lambda \\; g \\;.\\; ( \\lambda \\; h \\;.\\; h \\; (g \\; f) ) ) \\; (( \\lambda \\; g \\;.\\; ( \\lambda \\; h \\;.\\; h \\; (g \\; f) ) ) \\; x)) ) \\; ( \\lambda \\; u \\;.\\; x ) \\; ( \\lambda \\; u \\;.\\; u ) ) )$"
      ],
      "text/plain": [
       "<IPython.core.display.Math object>"
      ]
     },
     "metadata": {},
     "output_type": "display_data"
    },
    {
     "data": {
      "text/latex": [
       "$\\displaystyle ( \\lambda \\; f \\;.\\; ( \\lambda \\; x \\;.\\; ( \\lambda \\; g \\;.\\; ( \\lambda \\; h \\;.\\; h \\; (g \\; f) ) ) \\; (( \\lambda \\; g \\;.\\; ( \\lambda \\; h \\;.\\; h \\; (g \\; f) ) ) \\; (( \\lambda \\; g \\;.\\; ( \\lambda \\; h \\;.\\; h \\; (g \\; f) ) ) \\; ( \\lambda \\; u \\;.\\; x ))) \\; ( \\lambda \\; u \\;.\\; u ) ) )$"
      ],
      "text/plain": [
       "<IPython.core.display.Math object>"
      ]
     },
     "metadata": {},
     "output_type": "display_data"
    },
    {
     "data": {
      "text/latex": [
       "$\\displaystyle ( \\lambda \\; f \\;.\\; ( \\lambda \\; x \\;.\\; ( \\lambda \\; h \\;.\\; h \\; (( \\lambda \\; g \\;.\\; ( \\lambda \\; h \\;.\\; h \\; (g \\; f) ) ) \\; (( \\lambda \\; g \\;.\\; ( \\lambda \\; h \\;.\\; h \\; (g \\; f) ) ) \\; ( \\lambda \\; u \\;.\\; x )) \\; f) ) \\; ( \\lambda \\; u \\;.\\; u ) ) )$"
      ],
      "text/plain": [
       "<IPython.core.display.Math object>"
      ]
     },
     "metadata": {},
     "output_type": "display_data"
    },
    {
     "data": {
      "text/latex": [
       "$\\displaystyle ( \\lambda \\; f \\;.\\; ( \\lambda \\; x \\;.\\; ( \\lambda \\; u \\;.\\; u ) \\; (( \\lambda \\; g \\;.\\; ( \\lambda \\; h \\;.\\; h \\; (g \\; f) ) ) \\; (( \\lambda \\; g \\;.\\; ( \\lambda \\; h \\;.\\; h \\; (g \\; f) ) ) \\; ( \\lambda \\; u \\;.\\; x )) \\; f) ) )$"
      ],
      "text/plain": [
       "<IPython.core.display.Math object>"
      ]
     },
     "metadata": {},
     "output_type": "display_data"
    },
    {
     "data": {
      "text/latex": [
       "$\\displaystyle ( \\lambda \\; f \\;.\\; ( \\lambda \\; x \\;.\\; ( \\lambda \\; g \\;.\\; ( \\lambda \\; h \\;.\\; h \\; (g \\; f) ) ) \\; (( \\lambda \\; g \\;.\\; ( \\lambda \\; h \\;.\\; h \\; (g \\; f) ) ) \\; ( \\lambda \\; u \\;.\\; x )) \\; f ) )$"
      ],
      "text/plain": [
       "<IPython.core.display.Math object>"
      ]
     },
     "metadata": {},
     "output_type": "display_data"
    },
    {
     "data": {
      "text/latex": [
       "$\\displaystyle ( \\lambda \\; f \\;.\\; ( \\lambda \\; x \\;.\\; ( \\lambda \\; h \\;.\\; h \\; (( \\lambda \\; g \\;.\\; ( \\lambda \\; h \\;.\\; h \\; (g \\; f) ) ) \\; ( \\lambda \\; u \\;.\\; x ) \\; f) ) \\; f ) )$"
      ],
      "text/plain": [
       "<IPython.core.display.Math object>"
      ]
     },
     "metadata": {},
     "output_type": "display_data"
    },
    {
     "data": {
      "text/latex": [
       "$\\displaystyle ( \\lambda \\; f \\;.\\; ( \\lambda \\; x \\;.\\; f \\; (( \\lambda \\; g \\;.\\; ( \\lambda \\; h \\;.\\; h \\; (g \\; f) ) ) \\; ( \\lambda \\; u \\;.\\; x ) \\; f) ) )$"
      ],
      "text/plain": [
       "<IPython.core.display.Math object>"
      ]
     },
     "metadata": {},
     "output_type": "display_data"
    },
    {
     "data": {
      "text/latex": [
       "$\\displaystyle ( \\lambda \\; f \\;.\\; ( \\lambda \\; x \\;.\\; f \\; (( \\lambda \\; h \\;.\\; h \\; (( \\lambda \\; u \\;.\\; x ) \\; f) ) \\; f) ) )$"
      ],
      "text/plain": [
       "<IPython.core.display.Math object>"
      ]
     },
     "metadata": {},
     "output_type": "display_data"
    },
    {
     "data": {
      "text/latex": [
       "$\\displaystyle ( \\lambda \\; f \\;.\\; ( \\lambda \\; x \\;.\\; f \\; (f \\; (( \\lambda \\; u \\;.\\; x ) \\; f)) ) )$"
      ],
      "text/plain": [
       "<IPython.core.display.Math object>"
      ]
     },
     "metadata": {},
     "output_type": "display_data"
    },
    {
     "data": {
      "text/latex": [
       "$\\displaystyle \\mathbf{2}$"
      ],
      "text/plain": [
       "<IPython.core.display.Math object>"
      ]
     },
     "metadata": {},
     "output_type": "display_data"
    },
    {
     "data": {
      "text/latex": [
       "$$\\mathbf{2}$$"
      ],
      "text/plain": [
       "λ['f'](λ['x']('f', ('f', 'x')))"
      ]
     },
     "execution_count": 28,
     "metadata": {},
     "output_type": "execute_result"
    }
   ],
   "source": [
    "run_beta_reduction(PRED | N(3))\n"
   ]
  },
  {
   "cell_type": "markdown",
   "id": "cell53",
   "metadata": {},
   "source": [
    "It requires a great number of intermediate steps to get from 3 to 2.\n"
   ]
  },
  {
   "cell_type": "markdown",
   "id": "cell54",
   "metadata": {},
   "source": [
    "## Combinators\n",
    "\n",
    "We have not yet defined how to apply an operation more than a constant number of times. That is what we will now pursue.\n",
    "\n",
    "To get repetition, iteration, or recursion we need a trick called \"combinators.\" These are operators that copy sections of lambda expressions to implement recursion and iteration.\n"
   ]
  },
  {
   "cell_type": "markdown",
   "id": "cell55",
   "metadata": {},
   "source": [
    "### The Y combinator\n",
    "\n",
    "The most famous combinator is the Y combinator.\n"
   ]
  },
  {
   "cell_type": "code",
   "execution_count": 29,
   "id": "cell56",
   "metadata": {},
   "outputs": [
    {
     "data": {
      "text/latex": [
       "$\\displaystyle ( \\lambda \\; f \\;.\\; ( \\lambda \\; x \\;.\\; f \\; (x \\; x) ) \\; ( \\lambda \\; x \\;.\\; f \\; (x \\; x) ) )$"
      ],
      "text/plain": [
       "<IPython.core.display.Math object>"
      ]
     },
     "metadata": {},
     "output_type": "display_data"
    }
   ],
   "source": [
    "display_def(Y)\n"
   ]
  },
  {
   "cell_type": "markdown",
   "id": "cell57",
   "metadata": {},
   "source": [
    "It works like this.\n"
   ]
  },
  {
   "cell_type": "code",
   "execution_count": 30,
   "id": "cell58",
   "metadata": {},
   "outputs": [
    {
     "data": {
      "text/latex": [
       "$$\\textbf{Y} \\; a$$"
      ],
      "text/plain": [
       "v(λ['f'](λ['x']('f', ('x', 'x')), λ['x']('f', ('x', 'x'))), 'a')"
      ]
     },
     "execution_count": 30,
     "metadata": {},
     "output_type": "execute_result"
    }
   ],
   "source": [
    "t = Y | v('a')\n",
    "\n",
    "t\n"
   ]
  },
  {
   "cell_type": "markdown",
   "id": "cell59",
   "metadata": {},
   "source": [
    "A first reduction step specializes Y by capturing the argument \"a\".\n"
   ]
  },
  {
   "cell_type": "code",
   "execution_count": 31,
   "id": "cell60",
   "metadata": {},
   "outputs": [
    {
     "data": {
      "text/latex": [
       "$$( \\lambda \\; x \\;.\\; a \\; (x \\; x) ) \\; ( \\lambda \\; x \\;.\\; a \\; (x \\; x) )$$"
      ],
      "text/plain": [
       "v(λ['x']('a', ('x', 'x')), λ['x']('a', ('x', 'x')))"
      ]
     },
     "execution_count": 31,
     "metadata": {},
     "output_type": "execute_result"
    }
   ],
   "source": [
    "t =  t.r()\n",
    "\n",
    "t\n"
   ]
  },
  {
   "cell_type": "markdown",
   "id": "cell61",
   "metadata": {},
   "source": [
    "From then on repeated reductions create copies of \"a\" on the left.\n"
   ]
  },
  {
   "cell_type": "code",
   "execution_count": 32,
   "id": "cell62",
   "metadata": {},
   "outputs": [
    {
     "data": {
      "text/latex": [
       "$$a \\; (( \\lambda \\; x \\;.\\; a \\; (x \\; x) ) \\; ( \\lambda \\; x \\;.\\; a \\; (x \\; x) ))$$"
      ],
      "text/plain": [
       "v('a', (λ['x']('a', ('x', 'x')), λ['x']('a', ('x', 'x'))))"
      ]
     },
     "execution_count": 32,
     "metadata": {},
     "output_type": "execute_result"
    }
   ],
   "source": [
    "t = t.r()\n",
    "\n",
    "t\n"
   ]
  },
  {
   "cell_type": "code",
   "execution_count": 33,
   "id": "cell63",
   "metadata": {},
   "outputs": [
    {
     "data": {
      "text/latex": [
       "$$a \\; (a \\; (( \\lambda \\; x \\;.\\; a \\; (x \\; x) ) \\; ( \\lambda \\; x \\;.\\; a \\; (x \\; x) )))$$"
      ],
      "text/plain": [
       "v('a', ('a', (λ['x']('a', ('x', 'x')), λ['x']('a', ('x', 'x')))))"
      ]
     },
     "execution_count": 33,
     "metadata": {},
     "output_type": "execute_result"
    }
   ],
   "source": [
    "t = t.r()\n",
    "\n",
    "t\n"
   ]
  },
  {
   "cell_type": "markdown",
   "id": "cell64",
   "metadata": {},
   "source": [
    "### The Θ combinator\n",
    "\n",
    "Turing defined a similar combinator called \"Θ\". It reproduces its argument, like the Y combinator, but doesn't specialize.\n"
   ]
  },
  {
   "cell_type": "code",
   "execution_count": 34,
   "id": "cell65",
   "metadata": {},
   "outputs": [
    {
     "data": {
      "text/latex": [
       "$\\displaystyle ( \\lambda \\; x \\;.\\; ( \\lambda \\; y \\;.\\; y \\; (x \\; x \\; y) ) ) \\; ( \\lambda \\; x \\;.\\; ( \\lambda \\; y \\;.\\; y \\; (x \\; x \\; y) ) )$"
      ],
      "text/plain": [
       "<IPython.core.display.Math object>"
      ]
     },
     "metadata": {},
     "output_type": "display_data"
    }
   ],
   "source": [
    "# Theta combinator\n",
    "# https://www.pls-lab.org/en/Theta_combinator\n",
    "# Θ≜(λxy.y(xxy))(λxy.y(xxy))\n",
    "\n",
    "\n",
    "display_def(Θ)\n"
   ]
  },
  {
   "cell_type": "code",
   "execution_count": 35,
   "id": "cell66",
   "metadata": {},
   "outputs": [
    {
     "data": {
      "text/latex": [
       "$$\\mathbf{\\theta} \\; a$$"
      ],
      "text/plain": [
       "v((λ['x'](λ['y']('y', (('x', 'x'), 'y'))), λ['x'](λ['y']('y', (('x', 'x'), 'y')))), 'a')"
      ]
     },
     "execution_count": 35,
     "metadata": {},
     "output_type": "execute_result"
    }
   ],
   "source": [
    "t = Θ | v('a')\n",
    "\n",
    "t\n"
   ]
  },
  {
   "cell_type": "markdown",
   "id": "cell67",
   "metadata": {},
   "source": [
    "Every two reduction steps the Θ reconstructs itself and copies its argument to the left.\n"
   ]
  },
  {
   "cell_type": "code",
   "execution_count": 36,
   "id": "cell68",
   "metadata": {},
   "outputs": [
    {
     "data": {
      "text/latex": [
       "$$( \\lambda \\; y \\;.\\; y \\; (\\mathbf{\\theta} \\; y) ) \\; a$$"
      ],
      "text/plain": [
       "v(λ['y']('y', ((λ['x'](λ['y']('y', (('x', 'x'), 'y'))), λ['x'](λ['y']('y', (('x', 'x'), 'y')))), 'y')), 'a')"
      ]
     },
     "execution_count": 36,
     "metadata": {},
     "output_type": "execute_result"
    }
   ],
   "source": [
    "t = t.r()\n",
    "\n",
    "t\n"
   ]
  },
  {
   "cell_type": "code",
   "execution_count": 37,
   "id": "cell69",
   "metadata": {},
   "outputs": [
    {
     "data": {
      "text/latex": [
       "$$a \\; (\\mathbf{\\theta} \\; a)$$"
      ],
      "text/plain": [
       "v('a', ((λ['x'](λ['y']('y', (('x', 'x'), 'y'))), λ['x'](λ['y']('y', (('x', 'x'), 'y')))), 'a'))"
      ]
     },
     "execution_count": 37,
     "metadata": {},
     "output_type": "execute_result"
    }
   ],
   "source": [
    "t = t.r()\n",
    "\n",
    "t\n"
   ]
  },
  {
   "cell_type": "markdown",
   "id": "cell70",
   "metadata": {},
   "source": [
    "Now, as normal form reductions apply to the top and left of the expression tree, if $a$ had any potential reductions they would be applied before the combinator fires again. Ideas such as \"move left to delegate\" and \"copy to iterator or recurse\" are central to designing procedures in the lambda calculus.\n"
   ]
  },
  {
   "cell_type": "markdown",
   "id": "cell71",
   "metadata": {},
   "source": [
    "## Iterating\n",
    "\n",
    "We can use either of the combinators to implement an iterative algorithm such as [factorial](https://en.wikipedia.org/wiki/Factorial).\n"
   ]
  },
  {
   "cell_type": "code",
   "execution_count": 38,
   "id": "cell72",
   "metadata": {},
   "outputs": [
    {
     "data": {
      "text/latex": [
       "$\\displaystyle ( \\lambda \\; g \\;.\\; ( \\lambda \\; x \\;.\\; \\textbf{ISZERO} \\; x \\; \\mathbf{1} \\; (\\mathbf{\\times} \\; x \\; (g \\; (\\textbf{PRED} \\; x))) ) )$"
      ],
      "text/plain": [
       "<IPython.core.display.Math object>"
      ]
     },
     "metadata": {},
     "output_type": "display_data"
    }
   ],
   "source": [
    "# https://jwodder.freeshell.org/lambda.html\n",
    "display_def(FACTORIALstep)\n"
   ]
  },
  {
   "cell_type": "markdown",
   "id": "cell73",
   "metadata": {},
   "source": [
    "`FACTORIALstep` is the most complicated expression we have yet defined. It captures the combinator in `g` and the factorial argument in `x`. `ISZERO` either returns the base case `1` (throwing away the combinator and ending the calculation), or expands the `g (PRED x)` argument, applying the function and combinator to the predecessor of `x`.\n",
    "\n",
    "Let's run an example.\n"
   ]
  },
  {
   "cell_type": "code",
   "execution_count": 39,
   "id": "cell74",
   "metadata": {},
   "outputs": [
    {
     "data": {
      "text/latex": [
       "$$\\textbf{Y} \\; \\textbf{!step} \\; \\mathbf{4}$$"
      ],
      "text/plain": [
       "v((λ['f'](λ['x']('f', ('x', 'x')), λ['x']('f', ('x', 'x'))), λ['g'](λ['x'](((λ['n'](('n', λ['x'](λ['x'](λ['y']('y')))), λ['x'](λ['y']('x'))), 'x'), λ['f'](λ['x']('f', 'x'))), ((λ['m'](λ['n'](λ['f'](λ['x'](('m', ('n', 'f')), 'x')))), 'x'), ('g', (λ['n'](λ['f'](λ['x']((('n', λ['g'](λ['h']('h', ('g', 'f')))), λ['u']('x')), λ['u']('u')))), 'x')))))), λ['f'](λ['x']('f', ('f', ('f', ('f', 'x'))))))"
      ]
     },
     "execution_count": 39,
     "metadata": {},
     "output_type": "execute_result"
    }
   ],
   "source": [
    "t = Y | FACTORIALstep | N(4)\n",
    "\n",
    "t\n"
   ]
  },
  {
   "cell_type": "markdown",
   "id": "cell75",
   "metadata": {},
   "source": [
    "Combining this code computes the factorial function.\n"
   ]
  },
  {
   "cell_type": "code",
   "execution_count": 40,
   "id": "cell76",
   "metadata": {},
   "outputs": [
    {
     "data": {
      "text/latex": [
       "$$\\mathbf{24}$$"
      ],
      "text/plain": [
       "λ['f'](λ['x']('f', ('f', ('f', ('f', ('f', ('f', ('f', ('f', ('f', ('f', ('f', ('f', ('f', ('f', ('f', ('f', ('f', ('f', ('f', ('f', ('f', ('f', ('f', ('f', 'x')))))))))))))))))))))))))"
      ]
     },
     "execution_count": 40,
     "metadata": {},
     "output_type": "execute_result"
    }
   ],
   "source": [
    "t.nf()[0]\n"
   ]
  },
  {
   "cell_type": "markdown",
   "id": "cell77",
   "metadata": {},
   "source": [
    "And that is the right answer.\n",
    "\n",
    "Again, we are using the normal beta reduction order: always using the highest left-most available reduction. We will talk on reduction roder a bit more later.\n",
    "\n",
    "Let's count how many steps this took.\n"
   ]
  },
  {
   "cell_type": "code",
   "execution_count": 41,
   "id": "cell78",
   "metadata": {},
   "outputs": [
    {
     "data": {
      "text/latex": [
       "$$\\mathbf{24}$$"
      ],
      "text/plain": [
       "λ['f'](λ['x']('f', ('f', ('f', ('f', ('f', ('f', ('f', ('f', ('f', ('f', ('f', ('f', ('f', ('f', ('f', ('f', ('f', ('f', ('f', ('f', ('f', ('f', ('f', ('f', 'x')))))))))))))))))))))))))"
      ]
     },
     "execution_count": 41,
     "metadata": {},
     "output_type": "execute_result"
    }
   ],
   "source": [
    "res, steps = t.nf()\n",
    "\n",
    "res\n"
   ]
  },
  {
   "cell_type": "code",
   "execution_count": 42,
   "id": "cell79",
   "metadata": {},
   "outputs": [
    {
     "data": {
      "text/plain": [
       "{'steps': 3914}"
      ]
     },
     "execution_count": 42,
     "metadata": {},
     "output_type": "execute_result"
    }
   ],
   "source": [
    "{'steps': steps}\n"
   ]
  },
  {
   "cell_type": "markdown",
   "id": "cell80",
   "metadata": {},
   "source": [
    "It took a lot of steps to get to 24.\n"
   ]
  },
  {
   "cell_type": "markdown",
   "id": "cell81",
   "metadata": {},
   "source": [
    "## Reduction order\n",
    "\n",
    "The reduction rule we are using is the normal order: always top left most available beta-reduction. This is the \"lazy evaluation\" order where arguments that are not used are not expanded. The advantage of normal reduction order is it can throw away poison arguments such as in the following. The disadvantage is arguments are passed around unevaluated, so the grow and they get re-computed when re-used.\n"
   ]
  },
  {
   "cell_type": "markdown",
   "id": "cell82",
   "metadata": {},
   "source": [
    "## Deterministic calculation\n",
    "\n",
    "Not all lambda expressions reduce to a normal form. Some iterate forever. So grow, some oscillate, and some have arbitrarily complicated behavior. In fact determining if a form reduces to a normal form is undecidable.\n",
    "\n",
    "A typical such poison form is the following (in analogy to [Conway's Game of Life](https://en.wikipedia.org/wiki/Conway%27s_Game_of_Life) blinker).\n"
   ]
  },
  {
   "cell_type": "code",
   "execution_count": 43,
   "id": "cell83",
   "metadata": {},
   "outputs": [
    {
     "data": {
      "text/latex": [
       "$$( \\lambda \\; x \\;.\\; ( \\lambda \\; y \\;.\\; y \\; x \\; y ) ) \\; ( \\lambda \\; x \\;.\\; ( \\lambda \\; y \\;.\\; y \\; x \\; y ) ) \\; ( \\lambda \\; x \\;.\\; ( \\lambda \\; y \\;.\\; y \\; x \\; y ) )$$"
      ],
      "text/plain": [
       "v((λ['x'](λ['y'](('y', 'x'), 'y')), λ['x'](λ['y'](('y', 'x'), 'y'))), λ['x'](λ['y'](('y', 'x'), 'y')))"
      ]
     },
     "execution_count": 43,
     "metadata": {},
     "output_type": "execute_result"
    }
   ],
   "source": [
    "a = λ['x', 'y']('y', 'x', 'y')\n",
    "blinker = a | a | a\n",
    "\n",
    "blinker\n"
   ]
  },
  {
   "cell_type": "code",
   "execution_count": 44,
   "id": "cell84",
   "metadata": {},
   "outputs": [
    {
     "data": {
      "text/latex": [
       "$$( \\lambda \\; y \\;.\\; y \\; ( \\lambda \\; x \\;.\\; ( \\lambda \\; y \\;.\\; y \\; x \\; y ) ) \\; y ) \\; ( \\lambda \\; x \\;.\\; ( \\lambda \\; y \\;.\\; y \\; x \\; y ) )$$"
      ],
      "text/plain": [
       "v(λ['y'](('y', λ['x'](λ['y'](('y', 'x'), 'y'))), 'y'), λ['x'](λ['y'](('y', 'x'), 'y')))"
      ]
     },
     "execution_count": 44,
     "metadata": {},
     "output_type": "execute_result"
    }
   ],
   "source": [
    "assert blinker.r() != blinker\n",
    "\n",
    "blinker.r()\n"
   ]
  },
  {
   "cell_type": "code",
   "execution_count": 45,
   "id": "cell85",
   "metadata": {},
   "outputs": [
    {
     "data": {
      "text/latex": [
       "$$( \\lambda \\; x \\;.\\; ( \\lambda \\; y \\;.\\; y \\; x \\; y ) ) \\; ( \\lambda \\; x \\;.\\; ( \\lambda \\; y \\;.\\; y \\; x \\; y ) ) \\; ( \\lambda \\; x \\;.\\; ( \\lambda \\; y \\;.\\; y \\; x \\; y ) )$$"
      ],
      "text/plain": [
       "v((λ['x'](λ['y'](('y', 'x'), 'y')), λ['x'](λ['y'](('y', 'x'), 'y'))), λ['x'](λ['y'](('y', 'x'), 'y')))"
      ]
     },
     "execution_count": 45,
     "metadata": {},
     "output_type": "execute_result"
    }
   ],
   "source": [
    "assert blinker.r().r() == blinker\n",
    "\n",
    "blinker.r().r()\n"
   ]
  },
  {
   "cell_type": "markdown",
   "id": "cell86",
   "metadata": {},
   "source": [
    "For substitutions that do stabilize, the Church–Rosser theorem states we can get to a canonical ending form by applying the beta-reductions in normal oder. Which is what we do. This establishes two things:\n",
    "\n",
    "  1) If any sequence terminates, then the normal order one does.\n",
    "  2) All terminating expressions are equivalent.\n",
    "\n",
    "What this is saying: the re-writing rules are safe to use.\n",
    "\n",
    "An example of an unsafe rule set would be the following two rules:\n",
    "\n",
    "  1) For a tuple \"A B\" delete the left item.\n",
    "  2) For a tuple \"A B\" delete the right item.\n",
    "\n",
    "One rules finalizes \"`A B`\" to \"`B`\", and the other finalizes  \"`A B`\" to \"`A`\". This produces different answers depending execution order. The lambda calculus does not have this flaw. If the evaluation halts, then it halts in single form (up to some name equivalences). This is called \"confluence\" in evaluation. Thus we know the above two rule system can not be implemented in the lambda calculus.\n",
    "\n",
    "A key benefit of the lambda calculus is: if one can argue another more powerful evaluation system *could* be implemented by the lambda calculus, then that system is also confluent. We don't need the implementation to know that, we just need to know it *could* be implemented.\n"
   ]
  },
  {
   "cell_type": "markdown",
   "id": "cell87",
   "metadata": {},
   "source": [
    "## Encodings\n",
    "\n",
    "How one encodes a lambda expression has been of central interest to researchers. In particular there is great interest in the circularity of such representations.\n",
    "\n",
    "The lamba calculus can represent:\n",
    "\n",
    "  * Non-negative integers by the Church numerals.\n",
    "  * Lists by associative construction.\n",
    "  * Strings by sequential lists.\n",
    "  * Binary strings through sequences of `TRUE`/`FALSE`.\n",
    "  * Combinators through replacement rules.\n",
    "\n",
    "Conversely the following systems can encode the lambda calculus.\n",
    "\n",
    "  * Non-negativer integers by Gödel encoding (see Alonzo Church, \"An Unsolvable Problem of Elementary Number Theory\", American Journal of Mathematics, Vol. 58, No. 2. (Apr., 1936), pp. 345-363.). The lambda calculus needs an infinite set for representation, and the non-negative integers are considered to be among the simplest such sets.\n",
    "  * Lists/trees: such as Lisp's `car`/`cdr` system or the demonstrated tree of Python objects.\n",
    "  * Strings. To us this is obvious in the sense we expect programs to have source code. However this opinion likely derives from institutional experience with the lambda calculus.\n",
    "  * Binary strings, which are a more familiar structure in the digital computer age. An amazing variation of the lambda calculus is the John Tromp's [binary lambda calculus](https://tromp.github.io/cl/Binary_lambda_calculus.html). Links:\n",
    "    * [esolangs, \"Binary lambda calculus\"](https://esolangs.org/wiki/Binary_lambda_calculus#self-interpreter)\n",
    "    * [Tromp, \"Binary Lambda Calculus\"](https://tromp.github.io/cl/Binary_lambda_calculus.html)\n",
    "    * [John's Combinatory Logic Playground](https://tromp.github.io/cl/cl.html)\n",
    "    * [blc interpeter](https://github.com/tromp/AIT/blob/master/uni.c)\n",
    "  * [Combinator calculus](https://en.wikipedia.org/wiki/SKI_combinator_calculus) via abstraction elimination.\n"
   ]
  },
  {
   "cell_type": "markdown",
   "id": "cell88",
   "metadata": {},
   "source": [
    "## Conclusion\n",
    "\n",
    "It is always seems a surprise how many steps were needed to execute examples. Part of that is the primitive nature of the operations and a great part of that is consequence of lazy evaluation.\n",
    "\n",
    "The lambda calculus was used by Church and others to simplify examples of undecidable assertions about calculation and decisions. The embeddings of the lambda calculus into other systems the simplifies demonstrating undecidable assertions in those systems. So it should not be too shocking that the lambda calculus is difficult to evaluate, it was designed to capture difficulty.\n",
    "\n",
    "Programs are useful because a large subset of them do in fact terminate with useful results. The lambda calculus is not a good encoding for these useful programs, it is more useful for discussing common pathological cases in terms of simple primitives.\n",
    "\n",
    "Links:\n",
    "\n",
    "  * [Announcement/discussion](https://win-vector.com/2025/05/29/toying-with-the-lambda-calculus/)\n",
    "  * Source code [lambda_calc.py](lambda_calc.py)\n",
    "  * Unit test [tests/test_lambda.py](tests/test_lambda.py)\n",
    "  * GCD exampe [div.ipynb](div.ipynb).\n",
    "\n"
   ]
  }
 ],
 "metadata": {
  "kernelspec": {
   "display_name": "prob_env",
   "language": "python",
   "name": "python3"
  },
  "language_info": {
   "codemirror_mode": {
    "name": "ipython",
    "version": 3
   },
   "file_extension": ".py",
   "mimetype": "text/x-python",
   "name": "python",
   "nbconvert_exporter": "python",
   "pygments_lexer": "ipython3",
   "version": "3.11.11"
  }
 },
 "nbformat": 4,
 "nbformat_minor": 5
}
