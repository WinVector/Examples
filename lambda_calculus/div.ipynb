{
 "cells": [
  {
   "cell_type": "markdown",
   "id": "14540031",
   "metadata": {},
   "source": [
    "Example arithmetic using the lambda calculus."
   ]
  },
  {
   "cell_type": "code",
   "execution_count": 1,
   "id": "0c4fb12f",
   "metadata": {},
   "outputs": [],
   "source": [
    "import time\n",
    "from lambda_calc import *\n",
    "\n",
    "load_common_aliases()"
   ]
  },
  {
   "cell_type": "code",
   "execution_count": 2,
   "id": "26a2b36d",
   "metadata": {},
   "outputs": [],
   "source": [
    "dividend = N(14)\n",
    "divisor = N(3)"
   ]
  },
  {
   "cell_type": "code",
   "execution_count": 3,
   "id": "d5215aa9",
   "metadata": {},
   "outputs": [
    {
     "data": {
      "text/latex": [
       "$$\\textbf{DIV} \\; \\mathbf{14} \\; \\mathbf{3}$$"
      ],
      "text/plain": [
       "v((((λ['f'](λ['x']('f', ('x', 'x')), λ['x']('f', ('x', 'x'))), λ['g'](λ['q'](λ['a'](λ['b']((((λ['a'](λ['b'](λ['p'](λ['a'](λ['b'](('p', 'b'), 'a'))), ((λ['m'](λ['n'](λ['n'](('n', λ['x'](λ['x'](λ['y']('y')))), λ['x'](λ['y']('x'))), ((λ['m'](λ['n'](('n', λ['n'](λ['f'](λ['x']((('n', λ['g'](λ['h']('h', ('g', 'f')))), λ['u']('x')), λ['u']('u'))))), 'm')), 'm'), 'n'))), 'b'), 'a'))), 'a'), 'b'), ((λ['x'](λ['y'](λ['f'](('f', 'x'), 'y'))), 'q'), 'a')), ((('g', (λ['n'](λ['f'](λ['x']('f', (('n', 'f'), 'x')))), 'q')), ((λ['m'](λ['n'](('n', λ['n'](λ['f'](λ['x']((('n', λ['g'](λ['h']('h', ('g', 'f')))), λ['u']('x')), λ['u']('u'))))), 'm')), 'a'), 'b')), 'b')))))), λ['f'](λ['x']('x'))), λ['f'](λ['x']('f', ('f', ('f', ('f', ('f', ('f', ('f', ('f', ('f', ('f', ('f', ('f', ('f', ('f', 'x')))))))))))))))), λ['f'](λ['x']('f', ('f', ('f', 'x')))))"
      ]
     },
     "execution_count": 3,
     "metadata": {},
     "output_type": "execute_result"
    }
   ],
   "source": [
    "expr = DIV | dividend | divisor\n",
    "\n",
    "expr"
   ]
  },
  {
   "cell_type": "code",
   "execution_count": 4,
   "id": "c6cdb8d1",
   "metadata": {},
   "outputs": [
    {
     "data": {
      "text/latex": [
       "$$\\lambda \\; f \\;.\\; f \\; \\mathbf{4} \\; \\mathbf{2}$$"
      ],
      "text/plain": [
       "λ['f'](('f', λ['f'](λ['x']('f', ('f', ('f', ('f', 'x')))))), λ['f'](λ['x']('f', ('f', 'x'))))"
      ]
     },
     "execution_count": 4,
     "metadata": {},
     "output_type": "execute_result"
    }
   ],
   "source": [
    "res, _ = expr.nf()\n",
    "\n",
    "res"
   ]
  },
  {
   "cell_type": "code",
   "execution_count": 5,
   "id": "c347b7cb",
   "metadata": {},
   "outputs": [
    {
     "data": {
      "text/latex": [
       "$$\\mathbf{4}$$"
      ],
      "text/plain": [
       "λ['f'](λ['x']('f', ('f', ('f', ('f', 'x')))))"
      ]
     },
     "execution_count": 5,
     "metadata": {},
     "output_type": "execute_result"
    }
   ],
   "source": [
    "quotient, _ = (CAR | res).nf()\n",
    "\n",
    "quotient"
   ]
  },
  {
   "cell_type": "code",
   "execution_count": 6,
   "id": "df0b6b00",
   "metadata": {},
   "outputs": [
    {
     "data": {
      "text/latex": [
       "$$\\mathbf{2}$$"
      ],
      "text/plain": [
       "λ['f'](λ['x']('f', ('f', 'x')))"
      ]
     },
     "execution_count": 6,
     "metadata": {},
     "output_type": "execute_result"
    }
   ],
   "source": [
    "remainder, _ = (CDR | res).nf()\n",
    "\n",
    "remainder"
   ]
  },
  {
   "cell_type": "code",
   "execution_count": 7,
   "id": "764edb6e",
   "metadata": {},
   "outputs": [
    {
     "data": {
      "text/latex": [
       "$$\\mathbf{14}$$"
      ],
      "text/plain": [
       "λ['f'](λ['x']('f', ('f', ('f', ('f', ('f', ('f', ('f', ('f', ('f', ('f', ('f', ('f', ('f', ('f', 'x')))))))))))))))"
      ]
     },
     "execution_count": 7,
     "metadata": {},
     "output_type": "execute_result"
    }
   ],
   "source": [
    "check, _ = (PLUS | (MULT | quotient | divisor) | remainder).nf()\n",
    "\n",
    "check"
   ]
  },
  {
   "cell_type": "code",
   "execution_count": 8,
   "id": "ca81b6ed",
   "metadata": {},
   "outputs": [
    {
     "data": {
      "text/latex": [
       "$$\\textbf{TRUE}$$"
      ],
      "text/plain": [
       "λ['x'](λ['y']('x'))"
      ]
     },
     "execution_count": 8,
     "metadata": {},
     "output_type": "execute_result"
    }
   ],
   "source": [
    "check_expr, _ = (EQ | dividend | check).nf()\n",
    "assert check_expr == TRUE\n",
    "\n",
    "check_expr"
   ]
  },
  {
   "cell_type": "markdown",
   "id": "17903578",
   "metadata": {},
   "source": [
    "Cached calculation"
   ]
  },
  {
   "cell_type": "code",
   "execution_count": 9,
   "id": "6ee0def2",
   "metadata": {},
   "outputs": [
    {
     "data": {
      "text/latex": [
       "$$\\textbf{GCD} \\; \\mathbf{42} \\; \\mathbf{56}$$"
      ],
      "text/plain": [
       "v(((λ['g'](λ['m'](λ['n']((((λ['m'](λ['n'](λ['n'](('n', λ['x'](λ['x'](λ['y']('y')))), λ['x'](λ['y']('x'))), ((λ['m'](λ['n'](('n', λ['n'](λ['f'](λ['x']((('n', λ['g'](λ['h']('h', ('g', 'f')))), λ['u']('x')), λ['u']('u'))))), 'm')), 'm'), 'n'))), 'm'), 'n'), (('g', 'n'), 'm')), (('g', 'm'), 'n')))), (λ['f'](λ['x']('f', ('x', 'x')), λ['x']('f', ('x', 'x'))), λ['g'](λ['x'](λ['y'](((λ['n'](('n', λ['x'](λ['x'](λ['y']('y')))), λ['x'](λ['y']('x'))), 'y'), 'x'), (('g', 'y'), ((λ['a'](λ['b'](λ['p']('p', λ['x'](λ['y']('y'))), ((((λ['f'](λ['x']('f', ('x', 'x')), λ['x']('f', ('x', 'x'))), λ['g'](λ['q'](λ['a'](λ['b']((((λ['a'](λ['b'](λ['p'](λ['a'](λ['b'](('p', 'b'), 'a'))), ((λ['m'](λ['n'](λ['n'](('n', λ['x'](λ['x'](λ['y']('y')))), λ['x'](λ['y']('x'))), ((λ['m'](λ['n'](('n', λ['n'](λ['f'](λ['x']((('n', λ['g'](λ['h']('h', ('g', 'f')))), λ['u']('x')), λ['u']('u'))))), 'm')), 'm'), 'n'))), 'b'), 'a'))), 'a'), 'b'), ((λ['x'](λ['y'](λ['f'](('f', 'x'), 'y'))), 'q'), 'a')), ((('g', (λ['n'](λ['f'](λ['x']('f', (('n', 'f'), 'x')))), 'q')), ((λ['m'](λ['n'](('n', λ['n'](λ['f'](λ['x']((('n', λ['g'](λ['h']('h', ('g', 'f')))), λ['u']('x')), λ['u']('u'))))), 'm')), 'a'), 'b')), 'b')))))), λ['f'](λ['x']('x'))), 'a'), 'b'))), 'x'), 'y'))))))), λ['f'](λ['x']('f', ('f', ('f', ('f', ('f', ('f', ('f', ('f', ('f', ('f', ('f', ('f', ('f', ('f', ('f', ('f', ('f', ('f', ('f', ('f', ('f', ('f', ('f', ('f', ('f', ('f', ('f', ('f', ('f', ('f', ('f', ('f', ('f', ('f', ('f', ('f', ('f', ('f', ('f', ('f', ('f', ('f', 'x')))))))))))))))))))))))))))))))))))))))))))), λ['f'](λ['x']('f', ('f', ('f', ('f', ('f', ('f', ('f', ('f', ('f', ('f', ('f', ('f', ('f', ('f', ('f', ('f', ('f', ('f', ('f', ('f', ('f', ('f', ('f', ('f', ('f', ('f', ('f', ('f', ('f', ('f', ('f', ('f', ('f', ('f', ('f', ('f', ('f', ('f', ('f', ('f', ('f', ('f', ('f', ('f', ('f', ('f', ('f', ('f', ('f', ('f', ('f', ('f', ('f', ('f', ('f', ('f', 'x'))))))))))))))))))))))))))))))))))))))))))))))))))))))))))"
      ]
     },
     "execution_count": 9,
     "metadata": {},
     "output_type": "execute_result"
    }
   ],
   "source": [
    "expr = GCD | N(42) | N(56)\n",
    "\n",
    "expr"
   ]
  },
  {
   "cell_type": "code",
   "execution_count": 10,
   "id": "aa369b44",
   "metadata": {},
   "outputs": [
    {
     "data": {
      "text/latex": [
       "$$\\mathbf{14}$$"
      ],
      "text/plain": [
       "λ['f'](λ['x']('f', ('f', ('f', ('f', ('f', ('f', ('f', ('f', ('f', ('f', ('f', ('f', ('f', ('f', 'x')))))))))))))))"
      ]
     },
     "execution_count": 10,
     "metadata": {},
     "output_type": "execute_result"
    }
   ],
   "source": [
    "start_time_cached = time.time()\n",
    "result_cached, steps_cached = expr.nf(use_cache=True)\n",
    "end_time_cached = time.time()\n",
    "\n",
    "result_cached"
   ]
  },
  {
   "cell_type": "code",
   "execution_count": 11,
   "id": "a5c9f94e",
   "metadata": {},
   "outputs": [],
   "source": [
    "assert result_cached == N(14)"
   ]
  },
  {
   "cell_type": "code",
   "execution_count": 12,
   "id": "62d868a8",
   "metadata": {},
   "outputs": [
    {
     "data": {
      "text/plain": [
       "{'steps': 31976, 'time': '72.17 seconds'}"
      ]
     },
     "execution_count": 12,
     "metadata": {},
     "output_type": "execute_result"
    }
   ],
   "source": [
    "{\"steps\": steps_cached, \"time\": f\"{end_time_cached - start_time_cached:.2f} seconds\"}"
   ]
  },
  {
   "cell_type": "markdown",
   "id": "ab45f163",
   "metadata": {},
   "source": [
    "Non-caching calculation"
   ]
  },
  {
   "cell_type": "code",
   "execution_count": 13,
   "id": "53e89c3f",
   "metadata": {},
   "outputs": [
    {
     "data": {
      "text/latex": [
       "$$\\mathbf{14}$$"
      ],
      "text/plain": [
       "λ['f'](λ['x']('f', ('f', ('f', ('f', ('f', ('f', ('f', ('f', ('f', ('f', ('f', ('f', ('f', ('f', 'x')))))))))))))))"
      ]
     },
     "execution_count": 13,
     "metadata": {},
     "output_type": "execute_result"
    }
   ],
   "source": [
    "start_time = time.time()\n",
    "result, steps = expr.nf()\n",
    "end_time = time.time()\n",
    "\n",
    "result"
   ]
  },
  {
   "cell_type": "code",
   "execution_count": 14,
   "id": "ac959930",
   "metadata": {},
   "outputs": [],
   "source": [
    "assert result == N(14)"
   ]
  },
  {
   "cell_type": "code",
   "execution_count": 15,
   "id": "398958a8",
   "metadata": {},
   "outputs": [
    {
     "data": {
      "text/plain": [
       "{'steps': 139968, 'time': '209.95 seconds'}"
      ]
     },
     "execution_count": 15,
     "metadata": {},
     "output_type": "execute_result"
    }
   ],
   "source": [
    "{\"steps\": steps, \"time\": f\"{end_time - start_time:.2f} seconds\"}"
   ]
  },
  {
   "cell_type": "code",
   "execution_count": null,
   "id": "1a859c5a",
   "metadata": {},
   "outputs": [],
   "source": []
  }
 ],
 "metadata": {
  "kernelspec": {
   "display_name": "prob_env",
   "language": "python",
   "name": "python3"
  },
  "language_info": {
   "codemirror_mode": {
    "name": "ipython",
    "version": 3
   },
   "file_extension": ".py",
   "mimetype": "text/x-python",
   "name": "python",
   "nbconvert_exporter": "python",
   "pygments_lexer": "ipython3",
   "version": "3.11.9"
  }
 },
 "nbformat": 4,
 "nbformat_minor": 5
}
