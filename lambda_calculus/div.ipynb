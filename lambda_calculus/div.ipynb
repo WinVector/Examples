{
 "cells": [
  {
   "cell_type": "markdown",
   "id": "14540031",
   "metadata": {},
   "source": [
    "Example arithmetic using the lambda calculus."
   ]
  },
  {
   "cell_type": "code",
   "execution_count": 1,
   "id": "0c4fb12f",
   "metadata": {},
   "outputs": [],
   "source": [
    "import time\n",
    "from IPython.display import display, HTML, Math, Markdown\n",
    "from lambda_calc import *\n",
    "\n",
    "\n",
    "load_common_aliases()\n",
    "\n",
    "def display_def(t):\n",
    "    display(Math(t.to_latex(not_expanded={t})))"
   ]
  },
  {
   "cell_type": "markdown",
   "id": "cbf87c20",
   "metadata": {},
   "source": [
    "A straightforward pure normal order reduction can be very slow and involve very large intermediate structures. There are a number of potential speedups such as applicative order evaluation, lazy evaluation, use of references, and caching. In our implementation we consider an applicative speedup called \"Λ expressions\". The Λ experession \"`(Λ x. M ) N`\" is similar to the expression  \"`(λ x. M) N`\", except it is implemented as the capture avoiding substitution `(Λ x. M) N = M[x := normal_form(N)]` instead of `λ(x. M) N = M[x := N]`. This, of course, depends on `N` having a normal form.\n",
    "\n",
    "The above lets the programmer specify which arguments can be eagerly evaluated. \n",
    "\n",
    "For example, here is the usual definitio of multiplication."
   ]
  },
  {
   "cell_type": "code",
   "execution_count": 2,
   "id": "b1e08803",
   "metadata": {},
   "outputs": [
    {
     "data": {
      "text/latex": [
       "$\\displaystyle ( \\lambda \\; m \\;.\\; ( \\lambda \\; n \\;.\\; ( \\lambda \\; f \\;.\\; ( \\lambda \\; x \\;.\\; m \\; (n \\; f) \\; x ) ) ) )$"
      ],
      "text/plain": [
       "<IPython.core.display.Math object>"
      ]
     },
     "metadata": {},
     "output_type": "display_data"
    }
   ],
   "source": [
    "MULT_normal = λ['m'](λ['n'](λ['f'](λ['x'](('m', ('n', 'f')), 'x'))))\n",
    "\n",
    "display_def(MULT_normal)"
   ]
  },
  {
   "cell_type": "code",
   "execution_count": 3,
   "id": "05156b56",
   "metadata": {},
   "outputs": [
    {
     "data": {
      "text/latex": [
       "$$\\mathbf{15}$$"
      ],
      "text/plain": [
       "λ['f'](λ['x']('f', ('f', ('f', ('f', ('f', ('f', ('f', ('f', ('f', ('f', ('f', ('f', ('f', ('f', ('f', 'x'))))))))))))))))"
      ]
     },
     "execution_count": 3,
     "metadata": {},
     "output_type": "execute_result"
    }
   ],
   "source": [
    "(MULT_normal | N(5) | N(3)).nf()[0]"
   ]
  },
  {
   "cell_type": "markdown",
   "id": "a5edb0cf",
   "metadata": {},
   "source": [
    "And here is a version of it with some of the arguments Λ-tagged as \"eager.\""
   ]
  },
  {
   "cell_type": "code",
   "execution_count": 4,
   "id": "a494734c",
   "metadata": {},
   "outputs": [
    {
     "data": {
      "text/latex": [
       "$\\displaystyle ( \\Lambda \\; m \\;.\\; ( \\Lambda \\; n \\;.\\; ( \\lambda \\; f \\;.\\; ( \\lambda \\; x \\;.\\; m \\; (n \\; f) \\; x ) ) ) )$"
      ],
      "text/plain": [
       "<IPython.core.display.Math object>"
      ]
     },
     "metadata": {},
     "output_type": "display_data"
    }
   ],
   "source": [
    "MULT_eager = Λ['m'](Λ['n'](λ['f'](λ['x'](('m', ('n', 'f')), 'x'))))\n",
    "\n",
    "display_def(MULT_eager)"
   ]
  },
  {
   "cell_type": "code",
   "execution_count": 5,
   "id": "ac9a1787",
   "metadata": {},
   "outputs": [
    {
     "data": {
      "text/latex": [
       "$$\\mathbf{15}$$"
      ],
      "text/plain": [
       "λ['f'](λ['x']('f', ('f', ('f', ('f', ('f', ('f', ('f', ('f', ('f', ('f', ('f', ('f', ('f', ('f', ('f', 'x'))))))))))))))))"
      ]
     },
     "execution_count": 5,
     "metadata": {},
     "output_type": "execute_result"
    }
   ],
   "source": [
    "(MULT_eager | N(5) | N(3)).nf()[0]"
   ]
  },
  {
   "cell_type": "markdown",
   "id": "842d10ed",
   "metadata": {},
   "source": [
    "We didn't see much of a difference, but there is quite a speedup when arguments are re-used."
   ]
  },
  {
   "cell_type": "code",
   "execution_count": 6,
   "id": "5e441c47",
   "metadata": {},
   "outputs": [
    {
     "data": {
      "text/latex": [
       "$$\\lambda \\; g \\;.\\; ( \\lambda \\; m \\;.\\; ( \\lambda \\; n \\;.\\; \\textbf{IFTHENELSE} \\; (\\textbf{EQ} \\; m \\; n) \\; m \\; (\\textbf{IFTHENELSE} \\; (\\textbf{LEQ} \\; m \\; n) \\; (g \\; (\\mathbf{-} \\; n \\; m) \\; m) \\; (g \\; (\\mathbf{-} \\; m \\; n) \\; n)) ) )$$"
      ],
      "text/plain": [
       "λ['g'](λ['m'](λ['n'](((Λ['p'](λ['a'](λ['b'](('p', 'a'), 'b'))), ((Λ['m'](Λ['n']((λ['p'](λ['q'](('p', 'q'), 'p')), ((Λ['m'](Λ['n'](Λ['n'](('n', λ['x'](λ['x'](λ['y']('y')))), λ['x'](λ['y']('x'))), ((Λ['m'](Λ['n'](('n', Λ['n'](λ['f'](λ['x']((('n', λ['g'](λ['h']('h', ('g', 'f')))), λ['u']('x')), λ['u']('u'))))), 'm')), 'm'), 'n'))), 'm'), 'n')), ((Λ['m'](Λ['n'](Λ['n'](('n', λ['x'](λ['x'](λ['y']('y')))), λ['x'](λ['y']('x'))), ((Λ['m'](Λ['n'](('n', Λ['n'](λ['f'](λ['x']((('n', λ['g'](λ['h']('h', ('g', 'f')))), λ['u']('x')), λ['u']('u'))))), 'm')), 'm'), 'n'))), 'n'), 'm'))), 'm'), 'n')), 'm'), (((Λ['p'](λ['a'](λ['b'](('p', 'a'), 'b'))), ((Λ['m'](Λ['n'](Λ['n'](('n', λ['x'](λ['x'](λ['y']('y')))), λ['x'](λ['y']('x'))), ((Λ['m'](Λ['n'](('n', Λ['n'](λ['f'](λ['x']((('n', λ['g'](λ['h']('h', ('g', 'f')))), λ['u']('x')), λ['u']('u'))))), 'm')), 'm'), 'n'))), 'm'), 'n')), (('g', ((Λ['m'](Λ['n'](('n', Λ['n'](λ['f'](λ['x']((('n', λ['g'](λ['h']('h', ('g', 'f')))), λ['u']('x')), λ['u']('u'))))), 'm')), 'n'), 'm')), 'm')), (('g', ((Λ['m'](Λ['n'](('n', Λ['n'](λ['f'](λ['x']((('n', λ['g'](λ['h']('h', ('g', 'f')))), λ['u']('x')), λ['u']('u'))))), 'm')), 'm'), 'n')), 'n')))))"
      ]
     },
     "execution_count": 6,
     "metadata": {},
     "output_type": "execute_result"
    }
   ],
   "source": [
    "GCDstep = λ[\"g\"](λ[\"m\", \"n\"](\n",
    "    ifthenelse(\n",
    "        (EQ, \"m\", \"n\"),\n",
    "        \"m\",\n",
    "        ifthenelse(\n",
    "            (LEQ, \"m\", \"n\"),\n",
    "            v(\"g\") | (SUB, \"n\", \"m\") | \"m\",\n",
    "            v(\"g\") | (SUB, \"m\", \"n\") | \"n\",\n",
    "        )\n",
    "    )\n",
    "))\n",
    "\n",
    "GCDstep"
   ]
  },
  {
   "cell_type": "code",
   "execution_count": 7,
   "id": "3e545b99",
   "metadata": {},
   "outputs": [
    {
     "data": {
      "text/latex": [
       "$$\\mathbf{14}$$"
      ],
      "text/plain": [
       "λ['f'](λ['x']('f', ('f', ('f', ('f', ('f', ('f', ('f', ('f', ('f', ('f', ('f', ('f', ('f', ('f', 'x')))))))))))))))"
      ]
     },
     "execution_count": 7,
     "metadata": {},
     "output_type": "execute_result"
    }
   ],
   "source": [
    "start_time = time.time()\n",
    "res = (Y | GCDstep | N(42) | N(56)).nf()[0]\n",
    "end_time = time.time()\n",
    "\n",
    "res"
   ]
  },
  {
   "cell_type": "code",
   "execution_count": 8,
   "id": "87c71f88",
   "metadata": {},
   "outputs": [
    {
     "data": {
      "text/plain": [
       "'caclulation took 6.39 seconds'"
      ]
     },
     "execution_count": 8,
     "metadata": {},
     "output_type": "execute_result"
    }
   ],
   "source": [
    "f\"caclulation took {end_time - start_time:.2f} seconds\""
   ]
  },
  {
   "cell_type": "code",
   "execution_count": 9,
   "id": "2373430b",
   "metadata": {},
   "outputs": [
    {
     "data": {
      "text/latex": [
       "$$\\lambda \\; g \\;.\\; ( \\Lambda \\; m \\;.\\; ( \\Lambda \\; n \\;.\\; \\textbf{IFTHENELSE} \\; (\\textbf{EQ} \\; m \\; n) \\; m \\; (\\textbf{IFTHENELSE} \\; (\\textbf{LEQ} \\; m \\; n) \\; (g \\; (\\mathbf{-} \\; n \\; m) \\; m) \\; (g \\; (\\mathbf{-} \\; m \\; n) \\; n)) ) )$$"
      ],
      "text/plain": [
       "λ['g'](Λ['m'](Λ['n'](((Λ['p'](λ['a'](λ['b'](('p', 'a'), 'b'))), ((Λ['m'](Λ['n']((λ['p'](λ['q'](('p', 'q'), 'p')), ((Λ['m'](Λ['n'](Λ['n'](('n', λ['x'](λ['x'](λ['y']('y')))), λ['x'](λ['y']('x'))), ((Λ['m'](Λ['n'](('n', Λ['n'](λ['f'](λ['x']((('n', λ['g'](λ['h']('h', ('g', 'f')))), λ['u']('x')), λ['u']('u'))))), 'm')), 'm'), 'n'))), 'm'), 'n')), ((Λ['m'](Λ['n'](Λ['n'](('n', λ['x'](λ['x'](λ['y']('y')))), λ['x'](λ['y']('x'))), ((Λ['m'](Λ['n'](('n', Λ['n'](λ['f'](λ['x']((('n', λ['g'](λ['h']('h', ('g', 'f')))), λ['u']('x')), λ['u']('u'))))), 'm')), 'm'), 'n'))), 'n'), 'm'))), 'm'), 'n')), 'm'), (((Λ['p'](λ['a'](λ['b'](('p', 'a'), 'b'))), ((Λ['m'](Λ['n'](Λ['n'](('n', λ['x'](λ['x'](λ['y']('y')))), λ['x'](λ['y']('x'))), ((Λ['m'](Λ['n'](('n', Λ['n'](λ['f'](λ['x']((('n', λ['g'](λ['h']('h', ('g', 'f')))), λ['u']('x')), λ['u']('u'))))), 'm')), 'm'), 'n'))), 'm'), 'n')), (('g', ((Λ['m'](Λ['n'](('n', Λ['n'](λ['f'](λ['x']((('n', λ['g'](λ['h']('h', ('g', 'f')))), λ['u']('x')), λ['u']('u'))))), 'm')), 'n'), 'm')), 'm')), (('g', ((Λ['m'](Λ['n'](('n', Λ['n'](λ['f'](λ['x']((('n', λ['g'](λ['h']('h', ('g', 'f')))), λ['u']('x')), λ['u']('u'))))), 'm')), 'm'), 'n')), 'n')))))"
      ]
     },
     "execution_count": 9,
     "metadata": {},
     "output_type": "execute_result"
    }
   ],
   "source": [
    "GCDeager = λ[\"g\"](Λ[\"m\", \"n\"](\n",
    "    ifthenelse(\n",
    "        (EQ, \"m\", \"n\"),\n",
    "        \"m\",\n",
    "        ifthenelse(\n",
    "            (LEQ, \"m\", \"n\"),\n",
    "            v(\"g\") | (SUB, \"n\", \"m\") | \"m\",\n",
    "            v(\"g\") | (SUB, \"m\", \"n\") | \"n\",\n",
    "        )\n",
    "    )\n",
    "))\n",
    "\n",
    "GCDeager"
   ]
  },
  {
   "cell_type": "code",
   "execution_count": 10,
   "id": "8d19859e",
   "metadata": {},
   "outputs": [
    {
     "data": {
      "text/latex": [
       "$$\\mathbf{14}$$"
      ],
      "text/plain": [
       "λ['f'](λ['x']('f', ('f', ('f', ('f', ('f', ('f', ('f', ('f', ('f', ('f', ('f', ('f', ('f', ('f', 'x')))))))))))))))"
      ]
     },
     "execution_count": 10,
     "metadata": {},
     "output_type": "execute_result"
    }
   ],
   "source": [
    "start_time = time.time()\n",
    "res = (Y | GCDeager | N(42) | N(56)).nf()[0]\n",
    "end_time = time.time()\n",
    "\n",
    "res"
   ]
  },
  {
   "cell_type": "code",
   "execution_count": 11,
   "id": "a55bd9f3",
   "metadata": {},
   "outputs": [
    {
     "data": {
      "text/plain": [
       "'caclulation took 1.71 seconds'"
      ]
     },
     "execution_count": 11,
     "metadata": {},
     "output_type": "execute_result"
    }
   ],
   "source": [
    "f\"caclulation took {end_time - start_time:.2f} seconds\""
   ]
  },
  {
   "cell_type": "markdown",
   "id": "17903578",
   "metadata": {},
   "source": [
    "Another speedup is cached calculation."
   ]
  },
  {
   "cell_type": "code",
   "execution_count": 12,
   "id": "6ee0def2",
   "metadata": {},
   "outputs": [
    {
     "data": {
      "text/latex": [
       "$$\\textbf{GCD} \\; \\mathbf{42} \\; \\mathbf{56}$$"
      ],
      "text/plain": [
       "v(((λ['g'](λ['m'](λ['n']((((Λ['m'](Λ['n'](Λ['n'](('n', λ['x'](λ['x'](λ['y']('y')))), λ['x'](λ['y']('x'))), ((Λ['m'](Λ['n'](('n', Λ['n'](λ['f'](λ['x']((('n', λ['g'](λ['h']('h', ('g', 'f')))), λ['u']('x')), λ['u']('u'))))), 'm')), 'm'), 'n'))), 'm'), 'n'), (('g', 'n'), 'm')), (('g', 'm'), 'n')))), (λ['f'](λ['x']('f', ('x', 'x')), λ['x']('f', ('x', 'x'))), λ['g'](λ['x'](λ['y'](((Λ['n'](('n', λ['x'](λ['x'](λ['y']('y')))), λ['x'](λ['y']('x'))), 'y'), 'x'), (('g', 'y'), ((Λ['a'](Λ['b'](λ['p']('p', λ['x'](λ['y']('y'))), ((((λ['f'](λ['x']('f', ('x', 'x')), λ['x']('f', ('x', 'x'))), λ['g'](λ['q'](λ['a'](λ['b']((((Λ['a'](Λ['b'](λ['p'](λ['a'](λ['b'](('p', 'b'), 'a'))), ((Λ['m'](Λ['n'](Λ['n'](('n', λ['x'](λ['x'](λ['y']('y')))), λ['x'](λ['y']('x'))), ((Λ['m'](Λ['n'](('n', Λ['n'](λ['f'](λ['x']((('n', λ['g'](λ['h']('h', ('g', 'f')))), λ['u']('x')), λ['u']('u'))))), 'm')), 'm'), 'n'))), 'b'), 'a'))), 'a'), 'b'), ((λ['x'](λ['y'](λ['f'](('f', 'x'), 'y'))), 'q'), 'a')), ((('g', (Λ['n'](λ['f'](λ['x']('f', (('n', 'f'), 'x')))), 'q')), ((Λ['m'](Λ['n'](('n', Λ['n'](λ['f'](λ['x']((('n', λ['g'](λ['h']('h', ('g', 'f')))), λ['u']('x')), λ['u']('u'))))), 'm')), 'a'), 'b')), 'b')))))), λ['f'](λ['x']('x'))), 'a'), 'b'))), 'x'), 'y'))))))), λ['f'](λ['x']('f', ('f', ('f', ('f', ('f', ('f', ('f', ('f', ('f', ('f', ('f', ('f', ('f', ('f', ('f', ('f', ('f', ('f', ('f', ('f', ('f', ('f', ('f', ('f', ('f', ('f', ('f', ('f', ('f', ('f', ('f', ('f', ('f', ('f', ('f', ('f', ('f', ('f', ('f', ('f', ('f', ('f', 'x')))))))))))))))))))))))))))))))))))))))))))), λ['f'](λ['x']('f', ('f', ('f', ('f', ('f', ('f', ('f', ('f', ('f', ('f', ('f', ('f', ('f', ('f', ('f', ('f', ('f', ('f', ('f', ('f', ('f', ('f', ('f', ('f', ('f', ('f', ('f', ('f', ('f', ('f', ('f', ('f', ('f', ('f', ('f', ('f', ('f', ('f', ('f', ('f', ('f', ('f', ('f', ('f', ('f', ('f', ('f', ('f', ('f', ('f', ('f', ('f', ('f', ('f', ('f', ('f', 'x'))))))))))))))))))))))))))))))))))))))))))))))))))))))))))"
      ]
     },
     "execution_count": 12,
     "metadata": {},
     "output_type": "execute_result"
    }
   ],
   "source": [
    "expr = GCD | N(42) | N(56)\n",
    "\n",
    "expr"
   ]
  },
  {
   "cell_type": "code",
   "execution_count": 13,
   "id": "aa369b44",
   "metadata": {},
   "outputs": [
    {
     "data": {
      "text/latex": [
       "$$\\mathbf{14}$$"
      ],
      "text/plain": [
       "λ['f'](λ['x']('f', ('f', ('f', ('f', ('f', ('f', ('f', ('f', ('f', ('f', ('f', ('f', ('f', ('f', 'x')))))))))))))))"
      ]
     },
     "execution_count": 13,
     "metadata": {},
     "output_type": "execute_result"
    }
   ],
   "source": [
    "start_time_cached = time.time()\n",
    "result_cached, steps_cached = expr.nf(tc=TransitiveCache())\n",
    "end_time_cached = time.time()\n",
    "\n",
    "result_cached"
   ]
  },
  {
   "cell_type": "code",
   "execution_count": 14,
   "id": "a5c9f94e",
   "metadata": {},
   "outputs": [],
   "source": [
    "assert result_cached == N(14)"
   ]
  },
  {
   "cell_type": "code",
   "execution_count": 15,
   "id": "62d868a8",
   "metadata": {},
   "outputs": [
    {
     "data": {
      "text/plain": [
       "{'steps': 38, 'time': '0.11 seconds'}"
      ]
     },
     "execution_count": 15,
     "metadata": {},
     "output_type": "execute_result"
    }
   ],
   "source": [
    "{\"steps\": steps_cached, \"time\": f\"{end_time_cached - start_time_cached:.2f} seconds\"}"
   ]
  },
  {
   "cell_type": "markdown",
   "id": "ab45f163",
   "metadata": {},
   "source": [
    "Non-caching calculation"
   ]
  },
  {
   "cell_type": "code",
   "execution_count": 16,
   "id": "53e89c3f",
   "metadata": {},
   "outputs": [
    {
     "data": {
      "text/latex": [
       "$$\\mathbf{14}$$"
      ],
      "text/plain": [
       "λ['f'](λ['x']('f', ('f', ('f', ('f', ('f', ('f', ('f', ('f', ('f', ('f', ('f', ('f', ('f', ('f', 'x')))))))))))))))"
      ]
     },
     "execution_count": 16,
     "metadata": {},
     "output_type": "execute_result"
    }
   ],
   "source": [
    "start_time = time.time()\n",
    "result, steps = expr.nf()\n",
    "end_time = time.time()\n",
    "\n",
    "result"
   ]
  },
  {
   "cell_type": "code",
   "execution_count": 17,
   "id": "ac959930",
   "metadata": {},
   "outputs": [],
   "source": [
    "assert result == N(14)"
   ]
  },
  {
   "cell_type": "code",
   "execution_count": 18,
   "id": "398958a8",
   "metadata": {},
   "outputs": [
    {
     "data": {
      "text/plain": [
       "{'steps': 123, 'time': '4.44 seconds'}"
      ]
     },
     "execution_count": 18,
     "metadata": {},
     "output_type": "execute_result"
    }
   ],
   "source": [
    "{\"steps\": steps, \"time\": f\"{end_time - start_time:.2f} seconds\"}"
   ]
  },
  {
   "cell_type": "code",
   "execution_count": null,
   "id": "1a859c5a",
   "metadata": {},
   "outputs": [],
   "source": []
  }
 ],
 "metadata": {
  "kernelspec": {
   "display_name": "prob_env",
   "language": "python",
   "name": "python3"
  },
  "language_info": {
   "codemirror_mode": {
    "name": "ipython",
    "version": 3
   },
   "file_extension": ".py",
   "mimetype": "text/x-python",
   "name": "python",
   "nbconvert_exporter": "python",
   "pygments_lexer": "ipython3",
   "version": "3.11.11"
  }
 },
 "nbformat": 4,
 "nbformat_minor": 5
}
