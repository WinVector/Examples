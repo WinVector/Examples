{
 "cells": [
  {
   "cell_type": "markdown",
   "id": "14540031",
   "metadata": {},
   "source": [
    "Example arithmetic using the lambda calculus."
   ]
  },
  {
   "cell_type": "code",
   "execution_count": 1,
   "id": "0c4fb12f",
   "metadata": {},
   "outputs": [],
   "source": [
    "import time\n",
    "from IPython.display import display, HTML, Math, Markdown\n",
    "from lambda_calc import *\n",
    "\n",
    "load_common_aliases()\n",
    "\n",
    "def display_def(t):\n",
    "    display(Math(t.to_latex(not_expanded={t})))"
   ]
  },
  {
   "cell_type": "code",
   "execution_count": 2,
   "id": "26a2b36d",
   "metadata": {},
   "outputs": [],
   "source": [
    "dividend = N(14)\n",
    "divisor = N(3)"
   ]
  },
  {
   "cell_type": "code",
   "execution_count": 3,
   "id": "2373430b",
   "metadata": {},
   "outputs": [
    {
     "data": {
      "text/latex": [
       "$$\\lambda \\; g \\;.\\; ( \\lambda \\; m \\;.\\; ( \\lambda \\; n \\;.\\; \\textbf{IFTHENELSE} \\; (\\textbf{EQ} \\; m \\; n) \\; m \\; (\\textbf{IFTHENELSE} \\; (\\textbf{LEQ} \\; m \\; n) \\; (g \\; (\\mathbf{-} \\; n \\; m) \\; m) \\; (g \\; (\\mathbf{-} \\; m \\; n) \\; n)) ) )$$"
      ],
      "text/plain": [
       "λ['g'](λ['m'](λ['n'](((λ['p'](λ['a'](λ['b'](('p', 'a'), 'b'))), ((λ['m'](λ['n']((λ['p'](λ['q'](('p', 'q'), 'p')), ((λ['m'](λ['n'](λ['n'](('n', λ['x'](λ['x'](λ['y']('y')))), λ['x'](λ['y']('x'))), ((λ['m'](λ['n'](('n', λ['n'](λ['f'](λ['x']((('n', λ['g'](λ['h']('h', ('g', 'f')))), λ['u']('x')), λ['u']('u'))))), 'm')), 'm'), 'n'))), 'm'), 'n')), ((λ['m'](λ['n'](λ['n'](('n', λ['x'](λ['x'](λ['y']('y')))), λ['x'](λ['y']('x'))), ((λ['m'](λ['n'](('n', λ['n'](λ['f'](λ['x']((('n', λ['g'](λ['h']('h', ('g', 'f')))), λ['u']('x')), λ['u']('u'))))), 'm')), 'm'), 'n'))), 'n'), 'm'))), 'm'), 'n')), 'm'), (((λ['p'](λ['a'](λ['b'](('p', 'a'), 'b'))), ((λ['m'](λ['n'](λ['n'](('n', λ['x'](λ['x'](λ['y']('y')))), λ['x'](λ['y']('x'))), ((λ['m'](λ['n'](('n', λ['n'](λ['f'](λ['x']((('n', λ['g'](λ['h']('h', ('g', 'f')))), λ['u']('x')), λ['u']('u'))))), 'm')), 'm'), 'n'))), 'm'), 'n')), (('g', ((λ['m'](λ['n'](('n', λ['n'](λ['f'](λ['x']((('n', λ['g'](λ['h']('h', ('g', 'f')))), λ['u']('x')), λ['u']('u'))))), 'm')), 'n'), 'm')), 'm')), (('g', ((λ['m'](λ['n'](('n', λ['n'](λ['f'](λ['x']((('n', λ['g'](λ['h']('h', ('g', 'f')))), λ['u']('x')), λ['u']('u'))))), 'm')), 'm'), 'n')), 'n')))))"
      ]
     },
     "execution_count": 3,
     "metadata": {},
     "output_type": "execute_result"
    }
   ],
   "source": [
    "GCDstep = λ[\"g\", \"m\", \"n\"](\n",
    "    ifthenelse(\n",
    "        (EQ, \"m\", \"n\"),\n",
    "        \"m\",\n",
    "        ifthenelse(\n",
    "            (LEQ, \"m\", \"n\"),\n",
    "            v(\"g\") | (SUB, \"n\", \"m\") | \"m\",\n",
    "            v(\"g\") | (SUB, \"m\", \"n\") | \"n\",\n",
    "        )\n",
    "    )\n",
    ")\n",
    "\n",
    "GCDstep"
   ]
  },
  {
   "cell_type": "code",
   "execution_count": 4,
   "id": "9ee36b73",
   "metadata": {},
   "outputs": [
    {
     "data": {
      "text/latex": [
       "$\\displaystyle ( \\lambda \\; f \\;.\\; ( \\lambda \\; x \\;.\\; f \\; (x \\; x) ) \\; ( \\lambda \\; x \\;.\\; f \\; (x \\; x) ) )$"
      ],
      "text/plain": [
       "<IPython.core.display.Math object>"
      ]
     },
     "metadata": {},
     "output_type": "display_data"
    }
   ],
   "source": [
    "display_def(Y)"
   ]
  },
  {
   "cell_type": "code",
   "execution_count": 5,
   "id": "8d19859e",
   "metadata": {},
   "outputs": [
    {
     "data": {
      "text/latex": [
       "$$\\mathbf{14}$$"
      ],
      "text/plain": [
       "λ['f'](λ['x']('f', ('f', ('f', ('f', ('f', ('f', ('f', ('f', ('f', ('f', ('f', ('f', ('f', ('f', 'x')))))))))))))))"
      ]
     },
     "execution_count": 5,
     "metadata": {},
     "output_type": "execute_result"
    }
   ],
   "source": [
    "(Y | GCDstep | N(42) | N(56)).nf()[0]"
   ]
  },
  {
   "cell_type": "code",
   "execution_count": 6,
   "id": "45d776ba",
   "metadata": {},
   "outputs": [
    {
     "data": {
      "text/latex": [
       "$\\displaystyle ( \\lambda \\; f \\;.\\; ( \\lambda \\; x \\;.\\; f \\; ( \\lambda \\; v \\;.\\; x \\; x \\; v ) ) \\; ( \\lambda \\; x \\;.\\; f \\; ( \\lambda \\; v \\;.\\; x \\; x \\; v ) ) )$"
      ],
      "text/plain": [
       "<IPython.core.display.Math object>"
      ]
     },
     "metadata": {},
     "output_type": "display_data"
    }
   ],
   "source": [
    "display_def(Z)"
   ]
  },
  {
   "cell_type": "code",
   "execution_count": null,
   "id": "e4103b2c",
   "metadata": {},
   "outputs": [],
   "source": []
  },
  {
   "cell_type": "code",
   "execution_count": 7,
   "id": "577824e5",
   "metadata": {},
   "outputs": [
    {
     "data": {
      "text/latex": [
       "$$\\mathbf{14}$$"
      ],
      "text/plain": [
       "λ['f'](λ['x']('f', ('f', ('f', ('f', ('f', ('f', ('f', ('f', ('f', ('f', ('f', ('f', ('f', ('f', 'x')))))))))))))))"
      ]
     },
     "execution_count": 7,
     "metadata": {},
     "output_type": "execute_result"
    }
   ],
   "source": [
    "(Z | GCDstep | N(42) | N(56)).nf()[0]"
   ]
  },
  {
   "cell_type": "code",
   "execution_count": null,
   "id": "866a597d",
   "metadata": {},
   "outputs": [],
   "source": []
  },
  {
   "cell_type": "code",
   "execution_count": 8,
   "id": "d5215aa9",
   "metadata": {},
   "outputs": [
    {
     "data": {
      "text/latex": [
       "$$\\textbf{DIV} \\; \\mathbf{14} \\; \\mathbf{3}$$"
      ],
      "text/plain": [
       "v((((λ['f'](λ['x']('f', ('x', 'x')), λ['x']('f', ('x', 'x'))), λ['g'](λ['q'](λ['a'](λ['b']((((λ['a'](λ['b'](λ['p'](λ['a'](λ['b'](('p', 'b'), 'a'))), ((λ['m'](λ['n'](λ['n'](('n', λ['x'](λ['x'](λ['y']('y')))), λ['x'](λ['y']('x'))), ((λ['m'](λ['n'](('n', λ['n'](λ['f'](λ['x']((('n', λ['g'](λ['h']('h', ('g', 'f')))), λ['u']('x')), λ['u']('u'))))), 'm')), 'm'), 'n'))), 'b'), 'a'))), 'a'), 'b'), ((λ['x'](λ['y'](λ['f'](('f', 'x'), 'y'))), 'q'), 'a')), ((('g', (λ['n'](λ['f'](λ['x']('f', (('n', 'f'), 'x')))), 'q')), ((λ['m'](λ['n'](('n', λ['n'](λ['f'](λ['x']((('n', λ['g'](λ['h']('h', ('g', 'f')))), λ['u']('x')), λ['u']('u'))))), 'm')), 'a'), 'b')), 'b')))))), λ['f'](λ['x']('x'))), λ['f'](λ['x']('f', ('f', ('f', ('f', ('f', ('f', ('f', ('f', ('f', ('f', ('f', ('f', ('f', ('f', 'x')))))))))))))))), λ['f'](λ['x']('f', ('f', ('f', 'x')))))"
      ]
     },
     "execution_count": 8,
     "metadata": {},
     "output_type": "execute_result"
    }
   ],
   "source": [
    "expr = DIV | dividend | divisor\n",
    "\n",
    "expr"
   ]
  },
  {
   "cell_type": "code",
   "execution_count": 9,
   "id": "c6cdb8d1",
   "metadata": {},
   "outputs": [
    {
     "data": {
      "text/latex": [
       "$$\\lambda \\; f \\;.\\; f \\; \\mathbf{4} \\; \\mathbf{2}$$"
      ],
      "text/plain": [
       "λ['f'](('f', λ['f'](λ['x']('f', ('f', ('f', ('f', 'x')))))), λ['f'](λ['x']('f', ('f', 'x'))))"
      ]
     },
     "execution_count": 9,
     "metadata": {},
     "output_type": "execute_result"
    }
   ],
   "source": [
    "res, _ = expr.nf()\n",
    "\n",
    "res"
   ]
  },
  {
   "cell_type": "code",
   "execution_count": 10,
   "id": "c347b7cb",
   "metadata": {},
   "outputs": [
    {
     "data": {
      "text/latex": [
       "$$\\mathbf{4}$$"
      ],
      "text/plain": [
       "λ['f'](λ['x']('f', ('f', ('f', ('f', 'x')))))"
      ]
     },
     "execution_count": 10,
     "metadata": {},
     "output_type": "execute_result"
    }
   ],
   "source": [
    "quotient, _ = (CAR | res).nf()\n",
    "\n",
    "quotient"
   ]
  },
  {
   "cell_type": "code",
   "execution_count": 11,
   "id": "df0b6b00",
   "metadata": {},
   "outputs": [
    {
     "data": {
      "text/latex": [
       "$$\\mathbf{2}$$"
      ],
      "text/plain": [
       "λ['f'](λ['x']('f', ('f', 'x')))"
      ]
     },
     "execution_count": 11,
     "metadata": {},
     "output_type": "execute_result"
    }
   ],
   "source": [
    "remainder, _ = (CDR | res).nf()\n",
    "\n",
    "remainder"
   ]
  },
  {
   "cell_type": "code",
   "execution_count": 12,
   "id": "764edb6e",
   "metadata": {},
   "outputs": [
    {
     "data": {
      "text/latex": [
       "$$\\mathbf{14}$$"
      ],
      "text/plain": [
       "λ['f'](λ['x']('f', ('f', ('f', ('f', ('f', ('f', ('f', ('f', ('f', ('f', ('f', ('f', ('f', ('f', 'x')))))))))))))))"
      ]
     },
     "execution_count": 12,
     "metadata": {},
     "output_type": "execute_result"
    }
   ],
   "source": [
    "check, _ = (PLUS | (MULT | quotient | divisor) | remainder).nf()\n",
    "\n",
    "check"
   ]
  },
  {
   "cell_type": "code",
   "execution_count": 13,
   "id": "ca81b6ed",
   "metadata": {},
   "outputs": [
    {
     "data": {
      "text/latex": [
       "$$\\textbf{TRUE}$$"
      ],
      "text/plain": [
       "λ['x'](λ['y']('x'))"
      ]
     },
     "execution_count": 13,
     "metadata": {},
     "output_type": "execute_result"
    }
   ],
   "source": [
    "check_expr, _ = (EQ | dividend | check).nf()\n",
    "assert check_expr == TRUE\n",
    "\n",
    "check_expr"
   ]
  },
  {
   "cell_type": "markdown",
   "id": "17903578",
   "metadata": {},
   "source": [
    "Cached calculation"
   ]
  },
  {
   "cell_type": "code",
   "execution_count": 14,
   "id": "6ee0def2",
   "metadata": {},
   "outputs": [
    {
     "data": {
      "text/latex": [
       "$$\\textbf{GCD} \\; \\mathbf{42} \\; \\mathbf{56}$$"
      ],
      "text/plain": [
       "v(((λ['g'](λ['m'](λ['n']((((λ['m'](λ['n'](λ['n'](('n', λ['x'](λ['x'](λ['y']('y')))), λ['x'](λ['y']('x'))), ((λ['m'](λ['n'](('n', λ['n'](λ['f'](λ['x']((('n', λ['g'](λ['h']('h', ('g', 'f')))), λ['u']('x')), λ['u']('u'))))), 'm')), 'm'), 'n'))), 'm'), 'n'), (('g', 'n'), 'm')), (('g', 'm'), 'n')))), (λ['f'](λ['x']('f', ('x', 'x')), λ['x']('f', ('x', 'x'))), λ['g'](λ['x'](λ['y'](((λ['n'](('n', λ['x'](λ['x'](λ['y']('y')))), λ['x'](λ['y']('x'))), 'y'), 'x'), (('g', 'y'), ((λ['a'](λ['b'](λ['p']('p', λ['x'](λ['y']('y'))), ((((λ['f'](λ['x']('f', ('x', 'x')), λ['x']('f', ('x', 'x'))), λ['g'](λ['q'](λ['a'](λ['b']((((λ['a'](λ['b'](λ['p'](λ['a'](λ['b'](('p', 'b'), 'a'))), ((λ['m'](λ['n'](λ['n'](('n', λ['x'](λ['x'](λ['y']('y')))), λ['x'](λ['y']('x'))), ((λ['m'](λ['n'](('n', λ['n'](λ['f'](λ['x']((('n', λ['g'](λ['h']('h', ('g', 'f')))), λ['u']('x')), λ['u']('u'))))), 'm')), 'm'), 'n'))), 'b'), 'a'))), 'a'), 'b'), ((λ['x'](λ['y'](λ['f'](('f', 'x'), 'y'))), 'q'), 'a')), ((('g', (λ['n'](λ['f'](λ['x']('f', (('n', 'f'), 'x')))), 'q')), ((λ['m'](λ['n'](('n', λ['n'](λ['f'](λ['x']((('n', λ['g'](λ['h']('h', ('g', 'f')))), λ['u']('x')), λ['u']('u'))))), 'm')), 'a'), 'b')), 'b')))))), λ['f'](λ['x']('x'))), 'a'), 'b'))), 'x'), 'y'))))))), λ['f'](λ['x']('f', ('f', ('f', ('f', ('f', ('f', ('f', ('f', ('f', ('f', ('f', ('f', ('f', ('f', ('f', ('f', ('f', ('f', ('f', ('f', ('f', ('f', ('f', ('f', ('f', ('f', ('f', ('f', ('f', ('f', ('f', ('f', ('f', ('f', ('f', ('f', ('f', ('f', ('f', ('f', ('f', ('f', 'x')))))))))))))))))))))))))))))))))))))))))))), λ['f'](λ['x']('f', ('f', ('f', ('f', ('f', ('f', ('f', ('f', ('f', ('f', ('f', ('f', ('f', ('f', ('f', ('f', ('f', ('f', ('f', ('f', ('f', ('f', ('f', ('f', ('f', ('f', ('f', ('f', ('f', ('f', ('f', ('f', ('f', ('f', ('f', ('f', ('f', ('f', ('f', ('f', ('f', ('f', ('f', ('f', ('f', ('f', ('f', ('f', ('f', ('f', ('f', ('f', ('f', ('f', ('f', ('f', 'x'))))))))))))))))))))))))))))))))))))))))))))))))))))))))))"
      ]
     },
     "execution_count": 14,
     "metadata": {},
     "output_type": "execute_result"
    }
   ],
   "source": [
    "expr = GCD | N(42) | N(56)\n",
    "\n",
    "expr"
   ]
  },
  {
   "cell_type": "code",
   "execution_count": 15,
   "id": "aa369b44",
   "metadata": {},
   "outputs": [
    {
     "data": {
      "text/latex": [
       "$$\\mathbf{14}$$"
      ],
      "text/plain": [
       "λ['f'](λ['x']('f', ('f', ('f', ('f', ('f', ('f', ('f', ('f', ('f', ('f', ('f', ('f', ('f', ('f', 'x')))))))))))))))"
      ]
     },
     "execution_count": 15,
     "metadata": {},
     "output_type": "execute_result"
    }
   ],
   "source": [
    "start_time_cached = time.time()\n",
    "result_cached, steps_cached = expr.nf(use_cache=True)\n",
    "end_time_cached = time.time()\n",
    "\n",
    "result_cached"
   ]
  },
  {
   "cell_type": "code",
   "execution_count": 16,
   "id": "a5c9f94e",
   "metadata": {},
   "outputs": [],
   "source": [
    "assert result_cached == N(14)"
   ]
  },
  {
   "cell_type": "code",
   "execution_count": 17,
   "id": "62d868a8",
   "metadata": {},
   "outputs": [
    {
     "data": {
      "text/plain": [
       "{'steps': 31976, 'time': '71.13 seconds'}"
      ]
     },
     "execution_count": 17,
     "metadata": {},
     "output_type": "execute_result"
    }
   ],
   "source": [
    "{\"steps\": steps_cached, \"time\": f\"{end_time_cached - start_time_cached:.2f} seconds\"}"
   ]
  },
  {
   "cell_type": "markdown",
   "id": "ab45f163",
   "metadata": {},
   "source": [
    "Non-caching calculation"
   ]
  },
  {
   "cell_type": "code",
   "execution_count": 18,
   "id": "53e89c3f",
   "metadata": {},
   "outputs": [
    {
     "data": {
      "text/latex": [
       "$$\\mathbf{14}$$"
      ],
      "text/plain": [
       "λ['f'](λ['x']('f', ('f', ('f', ('f', ('f', ('f', ('f', ('f', ('f', ('f', ('f', ('f', ('f', ('f', 'x')))))))))))))))"
      ]
     },
     "execution_count": 18,
     "metadata": {},
     "output_type": "execute_result"
    }
   ],
   "source": [
    "start_time = time.time()\n",
    "result, steps = expr.nf()\n",
    "end_time = time.time()\n",
    "\n",
    "result"
   ]
  },
  {
   "cell_type": "code",
   "execution_count": 19,
   "id": "ac959930",
   "metadata": {},
   "outputs": [],
   "source": [
    "assert result == N(14)"
   ]
  },
  {
   "cell_type": "code",
   "execution_count": 20,
   "id": "398958a8",
   "metadata": {},
   "outputs": [
    {
     "data": {
      "text/plain": [
       "{'steps': 139968, 'time': '208.88 seconds'}"
      ]
     },
     "execution_count": 20,
     "metadata": {},
     "output_type": "execute_result"
    }
   ],
   "source": [
    "{\"steps\": steps, \"time\": f\"{end_time - start_time:.2f} seconds\"}"
   ]
  },
  {
   "cell_type": "code",
   "execution_count": null,
   "id": "1a859c5a",
   "metadata": {},
   "outputs": [],
   "source": []
  }
 ],
 "metadata": {
  "kernelspec": {
   "display_name": "prob_env",
   "language": "python",
   "name": "python3"
  },
  "language_info": {
   "codemirror_mode": {
    "name": "ipython",
    "version": 3
   },
   "file_extension": ".py",
   "mimetype": "text/x-python",
   "name": "python",
   "nbconvert_exporter": "python",
   "pygments_lexer": "ipython3",
   "version": "3.11.9"
  }
 },
 "nbformat": 4,
 "nbformat_minor": 5
}
